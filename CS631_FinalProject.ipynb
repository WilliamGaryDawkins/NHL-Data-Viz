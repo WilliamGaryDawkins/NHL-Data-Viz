{
  "nbformat": 4,
  "nbformat_minor": 0,
  "metadata": {
    "colab": {
      "name": "CS631_FinalProject.ipynb",
      "provenance": [],
      "collapsed_sections": [],
      "mount_file_id": "1hEjo13rv5voG2DRSMm6Vhtj4vY4YDkm4",
      "authorship_tag": "ABX9TyO0ZP9OPjaYTt5pqtjGKbF7",
      "include_colab_link": true
    },
    "kernelspec": {
      "name": "python3",
      "display_name": "Python 3"
    },
    "widgets": {
      "application/vnd.jupyter.widget-state+json": {
        "0559b57fd4c648abbb6faadfb6574192": {
          "model_module": "@jupyter-widgets/controls",
          "model_name": "VBoxModel",
          "state": {
            "_view_name": "VBoxView",
            "_dom_classes": [
              "widget-interact"
            ],
            "_model_name": "VBoxModel",
            "_view_module": "@jupyter-widgets/controls",
            "_model_module_version": "1.5.0",
            "_view_count": null,
            "_view_module_version": "1.5.0",
            "box_style": "",
            "layout": "IPY_MODEL_0bf1e51c8b27446b914e03b618b5b1d1",
            "_model_module": "@jupyter-widgets/controls",
            "children": [
              "IPY_MODEL_99fed9cfc70043c68f50026844ed3bbe",
              "IPY_MODEL_57649ddc01354b92b60340564afc0ab5",
              "IPY_MODEL_beb966ba06b04ef69a53b3eb6d0690a8",
              "IPY_MODEL_a43a843f37f8483e8b264274ec0a7c20",
              "IPY_MODEL_88255bbd7fe9424193655f4c2cbd50e3"
            ]
          }
        },
        "0bf1e51c8b27446b914e03b618b5b1d1": {
          "model_module": "@jupyter-widgets/base",
          "model_name": "LayoutModel",
          "state": {
            "_view_name": "LayoutView",
            "grid_template_rows": null,
            "right": null,
            "justify_content": null,
            "_view_module": "@jupyter-widgets/base",
            "overflow": null,
            "_model_module_version": "1.2.0",
            "_view_count": null,
            "flex_flow": null,
            "width": null,
            "min_width": null,
            "border": null,
            "align_items": null,
            "bottom": null,
            "_model_module": "@jupyter-widgets/base",
            "top": null,
            "grid_column": null,
            "overflow_y": null,
            "overflow_x": null,
            "grid_auto_flow": null,
            "grid_area": null,
            "grid_template_columns": null,
            "flex": null,
            "_model_name": "LayoutModel",
            "justify_items": null,
            "grid_row": null,
            "max_height": null,
            "align_content": null,
            "visibility": null,
            "align_self": null,
            "height": null,
            "min_height": null,
            "padding": null,
            "grid_auto_rows": null,
            "grid_gap": null,
            "max_width": null,
            "order": null,
            "_view_module_version": "1.2.0",
            "grid_template_areas": null,
            "object_position": null,
            "object_fit": null,
            "grid_auto_columns": null,
            "margin": null,
            "display": null,
            "left": null
          }
        },
        "99fed9cfc70043c68f50026844ed3bbe": {
          "model_module": "@jupyter-widgets/controls",
          "model_name": "DropdownModel",
          "state": {
            "_options_labels": [
              "20112012",
              "20122013",
              "20132014",
              "20142015",
              "20152016",
              "20162017",
              "20172018",
              "20182019"
            ],
            "_view_name": "DropdownView",
            "style": "IPY_MODEL_17c57da96b82450d88cbc18c2d3a5e63",
            "_dom_classes": [],
            "description": "season",
            "_model_name": "DropdownModel",
            "index": 4,
            "_view_module": "@jupyter-widgets/controls",
            "_model_module_version": "1.5.0",
            "_view_count": null,
            "disabled": false,
            "_view_module_version": "1.5.0",
            "description_tooltip": null,
            "_model_module": "@jupyter-widgets/controls",
            "layout": "IPY_MODEL_bfa970eaf0304d08b1d3719685e90f70"
          }
        },
        "57649ddc01354b92b60340564afc0ab5": {
          "model_module": "@jupyter-widgets/controls",
          "model_name": "DropdownModel",
          "state": {
            "_options_labels": [
              "points",
              "goals",
              "assists",
              "shots",
              "hits",
              "powerPlayGoals",
              "powerPlayAssists",
              "timeOnIce",
              "penaltyMinutes",
              "faceOffWins",
              "faceoffTaken",
              "takeaways",
              "giveaways",
              "shortHandedGoals",
              "shortHandedAssits",
              "blocked",
              "plusMinus",
              "evenTimeOnIce",
              "powerPlayTimeOnIce",
              "shortHandedTimeOnIce"
            ],
            "_view_name": "DropdownView",
            "style": "IPY_MODEL_5f48ba9f771f4ee39634fb35dd12ec01",
            "_dom_classes": [],
            "description": "stat",
            "_model_name": "DropdownModel",
            "index": 4,
            "_view_module": "@jupyter-widgets/controls",
            "_model_module_version": "1.5.0",
            "_view_count": null,
            "disabled": false,
            "_view_module_version": "1.5.0",
            "description_tooltip": null,
            "_model_module": "@jupyter-widgets/controls",
            "layout": "IPY_MODEL_e2a1f47165344555aec288b4eafbd4e1"
          }
        },
        "beb966ba06b04ef69a53b3eb6d0690a8": {
          "model_module": "@jupyter-widgets/controls",
          "model_name": "DropdownModel",
          "state": {
            "_options_labels": [
              "R",
              "P"
            ],
            "_view_name": "DropdownView",
            "style": "IPY_MODEL_aa7fba2b4e2f42a2aab6562d74f6bacb",
            "_dom_classes": [],
            "description": "game_type",
            "_model_name": "DropdownModel",
            "index": 1,
            "_view_module": "@jupyter-widgets/controls",
            "_model_module_version": "1.5.0",
            "_view_count": null,
            "disabled": false,
            "_view_module_version": "1.5.0",
            "description_tooltip": null,
            "_model_module": "@jupyter-widgets/controls",
            "layout": "IPY_MODEL_6ca4417b53f64f1bb4111fabdc6ef2d2"
          }
        },
        "a43a843f37f8483e8b264274ec0a7c20": {
          "model_module": "@jupyter-widgets/controls",
          "model_name": "IntSliderModel",
          "state": {
            "_view_name": "IntSliderView",
            "style": "IPY_MODEL_e2cfddccc6a14e34b60c62a534cf561a",
            "_dom_classes": [],
            "description": "top_num",
            "step": 1,
            "_model_name": "IntSliderModel",
            "orientation": "horizontal",
            "max": 200,
            "_view_module": "@jupyter-widgets/controls",
            "_model_module_version": "1.5.0",
            "value": 10,
            "_view_count": null,
            "disabled": false,
            "_view_module_version": "1.5.0",
            "min": 1,
            "continuous_update": true,
            "readout_format": "d",
            "description_tooltip": null,
            "readout": true,
            "_model_module": "@jupyter-widgets/controls",
            "layout": "IPY_MODEL_2caece26c384438b9378c15adc2b3001"
          }
        },
        "88255bbd7fe9424193655f4c2cbd50e3": {
          "model_module": "@jupyter-widgets/output",
          "model_name": "OutputModel",
          "state": {
            "_view_name": "OutputView",
            "msg_id": "",
            "_dom_classes": [],
            "_model_name": "OutputModel",
            "outputs": [
              {
                "output_type": "display_data",
                "metadata": {
                  "tags": [],
                  "needs_background": "light"
                },
                "image/png": "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\n",
                "text/plain": "<Figure size 1440x720 with 1 Axes>"
              }
            ],
            "_view_module": "@jupyter-widgets/output",
            "_model_module_version": "1.0.0",
            "_view_count": null,
            "_view_module_version": "1.0.0",
            "layout": "IPY_MODEL_8ab7be211dc04cb58c054219cbb82cbe",
            "_model_module": "@jupyter-widgets/output"
          }
        },
        "17c57da96b82450d88cbc18c2d3a5e63": {
          "model_module": "@jupyter-widgets/controls",
          "model_name": "DescriptionStyleModel",
          "state": {
            "_view_name": "StyleView",
            "_model_name": "DescriptionStyleModel",
            "description_width": "",
            "_view_module": "@jupyter-widgets/base",
            "_model_module_version": "1.5.0",
            "_view_count": null,
            "_view_module_version": "1.2.0",
            "_model_module": "@jupyter-widgets/controls"
          }
        },
        "bfa970eaf0304d08b1d3719685e90f70": {
          "model_module": "@jupyter-widgets/base",
          "model_name": "LayoutModel",
          "state": {
            "_view_name": "LayoutView",
            "grid_template_rows": null,
            "right": null,
            "justify_content": null,
            "_view_module": "@jupyter-widgets/base",
            "overflow": null,
            "_model_module_version": "1.2.0",
            "_view_count": null,
            "flex_flow": null,
            "width": null,
            "min_width": null,
            "border": null,
            "align_items": null,
            "bottom": null,
            "_model_module": "@jupyter-widgets/base",
            "top": null,
            "grid_column": null,
            "overflow_y": null,
            "overflow_x": null,
            "grid_auto_flow": null,
            "grid_area": null,
            "grid_template_columns": null,
            "flex": null,
            "_model_name": "LayoutModel",
            "justify_items": null,
            "grid_row": null,
            "max_height": null,
            "align_content": null,
            "visibility": null,
            "align_self": null,
            "height": null,
            "min_height": null,
            "padding": null,
            "grid_auto_rows": null,
            "grid_gap": null,
            "max_width": null,
            "order": null,
            "_view_module_version": "1.2.0",
            "grid_template_areas": null,
            "object_position": null,
            "object_fit": null,
            "grid_auto_columns": null,
            "margin": null,
            "display": null,
            "left": null
          }
        },
        "5f48ba9f771f4ee39634fb35dd12ec01": {
          "model_module": "@jupyter-widgets/controls",
          "model_name": "DescriptionStyleModel",
          "state": {
            "_view_name": "StyleView",
            "_model_name": "DescriptionStyleModel",
            "description_width": "",
            "_view_module": "@jupyter-widgets/base",
            "_model_module_version": "1.5.0",
            "_view_count": null,
            "_view_module_version": "1.2.0",
            "_model_module": "@jupyter-widgets/controls"
          }
        },
        "e2a1f47165344555aec288b4eafbd4e1": {
          "model_module": "@jupyter-widgets/base",
          "model_name": "LayoutModel",
          "state": {
            "_view_name": "LayoutView",
            "grid_template_rows": null,
            "right": null,
            "justify_content": null,
            "_view_module": "@jupyter-widgets/base",
            "overflow": null,
            "_model_module_version": "1.2.0",
            "_view_count": null,
            "flex_flow": null,
            "width": null,
            "min_width": null,
            "border": null,
            "align_items": null,
            "bottom": null,
            "_model_module": "@jupyter-widgets/base",
            "top": null,
            "grid_column": null,
            "overflow_y": null,
            "overflow_x": null,
            "grid_auto_flow": null,
            "grid_area": null,
            "grid_template_columns": null,
            "flex": null,
            "_model_name": "LayoutModel",
            "justify_items": null,
            "grid_row": null,
            "max_height": null,
            "align_content": null,
            "visibility": null,
            "align_self": null,
            "height": null,
            "min_height": null,
            "padding": null,
            "grid_auto_rows": null,
            "grid_gap": null,
            "max_width": null,
            "order": null,
            "_view_module_version": "1.2.0",
            "grid_template_areas": null,
            "object_position": null,
            "object_fit": null,
            "grid_auto_columns": null,
            "margin": null,
            "display": null,
            "left": null
          }
        },
        "aa7fba2b4e2f42a2aab6562d74f6bacb": {
          "model_module": "@jupyter-widgets/controls",
          "model_name": "DescriptionStyleModel",
          "state": {
            "_view_name": "StyleView",
            "_model_name": "DescriptionStyleModel",
            "description_width": "",
            "_view_module": "@jupyter-widgets/base",
            "_model_module_version": "1.5.0",
            "_view_count": null,
            "_view_module_version": "1.2.0",
            "_model_module": "@jupyter-widgets/controls"
          }
        },
        "6ca4417b53f64f1bb4111fabdc6ef2d2": {
          "model_module": "@jupyter-widgets/base",
          "model_name": "LayoutModel",
          "state": {
            "_view_name": "LayoutView",
            "grid_template_rows": null,
            "right": null,
            "justify_content": null,
            "_view_module": "@jupyter-widgets/base",
            "overflow": null,
            "_model_module_version": "1.2.0",
            "_view_count": null,
            "flex_flow": null,
            "width": null,
            "min_width": null,
            "border": null,
            "align_items": null,
            "bottom": null,
            "_model_module": "@jupyter-widgets/base",
            "top": null,
            "grid_column": null,
            "overflow_y": null,
            "overflow_x": null,
            "grid_auto_flow": null,
            "grid_area": null,
            "grid_template_columns": null,
            "flex": null,
            "_model_name": "LayoutModel",
            "justify_items": null,
            "grid_row": null,
            "max_height": null,
            "align_content": null,
            "visibility": null,
            "align_self": null,
            "height": null,
            "min_height": null,
            "padding": null,
            "grid_auto_rows": null,
            "grid_gap": null,
            "max_width": null,
            "order": null,
            "_view_module_version": "1.2.0",
            "grid_template_areas": null,
            "object_position": null,
            "object_fit": null,
            "grid_auto_columns": null,
            "margin": null,
            "display": null,
            "left": null
          }
        },
        "e2cfddccc6a14e34b60c62a534cf561a": {
          "model_module": "@jupyter-widgets/controls",
          "model_name": "SliderStyleModel",
          "state": {
            "_view_name": "StyleView",
            "handle_color": null,
            "_model_name": "SliderStyleModel",
            "description_width": "",
            "_view_module": "@jupyter-widgets/base",
            "_model_module_version": "1.5.0",
            "_view_count": null,
            "_view_module_version": "1.2.0",
            "_model_module": "@jupyter-widgets/controls"
          }
        },
        "2caece26c384438b9378c15adc2b3001": {
          "model_module": "@jupyter-widgets/base",
          "model_name": "LayoutModel",
          "state": {
            "_view_name": "LayoutView",
            "grid_template_rows": null,
            "right": null,
            "justify_content": null,
            "_view_module": "@jupyter-widgets/base",
            "overflow": null,
            "_model_module_version": "1.2.0",
            "_view_count": null,
            "flex_flow": null,
            "width": null,
            "min_width": null,
            "border": null,
            "align_items": null,
            "bottom": null,
            "_model_module": "@jupyter-widgets/base",
            "top": null,
            "grid_column": null,
            "overflow_y": null,
            "overflow_x": null,
            "grid_auto_flow": null,
            "grid_area": null,
            "grid_template_columns": null,
            "flex": null,
            "_model_name": "LayoutModel",
            "justify_items": null,
            "grid_row": null,
            "max_height": null,
            "align_content": null,
            "visibility": null,
            "align_self": null,
            "height": null,
            "min_height": null,
            "padding": null,
            "grid_auto_rows": null,
            "grid_gap": null,
            "max_width": null,
            "order": null,
            "_view_module_version": "1.2.0",
            "grid_template_areas": null,
            "object_position": null,
            "object_fit": null,
            "grid_auto_columns": null,
            "margin": null,
            "display": null,
            "left": null
          }
        },
        "8ab7be211dc04cb58c054219cbb82cbe": {
          "model_module": "@jupyter-widgets/base",
          "model_name": "LayoutModel",
          "state": {
            "_view_name": "LayoutView",
            "grid_template_rows": null,
            "right": null,
            "justify_content": null,
            "_view_module": "@jupyter-widgets/base",
            "overflow": null,
            "_model_module_version": "1.2.0",
            "_view_count": null,
            "flex_flow": null,
            "width": null,
            "min_width": null,
            "border": null,
            "align_items": null,
            "bottom": null,
            "_model_module": "@jupyter-widgets/base",
            "top": null,
            "grid_column": null,
            "overflow_y": null,
            "overflow_x": null,
            "grid_auto_flow": null,
            "grid_area": null,
            "grid_template_columns": null,
            "flex": null,
            "_model_name": "LayoutModel",
            "justify_items": null,
            "grid_row": null,
            "max_height": null,
            "align_content": null,
            "visibility": null,
            "align_self": null,
            "height": null,
            "min_height": null,
            "padding": null,
            "grid_auto_rows": null,
            "grid_gap": null,
            "max_width": null,
            "order": null,
            "_view_module_version": "1.2.0",
            "grid_template_areas": null,
            "object_position": null,
            "object_fit": null,
            "grid_auto_columns": null,
            "margin": null,
            "display": null,
            "left": null
          }
        },
        "54d3780032f547ed92ba961899a013f8": {
          "model_module": "@jupyter-widgets/controls",
          "model_name": "VBoxModel",
          "state": {
            "_view_name": "VBoxView",
            "_dom_classes": [
              "widget-interact"
            ],
            "_model_name": "VBoxModel",
            "_view_module": "@jupyter-widgets/controls",
            "_model_module_version": "1.5.0",
            "_view_count": null,
            "_view_module_version": "1.5.0",
            "box_style": "",
            "layout": "IPY_MODEL_1648a928dd59499ba5b420934f736b3a",
            "_model_module": "@jupyter-widgets/controls",
            "children": [
              "IPY_MODEL_0c4a62b6e1af4558a7c8f365bf3bad45",
              "IPY_MODEL_7e22888efaf844b799dcd870d2c2aa86"
            ]
          }
        },
        "1648a928dd59499ba5b420934f736b3a": {
          "model_module": "@jupyter-widgets/base",
          "model_name": "LayoutModel",
          "state": {
            "_view_name": "LayoutView",
            "grid_template_rows": null,
            "right": null,
            "justify_content": null,
            "_view_module": "@jupyter-widgets/base",
            "overflow": null,
            "_model_module_version": "1.2.0",
            "_view_count": null,
            "flex_flow": null,
            "width": null,
            "min_width": null,
            "border": null,
            "align_items": null,
            "bottom": null,
            "_model_module": "@jupyter-widgets/base",
            "top": null,
            "grid_column": null,
            "overflow_y": null,
            "overflow_x": null,
            "grid_auto_flow": null,
            "grid_area": null,
            "grid_template_columns": null,
            "flex": null,
            "_model_name": "LayoutModel",
            "justify_items": null,
            "grid_row": null,
            "max_height": null,
            "align_content": null,
            "visibility": null,
            "align_self": null,
            "height": null,
            "min_height": null,
            "padding": null,
            "grid_auto_rows": null,
            "grid_gap": null,
            "max_width": null,
            "order": null,
            "_view_module_version": "1.2.0",
            "grid_template_areas": null,
            "object_position": null,
            "object_fit": null,
            "grid_auto_columns": null,
            "margin": null,
            "display": null,
            "left": null
          }
        },
        "0c4a62b6e1af4558a7c8f365bf3bad45": {
          "model_module": "@jupyter-widgets/controls",
          "model_name": "DropdownModel",
          "state": {
            "_options_labels": [
              "20112012",
              "20122013",
              "20132014",
              "20142015",
              "20152016",
              "20162017",
              "20172018",
              "20182019"
            ],
            "_view_name": "DropdownView",
            "style": "IPY_MODEL_b9bf1ffa999f4c0e99679359b2e4209d",
            "_dom_classes": [],
            "description": "season",
            "_model_name": "DropdownModel",
            "index": 7,
            "_view_module": "@jupyter-widgets/controls",
            "_model_module_version": "1.5.0",
            "_view_count": null,
            "disabled": false,
            "_view_module_version": "1.5.0",
            "description_tooltip": null,
            "_model_module": "@jupyter-widgets/controls",
            "layout": "IPY_MODEL_440e258555134192ba7b602805e1c2e2"
          }
        },
        "7e22888efaf844b799dcd870d2c2aa86": {
          "model_module": "@jupyter-widgets/output",
          "model_name": "OutputModel",
          "state": {
            "_view_name": "OutputView",
            "msg_id": "",
            "_dom_classes": [],
            "_model_name": "OutputModel",
            "outputs": [
              {
                "output_type": "display_data",
                "metadata": {
                  "tags": [],
                  "needs_background": "light"
                },
                "image/png": "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\n",
                "text/plain": "<Figure size 1440x720 with 1 Axes>"
              }
            ],
            "_view_module": "@jupyter-widgets/output",
            "_model_module_version": "1.0.0",
            "_view_count": null,
            "_view_module_version": "1.0.0",
            "layout": "IPY_MODEL_fc949700d0884eb58f33c43d5dda7ac2",
            "_model_module": "@jupyter-widgets/output"
          }
        },
        "b9bf1ffa999f4c0e99679359b2e4209d": {
          "model_module": "@jupyter-widgets/controls",
          "model_name": "DescriptionStyleModel",
          "state": {
            "_view_name": "StyleView",
            "_model_name": "DescriptionStyleModel",
            "description_width": "",
            "_view_module": "@jupyter-widgets/base",
            "_model_module_version": "1.5.0",
            "_view_count": null,
            "_view_module_version": "1.2.0",
            "_model_module": "@jupyter-widgets/controls"
          }
        },
        "440e258555134192ba7b602805e1c2e2": {
          "model_module": "@jupyter-widgets/base",
          "model_name": "LayoutModel",
          "state": {
            "_view_name": "LayoutView",
            "grid_template_rows": null,
            "right": null,
            "justify_content": null,
            "_view_module": "@jupyter-widgets/base",
            "overflow": null,
            "_model_module_version": "1.2.0",
            "_view_count": null,
            "flex_flow": null,
            "width": null,
            "min_width": null,
            "border": null,
            "align_items": null,
            "bottom": null,
            "_model_module": "@jupyter-widgets/base",
            "top": null,
            "grid_column": null,
            "overflow_y": null,
            "overflow_x": null,
            "grid_auto_flow": null,
            "grid_area": null,
            "grid_template_columns": null,
            "flex": null,
            "_model_name": "LayoutModel",
            "justify_items": null,
            "grid_row": null,
            "max_height": null,
            "align_content": null,
            "visibility": null,
            "align_self": null,
            "height": null,
            "min_height": null,
            "padding": null,
            "grid_auto_rows": null,
            "grid_gap": null,
            "max_width": null,
            "order": null,
            "_view_module_version": "1.2.0",
            "grid_template_areas": null,
            "object_position": null,
            "object_fit": null,
            "grid_auto_columns": null,
            "margin": null,
            "display": null,
            "left": null
          }
        },
        "fc949700d0884eb58f33c43d5dda7ac2": {
          "model_module": "@jupyter-widgets/base",
          "model_name": "LayoutModel",
          "state": {
            "_view_name": "LayoutView",
            "grid_template_rows": null,
            "right": null,
            "justify_content": null,
            "_view_module": "@jupyter-widgets/base",
            "overflow": null,
            "_model_module_version": "1.2.0",
            "_view_count": null,
            "flex_flow": null,
            "width": null,
            "min_width": null,
            "border": null,
            "align_items": null,
            "bottom": null,
            "_model_module": "@jupyter-widgets/base",
            "top": null,
            "grid_column": null,
            "overflow_y": null,
            "overflow_x": null,
            "grid_auto_flow": null,
            "grid_area": null,
            "grid_template_columns": null,
            "flex": null,
            "_model_name": "LayoutModel",
            "justify_items": null,
            "grid_row": null,
            "max_height": null,
            "align_content": null,
            "visibility": null,
            "align_self": null,
            "height": null,
            "min_height": null,
            "padding": null,
            "grid_auto_rows": null,
            "grid_gap": null,
            "max_width": null,
            "order": null,
            "_view_module_version": "1.2.0",
            "grid_template_areas": null,
            "object_position": null,
            "object_fit": null,
            "grid_auto_columns": null,
            "margin": null,
            "display": null,
            "left": null
          }
        },
        "1cb0e2eede0746deaef3567e34149c3c": {
          "model_module": "@jupyter-widgets/controls",
          "model_name": "VBoxModel",
          "state": {
            "_view_name": "VBoxView",
            "_dom_classes": [
              "widget-interact"
            ],
            "_model_name": "VBoxModel",
            "_view_module": "@jupyter-widgets/controls",
            "_model_module_version": "1.5.0",
            "_view_count": null,
            "_view_module_version": "1.5.0",
            "box_style": "",
            "layout": "IPY_MODEL_d2aded8bd85d4d6aa6dfb42299676997",
            "_model_module": "@jupyter-widgets/controls",
            "children": [
              "IPY_MODEL_ae66a53d08554f41988da5861c6729f9",
              "IPY_MODEL_9bf80e6e3eac4f8e85ab8cc6673d48c5",
              "IPY_MODEL_edec795fd55b4245a944e7f3576251b0"
            ]
          }
        },
        "d2aded8bd85d4d6aa6dfb42299676997": {
          "model_module": "@jupyter-widgets/base",
          "model_name": "LayoutModel",
          "state": {
            "_view_name": "LayoutView",
            "grid_template_rows": null,
            "right": null,
            "justify_content": null,
            "_view_module": "@jupyter-widgets/base",
            "overflow": null,
            "_model_module_version": "1.2.0",
            "_view_count": null,
            "flex_flow": null,
            "width": null,
            "min_width": null,
            "border": null,
            "align_items": null,
            "bottom": null,
            "_model_module": "@jupyter-widgets/base",
            "top": null,
            "grid_column": null,
            "overflow_y": null,
            "overflow_x": null,
            "grid_auto_flow": null,
            "grid_area": null,
            "grid_template_columns": null,
            "flex": null,
            "_model_name": "LayoutModel",
            "justify_items": null,
            "grid_row": null,
            "max_height": null,
            "align_content": null,
            "visibility": null,
            "align_self": null,
            "height": null,
            "min_height": null,
            "padding": null,
            "grid_auto_rows": null,
            "grid_gap": null,
            "max_width": null,
            "order": null,
            "_view_module_version": "1.2.0",
            "grid_template_areas": null,
            "object_position": null,
            "object_fit": null,
            "grid_auto_columns": null,
            "margin": null,
            "display": null,
            "left": null
          }
        },
        "ae66a53d08554f41988da5861c6729f9": {
          "model_module": "@jupyter-widgets/controls",
          "model_name": "DropdownModel",
          "state": {
            "_options_labels": [
              "20112012",
              "20122013",
              "20132014",
              "20142015",
              "20152016",
              "20162017",
              "20172018",
              "20182019"
            ],
            "_view_name": "DropdownView",
            "style": "IPY_MODEL_c66b6a539dd246328bdf339033ac5b13",
            "_dom_classes": [],
            "description": "given_season",
            "_model_name": "DropdownModel",
            "index": 7,
            "_view_module": "@jupyter-widgets/controls",
            "_model_module_version": "1.5.0",
            "_view_count": null,
            "disabled": false,
            "_view_module_version": "1.5.0",
            "description_tooltip": null,
            "_model_module": "@jupyter-widgets/controls",
            "layout": "IPY_MODEL_25cc1e033eaf4f75bedfc21d5c131f44"
          }
        },
        "9bf80e6e3eac4f8e85ab8cc6673d48c5": {
          "model_module": "@jupyter-widgets/controls",
          "model_name": "DropdownModel",
          "state": {
            "_options_labels": [
              "skaters",
              "goalies"
            ],
            "_view_name": "DropdownView",
            "style": "IPY_MODEL_f4a5632f7e5a4055b74266a0ad0c5e2a",
            "_dom_classes": [],
            "description": "player_type",
            "_model_name": "DropdownModel",
            "index": 1,
            "_view_module": "@jupyter-widgets/controls",
            "_model_module_version": "1.5.0",
            "_view_count": null,
            "disabled": false,
            "_view_module_version": "1.5.0",
            "description_tooltip": null,
            "_model_module": "@jupyter-widgets/controls",
            "layout": "IPY_MODEL_d61b584315ec425fbf6d6837a24131be"
          }
        },
        "edec795fd55b4245a944e7f3576251b0": {
          "model_module": "@jupyter-widgets/output",
          "model_name": "OutputModel",
          "state": {
            "_view_name": "OutputView",
            "msg_id": "",
            "_dom_classes": [],
            "_model_name": "OutputModel",
            "outputs": [
              {
                "output_type": "display_data",
                "metadata": {
                  "tags": [],
                  "needs_background": "light"
                },
                "image/png": "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\n",
                "text/plain": "<Figure size 1440x1800 with 2 Axes>"
              }
            ],
            "_view_module": "@jupyter-widgets/output",
            "_model_module_version": "1.0.0",
            "_view_count": null,
            "_view_module_version": "1.0.0",
            "layout": "IPY_MODEL_d1bbf02f6e7340109a733ec17b870c41",
            "_model_module": "@jupyter-widgets/output"
          }
        },
        "c66b6a539dd246328bdf339033ac5b13": {
          "model_module": "@jupyter-widgets/controls",
          "model_name": "DescriptionStyleModel",
          "state": {
            "_view_name": "StyleView",
            "_model_name": "DescriptionStyleModel",
            "description_width": "",
            "_view_module": "@jupyter-widgets/base",
            "_model_module_version": "1.5.0",
            "_view_count": null,
            "_view_module_version": "1.2.0",
            "_model_module": "@jupyter-widgets/controls"
          }
        },
        "25cc1e033eaf4f75bedfc21d5c131f44": {
          "model_module": "@jupyter-widgets/base",
          "model_name": "LayoutModel",
          "state": {
            "_view_name": "LayoutView",
            "grid_template_rows": null,
            "right": null,
            "justify_content": null,
            "_view_module": "@jupyter-widgets/base",
            "overflow": null,
            "_model_module_version": "1.2.0",
            "_view_count": null,
            "flex_flow": null,
            "width": null,
            "min_width": null,
            "border": null,
            "align_items": null,
            "bottom": null,
            "_model_module": "@jupyter-widgets/base",
            "top": null,
            "grid_column": null,
            "overflow_y": null,
            "overflow_x": null,
            "grid_auto_flow": null,
            "grid_area": null,
            "grid_template_columns": null,
            "flex": null,
            "_model_name": "LayoutModel",
            "justify_items": null,
            "grid_row": null,
            "max_height": null,
            "align_content": null,
            "visibility": null,
            "align_self": null,
            "height": null,
            "min_height": null,
            "padding": null,
            "grid_auto_rows": null,
            "grid_gap": null,
            "max_width": null,
            "order": null,
            "_view_module_version": "1.2.0",
            "grid_template_areas": null,
            "object_position": null,
            "object_fit": null,
            "grid_auto_columns": null,
            "margin": null,
            "display": null,
            "left": null
          }
        },
        "f4a5632f7e5a4055b74266a0ad0c5e2a": {
          "model_module": "@jupyter-widgets/controls",
          "model_name": "DescriptionStyleModel",
          "state": {
            "_view_name": "StyleView",
            "_model_name": "DescriptionStyleModel",
            "description_width": "",
            "_view_module": "@jupyter-widgets/base",
            "_model_module_version": "1.5.0",
            "_view_count": null,
            "_view_module_version": "1.2.0",
            "_model_module": "@jupyter-widgets/controls"
          }
        },
        "d61b584315ec425fbf6d6837a24131be": {
          "model_module": "@jupyter-widgets/base",
          "model_name": "LayoutModel",
          "state": {
            "_view_name": "LayoutView",
            "grid_template_rows": null,
            "right": null,
            "justify_content": null,
            "_view_module": "@jupyter-widgets/base",
            "overflow": null,
            "_model_module_version": "1.2.0",
            "_view_count": null,
            "flex_flow": null,
            "width": null,
            "min_width": null,
            "border": null,
            "align_items": null,
            "bottom": null,
            "_model_module": "@jupyter-widgets/base",
            "top": null,
            "grid_column": null,
            "overflow_y": null,
            "overflow_x": null,
            "grid_auto_flow": null,
            "grid_area": null,
            "grid_template_columns": null,
            "flex": null,
            "_model_name": "LayoutModel",
            "justify_items": null,
            "grid_row": null,
            "max_height": null,
            "align_content": null,
            "visibility": null,
            "align_self": null,
            "height": null,
            "min_height": null,
            "padding": null,
            "grid_auto_rows": null,
            "grid_gap": null,
            "max_width": null,
            "order": null,
            "_view_module_version": "1.2.0",
            "grid_template_areas": null,
            "object_position": null,
            "object_fit": null,
            "grid_auto_columns": null,
            "margin": null,
            "display": null,
            "left": null
          }
        },
        "d1bbf02f6e7340109a733ec17b870c41": {
          "model_module": "@jupyter-widgets/base",
          "model_name": "LayoutModel",
          "state": {
            "_view_name": "LayoutView",
            "grid_template_rows": null,
            "right": null,
            "justify_content": null,
            "_view_module": "@jupyter-widgets/base",
            "overflow": null,
            "_model_module_version": "1.2.0",
            "_view_count": null,
            "flex_flow": null,
            "width": null,
            "min_width": null,
            "border": null,
            "align_items": null,
            "bottom": null,
            "_model_module": "@jupyter-widgets/base",
            "top": null,
            "grid_column": null,
            "overflow_y": null,
            "overflow_x": null,
            "grid_auto_flow": null,
            "grid_area": null,
            "grid_template_columns": null,
            "flex": null,
            "_model_name": "LayoutModel",
            "justify_items": null,
            "grid_row": null,
            "max_height": null,
            "align_content": null,
            "visibility": null,
            "align_self": null,
            "height": null,
            "min_height": null,
            "padding": null,
            "grid_auto_rows": null,
            "grid_gap": null,
            "max_width": null,
            "order": null,
            "_view_module_version": "1.2.0",
            "grid_template_areas": null,
            "object_position": null,
            "object_fit": null,
            "grid_auto_columns": null,
            "margin": null,
            "display": null,
            "left": null
          }
        },
        "5275a457bf92431c9fdc6c49f93a4ac8": {
          "model_module": "@jupyter-widgets/controls",
          "model_name": "VBoxModel",
          "state": {
            "_view_name": "VBoxView",
            "_dom_classes": [
              "widget-interact"
            ],
            "_model_name": "VBoxModel",
            "_view_module": "@jupyter-widgets/controls",
            "_model_module_version": "1.5.0",
            "_view_count": null,
            "_view_module_version": "1.5.0",
            "box_style": "",
            "layout": "IPY_MODEL_06038dcb0c99484792337fb42a1dd5f1",
            "_model_module": "@jupyter-widgets/controls",
            "children": [
              "IPY_MODEL_74c4c23c8a0f421eb4b7f8fe138e7b9d",
              "IPY_MODEL_18dbe15f68364d9e96d748ae5c7be730",
              "IPY_MODEL_8ddfbeead17442dab59c01b4ea250376",
              "IPY_MODEL_b5d9781e9e864060a169f3fe53a8b14d",
              "IPY_MODEL_16f1156244e74147b67a9836b28b4dd3"
            ]
          }
        },
        "06038dcb0c99484792337fb42a1dd5f1": {
          "model_module": "@jupyter-widgets/base",
          "model_name": "LayoutModel",
          "state": {
            "_view_name": "LayoutView",
            "grid_template_rows": null,
            "right": null,
            "justify_content": null,
            "_view_module": "@jupyter-widgets/base",
            "overflow": null,
            "_model_module_version": "1.2.0",
            "_view_count": null,
            "flex_flow": null,
            "width": null,
            "min_width": null,
            "border": null,
            "align_items": null,
            "bottom": null,
            "_model_module": "@jupyter-widgets/base",
            "top": null,
            "grid_column": null,
            "overflow_y": null,
            "overflow_x": null,
            "grid_auto_flow": null,
            "grid_area": null,
            "grid_template_columns": null,
            "flex": null,
            "_model_name": "LayoutModel",
            "justify_items": null,
            "grid_row": null,
            "max_height": null,
            "align_content": null,
            "visibility": null,
            "align_self": null,
            "height": null,
            "min_height": null,
            "padding": null,
            "grid_auto_rows": null,
            "grid_gap": null,
            "max_width": null,
            "order": null,
            "_view_module_version": "1.2.0",
            "grid_template_areas": null,
            "object_position": null,
            "object_fit": null,
            "grid_auto_columns": null,
            "margin": null,
            "display": null,
            "left": null
          }
        },
        "74c4c23c8a0f421eb4b7f8fe138e7b9d": {
          "model_module": "@jupyter-widgets/controls",
          "model_name": "DropdownModel",
          "state": {
            "_options_labels": [
              "20112012",
              "20122013",
              "20132014",
              "20142015",
              "20152016",
              "20162017",
              "20172018",
              "20182019"
            ],
            "_view_name": "DropdownView",
            "style": "IPY_MODEL_76047b1da09a412893254faf111af987",
            "_dom_classes": [],
            "description": "season",
            "_model_name": "DropdownModel",
            "index": 0,
            "_view_module": "@jupyter-widgets/controls",
            "_model_module_version": "1.5.0",
            "_view_count": null,
            "disabled": false,
            "_view_module_version": "1.5.0",
            "description_tooltip": null,
            "_model_module": "@jupyter-widgets/controls",
            "layout": "IPY_MODEL_9ae35c24766e4d60aca4fd6446fce977"
          }
        },
        "18dbe15f68364d9e96d748ae5c7be730": {
          "model_module": "@jupyter-widgets/controls",
          "model_name": "TextModel",
          "state": {
            "_view_name": "TextView",
            "style": "IPY_MODEL_648849e9e9784000b9db0726ce761743",
            "_dom_classes": [],
            "description": "name",
            "_model_name": "TextModel",
            "placeholder": "​",
            "_view_module": "@jupyter-widgets/controls",
            "_model_module_version": "1.5.0",
            "value": "Auston Matthews",
            "_view_count": null,
            "disabled": false,
            "_view_module_version": "1.5.0",
            "continuous_update": true,
            "description_tooltip": null,
            "_model_module": "@jupyter-widgets/controls",
            "layout": "IPY_MODEL_d15e02538047468cae658828d8328639"
          }
        },
        "8ddfbeead17442dab59c01b4ea250376": {
          "model_module": "@jupyter-widgets/controls",
          "model_name": "DropdownModel",
          "state": {
            "_options_labels": [
              "Goals",
              "Shots"
            ],
            "_view_name": "DropdownView",
            "style": "IPY_MODEL_490de2a7a0c14b628a33d10a775be685",
            "_dom_classes": [],
            "description": "stat",
            "_model_name": "DropdownModel",
            "index": 0,
            "_view_module": "@jupyter-widgets/controls",
            "_model_module_version": "1.5.0",
            "_view_count": null,
            "disabled": false,
            "_view_module_version": "1.5.0",
            "description_tooltip": null,
            "_model_module": "@jupyter-widgets/controls",
            "layout": "IPY_MODEL_55e06977edfd42faa940addf1f5e8de7"
          }
        },
        "b5d9781e9e864060a169f3fe53a8b14d": {
          "model_module": "@jupyter-widgets/controls",
          "model_name": "DropdownModel",
          "state": {
            "_options_labels": [
              "scatter plot",
              "heat map"
            ],
            "_view_name": "DropdownView",
            "style": "IPY_MODEL_8349a9325df746afa8ac82a4b481360e",
            "_dom_classes": [],
            "description": "plot_type",
            "_model_name": "DropdownModel",
            "index": 0,
            "_view_module": "@jupyter-widgets/controls",
            "_model_module_version": "1.5.0",
            "_view_count": null,
            "disabled": false,
            "_view_module_version": "1.5.0",
            "description_tooltip": null,
            "_model_module": "@jupyter-widgets/controls",
            "layout": "IPY_MODEL_51aa75bca24f444a8d9db5ff5253b75f"
          }
        },
        "16f1156244e74147b67a9836b28b4dd3": {
          "model_module": "@jupyter-widgets/output",
          "model_name": "OutputModel",
          "state": {
            "_view_name": "OutputView",
            "msg_id": "",
            "_dom_classes": [],
            "_model_name": "OutputModel",
            "outputs": [
              {
                "output_type": "display_data",
                "metadata": {
                  "tags": []
                },
                "image/png": "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\n",
                "text/plain": "<Figure size 864x864 with 1 Axes>"
              }
            ],
            "_view_module": "@jupyter-widgets/output",
            "_model_module_version": "1.0.0",
            "_view_count": null,
            "_view_module_version": "1.0.0",
            "layout": "IPY_MODEL_ba02ce1c956a4acbab1355a07d042666",
            "_model_module": "@jupyter-widgets/output"
          }
        },
        "76047b1da09a412893254faf111af987": {
          "model_module": "@jupyter-widgets/controls",
          "model_name": "DescriptionStyleModel",
          "state": {
            "_view_name": "StyleView",
            "_model_name": "DescriptionStyleModel",
            "description_width": "",
            "_view_module": "@jupyter-widgets/base",
            "_model_module_version": "1.5.0",
            "_view_count": null,
            "_view_module_version": "1.2.0",
            "_model_module": "@jupyter-widgets/controls"
          }
        },
        "9ae35c24766e4d60aca4fd6446fce977": {
          "model_module": "@jupyter-widgets/base",
          "model_name": "LayoutModel",
          "state": {
            "_view_name": "LayoutView",
            "grid_template_rows": null,
            "right": null,
            "justify_content": null,
            "_view_module": "@jupyter-widgets/base",
            "overflow": null,
            "_model_module_version": "1.2.0",
            "_view_count": null,
            "flex_flow": null,
            "width": null,
            "min_width": null,
            "border": null,
            "align_items": null,
            "bottom": null,
            "_model_module": "@jupyter-widgets/base",
            "top": null,
            "grid_column": null,
            "overflow_y": null,
            "overflow_x": null,
            "grid_auto_flow": null,
            "grid_area": null,
            "grid_template_columns": null,
            "flex": null,
            "_model_name": "LayoutModel",
            "justify_items": null,
            "grid_row": null,
            "max_height": null,
            "align_content": null,
            "visibility": null,
            "align_self": null,
            "height": null,
            "min_height": null,
            "padding": null,
            "grid_auto_rows": null,
            "grid_gap": null,
            "max_width": null,
            "order": null,
            "_view_module_version": "1.2.0",
            "grid_template_areas": null,
            "object_position": null,
            "object_fit": null,
            "grid_auto_columns": null,
            "margin": null,
            "display": null,
            "left": null
          }
        },
        "648849e9e9784000b9db0726ce761743": {
          "model_module": "@jupyter-widgets/controls",
          "model_name": "DescriptionStyleModel",
          "state": {
            "_view_name": "StyleView",
            "_model_name": "DescriptionStyleModel",
            "description_width": "",
            "_view_module": "@jupyter-widgets/base",
            "_model_module_version": "1.5.0",
            "_view_count": null,
            "_view_module_version": "1.2.0",
            "_model_module": "@jupyter-widgets/controls"
          }
        },
        "d15e02538047468cae658828d8328639": {
          "model_module": "@jupyter-widgets/base",
          "model_name": "LayoutModel",
          "state": {
            "_view_name": "LayoutView",
            "grid_template_rows": null,
            "right": null,
            "justify_content": null,
            "_view_module": "@jupyter-widgets/base",
            "overflow": null,
            "_model_module_version": "1.2.0",
            "_view_count": null,
            "flex_flow": null,
            "width": null,
            "min_width": null,
            "border": null,
            "align_items": null,
            "bottom": null,
            "_model_module": "@jupyter-widgets/base",
            "top": null,
            "grid_column": null,
            "overflow_y": null,
            "overflow_x": null,
            "grid_auto_flow": null,
            "grid_area": null,
            "grid_template_columns": null,
            "flex": null,
            "_model_name": "LayoutModel",
            "justify_items": null,
            "grid_row": null,
            "max_height": null,
            "align_content": null,
            "visibility": null,
            "align_self": null,
            "height": null,
            "min_height": null,
            "padding": null,
            "grid_auto_rows": null,
            "grid_gap": null,
            "max_width": null,
            "order": null,
            "_view_module_version": "1.2.0",
            "grid_template_areas": null,
            "object_position": null,
            "object_fit": null,
            "grid_auto_columns": null,
            "margin": null,
            "display": null,
            "left": null
          }
        },
        "490de2a7a0c14b628a33d10a775be685": {
          "model_module": "@jupyter-widgets/controls",
          "model_name": "DescriptionStyleModel",
          "state": {
            "_view_name": "StyleView",
            "_model_name": "DescriptionStyleModel",
            "description_width": "",
            "_view_module": "@jupyter-widgets/base",
            "_model_module_version": "1.5.0",
            "_view_count": null,
            "_view_module_version": "1.2.0",
            "_model_module": "@jupyter-widgets/controls"
          }
        },
        "55e06977edfd42faa940addf1f5e8de7": {
          "model_module": "@jupyter-widgets/base",
          "model_name": "LayoutModel",
          "state": {
            "_view_name": "LayoutView",
            "grid_template_rows": null,
            "right": null,
            "justify_content": null,
            "_view_module": "@jupyter-widgets/base",
            "overflow": null,
            "_model_module_version": "1.2.0",
            "_view_count": null,
            "flex_flow": null,
            "width": null,
            "min_width": null,
            "border": null,
            "align_items": null,
            "bottom": null,
            "_model_module": "@jupyter-widgets/base",
            "top": null,
            "grid_column": null,
            "overflow_y": null,
            "overflow_x": null,
            "grid_auto_flow": null,
            "grid_area": null,
            "grid_template_columns": null,
            "flex": null,
            "_model_name": "LayoutModel",
            "justify_items": null,
            "grid_row": null,
            "max_height": null,
            "align_content": null,
            "visibility": null,
            "align_self": null,
            "height": null,
            "min_height": null,
            "padding": null,
            "grid_auto_rows": null,
            "grid_gap": null,
            "max_width": null,
            "order": null,
            "_view_module_version": "1.2.0",
            "grid_template_areas": null,
            "object_position": null,
            "object_fit": null,
            "grid_auto_columns": null,
            "margin": null,
            "display": null,
            "left": null
          }
        },
        "8349a9325df746afa8ac82a4b481360e": {
          "model_module": "@jupyter-widgets/controls",
          "model_name": "DescriptionStyleModel",
          "state": {
            "_view_name": "StyleView",
            "_model_name": "DescriptionStyleModel",
            "description_width": "",
            "_view_module": "@jupyter-widgets/base",
            "_model_module_version": "1.5.0",
            "_view_count": null,
            "_view_module_version": "1.2.0",
            "_model_module": "@jupyter-widgets/controls"
          }
        },
        "51aa75bca24f444a8d9db5ff5253b75f": {
          "model_module": "@jupyter-widgets/base",
          "model_name": "LayoutModel",
          "state": {
            "_view_name": "LayoutView",
            "grid_template_rows": null,
            "right": null,
            "justify_content": null,
            "_view_module": "@jupyter-widgets/base",
            "overflow": null,
            "_model_module_version": "1.2.0",
            "_view_count": null,
            "flex_flow": null,
            "width": null,
            "min_width": null,
            "border": null,
            "align_items": null,
            "bottom": null,
            "_model_module": "@jupyter-widgets/base",
            "top": null,
            "grid_column": null,
            "overflow_y": null,
            "overflow_x": null,
            "grid_auto_flow": null,
            "grid_area": null,
            "grid_template_columns": null,
            "flex": null,
            "_model_name": "LayoutModel",
            "justify_items": null,
            "grid_row": null,
            "max_height": null,
            "align_content": null,
            "visibility": null,
            "align_self": null,
            "height": null,
            "min_height": null,
            "padding": null,
            "grid_auto_rows": null,
            "grid_gap": null,
            "max_width": null,
            "order": null,
            "_view_module_version": "1.2.0",
            "grid_template_areas": null,
            "object_position": null,
            "object_fit": null,
            "grid_auto_columns": null,
            "margin": null,
            "display": null,
            "left": null
          }
        },
        "ba02ce1c956a4acbab1355a07d042666": {
          "model_module": "@jupyter-widgets/base",
          "model_name": "LayoutModel",
          "state": {
            "_view_name": "LayoutView",
            "grid_template_rows": null,
            "right": null,
            "justify_content": null,
            "_view_module": "@jupyter-widgets/base",
            "overflow": null,
            "_model_module_version": "1.2.0",
            "_view_count": null,
            "flex_flow": null,
            "width": null,
            "min_width": null,
            "border": null,
            "align_items": null,
            "bottom": null,
            "_model_module": "@jupyter-widgets/base",
            "top": null,
            "grid_column": null,
            "overflow_y": null,
            "overflow_x": null,
            "grid_auto_flow": null,
            "grid_area": null,
            "grid_template_columns": null,
            "flex": null,
            "_model_name": "LayoutModel",
            "justify_items": null,
            "grid_row": null,
            "max_height": null,
            "align_content": null,
            "visibility": null,
            "align_self": null,
            "height": null,
            "min_height": null,
            "padding": null,
            "grid_auto_rows": null,
            "grid_gap": null,
            "max_width": null,
            "order": null,
            "_view_module_version": "1.2.0",
            "grid_template_areas": null,
            "object_position": null,
            "object_fit": null,
            "grid_auto_columns": null,
            "margin": null,
            "display": null,
            "left": null
          }
        },
        "d654a668a4c3453ba487c058a216c5c6": {
          "model_module": "@jupyter-widgets/controls",
          "model_name": "VBoxModel",
          "state": {
            "_view_name": "VBoxView",
            "_dom_classes": [
              "widget-interact"
            ],
            "_model_name": "VBoxModel",
            "_view_module": "@jupyter-widgets/controls",
            "_model_module_version": "1.5.0",
            "_view_count": null,
            "_view_module_version": "1.5.0",
            "box_style": "",
            "layout": "IPY_MODEL_2c259f887d3f4c0b8f9cf220dc7da10e",
            "_model_module": "@jupyter-widgets/controls",
            "children": [
              "IPY_MODEL_0dd108be55614fbe86c075dff2acaf75",
              "IPY_MODEL_d724d095c63b4681bfaeae93cab3a184",
              "IPY_MODEL_a99199df58dc4495b540ec67e70570a7",
              "IPY_MODEL_2f4d35b9019344178aa3c5e923a731af",
              "IPY_MODEL_c6ab863a21ad48539f5d74e43ad3e43f"
            ]
          }
        },
        "2c259f887d3f4c0b8f9cf220dc7da10e": {
          "model_module": "@jupyter-widgets/base",
          "model_name": "LayoutModel",
          "state": {
            "_view_name": "LayoutView",
            "grid_template_rows": null,
            "right": null,
            "justify_content": null,
            "_view_module": "@jupyter-widgets/base",
            "overflow": null,
            "_model_module_version": "1.2.0",
            "_view_count": null,
            "flex_flow": null,
            "width": null,
            "min_width": null,
            "border": null,
            "align_items": null,
            "bottom": null,
            "_model_module": "@jupyter-widgets/base",
            "top": null,
            "grid_column": null,
            "overflow_y": null,
            "overflow_x": null,
            "grid_auto_flow": null,
            "grid_area": null,
            "grid_template_columns": null,
            "flex": null,
            "_model_name": "LayoutModel",
            "justify_items": null,
            "grid_row": null,
            "max_height": null,
            "align_content": null,
            "visibility": null,
            "align_self": null,
            "height": null,
            "min_height": null,
            "padding": null,
            "grid_auto_rows": null,
            "grid_gap": null,
            "max_width": null,
            "order": null,
            "_view_module_version": "1.2.0",
            "grid_template_areas": null,
            "object_position": null,
            "object_fit": null,
            "grid_auto_columns": null,
            "margin": null,
            "display": null,
            "left": null
          }
        },
        "0dd108be55614fbe86c075dff2acaf75": {
          "model_module": "@jupyter-widgets/controls",
          "model_name": "TextModel",
          "state": {
            "_view_name": "TextView",
            "style": "IPY_MODEL_8060685c571b4ab992fc2ccdf812effb",
            "_dom_classes": [],
            "description": "given_home_abrv",
            "_model_name": "TextModel",
            "placeholder": "​",
            "_view_module": "@jupyter-widgets/controls",
            "_model_module_version": "1.5.0",
            "value": "TOR",
            "_view_count": null,
            "disabled": false,
            "_view_module_version": "1.5.0",
            "continuous_update": true,
            "description_tooltip": null,
            "_model_module": "@jupyter-widgets/controls",
            "layout": "IPY_MODEL_8b6c1ec9a52049ca909182dbf927bd1a"
          }
        },
        "d724d095c63b4681bfaeae93cab3a184": {
          "model_module": "@jupyter-widgets/controls",
          "model_name": "TextModel",
          "state": {
            "_view_name": "TextView",
            "style": "IPY_MODEL_6a79ba6fec5043f8b50a3b0dde5eafd7",
            "_dom_classes": [],
            "description": "given_away_abrv",
            "_model_name": "TextModel",
            "placeholder": "​",
            "_view_module": "@jupyter-widgets/controls",
            "_model_module_version": "1.5.0",
            "value": "CHI",
            "_view_count": null,
            "disabled": false,
            "_view_module_version": "1.5.0",
            "continuous_update": true,
            "description_tooltip": null,
            "_model_module": "@jupyter-widgets/controls",
            "layout": "IPY_MODEL_bd1b4868b0be4b2eab432083c0a9c2fc"
          }
        },
        "a99199df58dc4495b540ec67e70570a7": {
          "model_module": "@jupyter-widgets/controls",
          "model_name": "TextModel",
          "state": {
            "_view_name": "TextView",
            "style": "IPY_MODEL_241ccec3451f46888b9f64da2f6d8520",
            "_dom_classes": [],
            "description": "given_date",
            "_model_name": "TextModel",
            "placeholder": "​",
            "_view_module": "@jupyter-widgets/controls",
            "_model_module_version": "1.5.0",
            "value": "2017-10-09",
            "_view_count": null,
            "disabled": false,
            "_view_module_version": "1.5.0",
            "continuous_update": true,
            "description_tooltip": null,
            "_model_module": "@jupyter-widgets/controls",
            "layout": "IPY_MODEL_ed7defa952af4b4fb88f9fe0b8ae6bc2"
          }
        },
        "2f4d35b9019344178aa3c5e923a731af": {
          "model_module": "@jupyter-widgets/controls",
          "model_name": "DropdownModel",
          "state": {
            "_options_labels": [
              "Goal",
              "Shot",
              "Hit",
              "Giveaway",
              "Takeaway"
            ],
            "_view_name": "DropdownView",
            "style": "IPY_MODEL_aa660d3c586c4d6895e9cf80be3596ad",
            "_dom_classes": [],
            "description": "given_event",
            "_model_name": "DropdownModel",
            "index": 2,
            "_view_module": "@jupyter-widgets/controls",
            "_model_module_version": "1.5.0",
            "_view_count": null,
            "disabled": false,
            "_view_module_version": "1.5.0",
            "description_tooltip": null,
            "_model_module": "@jupyter-widgets/controls",
            "layout": "IPY_MODEL_deca12b6e866484a853792450b95979a"
          }
        },
        "c6ab863a21ad48539f5d74e43ad3e43f": {
          "model_module": "@jupyter-widgets/output",
          "model_name": "OutputModel",
          "state": {
            "_view_name": "OutputView",
            "msg_id": "",
            "_dom_classes": [],
            "_model_name": "OutputModel",
            "outputs": [
              {
                "output_type": "display_data",
                "metadata": {
                  "tags": [],
                  "needs_background": "light"
                },
                "image/png": "iVBORw0KGgoAAAANSUhEUgAABI8AAAKKCAYAAAC06HuLAAAABHNCSVQICAgIfAhkiAAAAAlwSFlzAAALEgAACxIB0t1+/AAAADh0RVh0U29mdHdhcmUAbWF0cGxvdGxpYiB2ZXJzaW9uMy4yLjIsIGh0dHA6Ly9tYXRwbG90bGliLm9yZy+WH4yJAAAgAElEQVR4nOzdd5xU1fnH8c8joKCIFDEWNGDDBqJgF8VuYqyxRKIJamIsifnFxJIqRk00JpbEmqKoEUvsESNWFOwgKCKiqHRULIgoKOX5/XHOwJ27M7MzuzM7s7vf9+s1r925c8u5c8vc+9xznmPujoiIiIiIiIiISC6rVLsAIiIiIiIiIiJSuxQ8EhERERERERGRvBQ8EhERERERERGRvBQ8EhERERERERGRvBQ8EhERERERERGRvBQ8EhERERERERGRvNpWuwAi0nhmNgh4MjHoBHcfVp3StHxmtgYwBDgI2BboCrRPjPIzd7+iCkVrFDMbBewZ3053957VK03ltZbjxszaAf2AzYB1gdWBL4BPgNnAWHf/uHollJbMzDYH+gAbAh2BJcDHwFuEfW9hFYtX88ysJ7ANsBGwFvAV4didQvj+vizjstoDu8dlrQN8BMwCxrj7Z+VajjQNMzNgR2BTYAPCeX8WMM7dZ1azbABm1hbYFegJrAcsIJTvOXf/sEzL6ATsQVj/roRzz2zgBXefV45liLQmCh6JNIF48fduEaMuBOYD7wDPA/e5+3OVK5mUysz6AfcBX6/gMoYB308MalBQw8yGADcmBt3k7kMaUzZpHuJNw6HACcD+ZAc3c43/JnAnYR+ZWs+4nnzv7tbAMo5iZbASYC93H1Xp5bZkZjYUOK/Ci+nl7tPqKUcP4AzgWKBHgVGXmtmTwD+Au9zdC4ybaznDyD5X5lwG8CnhpnEi8AIw3N1nlbKsphIfThwCfAvYB/hagdG/NLN7gL+4+7hGLLMbcCFhe62VY5QvzOxe4FfuPqOBy9gI2IEQzNgB6A90SozSoN+n9HmhEZ5y90FlmldOZtaRsN6Z72AHQuBkhXKc12JQ5ufAKen5R8vjcfd7d3+6scsrlZmtDvyW8PuUa/9eYmb/A37j7hMbuIz+wO8Jv3+57neXmtkjwAXu/nxDliHSGqnZmkht6Ui40N4DOBt41sxeNLO+1S1WacxsmJl55lXt8pSLmXUG/ksFA0fNRUvdxi2Bme0GvALcS7gJLRg4ijYHfgO8ZWa3m1mvChaxVTKznsljJgZ6WhQzaxfXaypwFoUDRxBu6vYjBC7Hmdl2FShWW6AboebdEcAlwLR4DutcgeU1mJkdAXwADAcGUzhwBLAaIeDzopldEoMGpS5zD+BVQqAhV+AIQm3F7wKvmNlhJcy7j5n918zeA6YDdxGubfYiO3BUCxZVasZmdo2ZvUYIYo4C/gQcRe7ATmOX1QMYDVxcYP6rEAKTT5rZ78tdhkLMbGtgHHAu+ffvdoTfrhfN7JQS529mdiHwEvBN8leUaBs/H9MSz8UilaKaRyK1bwfCD+hR7v7fahemlTuF7Juh0cCfCc0Hkk0H1ARIqsLMzgEuAtrk+PhdYAbh5rQtoQlbr/g36RjgcMKNqUhRzKwrIWC5R46PPyCcJ+cQHpJsQGjKltxPtwOeM7OT3P3WChe3DaHG0h5mtqu7v1fh5RVrfUKgJu19YHL8244QCNsGyNRSWYUQlOlhZscVW4PLzLYBHgTWTAxeBrwIzCScG3Zi5bmgM3Cnme3n7k8VsYhNCDWomoP7KjjvweQPzJVNrNn0EOHYSpoEvEHYzv0JwVQI+81vzWyxu/+hCcq3HjCScPwnjSPUuO9GuObN7I/tgWvNbIG7Dy9yMdcCP0oN+xJ4DphL2Id3BrrEz9oA55kZ7j60+LURaZ0UPBKpjtmEvAJpnQg1AI4kPJXK1A5cDbjNzHZ099ebpoiSwxGJ/+cCB7h7xZ5WipTCzP4A/DI1+GPCU+673P3tPNP1JwSLTmPlBfWqlSqnVNQVwLAixsvUTsjI95uUS53mXma2JvAosH3qo/8R9r+n3X15app1CLVmzmPlfrcacIuZmbv/u8jyJJ1FqN2SlKl5tD1wIjAg8Vkv4N4YQKq1GpTTgX8C9+T63TezzQgPLw5JDB4MjAUur2/mZtYBuJ/swNEo4CR3fycx3rrA3wjXJRCCV3eb2Vbu/kEpK5TwJWE/2qSB0yc1pJbkpoT9NVmeO8pQllK9QwgYFlM7tBj/IDtwNAsY7O4rjvW43X9OaNKVCT5eaGYvuvtjZSpHHbEp9d1kB44mAse5+6uJ8ToDFwA/Toz3LzN7xd0n1bOMIdQNHF1FaP72aWK8dsCphHNTJjB6npmNd/f7S1oxkVZGwSOR6lhaIGfEq8BdZvYPwoXdGnH4GoQaBYdXvniSZmZtCMmxM0a2tMBRpfM91JqYX6dF5M0xs29TN3B0J3CKu39SaNqYK2Wcmf0Z+BXwM3R90Cy5+3xC3ryCwn1clkK/ScW4iuzA0VLgZHe/Mc/4xMDDlWZ2B+HGPVNjyYC/m9k4d59cYjk+zLMeU4EXzOw64HfA0MRnOxN+V+8pcVmV8iahCend6YBbkru/BRwa1yl5w3yemd2QvFnO4zRg48T754FvuPvi1HLeM7NjCDf+mSZr3QjNjs4sYn2WE2pNvUhoSvQS4TpnV7I7LGiQhuy3ZnZiatD98dippPdYuf4vAS+5+0dmNo0yNIU3swHAdxKD5gMD099PvG650Mw+By7LTE5oztm/seUo4Ahgl8T7d4E9079PcTv8xMyWE/KmQQiuXUD2A7wsMSj2p9Tg37t7nRxw7r4E+Gv87u9j5XXApWY2wt2XFr1WIq2Mch6J1Ch3f5yVP5wZh8Vqv9L0OpNdG2NOtQoikmRmXyfUUEj6J3BsfYGjJHef7+5nAwegppdSJDM7CvheYtBy4PhCgaOk2GTsIEJwIaMDcGusIVA2HpwPjEh99N1yLqcR7gG2dvf/FAocpZxBdoccaxFyueRloVe1cxKDlgM/TAeOMmJZTiX0hpVxaqyVVMjjQCd338bdT3T3a919rLt/Vc90FRNrwByfGjyswovd0t3Xc/dD3P0Cd3/Y3T8q8zLSQZJf1RNYu4KQPD5jezM7tMxlSkqX7/R6fp9+Sah9l3G4hQ5L8vk+0D3xfjyhdlVe7v4AcFNi0GbUn4BfpFVT8Eiktt1EaE6QtHc1CiJ0TL1fUpVSiNR1PiG4mTEeOLWEm88s7v4EIe+ESEExQfNfUoOvdvfbS5mPuy8kNNX+PDF4O2BIowqY3zWp93vmHKuJufucUms9xEDMsNTgXHmnkvYj+0b7EXd/rZ7lvAfclhjUngI1QeI0n7n754XGqYI9yU4k/R7wSCUX6O5zKzl/M+sCHJgY9AnZPa3mKpMTAkhJFQmimlkfspvTTXb3/xWaxt2/AK5LDR5cYJJ0wPRv7r6siOKlm3imA4sikqBq6SI1zN2XmdlTZP9g9q7EssxsQ0L1/a8RciB8TKhdM7oJqnNXRJnXqUU0b6pFZrY2ocnLJoSn5m0IN5EfEJ6ov1qDNyBZYg2JPQg3JesQmgxMJexrOZ/ml2m56xHyxiSd1Nhq98mcJ62VmW0AbE1o2pMJzn1MSDr+XBHNglqDI4ANE+/fJzS5Kpm7z4i9JP0xMfinhDwu5fZS6n03M+vQjJsiv5J6v3494x+cel9sfqlbyW4idwh1A3G1Ll2z5N9FBhlq2TfIvqe7u8jfnfuAL1iZpP0AM1u1AjXD0vtbsQnxbyX7fHAIITF8LumcbY/mHCvF3V81sw8Iv9sAu5vZ2u7+YZFlFGlVFDwSqX3p5KRrl3PmZnY0Ic/JtnlGWWpmo4DfuvvzBeYziDz5C+rpyv0Edx9WVGGLVMZ1GkrdqtYZ55lZrs/Ob649dsTvJPMEfrq790x9PogybuPYRfRvCF0GF6oJu8zMXiY06fhzufIR5FifvPtivnHNbFXgt4Qbqu45Jv3czC4H/lChG9Mfkd2c8ml3H1+B5bR4ZrYKMJCQN2R/svPBpC03sycI27Vg3pbUcZWU7xwCOY6/GnV66v2/3H1BzjGLcy3hnJtJILy1me1V33fcALmay3Shgt21V1j6nFhfc7/9Uu9H5xyrrhcJyaUzSYYHmVm7mEOm5pnZGqxM/J1xU65xm5kGbU93X2xmL7Hy/NSJ0LtesftDsRpavplmNp2VOaF6m9mG7j4zOV5shtklMWihu9dJ7F/AZFYGj9rE8t6Wf3SR1kvN1kRaKTPrZGaPERKV5guyQAgy70voQvmKeINVk1riOrVUsYbBU4SLtPq+/zaEZlR/pG7zwaoxsx7AM4QAWK7AEYRE978BHok9UpXb/qn3N1RgGa3FEEJvU6dQOHAEYZ/dF3jCzP4SE+q3KvFGfNfU4EbdiMfaXOku09M3nuXQKcewitUQbALpXsvezzdi3G7JBM3vu/uMYhbi7l8CExKDVsux7Fp2BNm/IePqa67XTGydev9izrFySz9AS8+rHJLzXE7oEbBYxZSva+p9qbVC0+NX4jsQaRFU80ik9m2Qet/oqrTxJvYpIJ188BPCRccnwHqEJl+rJT7/KaHm03GNLUO5tcR1aqnM7AfAr1ODMzclMwk3cR0JzQ23JveNXrWtATzIyiDlAsJ+No/QRHJnsmsJ7k7IrfCDchUgPm1N947zVLnm3wqlg5iLgEnAXML27QBsBPQlu7bXmYQcaOc2QRlryU5kX0fOdPc3yzDfx8nuNWq3MswzLf078Sm5ayM1F4el3he6Od+c7GbYpTZRfZew7TN6A2+UOI9q+V7qfUuodQTZ6Qyc7ATq9UmPW9bUCDEfU/Lhyvsxn1GxcpXv4dSwL1PvV6M07VPvtyxxepFWQ8EjkRoWn2anmzuU4+L8r2RfPH8GnAXckKx+bmZrEbo1/hkrLza/a2aj3f361DyfB3rF//8MfDvxWS/yK1e78kqs0xWsTETag+yq1ldSN9kkFNFNdjPW6G0c9+kLE58tIWyPq2LS3CyxZ5ztCDdHP2xYsSvifEJ31R8T9rObk83pYiLhXwB/YOV+dpKZXebur5epDNuTHcT4qJHdrUuosXEj8ADwYq5cKGbWmdBc8HeszBVytpnd6+4vpMcnBELaU/w5BOo2Q6pFO6fev1ym+abns4OZrdLQBPB5nJR6PyYmEG52YjLiQYlBTghs55OuKTQz51j5pZsDbVri9FURa4omOxxZQgtomhRzBiYfsMyLNcSKVent2RT723zCfp/5re1iZquV8D2kew3crITyibQqCh6J1LbjCDccSU80ZoZmNpDsHmwWAd9w92fS48YmBD83s3eBvyU++ouZ3ZnsZjUmZ5wWl7EwNZ9pjSlzfSq4TvOJwaAQw8gyvwlv1Nc2s54Nma6chSjTNh5AqFGU8Xt3v7jAMp1wM/lybOpWKzfVmcDRbu5e56l7DCRdbGadCF0OZwwhf8LPUqWT4k4p03xL0sB9E+o+7a22B4Fb6rvhiOeFS8zsaUIerNUINy1nAsfkGP89qPo5pBLStWLLFRSdlHrfgZDPpCxdm5vZEOr22lSJpNwVF4PrV5Fdk+g+d5+eZxIInRIkzStxsenx0/OrVceTXbtwRAtJilzr27Pi5Yudy0xlZdCnDeHhynP1zdzMVge2qm8ZIhIoeCRSo8xsL8JFYdKD7j6nkbM+I/X+/FxBliR3v8rMDgC+FQetQXhy++dGlqVcWuI6JV0aXy3BRqn39xY7YQV6gGmsH+cKHKVcQqjllgmUlLNL8MbmeSiXUppI1KxMkKeE8Z8zs6sJQSOAw0p82t3cdUm9L0uzL3f/0swWkx1c7EoDg0extmM3QhPPE6mbMHmEu9/fkHnXgLMJvTxmLAbOqWeadN64UnM9pZOK10weunqke1kbVo1CVECtb8+mKt8YsmsMHUsRwSPgKOreDzeXfVqkySlJrEh1tDWznjle25jZt81sOKGb0eQP2CLq5okpSUyUmcyN8An5m02kpbtfrokcQS1xnVqZfImma900QmL2gmJNt2Qgs6/lqILSQOmbd3Ud3/SSQYdVqZtLpyVL73+N6WUtLb0vp5eVz41m5skXobbi+8BD1A0cPUrdWkjNgpntA1yUGvwbd3+rnknXSL0v9WY+PX56fjXHzHYiO5fPh4T9oSWo9e3ZVOVL/x7/wMw2LzTjeP2Yq8dLBY9E8lDNI5Hq2IDSntYvAY5391cbudwdyD7u7y32Kbm7v2Jmr7Oyem8fM1vT3T9rZJkaqyWuU0uWblr1ezM7oELd2FfSoyXkYHkD2Cf+355wYVqJfaxZ5mypdTHY15GQCH3V9Mep91sAufIetUTpdS/n/peeV7kCrhnjCQ8ZbmmOuY7MbAvgP4TmORkPApc1YHalrn+lt00lpBNlD0/mQmxhan17VqR87j7SzF4ldGgAobnrf81sX3evk2cpBo7uJne+xmZ3ThBpKgoeidS+V4CT3H1cGeaV7pmp1Juc51kZaFmF8JR9dP7Rm0RLXKe0E9x9WKkTxdweN5a9NI0zkZAbJfOdDwSmmNnfgbvdfXLVSlaaUsqZrkXRifIEj9LNhKqSp8HdG3SzYWajKG8zvrKIzZz2JTRn2IEQEEoHjfIptoZMS1DJ/a9z6v3HZZx3Zv6zm2ngaH1Cb1PJfe1F4DtFrs/nqfcdSixCevw6HR3UEjNbleze+6CEJmsx0XYx90sLq5RDqeLbM3YSkD4mc8qRx60p97cTCE3VMufrzYFJZnYV8D9CDcS1CNcdP2VlM/pZZOcXbckdn4g0ioJHIrXlC8KN5juEIMj97v50GeefbiJUX/X2tHStkVpoctQS16nFcnc3sx8RuuPOXOBtCFwAXGBm7xFyF4wGRpWhtl2llNJELP2Eu12ZypC+eS/q4l7yM7NdgOuBPg2cRaf6R2kx0gGdsgTOzGw16iZTLzaf0lnAXYn3qwDrARsTctplgpW9gIfN7Ah3/28jitukYrfnI4GvJwa/DnzT3dM36fmkxys1cX16/JoOHgEHk50fbqK7jy9h+jFkf9/53ER2xx1NpSm25/+Ru3lXLumHCU22v7n7y2Z2AiE4mPmdXZPQacUv80w2FziZ7GaMCh6J5KHgkUh1THf3nlVYbvrmstQcFQ3NQ1FJLXGdWjR3H2Nmg4AbCLU6ktYl5CU5EsDMphEuyq9M9oRXA8rZbXhDpZPnF8zvIIWZ2YHAfYTe0xqqNeWSnJt6v2WZ5pvu+WgxxQePPsxR8+EdQt6xW8zsKGA44fq3LXCrmfUvIk9Q1cVmNiOAbRKDpwH7u3spycTTv3ml9sqZfsBS67nW0omyb6pKKSqn1rdnk5bP3Yeb2RzgOrLzXOXyFKFJ44ap4e+XVEKRVqQ1XeSIiEiNcPfnCDdB3ybUFMjXLKUn4Ynn22Z2cNOUrtl4mexaTWubWTFPyCXFzLoC/yY7cDSNUCPuG4SbkM5Ae3e3zIvc+TJai+dT77cv03zT83nJ3ZeVY8bu/h/g3MSgNYF/lmPelRSbXt0L7JIY/B6wn7vPLnF2b6fep2+c65MePz2/mmFm3QnHb8ZS4NYqFaci3H0e2Q/N1on7S7EqvT2bfH9z91HA1oTmircCUwnf0eL4/38INdL2dvcZhDykSaXUTBNpVRQ8Emld0lVxS21ikc5pUQs1QVriOrUK7r7M3e9x96MITyP7AqcAt5G7SczdZjawiYtZs2KS8bGpwTWXQ6iZOI3QnXvG7UBvd/+duz/s7m+6+6c5kvGv2XRFrDnPA8mgzkb19W5UpH1S75/JOVbDXU4IvGbsYWbHlHkZZRNzcN0G7JcY/AmhxtHUBsxyCtkJgTcucfp0wPSNBpShqQwmu5XFSHd/r5QZuHvPZMC4wGtIWUtemmTz+1KD2vVuT3cfWuR3UCf/nbt/DMxLDFrXzFYvZ/lyidcXd7j7ce6+mbuv5e4d4v9Hu/uDiU4v0s2U07+rIhIpeCTSusxLvd+0xOnTNwbp+VVDS1ynVseDie5+vbsPBtYBDgUmJUZrB/y5KgWsXY+m3p9YlVI0fwcl/v8U+IG7f1XEdOtWqDw1z90XEpLTJqWbCJXEzNYCDk8NTu/jjRJvGH+VGvz7GKSpKbGnv38BRyQGLyTkOJrYkHnG3EjTE4PWNbON8o2fKs+qhE4lMr6ihmse0fKbrGVMSr3fqYRp0+O+3siy5JIs3yrAgBKmbYryJZfh1F6nKSI1Q8EjkdYl3WNbKRcYADsn/l8OTMgzXlP2YNNU6yTZKrqN41PDB4C9yM6tsqOZfa2Sy25mrie76dqeZtYv38iSVzLoPKaE5MM71z/KCs2uZ68iXJ16f5KZNSZp+KlkJ8h93d2faMT8cnL3kWT3zLk5dXvkqgWXkx0A+RI4zN3TTQZL9VjqfbE1Oncku2nnk7Xa5b2Z9QG2Swz6BHigSsWptAZtTzNrT+hRMuMz6jZHLYeGlm9DQtP1jCmxmVnZxKaNeyUGjXL36fnGF2ntFDwSaV1eIrT5zzi82LbxZtaX0IY84zV3z9fdeFbTjhLb35eqqdZJsjXJNo75HB5KDVZen8jd5xCaWCX908wa1SGGmZXalKW5SzZfLSrpfqwVMriEZaSbvFXyvNhU7gKSOXe+RsgTVbJY++U3qcF/bWC5ivHH1Ptfm1nNXBeb2VBCd+IZS4Fj3P3xMsw+HUQ5rsjp0uPVcjAmXevo9hzNTluKh8i+Dvp2DAzV5zBgjcT7h4uscVmq9H7y3SKnS49Xif3tdLKbNv6rAssQaTFq5kdSRCovPk2/PzGoK+GHsxi/T73/d4Fx071hVKxpRxOuk2Rrsm1M3Zv5SlzcNmfnkb09+gNXxeBGycxsb+DFchSsGUnmTis2b8/x1O0tsJCmPGaahLsvBc5KDf6xmZVUi8fMOgJ3kn0j+wpwY+NKWNADwGuJ91sSEvhXnZmdQXbX6A4Mcff780xSqsfIbqK9v5ltk2/kWKZ1gWMTgxYD95SpPGUVmyCmAw8ttckasSfShxODugAnFJom/j78X2pwRZKJxyaWWceamX0j3/gAZtaBkAMxaXg5y2VmmwHnJAa9TjgPiUgeCh6JtD7pJ7kXmNkOOceMzOxUQv6ZjM8p/HRmSur9XjnHKp+mWCfJ1qBtbGYHmFnRTX1iYs3DEoOWELrelsjd3wVOTg3+EaEb8s7FzsfMOpvZn4CRZCePbg2S+WP6m1nBxONmtiPwt1IWEBOcz0wM2qMW8+yUyt1vI/umcxXgFjMbUsz0sRnqg2Q3OV4MfLdCtSCAkGcNuDg1+NeFgq5mNsjMPPGaVu5ymdnxwBWpwae7e9lu7OO+eEli0CrAP8xstVzjxxpZ15DdIcV1pSafbkL7kx2cneLuL+QbuYU4P/X+D/X0vvlTso+5l6lsTbKhqfdXmVmXAuP/kexaxve5e8G0AqXUuDWznoR8apkaWg78qFabYYrUCgWPRFoZd38auCUxaA3gUTM7Kf3Da2ad4s3kVanZnBV70MgnnWzwMjM7w8z6m9nGZtYz8erY4JWJmmidJFtDt/EuwHNm9ryZ/Z+Z5e0VJjYrHEl2byv/dfeimhW1Ju5+J3BpavCxwFQzO7tQMzQz297MLiAkvj2L7Cr8rcVdqfd3m9kh6ZHMrIOZ/Qx4nHAj/WGJy3k68f8mwF1m9k0z6506ZnqUON9qO41QUyijLXCjmT1kZnvmag5mZt1jDZvJZPcS6MAp7p5OAlwJtwPvJt5vS+jCuyrM7JvADYQeszKuBv6X2j/qexWz/1xDdiB+Z+Dh9Dk51ji6nexE5h9Rt9lfvnVaN1cZqVvzrmO+9SlmOSk1lSjbzAqtW/oaJd82LXit5O5jyW7C3BkYY6keSs2svZn9GrgsOTlwTgyoVso9ZCfY3xh4ykJuqmT51jKzv5HdZHMxdZu05rKzmY03s9PzHQNm1tXMzgReJTs4dZm7jylmRURas9Z4gSgi8GPCRXLf+H4t4J/AJWb2IqEJx7qEG/10u/nb3f3aQjN397fM7GHgwDioK3BlntFPAIaVugI5VHSdJFsZtvFO8XW5mX1IqNL+EbCIsO22pm4X0vOBMxtd+BbK3c82swWEJ9CZm/VuhBoGl5jZ28AMQnOVtoTjYWNyN59aVPkS15QbgJ8Bm8X33YD7zWw64Yn8YsL3tBOQ6WZ6ESHB839KWM7VhDxJmeDAYWTXrMuYTnai2Jrm7gvMbF9CE+JdEx99I77eN7M3CMnvOwIbELrHTl+HfgWc7O5NcrPv7sviw4Tk+f83VC+Xz9HU/U5Op/im2Bn17j/uvsjMDiXc0GcCE4OAN83sBWAWYZ/fmewk2UuAI939gyLLcjvZwcF8vk3+ZoNFN8G10GNfslbxcrIfLlXDkRTfBPPdPMOLuVb6IeG3MxOQ6QE8bWavEbq470jo6Wzt1HS/dfd0Uuuycnc3syMJeSrXj4P7AK+Y2ThCILMbISn7mqnJf1BCMLkf4eHgVfH8PRn4mHDe3gDYHkjX+LwJOLu0NRJpnRQ8EmmF4oX+noQnQcnmRt0IF/r5XA2cUeRiTiLUGimYR6FcmmidJFu5tvHahJuWQmYAh6gXlMLc/UIze5pQq2Dr1MebxFfBWRCaIP2yAsWrWe7+Zaxp9ASwXuKjr5M7QftC4CjCDVkpy3nOzH4B/Im6NzDNmrt/aGZ7Ab8j1GBLJgT/WnwV8ipwUqxB0ZRuJOQXygRRdzCzA9394Rzjph88zM8xTrPh7q+Z2UHAbay8oW8L7JZnkvnAie4+qgmK11DHkL2dHnf3WdUqTFNy94Vxe95Jdk+Q25D7d3o58Ad3v6iJyjfHzA4g1PTsHQcbIaA1IMcki4EzG9FkM9/5O+MrwvnqTxWudSXSYqjZmkgr5e7zgX0IT8FfLTDqMkITjd3c/cfuvrzI+c8hXAx8H7gbeIuQ+Lio6Rui0usk2Rq4ja8CfgDcS3FNft4h1ATY0t1fqW9kWdGMsy/hKf6D1O3lK5c3CDWWNnH341vLzVaSu79BeCr9b7J7LkpaCNwM9M0TXChmOZcRts+lwLOEmmAtohcod//K3X8DbAr8BZhTzyTLCAG77wDbVSFwROyB67LU4N/mGX2n1Pt8tS2bjcT54jrqJnXPWBh6KrUAACAASURBVERIVrytu9/bVGVroJpqstbU3H0mMBA4l1ADLedohONuL3fPt69XhLu/RjjPXgLkq722hFD7b8cSa4W/TQgG15eL63NCbdOt3f0SBY5Eimc6XkQEVnSTvDPh6fCahGq+c4DRsSePZqclrlNLY2abEp5AbkRortYG+IywnV5x97eqWLwWwcxWJVTl35xwLHQg3Ax+QmiaMlb5vrKZWTdgD8JT6w7A+4Qu6Ue7+xfVLFtzY2ZbEJqn9CDko1tKOBdPBV5y98+qWLySmNkTrKzZ+i6weexxrkWw0L37QML5eB3CdpoJjFGuuebHzIwQ8NyUULNsEeE89lIMMlVVzEm5GyGv4bqEh0+zgOfcfV6haYuY9yaE886GhPx0Tnhg9TrwYiWT8Yu0ZAoeiYiIiIgUEIOw8wnBRAi5mf5RxSKJiIg0KTVbExEREREpbAdWBo5mUJ6OHkRERJoNBY9ERERERApL9hh2sbsvqVpJREREqkDBIxERERGRwjLBo9mEZLsiIiKtinIeiYiIiIiIiIhIXqp5JCIiIiIiIiIieSl4JCIiIiIiIiIieSl4JCIiIiIiIiIieSl4JCIiIiIiIiIieSl4JCIiIiIiIiIieSl4JCIiIiIiIiIieSl4JCIiIiIiIiIieSl4JCIiIiIiIiIieSl4JCIiIiIiIiIieSl4JCJlZ2bTzGxatctRC8zMzWxUatjQOHxQdUpVWWY2JK7fkGqXpRRNWe5a/45y7bethZkNi+vfswbK0mq3Q0tS6j5Vi9u9nMeFmQ0ws0fN7MM4zwmNL2FRyy35vFtL54MkMzvDzF43s0WxfP/XyPkNivMZWoay1dz+KyLloeCRSBXFH1ivdjlKZWajmmO5WzMF9JpWOS/Em3MZRJpKfb9LOgfWBjPrBIwAdgRuB84HroufKehQBDP7DnAlsBi4gvAdPl/VQolIq9C22gUQkRZpn2oXoMZdRbhonlHtgohIHb8ELgZmV7sg0mptCXxR7UJUyI7AOsCv3f0PTbzsewlBlrlNvNxy+1bmr7vPKdM8XyTsdx+WaX4i0gIpeCQiZefub1e7DLXM3T9EF2giNcnd59L8by6lGXP3N6pdhgpaP/4tV9CjaO7+KfBpUy+3AtYHKGPgCHf/AmjJ+52IlIGarYk0E2a2mpmda2YTzewLM1tgZqPN7OgC0+xoZneY2Wwz+9LM5prZI+lpYh6Au83sndh+foGZPWNmx6XG6xmbBewZ33viNSoxXs7mAaWsQ2ZZMd9ATzO7PeZHWGxmY83sWzmmWTXmAXjZzD6Jy5hmZveb2b5FfM2Y2eZmdnFcxrz4vU03s7+bWY8806xqZr81s7fj+O+a2YVmtlqe8evkPEqub55p6jTJsOD7ZvZsLOtiM5tpZiPN7Jg4zqA43deBr6e22bDU/LaI3/dMM/vKzN43s+Fm1jtPmTY1s//E7/rzWI6D8n65eZjZmvH7ey3uE5/F7/IOM+ufGK9gM6xCzVLM7Bgze9zMPo7f0zQzu83MBuQZf6/4nX8WyzTCzLYscn2GAU/Gt+elvvNBDV1WKftmqWUosC5rx/nPjcubZGYn5Bl3FTM7xcxeMrOFcZ94ycxONbM61xuxLKPM7GtmdkPc3zL70cA4zhpmdmlcz8zyjypQ3mPN7Ekzmx+382Qz+02+YzHPPHLmODGzQ+I+lPku5pjZU2Z2WpHzXcvMzjKzJ8xsVjzG5pnZA2a2S5Hz+FEs2w9Tw0+Iw79Ir6uZvRC/iw6JYUWd8+O4z5nZ8vT3kfj853HZv0gM6xuPr2nxu5pn4bx8hZm1K3Jdy/K7ZEWeA83sMDP7t5m9GffDz81snIXflJzXy2a2upmdE4/Jz+J+P9nM/mpmXytiHbe18Pu8wMz2SwwvmCvPzI40sxfj9v7Ywu/jBnmWsYOF3/3M+eUxM9vFyph7z8x2MrO7zOy9uF/PNLPrzWz9xDiZ7XRTHHRjYjsMsZW/b3umttHQIpa/sYXz1NS4r3xs4TrjOjPrlhgvb84jM9vXwvXI53H6+8xsi8audzGsyGujzDYD9orvV3xPRSwjc17b2Mx+Ymavxu9qVPw85+9rPIbczNqa2a/M7C0Lx/RMM7vEzFYtYT3PsnAuecbMuhY7nYjUDtU8EmkG4o/zSMLF8RvA1cDqwJHAHWbWz91/lZrmh8C1wDLgAeAtQlXxAcBpwJ2J0a8FJgFPE564dwO+CdxiZr3d/bdxvPmEtvVDCBfi5yfmMa3c6xB9nVCd+h3gFqArcAxwv5nt6+5PJsYdBhwLvAbcDCwiPKHbHTgQeKxQGaMjgFMIN97PAl8BWwM/AA42swHuvqI5i5kZ4bs8FHib0CRtVeBEoE8Ry2uMiwhNbN6NZfgUWA/YATgKuIOwXc4HMsk0r0hMvyJJqZkdCNwDtAP+C0wFehC+j4PMbC93fzkx/mbAc4R95X9xXpsC98X3RYnf38PArnF+/wSWxmXvBYwGxhU7vzzzvxH4PqG21z3AvMT8pwBjU5N9i7A9/0fIxbEV4XjYwcy2ijXHCrkv/v0+8BQwKvHZtEYsq5R9s5Qy5NMZeCYu5y5gNcJ+dYOZLXf3m1Lj3wIMBmYStqMDhwPXEI7B7xZYxmfAbYTj+zvASAsBlevjsAcJ++axhPPFTHfPyvFhZjcAJwCzgLsJ56udgQuAfcxsP3dfWuS6ZzGzk2NZ3iMcHx8Szqd94zKvKWI2WxKO2acJOV8+ATYCDgG+YWYHu/vD9czj8fh3H+AfieGZpsIdgF2I29vM1gL6A6PdfVFi/GLP+ZlxdwZ+CPw6R5lOBr4knH8xs77AC4Tt/wDh/NSJcH44DfgNsKSe9SyljPX9Lk2jiHMgoani8lj22cBawN6E3DI7AMcnC2dmXQjH4raE88gNhGNlE8I+cQ/wfr6VM7N94jifA3u4e7FJo08j7DMPEI7tnQi/idvG39EvE8vYA3gEaBOX9Tbhd+lJ4Ikil1eQmZ0I/J2wDzxAOP43Y+V5aWd3n8HK7dSPcM67n5Xf/4T42XnAdOK+FI2qZ/nrAS8R9rGHCMd+e6AXYZtdBXxUzzyOJPxefhX/ziWcs54DXm3kehdU4rXRqPh3CHX39WJdCQwknIMeIlwjFmN4nO5/wALCsXg24TyY84FChoXg6xXATwj74XfdfXEDyi4i1ebueumlV5VehItrL2K8X8ZxHwLaJoavQ7gwdmDXxPCtCBfnHwNb55hfj9T7TXKMsyrhRmUJsEHqs1GFyh3LNK2R69Az8/0A56XmdUBmXolhaxEu/McCbXKUqVuR22QDYLUcw/cnXGRdmxo+OJblOaB9YnhXwoW6A6NS0wyNwwflWN9hecpV5zsnXBDPAlbPMf7a9W2TxGddCDeyHwJbpT7bBlgIvJwa/kgs709Tww9NbLchRXzffeK49+b4bBWgS+L9oDju0BL2u5PjNC8Ca6U+awOsl3g/JI67FNgnNe4f42dnF7kf1VfWkpfVgH2zYBnqKX9mG/4zeTwRzi1LgddT4x8bx38Z6JgYvgbhmHRgcJ5lXAeskhh+fBz+MSFQkzyuBubaXxLf5z1AhzzH20+LXPdhcfyeiWHjCDeJ69R3rBWY71q5xiUEMucAk/Nsh/T5YzrwAWCJYXMI5+tlwAU5jsffpuZR9DmfcCP+IeGGum1qmsw+dmti2F/isENzLKNLclvX831V/HepiOWtQqgp48BOqc+Gx+HXptcJ6EjifJPep4DjCIGK14GvF7ndM/vxAqBPnrIcnSr7W3H4N1Ljn8LK429QI46LzeN6TM2xPfaJ+2O+Y3VIMetdRLl+Qp7jm3D+6VBo2XFbfRT3qQGp6S9PfE+NWu8C5S/p2qiYfb2e7Tcb6JXj80Hk+L3ILItwDuya+m6nxnVdN992JJw/7o7D/kaRx79eeulVmy81WxNpHk4k/PCe6Ykn5+7+AeGpOoSnXRmnEmoWXuDuk9Izc/dZqfd1chS5+1eEJ2BtKU8C7FLXIWM6cGGqbCMJyaZ3TA4GjHCDtzw9E3cv+OQxMd5sTzy5TQx/hPAU/IDUR5knbr/yxJM0d/+YletVSUvI8eTQ668dk/Q9Qg2Q89z99dR8XiPUcNjOzLYCsNBEaj9CjYKrUuPfT3gaXqpF6QHuvtzdP2nAvJJ+Ev/+yEO+i+T8l3nIb5N2u7s/nhr29/h3x/TIjVT0shqwbzbWF4TjdcX+FfePZ4AtzaxjYtwT499z3X1hYvzPgXPi21zH9xfAWe6ePGaHEwJUXQg3hMnjajThhqpfaj4/jdOc6Nk1bCAchx+Ru+ZTKZaSo8ZMsceau3+aa9x4Pr4L2MLMNipiVk8A3Yk1G+NxuV6cx8tkn68z/2ftY6Wc8+P3fyOwLiEYlfSj+Pf6HOXMdUx/ktrWeTXR71J9y1tOqKkBiePLzNYh1PaZC/wivU7uvjB9vklMey6hZuwLwG7uPr3Eov7V3SemhmVqoSXPGbsSans96e7p2qB/B94scbm5nEqoEfhTT9TIBYjntQcItXDWLMOy6pNrf/s8x/kg7VDCw57h7p6uhTqU3DmSyrneDb02aqg/ufu7DZjunHhdA6w4t99KCFLma/7dlVDj+/A4/U+KPf5FpDap2ZpIjYsXH5sCsz13Es1M1fPtEsN2jn+Laj4Ub1jOIVyMb0Ro+pCUM5dCsRq4DhkTkjevCTMJzTMAcPcFZvZf4GBggpndTWjy9IKHRJDFltUIN5lDCM0RuhBqqGR8lZpke0KwakyO2Y0qdrkNdCshOPK6md1JCNo8l++mpYDM97htnvwSm8e/WxKelGe205g822YUMf9IEV4nNFk41sy+TmjKMAYYG28UG8zM1iDUnHrf3ceXMGn6BgLC/gZhfyinopfVgH2zsd5y9wX1lC8TKMocB6NyjP8UIcCZ6/h+090/Sw5w92Vm9j6whru/k2Oa2YSmOkDIO0P4Pj4E/i98TXV8Sdh/G+pWQo2a183sdsI6PePu80qZiZntRgh07UKoWZDOF7IB9ffC+ARhH9iH0KRm7zj8cUINxjPNbM34ve5N2EYvpspR6jn/WuDnhGDR3XEeaxNuCie7+9OJce+I63ifmd1FuHl8JldwppBK/y7lWF434CxCc5yNCTUr8i1vB8JN89PxJrpYlwOHEb7D47xhTXeKPWesOE+nR3b35Wb2LCvP7Q2V+e3Y08x2yPH5OoRz1OY0ovlxPR4A/gBcbWYHEJqAPUOoHelFTL99/FvnoYe7f2pmE6j7e1aW9W7ktVFDvVj/KDmV+rv4NcJ22Jiwrw9v4HJFpIYoeCRS+9aKf/P1/pMZ3jkxLPN/vV1Nm9nGhIuJLoRgyyOEJ23LCDci3yfkOmmMhqxDxvw80yylbtL/Ywg3G4NZmQtgcbyB+YW7580/kXAZITfGXMJF6GxWPtEcQsgzkLQW8LG758rh8V4Ry2uMnxFyQZ0AnBtfS83sIeDn7j61yPlkEor+sOBYoXo/rNye+b7Potc7Bgr2Bn5HyPFwSfzoMzO7CfhlsiZLiYo+DlLq7HPuvjQGJdrUHb1RSllWqftm2csWZZ6OJ8uXOQ7qBLDi+mRyBKXlC3Qureez5PVLF0Ktw+6EnCll5+6XxXU4DTiDsB3czJ4i1JzKdWOVxcwOJ9QOWgw8SmjW+jkh6DaIcINazLk2mffo8vh3lru/aWaPE/KQ7GlmYwk5sR5K1mhoyDnf3d8xs5HAAWa2SQwEZca7PjXuixYSnv+acEwfH5c7BTjf3W+rbwWb6HcpubzOhLw5veJybyY0m1xKOI/8NLW8hp5b9oh/H2xg4AhyH5f5jknIf54u5vewPpnfjrPqGa9jPZ83mLtPN7MdCbWEDiTkhgOYaWZ/dve/1jOLhvyelWu9G3Nt1FANui5x92L3u4x1CXmoZpH74ZqINEMKHonUvswN1Lp5Pl8vNR6svLjcgPq7Xj2TcCF0grsPS35gZscSLtIbqyHrULJYPX0oMNTMNiRcqA8h5JfoSciXkldsinAGIeH2rukaEfH7SPsU6Gpm7XIEkPKtby6Zqtz5zst1Lh5jrZ8rgCti2XcnJBs+CtjazLbO1cwph8z3vq2750wOmmf8fL0JlbLexKZpPwN+ZmabEm6ifwT8mLDemUS1xXxHyQvc5HHQrDVw32xKeY8DM2sLrE3I1VKpZQOMd/ftC47ZCO5+M3BzDDTsSqh1cyIhufcWRdRCuoBQO2yAu09OfmBm11NkbT13nxMDMXtY6FltEKHGHoSbtK+AfQk3blA3MXJDz/nXEm7Of0gIVJ9MCITdnKOMzwHfiuXrH6f7CTDczOa5e32dFzTF71LSDwiBo/PdfWhqebsQgkdJDT23HEZIrP2veKz8o74JGiFzvOU7T9fbG1wRMsfeWnlqKTaJeDwdE8812xL2/58AV5rZ5+7+rwKTN+T3rFzr3STXRinF1MYqh1cIOfOGAU+b2d55apKKSDOinEciNS7eJL4NbBB7uErbK/59OTEs0wvRN4pYxKbx7905Pst3M7MMwMyKqoXRwHVoFHef6e63EvJUTAV2t0SXvXlsTDgvPpLj5rxH/Dzt5TjN7jk+G1RCkTO5fTZMf2BmnaineYG7f+Du97j70YSbxU0ITbYylpG/1kxmfykYXEvINAHbPc8+MKjI+dTh7lPjhf6ehOY2yRwrhb6jTVn5FDczr88JwZavmVk5q/0XI9Ocr1w1lRqyb5a7DIWMJ5Rvjxyf7RHLULbjOynWTJtECJhWvPtnd5/v7g+5+w8JN0Zdyb3eaZsSmtKkA0f5zh+FPA6sSci90jm+JzbRfZ5QGynZnC1dDijtnA+hx7sZwAlmtj/hnHSnF8hL5u5fuvuz7v47QvAT6uZNyqUSv0uFzoGlLu9FQjB7j9g8tlgzCfvKFOB6Mzu9hGlLteI8nf4g7nO7lmEZpf521Gc5jThfuftSdx/n7pcQkvhDCNgVkjkv1dnOsbfCdH41KNN6V+PaqCm5+78JD7TWJwSQGttMUkSqTMEjkebhBkKzjEuTF8Yx58RvE+NkXEuoTvzbTJLjpHizmTEt/h2UGucA8idpzCSfLia5a0ap61ASM+tuZn1yfLQGoer4UurPCTMt/t09VcaOhISkuWq83Bj/XmRm7RPTdCV0SV2UeBH5BrBbcpvFclxGKt+Hma0W86eQGt6OcDMLIRlxxkdAdzNL5w3JrMN84LxY/T89z1XMbFCirLMIzW56EWoHJcc9lOLzHWFmvWITlbQuhGYiyWSnbxCeph8aa+Jk5tEByNc0ITP8+ngjkFz2Kha6ea6EhhwjhUyLf0vZN8tdhkIyx+4fYw4iYEU+oovj20JP/xvrMkL+oBtizaAsZtbFzBpcK8nM9rLcyZQy+2ExedWmAZuZ2fqJ+RqhtmSd83Q9MrWJfhn/Pp76bBtCd+4fEWoApMsBpZ3zM8mj/05Y58z2vi49npntmuc8k6nZUex3VWoZ69vfC50D8y1vO1Z+xyvEWma3E2qG/DkGY5LTdUyfbxLTziWcIycCV5nZz/OUt7GeIQQm9jKz9IOkk2l8viMIHSYsAS7PFRgws1VjE8ZifUSOhwOFmFn/PN91sfvb/YQHE4PNLJ34eSiphxJROde7otdG1ebudxGar64NPGVmW1e5SCLSCGq2JlIDzGxYgY9PA/5MqEV0KPCKhZw2qxOaJ61D6D1jRZtyd3/dzE4jXNiPN7P7CV32diMk+lzAyida1xBy5vzHQm6gOYQbjwOBOwl5hNIej8u+J5ZlETDd3W8psB4lrUMDbBDXdSIhiexMQrONbxGqhP81XWMjzd3fs5AM9zuEpNuPEC4c9yM0z5hA3aeQtxG+o0OA1+J33Y5wsfQSoQZQsS4l3GA/Y2b/icvcK87vFUJ1/IwOwBgzm0pIyDmd0CXufoTEwA+kajg8Ttj2D5vZ04QEwq+4+3/d/SMzOxK4F3jeQt6USYTq7RsSkoN2i/PPOB14jtBkbv9Yvk0JTXkyicuLsS1hP3oJmEzY/7oT9pN2rMyBhLsvMbMrCRfU483sXsLv2H5xujk55v9PwtPh44G34vaZR3gSujfhonxokWUtxRRCPpTvmNkSwvZx4BYvvXelhu6bZS1DPeUbHgOHRwOTzOy+uKzDCEHGO2JNwIpw9xvMrD/hfPm2hfw8MwiB1F6E2h43Eroob4h7gYVm9jwh0GCE/WoHwvFXXzMsCPmJMufkuwk3n7sRAkelHDMATxJqaawDvOHuyX3/ccI+3R24K0fS4Iac8zP+SchPtgEwMTZPSzsb2NvMRhN6ZFxIyL30DcJN+t9zTJNWid+lvOdAQtO7swjns70Iv5ebEX4/7smzvB/HMp0CDIr73FeE/e0Awm/CqFwr5+7z4nJGEoJP7d39oiK+l6LFpNg/AB4GHoj73NtAX8J543+EbdLg3q/c/Q0zO5FwHp1kZg8TenFrRwjiDSScb7cocpaPE85X/yXUtllCSEr+dIFpjgd+ZGZjCOv3CeF392DCNr6innVYaGYnExK9jzazOwi5hnYnbN+nSdUsLPN6V/raqOrc/YH4+3AvMMrM9nX3dFBbRJoDd9dLL72q9CLcXNX36hzHbQ/8itAMZxHwGSG/xbEF5r8LoRr+B4SL2jmEC8kjU+PtSnha/UlivocRnsI6MDQ1fhtC7ybvEC7uHBiV+HwaMC1HeYpeB0KOIgeG5Vm3UeEUtuJ9Z8JNzROEG+YvCReAowjV163IbbI6cBGhqdtiQhDqakLwJGuZiWlWjct+Jy53WpzHaunvJo4/NA4flGNeJxECN18SElten2vZhIvUswk3ADNiWecRqtOfAqyamu8ahBppswi1sOp8t/E7v4pw47SYEGR8A7gFOCxHWTclJACeT0j8+xxwECHPlANDivi+e8R96Zm4vl/GMv4P+EaO8Y2Qb+Vtwj49A/hT3G4597s43XcJvel8GtftXUIPWtsnxilY7lzbsp5124FwM/Qp4QZtxTZvyLIauG/mLUMR56ac60poquVAz9TwVQjBm7GEp/1fEAIrpwOrlLiMQtsy57rGz75FaF6VOee9R2hidCGwRZHbrc76EY6pewnH+BeEZMrjCcfgmiXsE0MIgb7PCb3D3Qv0Ic85oZ7vaFz8/OrU8HaEgI0Dp+aZtqRzfmrae+M4p+f5fH9CoO71uN99Tghk/hX4egnfVbl/lwqeAwlBvAfivvN5/H5/QIHfojjPXxMeWHwRy/k6IWCxThHHTCfCuc+BC+o5/nPuI/GzQmXciVBT9LP4eoxwbXBVnKZfQ4+LxGd94ufTCefwjwm/89cDe+c4BnKe+wjBkuGE5NXL6tsXE+t3LeEBxseEa4upcR/cpoRl7xf3sS/iPnc/IfhTlvWuZx1Kur6jwDmwIdsvfj4o1/ddaFn5vs9c+29iGZ/F72mHUsqvl1561cbL3NMPpEREpJLM7GJCr3C7eu4n9yIiNSc2z5pKaBK0nlcxSbI0jpk9Qwi8rOUhP5yIiEhBynkkItL0MjkSZlW1FCIipTmS0CzrZgWOap+ZrZ4nB9gQQs2uRxQ4EhGRYqnmkYhIEzGz7xF6QToOGOvuO1W5SCIi9TKzcwn5o04m5Bnbyt1nVLdUUh8z24LQvPJRQo2xtsB2hHw+8wm1Xyfnn4OIiMhKCh6JiDQRM3uSkFdjNPBTd59d5SKJiNTLzJyQR+h14Cx3f7TKRZIimFkXQkcMexI6jliNkAfsMeAid3+7isUTEZFmRsEjERERERERERHJSzmPREREREREREQkLwWPREREREREREQkLwWPREREREREREQkLwWPREREREREREQkLwWPREREREREREQkLwWPREREREREREQkLwWPREREREREREQkLwWPREREREREREQkLwWPREREREREREQkr7bVLkDS2muv7T179qx2MUREREREREREWoxx48Z96O7dGzp9TQWPevbsydixY6tdDBERERERERGRFsPMpjdmejVbExERERERERGRvBQ8EhERERERERGRvBQ8EhERERERERGRvGoq55GIiIiIiIiISDksWbKEWbNmsXjx4moXpcm0b9+eHj160K5du7LOV8EjEREREREREWlxZs2axZprrknPnj0xs2oXp+LcnY8++ohZs2bRq1evss5bzdZEREREREREpMVZvHgx3bp1axWBIwAzo1u3bhWpaaXgkYiIiIiIiIi0SK0lcJRRqfVV8EhEREREREREpAJ69uzJxIkT6devH/369aNr16706tWLfv36se+++wIwadIk9t57b3r37s1mm23GBRdcgLsDMGzYMLp3706/fv3YYostuPzyy1fMe+jQoQwbNqxJ1kPBIxERERERERGRCunTpw8TJkxgwoQJHHLIIVx66aVMmDCBxx57jEWLFnHIIYdw7rnnMmXKFF555RWeffZZrrnmmhXTH3PMMUyYMIFnnnmGiy66iJkzZzb5Oih4JCIiIiIiIiJSAd27dy/4+fDhw9ltt93Yf//9AVh99dW56qqruPjii+uM261bNzbddFPmzp0LQMeOHenQoUP5C52DelsTERERERERkVbvvvGzuXTkFObMX8T6nTtw1gG9OWy7DRo1z5deeqng55MmTaJ///5ZwzbZZBMWLlzIggULsobPmDGDxYsX07dvXwB+8YtfNKpspVDNIxERERERERFp1e4bP5tf3jOR2fMX4cDs+Yv45T0TuW/87GoXjTvuuIO+ffuy6aabctppp9G+ffsmL4OCRyIiIiIiIiLSql06cgqLlizLGrZoyTIuHTmlosvdaqutGDduXNawd955h44dO9KpUycg5Dx69dVXefbZZzn33HN57733KlqmXBQ8EhEREREREZFWbc78RSUNL5fvfve7jBkzhsceewyARYsWccYZZ3D22WfXGXfAgAEcf/zxXHnllRUtUy4KHomIiIiIiIhIq7Z+59yJp/MNL5cOHTpw//33c+GFbp6zNgAAIABJREFUF9K7d2/69OnDDjvswI9//OOc459zzjnceOONfPbZZxUtV5q5e5MusJABAwb42LFjq10MEREREREREWnmJk+ezJZbblnUuJmcR8mmax3ateGPR/RpdNLsppZrvc1snLsPaOg81duaiIiIiIiIiLRqmQBRuXtbaykUPBIRERERERGRVu+w7TZQsCgP5TwSEREREREREZG8FDwSEREREREREZG8FDwSEREREREREZG8FDwSEREREREREZG8FDwSEREREREREamAnj17rvj/zTff5Jvf/CabbbYZ22+/PUcffTTvv/8+o0aN4lvf+lbWdEOGDOGuu+4CYNCgQYwdO7bO/JqSelsTEREREREREamgxYsXc9BBB3HZZZdx8MEHAzBq1CjmzZtX5ZIVRzWPREREREREREQqoHv37gAMHz6cXXbZZUXgCEKNom222aZB82tqqnkkIiIiIiIiIvLqnfD47+HTWbBWD9jnd9D36EbN8qWXXgLgtddeo3///nnHGz16NP369VvxfsaMGXWasiXn19QUPBIRERERERGR1u3VO+G/Z8CSReH9pzPDe2h0AKkYAwcO5MEHH1zxfsiQIRVfZinUbE1EREREREREWrfHf78ycJSxZFEYXgZbb70148aNK8u8qkHBIxERERERERFp3T6dVdrwEg0ePJhnn32WESNGrBj29NNP89prr5Vl/pWm4JGIiIiIiIiItG5r9ShteIk6dOjAgw8+yN/+9jc222wzttpqK6655pqqJcAulbl7tcuwwoABA3zs2LHVLoaIiIiIiIiINHOTJ09myy23LG7kdM4jgHYd4OC/NknOo3LKtd5mNs7dBzR0nqp5JCIiIiIiIiKtW9+jQ6BorQ0BC3+bYeCoUtTbmoiIiIiIiIhI36MVLMpDNY9ERERERERERCQvBY9EREREREREpEWqpTzPTaFS66vgkYiIiIiIiIi0OO3bt+ejjz5qNQEkd+ejjz6iffv2ZZ+3ch6JiIiIiIiISIvTo0cPZs2axbx586pdlCbTvn17evToUfb5KnjUiixbtoyFCxeyYMGCFa/PPvuMBQsWsHjxYtZcc006depEp06d6NWrF127dq12kUVERERERKSFePTRR/n8889p06YNbdq0oUOHDmy44Yb06NGjIrVl2rVrR69evco+39ZIwaMWZtmyZbz99ttMnDiRI488strFEREREREREWmQu+++m759+7LJJptgZtUuTqum4FEz5u688sorPPnkk7z66qtMnDiR119/nUWLFlW7aCIiIiIiIiKN8u1vfxuAddddl913352BAwey++67s+2229KmTZsql651sVpKHDVgwAAfO3ZstYtR0xYuXMhjjz3GiBEjeOihh5gzZ06dcXr06EGfPn2yXr169aJjx46ssopypIuI5JN5oFVDP41Sq7SzSAm0u4iIFLZs2TLmzp3LjBkzVrxmzpzJu+++ywsvvMCHH36YNf6aa67JLrvswsCBAxk4cCC77bYbbduqbkwhZjbO3Qc0eHoFj2rf1KlTGTFiBCNGjOCpp57iq6++WvHZ+uuvz4EHHkj//v3p06cP22yzDV26dKliaUVEmi/d4EnRtLNICbS7iIg0nLvz5ptvMnr0aMaMGcPo0aN55513ssZZZ511OProoxk8eDA777yzmrjloOBRCzVnzhyGDRvGzTffzJQpU1YMNzN23nlnDjroIA466CC23XZbHRgiImWiGzwpmnYWKYF2FxGR8pozZw5jxoxhzJgxjBw5kjfffHPFZ7169eLYY49l8ODBbL311lUsZW1R8KgFWbJkCSNGjOBf//oXDz30EMuXLwegS5cuHHjggXzzm9/kwAMPZO21165ySUVEWibd4EnRtLNICbS7iIhUjrszfvx4hg8fzm233ZaV2qVv374MHjyYY489lo022qiKpaw+BY9agA8++IC///3vXHfddcyePRsIXQoecsghnHTSSey3335qvyki0gR0gydF085SUfeNn82lI6cwZ/4i1u/cgbMO6M1h221Q7WI1mHaXlq+l7bMizdWyZcsYPXo0w4cP56677uKTTz4BQgueww8/nDPPPJNdd921VbbeUfCoGXv55Ze58soruf3221fkMerduzcnn3wyxx9/PN27d69yCUVEWhfd4EnRtLNUzH3jZ/PLeyayaMmyFcM6tGvDH4/o02xvxrW7tGwtcZ8VaQm++uorRo4cya233so999zDkiVLANhpp534+c9/zuGHH96qKmk0NnikrreqYNKkSRxxxBH079+fm2++mSVLlnDwwQfzyCOPMHnyZM4880wFjkRERKRVunTklKybcIBFS5Zx6cgpeaYQqS7tsyK1adVVV+Xggw/m9ttvZ/r06fzqV7+iS5cuvPDCCxx99NFsueWW3HjjjSuCSlKYgkdN6N133+V73/seffr04d5776VDhw787Gc/Y+rUqTzwwAPst99+rbL6nIiIiEjGnPmLShouUm3aZ0Vq33rrrcdFF13EzJkzufrqq9l4442ZOnUqJ554IpttthnXXXcdX375ZbWLWdMUPGoCc+fO5fTTT6d3797ccssttGnThtNOO423336byy67jI033rjaRRQRERGpCet37lDScJFq0z4r0nysscYanHbaaUyZMoVbbrmFLbbYgunTp3PqqafSu3dv7r77bmoptU8tKVvwyMzamNl4M3swvu9lZi+Y2VQzu8PMVi3XspqLjz/+mHPPPZdNNtmEa665hqVLl/K9732PKVOmcPXVV7PeeutVu4giIiIiNeWsA3rToV2brGEd2rXhrAN6V6lEIoVpnxVpftq2bctxxx3Ha6+9xp133sk222zD9OnTOfLII9lvv/2YNGlStYtYc8pZ8+inwOTE+0uAy919U+AT4KQyLqumLVu2jMsvv5yNN96YSy65hEWLFnH44YczceJEbrrppuyaRmYrsyiKSJO4b/xsdrv4CXqdO4LdLn6C+8bPrnaRREr36p1w+TYwtHP4++qdJc+iyY+FMpRZWr7DttuAPx7Rhw06d8CADTp3UOJhqWnaZ0WamcQ9eJs2bTjqqKOYMGEC11xzDV27duXxx/+fvTuPs7ns/zj+OrNgrGPLMihtSvYl2giJsibR3UYlpbu66U6hkhYR7StJpV+rSnapkMpddiERERlr9mUwZr6/Pz6dhrLMcs65zvJ+Ph7ncZY5c85nuM71Pdfne12faxo1a9akZ8+e7Ny503Gw4SMgu635fL4KwChgIHAv0AbYCpT1PO+wz+e7ABjgeV6LE71ONOy2tnTpUm699VbmzJkDQPPmzRk4cCD169c/9i9o+w2RkNKOKHIiEdMlLx4NE+6B9CPqaSQmQZsXoUanbL1EyD8LAYg5rERMY5FwoOYiIhJGTtApb9u2jf79+zNs2DAyMzMpXbo0gwYN4uabbyYuLrKr/oTLbmvPA/cDmX/eLwns9Dzv8J/31wNRPSo7ePAgAwYMoE6dOsyZM4eUlBQmTJjAF198cfzEkYiEnHZEkagw7bGjkzBg96c9lu2XCPlnIQAxi4iIiARTyZIleeWVV1iwYAGNGjVi69atdOvWjQYNGvD999+7Ds+pPCePfD5fa2CL53nzc/n73X0+3zyfzzdv69ateQ3HiR9++IE6derw6KOPkp6eTo8ePVi2bBmtW7d2HZqI/I12RJGosGt9zh4/hpB/FgIQs4iIiEgo1KxZk6+//poPPviAlJQU5s2bx4UXXkivXr04cOCA6/CcCMTMo4uAtj6f7zfgQ6Ap8AKQ7PP5Ev58TgXgmIUUPM973fO8ep7n1StdunQAwgmdffv20atXLy688EKWLVvGWWedxcyZM3n11VcpWrSo6/BE5Bi0I4pEhWIVcvb4MYT8sxCAmEVERERCxefzce2117JixQr69etHQkICzz//PA0aNGDZsmWuwwu5PCePPM/r63leBc/zTgOuBaZ7nnc9MAPo+OfTugDj8vpe4WTatGlUq1aN559/nri4OB544AF+/PFHGjVq5Do0ETkB7YgiAeG68HOz/lYv6EiJSfZ4NoX8sxCAmCU0tKmAiIhIlkKFCjFw4ED+97//ceaZZ7J48WLq1q3Lq6++SiBqSEeKYFZ8egC41+fzrcJqII0M4nuFTGZmJo899hjNmzfnt99+o1atWsyZM4fBgweTlKSZCyLhTjuiSJ75Cz/v+h3w7HrCPaFNINXoZIWmi1UEfHadw8LTIf8sBCBmCT5/IfXUnWl4QOrONPqOWaIEkoiIxLz69euzcOFCbrnlFg4cOMC///1v2rZty5YtW1yHFhIB2W0tUMJ9t7UdO3Zwww03MHnyZHw+H/379+fBBx8kMTEx9y+q7TdERMJGtrrk56r9mTj6m2IVodfSoMQlYShKj98XDZ5O6jHqXqUkJzGrT1MHEUWHKG0uIiKRKQCd8scff0z37t3ZuXMnZcqUYdSoUbRoccLN5Z0Ll93Wot7ChQupW7cukydPpkSJEkyZMoUBAwbkLXEkIiKRR4WfJYppUwEREZGTu+aaa1i8eDGNGzdm8+bNtGzZkl69enHw4EHXoQWNkkfZMGrUKC688ELWrFlD3bp1mT9/fthnFUVEJEhU+FmimDYVEBERyZ6KFSsybdo0nnzyyb+KaTdr1ow//vjDdWhBoeTRCRw8eJAePXrQtWtXDhw4QLdu3fjuu+847bTTXIcm4oSKqIrgpPCzPnsSKtpUQEREJPvi4+Pp27cvs2bNIiUlhVmzZtGwYUNWrFjhOrSAU/LoOH7//XcaNWrEsGHDyJ8/PyNGjGDEiBEUKFDAdWgiTqiIqsifQlz4WZ89CSVtKiAiIpJz559/PrNnz6Z27dr8+uuvXHDBBXz99deuwwooFcw+hkWLFnHFFVewadMmTj31VD799FPq1q0bnDdTBUWJECqiKrEgHLtkffbCVDg2Fglbai4iImEkiJ3y3r17uf766xk/fjyJiYmMGDGCLl26BPx9ckMFswNsxowZNGrUiE2bNtGkSRPmz58fvMSRSARREVURN/TZExEREYkMhQsXZsyYMfTq1Yv09HS6du3KQw89RGZmpuvQ8kzJoyN8/PHHtGzZkj179tCpUyemTJlCyZIlXYclEhZURFXEDX32RERERCJHfHw8zz77LK+++ipxcXEMHDiQ6667jrS0yD7xp+TRn4YNG0bnzp05dOgQd999Nx988AH58+d3HZZI2FARVRE39NkTERERiTw9evRg0qRJFClShI8++ohmzZqxY8cO12HlmpJHwDPPPEOPHj3wPI+BAwfywgsvEBenfxqRI6mIqogb+uyJiIiIRKaWLVsya9YsKlasyPfff0/z5s0jNoEU0wWzPc/jiSeeoH9/2175lVde4c477wzZ+wOqoBhJDh2CPXvg8GG7pKfb/1tCgl0SE6FAAShUKOv/VUQiirpkyTY1FskBNReRCHeycUBCgo0DChfWOCASOOiU161bR5MmTVi9ejV16tThyy+/pESJEiF7f8h7weyEQAYTSTzPo1+/fgwePJi4uDhGjhxJ165dXYclruzdC4sXw7p1sHGjXTZtyrq9cSNs35691ypYEMqWhXLl7HLk7fLloVo1u9aBRURERETErX37YMkSWLv2+OOAbduy91pJSccfB5QrZ+OAChU0DohBlSpVYubMmTRp0oQFCxbQrFkzvvrqq4iqsRyzM48effRRBgwYQEJCAu+++y6dO3cOyfv+g05Fhd6OHbBwISxYYJeFC2HFipP/H8THQ9GiNsPIP9MIICMj6yzEvn2QnUJop5wCderYpXZtu65cWQcSEcfUJUu2qbFIDqi5iISJXbuyxgH+6+XL4WQ7Yf19HJCQYB/sI8cB+/fb5WRKlfrnOOD000FlU0LHYaecmppK06ZN+eWXX6hVqxYzZswgOTk5JO+d15lHMZk8Gj58OHfccQdxcXF8/PHHdOjQIejveVz6NhF8W7bA5Mnw+ecwZw6sWfPP5yQmwnnnwVln/fMMgf9+qVLZ69T37Dn+WYvff4cff7QE1t8lJ9sBpFkzaN0aatRQMkkkxNQlS7apsUgOqLmIOPLHHzBlil3mzIFff/3ncxISoGpVOPvsE48D4uP/+bt/t3fvyccBx1rNULSojQOaNrVxQO3aGgcEk+NOeePGjTRu3JiVK1fSsGFDvvzySwoXLhz091Xy6CTGLkxl6NQVbNiZRvnkJBrlW8OQ3t3JzMxk+PDhdO/ePaDvl2PZbLh//zt6t6iiYqnH43nWMU+caJc5c47+9y1QAGrWzMr416ljiaNQ7a7neTYt1j/zacECmD/fklxHqlDBDh6tW9uBJEnbcosEmwZ4km1qLJIDai4iIeJ5sHRp1jjg+++P/uDlz28naI8cB1SrZuODUMX3++9HjwMWLLDk0pHKl4dWrWwc0KyZ1VSVwAlCp5zT8frvv//OJZdcwtq1a2nSpAmTJk0iKcjjPSWPTmDswlT6jllCWnoGAAfW/8SWjx7GO3yIAQMG8MgjjwTsvXItGw33738H2DbN2m3nCBkZ8OWX8NlnMGkSpKZm/Sx/fmjSxDrfRo3g3HPtDEM48Tw7aPzwg82SmjTJzlb4JSVZAqlNG+jUCYoXdxerSBTTAE+yTY1FckDNRSSIMjNh+nQYM8a+Q69bl/WzxES49FIbBzRubDOM/KUnwsnGjXbCe8oUS3odbyxz7bUQQTVywlaAO+XcjtdXrVpFo0aN2LhxI1deeSVjx44lMYjtU8mjE7ho8HRSd1r9mUNb17L5vfvJPLiPMue3YuMPE/CFw1TAbDTcI/+OI6UkJzGrT9NgRRYZNm6EN9+EESNsNo9fuXJZs3YiMVufmWnrsP1nTY78XBQoAJ07w+23Q8OGmtIqEkAa4Em2qbFIDqi5iATBli3w1lvw+uuwenXW42XKZM3auewyKFLEXYy5caJVFPnzQ8eONg64+GKNA3IrwJ1yXsbry5Yto1GjRmzbto0777yTV155JSAxHYuSRydQuc8kPODw7q1serc3GXv+IOmshpzSvi+/DWkbsPfJk2w0XP/f8Y9fBdYMbhWUsMJaZiZ89RUMHw7jx1uBOrCC0zfdBG3bRt864Y0b7UzEhx/aDCu/6tXt4HHDDVCsmLv4RKKEBniSbWoskgNqLiIB4nkwY4aNAz77DNLT7fFKlbLGAXXrRlfx6c2bbRwwerTVcPV3JOeea+OAm27SqoScCnCnnNfx+uzZs2ncuDEHDx7ktdde44477ghIXP+IJ4/Joyj6VP1T+eQkMtL2sGV0fzL2/EH+ClUp1aY3KSWCX4wqkMonH3vt4/Eej1o7dsBTT1lR6xYtbGqq50GHDjB1KqxaBQMG2NrlaEocgc2kuuUW+OILWLkS7r8fSpe2bUXvusvWRXfrBosWuY5URERERCSwdu2CZ56Bc86xVQWjR1vZirZtbana6tXw+ONQv350JY7AZlJ17WqlLVavhn797LGff4aePW0c0KULzJ3rOtKYldfxeoMGDRgxYgQAd999N19//XWgQguoKPtkHa1n08ps++wJ0rf9TmKpSpS+uj+FChakd4sqrkPLkd4tqpCUeHR1/6TE+Ij7O3Jtzx544gmbWdSnj3WalSrZAWLdOvj0U7j88ug7UBzPmWdaEu33320m0qWX2ragI0fajKuOHWHZMtdRioiIiIjkzb599r23cmW47z745RdISYFHHoHffoNx4+DKK7O3E1o0OO00GDjQxgGffGLL8g4cgHfegfPPh3btYPFi11HGnECM12+88UZ69+7N4cOH6dixI6uPXIoZJqJ62dp9993HM888Q76ipTjl+qFUqlQp/HYp025rx5eWBq+9BoMG2TabYGcaevWCli1j5yCRHStW2L/V8OF2AImLg+uvt5lYp5/uOjqRiKGlJZJtaiySA2oukieLR8O0x2DXeihWAZr1hxqdXEcVXAcPWi2jgQNt2RbYxjf33mv1jMJt8xuXVq2CYcNsLLB/v3U4nTvDo4/C2We7ji48hcFua8eSkZFB27ZtmTx5MtWqVeN///sfRQJYs0s1j45j/PjxtGvXjoSEBGbOnMmFF14YkNcNOH2b+Kf0dCuC/fjjWTsNXHCBHTyaNHEbW7hLTbV/pxEjrBZUQoItZ3voITtLIyInpC5Zsk2NRXJAzUVybfFomHAPpB9RjDcxCdq8GJ0JpMOHbRbNo49m7ZpWr559v23ePPpKUwTSpk120n3YMDh0yE60d+0K/fvbqg3JEsad8q5du2jYsCHLly+nbdu2fPbZZ8QFaIWNah4dw2+//UaXLl0AGDRoUPgmjuRongcff2xrme+4wxIhtWrZLgOzZilxlB0pKfDqqzYT6aabrLj4sGG21K13b1sCKCIiIiKRYdpjRyeOwO5Pe8xNPME0bhycdx7ceqsljqpVs6LYc+ZYiQoljk6sbFl44QWrj9qtmz02cqTVi/3Pf6xulIS9YsWKMX78eJKTkxk/fjwPP/yw65D+EnXJo0OHDtG5c2d27txJmzZt+O9//+s6JMmODRugfXvo1MlqGp1zjhXCmz/fpqbqYJEzp58Oo0bB0qVWA+nAAXj6aTsIT53qOjoRERERyY5d63P2eCTavNnGAO3bW02jM86A996zjWDat9c4IKcqVbJVCD//DNddZ6s6XnwRqlaFCRNcRyfZcNZZZzF69Gji4+N58skn+eSTT1yHBERh8uiBBx5gzpw5VKpUibfffhufOpvw5nnwxhvWmY0fD0WL2nrdJUvgmmtipwh2sJx7rs3mmjvXdqFbt87qRXXtCtu3u45ORERERE6kWIWcPR5JPM+WqPm/rxYqZDNn/EkP1TfNm7POykrCNWhgJ+vbtrV/261bXUcnJ9G8eXOefvppAG6//XY2btzoOKIoSx6NHTuW559/noSEBD766CNKlCjhOiQ5kV9/tQLYt91m0yhbt4affrIlayqCF1j16sHs2TB4MOTPb7OSqla1nepEREREJDw16281jo6UmGSPR7J162yXtC5dYMcOW5a2dCnccw8kJrqOLnItHg3PVYMByXa9eDTUqGElQJ57DgoWhA8+sITd+++HZc0fyfKf//yHli1bsn37drp164bretVRkzxas2YNXbt2BWDIkCE0bNjQbUByfBkZ8OyzUL06zJgBpUpZJzZ+PFSIgrMo4SohAR54AH78ES65xKYId+wIV18NYZDJFhEREZG/qdHJimMXqwj47DqSi2VnZsIrr1hto88/h+LF4e237fZpp7mOLrL5i6vv+h3w7HrCPfZ4fDz07GmrO5o1g23bbGfmtm1hfRQtgYwyPp+PN954g+TkZCZPnsybb77pNh7X2asj5Xa3tYyMDC666CJmz55Nu3bt+OyzzyJnuVoYV3oPiq1bbevIGTPs/nXX2fTUUqXcxhVr/IW0H3gA9u6FkiWtxlTTpq4jE3Eq1rpkyQM1FskBNRcRbIbR9dfDlCl2/+qr4eWXrdCz5N1z1f5MHP1NsYrQa2nWfc+zna3/+19b/ZGcbCfyW7YMXayuRVin/N5773HDDTdQuHBhlixZwmm5TLRqtzXgtddeY/bs2VSoUIG33norchJHsWbBAls+NWMGlCljBdvee0+JIxfi4uDOO22Z4GWX2dmHyy+36awR0omKiIiISIRYuhTq17fEUcmS8MkndlHiKHCyW1zd57Md7ZYts42Jdu60JYSDBmkcEKauu+46rr76avbu3UvXrl3JzMx0EkfEJ482bNhAv379AHj55ZcpXry444jkmP7v/+Cii2x9c4MGtota69auo5JKlWyacN++tpzw3nvhhhtg/37XkYmIiIhINPj4Y2jY0Oqd1qoF8+bZrCMJrJwWVy9f3sqGPPqoJY369bMNi/bsCV6Mkis+n4/XXnuNU045hZkzZ/LSSy85iSPik0e9evViz549tG3blnbt2rkOR/4uPd3W1950k20X360bzJwJKSmuIxO/+Hh48smsXS7ef98Sfb/95joyEREREYlUGRl2grJTJ9i3z5aszZql2kbBkpvi6nFx0L+/rQgpWtQ202nYEFauDG6skmOlS5dm+PDhAPTp04fly5eHPIaITh59/vnnjB49moIFC/Liiy+6Dkf+bssWWwr1wgu2a8KwYfD667bbl4Sfjh3hhx/gjDNsS8969eCrr1xHJSIiIiKRZvt2WxI1eLCdqHzuOVuJULCg68iiV16Kq7duDXPmwDnn2HK2+vVh8uSghyw50759e2666SYOHDhAly5dyMjICOn7R2zB7LS0NKpVq8bq1asZMmQIvXv3DnJ0QRJhxbqybeVKaN4c1q61tcyffgoXXug6KsmOI4sZxsVZwu/WW11HJRIS0dolSxCosUgOqLlITFm71sYBK1dabdPRo6FJE9dRSXbs3g1dusDYsdZxvfgi3HWX66gCL4I75Z07d1KtWjVSU1N5++236dKlS7Z/N2YLZg8cOJDVq1dTrVo1evbs6TocOdKSJbYV/Nq1cP75Vt9IiaPIUby4TV3t1892ZevWzc4WiYiIiIicyIoVcPHFljiqWdPqGylxFDn8S9cee8wSK3ffbeUtIjDJEq2Sk5MZNGgQAA8++CD7Q1irNiKTRz///DNDhgwBYPjw4SQmJjqOSP4yezY0bgybN0OzZjBtmhVjk8gSHw8DB9qSQ7BC2v5ieiIiIiIif7dokZ1AXr/eEkgzZ8Kpp7qOSnIqLg4efthWH/h88OCD0KePxgFh5Prrr6d27dqkpqby/PPPh+x9Iy555Hked955J+np6dx2221cqBkt4eP7722K6o4d0K4dTJwIhQu7jkry4p574K237CAyYIDNRtKBQ0RERESONH++zTDautVqnk6dCsWKuY5K8uK222wjnYQEGDIEevXSOCBMxMXF8fTTTwMwePBgtmzZEpr3Dcm7BNDkyZP5+uuvKVmyJIMHD3Ydjvj98AO0aGFbO14PmjvpAAAgAElEQVR7re3cVaCA66gkELp2hY8+stlIgwfDQw/pwCEiIiIiZsECO4G8c6edQB4/XoWxo8W118KYMZAvn61IuPdejQPCRNOmTWnVqhV79uzh0UcfDcl7RlTyyPM8+ve3rQb79u1LiRIlHEckgC1VOzJx9H//Z7urSfTo2BE+/NASSE8+aVt66sAhIiIiEtsWLoTLLstaeTB6tHZWjjZt2lgdpMREeP55uO8+jQPCxJAhQ4iLi2P48OEsX7486O8XUcmjsWPHsmDBAsqVK0ePHj1chyNgxfCuuMIq83fqZImjhATXUUkwdOwIH3xgCaQnnoCXX3YdkYiIiIi4snYttGxpiaO2bS1xlC+f66gkGFq3zkogPfusLWMT56pWrUq3bt3IyMigT58+QX+/iEkeZWZm/jXrqF+/fhTUVEj3duywjsR//d57ShxFu2uugbfftts9e8LnnzsNR0REREQc2LPHvv9v2WIzjz7+WImjaNemjdVAAujbF8aOdRuPAPDoo49SqFAhxo0bxzfffBPU94qY5NFnn33G0qVLqVixIrfddpvrcCQ93RIJv/wCNWpkFVOT6HfDDbYDQ2YmdO4MP/3kOiIRERERCZWMDPjXv2DpUjjnHCWOYknHjjBokC1bu/56W7YoTpUtW5b7778fgIcffjio7xURySPP8/4qjv3AAw+QX+to3fI8uPtumDYNypSBCROgSBHXUUkoDRhgycPdu+0sxNatriMSERERkVDo3RsmTYISJWwckJzsOiIJpQcegJtugv37bRywYYPriGJer169KFq0KN988w1z584N2vtERPJo2rRpzJs3j9KlS3PzzTe7DkdefBGGD7dieOPGQaVKriOSUIuLs+Vr9evDmjVw1VVw8KDrqEREREQkmEaMgOees9o3Y8bAmWe6jkhCzeeD11+Hiy+G1FQrlL5/v+uoYlqRIkXo3r07AM8880zQ3icikkeDBg0CoGfPnqp15NrkybZFI1jyoEEDp+GIQwULWvKwQgWYNQu6d9fOCyIiIiLRavp0uPNOuz1sGDRu7DYecSd/fvjsM6hcGebNgy5drKSFOHPPPfeQkJDAJ598wtq1a4PyHmGfPFq0aBHTp0+nSJEi3OnvrMSN1avh2mutY3jkEbstsa1cORg/3hJJ77xjs9JEREREJLqsX2/1bg4ftq3ab7nFdUTiWqlSMHEiFC0Kn3wCTz3lOqKYVrFiRTp16kRGRgYvBmlMFvbJo7f/3NmpS5cuJGs9rTsZGdC1q+2s0KGDJY9EAGrXtsQRQJ8+sHy523hEREREJHA8D2691XZYbtkS/qxFK0LVqvDBB3b7kUfgxx/dxhPjevXqBcBbb71FWlpawF8/rJNH6enpvP/ndoBdunRxHE2Me/55+PZbKFvW1rj6fK4jknBy9dWWXDxwwAroHT7sOiIRERERCYRhw+CLL6xA9ptvQny864gknFx5pS1nTE+HG29UHVSH6tWrR7169dixYwejR48O+OuHdfJoypQpbN26lapVq1K3bl3X4cSun36CBx+022+8ASVLuo1HwtPzz1vx9LlzbQtPEREREYlsq1bZMjWA116zkgUifzdkiBVPX7JEK1Qc69GjBwDDhg0L+GuHdfLonT+Xwtx00034NNPFjfR0m0ly8KBNV23VynVEEq6KFYO33rLbjz0GCxa4jUdEREREcs9ftmL/fvjXv6BTJ9cRSbgqVAhGjbIdmYcOhf/9z3VEMatz584UK1aMH374gUWLFgX0tcM2ebR9+3YmTJhAXFwcN9xwg+twYtfAgZYEOPVUePZZ19FIuGvaFO65x5at3XSTLWMTERERkcjzzDO2o265cvDyy66jkXB34YVw//22udJNN8G+fa4jikmFChX6K38S6KVrYZs8+uijjzh06BCXXXYZKSkprsOJTXPnwhNP2O2337ZK+iInM2gQnH22LXd8+GHX0YiIiIhITi1ZkvU9buRIq3ckcjIDBkCNGvDrr5ZIEieuuuoqAMaNGxfQ1w3b5NGoUaMAW7ImDmRmQo8eNl21Vy+49FLXEUmkKFgQ/u//rJjis8/C0qWuIxIRERGR7PI8K4B86BDcfjtccYXriCRS5M9vuzAnJsKrr9pkBAm5Ro0aUaxYMZYtW8aqVasC9rphmTxasWIFs2fPpkiRIn9lzSTEPvwQ5s+H8uWzZh+JZNf551vyMTMTHnjAdTQiIiIikl3jxsF330GpUvDUU66jCYmxC1O5aPB0KveZxEWDpzN2YarrkCJXzZo2+QCgd29LRkpIJSYmcuWVVwKBnX0Ulsmj8ePHA9ChQwcKFizoOJoYdPAg9Otntx9/3GaSiORU//5QpAhMngzTp7uORkREREROJj0968TfI4/YhihRbuzCVPqOWULqzjQ8IHVnGn3HLFECKS/69rWljjNn2lhAQq5du3ZAVm4lEMIyefT1118D0Lx5c7eBxKpXXoG1a+G886BLF9fRSKQqXRr69LHb/uJ5IiIiIhK+Ro6EX36xbde7d3cdTUgMnbqCtPSMox5LS89g6NQVjiKKAsnJWTWz7r/fNtORkLriiitITEzku+++448//gjIa4Zd8ujw4cN89913ADRu3NhxNDFox46sZWpDhljdGpHc6tnTlj7Onw8ffeQ6GhERERE5nj17bLYR2AYo+fK5jSdENuxMy9Hjkk09ekDlyrBsmW2+JCFVtGhRmjRpQmZmJpMmTQrIa4Zd8mjRokXs3r2bM844gwoVKrgOJ/Y8+aQlkJo2VXE8ybuCBW3pI9hSyIMH3cYjIiIiIsf29NOwZQs0aABXX+06mpApn5yUo8clm/Lnt7ElWDmLffvcxhOD2rZtCwSu7lHYJY/8S9Yu1e5eoffbb/Dii3Z7yBDw+ZyGI1GiSxdbAvnbb7YkUkRERETCy8aNljwCGDo0psYBvVtUISnx6NUWSYnx9G5RxVFEUaRTJ6hXz9rXc8+5jibm+JNHX3zxBYcDsHQw7JJHM2fOBLRkzYmnnrItOa+7DurWdR2NRIv4eEtGgk2BPnDAbTwiIiIicrSnn4b9+6FdO7jkEtfRhFT72ikM6lCdlOQkfEBKchKDOlSnfe0U16FFvrg4S0aCXe/Z4zaeGFOxYkUqVarEvn37WLlyZZ5fLyEAMQXUN998Ayh5FHI7d8I779jtBx90G4tEnyuugNq1YeFCq32kQuwiIiIi4WHfPiuUDfDQQ25jcaR97RQli4Ll0kvhootg1ix4912rhSQhU6tWLdatW8ePP/6Y59cKq5lH+/fvZ/fu3Zx++ulUqlTJdTix5a237GxDs2ZQtarraCTa+Hxw9912+6WXwPPcxiMiIiIi5t13YdcuaNjQlhiJBJp/HPDyyxoHhFjNmjUBoi95tHfvXkCzjkIuMzOrFo3/gy0SaNdeCyVL2s5rP/zgOhoRERER8Tw7sQcaB0jwdOhgOzAvWwbTp7uOJqb4k0eLFi3K82uFVfLowJ+1UKpXr+44khgzZQr8+iucdhq0bu06GolWSUlw22122/8lRURERETc+fpr+OknKFsWOnZ0HY1Eq8REuOMOu61xQEjVqlULiMKZR4cOHQLgtNNOy/kvLx4Nz1WDAcl2vXh0YIOLZv4P8J13WnFjkWDp0cMK5338se26IBJGxi5M/ev2RYOnH3VfREQkKvnHAbffDvnyuY1Folv37tbGJkywXZglb7KZ/6hcuTKFCxdmYwDGXmGVPDp48CAAp556as5+cfFomHAP7Pod8Ox6wj1KIGXHihUwdSoUKAC33uo6Gol2lSpB+/Zw+DAMH+46GpG/jF2YSt8xS/66n7ozjb5jliiBJCIi0WvtWhg3DhISLHkkEkxlykCnTlYy5dVXXUcT2XKQ/4iLi/tr6VpehVXyKNczj6Y9BulpRz+WnmaPy4kNG2bX118PJUq4jUViw1132fXw4ZZEEgkDQ6euIC0946jH0tIzGDp1haOIREREguz1120g37EjlCvnOhqJBf5xwBtvwJ8TRyQXcpj/iMrkUWZmJkWKFKF48eI5+8Vd63P2uBjPg08+sdv+WjQiwXbppXDmmbBpE/zvf66jEQFgw860HD0uIiIS0TzPygiAxgESOg0aQPXqsGMHzJjhOprIlcP8x+mnnx6Qtw2r5BHYkjWfz5ezXypWIWePi1mwANavt8r39eu7jkZihc9nS9cAxo51G4vIn8onJ+XocRERkYi2fDmsXGkrDxo1ch2NxJKrrrJrjQNyL4f5j2LFigXkbcMueZSrYtnN+kPi377gJybZ43J848bZdbt2VsRYJFT8yaNx4+zMl4hjvVtUISnx6A0DkhLj6d2iiqOIREREgsg/DmjTxmoeiYTKkeOAzEy3sUSqHOY/lDw6Uo1O0OZFKFYR8Nl1mxftcTk+f7bX/wEWCZWGDeGUU2D1ali61HU0IrSvncKgDtX/up+SnMSgDtVpXzvFYVQiIiJBonGAuFKrlm2is2kTzJnjOprIlMP8R9GiRQPytmGXZi6R26LNNTopWZQTv/4KS5ZA0aJWg0YklOLjoW1bK5Y3dqytfRZx7MhE0aw+TR1GIiIiEkQbNsDs2ZCUBJdf7joaiTX+EhYvvmjjgIYNXUcUmXKQ/4jamUcJmjYZGv6pqq1aQb58bmOR2KS6RyIiIiKhN368XV9+ORQs6DYWiU0aB4RUoGYeKXkUqzRVVVxr1gwKFbLC7evWuY5GREREJDZoHCCuXXIJFC8OK1ZY8XYJqqideRQfH3/yJ0ne7N4Ns2ZBYiK0bOk6GolVBQpktb/PP3cbi4iIiEgsOHAApk+3pUOtW7uORmJVQkJW+5syxW0sMSBqZx7de++9rkOIfgsWWGX7mjWt5pGIKxdfbNdz57qNQ0RERCQWLF4M6elw7rlQqpTraCSWaRwQMoGaoBN2ySMtWwsB/we0fn23cYj426AOGiIiIiLBp3GAhAuNA0Jm165dAXmdsEseSQjMm2fX9eq5jUOkdm2Ii4OlSyEtzXU0IiIiItFN4wAJF9WqQf78sGoV7NjhOpqopuSR5J7OOEi4KFgQzjsPMjJg0SLX0YiIiIhEN40DJFwkJkKtWnZ7/ny3sUS53bt3B+R1lDyKNdu2wZo1kJRka51FXPN/efGfCRMRERGRwNu7F37+2YoV16zpOhoRjQNC5Pzzzw/I6yh5FGv8H8w6dezAIeKaf9q01juLiIiIBM/ChbZpTvXqtuutiGsaB0SUqMkejF2YytCpK9iwM43yyUn0blGF9rVTXIcVfvwfTK1zlnChYnkiIiIiwadxgIQbjQMiSlTMPBq7MJW+Y5aQujMND0jdmUbfMUsYuzDVdWjhZ+lSu65d220cIn41aljR7BUr4NAh19GIiIiIRCeNAyTcVKli5VR+/x0CVJdHgicqkkdDp64gLT3jqMfS0jMYOnWFo4jC2IYNdl2pkts4RPzy5YOyZcHzYPNm19GIiIiIRCeNAyTcxMdDyp+rhfztU8JWVCSPNuw89hbfx3s8pvk/lOXLu41D5Ej+9qiDhoiIiEhwaBwg4UjjgIgRFcmj8slJOXo8ZnmeDhoSnnTQEBEREQkujQMkHGkcEDGiInnUu0UVkhLjj3osKTGe3i2qOIooTO3aBWlpUKSIXUTChQ4aIiIiIsFz8CBs22bLhEqXdh2NSBaNAyJGVOy25t9VTbutnUTqnwXEdbYhMDwPMjIgISo+Rm7522SqitxLjDl82L7I+3yuIxGJLfrsSazxD8zLlbONSiRvNA4IHI0DIkbU9Bzta6cwq09T1gxuxaw+TZU4OhZNVc27PXtg+HCoW9cOFomJVuz5vvvgl19cRxe5dMZBYoXnwXffwY032gzQxEQoUACuuALGjrUBrYgEx/LlcO+9cMop9tlLSLBtokeMgL17XUcnElwaB+Tdvn0wciScf771IYmJNourZ0/4+WfX0UUujQMiRtQkjyQbdNDImyVLoGpVuOMOWLAAMjPt8c2b4Zln4Nxz4cUX3cYYqbTLgsSC9HS45Ra45BJ4992sweqhQ/D553DVVdCkiS0rEJHAeuYZO4Y/9xxs3WqPZWbCvHnQvTtUqwbLlrmNUSSY/N+xUnSCPVeWL4fq1aFbN5g712YdAfzxB7zwgvUvQ4a4jTFSaRwQMZQ8iiX+L0unnOI2jkj066/QrBmsX3/852Rmwn/+A8OGhS6uaOFvk/42KhJtPM++cL799omf9913Ngtp//6QhCUSE1580WYIe97xn7N2LTRtCr/9FrKwRELK/x1L9Y5y7vffrX9Ys+bEz3vgAUtUS85oHBAxlDyKJenpdp0/v9s4ItGAAdnv0O6/35a3Sfbly2fX/jYqEm1mz4Z33snec+fOPXmSSUSyZ+dO6Ns3e8/dvBkefzy48Yi4onFA7j3xBGzcmL3nPvSQZhDnlMYBEUPJo1jir6Whwm45s3kzfPRR9p+/Z0/2B4li/G1S9V4kWr30Us6e//LLJ54lISLZ89ZbOZvJ9/77GvhJdPJ/x0pMdBtHpNmxw5aaZ9eBA/Dmm8GLJxppHBAxlDyKJf5srg4aOfP11znPhH/+eVBCiVr+NqkzDhKtpk7N2fN//hnWrQtOLCKxJKefvQMHYObM4MQi4pL/O5ZOIufMd9/lfCm5xgE5o3FAxFDyKJb4C7tpe86cyc0OLNq1JWf8bdLfRkWijfoRETf02RMx/u9Y8fFu44g06kOCT+OAiKEsQizxn2nQBzNnSpTI+e+ULBn4OKKZv03qbJhEq9z0I7n5HRE5mo7hIkZLg3JHfUjwaRwQMZQ8iiX+D6SmBOZM8+ZQrFjOfueaa4ITS7TSVGqJdjntEy6+GMqVC04sIrEkp5+9EiVsVyWRaKPkUe40bgylSuXsdzQOyBmNAyJG1CSPxi5M5aLB06ncZxIXDZ7O2IWprkMKP/71pDpo5EzhwnDzzdl/fvny0KFD8OKJRiriKNHurrty9vy77w5OHCKxplOnrG2gs6NbN0hKCl48Iq6orkzuFCgA3btn//klS8K11wYvnmikcUDEiIrk0diFqfQds4TUnWl4QOrONPqOWaIE0t/5t+ZMS3MbRyR65BGoVu3kz0tMtC221fnlzIEDdu3fqlMk2px1FgwalL3nduoEHTsGNx6RWJE/vx2Xs1PnpWZNePDBoIck4oTGAbnXpw/UqXPy58XF2Q6PSkDnjMYBESMqkkdDp64gLf3oOj5p6RkMnbrCUURhqkwZu960yW0ckSg5GaZPt6mrx1OyJEyebMvcJGf8bbJsWbdxiATTAw/Ac8+d+MvR7bfblsDa2EAkcK64AiZOPHHtkmbN7DhftGjo4hIJJf84YPNmt3FEoiJF4Kuv4PLLj/+c5GQYPx7atAldXNFC44CIERULCzfsPHYG/XiPx6zy5e16wwa3cUSq0qVhxgyYPRtefx0WLbKpv+XLw4032kyBAgVcRxmZ/G3S30ZFopHPBz17wg03wKhR8NlnsGMHFCpkA9fbboPTT3cdpUh0atkS1q+H0aPhvfdg40ZL5NaubUnbevXsMyoSrTQOyJvixWHqVJg/H4YPt+uDB60+4fXX26zhggVdRxmZNA6IGHlOHvl8vorAO0AZwANe9zzvBZ/PVwL4CDgN+A3o5Hnejry+37GUT04i9RiJovLJmjJ4FB008s7ng4YN7SKBo4OGxJJSpeC//7WLiIROUhJ06WIXkVijcUBg1K1rJ5ElcDQOiBiBmBd/GPiv53lVgYbAv30+X1WgDzDN87yzgGl/3g+K3i2qkJR49Fr2pMR4ereoEqy3jEz+nXs2bADPcxuLyJF00BAREREJnjJl7CTo5s3aPEfCi8YBESPPySPP8zZ6nrfgz9t7gJ+BFKAdMOrPp40C2uf1vY6nfe0UBnWoTkpyEj4gJTmJQR2q0752SrDeMjIVKWKXAwdg507X0Yhk0UFDREREJHgSE23nQc9T3SMJLxoHRIyA1jzy+XynAbWB2UAZz/M2/vmjTdiytqBpXztFyaLsSEmB5cvtQ1q8uOtoREzqnzsjpugzLCIiIhIUKSmWOEpN1XcuCR8aB0SMgG3n4vP5CgOfAj09z9t95M88z/OwekjH+r3uPp9vns/nmxeoWOQE/Bld/4dUJBzojIOIiIhIcKnukYQjjQMiRkCSRz6fLxFLHL3ned6YPx/e7PP5yv3583LAlmP9rud5r3ueV8/zvHqBiEVOokIFu16zxm0cIn5798LWrTadunRp19GIiIiIRCeNAyTcHDqUlTzy1+eVsJXn5JHP5/MBI4GfPc979ogfjQf821l0Acbl9b0kAGrWtOsFC9zGIeLnb4vVq0N8/ImfKyIiIiK5o3GAhJvFiyE9HapUgYIFXUcjJxGImkcXATcCS3w+36I/H+sHDAZG+3y+W4G1QKcAvJfkVf36dj13rts4RPzm/bli1d82RURERCTwNA6QcKNxQETJc/LI87zvAN9xftwsr68vAVa7NsTFwZIltutagQKuI5JY5/8CU08rV0VERESCpnp1yJcPVqyA3buhaFHXEUms0zggogSsYLZEiMKF4dxz4fBh+PFH19GI6IyDiIiISCjky5e1dG3+fLexiIDGARFGyaNY5M/sztMGd+LYjh2wapXNgKta1XU0IiIiItFN4wAJF/v3w08/Wc3TWrVcRyPZoORRLNJ6ZwkX/i8utWvbbmsiIiIiEjwaB0i4WLgQMjLgvPNULDtCKHkUi3TGQcKFvw1qnbOIiIhI8GkcIOFC44CIo+RRLKpZE/Lnh2XLYNMm19FILJsxw64bNHAbh4iIiEgsOPdcKFIE1qyB335zHY3EMo0DIo6SR7GoQAFo3hw8DyZMcB2NxKqdO+2gER8PLVu6jkZEREQk+iUkwBVX2O1x49zGIrFr/3744gu73aqV21gk25Q8ilXt29v12LFu45DYNXmy7frXqBGULOk6GhEREZHYoHGAuPbFF5CWBuefDykprqORbFLyKFa1aQM+H3z1FezZ4zoaiUX+Lyz+LzAiIiIiEnxXXmkblXzzDWzb5joaiUUaB0QkJY9i1SmnwIUXwqFD8PnnrqORWHPwIEyZYrfbtXMbi4iIiEgsKVYMLr0UMjNh4kTX0UisOXw4q3SKkkcRRcmjWOb/sGq9s4Ta9Omwdy/UqgWnnuo6GhEREZHYoqVr4sqsWbB9O5x9NpxzjutoJAeUPIpl/hkfEydCerrbWCS2aKqqiIiIiDtt29r11KlWvFgkVI4cB/h8bmORHFHyKJaddRacdx7s2gXTprmORmJFenrWbDclj0RERERCr0IFqF/fihb7SwmIBFtmJnz2md3WOCDiKHkU6zp3tuthw9zGIbFj7FjYvBmqVIEaNVxHIyIiIhKbNA6QUJsyBdautbIVDRq4jkZySMmjWHfbbbbbwoQJ8NtvrqORWPDyy3Z9112aqioiIiLiys03Q1KS7b7888+uo5FY4B8H3HknxCkVEWn0PxbrypaFTp1sCuFrr7mORqLd4sW2LWyRItCli+toRERERGJXiRJwww12+5VX3MYi0e+XX2yX7wIF4NZbXUcjuaDkkcDdd9v1G2/YumeRYHnpJbvu2tUSSCIiIiLijn8cMGoU7N7tNhaJbv4E5fXXQ8mSbmORXFHySGy9af36tmXi+++7jkai1fbt8N57dvuuu9zGIiIiIiJQvTo0bgx798Lbb7uORqLVnj3w1lt225+wlIij5JEY/4f4pZfA89zGItFp5Eib2daiBZx9tutoRERERASyxgEvv2ylLEQC7Z13LIF0ySVQs6braCSXlDwS06kTlC4NP/4I337rOhqJNhkZ8OqrdltnG0RERETCR7t2UKECrFwJU6e6jkaiTWZmVqFsjQMimpJHYvLnhzvusNuPPKLZRxJYb79tu/mdcQa0bOk6GhERERHxS0iAf//bbg8YoHGABNZHH8Hy5ZagbN/edTSSBz4vjDoHn8/nhVM8IeHfqjwc/u6dO21wv307TJwIrVq5jkiiwb59tkxtwwb44AO49lrXEYkcVzh1yRLm1FgkB9RcJOzt3QtnngmbN8Po0XDNNa4jkmhw8CCcc46dRB45Em65xXVEJgY7ZZ/9zfM9z6uX69cIp2SNkkdh4Lnn4N57oWpVW8KWkOA6Iol0TzwBDz8M9erB7NkQpwmPEr7CrUsWd/btg02bYOPGrMvu3XD4sF2eGGiN5cF+HgkJdrjMnx/KlIFy5bIuJUqo2xP1LRIhhg+3lQhnnAHLlkG+fK4jkkj37LPw3//CeefZ2DI+3nVEJgY7ZSWPokG4NdyDB+Hcc2HNGnjjDbj1VtcRSSTbssW+gOzdCzNmwKWXuo5I5ITCrUuW4Nq1CxYtggUL7Hrt2qxE0Z49J/5dD2ssPk7cWBITsxJK5ctDtWpQpw7Urg2nnZbV5iS6qW+RiHD4sO2+tnw5vPAC3HOP64gkku3YYeOAHTtg0iS48krXEWWJwU5ZyaNoEI4N98MP4V//sm+6K1dCoUKuI5JIdddd8Mor0Lo1TJjgOhqRkwrHLlkCY9s2mD/fEkULF9r1qlXHf36+fEfPICpbFpKTLRmUkAAP97fGMvAJ76/ZSPv322ylI2cs7dx5/PdITrZEkj+ZVKcOVKmihFI0Ut8iEWP8eCugXbIk/PorFCvmOiKJVPffD0OHQpMmMG1aeB3cYrBTVvIoGoRjw83MhAYNYN48ePxxeOgh1xFJJPrlF5uimpkJixfbbZEwF45dsuSO51nXM3GiXWbP/uf/a758UKNGVvLmrLOykkXJySf5npvNxpKWZiVENm6E33+3WfsLFlgia+vWfz4/JcVKDrZuDc2aQcGCOfu7JTypb5GI4XnQuLHtvty3Lzz5pOuIJBKtXWtnQw4ehLlzrXxFOInBTlnJo2gQrg33668tS1y4sM0+KlvWdUQSaa6+GsaMgW7dYMQI19GIZEu4dsmSPfv3w/TpliyaNAnWr8/6Wb589t21bit/s7QAACAASURBVN2sZFHVqjaTKFfy2Fg8z/YROHIm1OzZNmvJL39+aNrUEkmtWsGpp+YyVnFOfYtElNmzoWFDKFAAVqyASpVcRySR5sYb4d13bTXL+++7juafYrBTVvIoGoRzw23Txr6Bt29vSYBwmmoo4e3TT6FjRztlvnKlFfoQiQDh3CXLsWVkwBdfwOuvw+efw4EDWT8rV+7oWTyFCwfwjYPQWDzPai/5Z0vNmXP0z6tXh65doUsXW1EikUN9i0Sczp1t17UWLWDKFI0DJPsmT7aDb758Vj+rcmXXEf1TDHbKSh5Fg3BuuOvW2TfV3bth1Ci46SbXEUkk2LzZlqht22b1ju6803VEItkWzl2yHG3jRnjzTZvYuHZt1uP162fN1KldO4g7nYWgsWzebGO2iRNh6lTbewBsRlLHjrYp0kUXaUwXCdS3SMTZuNEq/G/fDq+9Zh2OyMls327tZuNGGDIEevd2HdGxxWCnrORRNAj3hvv223DzzVC0KCxdChUruo5Iwpnn2Uy18eOheXMb7WhUIxEk3LvkWJeZaTU3hw+HceOsSDXYSc3u3e0cR8gmOoa4sRw8aImk4cOta/W/bdWqNqa78Uar0yThSX2LRKTRo20GUqFCVrDtjDNcRyTh7l//ss2XLr7YyqDEx7uO6NhisFNW8igahHvDPTIZcNll9o01aKdxJeL5k43FilmysUIF1xGJ5Ei4d8mxKj3dZhkNHWqb/4B9H23bFm6/3XLVIT80OWwsa9bAG2/AyJE2OwkgKckSSA8+qPIk4Uh9i0QsfzLgootg5szwTQaIex99BNdeGxnJxhjslJU8igaR0HA3b7bph3/8AS+/DP/+t+uIJBytXWvLHPfsgXfesVGMSISJhC45lmRkWJ3NAQNg9Wp7rGJFuO02uPVWx+XUwqCxHDpk53aGDbMZWWAlJm6/Hfr1014X4SQMmotI7hy5DOmpp2z7dZG/O3KZ47BhdiAKZzHYKSt5FA0ipeH6CyAnJVkm+ayzXEck4SQz02amzZgBV11l7UXL1SQCRUqXHO08z/Zp6N8fli2zx6pUgUcftUNRWJz4DrPGsnw5PPYYfPCB3S9YEO6+28Z5JUq4jU3CrrmI5MyRBZDnzbOThSJ+nmfFBidPhpYt7TrcxwEx2CkHInmk9UeSPVdfDddfD2lpWdcifkOHWuKodGkryBHuBwwRCUueZ3V96tWzJNGyZXDaafDWW7YStnPnMEkchaFzzrFZWj/+aMv59u+3SQKVK1tSac8e1xGKSMS68kqb8nnokI0D/NX7RcBWpkyebIX33nhD44AopplHrkVS1nPHDtu6Zu1aW8/6/vvqHMSq1l51lbXh8eOhTRvXEYnkWiR1ydFm9Wqb5f7VV3a/XDl46CHo1s1OdoedMG8sc+bYv9+XX9r90qXhhRfs8K1Dd+iFeXMRObk9e6BuXVi5Etq1s+mhqoMqU6farLSMDKt51KmT64iyJwY7Zc08ktAqXhwmTIDCha1w3mOPuY5IXFu0CK67zjregQOVOBKRHMvIgOeft1UQX31lS6yGDoVVq+DOO8M0cRQBzj8fvvjCNru58ELYutW663btIDXVdXQiEnGKFIGJE212ybhx0Lev64jEtWXLLFmUkWG7NURK4khyTTOPXIvErOekSTYnPjPTkkidO7uOSFzYuNFGJ+vXW3HsUaN0OlsiXiR2yZFs2TIrfP3DD3b/2mvhxRdtlkzYi6DG4nm2M9t//wu7d0PRovD00zarS912aERQcxE5sWnToEULSxi8+abtsiux548/oEEDmzbcsaPNOoqkmWgx2Clr5pG40aoVPPOM3e7aFWbPdhqOOJCWZqev16+3rVtHjNAIRESy7dAhePxxWwn9ww+2a9q4cVbsOSISRxHG57NE0bJlNkF0927o3h2aNYNff3UdnYhElGbN4NVX7fbtt8PMmW7jkdA7eBA6dLDEUd26dgI5khJHkmv6X5bc+c9/7JvngQOWRFi3znVEEiqZmZY0nDvXKtl+9hnkz+86KhGJEIsXQ/36tpPaoUNWg3XZMpvQKsGVkmJJug8/tCTdjBm2XPCFF2Lq5KuI5FX37tCzJ6SnWxJBWejY4XmWNPz2WzuojB9v23tKTFDySHLH57PK+k2bwubNdipzxw7XUUmweZ5VYB09Omvtu6YJiEg2ffABNGxoCaTTT7fVD6+/DsWKuY4sdvh8ttp82bKszVN79rQlg/v2uY5ORCLG00/bLmzbt9s27Vu3uo5IQmHgQJtpVLCgJY7Kl3cdkYSQkkeSe4mJ8MkncPbZNhJo3hx27nQdlQTTo4/CoEE2NfWjj+C881xHJCIR4PBhuO8+K9iclmaTF5cssfMP4kapUvDuu7ZhUpEidk7gggs0gUBEsik+3s4IVK8Oy5fbcrY//nAdlQTTU0/Bww/bWYj/+z+oU8d1RBJiSh5J3hQvbtvjnH46zJ8Pl1+uBFK0evRRu8TFwfvvwxVXuI5IRCLAH39Ay5ZWKi8hAV55xWqsapZ7eLjqKitdWKWKJfTq17edl0VETqpoUdvW8ZxzrANRAil6DR0KffpY4ujNN225osScsE4ejV2YykWDp1O5zyQuGjydsQu1t2xYqljR9gI+/XSrg3P55TaFVaKD58GAAXaJi7NT1dphT0SyYeFCqFfPlqedcgpMnw533qn6+uHm3HMtgdS2ra1Av+IKGDxYdZBEJBvKlrXOvUoVW4nQrBls2eI6Kgmkp56C+++3g/fIkTZ9WGJS2CaPxi5Mpe+YJaTuTMMDUnem0XfMEiWQwlXFilZ5s3JlSyA1bgybNrmOSvLK82xvZ/+Mo3fegX/9y3VUIhIBPvjANmNcuxbOP98mp15yieuo5HiKFbP9DwYMsK6/b1/o1El1kEQkG8qVs3GAv5TFJZfA77+7jkryyvPgwQezZhyNGAE33+w6KnEobJNHQ6euIC0946jH0tIzGDp1haOI5KQqVbLK++ecA0uX2oFj7VrXUUluZWTYNkjPPWf1rUaPtuqqIiIn8cILWfWNbrnFdnKuUMF1VHIycXHwyCO2I1vRolbWsEULrUYXkWwoVw6++QZq1IBffoGLL4aVK11HJbmVmQn33ANPPmn1rf7v/+DWW11HJY6FbfJow860HD0uYSIlxQ4ctWvDqlVw4YU2F14iy65dVghj5EhISrLdFK6+2nVUIhLmPA8ee8x27wJ49ll44w0oUMBtXJIzbdvaobtiRZg1C5o00SoUEcmGMmWslEXDhrBunU0//eYb11FJTu3dayUqXn4Z8uWDTz/VCWQBwjh5VD45KUePSxgpXdqmrjZuDBs2QKNGloSQyPDzz7bGZMIEK4g+dapVuxUROQHPg969beZKXJzV0+zVS/WNItU558B338FZZ8GiRXYoT1XlABE5meLF4csvrQbq1q1WA+nll1VELVKsWmXJv08+sa04J02Cdu1cRyVhImyTR71bVCEpMf6ox5IS4+ndooqjiCRHihWz3RfuugsOHYJu3aBHD7st4WvsWGjQwKYbV69u9atUpERETsLz4N57bUe1xET48EOVRYgG/tXoNWrAihU2A2nDBtdRiUjYK1zYkg69e8Phw3D33XZQOHDAdWRyIlOm2JabP/1kZxDmzoXLLnMdlYSRsE0eta+dwqAO1UlJTsIHpCQnMahDddrXTnEdmmRXvnzw0kvw1luQPz8MG2bfPDdudB2Z/F1mJvTvb0vV9uyxKqnffw9nnOE6MhEJc54H990Hzz9viaNPP4VrrnEdlQRKmTI2mbhWLStfosO4iGRLQgIMGWK7JyQlwahRKqQdrjzPahu1amVF7tq1s7XLVTRpQ47m88JoCqHP5/PCKZ6Q8M/nj/a/e+5c6NAB1q+3gnqffgoXXOA6KgE7SNxwg50hiouz/Znvu09rTSQmxUqXHEj9+sGgQZY4+uQTq5cTE2KssWzbZqtPfvzRxhPffmur1CV7Yqy5iBztxx/tBOWaNdZxjB4Nl17qOioBO2nctSuMGWMd1aOP2g5rcWE7xyQwYrBT9tnfPN/zvHq5fY0obxUSNurXt32aGzWyU5aNG8PAgZCe7jqy2DZjBtSta4mjEiXg889tirESRyKSDSNGWOIoIQE+/jiGEkcxqGRJ+OqrrCVsHTrAwYOuoxKRiFCzpp1Ibt7c6iBddpnNeFcn4tasWVCvniWOiha1DXIefjj6E0eSa2oZEjqnnGLfPO+5x5JGDz2UlVSS0Nq1C26/HZo2hdWrbT3CvHl2UBcRyYYZM+DOO+3266+rnmYsKFXKzjFUqGDFtLt3j6mTtiKSFyVLWk2dBx6AjAx4/HGoUwd++MF1ZLFnzx6rQ3XJJVbn9LzzLLnXurXryCTMKXkkoZWYCC+8YEmkypVtGmuDBtCnD6SluY4uNkyYAFWr2mgvMdH21Z492/4/RESy4Zdf4OqrrQ5q794qjh1LypWzk9MFC8I778BTT7mOSEQiRny8lUf45hvbynHZMrjwQtuac98+19HFhqlToVo12wEvPt6WqM2bB2ef7ToyiQCqeeRaDK63/Mu+fTY18vnn7e8/6yx44w1b2iaBt3Wrzfr68EO736ABjBxpZxtEBIjtLjm7tm+3XXxXrrRlamPG2PfPmBPjjWXsWFu65nlWxrBDB9cRhbcYby4i/5SWZicwhw61mUiVK9ta6GbNXEcWnbZvt21RR42y+3Xq2DigVi23cbkSg52yah5JZCtUCJ59Fv73P5sJs3Kl1UK64w7YssV1dNHj8GF4800491xLHBUsCM89Z+uclTgSkRxIT4eOHa27rlkT3nsvRhNHQvv2Vu8KbM8FrUAXkRxJSrJOZPZsO6CsWWO1kG65RVs6BlJmph2sq1a1xFH+/Db7a/bs2E0cSa4peSTuNWwICxZY4byEBBg+HE4/3aZR7tjhOrrIlZlpu1lUqwa33pq1Vc6SJdCzp0Z8IpJjd91ltY7KlLGlS4ULu45IXLr/fujSxSYQtG0LGza4jkhEIk7dulZvZ+BAyJcP3noLzjjDOpht21xHF7k8z6aI1qxpGf7Nm63G0eLFVncqIcF1hBKBtGzNtRicMndCS5favs8TJtj95GTbNv4//9EoJbs8DyZPtoLkixbZY6efbltvXn+9dlITOQF1ycf34Yfwr39BgQLw9de28jWmqbEAtllS8+bw7bd2fuKLL7RRz7GouYhkw4oVNg4YM8buFyliS63uvdd2A5OT8zz48ksbB8yda49VqgSPPAJdu6qD9ovBTjkQy9aUPHItBhtutvzwg3V606bZ/dKl7WByxx02cpFjmzHDZmx9/73dT0mxulK33GLFsUXkhNQlH9uGDTaJcccOGDbMNmuMeWosf9m82drHH3/ASy/ZDDU5mpqLSA7Mn2/jgM8/t/slStjmOv/+t5VfkGP77jsbB3zzjd0vU8b+HW+7zZarSZYY7JSVPIoGMdhwc2T6dOsE/dt4pqRAjx6WDClXzm1s4eLQIZuW+uqrMHOmPVa6NPTta8m2pCS38YlEEHXJ/+R50KqV7bDcsqVNbNQERtRY/ubTT60eVlKSTXrVxj1HU3MRyYVvv7VxwLff2v2yZe27bbduNiYQK0Y4YQK89prtZg1QvLgtTbvrLqsxK/8Ug52ykkfRIAYbbo55HkyaZJnzH3+0xxISoF07O/3drFlsTsFcvdp2pXjzzawC48WK2b7ZWuYnkivqkv9pxAjo3t1WES9dqu/rf1Fj+Ycbb4R337VSht9+q5IaR1JzEcklz7P1sA89ZFvKg9XtbN3axgGXXx6bdTzXrrVdqkeOzCowXrhw1jK/YsXcxhfuYrBTVvIoGsRgw821zEzLqA8bZpVaMzLs8TPOsJFN165wyilOQww6/9mF4cPtQOpXrZqdibnhBh0sRPJAXfLR1qyBGjVg717brOW661xHFEbUWP5h5047HKWmWu3bfv1cRxQ+1FxE8sjzbEXC8OHw2We2mzDAaafZsqxbbrGZSdHs8GGbBjxsmF37O5RzzrFE2k032RI/ObkY7JSVPIoGMdhwA2LDBsu0jxgBv/9ujyUm2tqKNm3gyiuj5wBy4IAtR5s40dYF+M8u5M8PnTvbweKCC7SORCQA1CVnycyEJk2sdELHjrZ5o7qZI6ixHNMXX0CLFnZInjvXNvoRNReRgNq0yXZle/11+O03eywhAa64wsYBrVpB+fJOQwyYQ4fsQOwfB6xfb4/ny2cH59tvt13UdIDOmRjslJU8igYx2HADKiPDiukNG2aFODIzs35Wv75NaW3VCmrXjqylbRs32t8zcaLtmLBvX9bPdHZBJGjUJWd54QXo2dPqbS5dCqVKuY4ozKixHNe//21l+KpXhwULtHwN1FxEgiIz074nDxtmM/P9qxIA6tTJGgfUqxdZ44DNm21m0cSJlpHfsyfrZ2eeaeOArl11YM6LGOyUlTyKBjHYcINm/Xo7cEyaZLu0HTiQ9bNy5ezg0bixHUyqVAmv9dGbNtk37B9+sKTR/PlH/7xWLYu/dWvbH1tnF0SCQl2y2bbNVgTv2mX1+Nu1cx1RGFJjOa59+yxxtGaN1XC94w7XEbmn5iISZBs3Zo0DvvwS0tKyflamjK1KuPRSGwecc054ZbW3bLFxwOzZljSaM+fozqJ69axxwAUXRFYiLFzFYKes5FE0iMGGGxL799u66IkT7ZKaevTPCxa0ufR16mRdqla1KaDB5Hm2zG7BgqMv/qVofgUKwGWX2UHiyiuhYsXgxiUigLpkv3vvheees27oiy+Urz4mNZYT+vhj6NTJShGuWgVFiriOyC01F5EQSkuDr7/OGgesW3f0zwsU+Oc44Lzzgr+dvefZmOTv44C/j1Py54emTbNmTp16anDjikUx2CkreRQNYrDhhpzn2S5tU6ZYAYYFC2yHgr/Ll88657JlbaaS/3Lk/eRkO1ORkGAFHXw+K17nv+zf///s3XmclXP/x/HXaWaqaV/QMpao1N2mnVu2slS0IRQia5ZyC0WI7MltrRtF9iUhrRJKCT9pX1CEomnf95rl+v3xcZyJltnO+V7nXO/n4zGP68zpNOcd37mu8/1c38VGEa1aZV85H69aZaOjNm3653uXKWNT6xo3tt3jWra0ApeIxJROyTZapFYtO6XNnm2nJtkPNZaD8jy7QT5jBtx/PwwY4DqRW2ouIo54ns29Do/omTPHLnR/l5Jy6H5A+fKRfkByso0AytkP2LXr0P2AjRv/+d6lSkX6Aa1aWV+gZMno/7cJsgCelFU8SgQBbLi+sGEDzJ0bqfjPnQs//RSb965YEZo0idzpaNQIjjtOQ1BFfECnZOjaFUaMsG3X33jDdRofU2M5pOnT4bTTrA/088/W9woqNRcRH9m0yT775+wLLFkSm1/QChX2HfHUqJGtY6R+QGwF8KSs4lEiCGDD9a3t2+2OwIHuFqxaZQvWhe8uZGTYQn0pKZGRSMWK2R2KnHcp/n4Ho1IlzQER8amgn5JnzoTmze1U9tNPcPTRrhP5WNAbSy516gRjxtj6ri++6DqNO2ouIj63Y8fB+wGrV9tCgAfqByQn23S4SpUO3g+oXFn9AD8I4ElZxaNEEMCGKyLiV0E+JXuezZidNg369oXHH3edyOeC3FjyYPFiqFfPHi9cCP/6l9s8rqi5iIj4SABPyoVRPIq/8XELRsLT9WBAOTsuGOk6kYiISNybONEKRxUqQL9+rtNIoqhdG667znbQVrsSERGJX/FVPFowEsbdAlv+ADw7jrtFBSQREZECeuIJO959t+0NIFJY7r/fZnOMGRO75QVFRESkcMVX8Wjyg5Cxa9/nMnbZ8yIiIpIvCxfarsalStkoEZHCVLkyXHaZPf7f/9xmERERkfyJr+LRlhV5e15EREQOacgQO155JZQp4zaLJKZevez46qu294SIiIjEl/gqHpU9Mm/Pi4iIyEFt2gRvvWWPe/Z0m0US1wknwKmnWuHojTdcpxEREZG8iq/i0Zn3QUrqvs+lpNrzIiIikmevvAI7d8LZZ9vixiLREh59NGRIoDa4ERERSQjxVTxqcDG0fw7KHgWE7Nj+OXteRERE8iQrC55/3h5r1JFEW6dOkJYGixfD5Mmu04iIiEhehDwf3foJhUKen/LERChkx6D9u0VEfChop+Tx46F9e6hWDZYuhaQk14niSNAaSyF5+GHo3x86dLDd14JCzUVExEcCeFIO2b95tud5TfP7M+Jr5JGIiIgUmldeseNNN6lwJLFx/fVQtCiMGwdr1rhOIyIiIrml4pGIiEgA7dwJn3xij7t2dZtFguOII+Css+xm77hxrtOIiIhIbql4JCIiEkCffw67dkGzZnCkNi2VGOrUyY6jR7vNISIiIrmn4pGIiEgAhTvu4Y68SKy0b2/LTXz+OWzf7jqNiIiI5IaKRyIiIgGTmQljx9pjFY8k1ipXhn//G/bsgUmTXKcRERGR3FDxyC/mz4etW12nEBGRAPjmG9iwAWrUgH/9y3UaCaKOHe2oqWsiIhITWVnw008wa5brJHEr2XUA+dPll8Ovv0JaGjRubF+tWkGTJpGtBEVERApBeIv0Tp10iRE3OnWCO++E8eMhIwNSUlwnEhGRhLJ+vQ2znjPHvhYssF0bKlRwnSxuaeSRXyxcCFu2wEcfwXnnwcqVcPHFVjwaOhS2bXOdUEREEoDnab0jce/4423U2+bNMG2a6zQiIpIQPA++/BIuu8yGV0+aBNWrw2OPQXq6DdbQyKN8U/HIT5KToW5d6NYNnnkGli6FgQOt0R99NPTpAzt2uE4pIiJxLPzZqVw5OOkk12kkyM49145ffuk2h4iIJIDx460v3aMHNG9uH3beew9694bTT4eyZV0njHsqHvlZkSJwzjkwahQsWgSrVkGDBjBliutkIiISp2bOtGOzZpCU5DaLBNuJJ9pRN4FFRCTf1q2DSy+F//wHnnoKfvjBHmt6WqFT8ShepKXBW2/Bc89B9+5w3XXa31ZERPIs3FFv2tRtDpFwG5w502YaiIiI5Mn770P9+lClii0D06aNFnOMIhWP4s1559kopL17oWVLq7SKiIjkUs6RRyIuVasGFSvamqa//+46jYiIxA3Pg0cegb59bReQJ5+EEiVcp0p4Kh7FozJl4LXXbErbqafCmjWuE4mISBzwPI08Ev8IhSJFzHBRU0RE5KA8D+66y9Yz+vrryBxoiToVj+JVKGTV1q5d4ayzYMMG14lERMTnfv0VNm2CSpXgyCNdpxGJFDG17pGIiOTKAw/AxInwxRdQtarrNIGi4lG8u+8+aNUKrr1WCwaIiMhB5Rx1pCUBxA808khERHJtwgSbgfP55zbvWWJKxaN4FwrBoEHwyy/w5puu04iIiI9pypr4Tbgtzp6te2AiInIQGzbA9ddb8eiII1ynCSQVjxJBsWLwxhtw++1acVJERA7ol1/sWKeO2xwiYVWrQtmysGULbNzoOo2IiPjWzTfDxRfDGWe4ThJYKh4lioYNoXdvuOEG10lERMSnVq60Y1qa2xwiOYXbY7h9ioiI7GPMGJg/Hx591HWSQFPxKJHccQfMnQvff+86iYiI+FC4c671JcVPwu1RxSMREdmvQYNss6jUVNdJAk3Fo0RStCj06AFDhrhOIiIiPpOdDatW2eMqVdxmEclJxSMRETmgOXNgxQro0MF1ksBT8SjR9OgBI0bA5s2uk4iIiI+sXw+ZmVChAhQv7jqNSES4eJSe7jaHiIj40ODBcOONkJzsOkngqXiUaKpUgTZt4J13XCcREREf0XpHhWf27Mjjjz6CXbvcZUkEGnkkIiL7tW2bXWivvdZ1EkHFo8TUujV89ZXrFCIi4iNa76jgPvgAmjSJbC8PcMEFVpC7/XbYvt1dtnim4pGIiOzXrFlQty4cdpjrJIKKR4mpWTOYOdN1ChER8REVjwrmkUfgoots6YW/27QJnnoKTj1V283nh6atiYjIfs2caX1b8YWoF49CoVCbUCi0JBQKLQ2FQndF+/0EqF0bVq+2T7MiIiLYyG+AsmXd5ohHH34I99576NfNmweXXhr9PIkm3CY1cktERPYxa9a+w33FqagWj0KhUBLwP6AtUAfoGgqF6kTzPQVISoJGjfZ/e1RERAIpI8OOKSluc8Sjxx/P/WsnTYL586OXJRGF22RmptscIiLiMyoe+Uq0Rx41B5Z6nver53l7gRFAxyi/p4CNAV+71nUKERHxiXDHXJuV5M2cOXmfCf7CC9HJkqjCbVLFIxER2cfatdrpw0eiXTxKA/7I8f2KP5+TaEtN1fYvIiLyFxWP8mfx4rz/nSVLCj9HIgu3yfDoOBEREcD6s6mprlPIn5x/hAyFQtcD17vOISIiIiIiIiIi/xTtkUfpwFE5vj/yz+f+4nneMM/zmnqep8mMhUlVWhERyUFTg/Kndu28/51atQo/RyILt0mtxyUiIvvQbBpfiXbxaCZQMxQKHRsKhYoCXYCxUX5PAduT+YgjXKcQERGfUPEofxo3zvsuwTfeGJ0siUpTKkVEZL+OOALS0w/9OomJqBaPPM/LBHoCk4AfgZGe530fzfcUICsL5s61T7wiIiJERnVoXZm8u/PO3L+2dWs44YToZUlE4Tap4pGIiOyjaVPbcU18Idojj/A872PP8473PK+653mPRPv9BFvds3JlKF/edRIREfGJ0qXtuGWL2xzx6MIL4eGHD/26hg3hnXeinyfRhNtkqVJuc4iIiM+oeOQrUS8eiQMzZ+Z9jL2IiCS0qlXtuHKl2xzx6p574P33oUmTf/5ZhQpw220wfbo9lrwJt0ntxiwiIvto1sz6tuILKh4lokmT4JRTXKcQEREfUfGo4Dp3thugOW+CjhplyzE8+aRGzuRXuE2G26iIiAhgI4++/x7Wr3edRFDxKPGsWgWffAKXXuo6iYiI+Ei4Y651Jwsu5+ij88+H4sXdZUkEKh6JiMh+lS5tckrdEAAAIABJREFUF9qXX3adRFDxKPEMHQpdukC5cq6TiIiIjxx2mC1IvHEj7N7tOo1IhKatiYjIAfXqBc8/r+1ifUDFo0Syd68Vj3r2dJ1ERER8pkgRqFLFHq9a5TaLSE4aeSQiIgfUuDEcdRSMHes6SeCpeJRI/vtfaNQI6tZ1nURERHxI6x6JH6l4JCIiB9W3r+1csWuX6ySBpuJRopg3D55+Gl580XUSERHxKa17JH4Ubo8qHomIyH517AgnnAB33+06SaCpeJQI9uyBbt1sq5ejj3adRkREfKp6dTv+8IPbHCJhK1fCli1QtixUqOA6jYiI+Nb//gcjR8LUqa6TBJaKR/HO82wYX40aVkASERE5gKZN7Zhzq3kRl8JtsUkTCIXcZhERER+rWBFeegm6d4c1a1ynCSQVj+Ldgw/ClCm2faE+dYmIyEHkLB55ntssIgAzZ9qxWTO3OUREJA6ce64Vj84+GzZscJ0mcFQ8ileeZ3M+330XPv/cKrEiIiIHcdxxUL683bBbscJ1GpHIyKNwYVNEROSg7r8f2raFli21A0iMqXgUj7ZuhSuvtKLR9OlQqZLrRCIiEgdCIU1dE//wPI08EhGRPAqFYOBA6NIFWrSAGTNcJwoMFY/izYQJULcuFC9u09UOP9x1IhERiSPhTnq40y7iyrJlNuvgsMO034eIiORBKGSzcAYNsp3YbrsNduxwnSrhqXgUL9LT4bLL4JZb4PXXYdgwKFXKdSoREYkzGnkkfhFug82aadlGERHJh4sugkWLbD5+gwbwySda1DGKVDzys+xsmDQJzj8f6tWDtDRYsABatXKdTERE4lTOkUdZWW6zSLCFZxpovSMREcm3ww6Dt9+GZ5+1EUh16sAzz8DGja6TJZyQ56PKXCgU8vyUJybCt9o8DzIzYfFimDPHvsaOhXLl4IYboGtXKF3abVYRkQSX85ScqDwPatSAX3+Fr76y5QIkH4LQWKKsTh348Uf47DM46yzXaaJLzUVEJAY8zz7cDB0K48fDOefASSdB48bQqBGULWuvC+BJOWT/5tme5+X7lk1y4cWRAqlf3z7JH3mkNe7GjWHkSGjSRGO5RUSk0IRC0KkTPPUUjB6t4pG4sWSJFY7KlYPTT3edRkREEkIoBKeeal/r18O4cTYo48MPYf58OOII23ZW8kUjj1wLF4bmz4dq1aBMGadxRESCLCg3or780jrsNWrATz/pHkW+BKWxRMmgQXDnnXD55fDmm67TRJ+ai4iIY1lZNlhj69bIfOkAnZQ18iiRNGjgOoGIiATEySfbEgFLl9rojzp1XCeSoBkzxo6dOrnNISIiAZGUBDVruk4R17RgtoiISMAkJ0P79vZ49Gi3WSR4Vq+G//s/KFYMWrd2nUZERERyQ8UjERGRAAqP+FDxSGJt3DibKXDWWVCqlOs0IiIikhsqHomIiATQ2WdDiRIwcyasWOE6jQRJuGCpKWsiIiLxQ8UjERGRAEpNjUwZevddt1kkONauhc8/twWkw1MnRURExP9UPBIREQmoq6+24/PP2yYkItE2bBjs3WuFo0qVXKcRERGR3FLxSEREJKDatoXjjoNly2DCBNdpJNFlZMALL9jjXr3cZhEREZG8UfFIREQkoJKS4Kab7PGQIW6zSOIbPRpWroTateHMM12nERERkbxQ8UhERCTArr7aFs7+7DNYvNh1GklkgwfbsWdPW/NIRERE4oeKRyIiIgFWvjxcfrk91ugjiZb582H6dChdGq64wnUaERERySsVj0RERAKuZ087vv46bN3qNoskpvCoo6uusgKSiIiIxBcVj0RERAKufn044wzYvh1eesl1Gkk0q1fD22/b45tvdptFRERE8kfFIxEREaFPHzs++ihs3uw2iySWBx6A3buhY0c4/njXaURERCQ/VDwSERER2ra10UcbN8Jjj7lOI4li8WIbzZaUBAMHuk4jIiIi+RXyPM91hr+EQiHPT3liIrzdSND+3X60bRusWAGrVtnX6tWRx+Hvt26FzEz7ysiw/2/JyfaVkgLFi0OlSlC5MlSpYl85H1etan+ubWZEfCnop+SZM6F5cyhWDH76CY4+2nUiHwt6Y8mlTp1gzBjo0QNefNF1GnfUXER8bscO+OOPg/cDtmw5cD8gOfnQ/YDwl/oB7gXwpByyf/Nsz/Oa5vtn+KlYo+KRxMz69TB3LsyZY19z58LPP8fmvStWhMaNI1+NGkH16lBEAwFFXNMpGbp2hREjoFs3eOMN12l8TI3lkKZPh9NOg5IlYelS60MFlZqLiI9s3Gif/XP2BX76KTa/oOXL/7MfULOm+gGxFsCTsopHiSCADTfmPA/mzYNPPoHvvrMLxO+///N1RYtCtWr/vEOQ8/uyZW2EUXikEUBWVuQuxM6d+96p+Ptdiz/+gE2b/vnepUvbxaNxYzjzTGjVCkqUiOp/FhH5J52S4bffoFYtO6XNnm2nJtkPNZaD8jz4979hxgy4/34YMMB1IrfUXEQc8TxYuBAmToz0A5Yt++frUlIO3Q8oVy7SD0hOtl/sv/cD1qw5eD9g48Z/vnepUtCwofUDWrWCs86yqrtETwBPyioeJYIANtyY2LkTJk+G8eNhwgRIT9/3z0uUiJykw1916kQKQtHieTY1LnyXI/y1cuW+ryte3IpI7drBeefBUUdFN5eIADolh912Gzz9tH1+/fRTjbDfLzWWg3r/fbj4YpvB8fPPdo8kyNRcRGJo1y744gvrB4wfb0WbnFJT4YQT9u0H1K1rN5KjyfPsM//f+wErVuz7umLFoGXLSD+gWrXo5gqiAJ6UVTxKBAFsuFGzYgWMHWvFoilTbGuXsCpV7AR82mnQpIlt95KU5C7r361ebUNnv/0WPv4YZs3a989POMEuHu3bw4knqicnEiU6JZsNG2w27ZYtMHq07ZIlf6PGckA7dkD9+jaK7YUX4IYbXCdyT81FJMpWrYr0Az7/3ApIYZUq2efo00+3fkCtWjZyyC/WrrV+wIwZNkJqxox9Txb16ln+du3g5JM1xa0wBPCkrOJRIghgwy1UWVl2kn3xRTtmZ0f+rHnzSMW+UaP4KrisWmX/nvHj7bb/jh2RP6tVy1YevfJKqFDBXUaRBKRTcsSzz8Ktt9pn7kWL4LDDXCfyGTWWA7r5Znj+eSsgzZnjrz6aK2ouIlGQnW2fk1980T4zZ2VF/qxJk0g/oEmT+Cq4rF0b6QdMmmSb+oTVqAHXXw/du8PhhzuLGPcCeFJW8SgRBLDhFor0dBg+HF5+OTIUNSXFLhAdOtie04myMueePTBtml1APvjACktgQ1ovvtgKSSefHF/FMRGf0ik5IjvbRs1/+SV07gwjR+o0sw81lv369FNo3douyTNn2sBZUXMRKVSrV8Mrr8BLL0XWL0pOts//HTrAuefaDseJYO9e230g3A8IT3ErWhQuvND6Aaedpgt0XgXwpKziUSIIYMPNt+xs+Owzu7swblzk7kKQKvAZGXbxGDrUPqGH2029enbx6NbNFvUWkXzRKXlfv/0GDRrA9u3w9ttw6aWuE/mIGss/bNpko43S0+GRR+Duu10n8g81F5EC8jxbluLFF20+dWamPV+tmvUDrroqcW4cH0jOGRcffxw5odSubf8NNCsh9wJ4UlbxKBEEsOHmmedZwaR/f5g/355LToZOnaxg0qpVfA1FLSy//WZ3XIYPt+GtYIWjO+6A//xHq5OK5INOyf/00kv2mbRcOZu+lpbmOpFPqLH8Q7du8NZbcNJJdqNc09Ui1FxE8snzbOrWvffaFqBg65a2b2/9gHPOCWY/4PffbQbGyy9HZiWUKgW9e8Ptt+tm8qEE8KSs4lEiCGDDzZMpU+Cee2whabBey003wdVXJ/7dhdzauxfGjLEFJqZOtecOOwz69YMbb7QdJUQkV3RK/ifPsxnBEydCmzZ2s1Oj41Fj+ZsPP7Tpjampdp+nZk3XifxFzUUkH6ZPt37A9On2feXK9tn2mmt0JyMsPCvh+edtoXCA8uWhb1/o1QtKlnSbz68CeFJW8SgRBLDh5sr//Z/dYZgyxb4/4ggb/96jh21jL/s3dapdZL/5xr6vWtVGbF19dfS3HxVJADol79/KlTY7dtMmGy3fo4frRD6gxvKXNWusfaxfD4MHQ8+erhP5j5qLSB7MmmX9gEmT7PsKFeym6E03QYkSbrP52ddfWz9g2jT7vlIl+/76622tVIkI4ElZxaNEEMCGe1CLFtnFYfx4+75cOejTB265xYZiyqF5ng0RuOcemDfPnjv2WHjwQbjsMg0ZEDkInZIP7L33oEsXq99PnQonnug6kWNqLIDt6XD22TYw4KyzrK8XxBkkh6LmIpILS5ZYP+Cjj+z70qVtClbv3lCmjNts8cLzbATSPffYrgUARx0FAwbY+rA6QZsAnpRVPEoEAWy4+7Vnj62u+dhjtgBeyZK2R/Qdd1gBSfIuO9vmEdx3HyxebM+1amULmBx3nNtsIj6lU/LB9egBw4bZzczvvoOjj3adyCE1FjzP1qh9/XUb6DpzZuJscFTY1FxEDiIjAwYNshude/fa/NdevWzqVcWKrtPFJ8+DsWNtBNeiRfbcqadaP6BWLbfZ/CCAJ2UVjxJBABvuP3z7rc1d/uEH+/6GG+CBB2yqmhRcZia8+aZdgNevtwvyI4/YaK6kJNfpRHxFp+SDy8iwdY+mTLEt2L/6KsCDQtVYePxxuOsum0UyfTo0buw6kX+puYgcwOzZtrzCggX2/dVXw8MPQ5UqbnMliuxsePddG8G1Zo1NXxswwG7QB3lXgwCelBO+eDR6bjpPTFrCys27qFoulT6ta9GpUYItjhbAhvuXHTusGv7ss/bvr1nTdg479VTXyRLTunW2C9u779r3J55o/73r1nWbS8RHgnxKzq2NG203rZ9/hg4dYNSogNahA95YRo+GCy6wf/6HH9pjObCANxeRf9q1y24W//e/tgX9scfaqJgzz3SdLDFt3GgFpNdes+8bN7Z+QMOGTmM5E8CTcmEUj3w76XH03HT6jVpI+uZdeED65l30G7WQ0XPTXUeTwvD557a65jPP2Nzbu+6y7VlUOIqeww+Hd96xIaxpaTBjBjRqFBkiLCKSCxUq2LJ05cvb6aRfP9eJJNbmzrUl9DzPZpurcCQiefLllzZ89fHHbWRM796wcKEKR9FUoQK8+qotTHfMMTBnDjRtamsj7d7tOp3ECd+OPGoxcArpm3f94zVp5VL5+q5WsY4WPUGremZk2DDJ556z7xs2tKq3xrrH1pYtcOedMHSofd+wod061lpIEnBBOyUXxBdfwDnn2MzY4cNtpkGgBLSxrFwJzZtDejpccYXdxNY+DIcW0OYisq+sLNs9edAg+75OHbuAnHSS21xBs327/X8YMsROSnXq2CLlxx/vOlnsBPCknNAjj1bup3B0sOclDqxZY1uxPPccpKTYujvffafCkQtly9p+2198YQWjefOgWTP47DPXyUQkTrRsCS+8YI979IAxY9zmkehbvx7atrXC0Smn2OLpKhyJSK5s2GAnkEGDbK7zfffZ6BcVjmKvVCnrj02fbgWjH36wfkB4t2uRA/Bt8ahqudQ8PS8+N3OmDY388ktbAG/aNKt4p6S4ThZsZ5xhCxW2a2dzodu0sYt6gKrwIpJ/115r09YyM+Gii2wamySmDRvs/s+CBbZRz6hRtu6qiMghzZ8fuUl5+OEwebKtd6STiFstWsCsWXDhhbB1K7Rvb8tZZGe7TiY+5dviUZ/WtUhN2XcFztSUJPq01taCcefVV20toxUr7CQ1ezb8+9+uU0lYuXI2ZOC+++xiceed0KWLLWguInIIjzxia3BmZEDnzjBunOtEUtg2brTC0fz5dpP6iy+s/ycickgjRtjn/t9+sxvJs2fD6ae7TiVhpUvD++/Do4/aUNL777eF7LZudZ1MfMi3xaNOjdJ47IL6pJVLJYStdfTYBfUTb7e1RLZ3L/TsaQth7NkDN95o+ztr603/KVLE7gB99JFdREaOtAv9L7+4TiYiPhcKwRNP2HqnGRl2A/P9912nksKyerUNUp03zzZF/eILXcZFJBcyM6FPH+ja1XZW697dpkkddZTrZPJ3oZANI54wIXJT+cQTYfFi18nEZ3y7YHZgJOpiXVu22B7OX34JRYvC88/DNde4TiW58eOPcP75sGSJXUDGjtUueBIYiXpKjgXPs37Ck09aPfqllxJ8Ee0ANJbly23E0dKlULu2bZSapnt4+RKA5iISsX273Un49FNITrbdlW+6SYukxYOlS60fsGiR3VAeNcouBIkmgCflhF4wW+LYunW2kuqXX0LVqnZU4Sh+/OtfMGOGzXvevBlat4ZPPnGdSkR8LjwCKbxcwjXXwNNPB+pzWUL58Ue7b7B0KTRqZJdyFY5E5JA2bYKzz7bCUXh9o5tvVuEoXtSoAf/3fzYPfds2OO887Yghf1HxSArXihVw2mkwd66dfL75xoY9SnwpW9amsF17rQ017tABPvjAdSoR8blQCPr3t5vMALfdZqeR3bvd5pK8GTvWLt1//GFLFU6ZojWORCQX1qyxea7ffgvHHGP9gNNOc51K8qpUKXjvPVt+ZO9eG0X21luuU4kPqHgkhef33+0CsXgx1K9v85qPOcZ1KsmvpCTbhzm8kMkll8Dbb7tOJSJx4D//gXfegdRUeOUVWxt1xQrXqeRQsrNhwADo2NFuOHfuDJMm2QxmEZGDWrnS+gELFtjK+tOn241kiU9FisBzz8E990BWFlxxBQwf7jqVOKbikRSOP/6wOw2//WZbcU6dCpUru04lBRUK2QIm999vvYorroB333WdSkTiQNeu8PXXdg/hu++gSRPrS4g/bdkCnTrZ3gmhEAwcaHsnlCzpOpmI+N6qVdCqFfz0EzRooIWxE0UoBA8/DI8/bnPQr7vO7ghJYKl4JAX398LRp59ChQquU0lhCYXsVvQDD1gB6fLLbdtVEZFDaNQIZs2CM8+EtWutb/G//2kdJL/58Udo3hzGjYPy5WHiRLjzTi1RIiK5sHq1ndyXLLHC0eTJcMQRrlNJYerb1xY19Dybi/7aa64TiSMqHknBbNxoK/D/+is0bWqFI41vT0z33RcZgXTZZda7EBE5hMMOszX377jDdm7u2dN2Ydu503UyAdtI58QTbcBA/fowc6btkyAickhbt9ri2OElKyZPtpO+JJ477oiMQLr6art4SOCoeCT5l5EBF10UGaKqwlHiu/9+6NfPCkiXXGLbeIqIHEJyst20fPddWwfptdesnzFliutkwbVund0HuPBCW9/o4ottg53q1V0nE5G4kJVl85MXLYLatVU4CoK+feGhh6yA1K0bzJnjOpHEmIpHkj+eZ7ePp0yBSpUiY90lsYXnPl98sfU22re3uSgiIrnQpYttwtOggQ1YPfNMW0Jh82bXyYLD82zmcZ06kUXNn3nGntP6RiKSa3fcAR9/DBUrwvjx2pIxKO65B6680oYPt29vC6VLYKh4JPnz7LO2E1fx4jBmDBx9tOtEEitFitiwgebNYdkyOP987cMtIrnWoIGtg/TQQ1C0KLz8MtSta9vDS3Slp9tOal27wvr10LIlLFxou+NpfSMRybWhQ63qnJJi05c0ZDE4QiH7/3/qqVY46tBB89ADRMUjybsJE+C22+zxa6/ZYgkSLKmpMHo0HHkkfPONDR3QCrgikkspKXDvvTB3Lpx0kn3+7NjRRiZpMGPh8zx46SUbbTRuHJQpY99Pnqw+n4jk0eTJcPPN9njoUDjtNLd5JPaKFbOi4XHHwezZthtzdrbrVBIDKh5J3ixcaJ/uPc924LrkEteJxJUqVawXUrIkvPUWPPaY60QiEmfq1IGvvrIb2CVKwHvv2dIZTzyhG5mFZepUaNECrr/e1rZt3x5++ME2zNFoIxHJkyVLoHNnW++ob1+46irXicSVww6L3I348EPbWEcSXsjz0WiBUCjk+SlPTIQ/ucXDv3vTJtt3eflyG/P+9tv65Ck2bfH8860Njx1rPROROBVPp+RE89tv0KMHfPaZfV+5so1Ouu46m97mOz5vLDNm2H+/zz+37w8/HJ57zu756NIdez5vLiKHtm0bNGkCP/9sQ0VHjbKlDCTYJk2C886zguJ779m6qPEggCflkP2bZ3ue1zS/P0O/8ZJ7vXpZ4ahZMxg+XJ8+xXTsGBl1dM01mnMiIvly7LH2GXTiROufrF5t+zIcfzy8+ipkZrpOGB8WLLAlKE46yQpHZcrAgw/CL7/YwGFdukUkX26/3QpH9evbiHMVjgSgdWt4+ml73KOHLa4nCUsjj1yLl6rnhx/aMNUSJWDePKhZ03Ui8ZPsbDjrLPjiCxuF9OGH6qFIXIqXU3Ki8zz46CPo39+mWAHUqgUPPGCXoqQkt/kA3zWWxYvtv8+IEfZ9iRJwyy3Qpw9UqOA2m/iuuYjkzccf2+iSokVtjZt69VwnEj/xPJt5MGECtGlj7cXv/YAAnpQLY+SRikeuxUPDXbPGtsLZsAGGDIkskieS0/Lldjdq2zZ44w3o1s11IpE8i4dTcpBkZcG778L998Ovv9pzRx1l6/Vccw2kpTkM54PGsnevzRx+8UWYMsWeK1oUbrgB+vWzqX/iDz5oLiL5s3GjFYtWrYLHH7e1jkT+btUqaycbN9pFqUcP14kOLoAnZRWPEoHfG67nQadOtpbNWWfZnAINU5UDee01WzyxbFlbXP2oo1wnEskTv5+Sgyojw6auDRpk06/ARh+1b2+fT885x8GlyWFj+e032y1t+PDITOHUVKvZ33MPHH10zCPJIejcInGra1cb0tiiBUyb5pOhn+JLI0fawnolS8L8+f7ezjOAJ2UVjxKB3xuuigGSFzmLjWefbcVGvw9bFcnB76fkoMvOthE2Q4fC6NGRdZCqVbPdxK68EqpWjVGYGDeWPXtsPagXX4RPP428bd26NtLo8suhXLmYRJF80LlF4lI8FQPEH+Kl2BjAk7KKR4nAzw13+XJo0MD29n39dbjiCteJJB6sWWPDVtevh//9D266yXUikVzz8ylZ9rV6Nbzyio3AWbYs8nzTptCunS3P0bhxFEckxaCxrFljS0eMH28Fo+3b7flixeCii6xodPLJqtHHA51bJO7knIb0wgt2whE5lJzTHAcNsoX3/CiAJ2UVjxKBnxtu+/b2ibVTJ9uOU59OJbdyLrD+888xHAogUjB+PiXL/mVlwWefwbBhNjJn9+7In1WubEWkdu1s5nWpUoX4xlFoLJ4Hc+fapXf8eJg5c98/b9AAune3ezkVKxba20oM6NwiceeSS2zkUevWdnJVP0ByK+cC64sX23aqfhPAk7KKR4nArw136lRo2dI+af/8s1bdlLy78EIrOl57rQ0NEIkDfj0lS+7s3GmbPoaLLytWRP6saFEbldS4ceSrTh1IScnnmxWwsXie7Wg8Z44VjObMge++sxFVYcWLQ6tWkZFUWssofuncInFlxgw46SQ7Cf30k5atkLzr1g3eesumsb3zjus0/xTAk7KKR4nAjw03OxtOPBFmzYKHHoJ773WdSOLRTz/ZYhzZ2bBggT0W8Tk/npIlfzzPluoLF5K+/faf/1+LFrVNIsPFpBo1oEoV+ypf/hA32nPZWHbtsoLQqlXwxx+2bMicOfa1bt0/X5+WZsWidu2scFSiRN7+3eJPOrdI3PA8OP10mD7dtm189FHXiSQeLV8OtWrZgn0zZ9rdGz8J4ElZxaNE4MeGO2KEVYmrVLFRRyVLuk4k8apnT1v3qF07GDfOdRqRQ/LjKVkKx4YNkaJNeKTPzz8f+PVFi9qg23AxqXJlKyglJ9vXffdbY3n4IY/MTFu8e+dOKxSFi0WrVsGWLQd+j/LlI4WrRo3sePzxmh2SiHRukbgxdix07GhzY3/5xTbNEcmPvn3hiSfgjDNstws/XdwCeFJW8SgR+K3h7tkDtWvb6qMvvwzXXOM6kcSztWttZ47t220uyRlnuE4kclB+OyVLdG3dCvPmRQpKv/8eKfps3Xrwv+thjSXEwRtLSkqkCFW1qq0jGi4UHXOMvz5LS/To3CJxITPThmMuXgzPPgu33OI6kcSzTZusH7BpE0yYAOee6zpRRABPyioeJQK/Ndynn4bbbrMpRvPm2e1VkYJ4+GHo39+Gq86YEcWtj0QKzm+nZHEnPIooXEwKF5TCo4weetgay733eH+NRipWDCpVioxWqlIFKlRQgUh0bpE4MXSo7apWvTr88IMNwRQpiKeegttvt77l/PmQlOQ6kQngSVnFo0Tgp4abszo8frytzilSUDt3Qs2asHIlvPsudOniOpHIAfnplCw+p8YieaDmIr63fbst/LZmje2ydtFFrhNJIsg5q2X4cLj6ateJTABPyoVRPNIQAIl4+mkrHLVs6a9hhRLfSpSABx+0x/fea/tqi4iIiIh/DBlihaPmzaFzZ9dpJFEUKxZZdP3++yEjw20eKRCNPHLNL1XPPXtsG85162DaNDjtNLd5JLFkZdndrGXLNKpNfM0vp2SJA2oskgdqLuJrmZlw7LGwYgV8/DG0bes6kSSS7GybtrZ4sX9GtQXwpKyRR1J4Ro60wtEJJ8Cpp7pOI4kmKQluuskeDx7sNouIiIiIRIwZY4WjmjWhdWvXaSTRFCliOzCD+gFxTsUjMeFf5F69tLKnRMc110BqKkyaBEuWuE4jIiIiIhDpB/TsqY1NJDquuAJKl4bp023hbIlLOjuI7YA1c6ZtCXPppa7TSKKqUAEuu8we/+9/brOIiIiICCxYYEtWlCoF3bu7TiOJqnRpuOoqe6zRR3FLxSOJ/AJfe62NDBGJll697Pjaa7Btm9MoIiIiIoE3ZIgdr7wSypRxm0US28032/Htt2HDBrdZJF9UPAq61attvaMiReDGG12nkUTXoIEtxr5tG7z+uus0IiJYRcFDAAAgAElEQVQiIsG1cSO89ZY9Dq9JIxItxx8PbdrA7t0wfLjrNJIPKh4F3Usv2ZaJ7dtDtWqu00gQhD+cDBkSqB0ORERERHzl1Vdh1y446yyoXdt1GgmCcD/g+edtFzaJKyoeBd1779nxhhvc5pDg6NQJKlWyRbMXLHCdRkRERCSY1A+QWGvbFo45BpYvt3V3Ja6oeBRkP/8M338PZcvCmWe6TiNBkZICHTva49Gj3WYRERERCaIVK2zDnNRU69CLxEKRInD++fZY/YC4o+JRkI0ZY8d27axDLxIrnTrZURcNERERkdgbO9aOrVtDiRJus0iwhPsBH32kJSzijIpHQRbuuIdHgYjESqtWtiXsvHmwbJnrNCIiIiLBEu4HhDvyIrHSogVUqGCzYBYvdp1G8kDFo6Bauxa++QaKFrVV70ViqVixyBDp8J0vEREREYm+zZvhiy9sClG7dq7TSNAkJ9tmTaBZCHFGxaOgGjfOhgmedRaULu06jQSRpq6JiIiIxN7EiZCZCaedBhUruk4jQaR+QFxS8SioNFRVXDv3XLvz8OWXsGGD6zQiIiIiwaB+gLh2zjm2WPt330F6uus0kksqHgXR7t3w2WcQCkWGDIrEWrly0LIlZGXBJ5+4TiMiIiKS+DIzbeQRaN1TcadECSsgAUyY4DaL5JqKR0E0fz7s2QN16kDlyq7TSJC1bGnHGTPc5hAREREJgh9/hG3b4NhjoVo112kkyNQPiDsqHgXRrFl2bNrUbQ6RcBsMt0kRERERiR71A8Qv1A+IOyoeBdHMmXZs1sxtDpHwRWPuXMjIcJtFREREJNGpHyB+0agRJCXB99/Dzp2u00guqHgURLrjIH5RvjzUqGHrcP3wg+s0IiIiIolN/QDxixIloG5dW/903jzXaSQXVDwKmu3bba5zcjKccILrNCKRDy/hO2EiIiIiUvj27rW1TwGaNHGbRQTUD4gzBSoehUKhJ0Kh0OJQKLQgFAp9FAqFyuX4s36hUGhpKBRaEgqFWhc8qhSKuXMhOxvq14fixV2nEYkMm9Z8ZxEREZHoWbjQCki1akGZMq7TiKgfEGcKOvLoM6Ce53kNgJ+AfgChUKgO0AWoC7QBng+FQkkFfC8pDJrnLH6jOw4iIiIi0ad+gPiN+gFxpUDFI8/zPvU8L/PPb78FjvzzcUdghOd5ezzP+w1YCjQvyHtJIQkPVW3c2G0OkbBwW1y40OY8i4iIiEjhUz9A/KZBA0hJgSVLtGh2HCjMNY+uBib++TgN+CPHn6348zlxbcUKOx57rNscImGlSsHhh9tua+vWuU4jIiIikpjUDxC/KVoUqla1x6tWuc0ih3TI4lEoFPo8FAot2s9XxxyvuQfIBN7Oa4BQKHR9KBSaFQqFNNExFlautGOaanniI+GLRrh9ioiIiEjhCn/OCn/uEvED9QPiRvKhXuB53lkH+/NQKNQdaAec6Xme9+fT6cBROV525J/P7e/nDwOG/fmzvP29RgpR+p//G3TRED9JS7Oh1OnpGkotIiIiEg3hfoBuIoufhNtj+n7LBeIjBd1trQ3QF+jgeV7OSYpjgS6hUKhYKBQ6FqgJfFeQ95JCsG2bfRUvDuXKHfr1IrGiOw4iIiIi0ZORAWvXQigElSq5TiMSoX5A3DjkyKNDGAIUAz4LhUIA33qed4Pned+HQqGRwA/YdLabPc/TSriuheeRVq1qFw4Rv9BFQ0RERCR61qwBz4PKlSG5oF1AkUKkfkDcKNCZw/O8Ggf5s0eARwry86WQaZ5zwXkefPstDBsG8+bZXZy0NLj8cujcGVJTXSeMT7poSJCsXw+vvQajR8PGjVCyJJx5Jlx3HVSv7jqdSOLauRNGjoS337YbakWL2lTp66+3rct1Y00SmfoBhWPWLBg6FGbPhr17rRh32WVwySVQooTrdPFJ/YC4obJzkOiiUTDr1sFFF8G0afs+//338Omn0Ls3jBgBZx10mTDZH100JAg8D559Fu680z5w5jRrFjz+OPToAYMH27a1IlJ4PvnEOngbN+77/Ny5MHy4FXDfew8qVnSTTyTa1A8omE2boEsX+8yf0/ffw+TJcNtt8Oab0K6dm3zxTP2AuFGgNY8kzqxZY8fKld3miEebNkGrVv8sHOW0YQO0bQuffRa7XIki3CZXr3abQySaHn/cisx/LxzlNHSojWTMzo5dLpFEN3Gidej+XjjKafJkKyBt2RK7XCKxFO4HaL2jvNu2zW4O/71wlNPmzdCxI4wdG7tciUL9gLih4lGQ7NljR02tyrsHH4RFiw79usxMuPJKm84muVe8uB0P1qkWiWc//wz9+uXutSNHwgcfRDePSFDs2QPdu0NWLpbenD8fHn006pFEnFA/IP8GDoQ5cw79uuxsuPpq2LUr+pkSifoBcUPFoyAJFzS0SF7ebN8Or7yS+9evWgWjRkUvTyIKt0kV3SRRDRmSt9cPHhydHCJBM3Kk7TCVWy+/rI6fJKbwZyxNi86b3bttrdPc2rDBlrGQ3FM/IG6oeBQkmZl21EUjbz77DLZuzdvfef/96GRJVOE2GW6jIokmr+eEr76K7JApIvmX19+9jRthypToZBFxKfwZSzeR82baNNvoIi/UD8gb9QPihopHQRL+hUxKcpsj3hxsjYQD2bCh8HMksnCb1EVDElV+ziP5+Tsisi9dw0WMikf5o3NI9KkfEDdUPAqS8C+mFmLNm1KlYvN3gizcJlXYlESl84iIG/rdEzHhz1i5Wf9LInQOiT71A+KGikdBEh4SqPmkeXPGGVC0aN7+Tps2UYmSsDQPXxJd69Z5e/2//gVHHx2dLCJBktffveLF4fTTo5NFxCVNDcqfU06BEiXy9nfUD8gb9QPihopHQRIepqqLRt5UqgQXX5z715cuDVdcEb08iUhDqSXR9eqVt9f37AmhUHSyiATJVVflreN36aVQsWL08oi4okWJ86d8ebj88ty/vnhx23FNck/9gIMaPTedFgOncOxdE2gxcAqj56Y7y6LiUZCEq7nhrTol9wYMgMMPz91rBw2yApLkXnhrTt1xkER14om5Lyo3a2Zbi4tIwZUrZ9ts50alStC/f3TziLiifkD+3XsvVKmSu9c+/LAK0HmlfsABjZ6bTr9RC0nfvAsPSN+8i36jFjorIKl4FCTh4kdetqwVU706TJ4MRx114NcUKQLPPQc33BC7XIki3CZzW6ATiTehkG0Bfqii0CmnwMSJeR8iLyIH1qsXPPnkwUfzVatmu6xVqxarVCKxFf6MtW6d2xzx6Kij7Pxw3HEHf93jj8Ptt8cmUyJRP+CAnpi0hF0Z+65TtisjiycmLXGSR8WjIKla1Y4rV7rNEa/q14fvv4ehQ6Fx48iibpUqwR13wOLFeZ+aIib9z+p5uI2KJKKUFHjlFfjqK+jWLbKgZtGi0LYtjB4NX3yhO5Yi0XDbbfDjj3Y84gh7LikJmjaFl16ChQuhTh23GUWiKfwZK93dlJe4Vrs2LFgAw4dD8+aRfsDhh8Ott8IPP0Dfvm4zxiv1Aw5o5eZdeXo+2jSxMEhUPCq40qXh+uvty/NsxwrNzy24cJvURUMSXSgELVrYF9g8/6QkrW8kEgu1atkIpCef1O+eBI/6AQVXsqStZ3T11eoHFCb1Aw6oarlU0vdTKKpaLtVBGo08Cpa0NDvqolE4QiFdMApLuE2G26hIUCQnq/Mq4oJ+9yRowh3zVasiW6NL/qkfUHjUDzigPq1rkZqStM9zqSlJ9Gldy0keFY+CpGxZSE2FbdvsS8QvdMdBREREJHqKFbNp0VlZWvdI/EX9gAPq1CiNxy6oT1q5VEJAWrlUHrugPp0auSm0qVwaJKGQ/VL+8ov9ktZyU7EU+QddNERERESiq2pV2LDBPndVquQ6jYhRP+CgOjVKc1Ys+juNPAoazXcWP9JFQ0RERCS61A8QP1I/IG6oeBQ04V/K3393m0MkbO9eWL3aRsbpLpiIiIhIdKgfIH6TlaXd1uKIikdBU6+eHefOdZtDJGzBAlu4sVYt27JcRERERAqf+gHiN0uWwK5dcNRRUKaM6zRyCCoeBU2zZnacNcttDpGwmTPtGG6bIiIiIlL41A8Qv1E/IK74rnjkeZ7rCImtaVM7zpkDmZlus4hA5AOMLhoiIiIi0dOoERQpAgsXwu7drtOIqB8QZ3xXPLruuutcR0hsFSvCscfa8MAff3SdRiRyxyFc2BQRERGRwleqFPzrX3YDef5812lE1A+IM74rHpUtW9Z1hMQXruyGf1lFXNm5E77/HpKSoGFD12lEREREEpv6AeIXGRkwb549btLEbRbJFRWPgihc2dV8Z3Ft7lxbLLtePUhNdZ1GREREJLGpHyB+sWgR7NkDNWpA+fKu00guqHgURLrjIH6hRfJEREREYkf9APEL9QNiprDWlfZd8SgrK8t1hMTXuLEtljd/Pmzd6jqNBNlXX9lRFw0RERGR6GvQAIoWtbVP1693nUaCTP2AmNm8eXOh/BzfFY+2qpgRfWXKQIsWNs/0k09cp5Gg2r070v7atHGbRURERCQIiheHli3B82D8eNdpJKgyMyPtr21bt1kCoLAG6PiueLRlyxbXEYKhUyc7jh7tNocE1+TJsGOHjYQ7+mjXaURERESCQf0AcW36dNi0CWrVgtq1XadJeAlbPNLIoxjp2NGOEybA3r1us0gwhT+whD/AiIiIiEj0dehgx08/tZ1vRWJN/YCYStjikUYexUj16lC/vq15NHWq6zQSNFlZMHasPdZFQ0RERCR2qlaFE0+EXbusgCQSS56n4lGMbdiwoVB+ju+KRxp5FEMasiqufPstrF0Lxx0H9eq5TiMiIiISLOoHiCvz5sHvv0PlytC8ues0gbBs2bJC+Tm+Kx5p5FEMhaeujRkD2dlus0iwhD+odOwIoZDbLCIiIiJBE+4HjBtnixeLxErOfkAR35UjEpKKR1JwjRvDkUfCypUwc6brNBIUGqoqIiIi4lbt2nD88bBxI3z5pes0EiQffWRH9QNiZvny5YXyc3xXPFq+fDmZqn7HRigEnTvb45decptFgmPqVFi61Iaqnnyy6zQiIiIiwaN+gLgwYwYsXAjly0PLlq7TBEZCjjwqWrQou3fv5ueff3YdJThuvNGOb79tdx5Eom3IEDv26AHJyW6ziIiIiATV9dfbtKEPPoBVq1ynkSAI9wOuvRaKFXObJUASsniUmpoKwLx58xwnCZDjj4fWrWH3bhg+3HUaSXS//25T1pKTrXgkIiIiIm4cc4ytO5OZCUOHuk4jiW7NGnjvPStY3nST6zSBkpDT1kqUKAHA/PnzHScJmF697Pj887aFuki0vPCCLc5+0UVQpYrrNCIiIiLBFu4HDB0Ke/e6zSKJbdgwyMiA9u2hWjXXaQJj+/btrF+/nmKFMNLLl8UjjTyKsbZtoXp1WLYMxo93nUYS1a5dkTn14Q8qIiIiIuLOGWdAvXqwerVNXxOJhowMePFFe6x+QEwtWrQIgOrVqxf4Z/mqeBSetqaRRzFWpAjcfLM9HjzYbRZJXCNGwIYN0KQJnHSS6zQiIiIiEgpBz572WP0AiZZRo2yH7zp1oFUr12kCZdq0aQCccsopBf5ZvioeFStWjNKlS7N69WrWrFnjOk6wXHUVlCgBkyfDDz+4TiOJxvMiH0h69bIPKiIiIiLi3uWXQ9my8O23MGuW6zSSiML9gJ491Q+IsalTpwJwxhlnFPhn+ap4BNCgQQNAo49irlw5uOIKe/zII26zSOKZOBHmzoXDDoNLLnGdRkRERETCSpaEa66xxw8/7DaLJJ6pU+Hrr6FMGejWzXWaQMnMzOSrr74C4PTTTy/wz/Nd8ahx48YAf/0jJYbuuguKFoV33oHZs12nkUSRlQV9+9rjfv2geHG3eURERERkX3fcYbMQxoyB6dNdp5FEkZ0NffrY4z59oFQpt3kCZs6cOWzfvp2aNWtStWrVAv883xWP2rZtC8DYsWMdJwmgY46BW26xx3362FQjkYJ6/XX4/nvbVSG8tpaIiIiI+EeVKlZAAvUDpPCMHGlTIatUgd69XacJnMKcsgY+LB61atWKUqVKMX/+fJYtW+Y6TvDcfTeULw9ffGFTjUQKYudO6N/fHj/6KBTCFpEiIiIiEgV33AGVKsGMGfDhh67TSLzbs8f6lgAPPmjTIyWmEr54VKxYMdq0aQNo9JET5cvDvffa4759bcqRSH4984ztrNCkidY6EhEREfGz0qVhwAB73K8f7N3rNI7EuRdegN9+sx3Wund3nSZwCnu9I/Bh8QigY8eOgIpHztx8s00x+v57m3Ikkh/r1sHAgfb4iSegiC9PNyIiIiISds01UKsWLF0Kw4a5TiPxavNmeOghezxoECQnu80TQN999x3btm2jRo0apKWlFcrP9GVv7txzzyUpKYlp06axefNm13GCp1ixyI5r/fvDjh1u80h8evBB2LYNzj0XWrZ0nUZEREREDiUlJXLz74EHYMsWt3kkPj32GGzcCGecYX0Bibm33noLgA4dOhTaz/Rl8ahChQqceuqpZGZm8vHHH7uOE0xduthUo5UrI2vWiOTWjBk2VLVIEXj8cddpRERERCS3OnaEU06B9evhzjtdp5F4M38+PP20PR40CEIht3kCaM+ePYwYMQKAK6+8stB+ri+LRxCZujZmzBjHSQKqSBF48UVISrJf/j8X2xI5pJ074YorbL2s226DevVcJxIRERGR3AqF4PnnoWhRGDpUm+hI7u3ZA926QUYG3HQTNGvmOlEgjRs3jk2bNtGwYUMaNGhQaD/X98WjiRMnsmvXLsdpAqpp08ji2d27w9atTuNInOjXD376CerWjcx1FhEREZH4Ub9+5HPcNdfYFCSRQxkwABYuhBo1bNSROPHGG28AcMUVVxTqz/Vt8ejYY4+lWbNmbNu2jZEjR7qOE1z33GPT15Yvt1EkIgczZQo895wtivfmm1C8uOtEIiIiIpIft98OLVrAqlXQs6frNOJ333xjBaMiRWzTpZIlXScKpLVr1zJx4kSSkpK49NJLC/Vn+7Z4BHDDDTcA8MILLzhOEmApKfDGG7aI9vDhMGGC60TiV1u2RLbhvO8+aNTIaRwRERERKYCkJHjtNShRAt59F3RDXw5kxw5btiI7G/r0gZNPdp0osN555x0yMzNp27YtlSpVKtSf7evi0SWXXELZsmWZMWMGc+fOdR0nuOrUiey+du21sGGD2zziT7feCn/8YXOb+/VznUZERERECqpGDfjvf+3xjTfaKCSRv+vbF375xaY7PvCA6zSB9vrrrwOFu1B2mK+LRyVLlvzrH63RR47deiuceiqsXg3XXw+e5zqR+MmHH9qdqeLFbaRacrLrRCIiIiJSGG64Ac45x9Y9uvpq2xRFJOzjj22B9ZQUW7aiWDHXiQJrwYIFzJs3j3LlytGuXbtC//m+Lh4B3HjjjQC8+eabrF+/3nGaAEtKsrmrpUvDqFGqKEvE3Lk2TBVg4ECoXdttHhEREREpPKGQLV9Rvjx88gncdZfrROIXP/wAXbva4wcegBNOcJsn4J599lkAunbtSvEorD3r++JR7dq1adu2Lbt379boI9eOPRZGjLBF0B54wB5LsK1aBR06wM6dVkC65RbXiURERESksB15JHzwgY0u/+9/rZgkwbZuHbRrZztyX3QR3Hmn60SBtmLFCt58802KFClC7969o/Ievi8eAdx+++0ADBkyhN27dztOE3DnngtPPWWPu3eHb791Gkcc2rkTOnaEFSvglFNg2DC7MyUiIiIiiadVK5ueBDaVbdo0t3nEnT174IIL4LffoGlTW76iSFyUFhLWU089RUZGBp07d6ZmzZpReY+4+D/cqlUrGjZsyNq1a3n77bddx5FbboEePeyk0akT/P57VN5m9Nx0WgycwrF3TaDFwCmMnpselfeRfMjOtuLhzJk2Im3UKM1vFhEREUl0110HvXtDZqYVD5YudZ1IYs3zbA3cr76CtDQYO9Z25BNnNmzYwLBhwwC4K4rTSuOieBQKhf4affToo4+yZ88ex4kCLhSCwYPhzDNhzRpo3x62bSvUtxg9N51+oxaSvnkXHpC+eRf9Ri1UAckvBgyA99+HMmVg3Dg4/HDXiUREREQkFp54As47zxbQbtcONm1ynUhi6fHHbYOcEiWsH1CliutEgffMM8+wY8cOWrduTaNGjaL2PnFRPALo0qULderU4ddff+X58HBJcSclxYoHxx8PCxbApZdCRkah/fgnJi1hV8a+OznsysjiiUlLCu09JJ/efBMeesiGpr73HtSt6zqRiIiIiMRKUhK8+65ty75kCVx8sc1IkMT3wQfQr58NJnj7bYhioUJyZ/369TzzzDMA3H///VF9r7gpHiUnJzNo0CAAHnroITapwu1e+fIwfnzkePnlNoS1EKzcvCtPz0uMjBwJV11lj595Btq0cZtHRERERGKvdGkbdXLEEfD557Zg8t69rlNJNI0dawMGAB57zJYvEecGDRrE9u3badu2Lf/+97+j+l5xUzwCOPfcc2nVqhWbNm3ikUcecR1HAGrWhIkTbfrSyJHQrVuhFJCqlkvN0/MSAx98YBeMrCy4917o2dN1IhERERFx5ZhjYNIku5E8bpyNQFIBKTGNHw+dO9tMk9tug759XScSYPXq1QwZMgSABx98MOrvF1fFo1AoxBNPPAHA4MGD+e233xwnEgBOPNEuHKVLw4gRVkAq4BS2Pq1rkZqStM9zqSlJ9Gldq0A/V/Lp/fehSxcrHN1zDzz4oHZWExERkTzRZigJqGFDG3lUvjyMGaMpbIlo3Di48ELr3/XuDf/9r/oBPvHAAw+wa9cuOnbsSNOmTaP+fnFVPAJo3Lgx3bp1Y+/evdx9992u40jYSSftW0Dq3Bl27873j+vUKI3HLqhPWrlUQkBauVQeu6A+nRqlFV5myZ1XX40Ujvr1s/WOdMEQERGRPNBmKAmscWMrIJUrZwWkDh1gxw7XqaQwjBhhu+rt3Qv/+Q88+aT6AT4xY8YMhg4dSnJycsxmZYU8z4vJG+VG06ZNvVmzZh3ydb///jvHH388e/bsYcaMGTRv3jwG6aIk/Mvno/8PBfLdd7YOzqZNthvb6NFQqpTrVJJfzz1nFwqABx6A/v11wZCElminZIkiNRbJAzUXaDFwCun7WbsyrVwqX9/VykEiKXTz5sE558C6ddCiBUyYAGXLuk4l+TVsGNxwg5247rzT1jlKlH5AnJ+UMzMzadq0KfPnz+euu+7isccey9XfC4VCsz3Py/cQpbgbeQRw9NFH07t3bwDuuOMO/FQAC7zmzWHaNKhUCSZPtgLSypWuU0leZWXB3XdHCkdPPw333Zc4FwwRERGJKW2GEgANG8L06XDkkfD113D66bB8uetUklfZ2TbToEcPK648+igMHKh+gI8MHjyY+fPnU61aNfr37x+z943L4hHAXXfdxWGHHcb06dMZMWKE6ziSU/368NVXtojed99BkyZ2AZH4sGkTtG9vdxeKFIGXX4Zbb3WdSkREROKYNkMJiFq1rB9QsybMnw9Nm8IXX7hOJbm1dautbxS+aTx4sC1bIb7xxx9//FUwGjJkCCVKlIjZe8dt8ahs2bI8+uijAPTs2ZNVq1Y5TiT7qFEDZs6EM86A1auhZUt48cW4HRoYGIsWQbNmtoNexYrw6adwzTWuU4mIiEic02YoAXLMMfDtt9C6NaxfD2efbaPY1Q/wtyVLbCOk0aNtuuH48dpd2Yf+85//sGPHDi644ALOO++8mL533BaPAK699lratGnDxo0bue666zR9zW8OPxw++8xGrWRkwI03wnXXaQcGv/rgA1v4/JdfbNjxrFk27VBERESkgLQZSsBUqGBrHvXrZ8sh3Hab7ci8c6frZLI/48bZ8iOLF0PdutYPOPdc16nkb8aNG8dHH31EqVKlePbZZ2P+/nG5YHZO6enp1KtXj82bN/Pyyy9zTbyNkojzxbpy7a23rHC0e7dVtD/8ENL0YcEXsrLg3nttLjPAZZfZAnkxHAIp4hdBOSVLIVBjkTxQc5FA++AD6N7ddmBr2BA++giqVXOdSiCyvtGAAfb9hRfaTsulSzuNFXVxeFLesWMHdevWZfny5Tz99NPcmo9lRQK5YHZOaWlpDBkyBIBbb72VZcuWuQ0k+3f55bbu0THHwIwZtg7S+PGuU8nvv9vueAMHQlKSDSl+800VjkRERESkcHTubNPYqle3HdmaNrUbyeLWypW2zumAAVZMeewxeP/9xC8cxan+/fuzfPlyGjZsSE9H0wnjvngEcOmll3LhhReyfft2rrrqqv9v796joy7u/4+/JiSGCGJQLipgAUUtJFQgohUjQrBYuYNCoQpWULRSsf6wcvEAggfwa4UKtVy0gEUB80XkKgUB9YtWIvc71IgYLoGAShCJIZD5/TEbkmAWdsnls0mej3P2bDKb7L4Jc+az896Z9yg7O9vrkFCQpk3dEsjWraUjR9xg1auXO84TJSs7W3r9dbcsdeVKqVq13C2GnKQAAACAohQT4+qh/va30rffuoRSt24SdWtLnrXuQJyGDaUPPpCio9394MHMA0LU4sWLNWHCBFWoUEFTp05VeHi4J3GUieSRMUaTJ09WjRo19PHHH59biYQQVK2aK8I8frwUFSXNmeMGrjlzStWywVJtzx53dOqAAdLJk+7CvW2bK2oOAAAAFIeqVd3Og9dflypXlubPd/OAmTOZB5SUvXulNm1cOZH0dKl9ezcPuO8+ryODH99884369OkjSRozZoyaN2/uWSxlInkkSdWrV9fUqVMlSc8//7z27NnjcUTwq0IF6c9/did7tW7tTmHo1Uvq2FE6cMDr6MqurCy3Pe1Xv3JHqNas6fagz5snXXON19EBAACgrAsLk/74R2nHDpewOH5c+sMf3MlslB8pPi5o/hUAAB6mSURBVGfPuvIUMTHS6tXuA/3Zs6VFi6Tatb2ODn6cPn1aPXr00Pfff6927dpp0KBBnsZTZpJHktS5c2f17t1bP/30k3r16qWMjAyvQ8KF1K/vtky9+WbucZANG0qTJ0tnzngdXdmyfr0rVD5kiDvt7pFHpJ073aojAAAAoCRdf73bKvWvf7mT2T780CU2XnvNfeCJorNli9SihTvxLiPDfWi/c6fUsyfb1ELckCFDlJSUpDp16uitt95SWJi36ZsylTySpNdee0316tXTxo0b1bdvX4XSaXIogDFS375uAOvUSfrhB/dpREyMlJjoavPg0u3c6faU33abtGmTK1i+fLk7ReGqq7yODgAAAOWVMdLDD7v3q927u9PYnnlG+uUvpXfecatlcOm+/NIlipo0cQcW1arlVhq9845UvbrX0eEiFi5cqPHjxys8PFzvvvuurr76aq9DKnvJo+joaC1cuFCVK1fWnDlz9PLLL3sdEgJx3XXu2M7ERLciac8eqUcPV2R7yRL2QQdr716pd28pNtadZlGxojRokNsq+JvfeB0dAAAA4NSsKb37rrRggXTTTdJXX7mTmn/1Kzc/YB4QnJQUqV8/l4SbM0eKiJAGDnRbBTt08Do6BGDfvn165JFHJEnjxo3Tr3/9a28D8ilzySNJio2N1dtvvy1JGjp0qBYvXuxxRAiIMdKDD0q7d0tTp7rs+JYtbpBr0UL66COvIwx9Bw9KTz4p3XyzNGuW21f+5JNScrL0yiuuOCEAAAAQajp1cgmO6dPdavkdO6SuXaXmzd3KeZJIF3b4sPT001KDBtI//+na+vVzK5D+9jdXJgQhL6fO0fHjx9WhQwc9++yzXod0TplMHklSp06d9NJLL8laq169emnHjh1eh4RARURIjz/uEh7jx7tllZ9/7oprJyS4lUgsY81v9273icKNN0pTprjtfr17uxVc//iHS8QBAAAAoSw83BXQ3rNHmjTJHeqyfr0rrt2ypVudRG3U/JKT3Q6DG25wf7OsLFfPaNcu6Y03XH0plArWWg0YMEBffPGFfvGLX2jmzJkyIVSXqswmjyS36qhHjx46efKkOnbsqG+//dbrkBCMihXdqWx790ovveSy5atXu5VI9etLo0dLhw55HaV3MjOluXOle+5xy1InTpR++snVONq+XXrrLfd3AgAAAEqTyEhpwAC3he3ll12tzjVrpC5dpLp1pREjpP37vY7SO1lZ7sTkNm3cSqNXX5VOnXKrt7ZscSepNWjgdZShaWti7tcTYvJ/77FRo0bpjTfeUMWKFZWYmKirQqxGrQmlgtJxcXF2/fr1Rfqcp06d0t13360NGzbonnvu0YoVKxQREVGkr1EoOZnEEPp/CFnff++y59OmuQuJJFWoIHXsKPXvL917r9umVdYlJ7u/wYwZ0rFjru3yy11BvKeekm691dv4gFKMIRkBo7MgCHQXoJDS091WrKlTpf/+17WFhUnt2rl5wH33uXlBWff1124+NH26dOSIa6tY0dWKHTBAiovzNr5QtzVRWvy09ILvbzeiihQRJXWYKDXu7mloU6dO1RNPPKGwsDDNnz9fnTp1KvLXMMZssNZecicp88kjSTpw4IBuu+02HT58WE8++aRef/310Fn+xbuJ4GVnS6tWuYvHwoW5S1fr1XNbtTp0cKcKlKVEUmqqO8507lxp5crc9saN3QXz979nHzNQBBiSETA6C4JAdwGKiLXSxx+7ecD8+W4FjuS2ZuXMA+LiytY84MgRNw9ITMxf+6lhQzcPePhhqWpVb2MsLSbESOn7pRdPuO9HVHH3V9aR/rzds7AWLFigbt26KTs7W9OmTdNjjz1WLK9D8ihAa9euVcuWLXX69Gm99NJLGjZsWLG8TtB4N1E4qaluBc60adI33+S2X3ut+ySifXtXJ6m0FYrOzpY2bnT1nZYskTZsyH0sKsp9utC/v3T77bl9CEChMSQjYHQWBIHuAhSDtDRp5kyXSNq7N7e9Zk3p/vvdPODee6UrrvAsxEtirbR5c+484Isvch+LjHQHDPXv7w4UYh4QnJHRkuzPk0cy0sjjnoT06aefqk2bNsrMzNSLL76o4cOHF9trkTwKwrvvvquePXvKWqu//e1vGjhwYLG9VsB4N1E0zp51K3Lef19aulQ6cCD3scsuk1q1cheQli1dfaDwcO9iLYi1rn7T2rXuk4WlS3OXokouYZSQ4P4N3bvz6QJQTBiSETA6C4JAdwGKUXa2q4v6/vsu2ZKSkvtYRIR7/9++vasT2rChaws1qalSUpK0bJn7N+St6xoZ6Q4Oat/efYB89dXexVnahdjKo+3btys+Pl7Hjx9X//79NXny5GLdIUXyKEjTp09X3759JUlvvPGG+vXrV6yvd1G8myh61kpbt+Zm65OS8v99K1Z0272aNs29xcS4gbmk4tu3z60syntLS8v/c3XquItE+/Yu+RUVVTLxAeUYQzICRmdBEOguQAmxVtqxI3ce8PnnLrmUIzJSio3NPw+IjXXzg5KKLyXl5/OAw4fz/9x11+XOA1q3lipVKpn4yroQqnmUkpKiO++8UwcPHlTnzp01b948VSjmul0kjy7BxIkTNXDgQBljNGvWLP3+978v9tf0i3cTxS8tzWXxly2T1q3Lv6w1R3i4SyDdeKM7EvTaa3NvOd9Xr37x/dPWSj/84D49SE11F4Kcr1NT3akQW7ZIxwtYFhkd7S5gOSuMYmNZigqUMIZkBIzOgiDQXQCPHDsm/fvfbh7wxRfu4JnzVaggNWrkTie70DwgkIn9heYBBw64ecB33/3896pUcfOAnBVGt97KPKC4bE2UftXDfT2+kZQwvMQTR8eOHdPdd9+tXbt2KT4+XsuXL1dUCSwUIHl0icaOHauhQ4cqLCxMb731lh566KESed2f4d1Eyfv+e7ePOCfTv2mTtHv3xf8PKlRwA3t4uLtFRLj/vzNncm+nTkkZGRePoUYNqVkzd5Fo0sTd163LRQLwGEMyAkZnQRDoLkCISE/PnQds2uTud+3KvzqpIGFh7nCanHlAeLhryzsPyMhwc4GLqVbt5/OAevXKVpHvUOfhoJyamqo2bdpo586datSokdasWaOqJVSShORRIYwePVrDhw+XMUYzZsxQnz59Suy1z+HdRGg4eVLats0tI/X3acG33wb2XJdfXvAnFjm32Fh3T6IICDkMyQgYnQVBoLsAIezUKVfy4kLzgGPHAnuuqKgLzwNiYqRatZgHeM2jQTklJUUJCQlKTk5Ww4YNtXLlSl177bUl9vokjwppzJgxGjZsmIwxevPNN/Xoo4+W6OvzbqIUOX3aJZlyPl3IynKfUkRE5K5EiowsfSe7ATiHIRkBo7MgCHQXoJTLynJb0vzNA8LDXd2kSpVIDJUGHgzKX331lVq3bq2UlBQ1adJEK1asULVq1Urs9aXCJ49C7MipkpezdW3IkCHq27evjh07pueee65Yq5yjlLrsMumqq7yOAgAAAEBJiohgHoBLtnXrVt13331KTU3VHXfcoWXLlik6OtrrsILGxkpJgwcP1quvvipJev755/V4s0hl/bWRK6YFAEAAFmw6qBbjVqve4KVqMW61Fmw6WHRPvjXRHS87Mtrdc30CUA4VyTjLeAqUCusWTdXhkTcqe8SVOjzyRq1bNNXrkC7JJ598ovj4eKWmpqpVq1ZasWJFqUwcSaw8OufZNrV1/e+u1MPz0vXmpix9fXyP5h0foGipxKuvAwBKlwWbDmrI/G3KyDorSTp4PEND5m+TJHVuUqtwT55zrGyWrxh/+n73vcT1CUC5USTjLOMpUCqsWzRVMRteUJQ5LRnpGh3VlRte0DpJt3Xs73V4AZs/f7569eqlzMxMPfDAA3r77bcVGRnpdViXjJVHOVaN0gM3W33c53LVqGS06uuzunPqt/o68QWvIwMAhLhXlu85N6HJkZF1Vq8s31P4J181KneikyMrw7UDQDlRJOMs4ylQKtTZ+IpLHOURZU6rzsZXPIooONZaTZw4UQ888IAyMzP11FNPae7cuaU6cSSRPMqVfkCSdHvtcCX1q6SG1cO061i2bp+QrM8//9zj4AAAoezQ8Yyg2oPiuz4F3A4AZVCRjLOMp0CpUMMe9dMe4Kl3Hvrxxx/18MMPa+DAgbLWavTo0Zo0aZIqVKjgdWiFRvIox5W1z31ZNzpM/3m0ku6tX0FHT1m1atVKiYnshwYAFOy66Kig2oOS5/oUUDsAlEFFMs4yngKlQpqp7qe9ZE8nC9aXX36pO+64Q++8844qVaqkuXPn6oUXXigzh3GRPMqRMFyKyL34XFnRaGmfq/V4twRlZmaqR48eGjVqlM6ePXuBJwFQnhVrwWSEtOfa3qyoiPyfKEVFVNBzbW8u/JOfd32S5L5PGF745wZQapW3a06RjLOMp0CpsL/pc8qwl+Vry7CXaX/T50o0jmDG2YULFyouLk7bt2/XTTfdpKSkJPXo0aMEoy1+JI9yNO4udZgoXVlHkpGurKOIzpM05X8/1F//+lcZYzRixAglJCRo//79XkcLIMTkFPI8eDxDVrmFPMv6m3k4nZvU0tiusaoVHSUjqVZ0lMZ2jS18sWypwOuTOkykuCtQjpXHa06RjLOMp0CpcFvH/tre7CUdVnVlW6PDqq7tzV4q0WLZgY6zZ8+e1bBhw9S5c2edOHFCXbp00bp169SoUaMSi7WkGGut1zGcExcXZ9evX+91GAVavny5+vTpoyNHjig6OlrTpk3Tgw8+WPgnzlnCFkL/DwCC12Lcah0soO5CregofTa4tQcR4VIwJCNgdBYEoai7C9ccACiEAAblQMbZY8eOqWfPnlq5cqXCwsI0btw4DRo0KGS3qRljNlhr4y7191l5FKC2bdtq69atateunY4fP67u3bvr0Ucf1cmTJ70ODUAIKNaCyQAA5ME1BwCK18XG2c8++0xNmzbVypUrVb16dX344Yd67rnnQjZxVBSKJHlkjPl/xhhrjKtgZZyJxphkY8xWY0zTongdr9WoUUOLFy/W3//+d1WsWFEzZsxQkyZN9MUXX3gdGgCPFWvBZAAA8uCaAwDFy994WjNKevrppxUfH6/9+/fr9ttv18aNG9W6ddlf9Vno5JExpo6k30hKydP8W0kNfLfHJU0u7OuECmOMnnrqKa1fv16NGzdWcnKyWrRooTFjxlBMGyjHirVgMgAAeXDNQdC2JkoTYqSR0e5+KydJAxdS0Dh7NmWz9k7pr0mTJiksLExDhgzRJ598otq1y8eJjUWx8miCpL9IyrthsJOkf1lnraRoY8y1RfBaIaNRo0ZKSkrSM888ozNnzmjYsGFq2bKltmzZ4nVoADxQrAWTAQDIg2sOgrI1UVr8tJS+X5J194ufJoEEXEDecTY744ROrXhNB+a8oKOHD6pp06Zav369xowZo8jISK9DLTGFKphtjOkkqbW1dqAxZp+kOGvtMWPMEknjrLWf+n5ulaTnrbUXrIYdygWzL2T58uV65JFHdPjwYYWFhemJJ57Q6NGjddVVV138lym4CQAhgyEZAaOzIAh0F3hqQowvcXSeK+tIf95e8vEAXgtwULbWat68eRowYIDS0tJUsWJFvfjii3r22WcVHh5eAoEWrWIvmG2MWWmM2V7ArZOkoZKGX+qL+57/cWPMemPM+qNHjxbmqTzTtm1b7dy5U08//bSMMfrHP/6hBg0aaMqUKWxlAwAAAOCd9APBtQPQoUOH1LVrV3Xv3l1paWlq2bKltm7dqr/85S+lMnFUFC6aPLLWtrHWxpx/k7RXUj1JW3yrjmpL2miMuUbSQUl18jxNbV9bQc8/zVobZ62Nq169emH/PZ6pWrWqXnvtNW3evFmtWrXSd999pyeffFJxcXFas2aN1+EBAAAAKI+u9FOPxV87UI59//33Gjp0qBo0aKAFCxaoSpUqmjJlilavXq0GDRp4HZ6nLrnmkbV2m7W2hrW2rrW2rqQDkppaaw9LWiSpt+/UtTskpVtrU4sm5NAWExOjVatWad68ebr++uu1efNm3X333erVq5cOHiwwfwYAAAAAxSNhuBRx3slREVGuHYAk6ccff9TYsWNVv359jR07VqdOnVLXrl21Y8cO9e/fX2FhRXJQfalWXH+BD+RWJiVLekPSH4vpdUKSMUbdunXTrl27NGLECFWsWFFz5szRzTffrMGDBystLS33h61lAzwAAAh9nNYElE6Nu0sdJroaRzLuvsNE1w6UR3nm4JmZmZo0aZJuuOEGDR06VMePH1dCQoKSkpL03nvvlZuT1AJRqILZRa20Fsy+mH379mnQoEF67733JElRUVF64oknNGjQIF133XUeRwcAyEFRWwSsvHWWnNOasjJy2yKimIAGqLx1FwAIdWfOnNGsWbM0cuRIpaSkSJKaN2+uMWPGKCEhwePoikexF8xG4dWtW1fz5s1TUlKSOnTooIyMDE2YMEH169dX//79tWfPHq9DBAAA8G/VqPyJI8l9v2qUN/EAAHAJMjIyNH36dMXGxurRRx9VSkqKGjVqpAULFmjt2rVlNnFUFEgelaDmzZtr0aJF2rRpk7p166bMzExNmzZNt9xyizp06KCPP/5YobQSDAAAQBKnNQEASrWUlBQNHjxYderUUd++fbV7927Vq1dPs2bN0pYtW9SpUyeZnGWiKBDJIw/ceuutmjdvnnbu3KnHHntMkZGRWrJkiVq1aqUmTZpo/PjxFNcGAAChg9OaAAClzJkzZ7RkyRJ16dJF9erV08svv6xvv/1WzZo108yZM7V792499NBDqlChgtehlgrUPAoBaWlpmjx5sl5//XUdPXpUkiu6fc8996hXr17q1q2bqlat6nGUAFD2UZcEAStvnYWaR4VS3roLAHgpOTlZM2bM0MyZM3Xo0CFJUnh4uB588EH96U9/0h133FEuVxkVtuYRyaMQ8tNPP2np0qWaPXu2li5dqszMTElSRESE7r//fvXs2VMdOnTQ5Zdf7nGkAFA2McFDwMpjZ9ma6GocpR9wK44ShpM4ClB57C4AUFKysrL0n//8R0uXLtXSpUu1c+fOc4/ddNNN6tu3r3r37q1rrrnGwyi9R/KojEpPT9f777+v2bNna9WqVcrOzpYkVa5cWW3btlV8fLzi4+PVuHFjhYeHexwtAJQNTPAQMDoLgkB3AYCilZaWpmXLlumDDz7Q8uXLlZ6efu6xK664Ql26dFG/fv101113lctVRgUheVQOHD58WImJiZo9e7aSkpLyPVa5cmXdeeeduuuuuxQfH6/mzZuzMgkALhETPASMzoIg0F0A4NJlZWVpz5492rZtm7Zt26ZVq1Zp3bp1+Q6buuWWW9SuXTu1a9dOLVq00GWXXeZhxKGJ5FE5s3fvXn300Udas2aNPv30U3311Vf5Hg8PD1ezZs10yy23qE6dOrr++uvz3SpVquRR5AAQ+pjgIWB0FgSB7gIAF2at1U8//aS0tDRt3779XKJo27Zt2r17t7KysvL9fGRkpFq1aqV27drp/vvvV/369T2KvPQgeVTOHTp0SJ999tm5ZNKWLVvObXEDAAAAAKC0q1+/vmJjYxUbG6vmzZurdevWLIwIEskj5HPixAmtW7dO+/btU79+/bwOBwAAAACAS7J27Vo1atRIlStX9jqUUo/kEQKWnZ2to0ePKiUlRd99953Onj2rM2fO6OzZs4qPj1e1atW8DhEAAAAAUAZYa7Vjxw6dOHFC6enpOnHihLKzs1WlSpVztyuuuOLcfWRkpNchl2mFTR5xTFc5EhYWppo1a6pmzZpehwIAAAAAKMOMMYqJifE6DBSRMK8DAAAAAAAAQOgieQQAAAAAAAC/SB4BAAAAAADAL5JHAAAAAAAA8IvkEQAAAAAAAPwieQQAAAAAAAC/SB4BAAAAAADAL5JHAAAAAAAA8IvkEQAAAAAAAPwieQQAAAAAAAC/SB4BAAAAAADAL5JHAAAAAAAA8IvkEQAAAAAAAPwieQQAAAAAAAC/SB4BAAAAAADAL5JHAAAAAAAA8IvkEQAAAAAAAPwieQQAAAAAAAC/SB4BAAAAAADAL5JHAAAAAAAA8IvkEQAAAAAAAPwieQQAAAAAAAC/SB4BAAAAAADAL5JHAAAAAAAA8IvkEQAAAAAAAPwieQQAAAAAAAC/SB4BAAAAAADAL5JHAAAAAAAA8IvkEQAAAAAAAPwieQQAAAAAAAC/SB4BAAAAAADAL5JHAAAAAAAA8IvkEQAAAAAAAPwieQQAAAAAAAC/SB4BAAAAAADAL5JHAAAAAAAA8IvkEQAAAAAAAPwieQQAAAAAAAC/jLXW6xjOMcb8IGmP13Gg1Kgm6ZjXQaBUoK8gGPQXBIq+gmDQXxAo+gqCQX9BoG621l5xqb8cXpSRFIE91to4r4NA6WCMWU9/QSDoKwgG/QWBoq8gGPQXBIq+gmDQXxAoY8z6wvw+29YAAAAAAADgF8kjAAAAAAAA+BVqyaNpXgeAUoX+gkDRVxAM+gsCRV9BMOgvCBR9BcGgvyBQheorIVUwGwAAAAAAAKEl1FYeAQAAAAAAIIR4ljwyxjxojNlhjMk2xsSd99gQY0yyMWaPMaZtnvb7fG3JxpjBJR81vGaMedcYs9l322eM2exrr2uMycjz2BSvY4X3jDEjjTEH8/SL+/M8VuA4g/LJGPOKMWa3MWarMeZ9Y0y0r52xBQXiPQn8McbUMcZ8ZIzZ6XuvO9DX7veahPLN9552m69frPe1XWWM+dAY86XvvqrXccJbxpib84wfm40xJ4wxzzC2IIcxZroxJs0Ysz1PW4FjiXEm+t7HbDXGNL3o83u1bc0Y80tJ2ZKmShpkrc0ZKBtKmiOpuaTrJK2UdJPv1/4r6V5JByStk9TTWruzhENHiDDGvCop3Vo7yhhTV9ISa22Mt1EhlBhjRko6aa3963ntBY4z1tqzJR4kQoIx5jeSVltrzxhjXpYka+3zjC0oiDGmgnhPAj+MMddKutZau9EYc4WkDZI6S+quAq5JgDFmn6Q4a+2xPG3/I+k7a+04X4K6qrX2ea9iRGjxXYcOSrpd0h/E2AJJxpi7JZ2U9K+c967+xhJfkvFPku6X60evWWtvv9Dze7byyFq7y1q7p4CHOkmaa63NtNZ+LSlZboLXXFKytXavtfa0pLm+n0U5ZIwxcm/C5ngdC0olf+MMyilr7Qpr7Rnft2sl1fYyHoQ83pPAL2ttqrV2o+/rHyTtklTL26hQCnWS9Jbv67fkEpBAjgRJX1lrv/E6EIQOa+3/SfruvGZ/Y0knuSSTtdaulRTt+/DDr1CseVRL0v483x/wtflrR/kUL+mItfbLPG31jDGbjDGfGGPivQoMIWeAbynm9DxLvhlPcCGPSlqW53vGFpyPMQQB8a1ebCIpyddU0DUJsJJWGGM2GGMe97XVtNam+r4+LKmmN6EhRP1O+T9EZ2yBP/7GkqDfyxRr8sgYs9IYs72AG5/Owa8A+01P5R8wUyVdb61tIulZSbONMVVKMm544yL9ZbKkGyTdKtdHXvU0WHgqkLHFGDNM0hlJ7/iaGFsAXBJjTGVJ70l6xlp7QlyT4N9d1tqmkn4r6Snf1pNzrKszwhHZkCQZYy6T1FHS//qaGFsQkMKOJeFFGMvPWGvbXMKvHZRUJ8/3tX1tukA7ypCL9RtjTLikrpKa5fmdTEmZvq83GGO+kquVtb4YQ0UICHScMca8IWmJ79sLjTMoowIYWx6R1F5Sgu/iytgCfxhDcEHGmAi5xNE71tr5kmStPZLn8bzXJJRz1tqDvvs0Y8z7cltjjxhjrrXWpvq2kqR5GiRCyW8lbcwZUxhbcBH+xpKg38uE4ra1RZJ+Z4yJNMbUk9RA0hdyxSgbGGPq+bKtv/P9LMqfNpJ2W2sP5DQYY6r7CsfJGFNfrt/s9Sg+hIjz9u12kZRz8oC/cQbllDHmPkl/kdTRWnsqTztjCwrCexL45avL+E9Ju6y14/O0+7smoRwzxlTyFVaXMaaSpN/I9Y1Fkvr4fqyPpIXeRIgQlG8HBmMLLsLfWLJIUm/fqWt3yB1ElVrQE+Qo1pVHF2KM6SJpkqTqkpYaYzZba9taa3cYYxIl7ZTbOvBUzglIxpgBkpZLqiBpurV2h0fhw1vn7/GVpLsljTLGZMmd4veEtfb8YmEof/7HGHOr3PLMfZL6S9KFxhmUW3+XFCnpQzfv01pr7RNibEEBfKfy8Z4E/rSQ9LCkbcaYzb62oZJ6FnRNQrlXU9L7vmtPuKTZ1tp/G2PWSUo0xvSV9I3cQTEo53wJxnuVf/wo8P0uyh9jzBxJ90iqZow5IGmEpHEqeCz5QO6ktWRJp+RO7bvw8/tW5gMAAAAAAAA/E4rb1gAAAAAAABAiSB4BAAAAAADAL5JHAAAAAAAA8IvkEQAAAAAAAPwieQQAAAAAAAC/SB4BAAAAAADAL5JHAAAAAAAA8IvkEQAAAAAAAPz6/xbUKN+g+NNMAAAAAElFTkSuQmCC\n",
                "text/plain": "<Figure size 1440x720 with 1 Axes>"
              }
            ],
            "_view_module": "@jupyter-widgets/output",
            "_model_module_version": "1.0.0",
            "_view_count": null,
            "_view_module_version": "1.0.0",
            "layout": "IPY_MODEL_ccbf26eb7dbc40e7a9dd5a0b5aeb3d50",
            "_model_module": "@jupyter-widgets/output"
          }
        },
        "8060685c571b4ab992fc2ccdf812effb": {
          "model_module": "@jupyter-widgets/controls",
          "model_name": "DescriptionStyleModel",
          "state": {
            "_view_name": "StyleView",
            "_model_name": "DescriptionStyleModel",
            "description_width": "",
            "_view_module": "@jupyter-widgets/base",
            "_model_module_version": "1.5.0",
            "_view_count": null,
            "_view_module_version": "1.2.0",
            "_model_module": "@jupyter-widgets/controls"
          }
        },
        "8b6c1ec9a52049ca909182dbf927bd1a": {
          "model_module": "@jupyter-widgets/base",
          "model_name": "LayoutModel",
          "state": {
            "_view_name": "LayoutView",
            "grid_template_rows": null,
            "right": null,
            "justify_content": null,
            "_view_module": "@jupyter-widgets/base",
            "overflow": null,
            "_model_module_version": "1.2.0",
            "_view_count": null,
            "flex_flow": null,
            "width": null,
            "min_width": null,
            "border": null,
            "align_items": null,
            "bottom": null,
            "_model_module": "@jupyter-widgets/base",
            "top": null,
            "grid_column": null,
            "overflow_y": null,
            "overflow_x": null,
            "grid_auto_flow": null,
            "grid_area": null,
            "grid_template_columns": null,
            "flex": null,
            "_model_name": "LayoutModel",
            "justify_items": null,
            "grid_row": null,
            "max_height": null,
            "align_content": null,
            "visibility": null,
            "align_self": null,
            "height": null,
            "min_height": null,
            "padding": null,
            "grid_auto_rows": null,
            "grid_gap": null,
            "max_width": null,
            "order": null,
            "_view_module_version": "1.2.0",
            "grid_template_areas": null,
            "object_position": null,
            "object_fit": null,
            "grid_auto_columns": null,
            "margin": null,
            "display": null,
            "left": null
          }
        },
        "6a79ba6fec5043f8b50a3b0dde5eafd7": {
          "model_module": "@jupyter-widgets/controls",
          "model_name": "DescriptionStyleModel",
          "state": {
            "_view_name": "StyleView",
            "_model_name": "DescriptionStyleModel",
            "description_width": "",
            "_view_module": "@jupyter-widgets/base",
            "_model_module_version": "1.5.0",
            "_view_count": null,
            "_view_module_version": "1.2.0",
            "_model_module": "@jupyter-widgets/controls"
          }
        },
        "bd1b4868b0be4b2eab432083c0a9c2fc": {
          "model_module": "@jupyter-widgets/base",
          "model_name": "LayoutModel",
          "state": {
            "_view_name": "LayoutView",
            "grid_template_rows": null,
            "right": null,
            "justify_content": null,
            "_view_module": "@jupyter-widgets/base",
            "overflow": null,
            "_model_module_version": "1.2.0",
            "_view_count": null,
            "flex_flow": null,
            "width": null,
            "min_width": null,
            "border": null,
            "align_items": null,
            "bottom": null,
            "_model_module": "@jupyter-widgets/base",
            "top": null,
            "grid_column": null,
            "overflow_y": null,
            "overflow_x": null,
            "grid_auto_flow": null,
            "grid_area": null,
            "grid_template_columns": null,
            "flex": null,
            "_model_name": "LayoutModel",
            "justify_items": null,
            "grid_row": null,
            "max_height": null,
            "align_content": null,
            "visibility": null,
            "align_self": null,
            "height": null,
            "min_height": null,
            "padding": null,
            "grid_auto_rows": null,
            "grid_gap": null,
            "max_width": null,
            "order": null,
            "_view_module_version": "1.2.0",
            "grid_template_areas": null,
            "object_position": null,
            "object_fit": null,
            "grid_auto_columns": null,
            "margin": null,
            "display": null,
            "left": null
          }
        },
        "241ccec3451f46888b9f64da2f6d8520": {
          "model_module": "@jupyter-widgets/controls",
          "model_name": "DescriptionStyleModel",
          "state": {
            "_view_name": "StyleView",
            "_model_name": "DescriptionStyleModel",
            "description_width": "",
            "_view_module": "@jupyter-widgets/base",
            "_model_module_version": "1.5.0",
            "_view_count": null,
            "_view_module_version": "1.2.0",
            "_model_module": "@jupyter-widgets/controls"
          }
        },
        "ed7defa952af4b4fb88f9fe0b8ae6bc2": {
          "model_module": "@jupyter-widgets/base",
          "model_name": "LayoutModel",
          "state": {
            "_view_name": "LayoutView",
            "grid_template_rows": null,
            "right": null,
            "justify_content": null,
            "_view_module": "@jupyter-widgets/base",
            "overflow": null,
            "_model_module_version": "1.2.0",
            "_view_count": null,
            "flex_flow": null,
            "width": null,
            "min_width": null,
            "border": null,
            "align_items": null,
            "bottom": null,
            "_model_module": "@jupyter-widgets/base",
            "top": null,
            "grid_column": null,
            "overflow_y": null,
            "overflow_x": null,
            "grid_auto_flow": null,
            "grid_area": null,
            "grid_template_columns": null,
            "flex": null,
            "_model_name": "LayoutModel",
            "justify_items": null,
            "grid_row": null,
            "max_height": null,
            "align_content": null,
            "visibility": null,
            "align_self": null,
            "height": null,
            "min_height": null,
            "padding": null,
            "grid_auto_rows": null,
            "grid_gap": null,
            "max_width": null,
            "order": null,
            "_view_module_version": "1.2.0",
            "grid_template_areas": null,
            "object_position": null,
            "object_fit": null,
            "grid_auto_columns": null,
            "margin": null,
            "display": null,
            "left": null
          }
        },
        "aa660d3c586c4d6895e9cf80be3596ad": {
          "model_module": "@jupyter-widgets/controls",
          "model_name": "DescriptionStyleModel",
          "state": {
            "_view_name": "StyleView",
            "_model_name": "DescriptionStyleModel",
            "description_width": "",
            "_view_module": "@jupyter-widgets/base",
            "_model_module_version": "1.5.0",
            "_view_count": null,
            "_view_module_version": "1.2.0",
            "_model_module": "@jupyter-widgets/controls"
          }
        },
        "deca12b6e866484a853792450b95979a": {
          "model_module": "@jupyter-widgets/base",
          "model_name": "LayoutModel",
          "state": {
            "_view_name": "LayoutView",
            "grid_template_rows": null,
            "right": null,
            "justify_content": null,
            "_view_module": "@jupyter-widgets/base",
            "overflow": null,
            "_model_module_version": "1.2.0",
            "_view_count": null,
            "flex_flow": null,
            "width": null,
            "min_width": null,
            "border": null,
            "align_items": null,
            "bottom": null,
            "_model_module": "@jupyter-widgets/base",
            "top": null,
            "grid_column": null,
            "overflow_y": null,
            "overflow_x": null,
            "grid_auto_flow": null,
            "grid_area": null,
            "grid_template_columns": null,
            "flex": null,
            "_model_name": "LayoutModel",
            "justify_items": null,
            "grid_row": null,
            "max_height": null,
            "align_content": null,
            "visibility": null,
            "align_self": null,
            "height": null,
            "min_height": null,
            "padding": null,
            "grid_auto_rows": null,
            "grid_gap": null,
            "max_width": null,
            "order": null,
            "_view_module_version": "1.2.0",
            "grid_template_areas": null,
            "object_position": null,
            "object_fit": null,
            "grid_auto_columns": null,
            "margin": null,
            "display": null,
            "left": null
          }
        },
        "ccbf26eb7dbc40e7a9dd5a0b5aeb3d50": {
          "model_module": "@jupyter-widgets/base",
          "model_name": "LayoutModel",
          "state": {
            "_view_name": "LayoutView",
            "grid_template_rows": null,
            "right": null,
            "justify_content": null,
            "_view_module": "@jupyter-widgets/base",
            "overflow": null,
            "_model_module_version": "1.2.0",
            "_view_count": null,
            "flex_flow": null,
            "width": null,
            "min_width": null,
            "border": null,
            "align_items": null,
            "bottom": null,
            "_model_module": "@jupyter-widgets/base",
            "top": null,
            "grid_column": null,
            "overflow_y": null,
            "overflow_x": null,
            "grid_auto_flow": null,
            "grid_area": null,
            "grid_template_columns": null,
            "flex": null,
            "_model_name": "LayoutModel",
            "justify_items": null,
            "grid_row": null,
            "max_height": null,
            "align_content": null,
            "visibility": null,
            "align_self": null,
            "height": null,
            "min_height": null,
            "padding": null,
            "grid_auto_rows": null,
            "grid_gap": null,
            "max_width": null,
            "order": null,
            "_view_module_version": "1.2.0",
            "grid_template_areas": null,
            "object_position": null,
            "object_fit": null,
            "grid_auto_columns": null,
            "margin": null,
            "display": null,
            "left": null
          }
        }
      }
    }
  },
  "cells": [
    {
      "cell_type": "markdown",
      "metadata": {
        "id": "view-in-github",
        "colab_type": "text"
      },
      "source": [
        "<a href=\"https://colab.research.google.com/github/WilliamGaryDawkins/CS631-Project/blob/main/CS631_FinalProject.ipynb\" target=\"_parent\"><img src=\"https://colab.research.google.com/assets/colab-badge.svg\" alt=\"Open In Colab\"/></a>"
      ]
    },
    {
      "cell_type": "code",
      "metadata": {
        "id": "jhnu4eThAIOw"
      },
      "source": [
        "#install pyspark\n",
        "!pip install pyspark"
      ],
      "execution_count": null,
      "outputs": []
    },
    {
      "cell_type": "code",
      "metadata": {
        "id": "4bt_JmYuAPx2"
      },
      "source": [
        "#create the spark session so we can work with spark dataframes\n",
        "from pyspark.sql import SparkSession\n",
        "from pyspark.sql.functions import concat,concat_ws\n",
        "import random\n",
        "spark = SparkSession.builder.appName(\"YourTest\").master(\"local[2]\").config('spark.ui.port', random.randrange(4000,5000)).getOrCreate()"
      ],
      "execution_count": 2,
      "outputs": []
    },
    {
      "cell_type": "code",
      "metadata": {
        "id": "fvIdCtHPALN6"
      },
      "source": [
        "#from pyspark.sql.functions import concat, col, lit\n",
        "%matplotlib inline\n",
        "import requests\n",
        "from pyspark.sql.functions import col\n",
        "import matplotlib.pyplot as plt\n",
        "import pandas as pd\n",
        "import seaborn as sns\n",
        "import ipywidgets as widgets\n",
        "from ipywidgets import *\n",
        "from pyspark.sql.functions import col\n",
        "from pyspark.sql.functions import lit"
      ],
      "execution_count": 3,
      "outputs": []
    },
    {
      "cell_type": "code",
      "metadata": {
        "id": "tjTQsF-mGOVz"
      },
      "source": [
        "#Read in CSV files and create raw data frames\n",
        "games_raw = spark.read.csv(\"/content/drive/My Drive/NHL Dataset/game.csv\",header=True,inferSchema=True)\n",
        "game_goalie_stats_raw = spark.read.csv(\"/content/drive/My Drive/NHL Dataset/game_goalie_stats.csv\",header=True,inferSchema=True)\n",
        "game_plays_raw =spark.read.csv(\"/content/drive/My Drive/NHL Dataset/game_plays.csv\",header=True,inferSchema=True)\n",
        "game_plays_players_raw = spark.read.csv(\"/content/drive/My Drive/NHL Dataset/game_plays_players.csv\",header=True,inferSchema=True)\n",
        "game_shifts_raw = spark.read.csv(\"/content/drive/My Drive/NHL Dataset/game_shifts.csv\",header=True,inferSchema=True)\n",
        "game_skater_stats_raw =spark.read.csv(\"/content/drive/My Drive/NHL Dataset/game_skater_stats.csv\",header=True,inferSchema=True)\n",
        "game_teams_stats_raw = spark.read.csv(\"/content/drive/My Drive/NHL Dataset/game_teams_stats.csv\",header=True,inferSchema=True)\n",
        "player_info_raw = spark.read.csv(\"/content/drive/My Drive/NHL Dataset/player_info.csv\",header=True,inferSchema=True)\n",
        "team_info_raw = spark.read.csv(\"/content/drive/My Drive/NHL Dataset/team_info.csv\",header=True,inferSchema=True)"
      ],
      "execution_count": 4,
      "outputs": []
    },
    {
      "cell_type": "code",
      "metadata": {
        "id": "gmCkdAHUA7x-"
      },
      "source": [
        "## Create cleaner data frames, removing columns that wont be of interest (time of day,timezone info, venue location, links). \n",
        "## Note: Most dataframes do not have info we want to drop\n",
        "\n",
        "games = games_raw.drop(\"date_time_GMT\",\"venue_link\",\"venue_time_zone_id\",\"venue_time_zone_offset\",\"venue_time_zone_tz\").cache() \n",
        "game_goalie_stats = game_goalie_stats_raw.cache()\n",
        "game_plays = game_plays_raw.cache()\n",
        "game_plays_players = game_plays_players_raw.cache()\n",
        "game_shifts = game_shifts_raw.cache()\n",
        "game_skater_stats = game_skater_stats_raw.cache()\n",
        "game_teams_stats = game_teams_stats_raw.cache()\n",
        "player_info = player_info_raw.drop(\"link\").cache()\n",
        "team_info = team_info_raw.drop(\"link\").cache()\n",
        "\n",
        "##add point total to player stats\n",
        "game_skater_stats = game_skater_stats.withColumn(\"points\", col(\"goals\")+col(\"assists\")).cache()"
      ],
      "execution_count": 5,
      "outputs": []
    },
    {
      "cell_type": "code",
      "metadata": {
        "id": "SclusPfEKrG3"
      },
      "source": [
        "from matplotlib.patches import Circle, Rectangle, Arc\n",
        "\n",
        "def draw_rink(ax=None, color='black', lw=2):\n",
        "    # If an axes object isn't provided to plot onto, just get current one\n",
        "    if ax is None:\n",
        "        ax = plt.gca()\n",
        "\n",
        "\n",
        "    center_faceoff = Circle((0, 0), radius=1, linewidth=lw, color='blue', fill=True)\n",
        "    \n",
        "    zone_faceoff_1 = Circle((69, 22), radius=1, linewidth=lw, color='red', fill=True)\n",
        "    zone_faceoff_2 = Circle((-69, 22), radius=1, linewidth=lw, color='red', fill=True)\n",
        "    zone_faceoff_3 = Circle((69, -22), radius=1, linewidth=lw, color='red', fill=True)\n",
        "    zone_faceoff_4 = Circle((-69, -22), radius=1, linewidth=lw, color='red', fill=True)\n",
        "\n",
        "    neutral_faceoff_1 = Circle((20, 22), radius=1, linewidth=lw, color='red', fill=True)\n",
        "    neutral_faceoff_2 = Circle((-20, 22), radius=1, linewidth=lw, color='red', fill=True)\n",
        "    neutral_faceoff_3 = Circle((20, -22), radius=1, linewidth=lw, color='red', fill=True)\n",
        "    neutral_faceoff_4 = Circle((-20, -22), radius=1, linewidth=lw, color='red', fill=True)\n",
        "\n",
        "\n",
        "\n",
        "    center_circle = Circle((0,0), radius = 15, linewidth=lw, color='blue', fill= False)\n",
        "    zone_circle_1 = Circle((69,22), radius = 15, linewidth=lw, color='red', fill= False)\n",
        "    zone_circle_2 = Circle((-69,22), radius = 15, linewidth=lw, color='red', fill= False)\n",
        "    zone_circle_3 = Circle((69,-22), radius = 15, linewidth=lw, color='red', fill= False)\n",
        "    zone_circle_4 = Circle((-69,-22), radius = 15, linewidth=lw, color='red', fill= False)                                              \n",
        "\n",
        "    blue_line1 = Rectangle((-25,-42.5), 0, 85,linewidth=lw,color='blue',fill=False)\n",
        "    blue_line2 = Rectangle(( 25,-42.5), 0, 85,linewidth=lw,color='blue',fill=False)\n",
        "    center_line = Rectangle((0,-42.5), 0, 85,linewidth=lw,color='red',fill=False)\n",
        "   \n",
        "    goal_line1 = Rectangle((-89,-40.5), 0, 81,linewidth=lw,color='red',fill=False)\n",
        "    goal_line2 = Rectangle((89,-40.5), 0, 81,linewidth=lw,color='red',fill=False)\n",
        "\n",
        "    goal_crease1 = Arc((-89,0),8,8,angle=270,theta1=0,theta2=180,color='red')\n",
        "    goal_crease2 = Arc((89,0),8,8,angle=90,theta1=0,theta2=180,color='red')\n",
        "    \n",
        "    top_border = Rectangle((-85,42.5), 170, 0,linewidth=lw,color='black',fill=False)\n",
        "    bottom_border = Rectangle((-85,-42.5), 170, 0,linewidth=lw,color='black',fill=False)\n",
        "    left_border = Rectangle((-100,-27), 0, 54,linewidth=lw,color='black',fill=False)\n",
        "    right_border = Rectangle((100,-27), 0, 54,linewidth=lw,color='black',fill=False)\n",
        "\n",
        "    bottom_right_corner = Arc((-87.5,-30.1),29,20,angle=135,theta1=22,theta2=155,linewidth=lw)\n",
        "    top_right_corner = Arc((-87.5,30.1),29,20,angle=45,theta1=22,theta2=155,linewidth=lw)\n",
        "    top_left_corner = Arc((87.5,30.1),29,20,angle=315,theta1=22,theta2=155,linewidth=lw)\n",
        "    bottom_left_corner = Arc((87.5,-30.1),29,20,angle=225,theta1=22,theta2=155,linewidth=lw)\n",
        "  \n",
        "    \n",
        "    rink_elements = [center_faceoff,zone_faceoff_1,zone_faceoff_2,zone_faceoff_3,zone_faceoff_4,\n",
        "                      center_circle,zone_circle_1,zone_circle_2,zone_circle_3,zone_circle_4,\n",
        "                      blue_line1,blue_line2,center_line,neutral_faceoff_1,neutral_faceoff_2,neutral_faceoff_3,\n",
        "                      neutral_faceoff_4,goal_line1,goal_line2,goal_crease1,goal_crease2,top_border,bottom_border,\n",
        "                      left_border,right_border,bottom_right_corner,top_right_corner,top_left_corner,bottom_left_corner]\n",
        "\n",
        "    # Add the rink elements onto the axes\n",
        "    for element in rink_elements:\n",
        "        ax.add_patch(element)\n",
        "\n",
        "    return ax\n",
        "\n",
        "def draw_Ozone(ax=None, color='black', lw=2):\n",
        "    # If an axes object isn't provided to plot onto, just get current one\n",
        "    if ax is None:\n",
        "        ax = plt.gca()\n",
        "\n",
        "\n",
        "    center_faceoff = Circle((0, 0), radius=1, linewidth=lw, color='blue', fill=True)\n",
        "    zone_faceoff_1 = Circle((22, 69), radius=1, linewidth=lw, color='red', fill=True)\n",
        "    zone_faceoff_2 = Circle((-22, 69), radius=1, linewidth=lw, color='red', fill=True)\n",
        "\n",
        "    neutral_faceoff_1 = Circle((22, 20), radius=1, linewidth=lw, color='red', fill=True)\n",
        "    neutral_faceoff_2 = Circle((-22, 20), radius=1, linewidth=lw, color='red', fill=True)\n",
        "\n",
        "    \n",
        "    center_circle = Circle((0,0), radius = 15, linewidth=lw, color='blue', fill= False)\n",
        "    zone_circle_1 = Circle((22,69), radius = 15, linewidth=lw, color='red', fill= False)\n",
        "    zone_circle_2 = Circle((-22,69), radius = 15, linewidth=lw, color='red', fill= False)                                          \n",
        "\n",
        "    blue_line1 = Rectangle((-42.5,25), 85, 0,linewidth=lw,color='blue',fill=False)\n",
        "    \n",
        "    goal_line1 = Rectangle((-41,89), 82, 0,linewidth=lw,color='red',fill=False)\n",
        "\n",
        "    goal_crease2 = Arc((0,89),8,8,angle=180,theta1=0,theta2=180,color='red')\n",
        "    \n",
        "    top_border = Rectangle((42.5,0), 0, 85,linewidth=lw,color='black',fill=False)\n",
        "    bottom_border = Rectangle((-42.5,0), 0, 85,linewidth=lw,color='black',fill=False)\n",
        "\n",
        "    right_border = Rectangle((-27,100), 54, 0,linewidth=lw,color='black',fill=False)\n",
        "\n",
        "    bottom_right_corner = Arc((30.1,87.5),29,20,angle=315,theta1=22,theta2=155,linewidth=lw)\n",
        "    top_right_corner = Arc((-30.1,87.5),29,20,angle=45,theta1=22,theta2=155,linewidth=lw)\n",
        "  \n",
        "    \n",
        "    rink_elements = [zone_faceoff_1,zone_faceoff_2,\n",
        "                      zone_circle_1,zone_circle_2, neutral_faceoff_1,neutral_faceoff_2,\n",
        "                      blue_line1,center_faceoff,center_circle,\n",
        "                      goal_line1,goal_crease2,top_border,bottom_border,\n",
        "                      right_border,bottom_right_corner,top_right_corner]\n",
        "\n",
        "    # Add the rink elements onto the axes\n",
        "    for element in rink_elements:\n",
        "        ax.add_patch(element)\n",
        "\n",
        "    return ax"
      ],
      "execution_count": 6,
      "outputs": []
    },
    {
      "cell_type": "markdown",
      "metadata": {
        "id": "O5awnRnF1zfj"
      },
      "source": [
        "# Interactive Ranking by Stats plot"
      ]
    },
    {
      "cell_type": "code",
      "metadata": {
        "id": "G_kw58cJwNoQ"
      },
      "source": [
        "def ranked_by_stats_by_season_skater(season,stat,game_type):\n",
        "  players_ranked_skaters_dtf = game_skater_stats.join(player_info, \"player_id\").join(games, \"game_id\").filter(\"season = {0}\".format(season)).filter(\"type = '{0}'\".format(game_type)).select(\"player_id\",\"{0}\".format(stat)).groupBy(\"player_id\").sum(\"{0}\".format(stat)).join(player_info,\"player_id\").orderBy(\"sum({0})\".format(stat),ascending=False).select(concat(\"firstName\",lit(\" \"),\"lastName\").alias(\"FullName\"),\"sum({0})\".format(stat))\n",
        "  return players_ranked_skaters_dtf"
      ],
      "execution_count": null,
      "outputs": []
    },
    {
      "cell_type": "code",
      "metadata": {
        "colab": {
          "base_uri": "https://localhost:8080/",
          "height": 820,
          "referenced_widgets": [
            "0559b57fd4c648abbb6faadfb6574192",
            "0bf1e51c8b27446b914e03b618b5b1d1",
            "99fed9cfc70043c68f50026844ed3bbe",
            "57649ddc01354b92b60340564afc0ab5",
            "beb966ba06b04ef69a53b3eb6d0690a8",
            "a43a843f37f8483e8b264274ec0a7c20",
            "88255bbd7fe9424193655f4c2cbd50e3",
            "17c57da96b82450d88cbc18c2d3a5e63",
            "bfa970eaf0304d08b1d3719685e90f70",
            "5f48ba9f771f4ee39634fb35dd12ec01",
            "e2a1f47165344555aec288b4eafbd4e1",
            "aa7fba2b4e2f42a2aab6562d74f6bacb",
            "6ca4417b53f64f1bb4111fabdc6ef2d2",
            "e2cfddccc6a14e34b60c62a534cf561a",
            "2caece26c384438b9378c15adc2b3001",
            "8ab7be211dc04cb58c054219cbb82cbe"
          ]
        },
        "id": "eWED7rrD8Xm6",
        "outputId": "999a4eaf-877b-416a-bffe-237f2fa7764b"
      },
      "source": [
        "def update_stats_plot(season,stat,game_type,top_num):\r\n",
        "  \r\n",
        "  pdf = ranked_by_stats_by_season_skater(season,stat,game_type).limit(top_num).toPandas()\r\n",
        " # pdf.plot.barh(x='FullName',y=\"sum({0})\".format(stat))\r\n",
        "  plt.figure(figsize=(20,10))\r\n",
        "  ax = sns.barplot(y=pdf['FullName'],x=pdf[\"sum({0})\".format(stat)],palette='deep')\r\n",
        "  ax.set_xlabel('{0}'.format(stat),fontsize=15)\r\n",
        "  ax.set_ylabel('')\r\n",
        "  plt.title('Top {0} Players by {1} in the {2} NHL Season'.format(top_num,stat,season),y=1.05,fontsize=40)\r\n",
        "  if game_type == 'R':\r\n",
        "    plt.suptitle('Regular Season',y=0.90,fontsize=15)\r\n",
        "  else:\r\n",
        "    plt.suptitle('Playoffs',y=0.90,fontsize=15)  \r\n",
        "  plt.show()\r\n",
        "\r\n",
        "interact(update_stats_plot,\r\n",
        "         season=widgets.Dropdown(options=[20112012,20122013,20132014,20142015,20152016,20162017,20172018,20182019]),\r\n",
        "         stat=widgets.Dropdown(options=['points','goals','assists','shots','hits','powerPlayGoals','powerPlayAssists','timeOnIce','penaltyMinutes','faceOffWins','faceoffTaken','takeaways','giveaways','shortHandedGoals','shortHandedAssits','blocked','plusMinus','evenTimeOnIce','powerPlayTimeOnIce','shortHandedTimeOnIce']),\r\n",
        "         game_type=widgets.Dropdown(options=[\"R\",\"P\"]),\r\n",
        "         top_num=widgets.IntSlider(value=20,min=1,max=200,step=1))\r\n"
      ],
      "execution_count": null,
      "outputs": [
        {
          "output_type": "display_data",
          "data": {
            "application/vnd.jupyter.widget-view+json": {
              "model_id": "0559b57fd4c648abbb6faadfb6574192",
              "version_minor": 0,
              "version_major": 2
            },
            "text/plain": [
              "interactive(children=(Dropdown(description='season', options=(20112012, 20122013, 20132014, 20142015, 20152016…"
            ]
          },
          "metadata": {
            "tags": []
          }
        },
        {
          "output_type": "execute_result",
          "data": {
            "text/plain": [
              "<function __main__.update_stats_plot>"
            ]
          },
          "metadata": {
            "tags": []
          },
          "execution_count": 8
        }
      ]
    },
    {
      "cell_type": "markdown",
      "metadata": {
        "id": "Kq4qZezUg5en"
      },
      "source": [
        "# Team Standings for a Given Season"
      ]
    },
    {
      "cell_type": "code",
      "metadata": {
        "id": "6XgHgt8WqTSy"
      },
      "source": [
        "from pyspark.sql.functions import udf\r\n",
        "def point_calc(won,settled):\r\n",
        "  if won == True:\r\n",
        "    points = 2\r\n",
        "  elif (won == False) & (settled == 'OT'):\r\n",
        "    points = 1\r\n",
        "  elif (won == False) & (settled == 'SO'):\r\n",
        "    points = 1 \r\n",
        "  else:\r\n",
        "    points = 0\r\n",
        "  return points\r\n",
        "\r\n",
        "point_calc_udf = udf(point_calc,'Int') "
      ],
      "execution_count": null,
      "outputs": []
    },
    {
      "cell_type": "code",
      "metadata": {
        "id": "fzX0IY7Kk4pM"
      },
      "source": [
        "points_of_teams = game_teams_stats.select('game_id','team_id','won','settled_in').join(team_info.select('team_id','shortName','teamName'),'team_id').join(games.select('game_id','season','type'),'game_id').filter(\"type='R'\")\r\n",
        "points_of_teams = points_of_teams.withColumn('points',point_calc_udf(points_of_teams['won'],points_of_teams['settled_in'])).groupBy('teamName','season').sum('points').withColumnRenamed('sum(points)','points').cache()\r\n",
        "#points_of_teams.show()\r\n",
        "#pdf = points_of_teams.filter('season = {0}'.format(20122013)).show()\r\n",
        "#display(pdf)"
      ],
      "execution_count": null,
      "outputs": []
    },
    {
      "cell_type": "code",
      "metadata": {
        "colab": {
          "base_uri": "https://localhost:8080/",
          "height": 724,
          "referenced_widgets": [
            "54d3780032f547ed92ba961899a013f8",
            "1648a928dd59499ba5b420934f736b3a",
            "0c4a62b6e1af4558a7c8f365bf3bad45",
            "7e22888efaf844b799dcd870d2c2aa86",
            "b9bf1ffa999f4c0e99679359b2e4209d",
            "440e258555134192ba7b602805e1c2e2",
            "fc949700d0884eb58f33c43d5dda7ac2"
          ]
        },
        "id": "I-2g53UFiVya",
        "outputId": "83bcf6a0-2a1d-4b3c-fae0-b146fdb59dc8"
      },
      "source": [
        "def update_standings_plot(season):\r\n",
        "  \r\n",
        "  pdf = points_of_teams.filter('season = {0}'.format(season)).orderBy('points',ascending=False).toPandas()\r\n",
        "  plt.figure(figsize=(20,10))\r\n",
        "  ax = sns.barplot(y=pdf['teamName'],x=pdf['points'],palette='deep')\r\n",
        "  ax.set_xlabel('Points',fontsize=15)\r\n",
        "  ax.set_ylabel('')\r\n",
        "  plt.title('Standings of the {0} NHL Regular Season'.format(season),y=1.05,fontsize=40)\r\n",
        "  plt.show()\r\n",
        "\r\n",
        "interact(update_standings_plot,\r\n",
        "         season=widgets.Dropdown(options=[20112012,20122013,20132014,20142015,20152016,20162017,20172018,20182019]),\r\n",
        "         )"
      ],
      "execution_count": null,
      "outputs": [
        {
          "output_type": "display_data",
          "data": {
            "application/vnd.jupyter.widget-view+json": {
              "model_id": "54d3780032f547ed92ba961899a013f8",
              "version_minor": 0,
              "version_major": 2
            },
            "text/plain": [
              "interactive(children=(Dropdown(description='season', options=(20112012, 20122013, 20132014, 20142015, 20152016…"
            ]
          },
          "metadata": {
            "tags": []
          }
        },
        {
          "output_type": "execute_result",
          "data": {
            "text/plain": [
              "<function __main__.update_standings_plot>"
            ]
          },
          "metadata": {
            "tags": []
          },
          "execution_count": 13
        }
      ]
    },
    {
      "cell_type": "markdown",
      "metadata": {
        "id": "FsGwycYogCaY"
      },
      "source": [
        "# World Map of NHL Player's Nationalities"
      ]
    },
    {
      "cell_type": "code",
      "metadata": {
        "id": "kxzoqlSYjO9q"
      },
      "source": [
        "pip install geopandas"
      ],
      "execution_count": null,
      "outputs": []
    },
    {
      "cell_type": "code",
      "metadata": {
        "id": "3NETlXntjwCq"
      },
      "source": [
        "import geopandas"
      ],
      "execution_count": null,
      "outputs": []
    },
    {
      "cell_type": "code",
      "metadata": {
        "id": "Au2KyUaaggzY"
      },
      "source": [
        "def skaters_nationalities_by_season():\r\n",
        "  player_nationality_dtf = game_skater_stats.join(player_info, \"player_id\").join(games, \"game_id\").select(\"player_id\",\"nationality\",\"season\").dropDuplicates([\"player_id\",\"season\"]).groupBy(\"nationality\",\"season\").count().withColumnRenamed(\"count\", \"player count\")\r\n",
        "  return player_nationality_dtf\r\n",
        "\r\n",
        "def goalies_nationalities_by_season():\r\n",
        "  goalie_nationality_dtf = game_goalie_stats.join(player_info, \"player_id\").join(games, \"game_id\").select(\"player_id\",\"nationality\",\"season\").dropDuplicates([\"player_id\",\"season\"]).groupBy(\"nationality\",\"season\").count().withColumnRenamed(\"count\", \"player count\")\r\n",
        "  return goalie_nationality_dtf "
      ],
      "execution_count": null,
      "outputs": []
    },
    {
      "cell_type": "code",
      "metadata": {
        "id": "gB9uv1gFLcjx"
      },
      "source": [
        "world = geopandas.read_file(geopandas.datasets.get_path('naturalearth_lowres'))"
      ],
      "execution_count": null,
      "outputs": []
    },
    {
      "cell_type": "code",
      "metadata": {
        "id": "advC89_wf2Ys"
      },
      "source": [
        "world.columns=['pop_est', 'continent', 'name', 'nationality', 'gdp_md_est', 'geometry']\r\n",
        "players_ntls_skaters = skaters_nationalities_by_season().toPandas()\r\n",
        "players_ntls_goalies = goalies_nationalities_by_season().toPandas()"
      ],
      "execution_count": null,
      "outputs": []
    },
    {
      "cell_type": "code",
      "metadata": {
        "id": "Ky5kpwhFmLEa",
        "colab": {
          "base_uri": "https://localhost:8080/",
          "height": 778,
          "referenced_widgets": [
            "1cb0e2eede0746deaef3567e34149c3c",
            "d2aded8bd85d4d6aa6dfb42299676997",
            "ae66a53d08554f41988da5861c6729f9",
            "9bf80e6e3eac4f8e85ab8cc6673d48c5",
            "edec795fd55b4245a944e7f3576251b0",
            "c66b6a539dd246328bdf339033ac5b13",
            "25cc1e033eaf4f75bedfc21d5c131f44",
            "f4a5632f7e5a4055b74266a0ad0c5e2a",
            "d61b584315ec425fbf6d6837a24131be",
            "d1bbf02f6e7340109a733ec17b870c41"
          ]
        },
        "outputId": "b2b413e9-fe47-4e48-bf21-3f2a21e4f7ba"
      },
      "source": [
        "from mpl_toolkits.axes_grid1 import make_axes_locatable\r\n",
        "cmap2 = plt.cm.Purples\r\n",
        "\r\n",
        "\r\n",
        "def update_world_plot(given_season,player_type):\r\n",
        "  \r\n",
        "  if player_type == 'all':\r\n",
        "    players_ntls = nationalities_by_season_total(season).toPandas()\r\n",
        "  elif player_type == 'skaters':\r\n",
        "    players_ntls = players_ntls_skaters[(players_ntls_skaters.season==given_season)]\r\n",
        "  elif player_type == 'goalies':\r\n",
        "    players_ntls = players_ntls_goalies[(players_ntls_goalies.season==given_season)]\r\n",
        "  \r\n",
        "\r\n",
        " # world.columns=['pop_est', 'continent', 'name', 'nationality', 'gdp_md_est', 'geometry']\r\n",
        "  players_ntls.columns=['nationality','season','player_count']\r\n",
        "  merged = world.merge(players_ntls,on=['nationality'],how='left').fillna(0)\r\n",
        "\r\n",
        "  ax = merged.plot(column='player_count',cmap='YlGnBu',figsize=(20,25),legend=True,legend_kwds={'orientation':'horizontal','pad': 0,'label': 'Number of Players'},\r\n",
        "              facecolor='blue')\r\n",
        "  ax.set_facecolor(cmap2(0.1))\r\n",
        "  plt.title('Countries by NHL Player Nationalities',fontsize=40)\r\n",
        "  plt.show()\r\n",
        "\r\n",
        "\r\n",
        "  \r\n",
        "\r\n",
        "plot= interact(update_world_plot,\r\n",
        "         given_season=widgets.Dropdown(options=[20112012,20122013,20132014,20142015,20152016,20162017,20172018,20182019]),\r\n",
        "         player_type=widgets.Dropdown(options=[\"skaters\",\"goalies\"]))\r\n",
        "\r\n",
        "plot"
      ],
      "execution_count": null,
      "outputs": [
        {
          "output_type": "display_data",
          "data": {
            "application/vnd.jupyter.widget-view+json": {
              "model_id": "1cb0e2eede0746deaef3567e34149c3c",
              "version_minor": 0,
              "version_major": 2
            },
            "text/plain": [
              "interactive(children=(Dropdown(description='given_season', options=(20112012, 20122013, 20132014, 20142015, 20…"
            ]
          },
          "metadata": {
            "tags": []
          }
        },
        {
          "output_type": "execute_result",
          "data": {
            "text/plain": [
              "<function __main__.update_world_plot>"
            ]
          },
          "metadata": {
            "tags": []
          },
          "execution_count": 19
        }
      ]
    },
    {
      "cell_type": "markdown",
      "metadata": {
        "id": "6eINOK-CExq6"
      },
      "source": [
        "# Individual Player Offensive Scatter plots/Heatmaps"
      ]
    },
    {
      "cell_type": "code",
      "metadata": {
        "id": "5ZurR9JGFLTG"
      },
      "source": [
        "game_plays_shots = game_plays.filter(\"event = 'Shot'\").select('play_id','game_id','event','st_x','st_y').join(games.select('game_id','season'),'game_id').join(game_plays_players.select('play_id','player_id'),'play_id').join(player_info.select('player_id','firstName','LastName'),'player_id').withColumn('fullName', concat_ws(' ','firstname','lastName')).cache()\r\n",
        "game_plays_goals = game_plays.filter(\"event = 'Goal'\").select('play_id','game_id','event','st_x','st_y').join(games.select('game_id','season'),'game_id').join(game_plays_players.select('play_id','player_id'),'play_id').join(player_info.select('player_id','firstName','LastName'),'player_id').withColumn('fullName', concat_ws(' ','firstname','lastName')).cache()"
      ],
      "execution_count": null,
      "outputs": []
    },
    {
      "cell_type": "code",
      "metadata": {
        "colab": {
          "base_uri": "https://localhost:8080/",
          "height": 815,
          "referenced_widgets": [
            "5275a457bf92431c9fdc6c49f93a4ac8",
            "06038dcb0c99484792337fb42a1dd5f1",
            "74c4c23c8a0f421eb4b7f8fe138e7b9d",
            "18dbe15f68364d9e96d748ae5c7be730",
            "8ddfbeead17442dab59c01b4ea250376",
            "b5d9781e9e864060a169f3fe53a8b14d",
            "16f1156244e74147b67a9836b28b4dd3",
            "76047b1da09a412893254faf111af987",
            "9ae35c24766e4d60aca4fd6446fce977",
            "648849e9e9784000b9db0726ce761743",
            "d15e02538047468cae658828d8328639",
            "490de2a7a0c14b628a33d10a775be685",
            "55e06977edfd42faa940addf1f5e8de7",
            "8349a9325df746afa8ac82a4b481360e",
            "51aa75bca24f444a8d9db5ff5253b75f",
            "ba02ce1c956a4acbab1355a07d042666"
          ]
        },
        "id": "92BYggljd9MU",
        "outputId": "c9a11f99-8643-4d69-eaf6-bdaa9a267f9d"
      },
      "source": [
        "def update_offensive_plot(season,name,stat,plot_type):\n",
        "  \n",
        "  if plot_type == 'scatter plot':\n",
        "    if stat == 'Goals':\n",
        "      Player_stats_df = game_plays_goals.filter(\"season = {0}\".format(season)).filter(\"fullName = '{0}'\".format(name)).select('st_x','st_y').toPandas().astype(float) \n",
        "    elif stat == 'Shots':\n",
        "      Player_stats_df_shots = game_plays_shots.filter(\"season = {0}\".format(season)).filter(\"fullName = '{0}'\".format(name)).select('st_x','st_y').toPandas().astype(float)  \n",
        "      Player_stats_df_goals = game_plays_goals.filter(\"season = {0}\".format(season)).filter(\"fullName = '{0}'\".format(name)).select('st_x','st_y').toPandas().astype(float)\n",
        "      Player_stats_df = Player_stats_df_shots.append(Player_stats_df_goals, ignore_index=True)\n",
        "  \n",
        "    plt.figure(figsize=(12,12))\n",
        "    plt.scatter(Player_stats_df.st_y*-1,Player_stats_df.st_x)\n",
        "    draw_Ozone()\n",
        "    plt.xlim(-42.5,42.5)\n",
        "    plt.ylim(0,100)\n",
        "    plt.tick_params(labelbottom=False,labelleft=False)\n",
        "    plt.show()\n",
        "  \n",
        "  elif plot_type == 'heat map':\n",
        "    \n",
        "    if stat == 'Goals':\n",
        "      Player_stats_df = game_plays_goals.filter(\"season = {0}\".format(season)).filter(\"fullName = '{0}'\".format(name)).select('st_x','st_y').toPandas().astype(float) \n",
        "    elif stat == 'Shots':\n",
        "      Player_stats_df_shots = game_plays_shots.filter(\"season = {0}\".format(season)).filter(\"fullName = '{0}'\".format(name)).select('st_x','st_y').toPandas().astype(float)  \n",
        "      Player_stats_df_goals = game_plays_goals.filter(\"season = {0}\".format(season)).filter(\"fullName = '{0}'\".format(name)).select('st_x','st_y').toPandas().astype(float)\n",
        "      Player_stats_df = Player_stats_df_shots.append(Player_stats_df_goals, ignore_index=True)\n",
        "    cmap=plt.cm.Blues\n",
        "    \n",
        "    joint_stats_plot = sns.jointplot(x=Player_stats_df.st_y*-1,y=Player_stats_df.st_x,\n",
        "                                 kind='kde',space=0,n_levels=50,cmap=cmap,color=cmap(0.8),shade=True,thresh=0,\n",
        "                                 fill=True)\n",
        "\n",
        "    joint_stats_plot.fig.set_size_inches(12,12)\n",
        "\n",
        "    ax = joint_stats_plot.ax_joint\n",
        "    draw_Ozone(ax)\n",
        "    ax.set_xlim(-42.5,42.5)\n",
        "    ax.set_ylim(0,100)\n",
        "\n",
        "    ax.set_xlabel('')\n",
        "    ax.set_ylabel('')\n",
        "    ax.set_facecolor(cmap(0))\n",
        "    ax.tick_params(labelbottom=False,labelleft=False)\n",
        "\n",
        "\n",
        "    plt.show()\n",
        "\n",
        "\n",
        "plot= interact(update_offensive_plot,\n",
        "         season=widgets.Dropdown(options=[20112012,20122013,20132014,20142015,20152016,20162017,20172018,20182019]),\n",
        "         stat=widgets.Dropdown(options=[\"Goals\",\"Shots\"]),\n",
        "         plot_type=widgets.Dropdown(options=[\"scatter plot\",\"heat map\"]),\n",
        "         name = widgets.Text())"
      ],
      "execution_count": null,
      "outputs": [
        {
          "output_type": "display_data",
          "data": {
            "application/vnd.jupyter.widget-view+json": {
              "model_id": "5275a457bf92431c9fdc6c49f93a4ac8",
              "version_minor": 0,
              "version_major": 2
            },
            "text/plain": [
              "interactive(children=(Dropdown(description='season', options=(20112012, 20122013, 20132014, 20142015, 20152016…"
            ]
          },
          "metadata": {
            "tags": []
          }
        }
      ]
    },
    {
      "cell_type": "markdown",
      "metadata": {
        "id": "GJEt4B0R8kra"
      },
      "source": [
        "# Game-byGame Scatter Plots"
      ]
    },
    {
      "cell_type": "code",
      "metadata": {
        "id": "PMpdsVsOcZwI"
      },
      "source": [
        "\n",
        "SelectedGameInfo = games.select('game_id','season','date_time','away_team_id','home_team_id').join(game_teams_stats.select('game_id','team_id'),'game_id').join(team_info,'team_id')\n",
        "#SelectedGameInfo.show()\n",
        "home_team_info = SelectedGameInfo.select('home_team_id','game_id','season','date_time','home_team_id','abbreviation').withColumnRenamed(\"home_team_id\",\"team_id_for\").join(game_plays, ['game_id','team_id_for']).select('game_id','season','date_time','abbreviation','event','st_x','st_y').cache()\n",
        "away_team_info = SelectedGameInfo.select('away_team_id','game_id','season','date_time','away_team_id','abbreviation').withColumnRenamed(\"away_team_id\",\"team_id_for\").join(game_plays, ['game_id','team_id_for']).select('game_id','season','date_time','abbreviation','event','st_x','st_y').cache()\n",
        "home_team_info.show()\n",
        "#away_team_info.show()\n",
        "#SelectedGameData = SelectedGameInfo.select('game_id').join(game_plays.select('game_id','event','team_id_for','st_x','st_y'),'game_id').withColumnRenamed('team_id_for','team_id').filter(\"event = 'Shot'\")\n",
        "#home_team_data = home_team_info.filter(\"abbreviation = '{0}'\".format(given_home_abrv)).filter(\"date_time = '{0}'\".format(given_date))\n",
        "#home_team_data.show()\n",
        "#away_team_data = away_team_info.join(SelectedGameData, 'team_id').select('st_x','st_y')\n",
        "#home_team_DF = home_team_data.toPandas().astype(float)\n",
        "#away_team_DF = away_team_data.toPandas().astype(float).apply(lambda x: x*-1)"
      ],
      "execution_count": null,
      "outputs": []
    },
    {
      "cell_type": "code",
      "metadata": {
        "colab": {
          "base_uri": "https://localhost:8080/",
          "height": 795,
          "referenced_widgets": [
            "d654a668a4c3453ba487c058a216c5c6",
            "2c259f887d3f4c0b8f9cf220dc7da10e",
            "0dd108be55614fbe86c075dff2acaf75",
            "d724d095c63b4681bfaeae93cab3a184",
            "a99199df58dc4495b540ec67e70570a7",
            "2f4d35b9019344178aa3c5e923a731af",
            "c6ab863a21ad48539f5d74e43ad3e43f",
            "8060685c571b4ab992fc2ccdf812effb",
            "8b6c1ec9a52049ca909182dbf927bd1a",
            "6a79ba6fec5043f8b50a3b0dde5eafd7",
            "bd1b4868b0be4b2eab432083c0a9c2fc",
            "241ccec3451f46888b9f64da2f6d8520",
            "ed7defa952af4b4fb88f9fe0b8ae6bc2",
            "aa660d3c586c4d6895e9cf80be3596ad",
            "deca12b6e866484a853792450b95979a",
            "ccbf26eb7dbc40e7a9dd5a0b5aeb3d50"
          ]
        },
        "id": "mT1VkOHdxkHG",
        "outputId": "f70a2790-4841-4aac-8fe4-003ee304a11e"
      },
      "source": [
        "def update_game_scatterplot(given_home_abrv,given_away_abrv,given_date,given_event):\r\n",
        "  home_team_data = home_team_info.filter(\"abbreviation = '{0}'\".format(given_home_abrv)).filter(\"date_time = '{0}'\".format(given_date)).filter(\"event = '{0}'\".format(given_event)).select('st_x','st_y')\r\n",
        "  away_team_data = away_team_info.filter(\"abbreviation = '{0}'\".format(given_away_abrv)).filter(\"date_time = '{0}'\".format(given_date)).filter(\"event = '{0}'\".format(given_event)).select('st_x','st_y')\r\n",
        "\r\n",
        "  home_team_DF = home_team_data.toPandas().astype(float)\r\n",
        "  away_team_DF = away_team_data.toPandas().astype(float).apply(lambda x: x*-1)\r\n",
        "\r\n",
        "  plt.figure(figsize=(20,10))\r\n",
        "  h=plt.scatter(home_team_DF.st_x,home_team_DF.st_y)\r\n",
        "  a=plt.scatter(away_team_DF.st_x,away_team_DF.st_y)\r\n",
        "  plt.legend((h,a),(\"'{0}'\".format(given_home_abrv),\"'{0}'\".format(given_away_abrv)))\r\n",
        "  draw_rink()\r\n",
        "  plt.title(\"Plot of {0}s in {1} at {2}, {3}\".format(given_event, given_away_abrv, given_home_abrv, given_date),fontsize=40,y=1.07)\r\n",
        "  plt.suptitle(\"Locations adjusted such that home is always attacking left side of rink\",y=.92,fontsize=20)\r\n",
        "  plt.xlim(-100,100)\r\n",
        "  plt.ylim(-50,50)\r\n",
        "  plt.show()\r\n",
        "\r\n",
        "plot= interact(update_game_scatterplot,\r\n",
        "         given_home_abrv = widgets.Text(),\r\n",
        "         given_away_abrv = widgets.Text(),\r\n",
        "         given_date = widgets.Text(),\r\n",
        "         given_event = widgets.Dropdown(options=[\"Goal\",\"Shot\",\"Hit\",\"Giveaway\",\"Takeaway\"]) )\r\n"
      ],
      "execution_count": 57,
      "outputs": [
        {
          "output_type": "display_data",
          "data": {
            "application/vnd.jupyter.widget-view+json": {
              "model_id": "d654a668a4c3453ba487c058a216c5c6",
              "version_minor": 0,
              "version_major": 2
            },
            "text/plain": [
              "interactive(children=(Text(value='', description='given_home_abrv'), Text(value='', description='given_away_ab…"
            ]
          },
          "metadata": {
            "tags": []
          }
        }
      ]
    },
    {
      "cell_type": "code",
      "metadata": {
        "id": "ocE31vIfs5TZ"
      },
      "source": [
        ""
      ],
      "execution_count": null,
      "outputs": []
    }
  ]
}