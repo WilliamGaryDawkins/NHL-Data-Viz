{
  "nbformat": 4,
  "nbformat_minor": 0,
  "metadata": {
    "colab": {
      "name": "CS631_FinalProject.ipynb",
      "provenance": [],
      "collapsed_sections": [],
      "mount_file_id": "1hEjo13rv5voG2DRSMm6Vhtj4vY4YDkm4",
      "authorship_tag": "ABX9TyNXXMtwBuEe0GmX730/4JEr",
      "include_colab_link": true
    },
    "kernelspec": {
      "name": "python3",
      "display_name": "Python 3"
    },
    "widgets": {
      "application/vnd.jupyter.widget-state+json": {
        "7ff9d029c1f049979c5d075fc14383ea": {
          "model_module": "@jupyter-widgets/controls",
          "model_name": "VBoxModel",
          "state": {
            "_view_name": "VBoxView",
            "_dom_classes": [
              "widget-interact"
            ],
            "_model_name": "VBoxModel",
            "_view_module": "@jupyter-widgets/controls",
            "_model_module_version": "1.5.0",
            "_view_count": null,
            "_view_module_version": "1.5.0",
            "box_style": "",
            "layout": "IPY_MODEL_6b71beef3a24406b8c70b3ed0a12429a",
            "_model_module": "@jupyter-widgets/controls",
            "children": [
              "IPY_MODEL_d79cfe6caaf94d418473c1d8e919c523",
              "IPY_MODEL_cc0033d3847d46b78d2bcf6a871b23fb",
              "IPY_MODEL_b1bb77c8645a4edfaaa16618ffdd4fb7",
              "IPY_MODEL_aff9cbd5a1fe498f96f91893caf55289",
              "IPY_MODEL_5206b27cfe9e4a2fa0c0eaf7cddc82a9"
            ]
          }
        },
        "6b71beef3a24406b8c70b3ed0a12429a": {
          "model_module": "@jupyter-widgets/base",
          "model_name": "LayoutModel",
          "state": {
            "_view_name": "LayoutView",
            "grid_template_rows": null,
            "right": null,
            "justify_content": null,
            "_view_module": "@jupyter-widgets/base",
            "overflow": null,
            "_model_module_version": "1.2.0",
            "_view_count": null,
            "flex_flow": null,
            "width": null,
            "min_width": null,
            "border": null,
            "align_items": null,
            "bottom": null,
            "_model_module": "@jupyter-widgets/base",
            "top": null,
            "grid_column": null,
            "overflow_y": null,
            "overflow_x": null,
            "grid_auto_flow": null,
            "grid_area": null,
            "grid_template_columns": null,
            "flex": null,
            "_model_name": "LayoutModel",
            "justify_items": null,
            "grid_row": null,
            "max_height": null,
            "align_content": null,
            "visibility": null,
            "align_self": null,
            "height": null,
            "min_height": null,
            "padding": null,
            "grid_auto_rows": null,
            "grid_gap": null,
            "max_width": null,
            "order": null,
            "_view_module_version": "1.2.0",
            "grid_template_areas": null,
            "object_position": null,
            "object_fit": null,
            "grid_auto_columns": null,
            "margin": null,
            "display": null,
            "left": null
          }
        },
        "d79cfe6caaf94d418473c1d8e919c523": {
          "model_module": "@jupyter-widgets/controls",
          "model_name": "DropdownModel",
          "state": {
            "_options_labels": [
              "20112012",
              "20122013",
              "20132014",
              "20142015",
              "20152016",
              "20162017",
              "20172018",
              "20182019"
            ],
            "_view_name": "DropdownView",
            "style": "IPY_MODEL_1848746b17ab461aaae71428848a4677",
            "_dom_classes": [],
            "description": "season",
            "_model_name": "DropdownModel",
            "index": 0,
            "_view_module": "@jupyter-widgets/controls",
            "_model_module_version": "1.5.0",
            "_view_count": null,
            "disabled": false,
            "_view_module_version": "1.5.0",
            "description_tooltip": null,
            "_model_module": "@jupyter-widgets/controls",
            "layout": "IPY_MODEL_dacb729b917849dbbc4ab08b36a068cc"
          }
        },
        "cc0033d3847d46b78d2bcf6a871b23fb": {
          "model_module": "@jupyter-widgets/controls",
          "model_name": "DropdownModel",
          "state": {
            "_options_labels": [
              "points",
              "goals",
              "assists",
              "shots",
              "hits",
              "powerPlayGoals",
              "powerPlayAssists",
              "timeOnIce",
              "penaltyMinutes",
              "faceOffWins",
              "faceoffTaken",
              "takeaways",
              "giveaways",
              "shortHandedGoals",
              "shortHandedAssits",
              "blocked",
              "plusMinus",
              "evenTimeOnIce",
              "powerPlayTimeOnIce",
              "shortHandedTimeOnIce"
            ],
            "_view_name": "DropdownView",
            "style": "IPY_MODEL_433b55827c094995b844fa407f11cf50",
            "_dom_classes": [],
            "description": "stat",
            "_model_name": "DropdownModel",
            "index": 0,
            "_view_module": "@jupyter-widgets/controls",
            "_model_module_version": "1.5.0",
            "_view_count": null,
            "disabled": false,
            "_view_module_version": "1.5.0",
            "description_tooltip": null,
            "_model_module": "@jupyter-widgets/controls",
            "layout": "IPY_MODEL_d8a5871fb9d44059adc095978e43f24b"
          }
        },
        "b1bb77c8645a4edfaaa16618ffdd4fb7": {
          "model_module": "@jupyter-widgets/controls",
          "model_name": "DropdownModel",
          "state": {
            "_options_labels": [
              "R",
              "P"
            ],
            "_view_name": "DropdownView",
            "style": "IPY_MODEL_dbbdf59990be4ceaad98c340120ea6f8",
            "_dom_classes": [],
            "description": "game_type",
            "_model_name": "DropdownModel",
            "index": 0,
            "_view_module": "@jupyter-widgets/controls",
            "_model_module_version": "1.5.0",
            "_view_count": null,
            "disabled": false,
            "_view_module_version": "1.5.0",
            "description_tooltip": null,
            "_model_module": "@jupyter-widgets/controls",
            "layout": "IPY_MODEL_8fb764319b40492a9e4cf7e95550042c"
          }
        },
        "aff9cbd5a1fe498f96f91893caf55289": {
          "model_module": "@jupyter-widgets/controls",
          "model_name": "IntSliderModel",
          "state": {
            "_view_name": "IntSliderView",
            "style": "IPY_MODEL_f74c1d57855c486aa0e0698694daeed1",
            "_dom_classes": [],
            "description": "top_num",
            "step": 1,
            "_model_name": "IntSliderModel",
            "orientation": "horizontal",
            "max": 200,
            "_view_module": "@jupyter-widgets/controls",
            "_model_module_version": "1.5.0",
            "value": 20,
            "_view_count": null,
            "disabled": false,
            "_view_module_version": "1.5.0",
            "min": 1,
            "continuous_update": true,
            "readout_format": "d",
            "description_tooltip": null,
            "readout": true,
            "_model_module": "@jupyter-widgets/controls",
            "layout": "IPY_MODEL_5f14db12a731455b8f58324e1e36d891"
          }
        },
        "5206b27cfe9e4a2fa0c0eaf7cddc82a9": {
          "model_module": "@jupyter-widgets/output",
          "model_name": "OutputModel",
          "state": {
            "_view_name": "OutputView",
            "msg_id": "",
            "_dom_classes": [],
            "_model_name": "OutputModel",
            "outputs": [
              {
                "output_type": "display_data",
                "metadata": {
                  "tags": [],
                  "needs_background": "light"
                },
                "image/png": "iVBORw0KGgoAAAANSUhEUgAABMIAAAKSCAYAAAAwKXdtAAAABHNCSVQICAgIfAhkiAAAAAlwSFlzAAALEgAACxIB0t1+/AAAADh0RVh0U29mdHdhcmUAbWF0cGxvdGxpYiB2ZXJzaW9uMy4yLjIsIGh0dHA6Ly9tYXRwbG90bGliLm9yZy+WH4yJAAAgAElEQVR4nOzdd7wcVf3/8debDqETOkhAkCJKBwXEoKCIWBAV7MGCDQv++KJf8avBhgW7ogJCVDoKioAgAkFQuiABpRNEQIoUIRAgyef3xzlLZudumb13y032/Xw89nHvzp6Zc3Z2dvbMZ05RRGBmZmZmZmZmZrawW2TQBTAzMzMzMzMzM+sHB8LMzMzMzMzMzGwoOBBmZmZmZmZmZmZDwYEwMzMzMzMzMzMbCg6EmZmZmZmZmZnZUHAgzMzMzMzMzMzMhsJigy6A2XgkaRFgQ+CFwNrA8sBTwMPAjcB1ETGni/ktB+wMrAOsAjwA/BO4NCJmdyufQZE0BTiusGjXiJg+mNLYeCFpKvCFwqL1I2LmYEpjnfLn1xuSpgHvqT2PCA2uNIMhaTrw8vz0roiYNLjSDI7rIuOTpKWATYHNgFWBCcB/gQeBayLi1i7nty6wLekYWAa4B7gVuCoiopt59UK/j2NbcORzzrbABsBKwFLALOARYCZwa0TcM7AC2kLNgbAFmKRJwJ09zuawiJja4zzGBUkrA3sDewK7kk7IzTwh6QTg2xFxyxjyXA/4as536QZJHpV0EvC5iHh4tPlUKMdk4KI2yQJ4HHgUuBm4AjglIm7oVbnMzMyGycJaF5G0IbA9sF3+u1UprzHXNyUtC2xTyGc7YFIxzWgDy5I2AN4KvArYEViyRdp7gJ8AP4qIR0aTX97Oy4HPA5Np3IvnTkk/Ab4VEXNHsf3FgRcx/zPZjhTcW7SQbFQ3LgdxHFcs1zQKNxqyu4GNIuLpDrYzhfobvB+LiB+2SD+d+cF9GP1+nUr9DaiW35tu5dttkt4EfIR0bLTsoSbp38DlwLnA2RHxr96X0IaBu0aaAZI+BvwbOAZ4E61/sAGWBT4IXC/pU6PMcx/gb8DbaVzxBFgR+HDOZ+fR5NNFIt3Fex6wO/A5YIak83Il2sxsoCRF4TFt0OUZVpKmlD6LyYMu04JgYauLSJqc6wgPk1ownQB8khRIapZXxyQdKekG4DFgOvAN4C2UgmBj2P7JwO3A4aQL96ZBsGxt4EvAjZJeNYr8JOnLwIXAK2h+vbY+8HXgT5LW7mD7H5Z0GakV2zWkoN17SUGxRVutW3H7fT+Ox2jdnL/1mKS1JJ0H/Bp4JdViEWsAbyQdp9N6VzobNm4RZpasByzeYPk/SZW3B0nNdV8IbFR4fUngW5JWjYj/rZqZpFcCJ1P/HZxNamV1PynYtB3zKyRrA2dLeklE/KNqPn3yKuBvknaPiKsGXRgzM7MF1MJWF9mSVEfotbcDK/Rw+xs2WBbA30mtiR4mBQu3BVYrpFmTtL/2joizOsjv88ChpWUPkYJWs4BNSC23anYEzpK0U0Q8WWH7rwZe0kF5OtXX47hL/lfSMRX3n42CpDWAixn5fZpL6mlyG6nnyQTS9+jFpCCpWU84ELZg+xfpblAVJwM7FJ6/jdTMtJ1HOy3UQuDvwFHA7yLijvKLkrYGvg/sVFj8GUlXRsQZ7TYuaU3gVOq/f6cCH4+I+wvpng/8jPlNmpcHzpS0eSfNt0fpCmC/0jKRKpovIlU69yi8tkIu2xYR8UCPy2ZmZrawW5jrIrNIgZ1etya/A1iLFHTphiC10joGOD8i/lN8UZJILVd+QAoaQtq/J0vapEqXLkl7UN/1LUgt8L9dHKctd5s8oZDPlqQWM+8exfuqeTD/XXUM2yjr6XHcRWsAB5JaE1pvHE99EGwWqZXl0Y2uHfLYci8idbHdlxQANusad41cgEXEnIiYWeVBusNX9O+K6w5TIOxqYPeIeGFEfK/RDzZARPyVNF7D2aWXjsgn7XY+C6xceH468LZixTPnczsp2HRFYfGG9Kf59uwGx8KdEXFdRPwyIl4DvJN0F6dmDaDfd/DMbEAiYmpEqPCYOegyLQwiYkpxvw66PNZ3C1td5Fngr8BPgfeRWnmsAEytuH5V/wZ+R2pN9RpgYkQ8n9SybazmAacBm0bEbhFxcjkIBhDJGaRWdHcVXppA6irZUg6kfZ1047HmoIj4anmygoi4GHgZqTtozTslbVHxPT1Oap3zTdLYZ+tHxGrAORXXb6dfx3E3HSJp+T7nORRygPeVhUWPA7tExFea3UCPiHkR8bdc19iU1JJxeu9La8PCgTCz5HvA9hHxxyqJ8+w276G+ArIB9a3uRpC0FvCBwqL/Ah+JiHlN8pmd0xdf/19J7can6LmIOIE0uG7R+/Pgq2ZmZtaZha0u8nNguYjYJiI+FBHHRsSM0Qzs3samEbFmRLw+Ir4UEec2ClSNwZsj4q0RcXOVxBFxH/D+0uJ9JC3RZtU3kQKFNZeTWks1y+dOUkCzRlQLMH4QWDEiJkfEIRFxWpdvZPTlOO6S3xX+XwU4qA95DqNyL5Mv5SBoZRHxh4j4chfLZEPOgTAzICLujuhsCupcyTq9tHiXNqvtQ/0gqyeW7742yGcGcH5h0RrU31UZpG8Bxa4Ry5JmHjIzM7MOLGx1kYh4ZAzdJyvLgadebv+fo1jnj9TP7L4caabMVt5eev7dCsfDsdQPY/JaSS3HS4uI+5sFPbuhj8dxN3yT+gDcQXnGS+uunUrPTxtIKcwKPEaYtZVb+OxIujuzKjAHeAC4ISKu63Jey5Kaeq9LarJ/P2l8gSs7/VHtk7+Vnq/VJv3rSs+Pr5jPCaQmwTWvp3vN10ctIh6TdA3p+KjZGPhzt/KQNAHYPG93ImmmqcdIY1lcnbttjHuSFiV1l9iI9D1ajPQ9uol0fHetUppnj9qONFDvysB/gJMi4rEm6dcCtiaN11LrFvAkcB9pjJUZ/biYaVCutUmB1XVIY7zcC1wREbf1uyz9JGlD0gXTOqQ7/PcAl0TEvV3Y9qqkCumapJm8HiV1Kbq0WfeEfpC0ErAz6dy/PGn8oOuAawZ17pe0MWncnTVIQf45wBOkwbFvBW4ap79Lz8njQL2EtF+XIp03r4yIGwdasDGStAHpnLUuaSD3+4E/N+t+1eG2lwBeSppxcDVSK6gHgOsjovybP14MdV1kHPsb9WP5Nv1ccuu64sQCs4DftMsgImZLOp006yOkQepfQxobeEHT6XHcDY+Qbup+MT9fATgE+Ewf8h4ma5Se39PPzCWtSKr7rEW6lphFqvtcFhF3j2G7Il2fbEqqsy1HaiDwMHALcFVEPDOG7S9CugZ6Een3aALwDKkV7z+Bm0d7HZS3vV0u/2qk+uYDudxXdPm6ZBHS7+qGpPrnE8BM4OKIeLxb+XQsIvwYggepT3UUHpMrrLMWcDQp6BBNHveQxmNYpmI5JpfWn5KXr04aTPPxJvnMBPYf9H5s8H4+WirnkS3SLk46OdbSzgaWqJjPpFI+t3f5fZQ/l+kdrHtKad1DGqSZ0snxRwrIfBq4lHTCb3b81Y6NTwJLt9nmRqX1ThnFfppY+gwvqLDO2qQBbP/T4j08CHyZ1IWkSjmmFdcvLN8JuIA0dls5jy0bbOeNwF/a7N/I7/li4MNdPu6mlvKZlJdvQxovZE6T8lwO7Nhm27uX1vn6KMr3otI2ftal993s89st7+dG73ku8Adgs1HmuVv+PjU6NoJ0sX8ZsMdYP78OP+s1gV8CTzUp193AuzvZn1UfTba1OPD/SLNXtdvGo6Qp4Hfv8vei4fHR4bG0MfBb0vhMjcr+D+C13Sx3zrfjzwGY1mA70wuvzyws34F0jpvXZFuXAy8dZdk3Bk6keT0kSJMUfYqKv939erAA1kUYWS+Y2qN9M7Pq96kHeZ9Weo9vbZH25aW0F45hX476t6p8TqHC9UIX91fl47iL729zUvDiwcKyJ4DVO9znB7ZJP50u7FdG/pZO7Ue+Xdjvs0vlaLl/u5jvq/I+aFafDOBa4PUdbHNp0rh6p5Ju2rX6fXuS1Gpzow7LvSxpXMF72mw/SMGrX5K6I1fZ9oqklpAPttjmQ8B3gJUrbnNSo+OSFFw7iDRmYqN8ngF+VDWfbj/cNdIakvQW0h3v9zO/hUgjawGHATdJenGLdK3yejHpzv8HaD5N7nrAsZJ+U2GMhX56ful5q64FGwHFsl8XFe8SRBq7objt9SUtXamEC5jccupO4GukwE67McfWI52sL5O0XrNEEXErcFFh0RslrdJh8d5N/Wd4TKvEkj5E+h59kPpBicsmkqZK/7ukF3VYplpe/0MKoryCNt3eJS0q6efAGaQ7NO0sQeqicPhoytYJSe8gBWT2JLX0aGQH4BJJrSZn+CNQvEv2HkmdtoL+QOl5y897LCR9mtTtqFlXkEVIwb1rJb2rg+0uIen4vO2daH5siNRy6PeSTu3HOIR51rPrSBNvNJvVbR3g55K+24fyrEoaEPwIRp7bG1mBNKbPR3tZrk5JejNpoOrX07zl/ybAWZIWmPFwJH0MuIR0jms2icAOwMWS3trBdiXpi8ANpBm1m9VDIN3Y+BbwV0nrVs2jD1wXGZ86+VxeWHp+ZQf5lGeBL29rQdHJ/uqaSC1SirNFTsCTP3VbucX5Xr3MTNJykn4LnEcKMjerT0Jq+f3bDuo+PyU1AngLaVy5VpYG9gf+JultFbZd6xUwgzRbbJVWkauS6lHlrtWNtr0L6UbfwaRrj2ZWITUyuE3SqIbjyV20fw98G3hek2SLAx8BLs29U/rKXSNtBEnvIUWvyxdM15IuLBcn3UEp/mCtC/xJ0m4RcXUH2a1K+pLUmsw+QboIfojUTPOlwDKF9G8ATpH0psih5gF7Q+l5q/e+cel5p1047iS1nIN0EfACRjYjH4S1S88fGuP2RP1FTpDe+62kFhhBOnlvSf1JfAvgfElbR8QTTbZ9FLBr/n8J4F1AJxfY7yv8/zAjx7N4jqQvk4JbRc+Svkd3k+5OrQdsy/xz8TqkAM/OEXFD1UJJ2pf6StztpC7FT5J+RMvjth3GyCnWZ+Wy3Ue6Q7NcXncz6r+DvfRyUrCptj/uIQVKniDtq+2Zf15aBPiqpKciYsRnGBEh6RjmB+9WJ1W82nY1gee6qbyjsOjGiLiss7dTTQ7+fa2w6HbSRfkzpGbkxXFllgCOk/RkRPy6zXYXA86kvisTpM/6MtLdwImkANhyhdffAkyU9OqIeLbzd1TJZsBJzL/R8i/SZ/1fUiuxl1IfHPuEpKsjomoXro7k7g2nM3IMn/tJFdKHSK2QViD99m3IOKxDSZpM2q+1st1Kav01i1QR3YH6cn8r79dL+lnOTkl6J/WDht9Aqsw/Tfo8tmH+78biwDRJ1+YbIK22K9KA7uXg8lOkmQ5r3ZE3JP3m1PJ4IfAXSdtFxL9H9aa6y3WRcSbfmNuysGgOrffTWD6XmW22taDo5Djuth+SWq6smZ9/SNIREfGvPpZhYXYl6Vqx5mv5HN3RgPlVSJpIuvm3Zeml/5DO6w+Rgp0vor7r8luAFSS9Jlp3CyxfHz8M3Ji3+ySpPrUx6dxY+81YGjhB0qMR8fsWZV+KdF08qfTSP0n1+odJQb0VSDc1NqD5jaHytncn1QnLNx7/QRqmJXK5i4H0lYBz8nV3eWbXVhYlBQtr9c+nSDca/03aF9tSf/24Kem3ePcO8hi7QTRD86P/Dyo2jSXdJX6ylPZ8GjTpJF203lxKeyswoUU5JpfSP8L8ppGfpdS9jXSiOoyRTVo/OA726WtLZXqiXP5S+oNL6TvqqsXIJvb7dPG9lD+X6RXXW56RzZ13bpBuSpXjL6ddjBQwOo3U9HiFJukWIZ1gZ5S2/aMW216CdFeqlnZGB/tox1I+322Rdr9S2idJdxdHvBfSBcXPSumvB5Zqsf1ppfS1rjxX0KBpNOnOznL5/5Wp7xbzOKnlU8OuMaQfs51Jd3Tu7PJ3aGqT88H9pMGcFymlX5vUFa3crHrzJttfnfqutWd1ULa3l/L5ZBffd/nzq73v24BXNEi/MSO7TD5M+64bXyit8zQpOLtMKd3SpK7IT5fSH97h5zepg7S17gTXA7s2SL8yI7td3wMs2iDtRFKlcVIp/a8Ky0c8Stson89vJQ0EribvZwLpou1k4LQufy/qjo8Oj6Xafv0TsHWD9OsCF5bWuaKLZa/t3/Lv3X4tPouJDbYzvbDuE8zvOnsGsGGD9JuSggzFPNt2fyeNA1T+Xn2IBudf0gXTb0vpz2t2jPTr0eDYXSDqIizkXSNJXY+K769lV0fgrFL613SYX7mb0yqjLHf5nDK5T/uro+N4DPmU39/mhdcOLL320xbbKR+/7hrZuhxvLpUjSHX9E0g9ALryWZOCQr8v5TMj5zHiXE1qhX9jKf1n2+RxPKnu8iladHkk/WYcXdr2A7S+Ti53D74S2K5F+hVJv69nA99ukW41Ut26uO2rgW0apN0i51tM+x9grRbbn1RKX6uLPEX6zSlf34vUUq5c7+zovDfm42UQXwY/+v+oeiIkdScqpjudBhcehfQTmR9Frj2+0iL95AYnwnm0GDchr7d/aZ1HgeUHuD+XIg0mWCxT0xNQXudLpfQHd5jnkaX139vF91P+XKZXXO8LpfWeABZvkG5KleMvpxXwvA7KPoHUuqW27Sdp0dec1HKqWJaXVMzn2NJ6zYIvq1I/rt6jNLggbbDe1NL2P9oi7bQG36MLqVCRAPYtrffOTo77bh1zTd5z7cdzkzbrHVda56IWaU8tpJsDrF2xbMVgwWxGeVHRwed3Oy0CW6Qg7vmldY5rkX596seHmkubC1ZSYGdOaZ2mn0WDz29Sh5/1ZbQYF48U7L60tM6ebd5DMe20Dj6THxfWexZYf4Dfi7rjYxTH0hk0OA8X1lk6H2/FdUY19lyLPKaUtj+5w/WnN3hfP6RF0IkU+H6kkH42sFKL9C8sfUfubnUM53XEyN+Cro+11smxxwJaF2lwjEzt0T6aWfX71MU8N2XkTcKWYxCRuv0W02/bYZ5/L62/wSjLXj6nTO7D/ur4OB5DXuX3VwyELUH9WEbPNNuPDY7fTgNhrW4OtHp8t5PvTYN8e/55NimHaD0m7TOk4Mv3Sa3xK18HlPL5YGm759F+DOEVqL+R8hQNbtAU0ndUNlLArFimpuPtUh/EewhYsZPvUYvXjimV4S+0GN+bVE8on5NOaJF+UoPPdDYNGkeU1jugtM6p/TwuPUaYPUfSC6mfCvt+0gD1c5utExEPkboUFJuQHpCbdlb1i4g4tVWCiDiO1BKkZgVSf+hB+Q6pSWpNbbDzVsrjjszuMM+n2myvryTtB/xfafFxMcauVJFUnqo8ImaRfvhqliaNjdNM7e5MzfuaJayRtBypdVrNFdG86+KB1I+rd0BUa/p9GHBV4fknKqxT8yTwnogoHyONlPvpn1E1k4jo9JgdjYMj4qY2aT5KaiZeM1nSZk3SHlX4f1FS5bUlSc8nBYdrfhNpavdeel9ENB0PJdIYPu8mteCr2a/FNO8fob4L3FHRpitlRPyWFBCqWYR0PPfC08DbosVsQZG6JnyxtPjlPSpP8XtxXUTcWXXFPn0vqnqANAlN0/NwPk98vbS4V/u1W24ADopcc24kf3+Kx++SpG6/zRzC/O9IAG+JNAZWUzn/j5C68tZ0cq7utqGvi4w3uVv9iaTjr+aCiDizzarD/LmM5jjuuvw7W/zNWZx0w7cXTiJ1M+70Mcjzzajlc+c+pNZXjSxOmsHwY6QWV3dJukPSEZI2rZJHHmP4kMKi+0nn9ZZ140gzqr+T+dcGS5ECNM3SV75Gyem/TeqSWbNvi+TFushFEfFoB/k0PGfk8ZCLQ308Bbw9Ip5ssa2n8jrFNG/JM1FXdVhEXNomzTHUzyDabJzcnnAgzIreUXr+7XxyaCkiriL1Oa6ZCOzRQb5fqpiufEFULm9f5DHUPlRa/OGIeLjNqhNKzzut5JTTl7fXTUtJmtTgsYWkd0g6m/QjXhx88iHgqz0sU1MRcT2pglCzQ4u05UHz95XUbl/uR/3+bjhoeh5vphiUm9EuyFsoVwA/KCzaSNILqqxLuoMy2umfVx3ler3wT9IYAS3lH+9vlRY3Ox9cQP2g+e/Nn1Mr76V+zIWeDZKfXRoR09slioj7SmVZilSxbKS4P+Yy8vzZzGGkVjLPbafC/hqNU9sFHbILSUGzmi16UJay8fSd6NRPq/xuA+eUnvdjv47FdyreZKn0viStSBoYv+bsiCgPON5QvtgoBth3ldSvcRSfMyR1kQXRT6gfm6g2/EA7Q/m5jOE47pWfk7rG17xD0iYDKstCJddhdiC1aqsyQcf6pFmcb5T0C0mrt0n/atKYWTXfjIj/VizbDOqvDbo9mP9vC/9vm4N27XSrLrIP9eOCTatS/8oBv+Jv3eK0DuIVzSLNBtkuj3nAuYVFq0tao1n6bnMgzIp2LD0/qYN1T2yzrWb+GhG3t0/2XLCj2FJkm37PICnpZaTZQoqObNfSoommd7Yrpu/FxWnNDjS+E3Ud6U7NnqX0jwNvyD9yPSNpKUmrSVqvHKQj9V+vaVdpKZ7Yl6P9if39hf+fII0L1MhmzB9EGOpbMVZRHrB6p4rrtbvTXHRz6fnXKv4g98OvWrX4KDml9Lzh7Jd5e0cXFm3A/AkTRsj7Ykph0R2kYFovVQqWZm3fd/4+FO/aXVz1u5lb+Z5fWLQiqZtPt53bPglExBzS2Gk1vQpSFb8X60kaVzNBdqDqfv0XqaJaM96Df5XeF/V1BGj+vsozEv+qw/IUz9WL0eLmSy8MUV1kgSLpEOp/PwJ4fyctTEvrjiX9uP9cunwcd0X+zTmssGhRqt9IsjYiYlZEHESqi32W+V0SWxGp99FVaj2zerluN5bz+jadzp6tNCP7SpLWbXCNUryhN4E0OVYjxbrIzpJa9XCpahDX93+pGoSk+u921427GY9soLYp/H9fhy1MyndSt2mYaqSr2icZkb4W5FiSNMbHtR1uY1QkbU4KOBRPjGcCH6+4iVml551OOV5O32xmxH67mNStq1JAsxOSNiINWr4raXaXZt3AylZq8/oZpKb3tZPt+0njvjQqw4uon3Xx5Gg+K2U5cHV//gGsqvyjW3Xd6zrI4wJS673ajJv7AltI+impC+DMDrbVbZXPBxFxv6S7mT8LUatzznGklqe1C9/3k1oaNbIn9dNVH9tBcG60OjkPXkcax6v2+93ofZeXXdFheS6nPti9DWn8mW76Rwdpiy2clm+aamxOJs0YVvNDSW8kHTu/j4hHepRvt3W6X2utRnq1X7vhvxFxb/tkQP2xAs3fV/lc/Z8Oz9XlmwedrDsmrouMT3lm06+VFn+6aqtwhuxz6cJx3EsnkSY4qs2e92ZJW0REN2dH3bVKS/AySVPpXXfNvomIe0izeh+eu+7tTOoauS3pBl+jc/e6wFl5dvhGw1UUz+tPkDpqTOqgWMVWx0uQ6oJNg9iSlgX2Bt5Ian1ceQZH0nXKXQ2Wn5y3Cel35jeSzgB+CfyxxfVHK8U64Vw6m431WlIQr/Y9rXp9P9o6HvSxPuJAmAHPTddaHE+g5ZTjZRFxt6SnmP9DXDWa22nw5LbS89U6XH9U8on0PFLriJqLgX1bjaFWUq7kdDKOWqP0g6jkPEEa/P1W0sXyaRHR9UBk7rZyBCO7qFXV8iQaEc9IOo75Ywm8VNJmEdHoYv/9peetusmV7/D8uGGq6qoG/h6susGImJVbu5zM/H27CWmMju9ImkkaoPwS0qQJt1Qv7piN5nxQC4QtL2nJiHi6nCgiHsgVido4b3tLWqlJcKP4ec8lBUJ6rfL7joincwCwNuV3o3Ng+fzb0fmcka0Ge3F3rkr3vZpi5XTxpqnGICKulHQkafynmt3yY56kGcCfSbMxXhQRD/SiHF0wrvZrl1R+TxHxbKknb7P3VT5X/67TQpVUPVePiesi45OkPUm/FcWD7+sR8c0ONjM0n0uXjuOeiYh5kj7P/Fb9Io1Z9rrBlWrhlYNav82PWsv8nUhdit9OfQ+255ECgY0CpsXz+rK0CGJVtHKzbUiaQpoZdmKj1ytodp3yK9IMsrWumQLelB9zJF3D/LrIxRXHECvW4e6pOJ4wkFpISrqD+T0DqtYHR1sXgT7WR9w10mpWLD2v2pyxqHjQt2uRM9p8yl+scrm7LvdJP5/6ViLXkGYA6mQMh3LZOz15lk8+nZxkOnVxRKjBY7mIWDciXhERn+1REGwlUmud9zH6pv1Vzm1tB83PzaKLkzLMiIhWrWu6fTFUabDbTu8Q5TvUb6B+wOeaSaT3/FPgZkk3SvpUn8bA6eX5oNgddikaTLaRBwEttoQ6p4OWKGMxlvfd6D2P9Xxe3q9Vz+edmNc+Sd8dCBxK/eCwkM4nW5CCZCcD90m6SNKbezR+2qjl8TYWNr14TwM5V4/FkNZFxj1JO5MuXouNC46OiM90uKmh+Fy6eBz32hnUD3C+l6S+doEeVhExNyL+FBHvIgXEyjd739+kTtqX87qkw0iB79EGwaDJdUr+Dd+HNI7anNLLtW74nwJ+Azwg6XeSdmuTV7FOONbr++UkVWlItUDURRwIM2sht0z6A7BhYfFNwB4d9H2uKbf6WLdhqubK6bveFXGc+DawVeH5bOAXpPEBtiKNwTUBWLQYpCPdTawsIm6jvnvcuxqMOfcm6n9Y2w2a3u27GD27yI6I35FmaXoPaYDpZsG0zUgD098kqeE4XAuIC6lvUdpottAp1F/M9HqQfBtHIvkqqXvDp4HLGFkRhVR3mgycBlzc4SxKNj4sMOdqcF1kvJK0Fan1RrFb4qmMHPy9ilF/LvmmXTEQ9miTrmMD1eXjuKfykAjlmdH7PpPlsMuTmLy7tHhpGo9V1fPzuqSXA58vLb6cFJzahdRafzlgidI1yv5VM42IZ/I4ai8gDetxHY0DS4uTWo6dL+nXSjPcWwccCLOactPK0fTPXaHwf9XxVDrNZ4XS88rTynYqzyR4DvDiwuK7gN3zgNKdKg8GuEHDVM2tX/g/GNl9aYEnaV1SYKbmXmDLiHhPRBwfEZiZxUUAACAASURBVNdFxAMR8WSDlg+j+QEoDtK6KqmVVFGxm9zTpIkCWinPcrRnk5Z1VR9TRvGeKouI2RHxi4h4LanVz3bAJ0l3msqBsXWBcyVt3MMi9ex8kCu1xVZhW0jarvYkt+x5b+H1+4CzOyzPaI3lfTd6z2M9n5f364IyPlZXRMT9EfGNiNiR9L14JTCVFGwvB8ZeRvpedDSorg1c+Vy92RjP1VN7VVDXRcan/Ft4HvXny98D7xxly8yxfC7rl56Pu8+kB8dxz0XEOcBfCot2y4EQ66OIOJeRQzxs1CBp8bz+wBjP6YrGY7iVg6Mfj4iXRsR3IuKSiJgZEU/EyFmOO75GiYg7I+LzEbEVqfXZnqRxCK9i5AQDbyLdnGukWCcc6/X945EmlFgoOBBmwHPTgRcvfDdslrYRSetQf0es6phFz+8kH0aWqyfjtOSWQWdQPyPbv4HdIs22NRq3UT9d8FZVZ72UtB71sxHOjA76eC9A9qT+DswhEVG1Qjea6XZ/Q/0x9FwrIUnrUz8DzenRfjrv8vE4lmbTfRURcyLi6oj4XkTsTSr7u4DipBnL09vZk8ZyPvhvNBgfrGQa9d/BYquwl5e2Ny36N1ZJ5fedAy7FlgKNzoHl829H53PSXchW2xsauUJ7YUQcFhGTSbNxfg4onn9fTH0Q1ca/BeJc7brI+CTpeaTufcVWWJcA+zS4AK7qxtLzTrrhldN2e3KTMenRcdwvnys9d6uwwbi+9LzRkA3F8/rKkroa58iD4+9SWPTHiPhBxdVHc43ynIh4JCJ+HxH/GxHbA+uRemsU66mvlvSaBqsX63BrS6o8EUfuBlkMtC9U9UEHwqzomsL/a+XgVlUvabGtVrZrn6Rp+qcZWXEYszxI40nA7oXFjwCvyt3pRiUiniENblizJNXf/8tKz/8w2nKMc+UL9vOqrJRbkq3VNmFJrrAWB0PfPVdwYeQYZUdX2GR59tQFdjyJiHg6Io4nDRZeHDNpz/wd6YXK5wNJa1AfEGp7zomIB0mV8Zq3FcaZKLb+C/rbLbKT8+CW1HffbPS+y8s6PQ5Hez5f6EXEQxHxFdIgvkUeRLler2daHatxf652XWR8krQa8EdG/v7sNcag4OXU35DevoOWpuP2c+nVcdwvEXER9cNo7Cxpj0GVZ4iVW1k26kpbPK8vBmzd5TKsR333y0rXKFm5XjUmEXF3RBzMyBlEG9VFinW4Rak+8yOkOmdxIo6Fqj7oQJgV/aX0fN8O1n176fllFdfbWlKl1gqSXkya3a7mmlyh65rcPepoUhPTmieA10TEjC5kcWbp+YgBu5sopytvZ2FR7pJVdcyId4whz+Kg+YsA++eK25RCmtuA6RW2dRX1ZX5D1Tvt41WkWSOL3+dlgVV6lF0ng4+/tfS86jmn2D1yeeAtedySfQrLL4qIOypurxvK76WV8nl5xPuOiJmkrp01k/MAxW3lacxfVVj0KJ1Ngz1oxVaBvfzunVLKa1IP81oQlVtnjrfz4IXUB+s6+Q72nOsi41NhjKtit6x/0IUxrnKL5mIAawLwxgplWor6369nSV00B64Px3G/HFp6/qWBlGK4lYfluK9Bmj+Wnnf7vD6qa5TcsGSXtglH5+el55MapBnE9f0CwYEwKzqx9Pyg3Ay0JUlbUz+20n/o7Ee43Oy4mfLghCd0kEdVR1A/oOFs4A3ReqbATvya+guEt7e7QJX0IurvpN0PXNCl8ow35bGNyl20RpC0KnDQaDOMiNup35/7A68F1i4sOzaPMdVuW3OAnxUWrQN8YrRlG0fKP/ZdDUAXPI/6MeIays26/19pcdXzwUXUjzXxftLFXfGOV78Hyd9Z0uR2ifKg7MWWa7OZP717WfF8vijw2Ypl+T/q73ieWOXYH0eKsxuNqStCK/m7PquwqFffiQVVeca6nn0WoxER95O6xtdsJ+ktgypPA66LjDP5d+d3pBlka+6ku2Nclevhn6xwc+i91M8Kd3ZEjJcZI3t9HPdFpAHbi2OGbgvsPaDiLJAkbdE+VdN1t6V+bLl51Ldqrfkd9QGyj+RhTrql42uU7IvUt+Tvpir189NJ372a/av0+pK0NvWt3+eQbgIuNBwIs+dExA2ki8SatYGjW/Wxzq0Hjqf+WDo6OpsC+d3tKqCSplB/x+sx2g9c3hFJh5Jm/aiZA7w1Ii5sskrHIuJe6rvYLQ8c2Wwf5zt9R1O/fw+vMBbSgqp8h/BTDVNluVvbycBqY8y3OGj+esAPC8/nUN99sp1vUN+V8HBJndx9QdKKkvZpn7Jzkt4sabMO0q9OGiy85v6I6NkkFcARFQbkP5IUNKuZHhGVxkRpMGj+zsAhhef/IVUa+u1nrS5EJS1OuvNXHHD15Bbj1h1J/dgRH5XUsvtefv3AwqJ51H8XFgTFMQW3q3IzB0DSh3NQvZI8DkdxRtlxNzj1gJX3x64NUw3WF6nvbnNspwNhS1pT0p7dLJTrIuNPPv/+mvR7UXMvaYyre7qY1enU14NeAny8RbkmAV8tLArgsC6WZ9T6cRz32f9R34r09YMqyALqN5LOk9Rotsem8jAYvywtvigPdVEnX3t+rbBoAnBWYciTqnlumYNvZbdTX79/d74ObrWtD9HBjJGSPtXh7I/lHjEj6iI5UH9SYdEE4IR8Xm9WjqVIN5iLdahf5d+OhUdE+DEED1K3rig8JjdJtxlpEOBi2nOADRqk3YU0y00x7e3Asi3KMbmU/pH89xlSi4WlS+knkGbrmlNa74Nd3j8HlLYfwGdITUw7eaxRIa81STObFPM6BVi9lG6DBp/brcCSPTg+yp/L9C5vf0rF428iqZVFMe23geUapH0ZcG1OMw94qLDOzA7Ltzhp4NbyMRDAb0bxft/eYDvHAy9usc4E0jTIx5K6DlzeIu204rY7LNu0vL/+SLrTs2aLtC8jjcNXfB/f6uJxMbW07dr54N+kwPcipfRrA78qrfMMsHmH+U4ktYZo9Hl/t5vHfpXPr/C+bwV2bZB+4wbngodpc74hXegX15kNfJqR59mlgP/JrxfTf73Dz29SN9I2WLf43me2SfvlUj4Xk+7cb0rpfF1abybpt+8EUnekEeecnG4x0lTuj5byeV2vjo9upW2w7szCutN7cJzfXdj+XOCbpHPKhqXPYuJYPvMG6xY/l2lt0v5vKf0c4PvA81ussyKpy02te+zJXdxnC11dhNQyulEZDy5t87tN0q1TIY9lW+yLf5XyaZauVd31hNI2niRN7tPp57JihfeyB+k3upbXPNJxulQp3S7Uf8cC+GXFz2SxFmUs/8bu1yTdiO/tII7jUXzHppXKVbn+QJqVr1G9IYAD26w7vZR+8ijLP7W0nakd5tvs82z3aPr9qFjumYUyzCAFSTcD1CT9CsCHSS1Pi+WfC2zdIp9FSNetxXX+Q+pFsFKL9Z4HfJRUZwjgQ03SnVLa9l8bHUOkSUV+XEj3YJXPP7/2KOmG7aso1dcK6ZYmzfJerLfNA7Zokn510mQCxTJcDmzZIO2L82vFtA8Da7fYf5M6OS5L606psm968ehLJn4M/tHgRDi5Rdr3Uv8jXPtyXQ2cShps+tbS60FqpbV9m3JMLq1zCOmuWu35f0mDD55ImpHniQb5nEGTE2cX989oH9Mr5vdK0jgOxXWfIrXIOxn4MyODf48Bm/bo+Ch/LpXeRwfbr3ySY+TFewCP5+PheNKYJHeVXv8mY7hwyvke3uQz3WuU7/nQBt+jyMf7ufkYPyX/fzPpx73uB6rFtqcV03ZYrmkNyvQvUmDs1LyPz2HkxUOQKjIrdPG4mFra/v6l4/5fpKbuJ5HGOCjvowA+Ocq8T2ryeXcUVBtl3uXP4F2l57eRznOnkgYmLZdxDml2snb5LJa/N42+T3/Ix+B5pPNuOc3FwBIdfn6TupG2wbrTi8dgm7STGHkzp+GjtN7M0uvzSDd6fp/304mk83M5ABbAGb08PrqVtsG6xfc8vQfH+aerfA40CFZ18pk3WLflthuk/2mTct1BOheekL+LfyB1hSun62YgbHqTsnT6qPR50oe6SIPvVqePtp8/I+sYo3lMqXhMjeUxteI++0KDdR/Ix+OvgBsavH4tMKHi9id14b00/W7R5+O4w+/YtFIenQTCNqVxPSRYcAJhXf9+jPE88DBwKamr+i/z3+tINznLaecBB1TIa0Xgigbrz83b/m3O63RSXaccpAqaB8IaNRipff9OJv1WXFE6Tm4lDZPS9vNvsN1nSTNmnk2qn59EmqH2yQZpv9Nmv+zByBueQTqf/Jp0brm+wevPAK/v8JxS6VyX151SZd/04tGr/qq2AIuIYyU9SWqZUptiVaRZJprNNHEP6Y74tR1m9wDprtofSNNQL0f9QM1lZwL7Rv7mLKgi4gJJ+5HGk6oNvrgUKSDVyD3AfhGxIA1aPVqHkSobby4sW5Y0e2EjR5EuuMba3P7ovJ3ieBz3MMpBZyPiK5JuIo03VRy/Y838aOeR0eQ7SmtTPyZaIzNIQcFejj1yEWm2zp+RxrVqVa4ADo2I744yr6NId0aLrojURbyvIuKXuel+bVr25+dHI88AH4iIZmODFbc7R9JepC6Vxe65y1I/1k/Z6cA7osuTkfRDRMzMXemPY/7v12iI1BKvXTfdU6gwrt2QOoJUZxhPY2+NEBEflHQ96YZK8ZhZn/pp45vp57m6q1wXGbe+SJpg4jPM7466KvCaJun/Qup2OKvJ69YFEfEPSSdSfXIJm+9m0tAjZSsBO1VY/35SsPFX7RJGxKOSdiEN7VCcAX4R0hh/7cYrC0aOc1nb9t8lvZsUlCpOArNlfpTdQgpAvbxduZtYDHhRfjQTwPcYOXZufaKIc/OwDr+ifmiHF+ZHI4+Szi3nVy7xAsRjhFlDEXEyaVacn5FaDzRzHylwsfEogmC1vK4jnTyOo77vddFdwPsi4g0L4sVZI/lCdgtSS4NmU24/BvyE1NT10n6VbZAiYi6p28knSF3kmrmM1CrmgxFRnlZ5NPnewcgZZ47L5RntNn9N+uH/P1Lrgnb+SfrOvYo0YH8vHAp8jNQSrcqMNzNy+q0j4p89KtNzIuLnwI6k4Hizz/VK4GURcfgY8rmIVEEpOrpR2n6IiK+QLnKazchT6866dUT8ooPtPh0R+xW23ewmQpD2614RsU90Ns7juBIRp5CC6YeR7obfR/NzbM0bcvrLSXdgW5lHGiT8tRGxXwzJOEmdioi5EfFWUtD1WOBvpKBRu/3bdxHxI1LQ6whSsKedW0gXWTtGxId7WbZec11k/InkUOAVpBtEzc7bM0nBsl2iu2OVWXNTSa0krQMR8WrSDb6DSa2bqo41+zdSgGfjKkGwQn5PR8QHSNeXJ9G+vjuX1JLrC6Su8Sc1SxgRp5HGC7ykxfbuJY3ft01E3Fm13Hm73yS1XGt3/fEMqYHIThFxUJVroVz33Yg07Mx/WiR9mDRMwEYLaxAMcvcys1byIKE7kcaJWJX0A/AAaeygaztpnZVnRruosGj/iJhWeH050rgH65LuEtTyuWJBbwXWiqTlSSe/dUlR+gdIQZFLFuQL0rHKx972pP7qK5F+yO4D/trhD0vV/E5jfku0II2NN7OL218P2I70PVqJdEH4X1Jl9u8RcXe38qpYnkWATUg/iusyfyD2x0ljj1wXEXf1s0xFeVabHUhjzCxJ+uwvj4hbW65YfftXkWZ/gtQNe82IeKIb226T7zQKrYgiQqXXNwK2Ir1vkSpUf+rGhY6k1UjnmjVILRUfIwWc/xwRrQLPQyMPErs5aSyrNUgt6J4l7avbSOefZpMU2EJA0iak4NBE0vfkadKF2+2kc/X9Ayxez7guMj7lFsPbklpIL036TbiNhbxubAuvXP+cRJp58XmkFqlLkupij5G6oV8XXZqcSdJipO/QRsAqpHF5Z5ECPjeTzuutGn402+4GpGvk2szI95FufF8+1pv0+Zp4c1IAcTVgGeb/Ft1MugbvuMyF7S9CqmNvTLougdRN9BbSuWXUDQEWFA6EWV+1C4SZDUqe+eVe5jd1/mNEtOo+ZgswSZtTPzvXMfnuYT/ynkaLQJiZmZmZmfWOu0aamSXvpr6//8C6yVlflINe/rzNzMzMzIaAA2FmNvRyk+mPFRbdT5q1zxZCklYkzVBZ89eIuHJQ5TEzMzMzs/5xIMzMDD5J/exgP4mIcTegs3XNl5k/HhrADwZVEDMzMzMz66/FBl0AM7N+krQsaQBkAWsC+wAfLyR5DPjuAIpmPZBbf61IuvGzLjAlP2puJ02DbWZmZmZmQ8CBMDMbNm8Gjmvx+me6NUuNjQufJE2H3cyBEeGp0M3MzMzMhoS7RpqZzXd0RPxk0IWwvvlcRJw76EKYmZmZmVn/uEWYmQ2zAB4BrgaOiohfD7g81ltzgYeAy4HvR8SFAy6PmZmZmZn1mSJi0GUwMzMzMzMzMzPrOXeNNDMzMzMzMzOzoeBAmJmZmZmZmZmZDQUHwszMzMzMzMzMbCg4EGZmZmZmZmZmZkPBgTAzMzMzMzMzMxsKDoSZmZmZmZmZmdlQcCDMzMzMzMzMzMyGggNhZmZmZmZmZmY2FBwIMzMzMzMzMzOzoeBAmJmZmQ0lSVMlReHxb0lnSXrxOCjXQz3OY6KkH0q6Q9JsSfdKOk/SG3uZr5mZmdmgLTboApiZmZkN0GPAHvn/ScAXgfMlbRoRDw+sVD0kaXHgImAZ4CvA7cA6wKuAVwK/GVzpzMzMzHrLgTAzMzMbZnMi4vL8/+WSZgKXkYJjJw6sVF0gaemIeKrBS5OBzYHtI+KqwvLjJakvhTMzMzMbEHeNNDMzM5vvb/nvusWFkt4v6UZJT0u6S9Ih5RUlHSjpbkmzJP1G0itzl8vJ+fVJ+flepfWmSbq6WYEkTcjdGG+W9KSkOyX9SNLypXQh6VOSvivpQWBGk02umP/+u/xCRERpm5tLOlvS4/lxmqQ1RlG290n6u6SnJD0k6WJJLyy8PlHSzyX9J29nuqRtS9uYKekISQdJ+pekRySdLGlFzMzMzCpyIMzMzMxsvuflv3fWFkj6H+DHpC6De+X/vyTpwEKavYEfAGcCewPXAz/rUpmWARYFDgVeA/wf8ArgtAZp/wdYE3gX8PEm27sOmAccK2lnSQ17CEjaEPgzsBTwTmAK8ELgd4WWY23LJmkX4CfAL3Oa9wJ/AVYoZPcb4NXAwcC+pDrqRbkMRW8ldd88APg06fP4apP3aWZmZjaCu0aamZnZUCsEgtYDfkgKFP02v7Y88AXgyxFxWE53vqRlgM9J+nFEzAU+C5wTER/Naf4gaSLw4bGWLyIeLG4nl/dO4FJJz4uIfxaS3xcR+7bZ3q05uPc14BJgtqSLgZ9FRDG49gVSq7HXRMQzOe/rgZuAPYGzK5Zte+D6iDi8sO0zC+vsAewETI6Ii/OyC4GZpMDeBwvrPQu8MSLm5HSbAfsBH2n1ns3MzMxq3CLMzMzMhtkqpODKs8BtwFbAmyLi6fz6S4EJwGmSFqs9gAuB1YF18vOtKAR3svLzUZP0LknXSnoil/XS/NILSknPqbK9iPg2sD7wUeB3wA7AqZKKwardgDOAeYX3fScpQPVct8UKZbsO2ErSdyTtImmJUnG2Bx6oBcFy+WYBZwE7l9JeVAuCZX8HVssTAJiZmZm15UCYmZmZDbPHgO2Al5BaHi0BnCipVkeamP/eyPyA2bOkWRchjSU2kdQ98MHStsvPRyV3u/wFaRD/t+Sy7p1fXqqU/P6q242IeyLiyIh4K2nWyHOB/5G0Sk4ykdT98NnSYwPyGGpVyhYRfwT2B3YBpgMP5XHEJuR0awIPNCji/cDKpWWPlp4/AwhYsur7NjMzs+HmrpFmZmY2zOZERG2g+iskPUUK7LwFOAV4OL+2F42DTDcDTwFzgVVLr5Wfz85/yy2iVmpTxrcAV0TEc93/JL28SdposryliJgl6UjSbJkbAv8hvfczgGMarPJQJ2WLiJ8DP5e0KvAm4DvA48BngPuA1RrksTrz97+ZmZlZV7hFmJmZmdl8x5Naf306P7+MFOhaKyKubvB4PHfVuxZ4Q2lbry89f4DUomrT2gJJywI7tinT0sDTpWXvqPyOSiStLGnRBi9tlP/WAn4XkAbHv6bB+545mrJFxIMR8VPS2GSb5cVXkLo37lIo4zLAa5nfzdLMzMysK9wizMzMzCyLiJD0VeAESa+MiAskTQW+J2k94E+kG4kvAHaNiFo3wMOBX0v6IWlssJ1IgRxIMzQSEfMk/RY4SNJdpG5+/48UaGvlfOBHkg4lBY32JM2cOFqvAA6XdBxwVS7fjqTWWWcVglxTgSuBsyUdS2oFtjawOzAtIqZXKZukw0hdHKfnbWwFvDznR0ScJ+kvwCmSPkNqjXYwKcj2zTG8TzMzM7MRHAgzMzMzq3cKKQh0CHBBRHxD0r3AQaTA1WzglpwOgIg4XdLHSS3J3ksK+hwMnAr8t7DtA4GjgCOBR4CvkIJQm7coz09J43J9gjTu1vnA24HLR/n+riDNivnW/B4XJQ2A/2Xge4X3dIukl+TlR5ECU/eQWord1kHZriLtu/2A5YC7SPv3e4U0bwS+BXw3b+dK4BURcRtmZmZmXaSIUQ0lYWZmZmYtSPoccCiwckS0a/VlZmZmZn3gFmFmZmZmY5QHgf9f0mySTwIvI7UO+5mDYGZmZmbjh1uEDdDEiRNj0qRJgy6GmZmZjdHcuXO54447mDVrFnPnzmXxxRdn5ZVXZu2110bSoItnZmZmNlSuueaahyKiPIM34BZhAzVp0iSuvvrq9gnNzMzMzMzMzKySPDFRQ4v0syBmZmZmZmZmZmaD4hZhA3Tnvx7m7YecMOhimJmZmZmZmdmQOvEb7xh0EfrKLcLMzMzMzMzMzGwoOBBmZmZmZmZmZmZDwYEwMzMzMzMzMzMbCg6EmZmZmZmZmZnZUHAgzMzMzMzMzMzMhoIDYWZmZmZmZmZmNhS6GgiTNFfSdYXHZ7q5/TZ5/6XJ8pB0fOH5YpIelHRWm+1NrqWRNFXSwQ3SfFHSbmMtu5mZmZmZmZmZ9d5iXd7eUxGxZZe3WUlE7NjkpVnA5pKWjoingN2Be7qU5+e7sR0zMzMzMzMzM+u9nneNlLSHpNMKz4strd4n6RZJV0o6WtIP8/JVJf1a0lX5sVNePlXSsZKmS7pD0scL232iRTHOAV6b/38bcFJhve0lXSbpWkl/kbRxm/fzAUm/l7S0pGmS3pyXz5R0mKS/SpohaZPO9pSZmZmZmZmZmfVStwNhS5e6Ru4L/BHYQdKEnGZf4GRJawH/B7wE2AkoBo6+B3wnIrYD9gGOKby2CfBqYHvgC5IWr1Cuk4H9JC0FvBi4ovDaTcDLImIr4PPAV5ttRNKBwF7AG3PrsrKHImJr4MfAiK6UZmZmZmZmZmY2OH3pGinpXOB1kn5Fapl1CPBK4OKIeDinOQ14QV5lN2AzSbVNLC9p2fz/2RHxNPC0pAeA1YF/tSpURFwvaRKpNdg5pZdXAH4uaSMggGaBtXcDd5OCYM82SXN6/nsN8KZGCSQdABwAsMzyq7QqtpmZmZmZmZmZdVG3A2HNnAwcCDwMXB0RjxeCXI0sArwkImYXF+Z1ni4smkv193AmcAQwGShGoL4EXBQRe+dg2fQm688AtgTWAe5skqZWtqblioijgKMAVlljg6hYdjMzMzMzMzMzG6OejxGWXQxsDXyAFBQDuAp4uaSVJC1G6gJZ8wfgY7UnkroxAP+xwGERMaO0fAXmD54/pcX61wIfBM7M3TrNzMzMzMzMzGwB0usxwr4GEBFzgbOA1+S/RMQ9pPG4rgT+DMwEHsvb+TiwraTrJf0d+NBYCxYR/4qI7zd46RvA4ZKupU3rsoi4lDT219mSJo61TGZmZmZmZmZm1j+KGFzvPEnLRsQTuUXYGcCxEXHGwArUZ6ussUG8+t1fGnQxzMzMzMzMzGxInfiNdwy6CF0n6ZqI2LbRa/3qGtnMVEnXATeQxt36zYDLY2ZmZmZmZmZmC6l+DZbfUEQcPMj8zczMzMzMzMxseAy6RZiZmZmZmZmZmVlfOBBmZmZmZmZmZmZDwYEwMzMzMzMzMzMbCg6EmZmZmZmZmZnZUBjoYPnDbv11Vl4opyk1MzMzMzMzMxuP3CLMzMzMzMzMzMyGggNhZmZmZmZmZmY2FBwIMzMzMzMzMzOzoeBAmJmZmZmZmZmZDQUPlj9AT/77Lq75xvsHXQwzMzMzMzOzSrY55JhBF8FsTNwizMzMzMzMzMzMhoIDYWZmZmZmZmZmNhQcCDMzMzMzMzMzs6HgQJiZmZmZmZmZmQ0FB8LMzMzMzMzMzGwoOBBmZmZmZmZmZmZDoVIgTNKhkm6UdL2k6yTtkJd/UtIyvS1i0zItI+kESTMk3SDpUknLSlpR0ke6mM9USQd3a3tmZmZmZmZmZjYYi7VLIOmlwF7A1hHxtKSJwBL55U8CxwNP9q6ITX0CuD8iXpTLuTHwLDAR+Ahw5ADKZGZmZmZmZmZm41SVFmFrAg9FxNMAEfFQRNwr6ePAWsBFki4CkPQqSZdJ+quk03ILrT0knVbbmKTJks5qlj4vnynpsLx8hqRNmpTrntqTiLg5l/FrwPNzy7Vv5jJcUNjWG3IekyTdJGmapFty67LdJP1Z0q2Sti9nKOkDkn4vaWlJn8ot0W6Q9Mn8+gRJZ0v6W16+b5UPwczMzMzMzMzMeq9KIOwPwLo5WHSkpJcDRMT3gXuBXSNi19xS7HPAbhGxNXA18Cngj8AOkibk7e0LnNwifc1DefmPgUZdE48FPp0DaV+WtFFe/hng9ojYMiL+B5gN7J23tSvwLUnKaTcEvgVskh9vB3bO+X22mJmkA0kt494IbAbsD+wAvAT4gKStgD2AeyNii4jYHDi3wv41MzMzMzMzM7M+aBsIi4gngG2AA4AHVinReQAAIABJREFUgVMkTWmQ9CWkANGfJV0HvAdYLyLmkAJCr5O0GPBa4LfN0he2d3r+ew0wqUG5rgM2AL4JrAxcJWnTBuUS8FVJ15OCcmsDq+fX7oyIGRExD7gRuCAiAphRyvPdwGuAN+dWZzsDZ0TErLx/TgdeltfbXdLXJb0sIh4bURjpAElXS7r6kVlPNSiumZmZmZmZmZn1QtsxwgAiYi4wHZguaQYpaDWtlEzA+RHxtgabOBk4EHgYuDoiHs+tspqlB3g6/53brJyFINTpkuYBewK/LiV7B7AqsE1EPCtpJrBUKQ+AeYXn80p5zgC2BNYB7mxSXiLiFklb53J8WdIFEfHFUpqjgKMANltn1Wi2LTMzMzMzMzMz6662LcIkbVzodggpIHRX/v9xYLn8/+XATpI2zOtNkPSC/NrFwNbAB0hBsXbp25K0k6SV8v9LkFqX3VUqE8AKwAM5CLYr9a3OqroW+CBwpqS1gEuAN+aZKycAewOX5NeejIjjSS3Vth5FXmZmZmZmZmZm1gNVWoQtC/xA0orAHOA2UjdJSC2bzpV0bx4nbApwkqQl8+ufA26JiLl5gPwppNZkRMSDzdJXLPvzgR/nlmWLAGcDv46IyAPe3wD8Hvg68Lvcku1q4KaK268TEZdKOjjnszupRdyV+eVjIuJaSa8Gvplbpz0LfHg0eZmZmZmZmZmZWfcpDYllg7DZOqvGLz/+hkEXw8zMzMzMzKySbQ45ZtBFMGtL0jURsW2j16rMGmlmZmZmZmZmZrbAcyDMzMzMzMzMzMyGggNhZmZmZmZmZmY2FBwIMzMzMzMzMzOzoeBAmJmZmZmZmZmZDQUHwszMzMzMzMzMbCgsNugCDLNl1ljPU8+amZmZmZmZmfWJW4SZmZmZmZmZmdlQcCDMzMzMzMzMzMyGggNhZmZmZmZmZmY2FBwIMzMzMzMzMzOzoeDB8gdo5kN3M+W4Twy6GGZmZmZmZjaOTNv/e4MugtlCyy3CzMzMzMzMzMxsKDgQZmZmZmZmZmZmQ8GBMDMzMzMzMzMzGwoOhJmZmZmZmZmZ2VBwIMzMzMzMzMzMzIaCA2FmZmZmZmZmZjYUuhYIk7SGpJMl3S7pGknnSHqBpEmSbuhSHpMlndXhOhtJOqtQrosk7ZJfe72kz3SjbGZmZmZmZmZmNr4t1o2NSBJwBvDziNgvL9sCWB24uxt5jLJcSwFnAwdHxJl52ebAtsCf8rIzG6y3WETM6WthzczMzMzMzMysp7rVImxX4NmI+EltQUT8LSIuKSbKrcMukfTX/NgxL69r6SXph5Km5P/3kHSTpL8CbyqkmSDpWElXSrpW0hsalOsdwGW1IFgu1w0RMS1vY4qkH+b/p0n6iaQrgG9I2lLS5ZKul3SGpJVyuumSts3/T5Q0M/9/kKRj8/8vknSDpGVGu0PNzMzMzMzMzKy7uhUI2xy4pkK6B4DdI2JrYF/g+60S5xZdRwOvA7YB1ii8fChwYURsTwrEfVPShNImXgj8tdI7SNYBdoyITwG/AD4dES8GZgBfaLPu94ANJe0NHAd8MCKe7CBvMzMzMzMzMzProX4Plr84cLSkGcBpwGZt0m8C3BkRt0ZEAMcXXnsV8BlJ1wHTgaWA57XaWG7ZdYOk05skOS0i5kpaAVgxIi7Oy38O7NJq2xExD5gC/BK4OCL+3KQMB0i6WtLVs594qtUmzczMzMzMzMysi7oyRhhwI/DmCukOAu4HtiAF4Wbn5XOoD8otVWFbAvaJiJvblOu5AFZE7J27NR7RJP2sCvkWy1ou50bAE8BazVaOiKOAowAmTlo9KuRnZmZmZmZmZmZd0K0WYRcCS0o6oLZA0oslvayUbgXgvtx66l3Aonn5XcBmkpaUtCLwyrz8JmCSpOfn528rbOs84GN5oH4kbdWgXCcCO0l6fWFZ23G7IuIx4JFC+d8F1FqHzSR104RC8C+3Ivs+KfC2iqQqgUEzMzMzMzMzM+uTrgTCcrfFvYHdJN0u6UbgcODfpaRHAu+R9DdSt8dZef27gVOBG/Lfa/Py2cABwNl5sPwHCtv6Eqmr5fU5vy81KNdTwF7AhyTdIeky4HPAlyu8rfeQxh27HtgS+GJefgTwYUnXAhML6b8D/CgibgHeB3xN0moV8jEzMzMzMzMzsz5QimHZIEyctHrs9YX9Bl0MMzMzMzMzG0em7f+9QRfBbIEm6ZqI2LbRa/0eLN/MzMzMzMzMzGwgHAgzMzMzMzMzM7Oh4ECYmZmZmZmZmZkNBQfCzMzMzMzMzMxsKDgQZmZmZmZmZmZmQ8GBMDMzMzMzMzMzGwqLDboAw2zSxHU9La6ZmZmZmZmZWZ+4RZiZmZmZmZmZmQ0FB8Ls/7N3p9F2VWW6x/+PBAQBYwNFhUaiiCBdAgRK6UQL0bJB0WgKUIiokbIrsS+lKChsweaKlmJQiCgFCqJgByLSNwIhrYp6h2ApIGCJaGgihPd+2CuyPfc0Ock5ex9c/98YZ5y155prznftj8+Yc25JkiRJkqRWMAiTJEmSJElSKxiESZIkSZIkqRU8LL+P7r7pZr576Gv6XYYkSZIkjcoLTju13yVI0mpxRZgkSZIkSZJawSBMkiRJkiRJrWAQJkmSJEmSpFYwCJMkSZIkSVIrGIRJkiRJkiSpFQzCJEmSJEmS1AoGYZIkSZIkSWqFSb2YJMmyqtqgF3M18z0GOBnYCQjwB+D5VbWsVzVIkiRJkiRpYulJENYH/wrcXlU7AiTZBnigvyVJkiRJkiSpn3q2NTLJBkkuSnJDkiVJXtK0r5/kO0kWJVmaZFbT/o9JFjR9T0ny6Kb95iTHdo2z7SDTTQFuWfmhqn5WVcuTTE1yY5LTk/w0ydnN6jGS7Jrk0iTzk1yQZEqSTZMs7PpbkWTLAW33JXlWkt2TXN3UfFUTvkmSJEmSJGmC6OUZYfcDB1bVLsCzgY8nCfB84NaqmlZVOwDnJ1kXmAfMalZ1TQL+pWus3zXjfA545yBznQK8pwmmPpBk66572wCfraqnA38E3phkbeDTwMyq2rV5/oNVdWtVTa+q6XS2Wn69qn7V1fbvwPXAVcCNwN5VtTNwNPChwb6EJHOSXJ/k+ruX3z/Kr1CSJEmSJEmrq5dBWIAPJVkM/ADYDNgEWAI8N8lHk+xdVXfTCatuqqqfN89+Cdina6xzmv/zgakDJ6qqhcBTgBOAJwDXJXl6c/vXVXVlc/0VYK9mvh2AC5MsBI4CNv9L4cmewOuBw7vatm7Gf2VVPQBMBs5KshT4JLD9YF9CVc2tqhlVNWPyo9cd7vuSJEmSJEnSGOrlGWGHABsDu1bVA0luBtatqp8n2QV4AfCBJBcB544w1vLm/wqGeIfmYPxzgHOSPNSM/3WgBnalE9L9uKqeOXCcJFOALwIHrDxsP8kGwNeA11fVbU3X44CLq+rAJFOBS0Z4B0mSJEmSJPVQL1eETQbuaEKwZwNbAiTZFLi3qr5CZ4XVLsDPgKlJnto8+2rg0lWdKMmeSR7fXK8DbAf8qrn9pCQrA6+DgSua+TZe2Z5k7STbN1smzwLe07U6DTpbJ0+tqssHvN/Kc8lmr2qtkiRJkiRJ6o1xD8KSTKKzgut0YEaSJcChdM7UAtgRuLbZkvgfwAeq6n7gNXS2Gi4BHgJOGsW0WwGXNs8uoHOO19ebez8D3pTkp8Djgc9V1Z+BmcBHkywCFgJ7NH8zgGO7Dsffsul7eFfbDOB44MNJFvC3+2uckiRJkiRJj1ipGrhTcIwnSKYBJ1fV7uM60arVMhX4dnMof99t/cSN6lMvfHG/y5AkSZKkUXnBaaf2uwRJGlKS+VU1Y7B747oiLMkRwBl0Dp+XJEmSJEmS+mZct/BV1UmMbkvjuKqqm+n8OqQkSZIkSZJappeH5UuSJEmSJEl9YxAmSZIkSZKkVjAIkyRJkiRJUiuM6xlhGt7kJ0/111YkSZIkSZJ6xBVhkiRJkiRJagWDMEmSJEmSJLWCQZgkSZIkSZJawSBMkiRJkiRJrWAQJkmSJEmSpFbwVyP76LZb7uJD7z+732VIkiRJEgDv++DMfpcgSePKFWGSJEmSJElqBYMwSZIkSZIktYJBmCRJkiRJklrBIEySJEmSJEmtYBAmSZIkSZKkVjAIkyRJkiRJUiuMSRCWZFnzf2qSpWMw3l+Nk+T1SeYnefyajj3Y+EP0uTnJRmM5piRJkiRJkvpnUr8LGEmSVwNvAZ5TVXf1ux5JkiRJkiQ9Mo3b1sgklyWZ3vX5iiTTkuye5OokC5JclWSbYcZ4JfBeYP+q+l06TkiyNMmSJLOafmcmeWHXc/OSzGxWaV2e5Ibmb49B5lgryceaMRcneUvX7bc0zy1Jsm3T/5gk7+x6fmmSqQPGfErzfruN+ouTJEmSJEnSuBjPFWFfBGYDb0vyNGDdqlqU5LHA3lX1YJL9gA8BLx/k+S2BzwA7V9Vvm7aXAdOBacBGwHVJLgO+CrwS+E6SdYB/BP4FCPDcqro/ydbAGcCMAfPMAaYC05uantB173dVtUuSNwLvBF430ks3wd6ZwOyqWjRSf0mSJEmSJPXGeB6WfxbwoiRrA4cD85r2ycBZzXlanwS2H+L5O4H/oRNwrbQXcEZVraiq24FLgd2A7wHPTvJo4J+Ay6rqPmBt4OQkS5p6thtknv2Az1fVgwBV9fuue+c0/+fTCctGsjFwLnDIUCFYkjlJrk9y/T33/nEVhpQkSZIkSdJYGLcgrKruBS4EXkInzDq9uXUccHFV7QC8GFh3iCHuBV4AHJHkkBHmuh+4BHgeMIvOCjGAI4Hb6awgmwGsM8rXWN78X8HDq+ce5K+/t+7676YT3u01TK1zq2pGVc1Y/zGPHWU5kiRJkiRJWl3juSIM4AvAicB1XQfdTwZuaa5nD/dwVd0BPB/4UJLnAZcDs5pzvTYG9gGubbp/FXgNsDdwftdct1XVQ8CrgbUGmeZC4A1JJgEM2Bo5mJuBXZq+uwBP7rr3Z+BA4NAkB48wjiRJkiRJknpoXIOwqpoP/BE4tav5eODDSRawCmeUVdVNwAHAKXQCtMXAIuCHwLu7zg/7PvAs4AdV9eem7bPAYUkWAdsC9wwyxRforOJa3PQbKcD6OvCEJD8G3gz8fEC99wAvAo5McsBI7ydJkiRJkqTeSFWN3+DJpnS2LG7brMpSl82mbFVvOvyj/S5DkiRJkgB43wdn9rsESVpjSeZX1cAfSwTGcUVYkkOBHwHvNwSTJEmSJElSv424NXF1VdVpwGnjNb4kSZIkSZI0GuN9WL4kSZIkSZI0IRiESZIkSZIkqRUMwiRJkiRJktQK43ZGmEY2ZbPH+6sskiRJkiRJPeKKMEmSJEmSJLWCQZgkSZIkSZJawSBMkiRJkiRJrWAQJkmSJEmSpFYwCJMkSZIkSVIr+KuRfXT7Lb/iE//2hn6XIUmSJKkF3v7hz/e7BEnqO1eESZIkSZIkqRUMwiRJkiRJktQKBmGSJEmSJElqBYMwSZIkSZIktYJBmCRJkiRJklrBIEySJEmSJEmtMOGCsCQrkixMsjTJWUkek2RqkqVD9P/PJPs115ckmTFIn7+0J3lykl8ked44v8ey8RxfkiRJkiRJozPhgjDgvqqaXlU7AH8Gjhiuc1UdXVU/WJWBk2wOnA+8o6ouWPNSJUmSJEmS9EgxEYOwbpcDT22u10pycpIfJ/l+kvUAksxLMnMVxpoCfB94f1Wd1zy7a5JLk8xPckGSKU37W5P8JMniJGc2bc9qVqotTLIgyYZN+7uSXNf0PXaM31+SJEmSJEljZMIGYUkmAf8ELGmatgb+q6q2B/4AvHyUQ34J+ExVnd2MvzbwaWBmVe0KnAJ8sOn7XmDnqtqJh1ekvRN4U1VNB/YG7kuyf1PX7sB0YNck+4z6ZSVJkiRJkjTuJmIQtl6ShcD1wP8AX2zab6qqhc31fGDqKMf9AfCqJI9pPm8D7ABc2Mx3FLB5c28xcHqSVwEPNm1XAp9I8lbgcVX1ILB/87cAuAHYlk4wNqQkc5Jcn+T6e+69f5SvIEmSJEmSpNU1qd8FDOK+ZtXVXyQBWN7VtAJYb5TjHg+8GjgryUuAAD+uqmcO0veFwD7Ai4H3J9mxqj6S5DvAC4Arm8P2A3y4qj6/qkVU1VxgLsAWUzauUb6DJEmSJEmSVtNEXBE2nt4G/JHOKrOfAxsneSZ0tkom2T7Jo4Atqupi4D3AZGCDJFtV1ZKq+ihwHZ3VXxcAhyfZoBljsyR/1/vXkiRJkiRJ0kgm4oqwcVNVleQw4NvAB4CZwIlJJtP5Lv4PnYDsK01bgBOr6g9JjkvybOAh4MfA96pqeZKnA1c3q9aWAa8C7uj1u0mSJEmSJGl4qXJ3Xr9sMWXjOnL2y/pdhiRJkqQWePuHV/lEF0l6REsyv6pmDHavbVsjJUmSJEmS1FIGYZIkSZIkSWoFgzBJkiRJkiS1gkGYJEmSJEmSWsEgTJIkSZIkSa1gECZJkiRJkqRWmNTvAtpsk8229CeMJUmSJEmSesQVYZIkSZIkSWoFgzBJkiRJkiS1gkGYJEmSJEmSWsEgTJIkSZIkSa3gYfl9dN+df2LRZy/pdxmSJEmSHsGmvXHffpcgSY8YrgiTJEmSJElSKxiESZIkSZIkqRUMwiRJkiRJktQKBmGSJEmSJElqBYMwSZIkSZIktYJBmCRJkiRJklqhp0FYkmXD3Ns3ybdXc9znJVnY/C1L8rPm+rTVr1aSJEmSJEl/Syb1u4CxUFUXABcAJLkEeGdVXT8ecyVZq6pWjMfYkiRJkiRJGj893xqZjhOSLE2yJMmsrtsbJDk7yY1JTk+S5pmbkxyb5IbmmW1Xca7PJbk+yY+THNu0PT/JWV19/rISbbD+XfN/NMkNwCuS7J/k6qaes5Js0PT7SJKfJFmc5GNr/m1JkiRJkiRprPRjRdjLgOnANGAj4LoklzX3dga2B24FrgT2BK5o7v2uqnZJ8kbgncDrVmGu91fV75OsBVyUZCfgB8DcJOtX1T3ALODMofpX1eLm3v82828EnAPsV1X3JHkP8PYk/wUcCGxbVZXkcav5/UiSJEmSJGkc9OOw/L2AM6pqRVXdDlwK7Nbcu7aqflNVDwELgaldz53T/J8/oH04r2xWcS2gE7BtV1UPAucDL04yCXghcO5Q/bvG+mrz/xlN+5VJFgKHAVsCdwP3A19M8jLg3sEKSjKnWXV2/V3L7l7F15AkSZIkSdKammhnhC3vul7BX9e3fIj2QSV5Mp2VY7tV1V1J5gHrNrfPBN4M/B64vqr+NEJ/gHtWDg1cWFUHDTLn7sA/AjOb8Z8zsE9VzQXmAmy/5TY10ntIkiRJkiRpbPRjRdjlwKwkayXZGNgHuHYc5nksnfDq7iSbAP/Ude9SYBfg9Ty8LXK4/t2uAfZM8lSAJOsneVpzTtjkqvoucCSdrZ+SJEmSJEmaIHq2IqzZhrgc+AbwTGARUMC7q+q3q3oA/qqqqkVJFgA3Ar+mc+bYynsrmgPyZ9PZ2jhs/wHj3plkNnBGkkc3zUcBfwLOTbIunVVjbx/L95EkSZIkSdKaSVVvduclmQacXFW792TCR4Dtt9ym/vs9n+93GZIkSZIewaa9cd9+lyBJE0qS+VU1Y7B7PdkameQI4Aw6K6ckSZIkSZKknuvJ1siqOgk4qRdzSZIkSZIkSYPpx2H5kiRJkiRJUs8ZhEmSJEmSJKkVDMIkSZIkSZLUCgZhkiRJkiRJaoWeHJavwa238Yb+1LEkSZIkSVKPuCJMkiRJkiRJrWAQJkmSJEmSpFYwCJMkSZIkSVIrGIRJkiRJkiSpFTwsv49uv/12Pv7xj/e7DEmSJEmPYO94xzv6XYIkPWK4IkySJEmSJEmtYBAmSZIkSZKkVjAIkyRJkiRJUisYhEmSJEmSJKkVDMIkSZIkSZLUCgZhkiRJkiRJaoUJE4QlWdbn+W9O8vWuzzOTzFvNsaYmWTpmxUmSJEmSJGmNTZggbILYNcl2/S5CkiRJkiRJY29CBWFJNkhyUZIbkixJ8pKmfWqSG5PMS/LzJKcn2S/JlUl+kWT3pt/6SU5Jcm2SBV3Pb9+0LUyyOMnWQ5TwceD9g9Q11LhTk1ze1HtDkj3G55uRJEmSJEnSmprU7wIGuB84sKr+mGQj4Jok5zX3ngq8AjgcuA44GNgLOAB4H/BSOiHWD6vq8CSPA65N8gPgCOBTVXV6knWAtYaY/2vAG5M8dUD7UOPeATy3qu5vwrUzgBlj8UVIkiRJkiRpbE20ICzAh5LsAzwEbAZs0ty7qaqWACT5MXBRVVWSJcDUps/+wAFJ3tl8Xhd4EnA18P4kmwPnVNUvhph/BXAC8G/A97rahxr3VuAzSaY3zz5txBdM5gBzAB7/+MeP1F2SJEmSJEljZKIFYYcAGwO7VtUDSW6mEzoBLO/q91DX54d4+D0CvLyqfjZg3J8m+RHwQuC7Sd5QVT8cooYv0wnCug+7H3TcJMcAtwPT6GwzvX+kF6yqucBcgC222KJG6i9JkiRJkqSxMaHOCAMmA3c0IdizgS1H+fwFwFuSBCDJzs3/pwC/rKoTgXOBnYYaoKoeAD4JHDnSuE29t1XVQ8CrGXrLpSRJkiRJkvpsQgRhSSbRWeF1OjCj2e54KHDjKIc6DlgbWNxsnzyuaX8lsDTJQmAH4LQRxvkif71abqhxPwsclmQRsC1wzyjrlSRJkiRJUo+kqv+785JMA06uqt37XUsvbbHFFvW2t72t32VIkiRJegR7xzve0e8SJGlCSTK/qgb9McO+rwhLcgSdX1s8qt+1SJIkSZIk6W9X3w/Lr6qTgJP6XYckSZIkSZL+tvV9RZgkSZIkSZLUCwZhkiRJkiRJagWDMEmSJEmSJLWCQZgkSZIkSZJaoe+H5bfZJpts4k8dS5IkSZIk9YgrwiRJkiRJktQKBmGSJEmSJElqBYMwSZIkSZIktYJBmCRJkiRJklrBw/L7aNndt3LZt4/pdxmSJEmSHsH2edEx/S5Bkh4xXBEmSZIkSZKkVjAIkyRJkiRJUisYhEmSJEmSJKkVDMIkSZIkSZLUCgZhkiRJkiRJagWDMEmSJEmSJLVCT4KwJMsGfJ6d5DNjOP53kzwuydQkS0fo+6gkJyZZmmRJkuuSPHkUc+2b5NvN9QFJ3rum9UuSJEmSJGn8Tep3AWsiSYBU1Quaz49bhcdmAZsCO1XVQ0k2B+5Znfmr6jzgvNV5VpIkSZIkSb3V962RSTZO8vVmZdZ1SfZs2o9JckqSS5L8Mslbm/apSX6W5DRgKbBFkpuTbDRg3KckWZBktwFTTgFuq6qHAKrqN1V1V/PM/kmuTnJDkrOSbNC0Pz/JjUluAF7WNcdfVrYlmdesNLuqqXfmuHxhkiRJkiRJWi29WhG2XpKFXZ+fwMMrqT4FfLKqrkjyJOAC4OnNvW2BZwMbAj9L8rmmfWvgsKq6BqCzMOxhSbYBzgRmV9WiAbV8Dbgiyd7ARcBXqmpBE6QdBexXVfckeQ/w9iTHAycDzwH+L/DVYd5zCrBXU/d5wNkjfC+SJEmSJEnqkV4FYfdV1fSVH5LMBmY0H/cDtusKsx67ciUW8J2qWg4sT3IHsEnT/quVIdggNgbOBV5WVT8ZeLOqftMEZc9p/i5K8gpgPWA74MqmlnWAq+mEWjdV1S+a2r8CzBli7m82K81+kmSTwTokmbPy+U02njzEMJIkSZIkSRprE+GMsEcBz6iq+7sbmzBqeVfTCh6ud7gzve4G/ofOyqz/LwgDaMK17wHfS3I78FLg+8CFVXXQgDqmDzLEULrrzWAdqmouMBdg2603rVGMLUmSJEmSpDXQ9zPC6ARQb1n5YZTB02D+DBwIHJrk4IE3k+ySZNPm+lHATsCvgGuAPZM8tbm3fpKnATcCU5Ns1Qxx0MAxJUmSJEmSNPFNhCDsrcCMJIuT/AQ4Yk0HrKp7gBcBRyY5YMDtvwO+lWQpsBh4EPhMVd0JzAbOSLKYZltks1JtDvCd5rD8O9a0PkmSJEmSJPVeqtyd1y/bbr1pzf3kUMeNSZIkSdLI9nnRMf0uQZImlCTzq2rGYPcmwoowSZIkSZIkadwZhEmSJEmSJKkVDMIkSZIkSZLUCgZhkiRJkiRJagWDMEmSJEmSJLWCQZgkSZIkSZJaYVK/C2izDSZv6k8dS5IkSZIk9YgrwiRJkiRJktQKBmGSJEmSJElqBYMwSZIkSZIktYJBmCRJkiRJklrBIEySJEmSJEmt4K9G9tGv//An3v6NS/tdhiRJkqQx8okDn9XvEiRJw3BFmCRJkiRJklrBIEySJEmSJEmtYBAmSZIkSZKkVjAIkyRJkiRJUisYhEmSJEmSJKkVDMIkSZIkSZLUChMmCEuyIsnCJEuTnJXkMcP03TfJHsPcPyDJe5vreUlmjjD3vCQ3NfMvTHJV0z47yWea6yOSHLp6bydJkiRJkqR+m9TvArrcV1XTAZKcDhwBfGKIvvsCy4CrBt5IMqmqzgPOG+X876qqs4e6WVUnjXI8SZIkSZIkTSATKQjrdjmwU5IXA0cB6wD/CxwCrEcnJFuR5FXAW4DXAvcDOwNXJlkMzKiqN3cPmuQ4YAvgtVW1YjQFJTkGWFZVH0vyemBOU9f/BV5dVfcmeQXwH8AK4O6q2me13l6SJEmSJEljbsJsjVwpySTgn4AlwBXAM6pqZ+BM4N1VdTNwEvDJqppeVZc3j24O7FFVbx9i3BOAjYHXDBGCndC1NfL0Eco8p6p2q6ppwE/pBHEARwPPa9oPGKKOOUmuT3L9fX+8e4RpJEmSJEmSNFYm0oqw9ZIsbK4vB74IbAN8NckUOquvbhrm+bOGWeX178CPqmrOMM8PuzVygB2SfAB4HLABcEHTfiUwL8nXgHMGe7Cq5gJzATZ56ja1ivNJkiRJkiRpDU2kFWH3NSu8plfVW6rqz8Cngc9U1Y7AG4B1h3lw8ZcsAAAgAElEQVT+nmHuXQfsmuQJY1TrPODNTV3Hrqyrqo6gs5VzC2B+kieO0XySJEmSJElaQxMpCBvMZOCW5vqwrvY/ARuOYpzzgY8A30kymueGsiFwW5K16ZxbBkCSrarqR1V1NHAnnUBMkiRJkiRJE8BED8KOAc5KMh/4XVf7t4ADm/O89l6VgarqLOBk4Lwk6w3SpfuMsIVJ1hlmuH8HfkRnK+SNA8ZYkmQpnV+0XLQqtUmSJEmSJGn8pcpjqvplk6duU4ecMLffZUiSJEkaI5848Fn9LkGSWi/J/KqaMdi9ib4iTJIkSZIkSRoTBmGSJEmSJElqBYMwSZIkSZIktYJBmCRJkiRJklrBIEySJEmSJEmtMKnfBbTZFo/b0F+VkSRJkiRJ6hFXhEmSJEmSJKkVDMIkSZIkSZLUCgZhkiRJkiRJagWDMEmSJEmSJLWCQZgkSZIkSZJawV+N7KObfvN7Dn736f0uQ5IkSdIY+e/jD+l3CZKkYbgiTJIkSZIkSa1gECZJkiRJkqRWMAiTJEmSJElSKxiESZIkSZIkqRUMwiRJkiRJktQKBmGSJEmSJElqhZ4EYUlWJFnY9ffeIfr9Z5L9muubk2w0wrh/6ZNk1yQ3Jdl5FHXtm+Tbo3kXSZIkSZIkPTJN6tE891XV9OE6JFmrqo5encGT7AScDcyqqgWr+Eyv3l2SJEmSJEkTQF+3RjYruj6a5AbgFUnmJZk5oM96Sb6X5PVDDPN04JvAq6vq2uaZFyf5UZIFSX6QZJOm/ZgkX05yJfDlAfM8q2vF2oIkGyaZkuSypm1pkr2bvgclWdK0fbRrjGVJPphkUZJrVs4rSZIkSZKk/utVELbegK2Rs7ru/W9V7VJVZw7y3AbAt4AzqurkIcY+F3hzVV3R1XYF8Iyq2hk4E3h3173tgP2q6qAB47wTeFOzcm1v4D7gYOCCpm0asDDJpsBHgecA04Hdkry0GWN94JqqmgZcBgwV3kmSJEmSJKnHJsLWyK8O89y5wPFVdfowfX4AvC7JBVW1omnbHPhqkinAOsBNXf3Pq6r7BhnnSuATSU4Hzqmq3yS5DjglydrAN6tqYZLnAJdU1Z0ATf996KxK+zOw8syx+cBzB06SZA4wB+Axj33iMK8lSZIkSZKksTQRfjXynmHuXQk8P0mG6fPm5v9nu9o+DXymqnYE3gCsO9J8VfUR4HXAesCVSbatqsvohFy3APOSHDrsm8ADVVXN9QoGCRqram5VzaiqGeuu99gRhpMkSZIkSdJYmQhB2HCOBu4C/muYPg/R2cK4bZL/bNom0wmvAA5blYmSbFVVS6rqo8B1zXhbArc32zK/AOwCXAs8K8lGSdYCDgIuHeV7SZIkSZIkqcf6dUbYR0bx7L82zx8/VIequh84ADggyZuAY4CzkswHfreK87ytOfx+MfAA8D1gX2BRkgXALOBTVXUb8F7gYmARML+qzh3F+0iSJEmSJKkP8vBOPvXaE//+KfW8Q4/rdxmSJEmSxsh/H39Iv0uQpNZLMr+qZgx2b6JvjZQkSZIkSZLGhEGYJEmSJEmSWsEgTJIkSZIkSa1gECZJkiRJkqRWMAiTJEmSJElSK0zqdwFt9uTNn+CvykiSJEmSJPWIK8IkSZIkSZLUCgZhkiRJkiRJagWDMEmSJEmSJLWCQZgkSZIkSZJawSBMkiRJkiRJreCvRvbRvb/9FfOPf12/y5AkSZI0gl3f/YV+lyBJGgOuCJMkSZIkSVIrGIRJkiRJkiSpFQzCJEmSJEmS1AoGYZIkSZIkSWoFgzBJkiRJkiS1gkGYJEmSJEmSWqFnQViSZWv4/I+SLEzyP0nubK4XJpm6pmMPM+fUJAePx9iSJEmSJEnqrUn9LmBVVdU/ACSZDcyoqjevvJdktcdNMqmqHhzi9lTgYOC/V3sCSZIkSZIkTQg93RqZjhOSLE2yJMmsrnvvSnJdksVJjl2NsT+YZFGSa5Js0rRNTfLDZsyLkjypaZ+X5KQkPwKObz6fmOSqJL9MMrMZ9iPA3s3KsyOTrJvk1Kb2BUme3Yw3O8k5Sc5P8oskx6/xlyVJkiRJkqQx1eszwl4GTAemAfsBJySZkmR/YGtg9+b+rkn2GcW46wPXVNU04DLg9U37p4EvVdVOwOnAiV3PbA7sUVVvbz5PAfYCXkQnAAN4L3B5VU2vqk8CbwKqqnYEDgK+lGTdpu90YBawIzAryRajqF+SJEmSJEnjrNdB2F7AGVW1oqpuBy4FdgP2b/4WADcA29IJxlbVn4FvN9fz6WxpBHgmD29r/HIz/0pnVdWKrs/frKqHquonwCbD1P8VgKq6EfgV8LTm3kVVdXdV3Q/8BNhysAGSzElyfZLr77rnvlV9P0mSJEmSJK2hiXJGWIAPV9XnV/P5B6qqmusVrNp73TPg8/IB9YxW9/ND1lBVc4G5ANttvnEN1keSJEmSJEljr9crwi6ns21wrSQbA/sA1wIXAIcn2QAgyWZJ/m4M5rsK+Ofm+pBm/tH4E7Bh1+fLm3FI8jTgScDP1rBGSZIkSZIk9UBPVoQlmURnxdQ36GxXXAQU8O6q+i3w2yRPB65ufgFyGfAq4I41nPotwKlJ3gXcCbxmlM8vBlYkWQTMAz4LfC7JEuBBYHZVLV+TX62UJEmSJElSb+ThHYXjOEkyDTi5qnYf98keQbbbfOP68ltf0u8yJEmSJI1g13d/od8lSJJWUZL5VTVjsHvjvjUyyRHAGcBR4z2XJEmSJEmSNJRx3xpZVScBJ433PJIkSZIkSdJwen1YviRJkiRJktQXBmGSJEmSJElqBYMwSZIkSZIktYJBmCRJkiRJklph3A/L19Ae8/db+jPMkiRJkiRJPeKKMEmSJEmSJLWCQZgkSZIkSZJawSBMkiRJkiRJrWAQJkmSJEmSpFbwsPw+uvl3v2b2qf/a7zIkSZIkjWDeaz7V7xIkSWPAFWGSJEmSJElqBYMwSZIkSZIktYJBmCRJkiRJklrBIEySJEmSJEmtYBAmSZIkSZKkVjAIkyRJkiRJUiv0LAhLsiLJwiRLk3wryePGYMwFSaY315OSLEvyqq7785PskuSYJO8cYoyrmv9Tkxy8pjVJkiRJkiRpYurlirD7qmp6Ve0A/B540xiMeSWwR3M9Dfj5ys9J1ge2AhYNN0BVrXx+KmAQJkmSJEmS9DeqX1sjrwY2A0iye5Krm9VdVyXZpmm/bOVqr+bzFUmmDRjnKh4OwvYATgJWPrM7ML+qVjSft0tySZJfJnlr17jLmsuPAHs3q9aOTDI7yTlJzk/yiyTHdz2zf1PzDUnOSrJBkuck+WZXn+cm+cYafk+SJEmSJEkaIz0PwpKsBfwjcF7TdCOwd1XtDBwNfKhp/yIwu3nmacC6VTVwdVf3irA9gMuA5Uk2bD5f1dV3W+B5dAKy/0iy9oCx3gtc3qxa+2TTNh2YBewIzEqyRZKNgKOA/apqF+B64O3AxcC2STZunn0NcMoqfzGSJEmSJEkaV70MwtZLshD4LbAJcGHTPhk4K8lS4JPA9k37WcCLmsDqcGDewAGr6lfAOkn+nk7Q9TPgOuAf6ARhV3Z1/05VLa+q3wF3NDWM5KKquruq7gd+AmwJPAPYDriyeZ/DgC2rqoAvA69qzj97JvC9gQMmmZPk+iTX37/svlUoQZIkSZIkSWNhUg/nuq+qpid5DHABnTPCTgSOAy6uqgOTTAUuAaiqe5NcCLwEeCWw6xDjXgW8AritqirJNcCedFZ+Xd3Vb3nX9QpW7d0HeybAhVV10CD9TwW+BdwPnFVVDw7sUFVzgbkAG03dpFahBkmSJEmSJI2Bnm+NrKp7gbcC70gyic6KsFua27MHdP8CnbDsuqq6a4ghrwLexsOh19XAocBvq+ruUZT2J2DDVeh3DbBnkqdC51D+ZusmVXUrcCudrZOnjmJuSZIkSZIkjbO+HJZfVQuAxcBBwPHAh5MsYMAqraqaD/yR4UOlK4Gn0ARhVXUbsBZ/fT7YqlgMrEiyKMmRw9R+J53A7owki5t5t+3qcjrw66r66SjnlyRJkiRJ0jjq2dbIqtpgwOcXd318Wtf1USsvkmxKJ6z7/jDjXkdnu2J329QBn48Z8HmHgXVV1QPAcwYMP6+r34u6rn8I7DZESXsBJw9VryRJkiRJkvqjLyvCVkWSQ4EfAe+vqof6Xc+qSDIf2An4Sr9rkSRJkiRJ0l/r5WH5o1JVpwGn9buO0aiqoQ70lyRJkiRJUp9N2BVhkiRJkiRJ0lgyCJMkSZIkSVIrGIRJkiRJkiSpFQzCJEmSJEmS1AoT9rD8Npi60RbMe82n+l2GJEmSJElSK7giTJIkSZIkSa1gECZJkiRJkqRWMAiTJEmSJElSKxiESZIkSZIkqRU8LL+P7r7pZr576Gv6XYYkSZKkEbzgtFP7XYIkaQy4IkySJEmSJEmtYBAmSZIkSZKkVjAIkyRJkiRJUisYhEmSJEmSJKkVDMIkSZIkSZLUCgZhkiRJkiRJaoVxC8KSVJKvdH2elOTOJN8e5TibJjl7jGqal2TmgLZlYzG2JEmSJEmSJrbxXBF2D7BDkvWaz88FbhnNAEkmVdWtVTVz5N6SJEmSJEnS0MZ7a+R3gRc21wcBZ6y8kWT3JFcnWZDkqiTbNO2zk5yX5IfARUmmJlna3Jua5PIkNzR/ezTt+ya5JMnZSW5McnqSjKbQdJyQZGmSJUlmNe1TklyWZGFzb+8kazWry1b2PbLp+/ok1yVZlOTrSR6zpl+gJEmSJEmSxsZ4B2FnAv+cZF1gJ+BHXfduBPauqp2Bo4EPdd3bBZhZVc8aMN4dwHOrahdgFnBi172dgbcB2wFPAfYcoqYTmlBrYZKFXe0vA6YD04D9mn5TgIOBC6pq5b2FTb/NqmqHqtoROLUZ45yq2q2qpgE/BV473JcjSZIkSZKk3pk0noNX1eIkU+msBvvugNuTgS8l2RooYO2uexdW1e8HGXJt4DNJpgMrgKd13bu2qn4D0ARcU4ErBhnjXVX1lzPHus4I2ws4o6pWALcnuRTYDbgOOCXJ2sA3q2phkl8CT0nyaeA7wPebMXZI8gHgccAGwAUDJ08yB5gDsPH66w9SniRJkiRJksZDL3418jzgY3Rti2wcB1xcVTsALwbW7bp3zxBjHQncTmdl1gxgna57y7uuVzBGIV9VXQbsQ+d8s3lJDq2qu5oaLgGOAL7QdJ8HvLlZJXYsf/1OK8ebW1UzqmrG5Ef/f7clSZIkSZI0TnoRhJ0CHFtVSwa0T+bhw/Nnr+JYk4Hbquoh4NXAWmNSYcflwKzm/K+N6YRf1ybZEri9qk6mE3jtkmQj4FFV9XXgKDpbOQE2BG5rVo8dMoa1SZIkSZIkaQ2N69ZIgGa74omD3DqeztbIo+hsL1wVnwW+nuRQ4HyGXjm2Or4BPBNYRGer5rur6rdJDgPeleQBYBlwKLAZcGqSlUHivzX//53OOWh3Nv83HMP6JEmSJEmStAZSVf2uobW2fuJG9akXvrjfZUiSJEkawQtOO3XkTpKkCSHJ/KqaMdi9XmyNlCRJkiRJkvrOIEySJEmSJEmtYBAmSZIkSZKkVjAIkyRJkiRJUisYhEmSJEmSJKkVDMIkSZIkSZLUCpP6XUCbTX7yVH+GWZIkSZIkqUdcESZJkiRJkqRWMAiTJEmSJElSKxiESZIkSZIkqRUMwiRJkiRJktQKHpbfR7fdchcfev/Z/S5DkiRJaq33fXBmv0uQJPWQK8IkSZIkSZLUCgZhkiRJkiRJagWDMEmSJEmSJLWCQZgkSZIkSZJawSBMkiRJkiRJrWAQJkmSJEmSpFboaRCW5KVJKsm24zzP7CSfaa4fleRLSU5JklGOs2mSs5vr6UleMB71SpIkSZIkafz1ekXYQcAVzf9x1wRfJwFrA6+rqhrN81V1a1XNbD5OB0YVhCWZNJr+kiRJkiRJGj89C8KSbADsBbwW+Oeu9n2TXJLk7CQ3Jjk9HTOSLGz+liSppv9WSc5PMj/J5SOsLjsReCJwaFU9lOQJSb6ZZHGSa5Ls1Ix5TJIvJ7k6yS+SvL5pn5pkaZJ1gP8EZjX1zEqye9N/QZKrkmzTPDM7yXlJfghcNA5fpSRJkiRJklZDL1csvQQ4v6p+nuR/k+xaVfObezsD2wO3AlcCe1bVFXRWYZHkBOD8pu9c4Iiq+kWSfwA+CzxnkPkOBn4K7FtVDzZtxwILquqlSZ4DnLZyDmAn4BnA+sCCJN9ZOVBV/TnJ0cCMqnpzU9Njgb2r6sEk+wEfAl7ePLILsFNV/X41vytJkiRJkiSNsV4GYQcBn2quz2w+rwzCrq2q3wAkWQhMpbOFkiSz6ARL+zeryvYAzuo67uvRQ8x3A7AtsDudcA06K9JeDlBVP0zyxCbQAji3qu4D7ktycfPcwmHeZzLwpSRbA0Vn++VKFw4VgiWZA8wBmPzYjYYZXpIkSZIkSWOpJ0FYkifQWbW1Y7PFcS2gkryr6bK8q/uKlXUl2QE4BtinqlYkeRTwh6qazshuBI4GvpbkeVX14xH6Dzw/bKTzxI4DLq6qA5NMBS7punfPkJNUzaWzqo3Npmw1qjPLJEmSJEmStPp6dUbYTODLVbVlVU2tqi2Am4C9h3ogyeOAM+ic73UnQFX9EbgpySuaPkkybagxquoq4F+Abyd5EnA5cEjz7L7A75oxAV6SZN0kTwT2Ba4bMNyfgA27Pk8GbmmuZw//+pIkSZIkSeq3XgVhBwHfGND2dYb/9ciXAFsCJ688NL9pPwR4bZJFwI+bfkOqqm/ROej+fDpnhO2aZDHwEeCwrq6LgYuBa4DjqurWAUNdDGy38rB84Hjgw0kW0NstppIkSZIkSVoNqXJ3XpJjgGVV9bFezrvZlK3qTYd/tJdTSpIkSeryvg/O7HcJkqQxlmR+Vc0Y7F6vVoRJkiRJkiRJfeWWPqCqjul3DZIkSZIkSRpfrgiTJEmSJElSKxiESZIkSZIkqRUMwiRJkiRJktQKBmGSJEmSJElqBQ/L76Mpmz3en2uWJEmSJEnqEVeESZIkSZIkqRUMwiRJkiRJktQKBmGSJEmSJElqBYMwSZIkSZIktYJBmCRJkiRJklrBX43so9tv+RWf+Lc39LsMSZIkqbXe/uHP97sESVIPuSJMkiRJkiRJrWAQJkmSJEmSpFYwCJMkSZIkSVIrGIRJkiRJkiSpFQzCJEmS9P/au/dou8ry3uPfX4kYbgYFZIAgUaEwALmEQBEJBm9FRRHlFIGKoR450Fbl5qVVEdQqCkKlKIhKgwWxBeEYgQFVEMSDXBICSUDQykUQ5DKUSAKE23P+WHPLcrt32PcVMr+fMdZYc77vnM981h7OMcnj+75TkiSpFSyESZIkSZIkqRXGtRCWZMkozp2dZJ8xyGFqkseS3Nj1OXC0+TXnz0pyymhzlCRJkiRJ0vib1OsEAJJMqqqnxvESv6qq7cYyYJIV4m8nSZIkSZKkoRn3qZHpOD7JoiQLk+zbtM9MclWSOcAtzXGnJLktyY+Al3bFODrJ9U2M05Okab8iyReTXJfkF0lmjCC/k5LcnOSyJOs1ba9KckmSeU2OWzTts5OcluRa4Ev94qyX5HtNntcnee2I/2iSJEmSJEkacxOxRti7gO2AbYE3Ascn2aDpmwZ8uKr+Etgb2BzYEjgQ2KUrxilVtWNVbQ2sBuzZ1TepqnYCDgM+PUgOr+o3NbKvYLYGMLeqtgKu7Dr/dOCDVbUDcBTwta5YGwG7VNUR/a7xFeCkqtoReDfwzYESSXJwkrlJ5i599PFB0pUkSZIkSdJYm4jpfbsC51TV08D9Sa4EdgT+AFxXVXc0x+3Wddy9SS7virF7ko8CqwMvAW4GftD0nd98zwOmDpLDYFMjnwH+s9k+Czg/yZp0inDnNgPPAF7Ydc65TY79vRHYsuucFyVZs6r+ZB2yqjqdTqGNjTdYrwbJV5IkSZIkSWOs1+tcLX2uA5JMpjMia3pV3Z3kGGBy1yHLmu+nGf3vKTqj5B5ezppig+X8F8DOVeUwL0mSJEmSpBXQREyNvArYN8kqzRpcuwHXDXDcT7qO2wDYvWnvK3o91IzWGvWbJLv8RVe8/YGfVtUfgDuS/C/44xpn2w4h1n8DH+zbSTKmi/NLkiRJkiRpdMatENa8VXEZcAGwALgJuBz4aFX9doBTLgB+CdwCfBv4GUBVPQx8A1gEXApcP4J0+q8R9qGmfSmwU5JFwOuBzzTtBwDvT3ITnWmYew3hGh8CpidZkOQW4JAR5ClJkiRJkqRxkqrxWaaqGUX1jWYhew1g4w3Wq8NnvavXaUiSJEmtdcQXvt7rFCRJYyzJvKqaPlDfuIwIS3IIcA7wyfGIL0mSJEmSJA3XuCyWX1WnAaeNR2xJkiRJkiRpJCZisXxJkiRJkiSp5yyESZIkSZIkqRUshEmSJEmSJKkVxmWNMA3N+i/bxLfUSJIkSZIkTRBHhEmSJEmSJKkVLIRJkiRJkiSpFSyESZIkSZIkqRUshEmSJEmSJKkVLIRJkiRJkiSpFXxrZA899uAj3PS1K3qdhiRJktRa2/79zF6nIEmaQI4IkyRJkiRJUitYCJMkSZIkSVIrWAiTJEmSJElSK1gIkyRJkiRJUitYCJMkSZIkSVIrWAiTJEmSJElSK4yoEJakkpzVtT8pyYNJLhxmnA2TnDeSHAaJd0SSW5MsTHJTkhOTvOA5zrkzybqjuOY7kny82Z6dZJ+RxpIkSZIkSdL4mTTC85YCWydZraoeA94E/GY4AZJMqqp7gTEpHCU5BHgzsHNVPZxkVeAIYDXgybG4xgDXnFRVc4A54xFfkiRJkiRJY2c0UyMvBt7WbO8HnNPXkWSnJD9LMj/J1Uk2b9pnJZmT5HLgsiRTkyxq+qYmuSrJDc1nl6Z9ZpIrkpzXjPY6O0kGyOcTwKFV9TBAVT1RVcdV1R+aOKcmmZvk5iTH9jv3o80osuuSbNqVz+VJFiS5LMnLm/bZSU5Lci3wpeY3ndI/mSSfbY5dZaR/YEmSJEmSJI2d0RTCvgu8J8lkYBvg2q6+W4EZVbU9cDTw+a6+acA+VfW6fvEeAN5UVdOAfYGTu/q2Bw4DtgReCby2+8QkLwLWrKo7lpPvJ6pqepPr65Js09W3uKpeDZwC/GvT9m/AmVW1DXB2v3w2AnapqiMGulCS44H1gIOq6unl5CRJkiRJkqQJMuJCWFUtAKbSGQ12cb/uKcC5zWivk4Ctuvp+WFW/GyDkC4BvJFkInEun6NXnuqq6p6qeAW5srjuoJH+d5MZm/a9dmua/SXIDML/Jpzv+OV3fr2m2XwN8p9n+D2DXruPPXU6B61PAlKo6pKpqgNwObkamzf39ksXL+xmSJEmSJEkaQ6N9a+Qc4AS6pkU2Pgv8uKq2Bt4OTO7qWzpIrMOB+4FtgenAql19y7q2n6bf2mbN9MclSV7R7F9aVdsBi4BVm/ajgDc0I7wu6pdTDbI9mMF+A8D1wA5JXjJQZ1WdXlXTq2r6i9ecMoRLSZIkSZIkaSyMthB2BnBsVS3s1z6FZxfPnzXEWFOA+5pRX+8Fhru21heAU5OsDdCsI9ZX7HoRneLV4iTrA2/pd+6+Xd8/a7avBt7TbB8AXDXEPC4BjgMuSrLWMH+DJEmSJEmSxslI3xoJQFXdw5+undXnS8CZST5JZ/TVUHwN+F6SA+kUk5Y36mogpwJrANcmWQYsAf4fML+qFieZT2ftsrub9m4vTrKAzsiz/Zq2DwL/nuQjwIPAQUNNpKrObYpgc5K8tXmzpiRJkiRJknooAyxjpQmy1Sab13c+9vVepyFJkiS11rZ/P7PXKUiSxliSec0LE//MaKdGSpIkSZIkSc8LFsIkSZIkSZLUChbCJEmSJEmS1AoWwiRJkiRJktQKFsIkSZIkSZLUChbCJEmSJEmS1AqTep1Am6223lq+rlmSJEmSJGmCOCJMkiRJkiRJrWAhTJIkSZIkSa1gIUySJEmSJEmtYCFMkiRJkiRJreBi+T10//338+Uvf7nXaUiSJEnPK0ceeWSvU5AkPU85IkySJEmSJEmtYCFMkiRJkiRJrWAhTJIkSZIkSa1gIUySJEmSJEmtYCFMkiRJkiRJrWAhTJIkSZIkSa0w7EJYkkpyVtf+pCQPJrlwmHGmJtm/a396kpOHGePvkixMsiDJoiR7Ne2zkmw4hPNnJTllONccJM5nkrxxtHEkSZIkSZI0fiaN4JylwNZJVquqx4A3Ab8ZToAkk4CpwP7AdwCqai4wdxgxNgI+AUyrqsVJ1gTWa7pnAYuAe4eT10hV1dETcR1JkiRJkiSN3EinRl4MvK3Z3g84p68jyU5JfpZkfpKrk2zetM9KMifJ5cBlwHHAjCQ3Jjk8ycy+UWVJjklyRpIrktye5EMD5PBS4BFgCUBVLamqO5LsA0wHzm5irzbcH5fkiGaE2aIkhzVtU5Ms6jrmqCTHNNuzm+uS5LgktzSj1E4Y7rUlSZIkSZI0PkYyIgzgu8DRTeFqG+AMYEbTdyswo6qeaqYLfh54d9M3Ddimqn6XZCZwVFXtCdDsd9sC2B1YC7gtyalV9WRX/03A/cAdSS4Dzq+qH1TVeUn+sYk95BFmfZLsABwE/BUQ4NokVwK/H8K56wB7A1tUVSVZe7jXlyRJkiRJ0vgY0YiwqlpAZ2rjfnRGh3WbApzbjJ46Cdiqq++HVfW7IV7moqpaVlUPAQ8A6/fL4WlgD2Af4BfASX0jtEZpV+CCqlpaVUuA83m2yPdcFgOPA99K8i7g0f4HJDk4ydwkc5cuXToG6UqSJEmSJGkoRvPWyDnACXRNi2x8FvhxVW0NvB2Y3NU3nMrPsq7tpxlg9Fp1XFdVXwDew7Mjz8bDU/zp32ty/wOq6ilgJ+A8YE/gkgGOOb2qplfV9DXWWGO8cpUkSZIkSVI/oymEnQEcW1UL+7VP4dnF82ct5/xH6GgV/uAAABCjSURBVEx7HJEkGyaZ1tW0HXDXGMS+CnhnktWTrEFnquNVdKZhvjTJOkleSKfQ1T+nNYEpVXUxcDiw7QhzkCRJkiRJ0hgb6RphVNU9wMkDdH0JODPJJ4GLlhNiAfB0kpuA2cD8YabwAuCEJBvSmY74IHBI0zcbOC3JY8BrgH8C5lbVnAHizEryzq79nZvzr2v2v1lV8wGSfKZp/w2dtdD6Wwv4fpLJdNYXO2KYv0mSJEmSJEnjJFXV6xxaa+ONN67DDjus12lIkiRJzytHHnlkr1OQJK3AksyrqukD9Y1maqQkSZIkSZL0vGEhTJIkSZIkSa1gIUySJEmSJEmtYCFMkiRJkiRJrWAhTJIkSZIkSa1gIUySJEmSJEmtMKnXCbTZ+uuv76ufJUmSJEmSJogjwiRJkiRJktQKFsIkSZIkSZLUChbCJEmSJEmS1AoWwiRJkiRJktQKLpbfQ0sW38tPLjym12lIkiRJK4Td9jym1ylIklZyjgiTJEmSJElSK1gIkyRJkiRJUitYCJMkSZIkSVIrWAiTJEmSJElSK1gIkyRJkiRJUitYCJMkSZIkSVIrDKkQlmTJeCfS73ozkyxOcmOSnyf59BjFvXoU516cZO1me0nzPTXJorHITZIkSZIkSeNrRR4RdlVVbQdMB/42ybTRBqyqXUZx7lur6uHR5iBJkiRJkqTeGHIhLMmaSS5LckOShUn2atrXSHJRkpuSLEqyb9P+hiTzm2PPSPLCpv3OJMd2xdliedetqqXAPGDTJNsluSbJgiQXJHlxE/OKJCclmduMINsxyflJfpnkc12/oW8k18zmnPOS3Jrk7HTskeTcruNnJrmwK+91l/P3WSXJ8Umub/L7P0P920qSJEmSJGn8DWdE2OPA3lU1Ddgd+HKSAHsA91bVtlW1NXBJksnAbGDfqno1MAk4tCvWQ02cU4GjlnfRJOsAOwM3A98GPlZV2wALge4pk09U1XTgNOD7wD8AWwOzmhj9bQ8cBmwJvBJ4LfAj4K+SrNEcsy/w3ef8y3S8H1hcVTsCOwIfSPKKIZ4rSZIkSZKkcTacQliAzydZQKdg9DJgfToFqTcl+WKSGVW1GNgcuKOqftGceyawW1es85vvecDUQa43I8l84L+B44B7gLWr6spBYs5pvhcCN1fVfVW1DLgd2HiA+NdV1T1V9QxwIzC1qp4CLgHenmQS8DY6RbWheDNwYJIbgWuBdYDN+h+U5OBm5Nrchxc/OsTQkiRJkiRJGq1Jwzj2AGA9YIeqejLJncDkqvpFs37XW4HPJbmM5y4eLWu+n15ODldV1Z59O0mmDDHmM13bffsDXaP7mO48vgv8I/A7YG5VPfIc1/1jisAHq+rS5R1UVacDpwNssdmGNcTYkiRJkiRJGqXhjAibAjzQFMF2BzYBSLIh8GhVnQUcD0wDbgOmJtm0Ofe9wJUDxByyZqTZ75PMGKuYg7iSzm/4AEOfFglwKXBokhcAJPnLrimWkiRJkiRJ6rHnHBHWTBFcBpwN/CDJQmAucGtzyKuB45M8AzwJHFpVjyc5CDi3Of96Omt3jdb7gNOSrE5nyuNBYxDzT1TV080C+bOa6w3VN+lM87yhWTvtQeCdY52fJEmSJEmSRiZVy5+dl2Rb4BtVtdPEpNQeW2y2YZ1+0sG9TkOSJElaIey25zG9TkGStBJIMq95oeKfWe7UyCSHAOcAnxyPxCRJkiRJkqSJstypkVV1GmMzpVGSJEmSJEnqqeEsli9JkiRJkiQ9b1kIkyRJkiRJUitYCJMkSZIkSVIrWAiTJEmSJElSKyx3sXyNrzWnbOgroiVJkiRJkiaII8IkSZIkSZLUChbCJEmSJEmS1AoWwiRJkiRJktQKFsIkSZIkSZLUCi6W30N3P/wIR1xwZa/TkCRJkkbkxL1f1+sUJEkaFkeESZIkSZIkqRUshEmSJEmSJKkVLIRJkiRJkiSpFSyESZIkSZIkqRUshEmSJEmSJKkVLIRJkiRJkiSpFca1EJZkyRjEmJ7k5AHaZyZZnOTGrs8bB4lxcZK1k0xNsmi0OUmSJEmSJOn5Z1KvE3guVTUXmDtI91VVtedg5yYJkKp6a7O/9jikKEmSJEmSpOeBCZ8amWS7JNckWZDkgiQvbtqvSDK92V43yZ3N9swkFw4j/tQktyX5NrAI2DjJnUnW7XfcK5PMT7Jjkq2SXNeMKluQZLMkayS5KMlNSRYl2bc57w3NeQuTnJHkhU37nUmOTXJD07fFmPzBJEmSJEmSNCZ6sUbYt4GPVdU2wELg06OINaPf1MhXNe2bAV+rqq2q6q7+JyXZHPgeMKuqrgcOAb5SVdsB04F7gD2Ae6tq26raGrgkyWRgNrBvVb2azoi6Q7tCP1RV04BTgaNG8bskSZIkSZI0xia0EJZkCrB2VV3ZNJ0J7DaKkFdV1XZdn1817XdV1TWDnLMe8H3ggKq6qWn7GfDPST4GbFJVj9Ep0r0pyReTzKiqxcDmwB1V9YtB8j+/+Z4HTB3o4kkOTjI3ydzH/rB4BD9ZkiRJkiRJI7EivTXyKZ7NZ/IoYy1dTt9i4NfArn0NVfUd4B3AY8DFSV7fFLum0SmIfS7J0UO47rLm+2kGWX+tqk6vqulVNX21F00ZQkhJkiRJkiSNhQkthDWjqn6fZEbT9F6gb3TYncAOzfY+45jGE8DewIFJ9ofOemHA7VV1Mp3RYtsk2RB4tKrOAo6nUxS7DZiaZNMB8pckSZIkSdIKbLzfGrl6knu69k8E3geclmR14HbgoKbvBOC/khwMXDTE+DOS3Ni1/zkGf8PkH1XV0iR7Aj9MsgTYEnhvkieB3wKfB3YEjk/yDPAkcGhVPZ7kIODcJJOA64HThpirJEmSJEmSeihV1escWmv9TTevA44/vddpSJIkSSNy4t6v63UKkiT9mSTzqmr6QH0r0hphkiRJkiRJ0rixECZJkiRJkqRWsBAmSZIkSZKkVrAQJkmSJEmSpFawECZJkiRJkqRWsBAmSZIkSZKkVpjU6wTabOO11/KV05IkSZIkSRPEEWGSJEmSJElqBQthkiRJkiRJaoVUVa9zaK0kjwC39ToPaQWwLvBQr5OQVgDeC1KH94LU4b0gdXgvaLg2qar1BupwjbDeuq2qpvc6CanXksz1XpC8F6Q+3gtSh/eC1OG9oLHk1EhJkiRJkiS1goUwSZIkSZIktYKFsN46vdcJSCsI7wWpw3tB6vBekDq8F6QO7wWNGRfLlyRJkiRJUis4IkySJEmSJEmtYCGsR5LskeS2JP+T5OO9zkeaKEk2TvLjJLckuTnJh5v2lyT5YZJfNt8v7nWu0nhLskqS+UkubPZfkeTa5tnwn0lW7XWO0kRIsnaS85LcmuTnSV7jc0FtlOTw5r+PFiU5J8lknw1qgyRnJHkgyaKutgGfA+k4ubknFiSZ1rvM9XxkIawHkqwCfBV4C7AlsF+SLXublTRhngKOrKotgZ2Bf2j+9/9x4LKq2gy4rNmXVnYfBn7etf9F4KSq2hT4PfD+nmQlTbyvAJdU1RbAtnTuC58LapUkLwM+BEyvqq2BVYD34LNB7TAb2KNf22DPgbcAmzWfg4FTJyhHrSQshPXGTsD/VNXtVfUE8F1grx7nJE2Iqrqvqm5oth+h84+dl9G5B85sDjsTeGdvMpQmRpKNgLcB32z2A7weOK85xPtArZBkCrAb8C2Aqnqiqh7G54LaaRKwWpJJwOrAffhsUAtU1U+A3/VrHuw5sBfw7eq4Blg7yQYTk6lWBhbCeuNlwN1d+/c0bVKrJJkKbA9cC6xfVfc1Xb8F1u9RWtJE+Vfgo8Azzf46wMNV9VSz77NBbfEK4EHg35upwt9MsgY+F9QyVfUb4ATg13QKYIuBefhsUHsN9hzw39MaFQthknoiyZrA94DDquoP3X3VeZ2tr7TVSivJnsADVTWv17lIK4BJwDTg1KraHlhKv2mQPhfUBs36R3vRKQ5vCKzBn08Vk1rJ54DGkoWw3vgNsHHX/kZNm9QKSV5Apwh2dlWd3zTf3zekufl+oFf5SRPgtcA7ktxJZ3r86+mskbR2Mx0GfDaoPe4B7qmqa5v98+gUxnwuqG3eCNxRVQ9W1ZPA+XSeFz4b1FaDPQf897RGxUJYb1wPbNa8AWZVOotgzulxTtKEaNZB+hbw86o6satrDvC+Zvt9wPcnOjdpolTVP1XVRlU1lc4z4PKqOgD4MbBPc5j3gVqhqn4L3J1k86bpDcAt+FxQ+/wa2DnJ6s1/L/XdCz4b1FaDPQfmAAc2b4/cGVjcNYVSek7pjDDUREvyVjrrw6wCnFFV/9LjlKQJkWRX4CpgIc+ujfTPdNYJ+y/g5cBdwN9UVf8FM6WVTpKZwFFVtWeSV9IZIfYSYD7wt1W1rJf5SRMhyXZ0XhyxKnA7cBCd/8PW54JaJcmxwL503rI9H/jfdNY+8tmglVqSc4CZwLrA/cCngf/LAM+BplB8Cp2pw48CB1XV3F7krecnC2GSJEmSJElqBadGSpIkSZIkqRUshEmSJEmSJKkVLIRJkiRJkiSpFSyESZIkSZIkqRUshEmSJEmSJKkVLIRJkiTpzyS5Isl5Izjvo0lmjkNKkiRJo5aq6nUOkiRJWsEk2RJ4sqp+OczzHgJOqapjxiUxSZKkUZjU6wQkSZK04qmqW3qdgyRJ0lhzaqQkSdJKJMnsJHOTvDPJrUkeT/LTZoRX3zGrJzk5yW+b/uuTvLlfnD+ZGpnkmCQPJdk+yTVJHk0yP8mMrmPuBNYBPp2kms/Mpu/9SW5J8lgT58okW43330OSJKmbhTBJkqSVzybAicBngf2BKcClSSY3/d8ADgL+BdgbuBu4KMmuzxF3deBM4OvAu4FlwPlJVm/69wYWA98CXtN8bkiyG3Aa8B/AW4C/A65u8pIkSZowTo2UJEla+awL7FVVVwMkmQf8CpiV5EpgP+Cgqjqz6b8UWAB8Cvjr5cRdDTisqi5vzrsPmA/sBlxSVfOTPAXcU1XX9J2UZCdgQVV9oSvWnLH5qZIkSUPniDBJkqSVzwN9RTCAqroLmAfsBOwIBDi3q/+ZZv+5RoQ9AVzRtd+3jthGz3HejcD2SU5KsluSVYfyIyRJksaahTBJkqSVzwODtG3QfJZU1aP9+u8HVk/ywuXEfaQpmgFQVU80m5MHOb7vuB/RmYq5G51C2kNJvppkjeX+CkmSpDFmIUySJGnl89JB2u5rPmt2revVZ33g0apaNh4JVdWZVbVDc52P0CmMfWo8riVJkjQYC2GSJEkrn5cm2aVvJ8nLgWnAdcD1QAH7dPWn2f/pGFz7CZYzQqyqHqyqrwNXAVsOdpwkSdJ4cLF8SZKklc9DwFlJPgk8BhxLZ2rk7Kp6PMk5wClJ1qKziP4HgC2AQ8fg2rcCb0tyCbAEuA04CngJzbRIYHvgdcDHx+B6kiRJQ2YhTJIkaeVzF/B54DhgE2AusH9VPd70fwD4InA0sDawENizqsZiRNhHgK8CFwGrA7vTGYV2OPAeYK0mv2OAr4zB9SRJkoYsVdXrHCRJkjRGkswGtq6q6b3ORZIkaUXjGmGSJEmSJElqBQthkiRJkiRJagWnRkqSJEmSJKkVHBEmSZIkSZKkVrAQJkmSJEmSpFawECZJkiRJkqRWsBAmSZIkSZKkVrAQJkmSJEmSpFawECZJkiRJkqRW+P8XleCNPTZWUAAAAABJRU5ErkJggg==\n",
                "text/plain": "<Figure size 1440x720 with 1 Axes>"
              }
            ],
            "_view_module": "@jupyter-widgets/output",
            "_model_module_version": "1.0.0",
            "_view_count": null,
            "_view_module_version": "1.0.0",
            "layout": "IPY_MODEL_ef205a9818b24c6083ed1ed162af1bd3",
            "_model_module": "@jupyter-widgets/output"
          }
        },
        "1848746b17ab461aaae71428848a4677": {
          "model_module": "@jupyter-widgets/controls",
          "model_name": "DescriptionStyleModel",
          "state": {
            "_view_name": "StyleView",
            "_model_name": "DescriptionStyleModel",
            "description_width": "",
            "_view_module": "@jupyter-widgets/base",
            "_model_module_version": "1.5.0",
            "_view_count": null,
            "_view_module_version": "1.2.0",
            "_model_module": "@jupyter-widgets/controls"
          }
        },
        "dacb729b917849dbbc4ab08b36a068cc": {
          "model_module": "@jupyter-widgets/base",
          "model_name": "LayoutModel",
          "state": {
            "_view_name": "LayoutView",
            "grid_template_rows": null,
            "right": null,
            "justify_content": null,
            "_view_module": "@jupyter-widgets/base",
            "overflow": null,
            "_model_module_version": "1.2.0",
            "_view_count": null,
            "flex_flow": null,
            "width": null,
            "min_width": null,
            "border": null,
            "align_items": null,
            "bottom": null,
            "_model_module": "@jupyter-widgets/base",
            "top": null,
            "grid_column": null,
            "overflow_y": null,
            "overflow_x": null,
            "grid_auto_flow": null,
            "grid_area": null,
            "grid_template_columns": null,
            "flex": null,
            "_model_name": "LayoutModel",
            "justify_items": null,
            "grid_row": null,
            "max_height": null,
            "align_content": null,
            "visibility": null,
            "align_self": null,
            "height": null,
            "min_height": null,
            "padding": null,
            "grid_auto_rows": null,
            "grid_gap": null,
            "max_width": null,
            "order": null,
            "_view_module_version": "1.2.0",
            "grid_template_areas": null,
            "object_position": null,
            "object_fit": null,
            "grid_auto_columns": null,
            "margin": null,
            "display": null,
            "left": null
          }
        },
        "433b55827c094995b844fa407f11cf50": {
          "model_module": "@jupyter-widgets/controls",
          "model_name": "DescriptionStyleModel",
          "state": {
            "_view_name": "StyleView",
            "_model_name": "DescriptionStyleModel",
            "description_width": "",
            "_view_module": "@jupyter-widgets/base",
            "_model_module_version": "1.5.0",
            "_view_count": null,
            "_view_module_version": "1.2.0",
            "_model_module": "@jupyter-widgets/controls"
          }
        },
        "d8a5871fb9d44059adc095978e43f24b": {
          "model_module": "@jupyter-widgets/base",
          "model_name": "LayoutModel",
          "state": {
            "_view_name": "LayoutView",
            "grid_template_rows": null,
            "right": null,
            "justify_content": null,
            "_view_module": "@jupyter-widgets/base",
            "overflow": null,
            "_model_module_version": "1.2.0",
            "_view_count": null,
            "flex_flow": null,
            "width": null,
            "min_width": null,
            "border": null,
            "align_items": null,
            "bottom": null,
            "_model_module": "@jupyter-widgets/base",
            "top": null,
            "grid_column": null,
            "overflow_y": null,
            "overflow_x": null,
            "grid_auto_flow": null,
            "grid_area": null,
            "grid_template_columns": null,
            "flex": null,
            "_model_name": "LayoutModel",
            "justify_items": null,
            "grid_row": null,
            "max_height": null,
            "align_content": null,
            "visibility": null,
            "align_self": null,
            "height": null,
            "min_height": null,
            "padding": null,
            "grid_auto_rows": null,
            "grid_gap": null,
            "max_width": null,
            "order": null,
            "_view_module_version": "1.2.0",
            "grid_template_areas": null,
            "object_position": null,
            "object_fit": null,
            "grid_auto_columns": null,
            "margin": null,
            "display": null,
            "left": null
          }
        },
        "dbbdf59990be4ceaad98c340120ea6f8": {
          "model_module": "@jupyter-widgets/controls",
          "model_name": "DescriptionStyleModel",
          "state": {
            "_view_name": "StyleView",
            "_model_name": "DescriptionStyleModel",
            "description_width": "",
            "_view_module": "@jupyter-widgets/base",
            "_model_module_version": "1.5.0",
            "_view_count": null,
            "_view_module_version": "1.2.0",
            "_model_module": "@jupyter-widgets/controls"
          }
        },
        "8fb764319b40492a9e4cf7e95550042c": {
          "model_module": "@jupyter-widgets/base",
          "model_name": "LayoutModel",
          "state": {
            "_view_name": "LayoutView",
            "grid_template_rows": null,
            "right": null,
            "justify_content": null,
            "_view_module": "@jupyter-widgets/base",
            "overflow": null,
            "_model_module_version": "1.2.0",
            "_view_count": null,
            "flex_flow": null,
            "width": null,
            "min_width": null,
            "border": null,
            "align_items": null,
            "bottom": null,
            "_model_module": "@jupyter-widgets/base",
            "top": null,
            "grid_column": null,
            "overflow_y": null,
            "overflow_x": null,
            "grid_auto_flow": null,
            "grid_area": null,
            "grid_template_columns": null,
            "flex": null,
            "_model_name": "LayoutModel",
            "justify_items": null,
            "grid_row": null,
            "max_height": null,
            "align_content": null,
            "visibility": null,
            "align_self": null,
            "height": null,
            "min_height": null,
            "padding": null,
            "grid_auto_rows": null,
            "grid_gap": null,
            "max_width": null,
            "order": null,
            "_view_module_version": "1.2.0",
            "grid_template_areas": null,
            "object_position": null,
            "object_fit": null,
            "grid_auto_columns": null,
            "margin": null,
            "display": null,
            "left": null
          }
        },
        "f74c1d57855c486aa0e0698694daeed1": {
          "model_module": "@jupyter-widgets/controls",
          "model_name": "SliderStyleModel",
          "state": {
            "_view_name": "StyleView",
            "handle_color": null,
            "_model_name": "SliderStyleModel",
            "description_width": "",
            "_view_module": "@jupyter-widgets/base",
            "_model_module_version": "1.5.0",
            "_view_count": null,
            "_view_module_version": "1.2.0",
            "_model_module": "@jupyter-widgets/controls"
          }
        },
        "5f14db12a731455b8f58324e1e36d891": {
          "model_module": "@jupyter-widgets/base",
          "model_name": "LayoutModel",
          "state": {
            "_view_name": "LayoutView",
            "grid_template_rows": null,
            "right": null,
            "justify_content": null,
            "_view_module": "@jupyter-widgets/base",
            "overflow": null,
            "_model_module_version": "1.2.0",
            "_view_count": null,
            "flex_flow": null,
            "width": null,
            "min_width": null,
            "border": null,
            "align_items": null,
            "bottom": null,
            "_model_module": "@jupyter-widgets/base",
            "top": null,
            "grid_column": null,
            "overflow_y": null,
            "overflow_x": null,
            "grid_auto_flow": null,
            "grid_area": null,
            "grid_template_columns": null,
            "flex": null,
            "_model_name": "LayoutModel",
            "justify_items": null,
            "grid_row": null,
            "max_height": null,
            "align_content": null,
            "visibility": null,
            "align_self": null,
            "height": null,
            "min_height": null,
            "padding": null,
            "grid_auto_rows": null,
            "grid_gap": null,
            "max_width": null,
            "order": null,
            "_view_module_version": "1.2.0",
            "grid_template_areas": null,
            "object_position": null,
            "object_fit": null,
            "grid_auto_columns": null,
            "margin": null,
            "display": null,
            "left": null
          }
        },
        "ef205a9818b24c6083ed1ed162af1bd3": {
          "model_module": "@jupyter-widgets/base",
          "model_name": "LayoutModel",
          "state": {
            "_view_name": "LayoutView",
            "grid_template_rows": null,
            "right": null,
            "justify_content": null,
            "_view_module": "@jupyter-widgets/base",
            "overflow": null,
            "_model_module_version": "1.2.0",
            "_view_count": null,
            "flex_flow": null,
            "width": null,
            "min_width": null,
            "border": null,
            "align_items": null,
            "bottom": null,
            "_model_module": "@jupyter-widgets/base",
            "top": null,
            "grid_column": null,
            "overflow_y": null,
            "overflow_x": null,
            "grid_auto_flow": null,
            "grid_area": null,
            "grid_template_columns": null,
            "flex": null,
            "_model_name": "LayoutModel",
            "justify_items": null,
            "grid_row": null,
            "max_height": null,
            "align_content": null,
            "visibility": null,
            "align_self": null,
            "height": null,
            "min_height": null,
            "padding": null,
            "grid_auto_rows": null,
            "grid_gap": null,
            "max_width": null,
            "order": null,
            "_view_module_version": "1.2.0",
            "grid_template_areas": null,
            "object_position": null,
            "object_fit": null,
            "grid_auto_columns": null,
            "margin": null,
            "display": null,
            "left": null
          }
        },
        "8e26ef9555364e59ad45fa06c3470ae6": {
          "model_module": "@jupyter-widgets/controls",
          "model_name": "VBoxModel",
          "state": {
            "_view_name": "VBoxView",
            "_dom_classes": [
              "widget-interact"
            ],
            "_model_name": "VBoxModel",
            "_view_module": "@jupyter-widgets/controls",
            "_model_module_version": "1.5.0",
            "_view_count": null,
            "_view_module_version": "1.5.0",
            "box_style": "",
            "layout": "IPY_MODEL_b1c7dc9aebc94a63b52ef92e0a5b1969",
            "_model_module": "@jupyter-widgets/controls",
            "children": [
              "IPY_MODEL_ba08301950a142e5acfba0c498ddf6be",
              "IPY_MODEL_e4f7ff49d00343c78e199df431449201",
              "IPY_MODEL_cbf79ea59bfa41eaaf6642aa65296730"
            ]
          }
        },
        "b1c7dc9aebc94a63b52ef92e0a5b1969": {
          "model_module": "@jupyter-widgets/base",
          "model_name": "LayoutModel",
          "state": {
            "_view_name": "LayoutView",
            "grid_template_rows": null,
            "right": null,
            "justify_content": null,
            "_view_module": "@jupyter-widgets/base",
            "overflow": null,
            "_model_module_version": "1.2.0",
            "_view_count": null,
            "flex_flow": null,
            "width": null,
            "min_width": null,
            "border": null,
            "align_items": null,
            "bottom": null,
            "_model_module": "@jupyter-widgets/base",
            "top": null,
            "grid_column": null,
            "overflow_y": null,
            "overflow_x": null,
            "grid_auto_flow": null,
            "grid_area": null,
            "grid_template_columns": null,
            "flex": null,
            "_model_name": "LayoutModel",
            "justify_items": null,
            "grid_row": null,
            "max_height": null,
            "align_content": null,
            "visibility": null,
            "align_self": null,
            "height": null,
            "min_height": null,
            "padding": null,
            "grid_auto_rows": null,
            "grid_gap": null,
            "max_width": null,
            "order": null,
            "_view_module_version": "1.2.0",
            "grid_template_areas": null,
            "object_position": null,
            "object_fit": null,
            "grid_auto_columns": null,
            "margin": null,
            "display": null,
            "left": null
          }
        },
        "ba08301950a142e5acfba0c498ddf6be": {
          "model_module": "@jupyter-widgets/controls",
          "model_name": "DropdownModel",
          "state": {
            "_options_labels": [
              "20112012",
              "20122013",
              "20132014",
              "20142015",
              "20152016",
              "20162017",
              "20172018",
              "20182019"
            ],
            "_view_name": "DropdownView",
            "style": "IPY_MODEL_f227b1ebce7a42d79cbc4bf921d7f203",
            "_dom_classes": [],
            "description": "given_season",
            "_model_name": "DropdownModel",
            "index": 7,
            "_view_module": "@jupyter-widgets/controls",
            "_model_module_version": "1.5.0",
            "_view_count": null,
            "disabled": false,
            "_view_module_version": "1.5.0",
            "description_tooltip": null,
            "_model_module": "@jupyter-widgets/controls",
            "layout": "IPY_MODEL_45d83851821f40a1a4f95448ba31eb99"
          }
        },
        "e4f7ff49d00343c78e199df431449201": {
          "model_module": "@jupyter-widgets/controls",
          "model_name": "DropdownModel",
          "state": {
            "_options_labels": [
              "skaters",
              "goalies"
            ],
            "_view_name": "DropdownView",
            "style": "IPY_MODEL_be847472bf3f4bc7b5dcd81eac840c92",
            "_dom_classes": [],
            "description": "player_type",
            "_model_name": "DropdownModel",
            "index": 1,
            "_view_module": "@jupyter-widgets/controls",
            "_model_module_version": "1.5.0",
            "_view_count": null,
            "disabled": false,
            "_view_module_version": "1.5.0",
            "description_tooltip": null,
            "_model_module": "@jupyter-widgets/controls",
            "layout": "IPY_MODEL_214301ab603c434da45da95007247d43"
          }
        },
        "cbf79ea59bfa41eaaf6642aa65296730": {
          "model_module": "@jupyter-widgets/output",
          "model_name": "OutputModel",
          "state": {
            "_view_name": "OutputView",
            "msg_id": "",
            "_dom_classes": [],
            "_model_name": "OutputModel",
            "outputs": [
              {
                "output_type": "display_data",
                "metadata": {
                  "tags": [],
                  "needs_background": "light"
                },
                "image/png": "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\n",
                "text/plain": "<Figure size 1440x1800 with 1 Axes>"
              }
            ],
            "_view_module": "@jupyter-widgets/output",
            "_model_module_version": "1.0.0",
            "_view_count": null,
            "_view_module_version": "1.0.0",
            "layout": "IPY_MODEL_9d3cde4697b543d982d24a3c256e058e",
            "_model_module": "@jupyter-widgets/output"
          }
        },
        "f227b1ebce7a42d79cbc4bf921d7f203": {
          "model_module": "@jupyter-widgets/controls",
          "model_name": "DescriptionStyleModel",
          "state": {
            "_view_name": "StyleView",
            "_model_name": "DescriptionStyleModel",
            "description_width": "",
            "_view_module": "@jupyter-widgets/base",
            "_model_module_version": "1.5.0",
            "_view_count": null,
            "_view_module_version": "1.2.0",
            "_model_module": "@jupyter-widgets/controls"
          }
        },
        "45d83851821f40a1a4f95448ba31eb99": {
          "model_module": "@jupyter-widgets/base",
          "model_name": "LayoutModel",
          "state": {
            "_view_name": "LayoutView",
            "grid_template_rows": null,
            "right": null,
            "justify_content": null,
            "_view_module": "@jupyter-widgets/base",
            "overflow": null,
            "_model_module_version": "1.2.0",
            "_view_count": null,
            "flex_flow": null,
            "width": null,
            "min_width": null,
            "border": null,
            "align_items": null,
            "bottom": null,
            "_model_module": "@jupyter-widgets/base",
            "top": null,
            "grid_column": null,
            "overflow_y": null,
            "overflow_x": null,
            "grid_auto_flow": null,
            "grid_area": null,
            "grid_template_columns": null,
            "flex": null,
            "_model_name": "LayoutModel",
            "justify_items": null,
            "grid_row": null,
            "max_height": null,
            "align_content": null,
            "visibility": null,
            "align_self": null,
            "height": null,
            "min_height": null,
            "padding": null,
            "grid_auto_rows": null,
            "grid_gap": null,
            "max_width": null,
            "order": null,
            "_view_module_version": "1.2.0",
            "grid_template_areas": null,
            "object_position": null,
            "object_fit": null,
            "grid_auto_columns": null,
            "margin": null,
            "display": null,
            "left": null
          }
        },
        "be847472bf3f4bc7b5dcd81eac840c92": {
          "model_module": "@jupyter-widgets/controls",
          "model_name": "DescriptionStyleModel",
          "state": {
            "_view_name": "StyleView",
            "_model_name": "DescriptionStyleModel",
            "description_width": "",
            "_view_module": "@jupyter-widgets/base",
            "_model_module_version": "1.5.0",
            "_view_count": null,
            "_view_module_version": "1.2.0",
            "_model_module": "@jupyter-widgets/controls"
          }
        },
        "214301ab603c434da45da95007247d43": {
          "model_module": "@jupyter-widgets/base",
          "model_name": "LayoutModel",
          "state": {
            "_view_name": "LayoutView",
            "grid_template_rows": null,
            "right": null,
            "justify_content": null,
            "_view_module": "@jupyter-widgets/base",
            "overflow": null,
            "_model_module_version": "1.2.0",
            "_view_count": null,
            "flex_flow": null,
            "width": null,
            "min_width": null,
            "border": null,
            "align_items": null,
            "bottom": null,
            "_model_module": "@jupyter-widgets/base",
            "top": null,
            "grid_column": null,
            "overflow_y": null,
            "overflow_x": null,
            "grid_auto_flow": null,
            "grid_area": null,
            "grid_template_columns": null,
            "flex": null,
            "_model_name": "LayoutModel",
            "justify_items": null,
            "grid_row": null,
            "max_height": null,
            "align_content": null,
            "visibility": null,
            "align_self": null,
            "height": null,
            "min_height": null,
            "padding": null,
            "grid_auto_rows": null,
            "grid_gap": null,
            "max_width": null,
            "order": null,
            "_view_module_version": "1.2.0",
            "grid_template_areas": null,
            "object_position": null,
            "object_fit": null,
            "grid_auto_columns": null,
            "margin": null,
            "display": null,
            "left": null
          }
        },
        "9d3cde4697b543d982d24a3c256e058e": {
          "model_module": "@jupyter-widgets/base",
          "model_name": "LayoutModel",
          "state": {
            "_view_name": "LayoutView",
            "grid_template_rows": null,
            "right": null,
            "justify_content": null,
            "_view_module": "@jupyter-widgets/base",
            "overflow": null,
            "_model_module_version": "1.2.0",
            "_view_count": null,
            "flex_flow": null,
            "width": null,
            "min_width": null,
            "border": null,
            "align_items": null,
            "bottom": null,
            "_model_module": "@jupyter-widgets/base",
            "top": null,
            "grid_column": null,
            "overflow_y": null,
            "overflow_x": null,
            "grid_auto_flow": null,
            "grid_area": null,
            "grid_template_columns": null,
            "flex": null,
            "_model_name": "LayoutModel",
            "justify_items": null,
            "grid_row": null,
            "max_height": null,
            "align_content": null,
            "visibility": null,
            "align_self": null,
            "height": null,
            "min_height": null,
            "padding": null,
            "grid_auto_rows": null,
            "grid_gap": null,
            "max_width": null,
            "order": null,
            "_view_module_version": "1.2.0",
            "grid_template_areas": null,
            "object_position": null,
            "object_fit": null,
            "grid_auto_columns": null,
            "margin": null,
            "display": null,
            "left": null
          }
        },
        "e5e5e40b5a434f3393ea4f556eea5c2d": {
          "model_module": "@jupyter-widgets/controls",
          "model_name": "VBoxModel",
          "state": {
            "_view_name": "VBoxView",
            "_dom_classes": [
              "widget-interact"
            ],
            "_model_name": "VBoxModel",
            "_view_module": "@jupyter-widgets/controls",
            "_model_module_version": "1.5.0",
            "_view_count": null,
            "_view_module_version": "1.5.0",
            "box_style": "",
            "layout": "IPY_MODEL_a2d8bf7a8f614aaaae7e86d4606e5033",
            "_model_module": "@jupyter-widgets/controls",
            "children": [
              "IPY_MODEL_b09ae04a2b4c4a8bb0cf64e431bfd50d",
              "IPY_MODEL_7079b543fad6409eaf9655c50b961544",
              "IPY_MODEL_02ccce4479b04805a938432036bb7380",
              "IPY_MODEL_a2a4998a56944a92a409b4407fa2e565",
              "IPY_MODEL_4310143bd7844a89a615e61ff2037860"
            ]
          }
        },
        "a2d8bf7a8f614aaaae7e86d4606e5033": {
          "model_module": "@jupyter-widgets/base",
          "model_name": "LayoutModel",
          "state": {
            "_view_name": "LayoutView",
            "grid_template_rows": null,
            "right": null,
            "justify_content": null,
            "_view_module": "@jupyter-widgets/base",
            "overflow": null,
            "_model_module_version": "1.2.0",
            "_view_count": null,
            "flex_flow": null,
            "width": null,
            "min_width": null,
            "border": null,
            "align_items": null,
            "bottom": null,
            "_model_module": "@jupyter-widgets/base",
            "top": null,
            "grid_column": null,
            "overflow_y": null,
            "overflow_x": null,
            "grid_auto_flow": null,
            "grid_area": null,
            "grid_template_columns": null,
            "flex": null,
            "_model_name": "LayoutModel",
            "justify_items": null,
            "grid_row": null,
            "max_height": null,
            "align_content": null,
            "visibility": null,
            "align_self": null,
            "height": null,
            "min_height": null,
            "padding": null,
            "grid_auto_rows": null,
            "grid_gap": null,
            "max_width": null,
            "order": null,
            "_view_module_version": "1.2.0",
            "grid_template_areas": null,
            "object_position": null,
            "object_fit": null,
            "grid_auto_columns": null,
            "margin": null,
            "display": null,
            "left": null
          }
        },
        "b09ae04a2b4c4a8bb0cf64e431bfd50d": {
          "model_module": "@jupyter-widgets/controls",
          "model_name": "DropdownModel",
          "state": {
            "_options_labels": [
              "20112012",
              "20122013",
              "20132014",
              "20142015",
              "20152016",
              "20162017",
              "20172018",
              "20182019"
            ],
            "_view_name": "DropdownView",
            "style": "IPY_MODEL_d8d5fbdc729a4934a1602fc0c935396b",
            "_dom_classes": [],
            "description": "season",
            "_model_name": "DropdownModel",
            "index": 7,
            "_view_module": "@jupyter-widgets/controls",
            "_model_module_version": "1.5.0",
            "_view_count": null,
            "disabled": false,
            "_view_module_version": "1.5.0",
            "description_tooltip": null,
            "_model_module": "@jupyter-widgets/controls",
            "layout": "IPY_MODEL_7ed37993b49d48958c25ae02931928ac"
          }
        },
        "7079b543fad6409eaf9655c50b961544": {
          "model_module": "@jupyter-widgets/controls",
          "model_name": "TextModel",
          "state": {
            "_view_name": "TextView",
            "style": "IPY_MODEL_aa3fc65f40c04267a131a48f1b767445",
            "_dom_classes": [],
            "description": "name",
            "_model_name": "TextModel",
            "placeholder": "​",
            "_view_module": "@jupyter-widgets/controls",
            "_model_module_version": "1.5.0",
            "value": "William Nylander",
            "_view_count": null,
            "disabled": false,
            "_view_module_version": "1.5.0",
            "continuous_update": true,
            "description_tooltip": null,
            "_model_module": "@jupyter-widgets/controls",
            "layout": "IPY_MODEL_ea85e79b960e4337b691a6b6da89398d"
          }
        },
        "02ccce4479b04805a938432036bb7380": {
          "model_module": "@jupyter-widgets/controls",
          "model_name": "DropdownModel",
          "state": {
            "_options_labels": [
              "Goals",
              "Shots"
            ],
            "_view_name": "DropdownView",
            "style": "IPY_MODEL_98cb064d45a1404990a6e058e57b9114",
            "_dom_classes": [],
            "description": "stat",
            "_model_name": "DropdownModel",
            "index": 0,
            "_view_module": "@jupyter-widgets/controls",
            "_model_module_version": "1.5.0",
            "_view_count": null,
            "disabled": false,
            "_view_module_version": "1.5.0",
            "description_tooltip": null,
            "_model_module": "@jupyter-widgets/controls",
            "layout": "IPY_MODEL_498e83cd2f70479bbf251bfcfa6a5c0a"
          }
        },
        "a2a4998a56944a92a409b4407fa2e565": {
          "model_module": "@jupyter-widgets/controls",
          "model_name": "DropdownModel",
          "state": {
            "_options_labels": [
              "scatter plot",
              "heat map"
            ],
            "_view_name": "DropdownView",
            "style": "IPY_MODEL_63131525e5144e979f080a4180357057",
            "_dom_classes": [],
            "description": "plot_type",
            "_model_name": "DropdownModel",
            "index": 0,
            "_view_module": "@jupyter-widgets/controls",
            "_model_module_version": "1.5.0",
            "_view_count": null,
            "disabled": false,
            "_view_module_version": "1.5.0",
            "description_tooltip": null,
            "_model_module": "@jupyter-widgets/controls",
            "layout": "IPY_MODEL_52a89052e2e14c8fac362fd295c3c3e7"
          }
        },
        "4310143bd7844a89a615e61ff2037860": {
          "model_module": "@jupyter-widgets/output",
          "model_name": "OutputModel",
          "state": {
            "_view_name": "OutputView",
            "msg_id": "",
            "_dom_classes": [],
            "_model_name": "OutputModel",
            "outputs": [
              {
                "output_type": "display_data",
                "metadata": {
                  "tags": []
                },
                "image/png": "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\n",
                "text/plain": "<Figure size 864x864 with 1 Axes>"
              }
            ],
            "_view_module": "@jupyter-widgets/output",
            "_model_module_version": "1.0.0",
            "_view_count": null,
            "_view_module_version": "1.0.0",
            "layout": "IPY_MODEL_baae29b0f4804a56946486d349d64c59",
            "_model_module": "@jupyter-widgets/output"
          }
        },
        "d8d5fbdc729a4934a1602fc0c935396b": {
          "model_module": "@jupyter-widgets/controls",
          "model_name": "DescriptionStyleModel",
          "state": {
            "_view_name": "StyleView",
            "_model_name": "DescriptionStyleModel",
            "description_width": "",
            "_view_module": "@jupyter-widgets/base",
            "_model_module_version": "1.5.0",
            "_view_count": null,
            "_view_module_version": "1.2.0",
            "_model_module": "@jupyter-widgets/controls"
          }
        },
        "7ed37993b49d48958c25ae02931928ac": {
          "model_module": "@jupyter-widgets/base",
          "model_name": "LayoutModel",
          "state": {
            "_view_name": "LayoutView",
            "grid_template_rows": null,
            "right": null,
            "justify_content": null,
            "_view_module": "@jupyter-widgets/base",
            "overflow": null,
            "_model_module_version": "1.2.0",
            "_view_count": null,
            "flex_flow": null,
            "width": null,
            "min_width": null,
            "border": null,
            "align_items": null,
            "bottom": null,
            "_model_module": "@jupyter-widgets/base",
            "top": null,
            "grid_column": null,
            "overflow_y": null,
            "overflow_x": null,
            "grid_auto_flow": null,
            "grid_area": null,
            "grid_template_columns": null,
            "flex": null,
            "_model_name": "LayoutModel",
            "justify_items": null,
            "grid_row": null,
            "max_height": null,
            "align_content": null,
            "visibility": null,
            "align_self": null,
            "height": null,
            "min_height": null,
            "padding": null,
            "grid_auto_rows": null,
            "grid_gap": null,
            "max_width": null,
            "order": null,
            "_view_module_version": "1.2.0",
            "grid_template_areas": null,
            "object_position": null,
            "object_fit": null,
            "grid_auto_columns": null,
            "margin": null,
            "display": null,
            "left": null
          }
        },
        "aa3fc65f40c04267a131a48f1b767445": {
          "model_module": "@jupyter-widgets/controls",
          "model_name": "DescriptionStyleModel",
          "state": {
            "_view_name": "StyleView",
            "_model_name": "DescriptionStyleModel",
            "description_width": "",
            "_view_module": "@jupyter-widgets/base",
            "_model_module_version": "1.5.0",
            "_view_count": null,
            "_view_module_version": "1.2.0",
            "_model_module": "@jupyter-widgets/controls"
          }
        },
        "ea85e79b960e4337b691a6b6da89398d": {
          "model_module": "@jupyter-widgets/base",
          "model_name": "LayoutModel",
          "state": {
            "_view_name": "LayoutView",
            "grid_template_rows": null,
            "right": null,
            "justify_content": null,
            "_view_module": "@jupyter-widgets/base",
            "overflow": null,
            "_model_module_version": "1.2.0",
            "_view_count": null,
            "flex_flow": null,
            "width": null,
            "min_width": null,
            "border": null,
            "align_items": null,
            "bottom": null,
            "_model_module": "@jupyter-widgets/base",
            "top": null,
            "grid_column": null,
            "overflow_y": null,
            "overflow_x": null,
            "grid_auto_flow": null,
            "grid_area": null,
            "grid_template_columns": null,
            "flex": null,
            "_model_name": "LayoutModel",
            "justify_items": null,
            "grid_row": null,
            "max_height": null,
            "align_content": null,
            "visibility": null,
            "align_self": null,
            "height": null,
            "min_height": null,
            "padding": null,
            "grid_auto_rows": null,
            "grid_gap": null,
            "max_width": null,
            "order": null,
            "_view_module_version": "1.2.0",
            "grid_template_areas": null,
            "object_position": null,
            "object_fit": null,
            "grid_auto_columns": null,
            "margin": null,
            "display": null,
            "left": null
          }
        },
        "98cb064d45a1404990a6e058e57b9114": {
          "model_module": "@jupyter-widgets/controls",
          "model_name": "DescriptionStyleModel",
          "state": {
            "_view_name": "StyleView",
            "_model_name": "DescriptionStyleModel",
            "description_width": "",
            "_view_module": "@jupyter-widgets/base",
            "_model_module_version": "1.5.0",
            "_view_count": null,
            "_view_module_version": "1.2.0",
            "_model_module": "@jupyter-widgets/controls"
          }
        },
        "498e83cd2f70479bbf251bfcfa6a5c0a": {
          "model_module": "@jupyter-widgets/base",
          "model_name": "LayoutModel",
          "state": {
            "_view_name": "LayoutView",
            "grid_template_rows": null,
            "right": null,
            "justify_content": null,
            "_view_module": "@jupyter-widgets/base",
            "overflow": null,
            "_model_module_version": "1.2.0",
            "_view_count": null,
            "flex_flow": null,
            "width": null,
            "min_width": null,
            "border": null,
            "align_items": null,
            "bottom": null,
            "_model_module": "@jupyter-widgets/base",
            "top": null,
            "grid_column": null,
            "overflow_y": null,
            "overflow_x": null,
            "grid_auto_flow": null,
            "grid_area": null,
            "grid_template_columns": null,
            "flex": null,
            "_model_name": "LayoutModel",
            "justify_items": null,
            "grid_row": null,
            "max_height": null,
            "align_content": null,
            "visibility": null,
            "align_self": null,
            "height": null,
            "min_height": null,
            "padding": null,
            "grid_auto_rows": null,
            "grid_gap": null,
            "max_width": null,
            "order": null,
            "_view_module_version": "1.2.0",
            "grid_template_areas": null,
            "object_position": null,
            "object_fit": null,
            "grid_auto_columns": null,
            "margin": null,
            "display": null,
            "left": null
          }
        },
        "63131525e5144e979f080a4180357057": {
          "model_module": "@jupyter-widgets/controls",
          "model_name": "DescriptionStyleModel",
          "state": {
            "_view_name": "StyleView",
            "_model_name": "DescriptionStyleModel",
            "description_width": "",
            "_view_module": "@jupyter-widgets/base",
            "_model_module_version": "1.5.0",
            "_view_count": null,
            "_view_module_version": "1.2.0",
            "_model_module": "@jupyter-widgets/controls"
          }
        },
        "52a89052e2e14c8fac362fd295c3c3e7": {
          "model_module": "@jupyter-widgets/base",
          "model_name": "LayoutModel",
          "state": {
            "_view_name": "LayoutView",
            "grid_template_rows": null,
            "right": null,
            "justify_content": null,
            "_view_module": "@jupyter-widgets/base",
            "overflow": null,
            "_model_module_version": "1.2.0",
            "_view_count": null,
            "flex_flow": null,
            "width": null,
            "min_width": null,
            "border": null,
            "align_items": null,
            "bottom": null,
            "_model_module": "@jupyter-widgets/base",
            "top": null,
            "grid_column": null,
            "overflow_y": null,
            "overflow_x": null,
            "grid_auto_flow": null,
            "grid_area": null,
            "grid_template_columns": null,
            "flex": null,
            "_model_name": "LayoutModel",
            "justify_items": null,
            "grid_row": null,
            "max_height": null,
            "align_content": null,
            "visibility": null,
            "align_self": null,
            "height": null,
            "min_height": null,
            "padding": null,
            "grid_auto_rows": null,
            "grid_gap": null,
            "max_width": null,
            "order": null,
            "_view_module_version": "1.2.0",
            "grid_template_areas": null,
            "object_position": null,
            "object_fit": null,
            "grid_auto_columns": null,
            "margin": null,
            "display": null,
            "left": null
          }
        },
        "baae29b0f4804a56946486d349d64c59": {
          "model_module": "@jupyter-widgets/base",
          "model_name": "LayoutModel",
          "state": {
            "_view_name": "LayoutView",
            "grid_template_rows": null,
            "right": null,
            "justify_content": null,
            "_view_module": "@jupyter-widgets/base",
            "overflow": null,
            "_model_module_version": "1.2.0",
            "_view_count": null,
            "flex_flow": null,
            "width": null,
            "min_width": null,
            "border": null,
            "align_items": null,
            "bottom": null,
            "_model_module": "@jupyter-widgets/base",
            "top": null,
            "grid_column": null,
            "overflow_y": null,
            "overflow_x": null,
            "grid_auto_flow": null,
            "grid_area": null,
            "grid_template_columns": null,
            "flex": null,
            "_model_name": "LayoutModel",
            "justify_items": null,
            "grid_row": null,
            "max_height": null,
            "align_content": null,
            "visibility": null,
            "align_self": null,
            "height": null,
            "min_height": null,
            "padding": null,
            "grid_auto_rows": null,
            "grid_gap": null,
            "max_width": null,
            "order": null,
            "_view_module_version": "1.2.0",
            "grid_template_areas": null,
            "object_position": null,
            "object_fit": null,
            "grid_auto_columns": null,
            "margin": null,
            "display": null,
            "left": null
          }
        }
      }
    }
  },
  "cells": [
    {
      "cell_type": "markdown",
      "metadata": {
        "id": "view-in-github",
        "colab_type": "text"
      },
      "source": [
        "<a href=\"https://colab.research.google.com/github/WilliamGaryDawkins/CS631-Project/blob/main/CS631_FinalProject.ipynb\" target=\"_parent\"><img src=\"https://colab.research.google.com/assets/colab-badge.svg\" alt=\"Open In Colab\"/></a>"
      ]
    },
    {
      "cell_type": "code",
      "metadata": {
        "id": "jhnu4eThAIOw"
      },
      "source": [
        "#install pyspark\n",
        "!pip install pyspark"
      ],
      "execution_count": null,
      "outputs": []
    },
    {
      "cell_type": "code",
      "metadata": {
        "id": "WdOEfGwQHmPZ"
      },
      "source": [
        "#mount google drive to access data\n",
        "from google.colab import drive\n",
        "drive.mount('/content/drive')"
      ],
      "execution_count": null,
      "outputs": []
    },
    {
      "cell_type": "code",
      "metadata": {
        "id": "4bt_JmYuAPx2"
      },
      "source": [
        "#create the spark session so we can work with spark dataframes\n",
        "from pyspark.sql import SparkSession\n",
        "from pyspark.sql.functions import concat,concat_ws\n",
        "import random\n",
        "spark = SparkSession.builder.appName(\"YourTest\").master(\"local[2]\").config('spark.ui.port', random.randrange(4000,5000)).getOrCreate()"
      ],
      "execution_count": null,
      "outputs": []
    },
    {
      "cell_type": "code",
      "metadata": {
        "id": "fvIdCtHPALN6"
      },
      "source": [
        "#from pyspark.sql.functions import concat, col, lit\n",
        "%matplotlib inline\n",
        "import requests\n",
        "from pyspark.sql.functions import col\n",
        "import matplotlib.pyplot as plt\n",
        "import pandas as pd\n",
        "import seaborn as sns"
      ],
      "execution_count": null,
      "outputs": []
    },
    {
      "cell_type": "code",
      "metadata": {
        "id": "C4Ll_yxm8itC"
      },
      "source": [
        "import ipywidgets as widgets\r\n",
        "from ipywidgets import *"
      ],
      "execution_count": null,
      "outputs": []
    },
    {
      "cell_type": "code",
      "metadata": {
        "id": "KZRHSVfpkzpq"
      },
      "source": [
        "from pyspark.sql.functions import col\r\n",
        "from pyspark.sql.functions import lit"
      ],
      "execution_count": null,
      "outputs": []
    },
    {
      "cell_type": "code",
      "metadata": {
        "id": "tjTQsF-mGOVz"
      },
      "source": [
        "#Read in CSV files and create raw data frames\n",
        "games_raw = spark.read.csv(\"/content/drive/My Drive/NHL Dataset/game.csv\",header=True,inferSchema=True)\n",
        "game_goalie_stats_raw = spark.read.csv(\"/content/drive/My Drive/NHL Dataset/game_goalie_stats.csv\",header=True,inferSchema=True)\n",
        "game_plays_raw =spark.read.csv(\"/content/drive/My Drive/NHL Dataset/game_plays.csv\",header=True,inferSchema=True)\n",
        "game_plays_players_raw = spark.read.csv(\"/content/drive/My Drive/NHL Dataset/game_plays_players.csv\",header=True,inferSchema=True)\n",
        "game_shifts_raw = spark.read.csv(\"/content/drive/My Drive/NHL Dataset/game_shifts.csv\",header=True,inferSchema=True)\n",
        "game_skater_stats_raw =spark.read.csv(\"/content/drive/My Drive/NHL Dataset/game_skater_stats.csv\",header=True,inferSchema=True)\n",
        "game_teams_stats_raw = spark.read.csv(\"/content/drive/My Drive/NHL Dataset/game_teams_stats.csv\",header=True,inferSchema=True)\n",
        "player_info_raw = spark.read.csv(\"/content/drive/My Drive/NHL Dataset/player_info.csv\",header=True,inferSchema=True)\n",
        "team_info_raw = spark.read.csv(\"/content/drive/My Drive/NHL Dataset/team_info.csv\",header=True,inferSchema=True)"
      ],
      "execution_count": null,
      "outputs": []
    },
    {
      "cell_type": "code",
      "metadata": {
        "id": "gmCkdAHUA7x-"
      },
      "source": [
        "## Create cleaner data frames, removing columns that wont be of interest (time of day,timezone info, venue location, links). \n",
        "## Note: Most dataframes do not have info we want to drop\n",
        "\n",
        "games = games_raw.drop(\"date_time_GMT\",\"venue_link\",\"venue_time_zone_id\",\"venue_time_zone_offset\",\"venue_time_zone_tz\").cache() \n",
        "game_goalie_stats = game_goalie_stats_raw.cache()\n",
        "game_plays = game_plays_raw.cache()\n",
        "game_plays_players = game_plays_players_raw.cache()\n",
        "game_shifts = game_shifts_raw.cache()\n",
        "game_skater_stats = game_skater_stats_raw.cache()\n",
        "game_teams_stats = game_teams_stats_raw.cache()\n",
        "player_info = player_info_raw.drop(\"link\").cache()\n",
        "team_info = team_info_raw.drop(\"link\").cache()\n",
        "\n",
        "##add point total to player stats\n",
        "game_skater_stats = game_skater_stats.withColumn(\"points\", col(\"goals\")+col(\"assists\")).cache()"
      ],
      "execution_count": null,
      "outputs": []
    },
    {
      "cell_type": "code",
      "metadata": {
        "id": "SclusPfEKrG3"
      },
      "source": [
        "from matplotlib.patches import Circle, Rectangle, Arc\n",
        "\n",
        "def draw_rink(ax=None, color='black', lw=2):\n",
        "    # If an axes object isn't provided to plot onto, just get current one\n",
        "    if ax is None:\n",
        "        ax = plt.gca()\n",
        "\n",
        "\n",
        "    center_faceoff = Circle((0, 0), radius=1, linewidth=lw, color='blue', fill=True)\n",
        "    \n",
        "    zone_faceoff_1 = Circle((69, 22), radius=1, linewidth=lw, color='red', fill=True)\n",
        "    zone_faceoff_2 = Circle((-69, 22), radius=1, linewidth=lw, color='red', fill=True)\n",
        "    zone_faceoff_3 = Circle((69, -22), radius=1, linewidth=lw, color='red', fill=True)\n",
        "    zone_faceoff_4 = Circle((-69, -22), radius=1, linewidth=lw, color='red', fill=True)\n",
        "\n",
        "    neutral_faceoff_1 = Circle((20, 22), radius=1, linewidth=lw, color='red', fill=True)\n",
        "    neutral_faceoff_2 = Circle((-20, 22), radius=1, linewidth=lw, color='red', fill=True)\n",
        "    neutral_faceoff_3 = Circle((20, -22), radius=1, linewidth=lw, color='red', fill=True)\n",
        "    neutral_faceoff_4 = Circle((-20, -22), radius=1, linewidth=lw, color='red', fill=True)\n",
        "\n",
        "\n",
        "\n",
        "    center_circle = Circle((0,0), radius = 15, linewidth=lw, color='blue', fill= False)\n",
        "    zone_circle_1 = Circle((69,22), radius = 15, linewidth=lw, color='red', fill= False)\n",
        "    zone_circle_2 = Circle((-69,22), radius = 15, linewidth=lw, color='red', fill= False)\n",
        "    zone_circle_3 = Circle((69,-22), radius = 15, linewidth=lw, color='red', fill= False)\n",
        "    zone_circle_4 = Circle((-69,-22), radius = 15, linewidth=lw, color='red', fill= False)                                              \n",
        "\n",
        "    blue_line1 = Rectangle((-25,-42.5), 0, 85,linewidth=lw,color='blue',fill=False)\n",
        "    blue_line2 = Rectangle(( 25,-42.5), 0, 85,linewidth=lw,color='blue',fill=False)\n",
        "    center_line = Rectangle((0,-42.5), 0, 85,linewidth=lw,color='red',fill=False)\n",
        "   \n",
        "    goal_line1 = Rectangle((-89,-40.5), 0, 81,linewidth=lw,color='red',fill=False)\n",
        "    goal_line2 = Rectangle((89,-40.5), 0, 81,linewidth=lw,color='red',fill=False)\n",
        "\n",
        "    goal_crease1 = Arc((-89,0),8,8,angle=270,theta1=0,theta2=180,color='red')\n",
        "    goal_crease2 = Arc((89,0),8,8,angle=90,theta1=0,theta2=180,color='red')\n",
        "    \n",
        "    top_border = Rectangle((-85,42.5), 170, 0,linewidth=lw,color='black',fill=False)\n",
        "    bottom_border = Rectangle((-85,-42.5), 170, 0,linewidth=lw,color='black',fill=False)\n",
        "    left_border = Rectangle((-100,-27), 0, 54,linewidth=lw,color='black',fill=False)\n",
        "    right_border = Rectangle((100,-27), 0, 54,linewidth=lw,color='black',fill=False)\n",
        "\n",
        "    bottom_right_corner = Arc((-87.5,-30.1),29,20,angle=135,theta1=22,theta2=155,linewidth=lw)\n",
        "    top_right_corner = Arc((-87.5,30.1),29,20,angle=45,theta1=22,theta2=155,linewidth=lw)\n",
        "    top_left_corner = Arc((87.5,30.1),29,20,angle=315,theta1=22,theta2=155,linewidth=lw)\n",
        "    bottom_left_corner = Arc((87.5,-30.1),29,20,angle=225,theta1=22,theta2=155,linewidth=lw)\n",
        "  \n",
        "    \n",
        "    rink_elements = [center_faceoff,zone_faceoff_1,zone_faceoff_2,zone_faceoff_3,zone_faceoff_4,\n",
        "                      center_circle,zone_circle_1,zone_circle_2,zone_circle_3,zone_circle_4,\n",
        "                      blue_line1,blue_line2,center_line,neutral_faceoff_1,neutral_faceoff_2,neutral_faceoff_3,\n",
        "                      neutral_faceoff_4,goal_line1,goal_line2,goal_crease1,goal_crease2,top_border,bottom_border,\n",
        "                      left_border,right_border,bottom_right_corner,top_right_corner,top_left_corner,bottom_left_corner]\n",
        "\n",
        "    # Add the rink elements onto the axes\n",
        "    for element in rink_elements:\n",
        "        ax.add_patch(element)\n",
        "\n",
        "    return ax\n",
        "\n",
        "def draw_Ozone(ax=None, color='black', lw=2):\n",
        "    # If an axes object isn't provided to plot onto, just get current one\n",
        "    if ax is None:\n",
        "        ax = plt.gca()\n",
        "\n",
        "\n",
        "    center_faceoff = Circle((0, 0), radius=1, linewidth=lw, color='blue', fill=True)\n",
        "    zone_faceoff_1 = Circle((22, 69), radius=1, linewidth=lw, color='red', fill=True)\n",
        "    zone_faceoff_2 = Circle((-22, 69), radius=1, linewidth=lw, color='red', fill=True)\n",
        "\n",
        "    neutral_faceoff_1 = Circle((22, 20), radius=1, linewidth=lw, color='red', fill=True)\n",
        "    neutral_faceoff_2 = Circle((-22, 20), radius=1, linewidth=lw, color='red', fill=True)\n",
        "\n",
        "    \n",
        "    center_circle = Circle((0,0), radius = 15, linewidth=lw, color='blue', fill= False)\n",
        "    zone_circle_1 = Circle((22,69), radius = 15, linewidth=lw, color='red', fill= False)\n",
        "    zone_circle_2 = Circle((-22,69), radius = 15, linewidth=lw, color='red', fill= False)                                          \n",
        "\n",
        "    blue_line1 = Rectangle((-42.5,25), 85, 0,linewidth=lw,color='blue',fill=False)\n",
        "    \n",
        "    goal_line1 = Rectangle((-41,89), 82, 0,linewidth=lw,color='red',fill=False)\n",
        "\n",
        "    goal_crease2 = Arc((0,89),8,8,angle=180,theta1=0,theta2=180,color='red')\n",
        "    \n",
        "    top_border = Rectangle((42.5,0), 0, 85,linewidth=lw,color='black',fill=False)\n",
        "    bottom_border = Rectangle((-42.5,0), 0, 85,linewidth=lw,color='black',fill=False)\n",
        "\n",
        "    right_border = Rectangle((-27,100), 54, 0,linewidth=lw,color='black',fill=False)\n",
        "\n",
        "    bottom_right_corner = Arc((30.1,87.5),29,20,angle=315,theta1=22,theta2=155,linewidth=lw)\n",
        "    top_right_corner = Arc((-30.1,87.5),29,20,angle=45,theta1=22,theta2=155,linewidth=lw)\n",
        "  \n",
        "    \n",
        "    rink_elements = [zone_faceoff_1,zone_faceoff_2,\n",
        "                      zone_circle_1,zone_circle_2, neutral_faceoff_1,neutral_faceoff_2,\n",
        "                      blue_line1,center_faceoff,center_circle,\n",
        "                      goal_line1,goal_crease2,top_border,bottom_border,\n",
        "                      right_border,bottom_right_corner,top_right_corner]\n",
        "\n",
        "    # Add the rink elements onto the axes\n",
        "    for element in rink_elements:\n",
        "        ax.add_patch(element)\n",
        "\n",
        "    return ax"
      ],
      "execution_count": null,
      "outputs": []
    },
    {
      "cell_type": "markdown",
      "metadata": {
        "id": "O5awnRnF1zfj"
      },
      "source": [
        "# Interactive Ranking by Stats plot"
      ]
    },
    {
      "cell_type": "code",
      "metadata": {
        "id": "G_kw58cJwNoQ"
      },
      "source": [
        "def ranked_by_stats_by_season_skater(season,stat,game_type):\n",
        "  players_ranked_skaters_dtf = game_skater_stats.join(player_info, \"player_id\").join(games, \"game_id\").filter(\"season = {0}\".format(season)).filter(\"type = '{0}'\".format(game_type)).select(\"player_id\",\"{0}\".format(stat)).groupBy(\"player_id\").sum(\"{0}\".format(stat)).join(player_info,\"player_id\").orderBy(\"sum({0})\".format(stat),ascending=False).select(concat(\"firstName\",lit(\" \"),\"lastName\").alias(\"FullName\"),\"sum({0})\".format(stat))\n",
        "  return players_ranked_skaters_dtf"
      ],
      "execution_count": null,
      "outputs": []
    },
    {
      "cell_type": "code",
      "metadata": {
        "colab": {
          "base_uri": "https://localhost:8080/",
          "height": 820,
          "referenced_widgets": [
            "7ff9d029c1f049979c5d075fc14383ea",
            "6b71beef3a24406b8c70b3ed0a12429a",
            "d79cfe6caaf94d418473c1d8e919c523",
            "cc0033d3847d46b78d2bcf6a871b23fb",
            "b1bb77c8645a4edfaaa16618ffdd4fb7",
            "aff9cbd5a1fe498f96f91893caf55289",
            "5206b27cfe9e4a2fa0c0eaf7cddc82a9",
            "1848746b17ab461aaae71428848a4677",
            "dacb729b917849dbbc4ab08b36a068cc",
            "433b55827c094995b844fa407f11cf50",
            "d8a5871fb9d44059adc095978e43f24b",
            "dbbdf59990be4ceaad98c340120ea6f8",
            "8fb764319b40492a9e4cf7e95550042c",
            "f74c1d57855c486aa0e0698694daeed1",
            "5f14db12a731455b8f58324e1e36d891",
            "ef205a9818b24c6083ed1ed162af1bd3"
          ]
        },
        "id": "eWED7rrD8Xm6",
        "outputId": "0d5bde61-9c4e-4882-dabf-11064ed6c04f"
      },
      "source": [
        "def update_stats_plot(season,stat,game_type,top_num):\r\n",
        "  \r\n",
        "  pdf = ranked_by_stats_by_season_skater(season,stat,game_type).limit(top_num).toPandas()\r\n",
        " # pdf.plot.barh(x='FullName',y=\"sum({0})\".format(stat))\r\n",
        "  plt.figure(figsize=(20,10))\r\n",
        "  ax = sns.barplot(y=pdf['FullName'],x=pdf[\"sum({0})\".format(stat)],palette='deep')\r\n",
        "  ax.set_xlabel('{0}'.format(stat),fontsize=15)\r\n",
        "  ax.set_ylabel('')\r\n",
        "  plt.title('Top {0} Players by {1} in the {2} NHL Season'.format(top_num,stat,season),y=1.05,fontsize=40)\r\n",
        "  if game_type == 'R':\r\n",
        "    plt.suptitle('Regular Season',y=0.90,fontsize=15)\r\n",
        "  else:\r\n",
        "    plt.suptitle('Playoffs',y=0.90,fontsize=15)  \r\n",
        "  plt.show()\r\n",
        "\r\n",
        "interact(update_stats_plot,\r\n",
        "         season=widgets.Dropdown(options=[20112012,20122013,20132014,20142015,20152016,20162017,20172018,20182019]),\r\n",
        "         stat=widgets.Dropdown(options=['points','goals','assists','shots','hits','powerPlayGoals','powerPlayAssists','timeOnIce','penaltyMinutes','faceOffWins','faceoffTaken','takeaways','giveaways','shortHandedGoals','shortHandedAssits','blocked','plusMinus','evenTimeOnIce','powerPlayTimeOnIce','shortHandedTimeOnIce']),\r\n",
        "         game_type=widgets.Dropdown(options=[\"R\",\"P\"]),\r\n",
        "         top_num=widgets.IntSlider(value=20,min=1,max=200,step=1))\r\n"
      ],
      "execution_count": null,
      "outputs": [
        {
          "output_type": "display_data",
          "data": {
            "application/vnd.jupyter.widget-view+json": {
              "model_id": "7ff9d029c1f049979c5d075fc14383ea",
              "version_minor": 0,
              "version_major": 2
            },
            "text/plain": [
              "interactive(children=(Dropdown(description='season', options=(20112012, 20122013, 20132014, 20142015, 20152016…"
            ]
          },
          "metadata": {
            "tags": []
          }
        },
        {
          "output_type": "execute_result",
          "data": {
            "text/plain": [
              "<function __main__.update_stats_plot>"
            ]
          },
          "metadata": {
            "tags": []
          },
          "execution_count": 225
        }
      ]
    },
    {
      "cell_type": "markdown",
      "metadata": {
        "id": "FsGwycYogCaY"
      },
      "source": [
        "# World Map of NHL Player's Nationalities"
      ]
    },
    {
      "cell_type": "code",
      "metadata": {
        "id": "kxzoqlSYjO9q"
      },
      "source": [
        "pip install geopandas"
      ],
      "execution_count": null,
      "outputs": []
    },
    {
      "cell_type": "code",
      "metadata": {
        "id": "3NETlXntjwCq"
      },
      "source": [
        "import geopandas"
      ],
      "execution_count": null,
      "outputs": []
    },
    {
      "cell_type": "code",
      "metadata": {
        "id": "Au2KyUaaggzY"
      },
      "source": [
        "def skaters_nationalities_by_season():\r\n",
        "  player_nationality_dtf = game_skater_stats.join(player_info, \"player_id\").join(games, \"game_id\").select(\"player_id\",\"nationality\",\"season\").dropDuplicates([\"player_id\",\"season\"]).groupBy(\"nationality\",\"season\").count().withColumnRenamed(\"count\", \"player count\")\r\n",
        "  return player_nationality_dtf\r\n",
        "\r\n",
        "def goalies_nationalities_by_season():\r\n",
        "  goalie_nationality_dtf = game_goalie_stats.join(player_info, \"player_id\").join(games, \"game_id\").select(\"player_id\",\"nationality\",\"season\").dropDuplicates([\"player_id\",\"season\"]).groupBy(\"nationality\",\"season\").count().withColumnRenamed(\"count\", \"player count\")\r\n",
        "  return goalie_nationality_dtf "
      ],
      "execution_count": null,
      "outputs": []
    },
    {
      "cell_type": "code",
      "metadata": {
        "id": "advC89_wf2Ys"
      },
      "source": [
        "world.columns=['pop_est', 'continent', 'name', 'nationality', 'gdp_md_est', 'geometry']\r\n",
        "players_ntls_skaters = skaters_nationalities_by_season().toPandas()\r\n",
        "players_ntls_goalies = goalies_nationalities_by_season().toPandas()"
      ],
      "execution_count": null,
      "outputs": []
    },
    {
      "cell_type": "code",
      "metadata": {
        "id": "Ky5kpwhFmLEa",
        "colab": {
          "base_uri": "https://localhost:8080/",
          "height": 708,
          "referenced_widgets": [
            "8e26ef9555364e59ad45fa06c3470ae6",
            "b1c7dc9aebc94a63b52ef92e0a5b1969",
            "ba08301950a142e5acfba0c498ddf6be",
            "e4f7ff49d00343c78e199df431449201",
            "cbf79ea59bfa41eaaf6642aa65296730",
            "f227b1ebce7a42d79cbc4bf921d7f203",
            "45d83851821f40a1a4f95448ba31eb99",
            "be847472bf3f4bc7b5dcd81eac840c92",
            "214301ab603c434da45da95007247d43",
            "9d3cde4697b543d982d24a3c256e058e"
          ]
        },
        "outputId": "7fa7bc47-e814-4d4a-dc10-af283e0f3b3b"
      },
      "source": [
        "def update_world_plot(given_season,player_type):\r\n",
        "  \r\n",
        "  if player_type == 'all':\r\n",
        "    players_ntls = nationalities_by_season_total(season).toPandas()\r\n",
        "  elif player_type == 'skaters':\r\n",
        "    players_ntls = players_ntls_skaters[(players_ntls_skaters.season==given_season)]\r\n",
        "  elif player_type == 'goalies':\r\n",
        "    players_ntls = players_ntls_goalies[(players_ntls_goalies.season==given_season)]\r\n",
        "  \r\n",
        "\r\n",
        " # world.columns=['pop_est', 'continent', 'name', 'nationality', 'gdp_md_est', 'geometry']\r\n",
        "  players_ntls.columns=['nationality','season','player_count']\r\n",
        "  merged = world.merge(players_ntls,on=['nationality'],how='left').fillna(0)\r\n",
        "\r\n",
        "  merged.plot(column='player_count',cmap='YlGnBu',figsize=(20,25))\r\n",
        "  plt.title('Countries by NHL Player Nationalities',fontsize=40)\r\n",
        "  plt.show()\r\n",
        "\r\n",
        "\r\n",
        "  \r\n",
        "\r\n",
        "plot= interact(update_world_plot,\r\n",
        "         given_season=widgets.Dropdown(options=[20112012,20122013,20132014,20142015,20152016,20162017,20172018,20182019]),\r\n",
        "         player_type=widgets.Dropdown(options=[\"skaters\",\"goalies\"]))\r\n",
        "\r\n",
        "plot"
      ],
      "execution_count": null,
      "outputs": [
        {
          "output_type": "display_data",
          "data": {
            "application/vnd.jupyter.widget-view+json": {
              "model_id": "8e26ef9555364e59ad45fa06c3470ae6",
              "version_minor": 0,
              "version_major": 2
            },
            "text/plain": [
              "interactive(children=(Dropdown(description='given_season', options=(20112012, 20122013, 20132014, 20142015, 20…"
            ]
          },
          "metadata": {
            "tags": []
          }
        },
        {
          "output_type": "execute_result",
          "data": {
            "text/plain": [
              "<function __main__.update_world_plot>"
            ]
          },
          "metadata": {
            "tags": []
          },
          "execution_count": 235
        }
      ]
    },
    {
      "cell_type": "markdown",
      "metadata": {
        "id": "6eINOK-CExq6"
      },
      "source": [
        "# Individual Player Offensive Scatter plots/Heatmaps"
      ]
    },
    {
      "cell_type": "code",
      "metadata": {
        "id": "5ZurR9JGFLTG"
      },
      "source": [
        "game_plays_shots = game_plays.filter(\"event = 'Shot'\").select('play_id','game_id','event','st_x','st_y').join(games.select('game_id','season'),'game_id').join(game_plays_players.select('play_id','player_id'),'play_id').join(player_info.select('player_id','firstName','LastName'),'player_id').withColumn('fullName', concat_ws(' ','firstname','lastName')).cache()\r\n",
        "game_plays_goals = game_plays.filter(\"event = 'Goal'\").select('play_id','game_id','event','st_x','st_y').join(games.select('game_id','season'),'game_id').join(game_plays_players.select('play_id','player_id'),'play_id').join(player_info.select('player_id','firstName','LastName'),'player_id').withColumn('fullName', concat_ws(' ','firstname','lastName')).cache()"
      ],
      "execution_count": null,
      "outputs": []
    },
    {
      "cell_type": "code",
      "metadata": {
        "colab": {
          "base_uri": "https://localhost:8080/",
          "height": 815,
          "referenced_widgets": [
            "e5e5e40b5a434f3393ea4f556eea5c2d",
            "a2d8bf7a8f614aaaae7e86d4606e5033",
            "b09ae04a2b4c4a8bb0cf64e431bfd50d",
            "7079b543fad6409eaf9655c50b961544",
            "02ccce4479b04805a938432036bb7380",
            "a2a4998a56944a92a409b4407fa2e565",
            "4310143bd7844a89a615e61ff2037860",
            "d8d5fbdc729a4934a1602fc0c935396b",
            "7ed37993b49d48958c25ae02931928ac",
            "aa3fc65f40c04267a131a48f1b767445",
            "ea85e79b960e4337b691a6b6da89398d",
            "98cb064d45a1404990a6e058e57b9114",
            "498e83cd2f70479bbf251bfcfa6a5c0a",
            "63131525e5144e979f080a4180357057",
            "52a89052e2e14c8fac362fd295c3c3e7",
            "baae29b0f4804a56946486d349d64c59"
          ]
        },
        "id": "92BYggljd9MU",
        "outputId": "8c3c21f8-d555-4c34-abb8-8e8fd2f5113c"
      },
      "source": [
        "def update_offensive_plot(season,name,stat,plot_type):\n",
        "  \n",
        "  if plot_type == 'scatter plot':\n",
        "    if stat == 'Goals':\n",
        "      Player_stats_df = game_plays_goals.filter(\"season = {0}\".format(season)).filter(\"fullName = '{0}'\".format(name)).select('st_x','st_y').toPandas().astype(float) \n",
        "    elif stat == 'Shots':\n",
        "      Player_stats_df_shots = game_plays_shots.filter(\"season = {0}\".format(season)).filter(\"fullName = '{0}'\".format(name)).select('st_x','st_y').toPandas().astype(float)  \n",
        "      Player_stats_df_goals = game_plays_goals.filter(\"season = {0}\".format(season)).filter(\"fullName = '{0}'\".format(name)).select('st_x','st_y').toPandas().astype(float)\n",
        "      Player_stats_df = Player_stats_df_shots.append(Player_stats_df_goals, ignore_index=True)\n",
        "  \n",
        "    plt.figure(figsize=(12,12))\n",
        "    plt.scatter(Player_stats_df.st_y*-1,Player_stats_df.st_x)\n",
        "    draw_Ozone()\n",
        "    plt.xlim(-42.5,42.5)\n",
        "    plt.ylim(0,100)\n",
        "    plt.tick_params(labelbottom=False,labelleft=False)\n",
        "    plt.show()\n",
        "  \n",
        "  elif plot_type == 'heat map':\n",
        "    \n",
        "    if stat == 'Goals':\n",
        "      Player_stats_df = game_plays_goals.filter(\"season = {0}\".format(season)).filter(\"fullName = '{0}'\".format(name)).select('st_x','st_y').toPandas().astype(float) \n",
        "    elif stat == 'Shots':\n",
        "      Player_stats_df_shots = game_plays_shots.filter(\"season = {0}\".format(season)).filter(\"fullName = '{0}'\".format(name)).select('st_x','st_y').toPandas().astype(float)  \n",
        "      Player_stats_df_goals = game_plays_goals.filter(\"season = {0}\".format(season)).filter(\"fullName = '{0}'\".format(name)).select('st_x','st_y').toPandas().astype(float)\n",
        "      Player_stats_df = Player_stats_df_shots.append(Player_stats_df_goals, ignore_index=True)\n",
        "    cmap=plt.cm.Blues\n",
        "    \n",
        "    joint_stats_plot = sns.jointplot(x=Player_stats_df.st_y*-1,y=Player_stats_df.st_x,\n",
        "                                 kind='kde',space=0,n_levels=50,cmap=cmap,color=cmap(0.8),shade=True,thresh=0,\n",
        "                                 fill=True)\n",
        "\n",
        "    joint_stats_plot.fig.set_size_inches(12,12)\n",
        "\n",
        "    ax = joint_stats_plot.ax_joint\n",
        "    draw_Ozone(ax)\n",
        "    ax.set_xlim(-42.5,42.5)\n",
        "    ax.set_ylim(0,100)\n",
        "\n",
        "    ax.set_xlabel('')\n",
        "    ax.set_ylabel('')\n",
        "    ax.set_facecolor(cmap(0))\n",
        "    ax.tick_params(labelbottom=False,labelleft=False)\n",
        "\n",
        "\n",
        "    plt.show()\n",
        "\n",
        "\n",
        "plot= interact(update_offensive_plot,\n",
        "         season=widgets.Dropdown(options=[20112012,20122013,20132014,20142015,20152016,20162017,20172018,20182019]),\n",
        "         stat=widgets.Dropdown(options=[\"Goals\",\"Shots\"]),\n",
        "         plot_type=widgets.Dropdown(options=[\"scatter plot\",\"heat map\"]),\n",
        "         name = widgets.Text())"
      ],
      "execution_count": null,
      "outputs": [
        {
          "output_type": "display_data",
          "data": {
            "application/vnd.jupyter.widget-view+json": {
              "model_id": "e5e5e40b5a434f3393ea4f556eea5c2d",
              "version_minor": 0,
              "version_major": 2
            },
            "text/plain": [
              "interactive(children=(Dropdown(description='season', options=(20112012, 20122013, 20132014, 20142015, 20152016…"
            ]
          },
          "metadata": {
            "tags": []
          }
        }
      ]
    },
    {
      "cell_type": "code",
      "metadata": {
        "id": "PMpdsVsOcZwI"
      },
      "source": [
        "def PlotGameEvents(team,season,date):\n",
        "  newDF = games.join(game_team_stats,'game_id').join(team_info,'team_id').filter(\"season={0}\".format(season))\n",
        "  return newDF\n",
        "season = '20112012'\n",
        "team = 'Devils'\n",
        "date='2012-02-13'\n",
        "SelectedGameInfo = games.select('game_id','season','date_time','away_team_id','home_team_id').filter(\"season={0}\".format(season)).filter(\"date_time= '{0}'\".format(date)).join(game_teams_stats.select('game_id','team_id'),'game_id').join(team_info,'team_id').filter(\"teamName = 'Blues'\")\n",
        "#SelectedGameInfo.show()\n",
        "home_team_info = SelectedGameInfo.select('home_team_id').withColumnRenamed(\"home_team_id\",\"team_id\").join(team_info,'team_id')\n",
        "away_team_info = SelectedGameInfo.select('away_team_id').withColumnRenamed(\"away_team_id\",\"team_id\").join(team_info,'team_id')\n",
        "#home_team_info.show()\n",
        "#away_team_info.show()\n",
        "SelectedGameData = SelectedGameInfo.select('game_id').join(game_plays.select('game_id','event','team_id_for','st_x','st_y'),'game_id').withColumnRenamed('team_id_for','team_id').filter(\"event = 'Shot'\")\n",
        "home_team_data = home_team_info.join(SelectedGameData, 'team_id').select('st_x','st_y')\n",
        "away_team_data = away_team_info.join(SelectedGameData, 'team_id').select('st_x','st_y')\n",
        "home_team_DF = home_team_data.toPandas().astype(float)\n",
        "away_team_DF = away_team_data.toPandas().astype(float).apply(lambda x: x*-1)"
      ],
      "execution_count": null,
      "outputs": []
    },
    {
      "cell_type": "code",
      "metadata": {
        "colab": {
          "base_uri": "https://localhost:8080/",
          "height": 592
        },
        "id": "rFs9nmnud7k2",
        "outputId": "44bee44f-6888-4ccd-aea2-666d369f54eb"
      },
      "source": [
        "plt.figure(figsize=(20,10))\n",
        "plt.scatter(home_team_DF.st_x,home_team_DF.st_y)\n",
        "plt.scatter(away_team_DF.st_x,away_team_DF.st_y)\n",
        "draw_rink()\n",
        "plt.xlim(-100,100)\n",
        "plt.ylim(-50,50)\n",
        "plt.show()\n"
      ],
      "execution_count": null,
      "outputs": [
        {
          "output_type": "display_data",
          "data": {
            "image/png": "[encoded data removed]",
            "text/plain": [
              "<Figure size 1440x720 with 1 Axes>"
            ]
          },
          "metadata": {
            "tags": [],
            "needs_background": "light"
          }
        }
      ]
    },
    {
      "cell_type": "markdown",
      "metadata": {
        "id": "Kq4qZezUg5en"
      },
      "source": [
        "# Team Points Over a Given Season"
      ]
    },
    {
      "cell_type": "code",
      "metadata": {
        "colab": {
          "base_uri": "https://localhost:8080/",
          "height": 1000
        },
        "id": "2pMIIKs6hBBR",
        "outputId": "4fded450-1ae7-4d0b-9275-6440427d6c65"
      },
      "source": [
        "points = game_teams_stats.select('game_id','team_id','won','settled_in').join(team_info.select('team_id','shortName','teamName'),'team_id').join(games.select('game_id','season','date_time','type'),'game_id').filter(\"type='R'\").orderBy('date_time')\r\n",
        "points_pd = points.filter(\"shortName='Boston'\").filter(\"season=20102011\").select('won','settled_in').toPandas()\r\n",
        "\r\n",
        "points_pd['points'] = points_pd.apply(lambda x: point_calc(x.won,x.settled_in),axis=1)\r\n",
        "points_pd = points_pd['points'].cumsum().to_frame()\r\n",
        "display(points_pd)\r\n",
        "\r\n",
        "\r\n",
        "def point_calc(won,settled):\r\n",
        "  if won == True:\r\n",
        "    points = 2\r\n",
        "  elif (won == False) & (settled == 'OT'):\r\n",
        "    points = 1\r\n",
        "  elif (won == False) & (settled == 'SO'):\r\n",
        "    points = 1 \r\n",
        "  else:\r\n",
        "    points = 0\r\n",
        "  return points\r\n",
        "\r\n",
        "plt.figure(figsize=(20,10))\r\n",
        "sns.lineplot(data=points_pd)\r\n",
        "  \r\n"
      ],
      "execution_count": null,
      "outputs": [
        {
          "output_type": "display_data",
          "data": {
            "text/html": [
              "<div>\n",
              "<style scoped>\n",
              "    .dataframe tbody tr th:only-of-type {\n",
              "        vertical-align: middle;\n",
              "    }\n",
              "\n",
              "    .dataframe tbody tr th {\n",
              "        vertical-align: top;\n",
              "    }\n",
              "\n",
              "    .dataframe thead th {\n",
              "        text-align: right;\n",
              "    }\n",
              "</style>\n",
              "<table border=\"1\" class=\"dataframe\">\n",
              "  <thead>\n",
              "    <tr style=\"text-align: right;\">\n",
              "      <th></th>\n",
              "      <th>points</th>\n",
              "    </tr>\n",
              "  </thead>\n",
              "  <tbody>\n",
              "    <tr>\n",
              "      <th>0</th>\n",
              "      <td>0</td>\n",
              "    </tr>\n",
              "    <tr>\n",
              "      <th>1</th>\n",
              "      <td>2</td>\n",
              "    </tr>\n",
              "    <tr>\n",
              "      <th>2</th>\n",
              "      <td>4</td>\n",
              "    </tr>\n",
              "    <tr>\n",
              "      <th>3</th>\n",
              "      <td>6</td>\n",
              "    </tr>\n",
              "    <tr>\n",
              "      <th>4</th>\n",
              "      <td>8</td>\n",
              "    </tr>\n",
              "    <tr>\n",
              "      <th>...</th>\n",
              "      <td>...</td>\n",
              "    </tr>\n",
              "    <tr>\n",
              "      <th>77</th>\n",
              "      <td>99</td>\n",
              "    </tr>\n",
              "    <tr>\n",
              "      <th>78</th>\n",
              "      <td>99</td>\n",
              "    </tr>\n",
              "    <tr>\n",
              "      <th>79</th>\n",
              "      <td>101</td>\n",
              "    </tr>\n",
              "    <tr>\n",
              "      <th>80</th>\n",
              "      <td>103</td>\n",
              "    </tr>\n",
              "    <tr>\n",
              "      <th>81</th>\n",
              "      <td>103</td>\n",
              "    </tr>\n",
              "  </tbody>\n",
              "</table>\n",
              "<p>82 rows × 1 columns</p>\n",
              "</div>"
            ],
            "text/plain": [
              "    points\n",
              "0        0\n",
              "1        2\n",
              "2        4\n",
              "3        6\n",
              "4        8\n",
              "..     ...\n",
              "77      99\n",
              "78      99\n",
              "79     101\n",
              "80     103\n",
              "81     103\n",
              "\n",
              "[82 rows x 1 columns]"
            ]
          },
          "metadata": {
            "tags": []
          }
        },
        {
          "output_type": "execute_result",
          "data": {
            "text/plain": [
              "<matplotlib.axes._subplots.AxesSubplot at 0x7f5c04d88438>"
            ]
          },
          "metadata": {
            "tags": []
          },
          "execution_count": 198
        },
        {
          "output_type": "display_data",
          "data": {
            "image/png": "[encoded data removed]",
            "text/plain": [
              "<Figure size 1440x720 with 1 Axes>"
            ]
          },
          "metadata": {
            "tags": [],
            "needs_background": "light"
          }
        }
      ]
    },
    {
      "cell_type": "code",
      "metadata": {
        "id": "fzX0IY7Kk4pM"
      },
      "source": [
        ""
      ],
      "execution_count": null,
      "outputs": []
    }
  ]
}