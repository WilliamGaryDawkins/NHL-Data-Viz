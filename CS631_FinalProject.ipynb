{
  "nbformat": 4,
  "nbformat_minor": 0,
  "metadata": {
    "colab": {
      "name": "CS631_FinalProject.ipynb",
      "provenance": [],
      "collapsed_sections": [],
      "mount_file_id": "1hEjo13rv5voG2DRSMm6Vhtj4vY4YDkm4",
      "authorship_tag": "ABX9TyNeWusK9EUOM8ODFk3tzlCE",
      "include_colab_link": true
    },
    "kernelspec": {
      "name": "python3",
      "display_name": "Python 3"
    },
    "widgets": {
      "application/vnd.jupyter.widget-state+json": {
        "fd816031cfb6492ebc2a128ae93b2637": {
          "model_module": "@jupyter-widgets/controls",
          "model_name": "VBoxModel",
          "state": {
            "_view_name": "VBoxView",
            "_dom_classes": [
              "widget-interact"
            ],
            "_model_name": "VBoxModel",
            "_view_module": "@jupyter-widgets/controls",
            "_model_module_version": "1.5.0",
            "_view_count": null,
            "_view_module_version": "1.5.0",
            "box_style": "",
            "layout": "IPY_MODEL_1ec2e73ad2724fda8040980dbca63203",
            "_model_module": "@jupyter-widgets/controls",
            "children": [
              "IPY_MODEL_dc9c9a3053f94f85b3631586359b251a",
              "IPY_MODEL_151f4a0a0f0c4c59828ab200915accf0",
              "IPY_MODEL_dc25d4a5cd1f4712b9109c988f161451",
              "IPY_MODEL_57df4fc94ae74133b9c653f104ef1d85",
              "IPY_MODEL_d8b416c74e5c407f99afe671d63504a8"
            ]
          }
        },
        "1ec2e73ad2724fda8040980dbca63203": {
          "model_module": "@jupyter-widgets/base",
          "model_name": "LayoutModel",
          "state": {
            "_view_name": "LayoutView",
            "grid_template_rows": null,
            "right": null,
            "justify_content": null,
            "_view_module": "@jupyter-widgets/base",
            "overflow": null,
            "_model_module_version": "1.2.0",
            "_view_count": null,
            "flex_flow": null,
            "width": null,
            "min_width": null,
            "border": null,
            "align_items": null,
            "bottom": null,
            "_model_module": "@jupyter-widgets/base",
            "top": null,
            "grid_column": null,
            "overflow_y": null,
            "overflow_x": null,
            "grid_auto_flow": null,
            "grid_area": null,
            "grid_template_columns": null,
            "flex": null,
            "_model_name": "LayoutModel",
            "justify_items": null,
            "grid_row": null,
            "max_height": null,
            "align_content": null,
            "visibility": null,
            "align_self": null,
            "height": null,
            "min_height": null,
            "padding": null,
            "grid_auto_rows": null,
            "grid_gap": null,
            "max_width": null,
            "order": null,
            "_view_module_version": "1.2.0",
            "grid_template_areas": null,
            "object_position": null,
            "object_fit": null,
            "grid_auto_columns": null,
            "margin": null,
            "display": null,
            "left": null
          }
        },
        "dc9c9a3053f94f85b3631586359b251a": {
          "model_module": "@jupyter-widgets/controls",
          "model_name": "DropdownModel",
          "state": {
            "_options_labels": [
              "20112012",
              "20122013",
              "20132014",
              "20142015",
              "20152016",
              "20162017",
              "20172018",
              "20182019"
            ],
            "_view_name": "DropdownView",
            "style": "IPY_MODEL_b01c13c486a6410eb70c18079be28f77",
            "_dom_classes": [],
            "description": "season",
            "_model_name": "DropdownModel",
            "index": 5,
            "_view_module": "@jupyter-widgets/controls",
            "_model_module_version": "1.5.0",
            "_view_count": null,
            "disabled": false,
            "_view_module_version": "1.5.0",
            "description_tooltip": null,
            "_model_module": "@jupyter-widgets/controls",
            "layout": "IPY_MODEL_a2259d30b33847b1a74fc95aa7ee2d81"
          }
        },
        "151f4a0a0f0c4c59828ab200915accf0": {
          "model_module": "@jupyter-widgets/controls",
          "model_name": "DropdownModel",
          "state": {
            "_options_labels": [
              "points",
              "goals",
              "assists",
              "shots",
              "hits",
              "powerPlayGoals",
              "powerPlayAssists",
              "timeOnIce",
              "penaltyMinutes",
              "faceOffWins",
              "faceoffTaken",
              "takeaways",
              "giveaways",
              "shortHandedGoals",
              "shortHandedAssits",
              "blocked",
              "plusMinus",
              "evenTimeOnIce",
              "powerPlayTimeOnIce",
              "shortHandedTimeOnIce"
            ],
            "_view_name": "DropdownView",
            "style": "IPY_MODEL_6fe3d045ee32449e9faab2a1cd813630",
            "_dom_classes": [],
            "description": "stat",
            "_model_name": "DropdownModel",
            "index": 8,
            "_view_module": "@jupyter-widgets/controls",
            "_model_module_version": "1.5.0",
            "_view_count": null,
            "disabled": false,
            "_view_module_version": "1.5.0",
            "description_tooltip": null,
            "_model_module": "@jupyter-widgets/controls",
            "layout": "IPY_MODEL_a05794c8d272408ab4cb2c6142e597b7"
          }
        },
        "dc25d4a5cd1f4712b9109c988f161451": {
          "model_module": "@jupyter-widgets/controls",
          "model_name": "DropdownModel",
          "state": {
            "_options_labels": [
              "R",
              "P"
            ],
            "_view_name": "DropdownView",
            "style": "IPY_MODEL_3bcdb41ed3bd41d79577188ac78bf24d",
            "_dom_classes": [],
            "description": "game_type",
            "_model_name": "DropdownModel",
            "index": 0,
            "_view_module": "@jupyter-widgets/controls",
            "_model_module_version": "1.5.0",
            "_view_count": null,
            "disabled": false,
            "_view_module_version": "1.5.0",
            "description_tooltip": null,
            "_model_module": "@jupyter-widgets/controls",
            "layout": "IPY_MODEL_2d3a009a9c3d49229eefdb00880aff90"
          }
        },
        "57df4fc94ae74133b9c653f104ef1d85": {
          "model_module": "@jupyter-widgets/controls",
          "model_name": "IntSliderModel",
          "state": {
            "_view_name": "IntSliderView",
            "style": "IPY_MODEL_9d724f9a44d0467baa165cd8f041f7e9",
            "_dom_classes": [],
            "description": "top_num",
            "step": 1,
            "_model_name": "IntSliderModel",
            "orientation": "horizontal",
            "max": 200,
            "_view_module": "@jupyter-widgets/controls",
            "_model_module_version": "1.5.0",
            "value": 10,
            "_view_count": null,
            "disabled": false,
            "_view_module_version": "1.5.0",
            "min": 1,
            "continuous_update": true,
            "readout_format": "d",
            "description_tooltip": null,
            "readout": true,
            "_model_module": "@jupyter-widgets/controls",
            "layout": "IPY_MODEL_70e5b47ff50f405f8f0d3e473a5b047b"
          }
        },
        "d8b416c74e5c407f99afe671d63504a8": {
          "model_module": "@jupyter-widgets/output",
          "model_name": "OutputModel",
          "state": {
            "_view_name": "OutputView",
            "msg_id": "",
            "_dom_classes": [],
            "_model_name": "OutputModel",
            "outputs": [
              {
                "output_type": "display_data",
                "metadata": {
                  "tags": [],
                  "needs_background": "light"
                },
                "image/png": "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\n",
                "text/plain": "<Figure size 1440x720 with 1 Axes>"
              }
            ],
            "_view_module": "@jupyter-widgets/output",
            "_model_module_version": "1.0.0",
            "_view_count": null,
            "_view_module_version": "1.0.0",
            "layout": "IPY_MODEL_3a987189da4847dc8de89b842663c3ff",
            "_model_module": "@jupyter-widgets/output"
          }
        },
        "b01c13c486a6410eb70c18079be28f77": {
          "model_module": "@jupyter-widgets/controls",
          "model_name": "DescriptionStyleModel",
          "state": {
            "_view_name": "StyleView",
            "_model_name": "DescriptionStyleModel",
            "description_width": "",
            "_view_module": "@jupyter-widgets/base",
            "_model_module_version": "1.5.0",
            "_view_count": null,
            "_view_module_version": "1.2.0",
            "_model_module": "@jupyter-widgets/controls"
          }
        },
        "a2259d30b33847b1a74fc95aa7ee2d81": {
          "model_module": "@jupyter-widgets/base",
          "model_name": "LayoutModel",
          "state": {
            "_view_name": "LayoutView",
            "grid_template_rows": null,
            "right": null,
            "justify_content": null,
            "_view_module": "@jupyter-widgets/base",
            "overflow": null,
            "_model_module_version": "1.2.0",
            "_view_count": null,
            "flex_flow": null,
            "width": null,
            "min_width": null,
            "border": null,
            "align_items": null,
            "bottom": null,
            "_model_module": "@jupyter-widgets/base",
            "top": null,
            "grid_column": null,
            "overflow_y": null,
            "overflow_x": null,
            "grid_auto_flow": null,
            "grid_area": null,
            "grid_template_columns": null,
            "flex": null,
            "_model_name": "LayoutModel",
            "justify_items": null,
            "grid_row": null,
            "max_height": null,
            "align_content": null,
            "visibility": null,
            "align_self": null,
            "height": null,
            "min_height": null,
            "padding": null,
            "grid_auto_rows": null,
            "grid_gap": null,
            "max_width": null,
            "order": null,
            "_view_module_version": "1.2.0",
            "grid_template_areas": null,
            "object_position": null,
            "object_fit": null,
            "grid_auto_columns": null,
            "margin": null,
            "display": null,
            "left": null
          }
        },
        "6fe3d045ee32449e9faab2a1cd813630": {
          "model_module": "@jupyter-widgets/controls",
          "model_name": "DescriptionStyleModel",
          "state": {
            "_view_name": "StyleView",
            "_model_name": "DescriptionStyleModel",
            "description_width": "",
            "_view_module": "@jupyter-widgets/base",
            "_model_module_version": "1.5.0",
            "_view_count": null,
            "_view_module_version": "1.2.0",
            "_model_module": "@jupyter-widgets/controls"
          }
        },
        "a05794c8d272408ab4cb2c6142e597b7": {
          "model_module": "@jupyter-widgets/base",
          "model_name": "LayoutModel",
          "state": {
            "_view_name": "LayoutView",
            "grid_template_rows": null,
            "right": null,
            "justify_content": null,
            "_view_module": "@jupyter-widgets/base",
            "overflow": null,
            "_model_module_version": "1.2.0",
            "_view_count": null,
            "flex_flow": null,
            "width": null,
            "min_width": null,
            "border": null,
            "align_items": null,
            "bottom": null,
            "_model_module": "@jupyter-widgets/base",
            "top": null,
            "grid_column": null,
            "overflow_y": null,
            "overflow_x": null,
            "grid_auto_flow": null,
            "grid_area": null,
            "grid_template_columns": null,
            "flex": null,
            "_model_name": "LayoutModel",
            "justify_items": null,
            "grid_row": null,
            "max_height": null,
            "align_content": null,
            "visibility": null,
            "align_self": null,
            "height": null,
            "min_height": null,
            "padding": null,
            "grid_auto_rows": null,
            "grid_gap": null,
            "max_width": null,
            "order": null,
            "_view_module_version": "1.2.0",
            "grid_template_areas": null,
            "object_position": null,
            "object_fit": null,
            "grid_auto_columns": null,
            "margin": null,
            "display": null,
            "left": null
          }
        },
        "3bcdb41ed3bd41d79577188ac78bf24d": {
          "model_module": "@jupyter-widgets/controls",
          "model_name": "DescriptionStyleModel",
          "state": {
            "_view_name": "StyleView",
            "_model_name": "DescriptionStyleModel",
            "description_width": "",
            "_view_module": "@jupyter-widgets/base",
            "_model_module_version": "1.5.0",
            "_view_count": null,
            "_view_module_version": "1.2.0",
            "_model_module": "@jupyter-widgets/controls"
          }
        },
        "2d3a009a9c3d49229eefdb00880aff90": {
          "model_module": "@jupyter-widgets/base",
          "model_name": "LayoutModel",
          "state": {
            "_view_name": "LayoutView",
            "grid_template_rows": null,
            "right": null,
            "justify_content": null,
            "_view_module": "@jupyter-widgets/base",
            "overflow": null,
            "_model_module_version": "1.2.0",
            "_view_count": null,
            "flex_flow": null,
            "width": null,
            "min_width": null,
            "border": null,
            "align_items": null,
            "bottom": null,
            "_model_module": "@jupyter-widgets/base",
            "top": null,
            "grid_column": null,
            "overflow_y": null,
            "overflow_x": null,
            "grid_auto_flow": null,
            "grid_area": null,
            "grid_template_columns": null,
            "flex": null,
            "_model_name": "LayoutModel",
            "justify_items": null,
            "grid_row": null,
            "max_height": null,
            "align_content": null,
            "visibility": null,
            "align_self": null,
            "height": null,
            "min_height": null,
            "padding": null,
            "grid_auto_rows": null,
            "grid_gap": null,
            "max_width": null,
            "order": null,
            "_view_module_version": "1.2.0",
            "grid_template_areas": null,
            "object_position": null,
            "object_fit": null,
            "grid_auto_columns": null,
            "margin": null,
            "display": null,
            "left": null
          }
        },
        "9d724f9a44d0467baa165cd8f041f7e9": {
          "model_module": "@jupyter-widgets/controls",
          "model_name": "SliderStyleModel",
          "state": {
            "_view_name": "StyleView",
            "handle_color": null,
            "_model_name": "SliderStyleModel",
            "description_width": "",
            "_view_module": "@jupyter-widgets/base",
            "_model_module_version": "1.5.0",
            "_view_count": null,
            "_view_module_version": "1.2.0",
            "_model_module": "@jupyter-widgets/controls"
          }
        },
        "70e5b47ff50f405f8f0d3e473a5b047b": {
          "model_module": "@jupyter-widgets/base",
          "model_name": "LayoutModel",
          "state": {
            "_view_name": "LayoutView",
            "grid_template_rows": null,
            "right": null,
            "justify_content": null,
            "_view_module": "@jupyter-widgets/base",
            "overflow": null,
            "_model_module_version": "1.2.0",
            "_view_count": null,
            "flex_flow": null,
            "width": null,
            "min_width": null,
            "border": null,
            "align_items": null,
            "bottom": null,
            "_model_module": "@jupyter-widgets/base",
            "top": null,
            "grid_column": null,
            "overflow_y": null,
            "overflow_x": null,
            "grid_auto_flow": null,
            "grid_area": null,
            "grid_template_columns": null,
            "flex": null,
            "_model_name": "LayoutModel",
            "justify_items": null,
            "grid_row": null,
            "max_height": null,
            "align_content": null,
            "visibility": null,
            "align_self": null,
            "height": null,
            "min_height": null,
            "padding": null,
            "grid_auto_rows": null,
            "grid_gap": null,
            "max_width": null,
            "order": null,
            "_view_module_version": "1.2.0",
            "grid_template_areas": null,
            "object_position": null,
            "object_fit": null,
            "grid_auto_columns": null,
            "margin": null,
            "display": null,
            "left": null
          }
        },
        "3a987189da4847dc8de89b842663c3ff": {
          "model_module": "@jupyter-widgets/base",
          "model_name": "LayoutModel",
          "state": {
            "_view_name": "LayoutView",
            "grid_template_rows": null,
            "right": null,
            "justify_content": null,
            "_view_module": "@jupyter-widgets/base",
            "overflow": null,
            "_model_module_version": "1.2.0",
            "_view_count": null,
            "flex_flow": null,
            "width": null,
            "min_width": null,
            "border": null,
            "align_items": null,
            "bottom": null,
            "_model_module": "@jupyter-widgets/base",
            "top": null,
            "grid_column": null,
            "overflow_y": null,
            "overflow_x": null,
            "grid_auto_flow": null,
            "grid_area": null,
            "grid_template_columns": null,
            "flex": null,
            "_model_name": "LayoutModel",
            "justify_items": null,
            "grid_row": null,
            "max_height": null,
            "align_content": null,
            "visibility": null,
            "align_self": null,
            "height": null,
            "min_height": null,
            "padding": null,
            "grid_auto_rows": null,
            "grid_gap": null,
            "max_width": null,
            "order": null,
            "_view_module_version": "1.2.0",
            "grid_template_areas": null,
            "object_position": null,
            "object_fit": null,
            "grid_auto_columns": null,
            "margin": null,
            "display": null,
            "left": null
          }
        },
        "f77cf7b7e6f34647ac1307ca53e810b2": {
          "model_module": "@jupyter-widgets/controls",
          "model_name": "VBoxModel",
          "state": {
            "_view_name": "VBoxView",
            "_dom_classes": [
              "widget-interact"
            ],
            "_model_name": "VBoxModel",
            "_view_module": "@jupyter-widgets/controls",
            "_model_module_version": "1.5.0",
            "_view_count": null,
            "_view_module_version": "1.5.0",
            "box_style": "",
            "layout": "IPY_MODEL_0613ea730a524e8f88a1f3c8d53552e6",
            "_model_module": "@jupyter-widgets/controls",
            "children": [
              "IPY_MODEL_02d16829560548b2b3bf1b0437300178",
              "IPY_MODEL_28929878722d41c58e07245ce5f416a2"
            ]
          }
        },
        "0613ea730a524e8f88a1f3c8d53552e6": {
          "model_module": "@jupyter-widgets/base",
          "model_name": "LayoutModel",
          "state": {
            "_view_name": "LayoutView",
            "grid_template_rows": null,
            "right": null,
            "justify_content": null,
            "_view_module": "@jupyter-widgets/base",
            "overflow": null,
            "_model_module_version": "1.2.0",
            "_view_count": null,
            "flex_flow": null,
            "width": null,
            "min_width": null,
            "border": null,
            "align_items": null,
            "bottom": null,
            "_model_module": "@jupyter-widgets/base",
            "top": null,
            "grid_column": null,
            "overflow_y": null,
            "overflow_x": null,
            "grid_auto_flow": null,
            "grid_area": null,
            "grid_template_columns": null,
            "flex": null,
            "_model_name": "LayoutModel",
            "justify_items": null,
            "grid_row": null,
            "max_height": null,
            "align_content": null,
            "visibility": null,
            "align_self": null,
            "height": null,
            "min_height": null,
            "padding": null,
            "grid_auto_rows": null,
            "grid_gap": null,
            "max_width": null,
            "order": null,
            "_view_module_version": "1.2.0",
            "grid_template_areas": null,
            "object_position": null,
            "object_fit": null,
            "grid_auto_columns": null,
            "margin": null,
            "display": null,
            "left": null
          }
        },
        "02d16829560548b2b3bf1b0437300178": {
          "model_module": "@jupyter-widgets/controls",
          "model_name": "DropdownModel",
          "state": {
            "_options_labels": [
              "20112012",
              "20122013",
              "20132014",
              "20142015",
              "20152016",
              "20162017",
              "20172018",
              "20182019"
            ],
            "_view_name": "DropdownView",
            "style": "IPY_MODEL_89598e04f74840639acb3d20661e01dc",
            "_dom_classes": [],
            "description": "season",
            "_model_name": "DropdownModel",
            "index": 6,
            "_view_module": "@jupyter-widgets/controls",
            "_model_module_version": "1.5.0",
            "_view_count": null,
            "disabled": false,
            "_view_module_version": "1.5.0",
            "description_tooltip": null,
            "_model_module": "@jupyter-widgets/controls",
            "layout": "IPY_MODEL_11185e2e31ac4c6fa0ec0a94e64dd7c6"
          }
        },
        "28929878722d41c58e07245ce5f416a2": {
          "model_module": "@jupyter-widgets/output",
          "model_name": "OutputModel",
          "state": {
            "_view_name": "OutputView",
            "msg_id": "",
            "_dom_classes": [],
            "_model_name": "OutputModel",
            "outputs": [
              {
                "output_type": "display_data",
                "metadata": {
                  "tags": [],
                  "needs_background": "light"
                },
                "image/png": "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\n",
                "text/plain": "<Figure size 1440x720 with 1 Axes>"
              }
            ],
            "_view_module": "@jupyter-widgets/output",
            "_model_module_version": "1.0.0",
            "_view_count": null,
            "_view_module_version": "1.0.0",
            "layout": "IPY_MODEL_1cb69579e64e4bfda86197409ddc7b27",
            "_model_module": "@jupyter-widgets/output"
          }
        },
        "89598e04f74840639acb3d20661e01dc": {
          "model_module": "@jupyter-widgets/controls",
          "model_name": "DescriptionStyleModel",
          "state": {
            "_view_name": "StyleView",
            "_model_name": "DescriptionStyleModel",
            "description_width": "",
            "_view_module": "@jupyter-widgets/base",
            "_model_module_version": "1.5.0",
            "_view_count": null,
            "_view_module_version": "1.2.0",
            "_model_module": "@jupyter-widgets/controls"
          }
        },
        "11185e2e31ac4c6fa0ec0a94e64dd7c6": {
          "model_module": "@jupyter-widgets/base",
          "model_name": "LayoutModel",
          "state": {
            "_view_name": "LayoutView",
            "grid_template_rows": null,
            "right": null,
            "justify_content": null,
            "_view_module": "@jupyter-widgets/base",
            "overflow": null,
            "_model_module_version": "1.2.0",
            "_view_count": null,
            "flex_flow": null,
            "width": null,
            "min_width": null,
            "border": null,
            "align_items": null,
            "bottom": null,
            "_model_module": "@jupyter-widgets/base",
            "top": null,
            "grid_column": null,
            "overflow_y": null,
            "overflow_x": null,
            "grid_auto_flow": null,
            "grid_area": null,
            "grid_template_columns": null,
            "flex": null,
            "_model_name": "LayoutModel",
            "justify_items": null,
            "grid_row": null,
            "max_height": null,
            "align_content": null,
            "visibility": null,
            "align_self": null,
            "height": null,
            "min_height": null,
            "padding": null,
            "grid_auto_rows": null,
            "grid_gap": null,
            "max_width": null,
            "order": null,
            "_view_module_version": "1.2.0",
            "grid_template_areas": null,
            "object_position": null,
            "object_fit": null,
            "grid_auto_columns": null,
            "margin": null,
            "display": null,
            "left": null
          }
        },
        "1cb69579e64e4bfda86197409ddc7b27": {
          "model_module": "@jupyter-widgets/base",
          "model_name": "LayoutModel",
          "state": {
            "_view_name": "LayoutView",
            "grid_template_rows": null,
            "right": null,
            "justify_content": null,
            "_view_module": "@jupyter-widgets/base",
            "overflow": null,
            "_model_module_version": "1.2.0",
            "_view_count": null,
            "flex_flow": null,
            "width": null,
            "min_width": null,
            "border": null,
            "align_items": null,
            "bottom": null,
            "_model_module": "@jupyter-widgets/base",
            "top": null,
            "grid_column": null,
            "overflow_y": null,
            "overflow_x": null,
            "grid_auto_flow": null,
            "grid_area": null,
            "grid_template_columns": null,
            "flex": null,
            "_model_name": "LayoutModel",
            "justify_items": null,
            "grid_row": null,
            "max_height": null,
            "align_content": null,
            "visibility": null,
            "align_self": null,
            "height": null,
            "min_height": null,
            "padding": null,
            "grid_auto_rows": null,
            "grid_gap": null,
            "max_width": null,
            "order": null,
            "_view_module_version": "1.2.0",
            "grid_template_areas": null,
            "object_position": null,
            "object_fit": null,
            "grid_auto_columns": null,
            "margin": null,
            "display": null,
            "left": null
          }
        },
        "b4f914dba6e54d84bcc8309e9fb378a1": {
          "model_module": "@jupyter-widgets/controls",
          "model_name": "VBoxModel",
          "state": {
            "_view_name": "VBoxView",
            "_dom_classes": [
              "widget-interact"
            ],
            "_model_name": "VBoxModel",
            "_view_module": "@jupyter-widgets/controls",
            "_model_module_version": "1.5.0",
            "_view_count": null,
            "_view_module_version": "1.5.0",
            "box_style": "",
            "layout": "IPY_MODEL_0acaa7a078cc4cf594c69406983a232e",
            "_model_module": "@jupyter-widgets/controls",
            "children": [
              "IPY_MODEL_800764af09f749218bdcc6ed588dde67",
              "IPY_MODEL_a305add5b4fd40f59e242029d10319eb",
              "IPY_MODEL_7f99372a57d04851ab8252414c44c595"
            ]
          }
        },
        "0acaa7a078cc4cf594c69406983a232e": {
          "model_module": "@jupyter-widgets/base",
          "model_name": "LayoutModel",
          "state": {
            "_view_name": "LayoutView",
            "grid_template_rows": null,
            "right": null,
            "justify_content": null,
            "_view_module": "@jupyter-widgets/base",
            "overflow": null,
            "_model_module_version": "1.2.0",
            "_view_count": null,
            "flex_flow": null,
            "width": null,
            "min_width": null,
            "border": null,
            "align_items": null,
            "bottom": null,
            "_model_module": "@jupyter-widgets/base",
            "top": null,
            "grid_column": null,
            "overflow_y": null,
            "overflow_x": null,
            "grid_auto_flow": null,
            "grid_area": null,
            "grid_template_columns": null,
            "flex": null,
            "_model_name": "LayoutModel",
            "justify_items": null,
            "grid_row": null,
            "max_height": null,
            "align_content": null,
            "visibility": null,
            "align_self": null,
            "height": null,
            "min_height": null,
            "padding": null,
            "grid_auto_rows": null,
            "grid_gap": null,
            "max_width": null,
            "order": null,
            "_view_module_version": "1.2.0",
            "grid_template_areas": null,
            "object_position": null,
            "object_fit": null,
            "grid_auto_columns": null,
            "margin": null,
            "display": null,
            "left": null
          }
        },
        "800764af09f749218bdcc6ed588dde67": {
          "model_module": "@jupyter-widgets/controls",
          "model_name": "DropdownModel",
          "state": {
            "_options_labels": [
              "20112012",
              "20122013",
              "20132014",
              "20142015",
              "20152016",
              "20162017",
              "20172018",
              "20182019"
            ],
            "_view_name": "DropdownView",
            "style": "IPY_MODEL_e54c8dbb659c4defb149cf3fb5611fa0",
            "_dom_classes": [],
            "description": "given_season",
            "_model_name": "DropdownModel",
            "index": 0,
            "_view_module": "@jupyter-widgets/controls",
            "_model_module_version": "1.5.0",
            "_view_count": null,
            "disabled": false,
            "_view_module_version": "1.5.0",
            "description_tooltip": null,
            "_model_module": "@jupyter-widgets/controls",
            "layout": "IPY_MODEL_b22d26c17d7148f982f1b1e03e5c3d20"
          }
        },
        "a305add5b4fd40f59e242029d10319eb": {
          "model_module": "@jupyter-widgets/controls",
          "model_name": "DropdownModel",
          "state": {
            "_options_labels": [
              "skaters",
              "goalies"
            ],
            "_view_name": "DropdownView",
            "style": "IPY_MODEL_677503b052aa4b5795ff01d70ab04416",
            "_dom_classes": [],
            "description": "player_type",
            "_model_name": "DropdownModel",
            "index": 0,
            "_view_module": "@jupyter-widgets/controls",
            "_model_module_version": "1.5.0",
            "_view_count": null,
            "disabled": false,
            "_view_module_version": "1.5.0",
            "description_tooltip": null,
            "_model_module": "@jupyter-widgets/controls",
            "layout": "IPY_MODEL_d02560b2a6584bb9b6f78c5c0c423cd1"
          }
        },
        "7f99372a57d04851ab8252414c44c595": {
          "model_module": "@jupyter-widgets/output",
          "model_name": "OutputModel",
          "state": {
            "_view_name": "OutputView",
            "msg_id": "",
            "_dom_classes": [],
            "_model_name": "OutputModel",
            "outputs": [
              {
                "output_type": "display_data",
                "metadata": {
                  "tags": [],
                  "needs_background": "light"
                },
                "image/png": "iVBORw0KGgoAAAANSUhEUgAABIYAAAKoCAYAAAACmfR8AAAABHNCSVQICAgIfAhkiAAAAAlwSFlzAAALEgAACxIB0t1+/AAAADh0RVh0U29mdHdhcmUAbWF0cGxvdGxpYiB2ZXJzaW9uMy4yLjIsIGh0dHA6Ly9tYXRwbG90bGliLm9yZy+WH4yJAAAgAElEQVR4nOzdd5wkZZ348c+3OkzeOJsjG9ggOYMgST0VFAEDBhRF9Dz9eaeH53lnwFOM6HknBowYEcVAOAUFWYQFZAnCEpa0u7A5zu7k6VDf3x9P9Ux1T3dP90z39OzO9/161Wumq5+uerq7qrrqW8/zfURVMcYYY4wxxhhjjDHjj1frChhjjDHGGGOMMcaY2rDAkDHGGGOMMcYYY8w4ZYEhY4wxxhhjjDHGmHHKAkPGGGOMMcYYY4wx45QFhowxxhhjjDHGGGPGKQsMGWOMMcYYY4wxxoxTFhgyZowSkQkicoaIvFtEPioinxCRD4nIxSJyiog01LqOpjpEZKOIaDCtqnV9xgIRuTb0mWit62PMSInIqtA2vbHW9TGmUkTkivDxWkQW1rpOB4Ocz/TaIcqO2nlEOfUyxoxdFhgyZgwRkSYR+YCI3Au0AXcCPwC+DHwW+B/gJ8BqoF1E7gvKT6lZpY0xVZPnAktFpFNEppW5nDNylnHVEOWvzSl/yTDrf0mZFzMVWW8l5KlLvikpIrtE5CkR+bmI/KOITKxVnc3oqtX+aYwxxlSaBYaMGSNE5N3ARuBq4GSG3j+jwElB+c0icqWItFS1kuOAiCzMOUG/otZ1MiZHE/DxWlfCAO443AosB94KfBvYEgQMojWtmamVA37/zBOouqTWdTLVY60XjTFggSFjak5EGkTk17iWQa05T/vAWuDPwHXA/wEPAx055RqA/wBuqG5tjTFjxPtFZHatK2HyagI+DfxJROpqXRlTE7Z/GmOMOaBYYMiYGgouGv4AvCHnqXXAO4EZqnqEqr5SVd+qqueq6rG4ANKrgB8CqdDr7CLEmPGhHvhErSsxznwUOCRnWgqcCvw78GJO+TNxLYjM+GP7pzHGmAOKBYaMqa2rgDNCjxXXBP1wVf2Jqu7O9yJVTajqbap6KfAS4Maq19SMGlVdqKoSTGfUuj5mzHqPJXUdVbtVdWPO9JyqrlbVLwErgN/lvOYSETmqBnU1tTdu909VvSL0GyaqurHWdRpvRvM8Iue7vqSa6zLGVI8FhoypERE5D/hgaJYC71LVL6pqqsDLBlHVZ1T19cDlZLceMsYcfG4O/R/DdVkyY4CqdgNvA54JzRbgH2tTI1MDtn8aY4w5IFlgyJgaEBEP+FrO7G+q6o+Hu0xV/Srw3hFVzBgz1v0QeD70+GIRWVaryphsqtoD/HfO7LNrURdTE7Z/GmOMOSDZiBnG1Mb5wKLQ4624HBUjoqrryykvIkcChwHTgTiwE9gA3KuqiZHWZ7SJyCzcSG3zcDkedgEPqOoTNa1YiIhMAV4KzMLlimoHfquqWyu8ngXA8bjvdhKwF9gM3K2q+0ew3EOAo4C5QAsuQXoXsAV3QfREOS3eKkVElgBHB/WSoD53V/pzHQNSwGeAnwSPI8Hji2pWI5PrjpzHi0UkoqrpSq1ARObguhEvwu3f4PbxF4H7RrKPjyYRmYQ7Hs7GHQ+7gO2497Cpwus6HlgSrCsGPK6qt1RyHdRo/xSRRcBKYAEwIajHXtzv+f1Ba7YDymien4jIcbiRBecAPbjfj1WqumcEy5yGq/9S3D4aAdpw53v3qequkdb7YBIEUI/Cfd/NwG7gBdzveE8FljszWG4K6AQ2Ac8C61RVR1Z7Yw4SqmqTTTaN8gSswnUdy0yfGcV1Z0Yw25RTh/DUAfwImFviMs/Ief0lZdTnipzXLixS9tpw2dD8Zbg8S8kC7+cp4Jwyv5NSpo2lvh9c/pEbgUSe5bw+ZxkbQ8+tKuOzjOK6rTxRpM5J4BbgiDKWK8C7gUdL+Ey6gFuBN1V4uy303b8cuKtAXdLAn4CVQyz7spzXvX8Y9XtdzjI+WaH3nbs9nYtr7ftkaJ6Py0tWzj56VTmfN2Xs0znLuSRnOdeOxnqrsc2VWhfcMTZ3W5yep9yq0PMbh1imB5yOS2b9/BD7YBo3kuWZJdT1ypzXvnoYn9OHcpZxcQmveWXw/lNF3scjwOvKqMeg7Sz43C4H1udZ/t8rsI3Uav+MAecAP8YFMYptDwngN8AxJbyfjUMsK9+0qoTPZWEZ+05Fz08KbRvB/Itzvqvc/eg6YF4Z6zkO+CrFf4Mz09+A88vc3so5loa/y3zf0SXD+K4VOGMk9crzfX+c/PtnZuoBfl7qNhTaP/4VeK6E97Mv2D9eMdLjgU02HeiTdSUzZpSJSCPuDmnYj0Zp3StxJ0FX4lpWFNKMO2l4RkTeNgpVGzYReQPwIO7CvFAryOXALSLy4VGrWEjwGWbqGKvSOpYBa3EXjiuLFI3iLigeEZF/LWG5jbhAzw+AI0qoSiPwD7iT+6oSkY/hLoBfVqCIB7wC914vLrKo63AXGxnvGUZ1wq9JU8V9WlV9snOXCPDZaq3PjAmX4AIp/0h2a9N8PFzA9C8i8lURiRQp+z1c4CJjONv+paH/9wE3FCooIi0iciNwGy7QVaxuRwE3isivghE8yyIik3Gtt76CG0FuVIzS/vlJXID/HbgWUMXEgAuAB0o55tfKaJ6fiEhcRH6Ca9m1okAxD9fS629B3YZa5lnAGuAjFP8NzjgB+K2I/EJEGkqr+cFDRE7BBW4+T/H9sx54K7BORN5SwnKn4YJuVwGLS6jKRNz+8YESyhpzULOuZMaMvpPI3vde0FEYsSNolv0XYErOUxuAx4Fe3AXHMbgTWXB3c34qIk2q+t1q17FcInIG7qI+83k+i2sd1AXMB04k+7P+qog8qKp3j2I1T8UFCTL12IJredMOzMB19xoRETkB+CP5v9sngnVNwZ2IZsp4wFUi0qCqnyuy+O/i7u6HteHeww7cHf8JuC4My3FN/qsuuCD4YmjW87jtOIHrLnJ06Lk48CMR6VbV3+QuS1U7ReQXwPuCWceIyFGq+vcS6zILeE1o1m2qurn0dzMsNwB/x108A5wnIser6poqr9cMbU7OYwWG3SUlkHsjrwe3b2/D7d8NuGPeEWTvgx/BtRLM21VZVTeKyJ9xwVyA14rINC2xm0tw7AkHjH+hBbp9iEgrLpCbO0rbHuBhXNeRJuBwsi8U3whMFJFXB0GXkqoG/IyBUT9TuIv2TbgLzaUlLme4qr1/5m4PHbjj305cN5lG3HFwJQPBtwjumN+lqt+pUD0qogbnJ9/EtRYCt3+swXW1juG2vyWhsrOAX4vI0Vq8C1vud5LAnY9sBvbj9svZuG2iMVTuLcF7GjLocbAQkdcCv8Lti2HrcMn7O3HnRyfiAoEAdcDPRSSqqj8tsFwBfkv27z+4c5W1uGOMjwsGLcZ9z3YtbExGrZss2WTTeJtwLSnCzVhvGIV1NjC4ufRzwNl5yi7CBRnCZXsp0vWIGnUlw/3IK/BX8jSTx+Ua+kvOa/5WYNkzgYW4QE64/NeD+fmmQU3Z87yfjuDv0+Rpqow76WnNmbcx9PpVQ3x+U3EnnuF13pjv+8JdGFyCu6sfbi5/WoFlH5az3B3AhUCkQPk4roXOd3F5ICq5Ded+922h7fisPOWXMbiL2V5gRoHlH51T9uoy6pa7T79+OO+xxP3j3NBz5+Y8d1sZ+6h1JSt/myupLrhBALKOtQXKrQqV2TjEMt+Dy73zBeDkIvvgJOBjuOB4Ztk+cGKRZZ+fU9/Ly/iMvpvz2qMKlBMG/66sxQVUJU/5lzG4O85/DFGXfMddHzfQw5Q85RdWYBup1f75OVz3m0/gAnODPsOg3ExcAD3czboHmF+g/Fzcb9tFudsEhX8HZ5bwuRT8rKny+UmebSNz3pDGtVaZlKf8OQz8xmSmol2Mca309gH/C5wFxAqUa8QdI3bnLP+NJWxv5RxLN4bKrsrzfHPoO7w/VHZzke96IVA/wnotZWD/zEw/AA7JU7YO1yWsL1S2Ezi0wLLPyVnus7jk/4X2jybgPOCXwK9HejywyaYDfap5BWyyabxNwNU5P1xXjsI6P5Hnx3JQzotQeQ93Nyf8mtVFyp+RU/aSMup2Rc5rFxYpe21OWQV+V+gELHhNA4NzchTMOROc+ITLXlHmZ537fhR3x3NqGcvYGHrtqiHKXpezrv8qYfmH55yYrSlQ7mM5yz61jPcw6ORxhNtwvu/+eQoEeoLXxHEtFMKv+VGR8g+EyrWV8h5wF7zhPAbbgGgF33fu9nRuzvP35TxfKMiXu4+WGxgqdmFYbLo8ZznXlrneSyq5HY1wmxuyLrg74E/lvO67BcquCpXZOMRyZwJ1ZdT9ZNwFc2b51xcpG8UlxM2UfarEdTThWitlXvdgkbLvy/lMbgMahlj+RLLzmvWQE0TPKZ97fFDgfVXeRmq1f84FvDLqeWHO8r80RPnc+gy57Q/xuSwsUraq5ycFtg2fIfLg4VrRhV/zwBDlpwDNZXxGh5IdHMp706rI+7h2iLIbQ2VXDVF2VajsxmHsB+XUK3efuLSE5b+c7HxkeYM4uK70mTJJ8gSbiqyjoucsNtl0IE6WY8iY0ZfbVLqqo8eISAx4f2iW4pKD7iz0GnXN9S/FXSxknBKM3DGW7MSdsCYLFVDXreFLObNPr2qtcqoAvFNHMLpJISKyGHhTaNYfVfVTQ1ZIdS3ZXUuOC/r755of+n+3qt5Tat1UtbfUsiNwqaruKFKHBC4HRzh/0EXByHD5hLsjTMJdTA3lTLLzGPxYR3dUtk/kPC7WLXAkvoLr1lHu9JUq1WfMEZF64Ke4LpVh14x02aq6XVX7yih/H667TMbrC+XpCbbXH4ZmLReR3Dx4+bwZNzJhxvfzFQpyHP1baNYOXOuIoiMNqRtZ7e24Yyi4oNt7S6hXxs2qOuLPfoSqsn+q6mYtvVsd6rrQ/jY0682VqMdI1fD85Huq+qtiBVT1NlwQI+NYEWkqUn6vqnaWWgFVfQY3Yl3GCSKysNTXH4hE5ExcOoWMb6vqD4Z6nareDvx3aNb5IjI/T9HwvL+r6oZS6zZK5yzGjGkWGDJm9E3OeVztYYXPJDs55a2qev9QL1LVDuDLObPfXsmKVcA1WtqwzH/IeXxkNSpTwF2q+lCVlv0+so/jnyzjtT8AwkMYnztE+QnDSQBbRfeo6qqhCqnqNrIvWOspHPC5DtcCIqOURLyX5jwe8iS3klT1Dtzd3oyXiUhuTihTGa0isjBnWiIip4jIv+G6w7wh5zU/r+L+P5QbQ//HGZzbJ2w4SajD23438IsC5f6B7ITZX1HV9gJlswRB7DtDs4Y6ToV9tYyyVTHG9s/w9rBARGbUqB5htTo/yX1tIeFzBw/X2raSbsx5fGKFlz/WhIOAKbIDY0P5Ruj/CPCqIcpPK2PZxhgsMGTMWKBDFxmR3JYg15Xx2kw3pULLqrVbSymkLhFwV2jWaJ4w3FTFZZ8Z+n9jORegwd2xcCLUfC0Eng79H6d6rVGGo+jd3hzX5zw+OV8hVe0i++L29KBVVl7BqEcXhGatUtVny6hXpeS2SrARyqojX6upZ4HVuFaJuSPrrAYuq2aFxGkRkdm5QSsGkvRm5LZk6qeqLwB/Cs16o4i0FCovIivI/j34VZFgz5k5jwuOWlZAeLCAY0sMUO/H5Z4bC0Zt/xQRT0QmisjcPNtDOqd4we1hFNXi/ORZVX2+xLLrch6Xfe4Q7KNNIjIrz3eSO0rpWPhOqumM0P/3FGvxm0tVXwReCM0a6pxlgYjYSGPGlMEysRsz+tpyHk+s8vqOzXn8t1JfqKo7RWQDA3d7jxKRiKrmnmDWylNllN2Py4kBbhSt0VLSyFblCoaRD4+88fwwmqGHu1jle+1vcRfDmVGOLheR03GtC25W1e1lrq+Syhnd5++4u5OZ37zcfSLsGtyQ4OAurC/FJZfO5+1kj6qStytNtanqahH5I/DqYNYJIvI6Va1kUPJdqnptuS8SkUtwo/KNJz3A/wCfKtbNdTiCblkvx43UdTzljQSY21o11zUM3IVvwo2SVGi0p9wWRcW2/fAFXCfuWnnhEHUJC3+GmZGdhuoi8qiqVvumS0mquX8GQbJzcK0gj8El9o0UfdGAobaH0VCL85NyzxvCSjp3CLpiXoTrNvUSXK7DUoyF76QqRORQsgNrLwzjnKUNNwIq5D9n+SXw4dDjq0Xk9bjfoD+qau75tzEmxAJDxoy+3B+mSVVeX/iHWHGJcsvxNAMnXjFcIGtvBepVCeV0wwtfXOTepaumkoZ9HoaZZF8AnM3QF0vFDMq7o6qbReQTZDe7Pz6YEJF1uFYRdwN3Bnf0Rkupd3xR1T4R2cRAi47pRcr+XUQeAE4IZr1TRD5Z4GIj3JWmDfhNqXWqgk8wcOEJ8FkRuXmsXBwfxNK449Ae4BHcvvALVa34MVJETsYFb4bbnWWoi9pbcHlbMl173kOewJCIxBkY6htcsurVRZY7N/R/MyM7ToE7Vg21jGodd4er4vuniJyDG8xi4TAXMZo3SAqpxfnJcM8bMusoKGhJdw1wWhnrCBsL30m1zM15/M5gGq585ywPiMi3gH8KzX55MPkishZ3zvJX3DlLwVxWxoxH1pXMmNG3NefxsiqvLxx46ionYWUg9yRqzNzRGsZ7qYWSk1GWqVAC5eFqzjdTVb+Cu0DMd7K9HBccuRZ39+8BEblUREbjpkNJOUpCwtvxUMHY8MXwbNyQ2llE5Hiyc1X9rJbJK1X1YdwIfRlHkJ2Y3Izcu1RVcqaoqk5V1UNV9c2qenWVgkKvwuXaGUmOk6LnfHmSUB8vIvnWdx7ZF/RDtZQblWNVjmodd4el0vuniLwbuJnhB4VgbFwD1OL8pCrnDSJyDC7oMNygEIyN76RaRus48EHgP8nOoQjusz0SFzT6JbBNRO4UkTeISG63W2PGpYP5AGTMWJWbWLFYtxZjChm1Vk/BqCGLgA/gLk4LBUCOx10kPiIi1Q54VtMvGToJdTldaUbLp8i+6Lki6HpkDmDBKHo/A8K5dTbictW8GndzYRJuuOX+oBWDcx6V4vsMnYQ6PC8B/GSIZVb6WHWgXsRVZP8UkaW4YbnDn8MTuC6vZwNLcC1P6nK2h9xcT6ZCglZ015EdmNqJS4B+Hq472RSgITe4PPq1rZlROQ6o83ncOcvHcCPL5Rsp1MPlPPo1cJeIzKpw/Yw54FhgyJjRdz/ZP1ILRWRBocIVsC/0f5OIlLvf5+ZAqnQfbTsODU9uq4Rf5WnNUNZUbGWqul9Vv6WqZ+EuQl+KG/L+NiB3GO3DgDtEpLVSbzaPcpvch7fjfQVL0Z+E+mehWa8JnzQGQxZfFHp+jao+VmZ9Kk5VH8cFtTKWk93lxxyY/gmYGnr8S2CZqn5KVW9V1WeC/TN3PyyYPLqQIAl1OKn/28PJnoPfqpeHnr9RVXcPsdjwsWrnSI9TpYxGOBZVcP/8GNl5pa4CDlfVL6jqX1T1eVXtUNVEzuvK3h5GwVg/PynVm4BDQ49XAUtV9XJVvUlVn1TVttxWpcUSvB+Ecs9ZvjzC48DCYitT1R2q+mVVPQUXsDsbuAK4i8GBotOAW8fYyKvGjDq7IDNmlAUXnffmzH5XFVcZzrUgQMFRlgoIn+wkyd8/P/dHtpyuRNXOsXSwyu0bX80gTBZV7VPVe1X1S6r6Kly3kg+SfeI3B/hoFatR8nYcnOzNC80qJa9AuDtZlOxcCG8kOzA1FloLZVxB9v74KREZzZxapvLOCf2/H3hPnov+fGYOc33hbX8KcH7o8bvIPncsZdsP729ThnHxfzC5gpHvn+Ht4RngYyXmKhru9lBNo3F+MhrC34kPvFMLj9IXNha/k2qp5TlLZxA0/YyqngHMwuX96gkVOwJ492jVyZixaDz/OBtTS1fnPH5P0AqhGnKHMD+x1BeKyDQGEjsC/F3zJ+HNPQEqJ9izsoyyo+GASNarbnSNZ0Kzjq1Vt6Hg7vQ3gdeT/fm9toqrPb6MskeRHazM3ScGUdVHyR4hJ3zCGO5K00V5QyxXlao+S3bXnkPITpJtDjxLQv/fE9xcKMVJw1zfLcCW0OP3gBsKneybGBuBP5ewvHD36Shu9KxxaaT7Z3CeEA4m/LmMvDzlbA+j9Ts4GucnoyG8jz6lpQ/EMNx9tNJG4/t+HPd7mVHyd11pqrpbVa8ELst5qprnLMaMeRYYMqY2fos7qc6YA3x+pAsVkUV5Zue2TnpzGYt8C9n9uO8rUC53BJjlpSxcRCYAJ5dRn9GQ2x2j1KGga+H20P8TgX+oVUUAVPVuYH1o1sIqrq6cxK2523yh7ThXuOXEUhE5XUSWkz389vWq2lFGXUbDf+Fyv2R8AqivUV3MyIW7y5SUdD1IpvrW4awsuLgOJ6E+S0QOAV4JzA/N/2GJLVVuz3k83pOij2T/zO06Ver20Eh2y6+hjNbv4Gicn4yGsvfRwNsqXZFhCn/fVfmuVTWJ68aV8RIReUk11lWG68l+7wtrVA9jxgQLDBlTA8GJ90dyZn9QRN4+3GWKyEfIM7QwLlnwttDj14jIkAmvRaSZwV2BfpavrKpuI7uZ8D+UOMrD/wMaSyg3mnKboo/lpt7fJftO3+fGQB/58ElxKd1dhutUETljqEJBbqBwC59eSh9W/pdkbw/vYWwmnc4S5In5XmjWHOD9NaqOGblwHpZDC5bKdjElBugLCCehFlyLufC2nwZ+VOKybib7N+ifgkDTuDTC/TM3P1qp28PllDei6Gj9Dlb9/GSUhL+XJaV0lxSR03HB1rEg/H23VrH18TU5j79UyxHB1I3EGG7FVM1zFmPGPAsMGVMjqvo73MgiGR7wExG5vJwfZRE5VER+jxv9YlBun+AuzXdy1vNTEZmaWza0TA934jo3NPt+VV1TpCqrQv/PZYi8ScFJ0aeKlakFVe0BNoVmvWysjuwUdHf6fWjW0bjvtqHUZYhzrohMz/PcJeUkRg/u/oWHcH+61NcO0w9EZEaR+sSAH5OddPWXWuJw4qraTfbFxoVk5xp6QlVreZe6mCvJzp/wulpVxIzY2tD/xwbHzoJE5ATgGyNZYdAV5o+hWZeRvQ3dqqqbS1xWL/DF0Kwm4BYRmV/gJXmJyFEiclw5rxnDhrV/BsekcKvMc4NRygoSkXOBT5ZZv/Vk50Kqyohmo3h+Um3hfXQaUPQmn4gswf22jJVRycK/1THg1GqsRFVvAh4OzToH+O8yz3mjIvJWERl0visi7w+6GJa6rFfj8qhlVPucxZgxzQJDxtTWR4C7Q48F+ArwmIi8vdDJkYjEReSVIvID3DC15w2xnq+Q/YO3Alid7wIjuJN7M9mjLiUY+o7mD3Mef0tE3pF7N0hEGkTko7jRrOIMMUJUjfw19P9i4AYReY2ILBORhaFpbqEFjKJ/JDuQ9UbgQRF5UzCE7iAi4onIESLyaWAd7vuekqfoJcBzIvJ7EXlbke3RCy4+biP7d6Wad3D34fJL3CMigy5aRGQZLv/JK0Kz24CPl7mecCu8BrITZo651kIZQSu+b9a6HhXQmrPPlTodTEntb8h5/BsRGRRICI6tHwbuwCVHH2q0sKGEt/0ZZA83Xe62fzXZgaaVwCMi8q8iUrAli4jMF5EPiMhdwCPAQREYGuH+Gd4e6oA/icigC3kRmSginwV+h7tpVPL2EIxwF86xdoaIfF9EzhaRpTn72khbE43G+Um15e6j3xGRd+UGPEQkJiLvAFbjAlsj3Ucr5a85j38sIpcGwdhDcr7vkXZLfhvZLYv/GbhbRF5VKEAUBINOEpEvARuAn5N/kJOPAS+KyM9F5PVSYNS3YHnvYHB+wFq2OjOm5soZOcgYU2Gq2hvcsfgp2f3/VwbzfBF5HNiOO4GYgBtN4VDyDz3bXWA9PSLyFuAvDCSGXgasEpHncUkB+3CJMI8j+y6WAv+iqn8f4r3cJiJ/YqBpdB2utcaVIvIg7u7oLFzCwUyLlvtwLY3KvVivtm/i8nNkPofXB1OuF6hxn3RV3Ski5+EuujKtZ1bi+s73iMgjuO2nB7f9zABegrtrX4ooLvB4HoCIbACexQVZ0ri7o0cFf8PWkN0irtI+hEviugT4S7Adr8WNTLOYwQlu08Blqrq9nJWo6mMicj+Dk4T24fbRsexLwPsYm8NUl+orwVSuz+BGgDoY/BD4MJBpGTIVuFFEXsDdfe/FdfU5kYGuuT24i+Vfj2C9/4dLQj0nZ/52XILqkqmqLyJvxQWPTwhmT8ENtf5lEVmLO562445NU3HHsVEbuagGhrt/XoVLWJ0J1C/EXVivw/2Wp3Hf2YkMBPN247qTXVvGer5Bdj61S8mfKPsu4IwylptlNM5Pqk1V/ygifwVeFsxqwO23nxeRNUAHbls+gYH36OO6aN40ytXN5w7gSQYGA1lA4eDvmWS3EC+Lqq4TkTfiunQ3B7NPxp3DdIjIw7jUBElc7qbZQb1K7SZfjzt/eyugIvIMLpjUFjw/C9e6Ojdf1+9V9eZhvSljDhIWGDKmxoIRZi4QkffiElCHW2V4uCE0jxhiMV0McQGlqo+IyMtwJ/ThJvyLKTxEbC/wPlX9SYHnc70Tl2g0nFBwLtlNvjPuA87FXeCPKap6n4hcDnwZGJPdyMKC7/Y4XDDolNBTDTmPC+kNplIcEkzFrAIuCPrvV4Wq/lRcV5TPBbOKbccJXFCo1NxCub7L4MDQ71V1zzCXNypUdbeI/A8uua05QKlqX9BC6C+4i5qMBcGUqxPXcnDdCNebDlql5nb5/fFw9m1V3Rf8Bl2NCzBkLvA9XBfUIwu9NrMIajccecUNd/9U1V0icj7ut3xC6Knl5M8rtQPXZaesAJSqXi8iJ+KCklU1Sucn1fYm3G9f+DuYSf6RrpLAe1X1Zqldip1+qqoi8mZcMLisLp7DXN+fROQkXOB6ReipFqBoV9lAOwM50IoRXJBx2RDlrie7m7gx45J1JTNmjFDV7+Lu/H0I14R7qNFekrgRPd4PzFXVzwT5B4qtYy3uR/iTwNYiRTtxrX2WlXPSFbTGOA134l8oid8W4D+A00vN9VILqvo1XNXsOEkAACAASURBVEDuK7jPeReDR2oZM1R1s6q+FJerYhVu+yimG7gV+CdglqpuzFPmMlzT7FVk58Mo5H5cboWzVLVtqMIjFQw3+2oKj0bj4wKVx4zw4uF6Bl+Qfi9fwTHoKgbulJoDlKquw7WC+xnZuV/COnGt6I5Q1VsrtOrv41qg9FeFEXShVNU+Vb0M18rwOoYewSmN+z38NLBYVXO7fhzohrV/BiNAHocLpBQ6V9iLa/16uKrmDgtf6no+gmt59E1cK9A9VClBb7XPT6pNVXfgWgR9g8K/lwlc177jVfXaUapaSVT1ceBw4AO47Woj7rOuylD2qvpEsL6LcdvWUIGefbjP7h24c5Z82+F5uNai9zP0OZCPayl1jqpeFHSfNGZck9JGGjXGjDYRmYi7EFiEa4IcwzVH3gs8DzwcJPUcyTqOwv0wT8Pl+9mFSzq5usCPbjnLbsY1Lz8E11x4O67eq4NR2UwViUgTrrXQPFwrtMz2sx3XkuDpcr5jcYmcV+K6bs3BfaeZO/gbcdtjWd20KklcAtajca3TBHdh8VdV3VKBZUeAzQyMzLMeWFLiUN3GVFSQ6+tluNZCDbgWIVuAu4e6OTCMdU3B7UuZbhyrVLViiYjFJZA9DtdNbiquG1kX7nfuaeBJVe2o1PoORiIyG3dDZi6uJ8B24EXgniC58wGpmucn1RbktjkN93vZjOvKtwW4dzRumhyIglxjp+BaRU7FNV5oxx1/ngKeLefcMciFdBjuO5iJ+x6SuHOW53DnLGP25qQxtWCBIWOMMaaIILF2OPfAJ4LWSsYc1ETkg2SPcPZ2Vf15repjjDHGmOqwwJAxxhhThIjcyMBw0ilggaoW6+pgzEFBRB5lIMfdXmDOSFuqGmOMMWbssRxDxhhjTAFBF7VzQ7NusqCQGQ9E5CyyBz641oJCxhhjzMHJAkPGGGNMYV8l+7fyG4UKGnOwEJE42aNcpoFv1ag6xhhjjKkyG67eGGOMAUSkFZegMopLmv4hslsL3aWqq2pQNWOqSkRmAvW4JNOH4kYjPCZU5Geq+nwt6maMMcaY6rMcQ8YYYwwgItcC7yzwdBI4NhhS2ZiDioisAk4v8PQ+YKWqbhu9GhljjDFmNFlXMmOMMaa4NHCZBYXMONQDvMmCQsYYY8zBzbqSGWOMMYOlgB3AXcDXVPWhGtfHmNGSALYAtwNfUdVna1wfY4wxxlTZmOpKNnVqqy6Yv6DW1TDGGGOMMcYYY4w5aDzy94d3q+q0fM+NqRZDC+Yv4K5Vq2tdDWOMMcYYY4wxxpiDxoRJDS8Ues5yDBljjDHGGGOMMcaMUxYYMsYYY4wxxhhjjBmnLDBkjDHGGGOMMcYYM05ZYMgYY4wxxhhjjDFmnLLAkDHGGGOMMcYYY8w4ZYEhY4wxxhhjjDHGmHHKAkPGGGOMMcYYY4wx45QFhowxxhhjjDHGGGPGKQsMGWOMMcYYY4wxxoxTFhgyxhhjjDHGGGOMGacsMGSMMcYYY4wxxhgzTllgyBhjjDHGGGOMMWacssCQMcYYY4wxxhhjzDhlgSFjjDHGGGOMMcaYccoCQ8YYY4wxxhhjjDHjlAWGjDHGGGOMMcYYY8YpCwwZY4wxxhhjjDHGjFMWGDLGGGOMMcYYY4wZpywwZIwxxhhjjDHGGDNOWWDIGGOMMcYYY4wxZpyywJAxxhhjjDHGGGPMOGWBIWOMMcYYY4wxxphxKlrrChhjjDHjnUiaSKQPxEdEAUUAMv8Hf11Zdf+pZF4NgOY8RiV4Rb55A48ZWBuqHr4fBfUGyhhjjDHGmIOaBYaMMeYA1NuXZH9HNx0d3fQmkqRTPmnfJ5VO46eVVDpNOu3mxaIRVh46jwnNDbR39tDe2UNHR7f7v6OH9s5uOjp7SCRT1Mdj1NXFiMdj1MdjxONR6upi1MWig+bX1wXPx2PUxWNEIuO9EarieUm8SBKRNEMFaAC8SJJotAcvkkDGUBxGVfD9KOpH8f1I6H83WYNjY4wxxpiDhwWGjDFmjNqxax/X37Sazdv2sHnrHjZv28Oetg7aO7rpS6RqXb1BotEI8ViUuiCY1NxYz4SWRlqaG5jY0siElgYmtDQyd+ZUFi2cweIFM5k7a+oBGFBSRNJ4kSQRL4kXSeBFknheckwFd0ZCRIlEkhBJ5n0+EzjKDRhpEESywJExxhhjzIHDAkPGGDOKduzaxz0PPMW9a57msadeIBqN0NhQR1NjHSsPncdpJ67g2CMWc+fqtXz40z9i777OWle5ZKlUmlQqTXdPX8mviceiLF8yhz9f/2mkZlEVH89LlRTQiMfbide1I54/OlUbozKBI89L4vsxSMcBSPsRrAuaMcYYY8yBxQJDxhgzAr7vs2PXfrbu2EtPb4JEIkVvX5J97Z3s3tvBnjY37d7TwQtbdvH8xu0Fl3XrnY/wtWtuoi4eHZMtgiqhsaGOFUvnsHLpPFYsncvKQ+ey4tC5OUEhdbl2UER8RHyQ4P/Mc6GcO/1EB4Uk0uk4qWQDAwEf37X0iSSIRPrwIgkikYHP2vcj+OlY0AIm5v7XCKiHqocCaT9GRPrGdOsgVSGZbET9zM98qDOb6KB5mdxC6kdRzXxWkpPLyM3LvNbzUqTTcax1kDHGGGPMgc0CQ8YYMwzf+/mf+eEv/8LmrbsrHsQ5UINCLugzl2lTJzBtygSmTmmhdUoLrVMmMHVyC/PnTmPBnFY8byBIE4t3IZLC83YjXhpP0oiXqmjQRRX8dBxEh+zu5XlpPC9ddFnqR0mn6oNgVbo/eDWWAkUiSjzeNazXDuQXCnILaQRVz+VP8lJBtzn3Gfm+RzLRQqJvAsVbCgVJtL3M5+X+euJnzQNxATjN/HVTJjDn+zFUI8N6X8YYY4wxJj8LDBljzDBc8JqTSKbS3LtmHfc99AwdnT21rlLNeJ5wxIoFHL5iAdFIhLq6GMcfuZiTj1tG65QJxV6JSJq6+vaq1k8EItFExZYlkRRe5MAM3pViqPxCGaqQTjWQTDS5nEteqj9wJJIeFASqROBMVejpnko61TjyhRljjDHGGMACQ8YYM8j6F3fwua/fwJZte0im0iSTKRLJFKlUmpOOXca7LzqLYw5fxD+981X80ztfRSqV5s57H+dr19zMQ489X+vqjzoRIRqN0Dq5hVNPXMFxRy6hoT4eej4ddNlyk2sRlGllo0WWbMYy34/hRRI0tWyr2veoKkHXvhjpdAw/HXc5jYwxZkxTxOsFSSBeEpEUSBKRJEgK9evRdDN+ugk0juVmM8bUmqiOnZPyY44+Vu9atbrW1TDGjDN9iSS/+8Pf+MF1d/Dshm0lJU8+cuVC3nL+aSxbPJt5s1uZPWMykYjHg48+z4OPPs9jT23k8XUv8uyGbfj+2DnOjlRzUz2HLZvP8qVzWLF0LiuWzuWwZfNobmoAsoNA/X+LdM0yBoLufn60P/Djp2Ok/ViQI8kumGorc/wa/D247n8a5KUaT7mmFHDdXpFU/8W++zwGyqhfh5+ahBfdj0S6EK8XkSSqcdSvc88nJ2P3aQ8GCpLAi3TiRTvd9y2l/fapH8NPN+OnJqDpFuyYZ4yplgmTGh5S1ePyPWe/RMaYcW31mnV85IofseHFnWW97tEnN/Lokxv7H0ciHnNmTmHe7FbmzJrC/NmtnHzsMqa1TmDOjKmIJ6jvE4lEaKiPEY/HiEUjRKMRYtEIkYjLm9LV3Utndy9dXb2sXfcCt9+9lrvue6LmXdXmzJzCBy55NW+94DQaG+qynhNJE4vvIxbvsiCQKcjlDRKXL4iBHELpVD3JRBPjK7AwdoikiET7BvI+eelBXQFB+oN1fjqGiBKN9uBFEv1dBF1uqojLSRX89f0o6XQcPx3j4Pt+I6jvAXEURbwEXnw7XjR7JEnV7Wi6CdUomm4J8nZFQWOoH8dOxQ9wksSL7iUSa0O84t1vCy7CSxLx2ojE2lA/Rjo5BT85Bds2jDGjyY44xphxq6c3wde/d0vZQaF80mmfF7fs5sUtuwc996ozjuJbX3wva596kQsv+wqplAueRKMRohGPSMT9nTSxiYXzptNQH+ehx55n157q5t4pxaIFM/jnS8/hwnNPJh7L95PhE411I+K7iz+ViiePNgeuQUmkcYnA+3oncvAFCmpJ+/M8AaTTdQxudeATi3VDMKKf4EajS6XqUPWIxbqIRHsL7LtKJJogQuFcXS43VQrIn3/LT0dJpepJ9E08CBKIS85fUL+OdGIGfroF8fpQPwYad12G/PraVNNUn8bwkzPwk9NccDC2m0isbdiLEy9JtG4HGt+Jn5qIn5yK+pZTzRhTfdaVzBgzrvm+z7W/WsWvb17Nw2s3UK1j4oqlc/nM5RfR1dPLr2++l7v/9lTNWwFlLFs8m5WHzmPq5BamTm5hyuRmWie3MK11IscfuYRIpNwLeHeRGon2Ud+wx4JEBnBBokTvRBIJ6yoxMj6xeOdAsm8vNSgYm0w2kEo2uE85yP8Ui3e6pOJ5pNNupL10qo60H4MgcBOJ9lBXv29EycNVhVSykWSiqUDAypiDiRKJbycSH3yTaLjSiemkEzMqtjxjzPhVrCuZBYaMMWPWH+54mKbGOiZPbGLSxGYmT2yiuakeqVKkYcfu/dy5ei3tHd2ICILwwuZd3PznNWzdMfw7gGFTJjXzvotfyTveeAbPbdzOv1/5U554elNFlp1LRJg1fRLz5rQyf840Dl00i0kTmqivj9NQF6e+Psai+TNYcsisCqxNkdCFqueliMa6rWuZASCditPT3eq60JgRi8U7qG+ozDEpH9+PuCBRuo50qg7fd9+biEImcTyKiA+iWV0EURn4qx4uEGTBIDOeKBLpwIt0IpFuxOsZ0Q2SZM98ND0xeJRCIj2I1wcoaBT146jfgLXCNMYMxXIMGWNGle/7dHb10tLcMKIgzu/+eD9/uutRenoHui/EohHmzp7KgrnTWDhvOgvnTXf/z53OgnnTaG7M32R/5+79JJIp4rEo9XUxmpvq8bzsk6gZrRO56LxT+x9f97u7ueZnfxp2/TOWLZ7N2y54GS89YTkzWiexedse/nr/kzz5zKaqBYUAVJWtO9pIpX0+/sELOOnYQwe95zKW1t9VRbx0VksFz0sF+UkqWn1zkEgmmujtmYIFByonmWgBoK6+rSr7neel8eLdxOgGXKufZKKJZLIJPx0POqIZY/ITND2BdHpC8NgPAkR9QaLy0ChlXtIFWHO4YGsE8NB0k1tqpJ1o/ea8Sa1VJRjprBE/3eS6n6mN4GiMKZ21GDLGVMztf32UG29bwx33rGX33nbq62IcMm86p520ktecdQwnHL2UaLS83BK9fUl+/pu7+Pr3/48du/YNWf7UE5bzpf98B0sXZbeC+cL//ob//t4t/Y+j0QhzZk7h1BOW8/KXHcnpJ63sH1kr48Utu/n+L27nhlvuZffejrLqHY9FOfcVx/HON55BKp3m6h/9kQcffb5m3cemTm7my598J699Rd6bBBDc/Q+3+skEgvJ1VTGmFOl0jO7OmVhQqDpEUsTincTjnYg3+OJyOFzXr4b+0eF8Pxa0GLLv0Jjq8EGCbp5BMCi79Y9PpG4bkdjespaqfpxk9xLgQM/pZYypFOtKZowZFRs27SSZTNHbl6Szs4emxnoOmT+dCS3DS5yoqjz17GZ27+0glUqTSqdJpXxSqTR793ey9skXeOypF3jq2c0kkgMJT+OxKJ/92Ft415vP6p+3a087F/+//+HhtevzruvsUw/nF9/6cN4WTslkirv/9hRbtu9lf0c37R3d7G/vZn9HN93dva5rVjA1NtQxc/okLnjNSbROmcCOXfu4/e7H2LxtD1u27WXL9j08+OjzWa2gqmnq5GZOPm45bzjnZM4+7XDq4vnuIPo0t2yt2IWlMRkuMFSJroqmOJdYOlbXUTCPUKl6uqeSSjblzHWjkPWPXual8YJRzHp7J+cpb4ypBPF6iNRtwov0DXrOXcJFQN0ogOG/EMVPN6LpltGusjFmDLPAkDGmajq7e7nptgf45e9Xs3HzTvbt76K3b+DCZNKEJmbNmMwVl7+ZM085rCp1SCRTPP3cFrbuaKNtfyf727vZ197FJW86kxnTJvWX60skWb1mHX+5Zy1bd7RxyLzpTGudQCwa5dBFs2lprscTQTyP1sktzJoxeUT12rR1Nz+74S66evo4ZP4Mli2ezdJFs4lGPL7/i9v5wS/uYF9710jffpYVS+Zw4Tkn85Jl83jJsnnMmDaphO58PtFoL14kgRdJEvGSeJH8IwsZUw4/HaWrc3atqzGOKJFIAi/SF/xN4nnJklr7qUIy0Uxf75S8z4ukaGjcTSSaGPS6TKsiPx3vb21kLYyMGak0XqwtyNcVJTcI5FoV2X5mjCmdBYaMMXklkynW/P059nd0E4l4eCJ4nkdnVy/bdraxdcdeGurr+PcPnl9wGbv3tvPAI8/x0GPP8/Da9Tzx9CZmTp/EkkNmsWThTJYcMovli2dzxMqFo/fGytDbl+Sqb/+evfs66elN0NuXpK8vSV8ixTGHH8Ll7z+vQCuboaVSaV77zi/w0GPPZ82fNKGJpYtmMWfmFP728LNs2znyJLKtUybwytOP5HP//taCeZbK4wcXlalgRCI/SDQ7kHQ2a94IRi0yBy9VobdnCqlkI3YBM7pcN7OuYASzwkng0+kYvT1T8NNxCn9HSiTaM2gkNNUIfjpOOh3DT8ctIGTMqFOQPsTrw4v0Il4vSBL161C/Icg71IB1JzPGgCWfNsaEdPf0cee9j/OHOx7mz3c9OmSLlQvPOano861TJvCas4/hNWcfU8lqjornNmzj+Rd2cOoJK6mvi1FXF6UuHmPihEbmzJw67OWqKvvau9i8dQ+vPuvoQYGhfe1drPn7c6wZYf0PXTSby9//Oo45fDHzZk+t8GhtHn66Dj8dCyWZdjmHCLqQIIoCkhmNCN+NWmRMQERpaNxDOtVBX+8k0ulKBC1NKSQYLcz3o0WTw/f1TMZP1w21NNKpRmyMQWPGAEkQie1GIl1BQuvBv7vq9aLpFD6+a3HkW3DeGFOcBYaMGQfSaZ9bVz3Cr266l1X3Pl5yfpuZ0ydx/qtPrFgdHl67nqbGOubMnMqElpGNWFYu3/ezRuTavrON113yhYJJpRctmMHLTzuC009+CS1BUupwC8t5c1qZOys7eLRtRxsX/eNX2bRtD51dvVV4F9nWv7iDq759E4lkilQqTTKV5qyXHsb/fPbSiizf8xLE6zqIxrot4GNKoiqk0/GgFUncDVceGr4cF0qsdTXHBd+P4SdiJBMTAJ9ItDfoMppJcuu+KwvWmeJ8N9y6lwhuCqSBNEga8EgnpoHGa13JcSLtRiWLtA/ZQldEkWgnXrQTIDgWR1CNkeo5BNcNTd33OOjnXXL+H+5opsaYA4l1JTPmINbR2cMvfnc33/v57by4ZVfRsvPnTOO4IxYxrXUiLc0NLF4wg9e+8njisSjptM8jj2/gxS27mDNrKvNmTWXGtElEIkOfLKgq37z2Vn543R1s3ranf/7pJ7+E67/zkREMn54tnfZZ99wWHnz0OdY8+hyPPrERoD8hdNu+To4+fBGf/PAbmTrZJWPcvbedex54irvue4KNm3bR3tlNe0cP7R3dtHf2kE4XT8Z82okr+dgHX88JRy3tf6+Xf+bHtHd205dIkUikSCST9PQm2Luvkz1tHbR3ZI9K1lAfp6mxnpbmepqb6mlpaqC5qZ6e3gTbdrSxbec+urrzB5maGus59ohFHHfkEk44agnHHL6ISROrkQTWJxrrIRbrIhLttS5jJi8/HSWRaCadarBRrIw5YLjuwJBpCZpGJIFEehCvG/GKH/P9dAOpnoXYveZKyXQNy9zAk/6/XnQfkdjIu56nkxMB8KKdQaCvSG0U1x3Nb0TTjfjpxiAQaMd3Yw5EVc0xJCLLgOtDsxYBnwImAZcBmavR/1DVPxRblgWGjKmc1WvW8ZmvXs9jT72A7w/s55GIx7SpE5gzcyrHHbGYE45ewglHL81K0pyxv72bK//3Bm7584ODWtZEoxFmz5jC3FlTmDt7KnNntXL8kYs57aSVxGPZJ4hPP7+FD33iBzzy+Ias+f/8nnP4jw9diIiQSKbo6UnQ2BAnFivtBPNdH76av9yzlngsSjKVortn6JZQC+ZOY80fvzxkOVWlo7OHG29bw3d/9ieefn5r3nLXfevDnPnSw0oOcCWSKdr2d1EXi9LcVE80OnS//47OHrbtbAsCRW0kk2mOOXwRy5fMKSk4V1k+kWgf0WhPVsuDgRYhgurAiSww6DEqIApo0BIp+Cu+Jb4+SPh+hFSygWSiGd+31gTG1IaCJBGvBy/Sg3g9IC5vnGv1U3r3X1VA46gfd/lrNI6m61G/CQsS5FKX6wc/+K0L8vHh/gfw002grguneD1IpAsv0oVEuocM1tSaqoemG0knpwajntn37yhIAvESiCTcx5J1/hM6P9IoqnFQu4liRteoJZ8WkQiwBTgReBfQqapXlfp6CwwZU3l9iSTrX9iB7yvTWycydXJzSUGM+x9+hg98/Lts2rpnyLJhE1saec3Zx/C6Vx6fFSRKpdJ869pb+fK3fp81tPxpJ65gX3sXTz+3tX9+PBblgT98idkz84+Ok/GvV1zLT39zV/9jEWGoY9rElkaevfebBZ/3fR8Ryermpqp87Zqb+dI3f5f3Nc1N9Ry+fAGnnricN557CgvnTS9ah/By9+7rZEvQ9ay7p4/unoT725tAfZ/Ghjo3NdbR0tzAMYcvGhR4O+hImkgkQSQYWckNkT12Wrea0iUTjfT2tNa6GsaMA66liUtA3BMEG3qCgESJS+gP/tQFU9wFgPw6UEssPkAZCKwNBNlcACiNF23Hi+bvpp61FD8atNA6cH/f/FQzqd5Dal2NmvNiu4jEt5fdolrV69/X0LqBwKtfhyUMN9UwmoGhVwKfVtWXisgVWGDImANOKpXma9+9ma9dc1NWS6PhmNjSyIqlc2lqrOsPcGzetofVa9YVfV19XYzffP/fOP6oJUXL7di1j+7eBE0NdTQ11tNQH2PxyR8o2PUK4D//+UL++T3n9j/e397NzX9ew+PrXuTxpzfxxNObmDFtIhe/4XQuOu/U/m5nz2/czsmv/XhJ73vShCbq6mLUB1NzUz0tzQ20NDUwoaWB9o4eNm7eycZNu+jo7Bl6gTnLfu0rjuMt55/GcUcuLuu1By7F81I0NO6y1kQHGPU9OjvmYBeUxlSa71qXeF14ke6gpUlpQaCBi9HsyXURsnwyg2kQaOsMWvV0HdDBnEpRhXRiNn5y+IN1HAwk0km0fkPFu9m7oNsCMvukRDrwIh2oRoIWR9Egb1Q0CNxaIMkMbTQDQz8EHlbVq4PA0CVAO/Ag8K+qWrRjrAWGjKm99o5uHl67gU1bd/Pill1s2b4XzxPisaib4jHq4lFisSh18SjxWIx4PMq+/V088cwmnnj6RTa8uLPk9WUCRk2NLrgzZVITn/noWzh8+fxh1f9dH76aZ9dvY8OLO0im0sSiESZOaGJCSwML507nJ9/4UH+Lm42bdvK2D3ydZzdsy7us1ikt/Pq7H+Uly+YBg1so1VJ9XYz7b/nikK2qDibxun3E4l1Fh942Y0My2UCibwLqR9xJrAWGjKkIL7YbL7rPBSpK3K1cnphG/NQE/FRL0IXJ9sl8MhffA92dk2UF3Q5mbjuqQ/0m/FQzmm7CcksBknStxCL7g6DhyBfppxuD3F0DwR6JtONFOoL8X4P3f5dgPIb6UVRj+KlJaLoZ29dN2KgEhkQkDmwFXqKqO0RkBrAb197ys8AsVX13nte9F3gvwLx58459Yu0zFamPMab67v7bk1x7/Z088viGrMTS4HIZLVk4k+VL5rB8yVyWL53D/NmtNDXV09RY71oR1ccrlnw6VyqVJpFM0VAfLzj6WSKZ4omnX+Thx9bz0Nr1bN2+l86uXjq7e+no7OGC15zEJ/7lDdTFYwB0dvXw1/ufYvO23WzauofN2/aweeseNm/bzZ62zqq8j1zTWyeybPEc3nr+qf3JwccXxYskiEZ7iNcNPTKLqZ1Usp7eninubqYxpiK86F6i9VuGLKcqaLrZBYPSLUGLAlOQ9BKt29Y/ipcB9WOo34CfbkTTDajfgLVKGYIk8SLteNH9IH5OF7Fw0u7Q9XdW6zP3vwu6FTs/9l1ieK8n6NKYGS3Qd99ZaqLt8yav0QoMnQd8QFVfmee5hcAtqnpYsWVYiyFjyrdh007Wb9xOV3cfXd29dHX30d0T/B/87e5JMHVyC4vmz2DRghkcsmAGkyY0EgtaAcWikWENHf/M+q384Y6HiUQ8opEIkYgwdXILK5bOZfHCmf0BlfGgq7uPbTv2smdfJ3vbOmjb38metk6SyRSe5+GJIJ7geYInHk1BzqD+kcia3d+W5gaaGuvo7Opl5+797Ny9n87uXubPbuWQ+dNpbmqo9VsdMyKRXhqadlmT/jHCnU5kkmu6v6oR+nomWwJqY0ZEkUgHkVgbEukoeMxTFfzUJPzUhKClgHULK02aaMMGvEh5XbsPRn66CT85GT/dbIEFYw5CxQJDlbyN9xbguswDEZmlqpn+GecDj1dwXcaYwPSpE/nJr1fxnZ/cNuTw6sVEoxHisQjRaIQlC2fxipcdySvPOIrDls0rGDQ6dNFsDl00e9jrHGu272xj1X1PsGr147y4dTfRSIRo1CMajQT/R5g2ZQLz5rQyf04r82a3Mn/uNKZPnUBTYx1LDplF8axIpauLx/qDbCa/dLqe7s4ZNDTtsu5lY0QqVU8q0UQq1YA1XzdmJFxeGy+6Dy+2b8iRqvx0A6neuaD1o1S/g4XrMpbqnUckvoNIbH+tK1QzLqifxovuRyLdQSuXetSvD42elUYiPUGLFjvGG3MwqUiLIRFpAl4EFqnq/mDe8He+zQAAIABJREFUT4GjcEfcjcD7QoGivKzFkDHDd/Of1nDpv36r4stdsXQub7/wZbzh3JOZPLG54ssP27xtD+ue3UxvIklfX5K0rxx7+CIWL5xZ0uvXv7Cda3+1iptue4CZ0yezYukcViydSywWpW1fJ237u9i3v4v97V3857+8gWWL5wBudLDv/ORPfOZr15eVcLupsZ7L3/863vu2VxDL6dKlqmzauoetO/ayY+c+tu/ax7adbWzfuQ/PE/7roxfROmXCoGXuaevg2fXbeGb9Vp5ZvxVB+PD7XsuUSe6z//NfH+W6399DMpnqT7rdGORnamqsY/aMyZx96hFMmthU8vs40ImkaGjaRSSSrHVVTKCneyqp5PjZBo2pNJfsuJ1IbB/iJQqWUxXSiRn4yVbG84W6y7vUjXhJkCQiSZA0A5+JBEOHZyY/NKqYGYrLXxPt3xbTiemkEzOCEfB6QVLBZ55CRIPyHhBx/+MFiZKDeelGymnRJl43XqwtSLqcm3xZsrqVqx9l7OU+SuHF2vCi7UGQNxV0+6oPuny2BF31rJWfqa6qtxhS1S5gas68iyuxbGPM0G66bQ3/8ukfVnSZdfEoxx25hCNfspApk5pZ8/fn2LajjdapEzh8+QLmzZ46rO5nYarKth1t7NrTzsJ507jvwae5+kd/5KlnN/eX8Tzh6isv4w3nnlx0Wb/5v/v4wH98rz+ws3VHGw+vXZ+37DkvPzar7n+9/0k+fdUvy6r7Ba8+kSsufzMzp0/Omt+2v5MbbrmPn95wF+ueG5wHYsXSuVz3rQ/3B4X2tHVw1bdv5MlnNvPshq3s3jt4iNtf3byaT/zLG3nbBafRtr+LO1c/XnTktWg0wkuPX845Lz+WV595NDOmTSrrvR1oVKOu5VDjbqKxwp+LqZxUsh7fH+hmoOrh+xHUj+L7UcsrZMyI+EFrof1Fg0J+qolU35wgmfT45kX3FRgiPpzLZdSqc9AR8UEGtsVIfKcL1gwzJ1Oqb1YQzCxx/V4Pkdjeksqquhw9fmoifnpC7bvESZJIbA9ICvVjIB5IBDSNiI9E25FIO2gdqd752IZqaqWio5KNlLUYMqY8qsoXvvFbvv69WyqyvPlzWjn71CM4+bhDicdiPPbkRtY8+hwPPbae7p6+/nKTJzZxw/c+yuErFtDR2cPGzbvYuGknHZ3dvOJlRzFtanZLmI7OHv7wl4c58eilLJw3HXCJn1950X/x5DOb+svNmDaJk45ZyvIlc7j/oWd4ev1WvvPF93HK8cvz1reruw8R+hNMP7x2PR///M945PENBd/jxReezj9fdi7z5wyckNzzwFNccOmXi342E1saOXTxbJYtns2F55zMS/PUad1zWzj3HVfS3lE4T8HCedO59usfZOWh89iwaSdvef/XWP/CjqLrzjjm8EV86T8vZv7cVr7/i9v53s9uZ197F54nzJ4xhemtE/F9n2QqTTLpkm+nUmmuvvI9BT/Dg4tSV99GvM6Sh1abKiQTzST6JgajjhljRkwSRGJ78GJtRbuOqR8lnZiJn5rEmLmIlF68aIdLhosLEqMxVGNB644YFByh0AdJBhfww2sxEanbTCRWdPBjM4aoSrA9eEErIsG1KpJgXuaxe84FSruGsR7QdPaw77WhwTYeCeoxRvZbM+6M2nD1I2WBIWPK87VrbuKLV/9uRMs45bhlvOrMoznzlMN4+PH1fOfHt7Hu+a0UOzYcsWIBsViEjZt2DhqNKxLxOPOUw3jja0/hyJUL+MkNd/HTG+6io9MFS44/aglf+PjbOGLlQu5ds47zL/1y3nVNndzM5z72Vi48p3BLoW/88A989r9/TTQaYWJLAxNaGmluqufJZzYPmW9p6SGzOOvUw/nQpefQOqWFd3/km/zf7Q8NKrdowQyuvvIyjj1iUdEWUjt37+fVb/ssm7buKVgmo7Ehzr9c9lqu+eltZY9mJiI8serrtE6ZQDKZYuee/UyfOpFoNML9Dz3DD667g52793P8UUs44eilHHfkYqZObilrHQe6SLSHhsZdNmJZhaVTcXyNEIkk+nM6qQo93a2kU5YU3ZiRijU+PUS3MfBTU0j3zWQsjQ4lXi/RhueGHAhAVUh2LWdQhwVJEmtch6abSPUuZDgX8F5sN9G6ohkrzDiWTkwlnRjtnJiKRDoHhrLv/90EyHSHiwTd4TJ/o0HwKBLqMhexgJKpGAsMGXMQ+vaPbyu7+1PYYcvn818fvYhTT1jB5m17uPQj3yza0qaSZk6fxJ+u+xQzp0/m01f9km//+La85Sa2NHLPTZ9nRuvEgst6YfMubr3zEf74l4e5/+FnysoRBPD4nV9neutE9u7r5IwLP8n2nfv6n7vkzWfy6Y+8mabGoZvpv/kfv8qdq6ufY3/W9MmsvvnzbHjRjUb3/AvbWf/iDv7++EaeWb8172uWLJzJ8Uct4bQTV/KqM486qEc2Ey/5/9l77zDLqjJt/15r7b1PqlzVVZ3pbrqbpglNzjQgAoIOiGAARRl1HEGdcRzUz/Ap488484E5M6ijIiaYQUUEQQSGIDmnzjlUVVc6ce+11u+Pc7q6qiudytVV676uvrrqnB1WnTq1z9rPet/nIZHcjVLRZA9lWmGMIixUYLSP1sWEMaUKSFXA6IAoSk7yCB2OA5mioa8X21L0yBloq7AWnZ9qgQQGL7EWqcpr4w2zC7G672d68RgZovxsTDir9KhFyDxCpkuvS9EoGmG6vy5Gc1eBDVDBDlTQPEY/l2O6YC0lH65ZTKSwImQGL7F2zBaprKVkAt5XSNr3vY/VlTgByTEQThhyOKYZTz+/gfde8x02btk97H2TiYAvfuLtvPXC01BK8sIrm7nsqq+yfdfElmAfffhibv7eR/j453/Kf9/xtwG3u/Dc47nhuqvLOmbLnk7uuu9p/njPk9z74HNkcwOvvEJRZHn67uu7v//rw89z30MvMKu+ijlNtZx0zPKy/Xk+cu2P+Nlv7ytr29EgpRi2+NWTeMznnNWruPiCEznvjKP6mGYfyCiVI5FsRkhnJjreGO1RKFQSFipwE1CHY+RIf2fRr6WMPyOjY0TZ5eM/qHIRBbzYdqTXUdbmRdGnp0l2MQFL+nuQKgNAmFkGIo/y9yBUZsg0tr0YHcPqKoTMlz0ex8zARKmSd89Q852Sj5KNMVafa5NRyWaiCqL8/Mn3VnJMSZwwNAlIf3d30kEx7jGBNWN3oXE4AHY2t/PoU6/ytyfX8OhTa3jmhQ2E0eCTqIMXzeah330JgCjSfOmbt/Dkc+tYs2FHr2qZiSCVjA9qoryX3//0k5xw1LJhHbu1rYuv/uB33PiLu3u9JslEwLFHLuXEY5Zx5imHccJRy2ht6+LzX/t1v8LOaSes4H3vOJdzVq9CqYHL2++672ne/oGvDWuMk82Pv/YhzjvzKHbs3sPmbS1s3trMrpZ2Ln39yQegYbXF8zN4fgalCpiSCbIQBs/LurayEWItg752xkjCfBWFgluhdDhGglBdeLFtIApDtmIBhNmDJr8iQBRQwW6kt6esMVsriHILuiuFhMwi/eaiuXaP/Y1OEWWXjHmlhcNR9OWag4mq6f9vx+LFNyG9DqzxMd1JYSmEiEDkETJXrGATEdYGWBMrpoqZGFgfIXNIbw+IqEdqmocKdg/aIjouP69VmLCu9DMkB/iZHeWhETLEmvhkD2RMcMLQJOCnnu8TgWmNhw4bMWH9AHtND7qikMfbWnl0TwvN+TyNsTizYjFmxeIcUlHF4tT4Rp7PZLK5Ap+7/lf85y/uBoqmzCuXz2fl8gUcdshCDjtkASuXzaeyov9Woq50lhdf3cqzL23ilbVbeXX9dl5eu41dze0T+WP0YThVQ/vT2ZVlx642mls7iMd9Dj9kYa8qmaef38DbrrpuSK+fQ5fO40df/xBLFjb1+3wuH/LjX96DtRBpze13P8Hjz6wd0ZgnilQyTr4QEu0nJlZWJPjEB9/E37/tNYOKYQcKQmg8P4MfdLlI+2EShQmiMEEQ60AO0p6XSTegXTuZA9iXArX/jYhFCI2QGln63xgPHcVwEc2w15y22DqVQwU7BhRGrAnQYT0mrGVCvYZEvocgNLxdTVSBLswuRXIbVLAT6Tf3jhm3CqsTWBNHqE6kyg94PIdjJJioAh3WYXWKfRVEFhXbOirzcmtFWSLpZGCtKgpEuhITVTL8a8ZA1/TpjfT2FMVr1YWJatH5eZM9pDHBCUOTgPR3ss9hX5UU5TjT5Y+qYAwb0l2sSXfSWiiQ8hRxqXi1q5MXO9sZrJHj1PpZrK5v5LG2VvJa40uJLyWBlBxXU09TfHoospPJQ4+9zKz6KhYvbCr7xn53Swf/+LHv8tDjrwxp3DzRCCE49fhDeO3qVZy7ehUHL5o9qBH0cPivX9/LNZ/7SVnb1lSluPGrH+C0Ew4dcJtf/e5BvvzNW9iyfWgT6qnOiqXzOPX4FcU0tiVzOWTpvAPIyNriB12ARQDGymJKjrB4Xg7PTyNdy9mQWAvpzrlYq/C8LEG8vV9xTUcBmXQT0+UzzjESDEGskyDWgRC2ZLAqwAosxbjr/i7b1oIxPjqKoaM4WgfFlfYZjvR3l1qiTGmh0XR76+y9AbVWYsI6dKGRiRCIvPjGUbVpWRMQZpaz9zohZBYV24pUAyd5OhzjgbUU7810BQiD8lsne0gTQvHnTpaEsb1+XftfY0yphbP4ffF6LnoYYReroayJYcI6hm7ROzCR/i6EzAMSq1OlFMgDHycMOUaMtZa2MKQ1zNNaKLAxk2ZNVyebsmn0OLx35seTNMXj1PoBtUFApeeT1hHtYUhOa2bFYjTF4jTFE9QHMdQ0rjO21nLTrfczp7GW41YdTFXl+K/G7/XoMcYQRYZIG6QUJOIBiVhAIhEQj/kk4jFy+QJbtrewZVsLW7a3sG7jTp58bh35wvib/i5a0Mg5q4/kjJMP45TjDhmVmfI3bvgDn//6b8re3vMUX/rE23nXW87q9/lCGPH7ux7jV7c9yNYdLexqbmdP+/AjVqcqDXWVLF8yl1WHLeLv3/oaFi1onOwh9Usxtr6z3+eKEyMPISPXqjAA1grCQopCoRJrevoUWDwvi1QFrPEwVmGNwljVHSvsmGlYfD9NEG/vTqsbLUUPq4qSh5WrJuqLpfsmznpM1N+dkGm8xLpRXTf3N58Wqh0/sWkMRudwOCYaa2XJ2LthsofiKBMnDDmGjbGWx9ta+dPObWzOZiZ7OP2ihGBWEKM+iBFXirhSxKQiLiVxpZgVizM3XhQMWgp5Wgp52sKQhiDGwmSKOfHEpApLXZkc6zbsYE3pX1t7mqvedR4L5hYvrnff/wyXXf1VoFip8qH3XMB7LjubZCLW5zgPP/Yyr129aszGprVh07Zm1q7fzpYdrWzb0cq2na1s37mHMNTEYj7xmE/ge+xp72LD5t1s29k6KlPkkaKU5OjDF7P6pMN43VlHcdRhi/vdLpcP+eX/PMCSg5o4/qhlxGPFm92f33Ifn/ryz8lky+//XrZ4Dr/8/r8yf055baGFMGJ3Sztbd7SyftMu1m/axYbNxX/rN+0clXCklORtF53Ktp17JiQVrSdSCi467wS++Im3T7lKoorKLc6EehRo7WPN3gqEYsUHVuz73gpAoKMYUZTACULTFYNUIUoViil0MgRhS1VAxWogIaOyUgCttRgj0QYsFikEShYXH3qSz1VRyFfhBKGpiQq2jyr5K8ot2LfyLnL4ybV9rBccDseBw2SlJQqZLZmF7/NzKn5uuPnIYDhhyDEsCkbzhZeeY0e+vOjRAxVfCOYnksyOJ2goCUxi4x4OmjeLplnVSDnySWm+EBL4Xq92pzCMePSpNdx1/zP8+b6neXlt32jxRDzg0jeczJPPree5l/quoM1urOGa91/EZW88jTDS/OiX9/CtG2+nsiLJ327/Svd26UyeL3z9N+xuaSeVjJNKxli+ZC5nnXoEC+cNreqnM3m+/M1b+MHP72IqXSOG4j2Xnc2XPvmOXo9Fkeae/32Wz/zHzazbuBMovs4nHbucc1ev4sLzTiCZiPGne5/kt394mLvue3rQc7zjktV89Ko3jvo9AnDtdb/kpVe3kkoGxGIBsZhPKhEnmQgIfEU8HiClpKMjQ3tnhjDS1FanqKlOUVddQU11ikOWzuv2PXp13XYeePRF2jsybNq6m1/+z/8OaUY+FqxcvoDf3vDRKSUOJSu2D+onZLRHFCXQ2ieRnBkl5GOFjgLCMEkUJl3LzzREykLRj8vLI2U46qo6Y6Cgo5Jpa+/rkbUSdBLfE70EoiiMk8/VYowsplZ57VjrY6KaUguEm/iXjy16Aqk0WL/UAuKXbqb8HjdT5SH9lqJZ9ggJM0tLPkMaP7lmwk15HQ7H2FIUhmbTf0uZhu7rvmWfX5EHVjHSa3mxenFDXz/f7pY3b9//QLE9bu/5S+FQNug2D7cmPqHVl5OJE4YcZVMwmt9v38qfdk1stOJU4dZ3fg+AWOAxf24DC+c1sHL5As474yiOP2rpgH49YRhx/yMvcv/fXuSBR17kmRc34ilJXW0l9bWV1FQlee7lTXR0jk0f/eKFjXSlc+xu2dfr/38+eDGbtzWzYfNuXl67lebW/ttolhzUxFmnHM4pxx3CsiVzWbywkVjQf6Tl48+s5SOf/REvrtkKFAWVoSLgJwopBe97x7lcfP4JVCQTpJIxamsqSMSD7m3uuu9pPvq5n7Bt58CGgtWVST77r2/h8otPR0rJo0+t4dNfuYknn1s/6Pl9TzGnqZbZjbX88D+uYk5TLVBcFS/X/+jCd32Jh594ZdBtjj9qKW+98FQuOu8EqquG1064dsMOPv2Vm7j7gWeHtd9IOHTZfH57w0dpqKsa93OVgxAapfIoL4fycmBl0cdEB+gojjHFCYAfdBJPjNxwciZgLWgdIwqTRGHCiUHTEovycgSxDjyvf8NfYyzGSjw1vHljLtRINXBVpNWVxPziNdNagdYKYy2WPFZk+hi6WlMUiExUjTUBboV4CEQeL755UB8fa1TxJkknMTpVTDHqN+raIv0WhCiA0EjVhZDlt49bC2H6MIq/M42feslVCzkc0wRrYhhdnKcWTfT7Lgb02r5bxNkrVIvi9sIAGiEM1ip0oRGrq+h9ndfF65rX/73OiMZvZS+hyESVYGND73iA4YShSUEzoUkRI8BYi7EWbS3rM1083NrMk22t5MzM/ZDeKwz1R11NBeesXsU5q1exeGEjs+qrSCXj/Pr3D/HtH93O5m0HptmwlIKD5s9i+ZK5LF08h6WLZrNoQSML5jYwt6kWYy0vr93GwrkNVFUm2Lm7jadf2MjTL2zgngee5Yln14343LPqq0qJaQtYtngO1VVJKpIJksmAnbvaeGXddl5dv50167ezZsMOMtm+Nyw//tqHuODsYwY8R2tbF3f85Ql+d+djtHdmOGj+LGKBzxPPruOlkuDleYpvfv49XPL6kwEwxvDlb93K1374+7J+jof/8GWWLGziyefW8ckv3URDXSWf+udLWbF08ASDs9/yWZ59sTxvhVjg8avvX8PJxx1S1vZQFCzvuu8ZPv2Vm8bNDDuZiHHiMcs49fgVvOGc4wZMbZuaGJIVO11SWT9YI4mieLGqKooXDScd0xCL52cIYh39/h2EkSYXpbEWfBVDeXmMTuIJH88bfP5oDIQRiEHMiq2VCF2JxWJFAUR22BVK/a4QWw9rAoyuHEDgmGlYpNeOCraXLeRYE2CiKkxUNWDctVCdeLFtZVf9WKMIM4ewd35crGTKIESEkFmEdNdih8PRF6Pj6EITVley71qk8eKbkN7gqcKjwZpY6TpY4+LqJ5rpJAz5qRewOo7RxQ9VbDD0TuOMsZbfbN3EX5t3oq1l6vzmpw6DCUMzEaUks2fVYIylvTON1obXnXU0b7voNM485XCstXz8Cz/lZ7+9j4pUnIpknMqKBBWp4v9VFQmqKhNUViS7v66qSNLUWMPK5fN5dd12du5uI5cPyWYL7G5pZ9O2ZjylOGf1Ks469XAqK4o+UdZa0tk8u1s6aG7poLm1gyjSvOGc44aVUBaGEdpY4jGftvY0Tzy7joXzGli6eE6v7d71z9/kj/c8UdYx//DTT3HTrfdx060PdLfeSSl464Wn8m/XvI2a6lSffbbv3MPqiz9Ne2f5Hl7/ed3V/N25x5e9vdaGDZt38fLabby8disvr9nKS2u3sWb9dgrh6EzCG+oq+cj7LuSKN58xYMXZVEUIjfJy+EHXgNURMxGt/WI8fZTA6ABXhTGdMfhBF0Gss9sw2hjTpz22K5+mwJbu74VNEYi6UtWQ2PsgYEqiTIDEw2JBdg1ZDWJ0vOgTMY4YnShFNVeNIh12guKaRYhUaYRKI2QGEOj8HKzp+xmy//iEzCC9ToTqBOsXb6LM3mAGXYqHbxlRa6A1Xvd8ttjK1/N9UmxVU7HtZVX/WKOKZrVRHfveQyF+8tVBqwscDofD6ARWVxQFZdm3onS80GGdi6ufaKaXMPR8rw/I4sSkqjQxiTEZE+5XOjv47bZNbMpkME4W6oMAbnHCUFkoJbn8jafzuY9dRjIRYK0dlt9OZ1eWKz/8Le5/5IVBt6tIxfnQuy/gfe84l1RydOWcDz76Etde90tefHULxlgOX7GQ41YdzLFHHszpJ65kVv2+Fqh1G3dw8t99smx/pVjg9ZvGVpGK88w9X6Ui2XuVIZ3Jc+GVXyy7WqimKsV1117J353T73V8UPYaibe1d7Fq5SKklGSyef7y4HPcfvcT3HnvU8MSp/anoa6S1ScdxlmnHs6ZpxxOU0P10DtNAkJoglh7sbWsDKPc6Yi1YK3CGK+YJGa87mQxo33XIjYDECIiiHXiB129JtS5MCJj1pY8H3yEDRB4GJEF0Y9wY8GjEV8lUGrk7cVGx0HkJ6ydyBofoytLQtFwEs9sUVjx2rDWL3n0+CWPCr84rxtJy4EodAtBUqV7Vd6YqJIoP7d7YVHILNJvRoiIYsx0cVxFUaj/11CH1ViTRAW7xkx0sVZiospiK5+uAAQqtn3Ycd8mqiLKHQSAim1B+a6l1+FwTE2cMDQJTGdhqCdGxzBRLSaqLRldTSwFo9mQTvNMRxsPtOwiq90KDThhqBwa6qp4/xXncvmbTi/bSyaXD3n+5U3s3N3OuWeswvOKJeSdXVl+9bsH+daNt7N1x+ATyqZZNbzxvBNIZ3PsaU+jI81xq5Zy6gkrWLVyUfcxB+ORJ1/l7975xX6f+/8+dhmXvP4krvncTwDYtLW5X/Pv4XLFpWdw3Wev7PVYIYz4h2u+W3Y1EsCpx6/gP6//AHU1FcM6/w0//zPXXvfL7uqgOY21XHPVRVxx6Rnd24RhxL0PPc+HP3NjL8+qkXLYIQs49siDWbSgkUULZrF4QROLFjSOWtgbHYZkahfKmxr+WOOJtRBFCaJCquSjtPdxWWoHc1VAMxEpC0X/ID/TXTGSKeTRpvg3EdkOrBxZOb6y1QSyZsR/X9YKrI5jiZCjEJlGdt7KkshRQzkikfR348V29HMs0Pn5xXndwGfsIQRl+ghB/R0Tq0qCrUCqqRcIsreNb7gtYNZClF3SoxIqwkusn5I/o8PhcDhhaBKYKcLQXqwFq6vQYe1+PZMTR05rHmzZze93bCWtZ+Yq+l6cMFQ+VZUJ5s2uZ8HcehobqskXIjLZfPe/dGbf182tnUSlZKxDl87j2o++jbNOOZynn9/AN2+8nd//+bFRxdxXpOKcfOwhHLFiIXva0+zY3cbO3W3s2LWHMNL4nsLzFNbaAX2g/u2at3HXfU/xwN9eGvE4+qOyIsGXP/kOLn3DyQghePHVLXzgkz8ckeg0b3Ydt974cRYtaCxr+1fWbePMSz7T/drv5c1/dwrf/uI/9Nl+3cYdvObNnyWTHfsbs4pUnE9/+M1c+ZYzR53kNnws8UQLfjDyqqgDhUK+kny+qlT14XAAWGLxPQSx3qJPJp8jx8YxO4tnG4kHo3/f6Sg5qFH1eGFNQJSfW5qLDYTBS6zrZeJsrcLqFNYUDVRN2MA+ganY3tUtAqmMa5WiZDCen4OJ6vc9KEJUsB3lt0/ewBwOh2MAnDA0Ccw0Yagn1niYqAYdNkyKUWJbWOAnG9fxQufM/VB2wtDEseSgpu7o+KnAnMZatu8avzL2C889nlWHLeLfv31rvy1n5fLUXdcxd3ZdWdtmcwWOP/9j7GpuRylJY301V1x6Bu+5/Gxqq/tWHllruerj3+eWPz4y4vENxfFHLeX6a6/kkIMn7sPVDzqIJ9om7HyTgbWCXKaeKBpeap1jeiOEJp5s7uOjlS0UyJoNJW+gsWG0wpC1YPTkiEI9KXQdSv+Ry/3HI5uogii3uP/tVRd+YvB0y5mGNTGi3IIe3kcg/WZUsGPCvEIcDodjuDhhaBKYycLQXsLMEoTMIf12sBJrJaBKXytAYqIKsGPvjG6tZWMmzVPte3i6fQ/bcuNrCDnVcMKQYyrSUFfJG193Ipe8/iSOPfLgYe2bzuTxPEnge4MadKczeT72+f/i1797cLTDHRLfU7zn8tey5KAmkokYyURARTLBGSevHJaJePkYglgnQax9RKarUx2tfbKZhqLnicNRQqo8iWRzt7H0XvJhSFpvKMUBjx2ebSA+ChP6yaoU2p8ws7SXaNGH/aLfrfHQhTmYqJqeSTlC5lHBrjGNUj7Q0WEtOj+XXi17Io+ffGVaXpsdDsf0YaYIQ85pcoohZB5rY4NPkGJF0z5daBx8AjMExlp25LKsz6TJlNrIzmxoYlGqgjfOXcDadCc3rF9Dazj9fTnAOW84JpZDl84jnS2waevuPs8lEwHnv+YYLn39yaw+aSW+P7JLdTm+Pi+t2cp7//U7vLJu24jOMVzCSPO9//pTr8cuOPsYzjzlsHE6YzF2PRafPtWQ1oIuRcmHhaL564GNRaqwoTJmAAAgAElEQVRCcTHFiqIfEgJrioshjuHh+V3EE619brbDSJPWm8ZcFCoyukVGqbIYHS/bY0aHdejCLACEzPX4ly8ZMQ9vPEYn0YVZPeKIDYgI9i7O7f0bszGsTkJJGBIywotvxpodWOshZMG1i+2HtRKdn1fycSpWXkmvo5S8lnWikMPhcEwRnDA0AVgryp6kePGtpSqhwZFeB9LrwEQVJYFoqChTSEcR69NdrMt0sS7dyYZMupfxdH0QcFr9LPKRxlio8wPev2Q5/7VxHVty09+fw+GYKBLxgJ99+8PMn1PPmvU7ePCxl6iqTDKnqZZ5s+tomlVDMEIxaDg89vRaLnnvv5PNjVz8PfGYZbzrzWfRNKuaplk1NLd08Kmv3MTzL28ua3/fU1x95etGfP5yiMUOfFForxgUhkmiKDGpPkKen8bzsgipEUIjpUbrgEK+Eh0l6C1UFUUfz8tirUJHMUypukmpPJ6fwfOzfSpbANJdTRg9mablBxr9+wkBRNrQGW0uih3jQEQ7Rs9FquGZEO9FiOL7pFxxSPmtSNWFLjRgolqs7hmGYItJZzKPVPsEo2L62V5T5wBr4lgTKyaU7Z1DiTzKb0H6e7qrvq0VmKgKE9UiZAEV9PWqEzJEMLKffbpjTQwhM0g/Agwq2OnEIIfD4ZiCOGFonLA6SRTWYU0CFewaVgzncFrQhOpCBYIo73dHmnaPwVq25bI8297GMx17WJfuGnRNr6VQ4MPPPF72uR0Ox/BJJeP85/VXd6e6LVsyh2VL5kz4OKy1/MtnbxyVKATwpgtO4tI3nNz9/fIlc7nr5s9yw01/5ivf/m/SmYFv8o489CC+8fn3sHL5glGNYSjyuRqEbEGN8KZ1IrEWjPExOkBrv2RqK9E6YCpUzwzk2eR5eTwvj9EehUIlOorh+Vk8P41SvcUIawXWCqQc+LPOGInRwYDPO3ozkJ8QQCGK6Iq2gOj73IixgE0ibAphKxAmRaFQgeflkX57L4PmctknDsWQauixClnAi2/D2p1Eufk9xCEBNo7VcbSu7rGHARGWfBx7/i1ZhOooCkJeX1FNCIvy250x8giRKttdYeVwOByOqYsThsYJoTIQ1oMNMGFDKZJUg/WLXhDC9Ch5Lk8IMjoJ1it6DVmFtarY1277X1FN64iHWndzf/MucmY8SscdDsdwaJpVw03f+RdWHDyXVa/9CNlcyP/54MX84xXnYowZ98SuKNJ0prO0d2To6Mxw2gmH8vLa0bWQ/fjme1i0oJGzTjm8+zHPU7z/nedx0Xkn8Nn/dzO33flor+S5wPe45qqL+MCVrxtxm9xwMCYg0zWbINZOEOuYMqvV1kIUJktCkF/83xSjqacmFmsV+Vw1QmiE1EgZIYVGlEQeqSLiicEXQoSwQ1bRSmlIVuwgn61F67H31JtOKJUjnmzpt+qq6Cm0aWwrhUwcFR6BtDV9ntJhZTFEQxTwgt2oYHim/tb6g0a494cQGqk60b2qhvpD9pkvCdWFF9s67HM6HA6HwzHdcObT44QX30iUm8fQ2pvGT71Uljg0WFrGYGSiiPtadnHHzm29WsccvZHAb535tGOcaKir4s6bP8P8OfX86d6nuOJDXy89Xsnsxlq272zlyre+hrdddBoHzZ814vN88Ru/5Te/fwhjDNpYjDFYa8nlQ7rS5fl3jIQzTzmMa666iONXLe1jIr27pYPb7nyUW25/GK0NX/vcu1mxdHJM/KQskKzYMenikNYeuUwDxhzIVTEWIQyelyWebB23s+RzVRTyfUUIhyUIOgnibf2+n7OFPFkztp5CQjehwkMRDGU0bZFeJ35iU9nHtlZijUTI4Vf26bAanV/Y9wkRImQWq1MUvYL2x+Al1iOVa5d3OBwOR//MFPNpJwyNG5ZyV32FzCJUJ1JlETKDkP2v7BW6VtL/xKY8NmfSfHvdK+wZhpm0AGbH48yLJwmt4Zn2tlFaTE5dnDDkGC+SiYAf/MdVnHvGUQC8/2PfGzQWfuXyBZz/mqM5Z/UqVq1chFLlVRL94Gd38umv/GLI7aQUvSp4xpL5c+q58LzjeePrTmDVykV9RCJr7Tilj5VPqmIbUo2P10o5aO2T6WpiKrSGDR+LUoWiz9AA3kBjdiYLhXwVhXwVB+ZrNZ4YEslmPL9/sTcfRqT1ujGNpAdQhWORpm6QLTQqaEH5e4Yt8BTbJsWIqnf6i40XqgMvvhkhDNaCNQmsrsDoiqKBdOk9JWQOL7F2REmyDofD4Zi+GJ3ARDWlDp3pkf7qUskmhfJvfKxJYE0CEwJYhMyggmaE2tfyYHR8WMfsjwXJFF8+/Gg6w5Dt+Szbc1ma83kSSlHh+VR6HlIIXu3qYF26i3Mb57Cispq4UjzZ1sqPN66dtqKQwzFevOn8E/nMR97C3Nn7bqaeG8KY+YVXNvPCK5u57nu3UVudYvVJK/nEP13CkoVNA+5jrUUKybLFc3h1/fZez1Wk4lSmElRWFP+99/Kzaair4rY/Pcof7n6c1ra+vhojZcv2Fr7z4zv4zo/vYPVJK/nWF97L7Mba7ucnWxQCMMabVGGo2C52oAodAq1jaB0jn7MIGaFUAd9PDyhSDBdrBVEUJ5+txVo3TemNRXk54onWQUW5wFNkoxqMGF4r15CIAbxiRITym1FB64gFFiGLKWDDSSfbt2+hWBlk9s2VrK7AhPWoYDdCgCh53Sh2F32uTBLQwz6Xw+FwOKYf1vjoQhPWBCB08fPEHshV3cPHVQxNaQzFdA0DdvJ9J9alO/nKKy9M6hjGEyUEv7niu5M9DMcBSn1tBUcfvoRUMkYqGSeZiHHhucdz0rHLe23XsqeTI17zL0TRwDd1Sw5qIuZ7vLhma/djH7v6jaw+eSVd6RynnXDogKll1lrWbdxJPO5TmUpQkYoP6l0URZoH/vYS/33HI/zhz4/T3jm2LRWnn7iS3/zwmikhCO1FeVkSyd2T1k5WyFeSz9UOveEBgJQFglgHnp8Z8etprUBHMXQUJ9Kxkun01Hm/TBWUyhGLt6G8/itqQq0JoxCEwFhNwW4Zs4ohoRtQ0cEIu5+PjyjgBc2lFK+xOZc1HpZwRO8nayVWpzA6hYmqEcLgJ18dk3E5HA6HY3pjLZiwDl2Yy3Sdh7hWsmnGE22t1PoBdUHAjlyWxlic2mB8I32ttazPdPGtta+Q1pO30j6eOGHIMRKSiYAP/P35XPXO86hIJQbcrhBG3PiLu/nGf/4BEGRzhT6JXU2zarjm/Rdy+cWnUwg1/+cLP+WOvzzZR6xZsXQeP/nGP7F4QeOY/iz5Qsi9Dz7Pd358Bw89/vKg2ybiAbXVKbbtHLoi4fprr+Qdl5wxVsMcE4JYO7H4xKcMHdhtZP1R9BkS3SbURUPqYox91B1p3/Mm35hibL3WsR7x9dNzAjYWSFkgFm8btCLLGEt7YRtWjF31H4DQ9cjoYKSt3u8ZjRfbURKExvSU6CgxZp4/1ngDtuc7HA6Hw9EfUb4JE47tHHuq4IShacZt27ewMZMmqRQ5rXmuo42DkhUcUlnFrFiMObEEB1dUjuocWR3xu+1beaGznfogoD0M2Zyd3uaMThhyjIQ3XXAS3/vKPw65XSabxxhDKhlHCMHd9z/DZVd/Fc9TvObUw3nzG07h3DOPIhHvXbZqraW5tZM167fz6vrtVFcm+91urMhk87z1/dfxyBNDr7Ifumw+73zzmexu6eD2ux/npR4VTj2pr63gub98vWyvpInB4vlp4omxq3QY9GylBLJ8rmYGtkfZ7hSzoo/MyL3yZg4Gz8/i+Rl8f+io785cJ6EYXcJgN1YgzGxUdBDC9p1LCJXGj28ZkUl0ORidwNoIqVxSmMPhcDgmHmshyi7BmtRkD2XMcR5D04wL58zv9X1LIc9z7W2sSXdSoTxSqeH9Wn+1ZSPPduyhI4yoDwIWpSp4tr2Njqg46dueG3pS6nDMNALfY3ZjDUcdtqis7ZOJ3lV9Z59+JD/8j6s45fgVzKrv3Z6RzuTp6MwgpQAhSCUCTj7uEE4+7pCxGv6g47ztx5/gb0+t4b9+fS+/v+sxsrn+b9BefHULn/jiz7j84tO59caPs6eti9vvfoI//uVJnn5hQ3e73HlnHj3FRCEAQRRWkNYxEomWAdtzRsteQaiQry5VxsxEBNZ6WO2mHIMhhEZ5WXw/g/JyZVfiGGMIGQNRyPpIPR8ZLUDQfxWy9Drw4pvGtQ1TquKcoygQWecB5HA4HI4JRQjwEuvRhSZMOPKk4AMNVzE0w3m4tZkfbVw72cOYEriKIUc5XHHJGXz06otobKge1LtnJFhr+fXvH+La/3czza2dQDHO/j8+8y5ef/axwzpOvhARj41eiMjlQ/725Kvc++Bz/PXh53n2xf7jp2uqUnzs6jdy5VvPwvMUuXzIsy9u5Iln13HumUeNedvb2GIJYu0EsY4xveE1RpFJN2JnrCDkGBqDH6Tx/AxK5Ufoq2PZk39lVN14IpqLilYgBks+FQWC1JoJTe8yOgaifJHM4XA4HFMfa8WEVGuPFmshTI8uFXyq4VrJHH3Iac2vt27kgZbdkz2UKYMThhyDMW92Hdf/299z1imHj9s51m/exblv/TfaOzMsmFvP1Veez+UXn95v29iTz63j57fcz1mnHt5LNPrhz+/iBz+7i41bdrNgbj3LFs9l2eI5LFsyh4XzZtHYUEVjQzVrNuzg9rufYOv2Fi6+4ETOWb2KWDC0gNHc2sH9j7zII0+8wtqNO1m3cQdbtrey97NkxdJ5fPPz72VVmZVUU4mxNqW2FjJdc2ZwpZBjMJTKEU+2DJouVi6tuTUgRngcq/DypyEYqj3VEKRemTDPnqIJuXYeQQ6Hw3GAY60gyi3C6jigkP4uvNiuSR9TMaygAqsrS2lkYTHlUoQIGWKtwoT1TCcfRNdK5uhFTmu+9PJz7Mi78myHoxxed+ZRfPtL76OyYmBz6bFg8YJGXn3w21hriy0UA1Qk5fIh7/ynb7JzdxtSil7C0EtrtrJxS1Hw3bythc3bWrjnf58d9Ly/u+sxaqpSvOstZ/K+d5zbp7WtJw11VVx8/olcfP6JvcazYfMu1m7cwdoNO3j82XUHpDCkowRhoZIg1jkmxxMCglgHuWz9mBzPMX3w/S5iidYxrIRRwMiEIakXliEKAUiiQiN+fIy8jAbAWoHRcYQcedKdw+FwOKYOujAbqyuK34gQFUx8YYK1YE0CqytKYlCSPkEgNobVMaZO2czE4oShGcj/bN/sRCGHo0zOPu0Ifnjd1WVV04wVQohB493jMZ9bbvgY9z38PG/fL+3r2COX8NPf/HXY52zrSPP1G/7A9396J5dffDof/oc3MLuxvEj1eMxnxdJ5rFg6b9jnnWrkczUoL4tSY1OlEEXjmxjpODApprWN3fHiYi45uwmG2+ZlPWR0UNmbm7AaxlEYMjoBFMYslczhcDgco8NawPpYE2BtUKysKf0vvU5UMHDlj7USE9aVqm6KqGDHBIV+CExUi9XJ4thNDCd9DI57dWYg5zbOIas1D7c2T2lFVCI4uqaWlzo7SOvxLyV3C5OO/Tn9xEO58asfnFBRqFyWLSm2h+3P0YcvGdVxc/mQG2++h4cee5mbv/evVFUmSSaCQYWq6YUgm24kFm/DD0Z3c6q1TxROv0QLx+gxZmynX8lYDBkuImPWDWs/YRP0WTEdbPtxMoI2xsca6QQhh8PhmCJYK9H5OZioloHuknQhgVCd3aEB3fsaHx02YMJaevrzCJlB+W3jOGq62790oR4ndQwP92rNQGqDGFcedDB5o3mibc9kD6cPKeWxuqGRg1MVbM5m2JLNDCoMNcbizI0n2JhJsyd08baOseHwFQv5yTf+adxi4ceL5UvmkkrGSWdGdwP34pqtrHrtR7q/TyYCkokYt/znx6dFZdBgWOuRyzYQFnL4QVePla19Urry8kOueOVz1TjJ2dEfYy0MFY85/FYyKzvR/tOocNXgxtMlpBxb4abYNpZAyDRy+nh7OhwOxwGNiVJE+flgh5oDC3R+PiKxBiEsJkqhwwasrqTn/EfILNJvRnrt4zZma2LosL4kRk21JNwDAycMzWAaYwkEe6ZU1dDSVCUfPHg5/7N9C99a98qg2x6cquCfDl5BXBVnk8ZaXu3q5JE9zTzdvoeuyBlWOkbOp//5UiqS8ckexrBRSnLx+Sfws9/eN6bHzWQLZLIF1BgnsU1ltI6js/2/B4TQBLH2knDUz75RgI7G15PKceAyHsJQaNIjmgtb1YIWT6DCQxG2YtBtdVQDOYH02/usEA96DqMAibUSkGAl1iqE7EKq9PAH7XA4HI4xp1glNBsT1VHuwpY1caLcglJ7Wc95j0WoTpTfjPRGfp23FqxOYa2P9Np7LcoVn6tEh/UlDyO3GDcanDA0A2gt5Llt+xbWprvoikJq/YDXNs7h4rkLOGtWEw807+LOXdvJm4mLoO2PQyqq+MCS5YTW8EDz0KZkW7IZVI87MikEh1RWcUhlFdZaduZzrEl3sqark7XpTnbl893bxqXCl4LOHuKRtpb3/+gDCGNBG7o2tfDUXc/w7CMvj+0P6pjyrFq5iLNOHb/0sfHmg+++gJtuvR9jxl72tSOQku998Hnuf+QFPv3hS6dNS5q1inyujkKhkli8Dc/LAgJrBVhJPleDm6A4BsSqMY3rNcagxcjL861sIwoeRur5yGgpYqDpoS22B+iwAem14cW39BFGrVFYk8DoBFYnMCYJtv/j7VtFbnNG0w6HwzGJlF8l1Berq3t9L1QXKtiGVPkB9tjv3DqO7NGqbK3ERJVYXYWJKtnbjqYLs1H+bqTfCgii7JL9xCjHaHDC0AygLojx1vkH8fieVp7rKE6+Ul7xV1/jB7xhznxOb2jkTzu3Y4GmWJymWByN5bbtW9iYGd/VvNmxOK+fPY/jauuRQnD3jh2Etq9IlVIe8xNJ5ieSzE0kmBUMbOoqhGB2PMHseILT6hsBSEcRAogrhSzNQDvDkI3ZNBszaTZmutiYSdMWhuADy+tZuvwsTvjQOaz5zaP89b8fGfB8fszn4JULeOnJ4fk7OKYmRxy68IAWMA6aN4uVyxfw3EubxvzYjz61huVL5pa9/Ze/dSvXf/82ACorEnz4H94w5mOaTKzxyWVmUWwzO3DfM46Jx2gf5Y2+/TnSms7CThhtrLuwWNlJuWVHJqohzCqkzHUbkloTQBktaXux1iuJRhKY3MUph8PhmKlE+TljE8suQlSwHeX33zKmC/UgDEKEIMLiIkLYgDUJhGpHqgxGV2J1qv+xWB9dmIsuNCJkwYlCY4wThmYICeVxWkMjpzU09vt8tR/wlvl9k0kWJlJ8/LknMePQcDYnHuf1s+dzbE1dt1CzP76QHFldw6n1szi0snrA7cphrxjWk0rf53C/hsOrarofaw8LbMqkeap9Dw+2NNNqIuredDTvP/sIfvapm+jq2OexcMaFJ3Lo+ator/TIG8OhD27g1u/dMeIxOqYGqcSB10K2l2yuwPs//v1xEYUA7n/4Bd7+ptVlbfuDn93ZLQoBfPEbv2Xe7Dre/HenjMvYJhcnCjmGh9bBiIQhHe3brxBFdEWbQY6Bv56NowqrEMPoR7O6Eq0r936HEBrlpZEyQgiNlBEIi9E+xnhYWxSNBBYjMkh/14Sk0zgcDsd0x5oAHdZhoiqEMCBChIgQMosKWgfdV3rtmKhqRNVCRQzSb0EFu4rn7m+LqAJdGHhh0epq9H6VRwPjYcehJXum415Rx6CsSXf2EoUEUOn5dEThqI8dGUu17/cRe46tqac+iLEgkaQpnujVLjYRVPsBR1QHHFFdy/lN8/jjzq082NLMzmqPt37n3Tz6rbvIpPOc88/nsyOw7AQoteGJUxbx3oPfyS+/8Bs621y6yoFKKnlgRoy3tnVxxYe+zqNPrRm3c9z3yItYa4esqPrjPU/wf//95j6Pf+jTNyCE4NI3nDxeQ3Q4DgiiMEkQ6yp7ex0F5HK1GB0QxNrx/Da6oi0gxkIUkniFoxCM7KYgFm/F8zNIOUDVj9e7ncAYSUHnnCjkcDhmLNZSrHixXnf1pLUe1vi9HuuuqBQG0AihS1+b0tcaaxK9qmysBUgUa5lVJ4r+haFi+7sPVqD8FnShieGa1QmZQ8U292oF63Me46ELfZN0HVMLYe3U+VA+5uhj7V/v/d/JHoajB1uzGb6z7hV8KTimpp7T6mchheDba1/h9IZGfr11IwVjOKKqhnXpLubEE6yorOKVrg5e6eoc8vj1QcAnlh9OpT/14sB70pzPcfvObTzUshslBIaiJ9FAVEmP7GMbufW7dxDmRy+iOSaWilScxQsbmddUx9zZdRx/1FIuef3UFzL+5bM38vNb7h/38yyc18Chy+ZzzBFLuPrK1xEL9v39hmHEH+95kg99+gayuf5vWIUQfP3/ezdvu+i0cR+rw1Ee/bUCjnd7oCVVuXVgMaWEMUXPqijsXVpvvPVobxQisPWReg7CVCNMDYKRV0omUjvxvHK9JBQF04mQ7rPR4XDMTIxOovNzJ6QVSsgs0usoVmxaVfrfw9oArGLkn3O2VCW0Y1CR3+gkUW5hUYByTDpVNYnHrbXH9fecE4YcI0JbixKCbdkMbWGBlVU13VUED7Ts4qeb1g95jMOravj7g5ZQ4R04F4rd+RyP7mnh1ZKh9VCG3dXSo/Xel7nthrsmaISO8cD3FI/+8d+ZO7tusocyKMYYbrr1fj53/a9p65iYpJ/jj1rKjV/9IB0dGX5+63386rYHaW7tGHI/IQTXX3tl2W1pDsd44XkZ4skWrC2mZglhEFhyudqSGDN+SFnAD9J4frqPQGStICxUkM9V098KriUkiv0viJEJLDJagIpWjGjf/REyJBZvQ6k8QtghbhIU4QCr1w6HwzGdsUahC3Mw0QEeUCFCvNgWpDd41asOa9H5ubj4+KmDE4YcE8q1Lz7D9tzAMbYLE0lWNzRxav0sBNAWhiSU6o6dP1DQ1rA7n0dbi7YWU/o/azSZKOKFznYeam1GAJk7X+KOn9072UN2jIL3veMcPv/xyyd7GGXR3NrBR679MXf85ckJOV8yESOTLa9aYH++/rl3c9nFp4/xiByO8lBelkRyd69ELGshl60fd1GoNxbl5VCqgNE+WgclP57Bbxy02ojxXxnRGVXhcKQZ69J+S0XV5tKXAiH7n2PmwzzIgdsOHA6HYzphLZiwDl2YzXAM+qcOFkSEEAWEyqGCncU2tsH2sIIwfRgHtAA2DRlMGHIeQ44xJR1F/YpCdX7AqppaTqmbxcJkip25HP+9bTOPtbXSUijeUM6NJ3jf4mXMiR8YDvNKSGYPMtajaup4qbODPWGB6vNWcvzWFh79y7MTOELHWPJfv76Xf3j7ORw0f9ZkD2VIGuqq+MF/XMWF7/oiTz2/YdzPN1JRCOBfrv0R1VUpLjj7mDEckcMxNEJoEsnmPqJQPleDMR6el4FS5Ys1Cq3H05ReoKMEOhrq888iVQ6jY4BE6vkYbxOI4YsswtQMvdFA+wqN8jNEYbLUilB6XObRWiFVhJCWKPIAhVKF7tfZGoFFuFsFh8MxIzA6gc7PO2ATtFRsE9LrHNBUeiCEsHjxjRidKHkgVeAqh6Y27rfjGBMiY3igeRdffuW5Xo8vTqb4vyuO4IuHHcXb5i9iYTLFA827+MyLT/OnXdu7RaFASo6pqaPWH6kb/tQjkJJL5i0EoGANh7xnNUuPWDS5g3KMmFw+5JNf+jl7qyy1Nmzcspv1m3cxlSov9xKP+fzoax+koa5y6I0nEWMs//ix7/K/j7402UNxzDA8P9On5UkIiCfaSFXsJJFqJpFsIZFsQXmTX93i+R0kKjaRSG3vFqwEChUuH/7BbAxG5ClkiCd3kazcQjzRSiLVe9XY8wooL+oWgZQXobw8xkIUeUSRR6gVwkXTOxyOaY61iig3jyh78AErCiFCpNc1bFFoL9LrxIvtwk9sRIxFeqZjXHEVQ45RszGT5uYtG1iX7t1n2hSLc/mCxcxPJHs9vqyiihrfpy0MqQ9inFzXwOqGRqqnkSi0l+Nq6sguWMwt2zaR1prTP/4Guj7xC3ZsbpnsoTlGwF33Pc2b3vPv7NjdxqYtuwmj4g3RrPoqTjh6GScevYwTj1nG4YcsxPcn//I6b3Y9l1xwMt//2Z2TPZRByRcirvjQ17n/vz/PvNn1kz0cxwzB98v34YqGrOQZDwyxxG6EDEvR78XrTVioArtvXU+aJmw0D+NtLfvIQtePoGbHEk824/n7qoKVCkmkdhAWKkFYvAFeUyktlMymFRBFFRhGXmnocDgcU5mit85sDuRbbaHa8eJbh2wZKxcXLz/1cb8hx4jQ1vJUWyt3797B2h6C0OxYnGNr6zm2po658US/kdZN8TifX3kUm7NpFiUr+sTVTyeEEKxuaGRVdQ2/3LKRx9taufALl/Gba35K6672yR6eYwT0V9myu6WDP/z5cf7w58cBqKlK8aYLTuSyN57OkSsPGjLafTyZN2dqG2bv5bBDFjCnsXayh+GYMViMVWU5PeRzVRg98QsXsXhz/0KLBTD09KmQ0SEY2QayDLHLKlR08LDHI1W+lyi07/GIWGLPsI6lpEYbOeJVaIfD4ZiKGB0vpY1NpEfd2CO9Nrz45jE7XrGw/kD0VppZOGHIMWzWp7v44YZXaSn0Lgm8eO4CzmucU9ZNsC8lS1JTu8VlLKn2A963eBl/2b2Dm7ds5LXXXU592vDKn5/lnlsexg6RbuY4sGjrSHPjzfdw4833sPqklVx/7d+zcF7DhI+jK5PjF7eOf3z9WHDskQeTyRWoSI6nj4vDsRdBLtOASO0aNGY9n6uikK9mMswz5QDta17QgfRy5NLz2DsugcILjySKPdR3B+tRdA4IQVhktGRE0fR7RRyjPYxVRS9SUZzwd/sH9fhaDYjL/wMAACAASURBVPK6CmkQUTWo4QlKDofDMRWxVqILjZiwgelgtiy9Mb42W5/p8LpMd1wqmWNQtDW80NFOa1igIwxpCws83NpM1ON9U+35nFzfwEVzFkzr6p+xIKc1//rs471evyrpoTbu4cZP/XwSR+YYT5KJGFe+9SxOOGoZx646mKaG6nE/p9aG93/8e/zPnx4d93ONFZUVCS5742m8+22vYclBsyd7OI4ZQBBrIxbv6Pc5YxRhvhKLQOugZPg8cSRSm5GqdxS90T65zByslSAsSuWQKodSeaIoRY6XsbJHNaoVqMLxSFuNxQIRoBAjsJiUKksi2VxsCysDay3a+MUxeIXSY2CMj7UCpQpYKzFGYUwIqv/fg8PhcExlTFRFlJ8DdrpYYkT4qRcZ7S2dtZIws7y0OOHuD6cKLq7eMWyMtfxtTwt/2LGFXfniqp9EsKyikkMrqygYQ0ZrVlXXsKKy2glCw+CG9Wt4tK23x5ASgt9c8d1JGpFjolk4bxZvuuBE3v6m1eOScvbsixu55nM/4cnn1o/5sSeKd73lLP7vhy+lqjI59MYOxwgJYu0IYdDaJ5FsHXA7awXprtlY40/Y2OLJrb2qboz2yWbmlCbZEE9tRakezxtFV9Zi/Fe7H5PhUpRePEYjMlRUbRnRzUIU+VhAybDfCPuiYOQhpS4JRWDocmalDodjymKNT5Sfi9VVkz2UMUV6LXjxbaM+ji40ogtNYzAix1jihCFHWVhr2ZrL8mRbK4/uaWFnPocnBIdVVXNMTT1HVtWQ9Fz34Wix1rIhk+bh1mYeaNlFZC31wuOGK7412UNzTAKnn3goi+Y3Eo/7xGMB8bhPKhmnvraSWfVVHLZ8AU2zyouV3tPexfXf/x0//PldGDN1ru0jZXZjDR//wMUcddhiDl40m3hs4m7KHdMNg5QhiOIqZrfAIzRYRSy+hyDWOegRtPbJdM1molY+pcoQT+7oFmKM9smm53efX8o8Qby5WzzKZRqJojiILKBKMfLBGAXDWxAh8UQrSkVIObz256LwI5GqfBPTMFRY6VrNpjrWBEgSSAnGCKy1WAxgQKZHXXXgcEw1rAUTzkIXGpmOAd8q2I4Kmkd9nDCz5ID3WpqOOGHIMShZHfFQazP37t7JznzR02BBIsnpDY2cUFtPQjkxaLzYls3wixde5rsf+REdrYPflDhmJjf8v6u58Lzj+33OWstLa7Zy11+f5q77n+bRp9ZMC0GoP6QUHDR/FocsmcvFF5zEhecej1LTb0LmGHuUynWbIysVYi2EhQoK+WqsLZphxuKt+EG6T3z9/hTyFeRzE2foHsSakaoAWCyCMFeDMT2r6CzKyyBVnjA/knFZpCoghMHooNii1kNIkl4bQnUgVRoho317WYmwSTwZoAYRe6wVaO0jZaHfSqHBKBQ0qPKT4xzjjzVeyStEIVBIKfCUGdBbMlcoIFRfw3KH40DF6CQ6Pw9rpq8folAd+ImNoz6O0Smi7CKmo3h2IDOYMOTu+Gc4mzJpfrllI7VBwEl1DcyJJ5gbT9IYi01qktJMYW4iSe6BtU4UcgzI4SsWDPjc48+s4x0f/BqtbV0DbjNdMMayftMu1m/axR33PsX3f3ont//sU0jpJhyO/hFCE4u34QdFcSEKY6CK5shBrAs/SJPunIO1HvlcHflcLUIYpIzwYx34/SRwBbGuUutZjLCQYvwnvALV04Q61oGONDqKY0u+DTpKoaMUQhZKccCDj0mICM/PorwcnpfrJYYZo8im97a3alSwvZcgtO8YBkQXUD/oubT2BzWhHgwp42jrKk4mE2tiSOJIKZDCIvsUbVoGq6ATBMDIhSFr1ZhFZTscY4GQGbz4+uL11yqsiaMLc5hOHjpWp3oFCZS9nxVYncLoSkxUNY08l2YOThia4SxMpvjo8pWTPYxpTRhG3PvQ8xx56EG0daRp3dPFSccu7xbeLjz3eO7869O8+OqWSR6pYyqSGiSl67hVB3PPr/+Ny67+6ox7/zzx7Dr++Jcnef3Zx072UBxTDksQ6yCIdfQSPYQ0GFO80RQCwkKqJK50b4G1Cq0VOtOATbQSBH0rVvwgg08GITSFfHltniMlCivwgvbuCbrnZ/D8DADZ9FwApCzg+V0oL4e1kihMEYUVGB2neLNiUaqA8rJFQWg/Q+ueSKlJVe7o8UjxBsFaibV7E9Dovgey1hJFAUqFfQQmY7xReQR5XghRPdq09ytOOUaOtbLoVWUVRSFRIpAIUWw8FBIEFunZ0ntvZJWonoJIVyGFREmLQaC1xRKCzHUn3fUZm0mipIc2oasac0wphABEhGDvNSmNtR4mbOyxlUYFO0EYsBJrA0xYR3+ivQqK11tdmEqBGwprEsOu9gszS8FO30qqmYAThhyOcaa1Pc3bP/C17u8PXTqPv976+e7vjzj0IO7+1bXcePPdfPlbt9KV7j+i2DEzueu+p3nHJWcM+Pzc2XX84xXn8OHP/GgCRzU1uP77t9FYX82KpfOorEhM9nAcU4TEABH0ewURayEKA/K52kGOIijkavoVhvYSxDoJCxX7iUujROjuCglrfDy/a8BV20SqrzmoEAY/6MQPOonCJCZKEsS6kGrkwooQ9HsDvw9NGMZ6bGNQXoQaAzHH80KkqSDUOYR0n42jxeoEvoqhvIGEnv0fH10VhFKglOg+rsTiKQCfXEGC2lftanUCKQJ8BdIrjkUZRRhVYWXnkG2eDsdkoYKdSK8Tq5NYk0AFuxCy92eQ8dqJcgv6VNHosA4/sW7K+RVZnYL/n703D5Mlq+u8P2eJiMys9dZd+/a+QANNs2OLokDLKiqCC26AMizq6y44zqsyOg7zqLzO6LiiOOg4oLwzOI4Oo7IpCAgiojSCyN7d0N13v1WVW8RZ5o8TmVVZlZmVWZVVlVX3fJ6u53ZlRkacjIyMivON3+/7HUMY8i6LotAhYHqOwEjkkHLy2ALPfPKjur9/5ZfetmkZrRUv+46n854/fnVs4Yv08Od/+eEtl3nmUx5zRfrt3PXxu3n2C17NzU/4Xn76F9/ENHnmRfYPUwxPshMCdJJvalHRSZ00XSZJVtFJnSQd3uIrhCetXB66zHA8SjdJKxdJKxdJ0kvUZu+mNnsvtdl7qc7cS5Jtf/06aaCS+o5EoVERwqN0Xv5MdntSOrIkRYsj4LKJrvvKQ24h8u0dUiiwCwi3gGaBSpqSJrC+O1hKQZYKEjGPtzGh8krBe8J33c2BXQC3iCh/cDOlF9r0IEQIC1DpOXTlnk2iEITnk9qnEKrzd8Uhk3Mk1U8jZIFQ02UJ4Ox4ptHOzO3SSCJ7yXR9syKRQ8rrf+n7+dkf+1YAnnjHQwcud/rUEg+55eq9GlbkAPDO9350yzaxpcVZvmLIcXUl8Ou/++f8/V2f2e9hRKaAIp/FOTV0meCfsH6C7Mkql8iql6jULlCtnSerLG+5rSSpo9R4lSxKtajUzjI7fy+1mbNk2QpZtkKluryWlgbIIS1f04bWOdZO3k/CWUWeS4pCYazDi+35FUUCQtXJjZmKkII0gSwN/6rhX1eUglRrvI2VoYcau0DCEplaIEsqZIkkSyFLPGn5kyWaTM2hWUL5o+Bm93vUIyOERVc+h0zOIZML6GzNw03qS/s8ul46PkMDn/cqGHEXS5j2VdhiuN9c5GAQhaFIZA9QSvLyFzydV37vc/i11/8ZyyuNgcu+4BuexLGlqLxHAsZYfuSnX4+1w+/yfu3T+ieXXUlcXh78vYpcWTg3vL2r3TqCc71CRsdDZxyEgOrMWWoz91OpniPNLjPcj8VRqZ0nSZqbWmO8ByEnLQb5Pamk857t2tAMRUgLohli6+XlaES9A7xLwS2QqAQpD96OlFKQ6jS0rEQOHcItkaUgld3yey4EKGXR2pAlikQsHRiBKFQXrQK913RSL296bH9RA6PmvVcU9Ydimjdj21fjimPRaPqQEIWhSGQPecV3P4fnfvUdPP+7/yNnzvVvEXjJtz+Vj7zjP/Hm172SF3zjYG+ZyJXDhz7yGV73xrcPXca5abqg2B8uLUeT0gik2XJfj6EOeXuWIt84iRA06ye3rDTqR6eNKkkbJOkqw3xZ0splpOyfsuRcMnEfFaVbWLspSmqiOCdxHpTevtH0IIQAQZiceC9KI2wFrhIFgnHxCan2W1bnTDNSQiKrZfpe5DDh5QXyYnsHp5SWRKXbEvf3B7eplXkaPbQGtYc5M8thSmGLrBHPrJHIHiKE4LuefyfPeNKjhk7ktVZ8xR0P46oTR/j9//GuPRxhZFr5D//5zczNVvjWr/+KTT5UzVbOL772T/ZpZNPBlz3uVh7x0Ov3exiRfUapVlm104uzmqKoBUNml7D+olbKgiRdQSfNgaLNKHgPRXtwtaeUBekQ3yLnPLthFbbbBUNSOoxJYZ2vRmebO6nwMSYFH1KycEto5Xs+H++hMBnIrVv+rmS8y9Ciik6nb+K5HZTyeGYxfnlq/JImjkuBBOSVdrNj+8eolBZpj+DFhQmOZ3dwZhGh+lU4T5fY4swcZPdvetzb+X0YTWQviMJQJLIPnD61NNJyd3/x3C6PJHJQaLZyfuhVr+fNb3k/r3nVi7jpupPd517/pndy/5np6k/fK+54zIP40Zc/hxuvO8GFSyvkhSFN4p+2KxXvJa3mUYSwSGnxXvQVg9bjvETp9qY7uONS5HPk+aALZk9WudhXKDEmAZGj9MFO3bJW450K0fUyTNhDi5ks4+5VmPcJi5Ch90xK11dEsiYbWvXVWV4rReGmx1B5VDqR7CEmft3jGJCb2wx3hGhjnMKbFK3coQi40MrjzTzWX57KSosd4VISNYOUDueWMBY8LTzFLrSaTgfeC5RfQu/QuD7RlrapIeT0tpXb4gjOLCF8gkoubnyWqZqa+wzvsq6ZtncKm5/GmYV9HlhktxDTlOLymEc/1r/rr96738OIRKYG7z1f/10/z9986BP7PZTIFFHJEl7x3c/h8Y+6hf/yh+/gLe/4e4zZ2aT2oDA3W+XRD7+Rx95+E0/58ttZrTf5rTe8jXf9zce488sfzht+7YeQMnZJR7aDR6kcndTRSQMpxxMbvIfG6lWlCBXWJ2WBUm1UWY20vtVBSoOUjqJIUHr0WOBxCeJMhlK7d47wTuKFG3uSHlr3PN6rMmnIAwIhHGoE821rNNY38NgDMWn2XoCbJVFyYEuXc2CswPmiFIkmJ3p5lyKpkSbTc+2/E/ICvLxcpljNgWh2zXwPJOtEoX54L3BWYT14ikNTLaf80R2LQh2ck+R2dSrPB85WMM2b6Ti56MrnS2+hgGmfwhXH92l0/ZH6ErpyD7ZYxLavYqqEq8i2mF+sfsh7/7h+z01MGBJCfA5YIcidxnv/OCHEEvAm4Abgc8A3e+83yqNdojAUiWzmk5+5j6d846vIiwN8sROJ7IBKlvDDL/tanv3Ux3LLDae6ws9v/N5f8G//vz8E4NabT/OW3/8J5udipHFkOziyyiXSbHuRwdYmtJtHsDYlTVdRuo3HkySDq4C8E1iX4r1H6cne4fbeY62gcG1A4jFkcoYk2T3R1JhsX6ueikIFk+opJAgXsyRKjeXx45zHWon1BmSjRyTytoogLSuAgqAG4LwBWe+KdCGBb91K7TxZevCrhjq089CmnyZ+3f5qg2yBT8CnCCQgQtVN3xae6UBzFKVGv9ZrF62eFs6DiHBLpMlkReui0Dh5fqLrnAQ2P4HN16q9ETnpzNqNX+9SisaDma6WMo+QdfwBMfeObM0wYWjSst9TvPfre19+HHiH9/7nhBA/Xv7+rye8zUjkUPKb//Uv+IePfpZH334Tv/vL30+eF3z4o5/lbz/8KT780c/Qak/f3ZBIZNLc8ZgH8Us/82JuvuFUz+Ove8Pbu6LQwlyN3/+VH4yiUGRbSJlTqZ3bNCEzRQXnNDpp4pzG2QTnEpxNQlsU0PHE6LSq6aROVg1tnd6XxsxOo/sYMwvp0bKNKSZnDu2cJzcex2WQRU/ESMuv0G5XAU0tmZ14MpWSkzefHgetbek5NF0TZe8qaJmhtxHaI6VASk+CwrlZrJU479EKVHd9fsO/CufmKIzA40i1QIh1XlOH7IZ/lkLnva/trxTn+qWvJbTyOYQa7PU1Lt4rhJ9DCYUQHuvAU8eLohyXH9lry7g2agzlUFDFM13H+1i4+YmLQgBaG/JpPBf4DZ+t7z33C5kj1MqUefiIKApdQez2n4fnAE8u///3gL8iCkORyEg84bG38u/+03/nj/7sAwBUKym33Xot11x1lO98/p3c9uBreM1v/Al3f+HsPo80EllDCMEznvRIji7NsTA/Q7WSlq0sITa7XRjOnl/mgbOXOHPuMvefudRNExNCcPTIHCePL3Dy2CJPf/Kj+M5vfvKm1rDP3nOGn/2l/979/Vde/RKuHtG3KxJZT5KukFUu4r2i3VwE4ZHSYG1aJpcJ2mMUwSTJmlmsECCEQ8ocaxKEtGO3p42Kc9A2OV6swoBWGiEI0e8emoUCJF6sIHyNmax/LPEoeA/WpCAtah/jloWANMlwroa1Au8tQiiEEFhfR8i9qWbyXqGYw7o2QjURPkNPIAmsI3qMumwQTNbOnYfAWmgsBgmfqRYUZh4v2l3vlHHxXiD8AloopDJldVb43gVdp1L+lCbphcCrUXwANd6PLiSlicfao1jncbQQsoF3KYIMQYJAlOchykQ/8FicmLBxt53FCxda+cZoJxVoQqPJZOmkGU6daLZRGOpzvtTZfRSNWWJweGQ/mGQr2WeBiwR5/LXe+98SQlzy3i+WzwvgYuf3da97GfAygGuvvfax/3TXv0xkPJHIYeCd772Ld7//Y3z8k/fyd//4aVZW13woHnrL1fz+r/4Qb37L3/Drv/vnXF6Z3vLoyJVBrZrymz//3TzzKY/e9NwDZy/x3978bm687gS3P+R6brr+JKqMYGq1C5ZXGiwtzqK3mEF57/nGl76Gv/7AxwF49MNvRGvFJz79Bb7r+XfyEz/4jZN/Y5FDixAWpVuYosrwC/G1Vp1N65AFSdJAJ42hvjjOCZwLZR4Ch9IFxqQIHELtXLRo5E2Q26yEcDOAIpE1sjHazbwXWKdRan+rhbbCe4ExwcPIew9i91pwpFskScJ2jJEIGcySI9NHXoATl9cqqrwGYQYKM94rpF8oE/LGE1as1V1xBsBhgRwvwndfc2THPjub2gYHLecEhZU4cWnbApH3INwCWqmuf5lzksIaoABK8RkHot4zLu8qKGbQevC+3inOSXLX3/B/vygaN+HdehHekM5+fNNypn0Vrji2dwOLXFHslcfQ1d77LwghTgBvA74f+JP1QpAQ4qL3/sigdUSPoUhkMO/524/zslf+JucurBnV3XLDKf7gN36ExfkZXvvf3sprf/+tPeJRJLJX3HrzaX711S/lkbfdMHCZv7/rM/zCr/0x73zvXdSqKU/8kofyom9+Cnd++e1dkWgr3vBH7+aH/+3r+z73//7AN/Dib7mT+bkaH/jwJ6lmCbc/9PpDkcIT2W881dpZ8nwOayoIaUYSg4ZhTAJegnBItfPzdl54Cs7vrBLAZWTyGAiJUhYpwHmPIFT0ufKSUYpSFLISNSHT2L3GO4l1CudXJyYSeTtHJY13+g8StixYkdIjhKBdAPJy9/kgGHWEDLsrKWjei31JV3NWUbj6SMd/2A9p8LXyGq0kcgtDe2NStM5xToY2SAxK6IkZTW9FaOWVOA/em7JKbH980LyXFPWH0XODQbRIZz45YNlbOXR9n5GpYE+EoZ6VCvHTwCrwUuDJ3vv7hBBXAX/lvb910OuiMBSJDKcoDG999z/yH1/7J9z18bsBUEryrDsfw3c9/yncduu1vPa/vpXfesPbqTcOdvTxfvGy//p9fOJ/fJB3/ckH9nsoU8/Vp5Z47rPu4HnP/lJue/C1CCH44v0X+NTn7ufS5TqXlsPPlz/+ITz2ETd3X3f3F87x/r//F97/oU/w/g/9C0tH5njjr/3Qlh5BX7j/PE963k+xvDJ4Ep1oxS03nOLjn/pCd4w/84pv4eue8fjJvOnIFUu1dgadtHBOTrwlzBhd3u13CGG6ce/j4iy0bLtnYjv6ixfIVIIsi/acUyHFqhNVjEQIU26nggz9GmOZ5U4b3gty00RMyh/pkBk7X6nkuUYIgZQOKe1UVZ1MmmCCv1ap673He4cXQfSRpEjpx94PzkmE8PsieA3DWk3hGgi5tzdRnZnHtK7veUwm59DZfeF5W8OZeaRqIGQDZxaw+ek9HWPkymDXhSEhxAwgvfcr5f+/Dfh3wFcB59eZTy95739s0HqiMBSJjMaFS6t8z4+/lvf+7T/3pJX95A9+Iz/wkmdzebnBG+7+DPfYKeuvPgBc9pbjDc9/+cHfod2KBt+DeO6z7uBXXv0S0kRTFIa3vfsj/Lc3v4t3vOcu+v1d+fpnfgk//aPP5/Q2vYDe/u5/5Ad+6nc4d2H8Vpm//B//jttuvXZb241cSXiENGXEfPjur5lOa5K0TqW6N6lX1iiQ7W1NSIOXl8RxEWQOrkIiF5BCkNsCzyrBX6iF8BmQIElJ9GBfln44W0Wp3WsF2QvyQmxPRBuAcIuHJgr+SsUUGTppl21fo/s6RXqxNtl2NeVu430Q4624OFmvpSGY1tU403v9oyufQ+pwTVM0r19nOu1BmE3m1JHIJNiLVLKTwP8sy/U18Ebv/Z8LIT4I/P9CiH8FfB745gltLxK5ollanOVNv/mj1Btt3vd3/8w73/dR3v2+f+Jd7/8nXvytd7IwX+PLrjnNb3x2c4lqZGvur8LzXvdSZrwkKRxuucXKFy/y2Y98nve/9R/wbv8MVqeBF3/LnfyHf/Pt3PPF87zxj97NG//4PTxwdrix5uLCDIsL2zO4fd8H/5nv+P5fxrnxL9AX5mr80m//KRcu1Xnz6165re1HrgxCXP1g4dG5vWkRch68CG1c28G7lErq8H4JYz06EV3BR+sUCJMTaz3em26F0MDxOA0+LW2WHELmOJuSJONXCjkn8U4jZDEdE24/OVXL2zmydAreU2RsjOl4f3l0Em6oCUFIIKRATMOxeoAwJkPr6b0xKQTh/FUcwYkRY+1dikcj5Ph+nt4LnJ3rN5LwvEvwPc+LKApF9oWJCEPe+88Aj+zz+HlC1VAkEtkFZmoZX/UVj+DtS5av/vpHcMvsPJ/IGzwkS7h94QhzWrNiDm6Z/37Sco4WLpwll1JYOsmph5/kO77jCcxcbNG62KB6Yg6faczZVe7/5y/y0fd+nMZKk8c97VFc96W3QC3hwofv5s9+952sXKpvuc2DwCu/9zn80Eu+hp/6hT/gdW98R9/qoPXUqimv/YXv4RlPftS2t3nN6WM8+uE38qGPfGbs115eafC//uKDANx/5iKnTgy0uYtc4Tg3/JJotxLFNo3DJEi9vTYHa9OyikcghCAdoi5JGZaH3jYqZ9MyPSf4ngSvobW/I84rlLZhOVGEuG7hBu6fIAYl4AVSGpQuyiSzLNwYl2ZLr5LdQooJ5qiJFsbORKPpA4b3oHX/VkKlc7yTGJOgVH6gq+P2Cu9Bqf6iULhc2B8/pX5obWlb2bdqyLsaiipSgFQWoTztbXScei9CC1kfoce78JgtjjIo3CAS2Ut2xWNou8RWskhke7zzzP286Quf7/5++/wi33fzrfzKpz/BR5dHiUiN7CapkBy5nPPh//V3fOBt/7Dfw9kWUgpe/ePfznOfdQcvfcWvd1PBtiLRik+851eYnalua7t5YXjUU3+0x3R9VG69+TSf+PQXu7+//AVP52d/7Fu3NY7IlYBD6xZKt1C6vW9tEEWRoHSIlXc2A2G39PFxpUeIwCMkWxquB7FGIpXBWY3zIMqJidJF8A8agvdBVArCUdF9LKw7CWa6eIR0CLHmTeKdDO0564SgsC6N0ru/v0M6mQpJSTg8TYSc3HZDjPl8d/9p5aL5/ZQzcpKXLyuIvETIrb+TVzLGZIQSw4AQvjzf5AjhsTZFCoecgn1YFBrv1wvTAiU3m+pbozGjVheVeC8xrevxdrbv8zI5g84e2NBGFonsLnvRShaJRPaRJx47zv+67x5aZYvTXcuX+NjyZU5XqlEYmgJy73hgXnP6BV/KS174ROof+QL/+7ffemCqiI4szPDaX/geTp1Y5Lkv/QXmToeqm6MnF2msNmnWB5eMF8byV3/zT3zNU/v+DdqSNNG8+3/+LM1WjrEOayzGOoy1VLOU2dkqM7WMT3/2fv76bz/O697wNs5fXOHf/+tv44Xf9GQe98xXcs8Xw8Xce/52NDErcqUiMaaGMcEEXQhLmi0PbS+bJEWREHyO2ngfotVV2Y7hncTaLNxpF44guwCUVThllYo1CYKthQ7vVJkMJJB6Y7XO1qKQc3pTlUVncj1MUBPS4azumYyHf+WeJDPlJu8xnZ20ZBM+n8vdKqS8mCdLJ7yRyNh0RMt+ApCzeqRkPSHoipfBoyYdWGl0pdO3jUytfz6fmn24uSXWw4Y6Quckxq+OdcLwXmKaN2yIp+9FlAbfunIPpnkj3g0P4IhEdpsoDEUih4BUKh67eJT3XjjbfewP7v0cq2Y6jf+uZM57A7ef5Nm/8iIWLrR5/5veyz++75/3e1gDeeiDruF3fvF7+fgn7+X7XvU7PO/nvpWzyvGI7/pKLnjDotS8++f+lE999PMD1/G2d/0jX/PUx3Hh0ioLc7Uto+nzwpAma3+eji1tfSft+muO87o3vp1KJeX/vOGnuP0h1/HZe850RSGAl3/H00d4x5FIwHtFu3UEU1Sp1M7taitZYTRStQYKI0I6hPMonXcrULwPAo93KbZ8TpViz9Zs3y/J2p35hyhlsCZBqqI7Udc6x5i0K4RNEucUzmY4p7DG4f0JpF5BJRcmvq1NqGXyYoG0j11IqJTKkLLYszbFKxVrM5RqGjXdggAAIABJREFUl6KkZP23bDuVgUKE11kzmqgU2YwQne/9dPsRAeS2hZCjjzGIQjfh3RaV0iIce0I4dPVz5WsqOxlqJLIj9sZJMRKJ7DoPX1js+f1Mu0XD7o9vQ2Rr2t5x5kjCTd/9ZJ71gifv93AGUhSGJ3/Dq/hXr/h1nvdz38YDyuEIApcHLjrDDQ+7Zug6/vRtf8f5iys869t/ll/67f89dNmV1Sbf/xOvG3uctVrGT/7wN/HO//4z3P6Q6wCQQvCCb3wSt9xwii973K18w7O/dOz1RiLWVmjWT+ya+XRRJKgholAHpVt47zBFgjMp3qYo5dA6R+sCazKsSfuOM3j6JFiTdI12t0O4w7/zSZzSBdZmvY+pAmvWFBTnJNak2DHHa22CMRVMUaXVOEpj5WpazUWMtUi9gq7cvTeiUJdeoc5aTbu1QH3lNM36SeorV1NfPUmzfoxG/TiN+rE9HNvhx3uQMoiQUhmUzsvvTPjZbpWaEB4fp1Ej0Tn/GJNiiiz8azJMkW394n3GOTV2tL3NT2wtCkHX28jZKmBR2b3bGWIkMjFixVAkckg4nk7/H9hIf2pPewgvf9zNfPQv/oH3/p8P7fdwevjU5+4H4Ku+6ct5YJsGsav1Fm9+y9/wIy//On7t9X/Gn77t73j4Q65lcX4GYyzf86Jncv01x8kLw3f+0K/yD//02U1VQ1uRJpqTxxZ6Hrv+muP84r/9zm2NORJZj3MpzfoJajNnELtQ3WFNBaVbfZ/zHryt4fEIQErft8phfUuG9xJjk27DmVRF1/TZ2RTwGJMgpR2pWqXjKaTUJNs+wticVVinetp8inyGdjMIJFK2yWoXysl9/0m891DkcxT5XNfQtXcBhRAGqVcnOP7RcKzSah3B23msTfF+43lNhIqmdY9Mc9T3QcPa3WxXmh6f1mmkYzIfqhkP5vFsrRirjMI7jSuWtl4Q8K6KsxbTvBGhGqjk3DZHGYlMhih1RyKHhONZLD89qDjgzJGEG77tS/me33gZQk7fqfnBT7t9R69/1Wv+kD/+sw/wiu95Dr/8sy/mmquOcfb8Ms98ymO4/prjGGP5wZ/6Hf76Ax9jZbXJVz73J/nL9310QqOPRHaOcymNxvGJrzdJCpLEYIrqOgNnhbM1nKniXQ2d5CRJgU6KEU1vHUq1ywnZWlWEsylaF90fIRzGZD1VRs5KTJFhrcZa3b2rH6orJvjGy6h45yU6aQfDbx3afdrNtfRA5zKaq1dRX76W+vJpmvXj5O0Z2kWLvBChgspp8tZSf1EICB5GasBzu42gaB/HmFofUWgAPhpWTwqxS+KNczKKd0MIXmQJOmlPTQrZuHgPltG9IL1LKZo30WOoNARn5kNiGRJvZzGt67Y30EhkQsSKoUjkkFBRKsbTH3AazmJmNS9+9bfxf37jL7jv7rNbv2gP+OoXPoX7h+iOp265ast1OOd5x3vu4h3vuYujR2Z5wuMewqXLq7zqNX/AuQvLnL+4Sicls5IlPOvOx/DIh90woXcQiUwG73ZPXJBSIEjxTqKkQYjxqxxCe0YVKQ1CFuikhbMaqQzWpEjZ+/ch+HyE1jDnZDC99qCTde1iyoTUsEknCAm/yVfI2oRW/QT9J1Zhiu9FAycuIWUO5DjA2wqIFvj+JyqZnEVnD0x2/ENwtoK383iX4ewMo04UAx65TcHB+5CMJuXBnIhPGufktvflVnivojdUH6zVIYFMugMvnBVGIWT/Ss6NODuDaV7HOFPr4Ce0XgSevpuCkSuLGFcfiRwifvSuD7EahaFDgRKCuc9f5vU/+cZ9G8Ozv/OruPaxN3BxMSP3wy+A5z9zid/76T/k2NIcV508wtEjc2RpgtaKRCv+/q7PcPcXhpdJHz0yy7Of+jh+5GVfy+lTo5ViRyJ7iVRtZmZ3R2AIk3q57clmY/UE1gZhRMicmdn7cU4jZVGmnIU2tLWqJF1GyttNlUD90oKMSRHCorbZUrqR0J6WgBcI6XFO0WoehYGVPQ5duQehVvpWIAQz7hlCe4/HNK9DJitItYrUyxMZ8yg4W8GMXDXg0UkDpXKEsDin8V5RqV4cbVtO4pwGBELYrvAX4sAtckKf1UHCOYF3Go8s9+vuzXOMyRBYhLRXtBhnTYIvExIPqlhmrcY5kCKY/XsvKfz5kaokbbGIbV/NeMKOp1o7S7u1iHMxujCyd8S4+kjkCqBpTRSFDhHWe/Ibjmy94Jh8yZ2P4BHPeBRCy/KCR3T+60GkmgfmFA8AbCEKASzftMgfv/Pn+bLjJ7qPee95+19/hF/67f/dVxTKUs0dj3kwT3rCbTz5Cbdx263XIqewjS4S6SDF7k20d5r21RF/IPhcGFOl3VzCe0G1di5UDzmBQOC87FYAeS+wVgECfOma0qeVqRMxvT5qfieEaqUC5xR4gTWVIaIQgCzbLhwyuYDO7lv33sHbOZyt4l2lvBOf4p1GpKO3guwUZzNM80ZGrRASwlGtnd96wXV0fKJEOQkPlVO9dD6rYNztDnVylnMi7A/hS4HGgtybSpX131fvRUgJ9CK4gXmBVIcncc6YFAGl05lHSoN3EoQ4sP5BEAQh4+ogL4Msg+rHOM+Z9glccYKxsuwJhug6aaH0AzQbx7Bma7PqSGS3icJQJHJIONee7rjPyPg0nOVhj72Fj33oUzte19GTi3zzzzyf+2uC8aYhWzOnNU8+dpJHHAlClrWOP33bB/nl172Ff/rEPT3LVispz33WHXz9M+/gjsc8iGol3imLHByE3D1hSLD9CWTw81h/SSdpNY7Rmazk+SxKh+QzZ3XPRE4Iv6lNbFBakBCd6oCwDaXaOxaJ8vY8RT43xiskQnRELYUrjmCLo+A3n0u8XaBozKCSs0h9GbGLgoH3lMLV1pfWOqnvyEdIjWCmLMTacqEyiwM9gR+EEB6pTBCE9nkcYsP3yPtQVSTlwRaITJH1tpd2OMDvqYMQHvq0i211XvNeYNtX48z2buDppNHdfrV2llZzCVPMMK7AFIlMkigMRSKHhLN5FIYOIw//iofuWBh62rd8BVd9zSO4303uwlkCt87N8/gjR3n8kWOk6yp9Hjh7iZe98jd7ll+cn+FHXv61fMtznsjiwszExhGJ7CViFyuGpCowpQ+QlA7vBXl7DucSkqReCjuDxgVptkLeXp/Mt7awNTVMMUOS1pGq2Dr1Sni8F33bcDriQvAk6r/MIJyTCOF63oc14ydq2vwUtlgCr9myfcNrbH4VNj+FkE1kcgGVjNaqNQ5CgK58AdO8YcsxKZWTpCuTNfMeur3wmVmbdKPbDwtCgLVq34WhfnQ8vDrVW94LlN65mLrnHLTxjoGUFl9URvYSgiBIm+b1Zevq9lif8CgEVGsXsHaFoj1HUdQACcKSZcu0W4sc6g8hMjVEYSgSOSTEiqHDydKDTu3o9d/5M9/C5RsXWZmAKFRViofOLXDb/AKPnD/CXNI/AWim1msA+3VPfzyv/jffvilOPhLZGzyTuah26KQ5gfX0J0wic4zJ8N7RbBzrpmyZYgYhDEq3qFQuIfrcqU+zywhpyFsLfdOv2q1FpCzKlLLhhtJhHMNjvp1LylSzsG/7edp04qpDm8+a4BUEsJCK5gYmiW1Bnwqh4Qi8q2HbNZxZRGf3TryCSKo6uvL5btLQINqtI+T5LDOz9+2pSKBKUfCwiUNK5Tg3neIQ9FZvbfW9mka0bm8tJh9gxFiG0QlF80bw4wva69bSIwx1UKpA1S6Q+QtYu1ZplrfnRk80jER2QDzKIpFDwr+s7p25ZmTv8LNbT37u/IYv49avejho2Tv/FYL708kYYn7D6ev4qhOnUCPMJmZnKrzmp17IA+cuc/tDruNZdz5mImOIRMbDo3WTtHIZISzeaZxLgqfN+qW8DI/bYKAq8AjhyjWIsuXHk1Uv7vrEqMhnaDUXCB41vd817zWmmMXoNkkf3xwhIE3rJEmDdvMIRTG74fWKRv0ElepFdNJACIMx2aZ2sE51w1ZpTrIUVZRaE6mCsbXAewHlvtzYgiKEL6soBK3G0U3vcy/wdpai8SBUdh9KOrwoQDQnYlQs9SpSX8KZ4Qb63iUU+SxptrrjbY5DEId0jyeVwIMI7jHhX4fzmjCBnX5/ommuGtqIlHZiPl17gXMC59K+QsbhYbT35myGad0IfptidomQpq+4331e9PpXKZVjTJyyR3afeJRFIoeAc+02H12+tN/DiOwCD7xv6zay2nyV+2f73Z2ejCj0tBNX8fSTW0fSd1BK8qJvfspEth2JjM+aINQj5MgcNeIEoB/GbM8Py5oUa1OszbAmK2OuTVlBY0L1hrQU7bluqtgwiqLaVxjqIEQQsYyp9LnLLEPyV/MIWrdIs2WsXatgCF5FCTrJw7hdMC4OxrO+x6NGSlcKDGutYeFfP5LA0qwfH+n97h4K274GkdTJsssImeC9LH+Ceb7zOV6ujj2J9yNWM+XteXTSHEvQmISgMIrYoyhKj5y0TPfa+XbXE1LpOvtJIIXZUYqaFHbs1sb9QEqLMTszmt8rrEmQyhyIsW4X78GLHDw4E1q2NraaOlvBFUfL57cXkJGky6TZSnnTYetj1DmJs2l5MyNO1yN7QzzSIpFDwPsunJ2QBBCZJk4ZyW/+9tuGLjO3OMPCqUUauzSGqypVnnf62l1aeySyO+i0PvHqHq3ztXhwX0YzK1uKKapvjLv3gkb9JBurYpxLwCWMMg2WMifNlmk1jwFgTXXLiaUQnkr1As3G8U3bLteKMTWMqZKkq+WEGsChS/Gn0/pSFBW0aiOk7xEJfB+/oFExRWWfRaE1TDHTbdXLqhdJetoFFc4dwVqJpYGQzZHEB6lWsXZ26DIQqsDqK6eR0qB0kzRb2XHVi3NiYtHpa+2N229/Wl+dtD7O3Nlk0zqdU6ElTDgQvmvQHd5NJzUvVKMFAbhszxpkjjylaN0O7ZTCdt9b+C5t7/s0SYJglwDy0ApCxmRIYXEerM/xbhabn8K7kAzm7QxCrQASZxbxdmem0EIWZJVLI322zoXKTu/0jrYZiWyHKAxFIoeAqysx5vKwsSQ1b3jF7+Hd5nLjrJJwx9MezW3PfCQX5hMaI8TJb5cFnSD3+0o1EhmL0KKULNw78TVvjAd3TgICpSzOKpzXSFmEVqqyRW0nF/dStanNPIAQ0GrZMs5d0KyfIKteIB1SOaSTFtWZM7QaR4f4UwiKfI4in0WpNko3UCr4z5giA+HD76XQsF4ksE7vQCzYiT/H7uC9ptU4hqidRSdrRrThM3don+JcDakMILBWYZ0BdXnTulR6Fu81rjg2wpZFqArIE7xXI8XX92tF6vg5Kd3GWY3zEiXXPrsdsc0EtX6CknMyTHr7iGuyEzc/ItakB/am2KDvjncS5yV0Yu8JrX5CurLFT5VCm0DJfFufb1fgLsW28FkEsU2poisOHzY6VWodQ3BXKEyxWFYCreHMEdhm2lg/0j5G843VEyjdJklXu8e894Jm/XjXWy4S2WuiMBSJHAIetXiExSThUnE4/5hfiXzs99/L8oUVAISUfPULn8J1T3wwrYrisjN44H6AXRSFAD7XWOVinuPxLCTpSB5Dkch+I4TvViqIUtzYDdZHUEtlkT01QJaRSoKGoNclkYU73B1/JEG7uYQ1GZXqxYEVLFq3mZm9P0Qhm9qQLQmsDVU8ppilUjvfrcAIk6m1qg8hDN6H6g9rkpEj0INXSZjwKN2E9izBS2kbCBuqK8IIy3HKCRi0CopipkcY6j4j1rdgebQ2KA+5mceL5U0TP53dh/FqrDhrrRuhZbFsadNJE2cTILT09cP7UH2DoPuZCWWQdMSi0T+jgQg/li+OtSp8Fn7z66R0ICfjV6N0jjUasb3unqlESIdi8N91xdpx0Gn1E0OODwDvBNalpcBkNgnch5lQhaYROKQq0DrHe8L502qc232R2vve81xRVLvn29BO2iBJV8lbCzi3vZblSGQSRGEoEjkEKCG5plrjUrH5zmXkYPKIZz2aZr3FrV/yIGYecx0XneH+0AS/p+NoOcdvf+6TnMyq3LF0lIfMxWSxyPTj8cHHRwRRw5gMSlNp7+WepAJ5D6YYJsZsjSlqZJXLWJv0Se8SmGKWus2oVs93W782IqSjOnOuNIQOBtft1mBjZOdSmvVjVGfOopTpto3ppHf9QjjcCNVQYfJaQetWz35P0gZFPrfl68u1oHQTrVso3R4o9BmTUeSz5X7fpog9RnWMEJAlAmOO453FUQe5zjQ2PYPwGdaOdhx4r3AmIW+H82xN3Y8qJ7L9BB7nBCAHCj9CgN+mJ8p6Om2UHVP2QVirwKtSsJFIbXalNSoIlapswZt+c+zdotPqB0EAWd96571ESoNzCUrlh7YtbCPWJgh8WdkX9sv69+49NOsn9rSVdaNHUN5afx0luu2skch+E4WhSOSQkMpt3nmNTCVnllJufNmTyIF8D8UgieBImnBddYabZ+eYVZpUSm6enWMxiXeyIgcEH+4SK2XKKo/eu+y7HW3trKbZPIrbYcuUcwmN+vHyt/4zbO8SGvWT6KROVrnUU8W0nk5VkZAWqdo4mw5ep9c9IoAcYlZsrQpNKF6GVLeyukTroqxm0WjdKqu31taZVS6idIsin8WaysCxKNUaORFO63ZoE3EXKYoZinxmjHY+X965X8FajcDjEXgv+5ovW5sghENKi1IFzkmUqJFbhZANcHNkWoE+R6txbIuKrYApauvaeqDVOEp15mxosVIGazRSWpyXZeMPyC38joIYunPTaikdzqq+BtGdFp2wn4Lvlu+OsLOv7MBjc1TWWoFy1n+nIww8n0l5ZQhCEATDTlriWlhA7/fD2XTP/c1MUWV1+TSdmxP92igjkWkgCkORyCHB9PGiiUS2QgJXV2vcNDPLrE7IneNJx05wPJsOY9hIZHuI4JtT3ZzW6J0eKnRsB2c1xlRxNsG6pGz/2WmlhiOY0tqybWuYl1yoHgomyhYhLdXq+b7vM0maJEkTa0NcepHPbBrrxkm8cwlChFj7jkEwhBhl2X3p2sTUe9E1ae6kmq1PPrM2C61pXiBlgUwLkrTeTQXrtFJJWfRt69oKIR1ptkKareCcwpoKxlRwNu3uTyFN8IEqK0/We31sxFrV9cUROIR0eCeQ2mJt0q3GUionEwnOHUVq2xXjKrXzNFb7VX1t3E6obFvb7ymN1ZNl9VbRrY5RY/QoKhU8r5zrmGZ7rN1eKpZHYMsJt4euh5E1m82flcpxTnVbObttT8KNlIoGa75JiOCzg3B7Uu0X2X/GETN7hcnw2MDjZF9EGYlOVskql7vCeX3l6k0tZpHIfhOFoUjkEOC851P1lf0eRuSAcVWlSiYlAoH1nqU05cbaLEfT6TOGjUQmxaRFIYB2e2HirQBJukplnbDlvRqh9UrgvcZbTaN+kiRdQSfNvtU2ShWo6kWyyiXarUWKfJZOpcrGliGt25giGBsPMgg2RZWiqGFNVk54fJncllOpXgCCqNRqHO25Yy+EZWbui7sWMy6lRaZ1kiFG3VuhlMVsMNuWMu+bDtfrRdR5zFOpnaOxepLhgqEgq1xECIcpq6iSpN6tgtguQvie/at1G2v1yAJNh43LG5OCA6XbWKPxyLKKynQr9tbGEMQiazK8HK3FzNqDlTYW2Rnei1KsnkVIQ7V2duhx0hGEpLAjCYamqNBu7307vJR5TyqZEKCTOkU+v+djiUSGEYWhSOQQcLbdpmF3ry0icji5aWaWF153034PIxLZFXRP7HhgklHeECYm7daRXfGHMMUMrBOGsuzyGJ48QUjK24vk7QVqMw9s8iAyJsMUVZQqSLNlknQ1JOJ4jXO65469MSlKtzdN0trtuVK4cCjdIs9n1xlAC5xLQ+JWuoq1GXl7hrSyQsJqWX3jEdLumig0UfqMUWBxdrQKNKUKZufvxdqMZv04/QWi0M4mpSNJGzsf8zD8ZLyHugjQaq0qTOBxLhxDQoRjSErbV+jpmJtLGUzFvVNlC18Uha4U8nyGdmuxTF4EXKjCTPqcx6GTbje6X1y7NV96d+19gIbs04qapKvl+TwGekSmhygMRSKHgJOVCs87fS1/9MV79nsokQNETcU/AZHDiuvbKuNcOlHPjbw9P5ZYMw5+w8TdbbvtQNConyBJGmTVC8GQ2AtazSW8SygIVTuV2rmuHw1IGqunqFQvIFUR2qf6zF+cyWjmM6SVy6EtTFgsax45a9s/iZQFtdmzu+rttJtonXfbxjqTUanMJmPZQTgnqa9czfCJoA8tkKVX0m4iVd43Tn47dNZjiqx8ex68QGkHeNyACby1ulyutyJK7EJVX2Q6sVaXCWHr29cdldr5vqKQ9yJUCcl8S+Nxa1LyfK6sYty/651+8fNKGaQsYgpZZKqIs4JI5JDwjJOn+fjKZT6+srzfQ4kcADIpecLSsf0eRiSyK6TZ5tZaY0LLwaTwXpDvkigUED1VO97txI9CUhSzSJWTZqsAaN2kyHW5HUWzfoL1ooVzKa3mEln1wkDxIMlWaNZP0Goc7/t8B6WbVGvnD0Zl0BCUKnBWU+QZQvpyvwisTXra9bzf7GU1zOx7DUneXqQizwO7Kwx1Eq2sSUA4VB9T6WFYo8Pb8QJVVgoJGYSgYAoU/IxCxVB/D8S9SgiMTCfWJn3bK5O03iMKFUUVW1SxNu36dGndRCeNbnvrRozJNp3T9otB4vFBPx9GDh9RGIpEDhHXVmeiMBQZyM0zsywkCXddvsT33vRgrq7uLEo7EplGlG6SVS5vejyYBk+uEsGYylrbw27hJQiHNSnW7vzOcru1iE6aSGmpVC8hVUG7ebR8dvMEyrk0CBoDJu9at6nWztJsHO/7+g5SdASDg01HABLS4J0OptMelC6wJi1j2lOENEjVa7pthpqHr8dP9DjdCqU7xtAZSm1uF+zHoEqjjV5WwTw6CdVv3fWGFkJwqB16J0UOFiGlMA1HgFO0W0fo11LZEVKc1bRaR/oa7xtTw5gaSbrc48XWXYcdNY1w9xEDbkh0TOsjkWkhCkORyCHi1tl53nrmvv0eRmSKWNAJi2nK5xt1Pteo82MPehjPOnk119Um74kSiUwDg4x6lTbbMtwdhNbNMvZ998zaG43jSGkm6GEkKfJZssplrE2wxdZiRbt1BCnNwHSwIHgMn+AUxSweQbV2fjuDnhqkNGtVXNIE0axsv/Ne9AgmzsmuUJLnM6W59ygImvUTKJUH890dRryPtEXRMaROgK2rh1TZhrZVwpgQbGoTW481KUrGiqErAe8FzcaxLdIVy0REYamvXFUKRMNbL9N0te8zabaKkJZWc2n3BfwtSPvcqMjzmS1TCiORvWbnznORSGRqePjCIs87fe1+DyMyRZyuVrmqEi7ErPf84b2fj6JQ5FAz6GJ7kqIQhDYYsctVMM5mkzW2FpY0u4w1KY3VUxgzStVgOaGz/fdrVrmETuoMrwjypOnBT84UwnePryB65CgVxKLgC5SvW9aVVQvQbh5hvOqF4KOy19HaShUoZUOFmhl877jThjbMwDqIZcO35wmVSs7G2O7DjnMaa7YW0b1XFMVs+T0b/p1Rqo0Y4lmWJE1qMw8gxP5VpkmZb/JKKooq7eYS01LRFIl0iMJQJHLIeMbJ0zz9xFX7PYzIFJBJyUpheMT8IlUVLrwfe2Rpn0cViewu1lRprJ7AbJqEBBPcSeC9oLF6aoNh6n7jypYF3/uYLFCqhU7qJDokXbXGnpRImo3+nmRCeKq181RrZxkkDind2pSKdlDp1/4hJZtasIRYM3iW22gNE2J4Wtsowst2UTrvVtiZIsMOEG6kyvuOwTlZJtvJYDA9AK1ztG4jlR0oPEYOB0oVVKoXmVxLqSsN8zevzxQZxmShrVN4KrULE9zuODiy6sWeR6xJaTWOEUWhyDQSW8kikUPI805fy/Gswhvv+ewhcHWIbJe2cyybguNZhZff+CDefe4MTz1+ar+HFYnsOtZWMEXek+ykupPPnbfmmKK6ryk3/UjSejnxWhMv1k+airxGns/RrJ/YVhKOd0nfaPaQ1CVRugWbEsnKZUyFVmOpm4p2kBnkF9J/2SB+uHSVdms8Ub6fYXMQO8NnqlSBEB7vJNZppLDIMQ2kt0IpA+XnvdFgOzzW32vI2aQbS2+KpLuOoUS/lUNPktZRuoW1KXlrYdN5SKo23su+KV6bCcmKlepFrKkgZIHAB0PzpNe4XcpQKZm3Fyf4boYjVZtq9Xyf8+UoJvSRyP4wXVc1kUhkIggheOLR4/zPL95Nwx7MaODIZFg2BQ+0W5xrt/iOa29EHPRZWSQyKhvaXIzJdhwBbkyGKaqYYvqM251NMEUFpVt976Ln+dyO/ZCKokamegMOpDTUV06XYtSg84sI7SFeUZs5u6Mx7CWdapje06bEezuWwJWkdbxXWJuW7TRbV645l+C9COJPadrb7/gV0qFlXho9p6Vs5EvhaPQxDsKYNHyqG4Qq7+lJgwox4mFCr9aNs1+rj7O6NKR23XbMaMR7ZSClRcomzqbk7U67mCOrXCIp/YKMCedY7+WQ74vAmhr1lUr5vKdSvUCS1vtuN82WsaayB1WenjS7TJot9//+xSSyyBQThaFI5JAiheBrr7qGN937+f0eSmSfyZ3lcUeOMqPjKT9y5SBVbyWD96I70d4OeT6zK74QQhhktxLD42yG75qlOnTSJEnqSFXgbFK2dAlC5cjahMnaCs1GBSFsaBtLGkiVdycnUpqdC0P5XM+ExxSVLRPJ1mNNlaKobvLc2G+ck0GoAPAyHCsEk+XgKyRxTgECKQ3WZJuqEoYhhO8m5XkvaLcWSzPqYftNYIoqUuVIabZsxet4Hq29J4VzYlu+WkHkSQkC09ox5D3gQ4WSdwKlDcZkCCwgBkTPi3XrBWtD+plc99Y763VO9Y0ejxw+sspldFLHFDWStN5IPo+zAAAgAElEQVTzuSdJs3uOaDaWMMUw4/bOOVDQah5ByqLvd0WIIA41G5MVhpJ0GWsznM2QMqdSO7+psq6HKIBGppg4S4hEDjFPOnaS9547y72txn4PJbKP/Ol9X+ClN1Q5nk2TH0oksruYYoYin0PKAo8o03A8Qlhqsw/0nYCGqoWNwpHAmMoYopAH4ZDCIqTtesWIMrJdCIdzCc5pkqSOTho9d5ZDulUFgS+rf9aek9KSpHWSdJW8Pd/XmNp7RZHPU+TzgCNJ6+Xd8p2np3mvaLcWySqXEaIzPjtWW127eQTd03bmN91Z71+pM2hMAmsylG73iH4dIRDK+GsvQJTePeW2nVcI4ZCyQK5L/7Im6am4CcusPS9EG+8EQo4vMgrhqVQvonUTa9PgxeM03qsQcy8LpCpQAya4oyKlLWPo+7d7DcPapH91kgBEqFBav51hKFVgTFr+f46URbcaKnwmDqUKtC7K8QbhKBa3Hn6UMqgNFYjeh++rs2n4fthR214dOmngvGKQlfna+WoyZudSFmSVSwCYorbpXN6PYpJhApHIhInCUCRyiFFC8K3X3sBrPvmx/R5KZB+5WOT8w+WL3Dw7t99DiUT2DFtWx/SmlAm81+Tt+a4fD4QWnHZrcZttBh6l2uikidJNpBxuGrwVQniSpBkqMfpMMirVi7SaiyOmlUmKfG6E6pTRKfJ5TFELlUPSIlUxNMFqI95rVpfX0jOFMKSVyyRJvft+W41jZWJaENmy7DJptjmW2jlFs3689CrxSJWjVE5WuYhzGimDuCMHRKJLeqtpgsiUliLT4PcgBBibouX2WxN10kInrW2/fhQ6HkfWJHgk4NBD4uN3dSx4vBelwNbf5yuMtz2Rts/IwcN7aNZPbLvdq1K5hJCDPeREKQxPRhjyPZ5pSbr1DdiQwLdzgT4S2S2iMBSJHHJumZ3jzuMneefZB/Z7KJF95Ex7dycgkchBoshnEcKRpKtYk9FqHmU7wslIrQPbZrC4ZM24E6fJll94r8c2Ux66ruZRivYcUuU4m64T8wR4Rbu1hClqKN0K5rRe4b3E2XTdJE/gbFZWI4mgKY35tp3TI7eIKdU+MK1PqhSDrBlefeGsChUXanIJcqYYr+0OxjP4jhwOnJO0m0s78ACSFMUMabYy0XENQuvm2OKliHEwkSknCkORyBXAN119PU1r+ZsL5/Z7KJF94mwUhiKRdYT2I3zX+pZRxBMhDDppIGXwBdrNlpd+qVQdsupFmvXjjGJivDf4sVvKNuJcOjQtzdpBxrGO9fshb8+hk3pXDBmHcRPHwJatT/mOqsT2DOHwfQQzU4RWPKkskgmLMtvYL0qZMu1OIPDICRlpR6YP7wV5e568PcdOz2d5PrsLwpBDqgIpDd7prsH6xhj6Uei0E8dUssi0EoWhSOQKQArBC6+7CeM8H7x0fr+HE9kHboltZJHIOjyV2vlutUeSrpK3FqH0AvJeYm2Kd5pOak5auUyaruzZBHWY0DBtbTZS5dRmzpC354JXjnDgg4dPSHDrNcrePh6d1BGEtCvn1KaEuCRpbMtwGSirjwYLchvptD71i3KfRkK1lcRaXU5Sgw/TuBU946BU0VeMGuV1HbyHIs/QyQER4CIj4T00Vk8OFYTHYauKHGOyDa3FfdZRtrbKjt+X3JzG573c9PhWeM+64IBIZDqJwlAkcoUgheC7briJT3x0mWUz/RewkcnxsLkFnn/NDfs9jEhkakjS1Z4WIKUM1ZnNFZXeSZxXeCd3dfLcj2FtSiEha1qqhcDZjNXlq7uVVGm23BUhtG7Sbi/g3c7GmySrqKSBFA5PmJzl7WNs3A87kQ26yWTjvMb1MyyfTgQeKd1Az6XdoOP1tF1CkllKkrYxG0zBIwebdmtxYqIQBHPpjXhP18g6b88zTJiRsqA6c2Zoe2jwKRpdFAqG6lWK9txE32skshtEYSgSuYJQQnLr3DwfvBirhg47mZQ8dG6Bh88v8vgjR1HxSjoSAcId4U6SzJbLSofC4YTcVtXDThhUGdGJO58+ZLcdbDRj7PEwNkOVEdYmn6UoavQTx7xTWJt0jafHQYrxKo28E3i2Fwm/13gvkHtc1eSsGvo5dEQfvEAIh5Cu287nS0EWfDdVTesCa5LYWnZISNNVfLeqcBIf6No6vBcU+Sx5e34Es2mPThpklYsDK4FCpVB/sb4jPnlE2Z4c/rU2wxS1iaWgRSK7TRSGIpErjBdddxNPWDrGxSLnXLvNO8/eT9uNVxIbmW4evXCEF99wC6mcnoqCSGQ68FSqF8ZuR5HSbSv2ezt0Jsv9tjXp1ouDhHcJrcbxrZYiq1xGqaJMFxvt8/JOhH0+ZlWYdcmeHBOTIETQ7+1YPRI5xLep33Huy6+mlBb6TMKVLvbsuxjZXaQyVGvnsfYyzcZx/BZtXlthiipNVxrTu2QkQUbrBmnlUo+426nysUUVhMV7WYpXitn5e3r+fjgnaTWO7cA0OxKZHqIwFIlcYSRSctv82t3mLz96nM/WV3n3+TN8cnVv0hwik0cApytVHj6/yNefvhYZb6dGIj10KoV2OyJ8pwwShWD8NoYrjTRbRukcY9KRPH+cCxNIpdrbbBU8OOfZvfLmsTYJlT5ilAqszfsv/um68lDKkKartFtHdrQe7zXGjD61TZJVssolnFdYEyp+rKngbILSbYS0pNllhADnlqmvnA6G6OV3yZqUZuPYjkz3I5FpIh7JkcgVzvGswvGswi2zc3zw4nn+4oH7qNvpL4uPrHEkSXnJDbdEg+lIpA9CGJJshTRd3dHkeK/mq1ttpzpzFu8UjfqJOCHpwZFmyyNVxqyPZd+JkbeUBd5JxJhGtHtNaIMRe9IOKaXBC5By6++alNszpj5IglxkNHRSL1tk9+KzdaF1rHoBgKK9QJHPAgKp2tRmznT/VngfPMSsDVWazfpJsspFvFe0mkt7NN5IZG+IVxSRSASApTTjGSdP88iFI/znT3+C8/l0pd5EBvPC626KolAksgEhbFkhVJ/IZFiqfE8m1kIarFUo1b8FRwiPUIZK9QKt1iL+Cmwr60eSruKsDv4eA3BO4YxGJW30GNH0g5DSYU2CmnJhKByzYteP3eC1koBwwNY3mLbboimF6anciBx8pHQk6SpFvrvXMlnlAkla7zl2KtWLaN2i2Vwqkyf9WouYS0jTFfL2AiBwLqHZbWmNolDkcBENKCKRSA+nKlV+4OZb93sYkRG4ulLlR295KA+bX9jvoUQi04WwVGfOlBOACa1S0L1rvJuE1KgwYR6GTlpUqheozd5HVrmIUi2kzFGqBRMQPTbjEcKUiVbTNiEP1ULBlHjz2LyTmCJFCItK2uAnN6HreN44O733Wr0HtQdJZNYGX6dxzLiltF1foZFfo+yefBcje0tWuYQY0wB+XKxN+54jlG4i8JiihrOaIp8LvkFekbc3VjIJoigUOYxM71+xSCSyb5yqVHnRjVdxJPPMJpIZLahpQUWHP4X//h/PcncjVhTtF6mUPO/0tXzlsZMxbSwS2YSnVjs7ksfMuCi13daX8RAiJDENqxwCwAdhQqmCNOv1iHNWh5jkooazKdufyHjSdIU0W+62THkP3mmc07SaR/c9dUcnzZAC5BQgsCZFqjz8v01LD6E1YcTYBD1BoaRT8WJNMM9Vem/Tv7ZCiMm/543YbRpCS2mxpag2iqBkbdJt74kcLoTwVGrnadZPsFvCiylmyNsFyYbWYmuqXY8is1rdlW1HItNOFIYikUhfvvL4EtXaBcLFV+8F2M99yRL1XPGxi4a33HuZf1lp7ssYr0QWk4T/56Zbua42+TjoSOQwIIQdOY1qK7wH5zR4GSajwu9pGtKwVpsQ2z1YNJLKkKoV0mwF54IfhjXjTngctZkzm/anECCUQSpDRZyjyGfKidX+CERat8oWMtndV8FXh/4eQr6MUh8mum0DpYsyVU5PXYT9brdd7WTtSpnSCFwOjAtfv6GYSHZ40bpNVrm0YyPqwQja/5e9d4uVrFvPs95vjDHnrFm1Vvfq7tWH/997/7a3T+BDfMDGtnKFZAGKEpGgCAlZMYSLIEUoIIgQikAKGEVchETixlIQVxzEBXBJBJGIQViBKLYcYrwDNokT773/v8/da62qeRiHj4sxq1bVqnPVrNPq75Fa3V2rVs05q+acNcY73u/9ykewdQ+9869Gj9Z1b+I5gvApIsKQIAgzcbaHED5MDdK4seD3Uo+ffU742ecXKO0T/O5Hj7/55TX+j7c3K2/jm70OzpLJitb/77pE3x93XsOhyLXGv/0DP4LnHWmLKgjzSNJ+K68TggKz3onzaFWIGHpGtpGz2VpdtJTy6HTeo3/TwTqTnqzzYanIZkwFYyowE0Iw4KDhXAe2frDydraByMEkfXDQE/lCsYPbMEA2CnzMGoQAbWLJGQeF0Pye1nUrTrDha+zDWbYOSu1GqLo9zs0P1rsUpOxqgdV7cu0JhyOK2WaneUNa397XQtAbiOaCcP8QYUgQhDkQ6uohOvn7iUdtfYaqeoAkGYAoIEmv0Uk8fvwS+PHLc/xZ/xB/cA38+qs+/saXH2EXhAf8+R+7xEU+uWLbrx/jL/zGV3hdHddq6zHwr37xTRGFBGEhjCRdXZyex61z4fAiNRHgnYE2rim5oY1aqyvtmnDX2H1ntW2v7gOJIpYFtIU2JZSu41aG4kwwcK4D7zLMj7gM8btFeRB5hGDgfYbgs7nbTdI+mBUYCnQnWykEAocEStvGwTP5vUIqjIKjQ1DwPrau31Z0iCLMcZU7ETGci/kqStmtj9G5rHmdgBDUdt3d1hDliLBRYLVwWqTZ1W6FIVOO/r3OPVEQ7jMiDAmCMBdbnyFJrycs8UQeYD36wq6rc+TdNzBJ/JI1OuD7LoDvu8jxSz84uQIzPfCbtvH3Uo+/8nPP8df/cYX/5vfftHo8p0xXa/yhh7uyVgvC/UDrCkptVx7EjOXlLHsmlmg5cNAbiUJDOvl7pNlHeJ/BuwzO5eCQzH2+s/lGDizvU6TpYOrxNLsGM4227WzM9QA4to/ufJj6/JgJRf8pkvQGzuXwrgNmhaEImGYfm++WgBAmS9mUYriwmsAVQ7+j88m5ZCsHUQjHV0oGTGYhbZKDNBSDAEwIaET7vV6MqeFcAqX80V2rQku0GBA/i6p8BBDD1T04193ptgThVBBhSBCEBcRa7G7v9eiR8VWWiEIICYC7j29u9dYq4I9+b4KffvJ1/Id/90tcu1102DktvpH3oMQ7LwgLCWHzYc2w1TaDjs6NcCtsbO9AiQJIgSQpAHyA9wbe5bB1DyGMd3qKYk3bEDFMUsbFhPx9U0bk5k7wiRh57xWIgGRMbBqWEw3dI9HlNf1dEUWEbGVHy23wdwKizYQHrd1Ru1p4A3dEPJ72m05s+j4ZY8GB4FzWistLOB6c7aCudluKyqxRjtrOC4IASLt6QRCW4F0OZ2/Ll2aVV9h6N0HIn597/MWf/Gwnr70rCMCzLMP3987wg2fneJJmUCD0tME38i5+7MEFHpj5K/TzeFtLFzhBWAazBof1hzbOpWAmaGOPcjKvtIV3Zms31Cy0dkiza/TOv0LefTVqe5/3Xk0IMWuxhn6lTb1UfJk16R+5VZr/L2oXT+Sm3ERL90vbUfnVJhDxqA37uu3Yd4lz6US+yiHZVjwjxaN8q3gN35YECqeLtb3YKl4QhL0ijiFBEJZSlY+gzZejgbgx5YT1NoQUzuaxZXDLfHbm8c9+doH/+csPrb9222gi/Af/xI/js85kCR0zg8ZmNp4D/va7t/iv/uAfwjUzhoskwQ/2HuD/unqPKkxPkt7UFd5UJS4zGSwJwnxie3Kjph2M8/DNRPmYHQfRMURQOy5PGjl5toAZrXWFWwWlo1uI5gQXh6Biv7INRLWhe8itcY4Mc6AIAd5lYNaoykdIsysoFQWqNNs+B2sT1jmOfe1LGyjFUKqGsxm0qaBUQPAagY24iU6QLPuIEMzCbDFBENpHhCFBEJYSQgJbnyPNrgEAne5bDPp64ku7LB6hZ8qdtMT941+czRSG/vT3P8X3nqXQBPz171zh119ft7bNTCn80NkDfC3PcaYT/G7/Gr9z9QGJUniWdfC2rnDtJidpnhlflsWUMER3RqWaFH7hyVNcpCn+p5ffxS88foqfefQYmhS+Wwzwl3/3W+j76Qng337/Fn/kxddaO0ZBuG8oXUEvKHe57U4VXUWqxdb2u2aT8p9DEMu7EpgNMmwW4WwH2pRTk/wYzp1Mfe5ReLCtZNDEUjWN4AnazBfnQlBQ5EGK4X2CYvAMQ0/TbftthjbV3rvdMaPpHJesHD4dyytTMNCqyygE3bpA5V0ykb+ltIeCh3cmBm5rKUk/FZR26J29xKD/VLqFCcIeIT4if+tP/9Q/xf/rr/36oXdDEISZMJKkj7TzEUr5USDouN3XJH3k3bc72frrgcav/v23+PtX0ZX0J794jH/xm5OrSd+51vj3fvPb8Fvc1nra4Je/+D782IMLGDVZkuKZoRCFnmtr8V/+wT/A3/0YBSsC8CTN8BMPH+Ff+vr3bL4DAP5h/wZ/9fe+NeUcukwz/MqP/IRkDQnCDJSu0O29milOx0m9gTan6x44pRbdu8jX8T5B8MnM8ra67kI3HbJIeXifjkrB2oQZ8C6beR5FEcWMhCNmws3V1zGr25E2xUR2374IozJLbrIBgcnuadHpRBTAHB1quzjnvEtbFWSXhWkzx0B0wn7dbLfbj+/x8L30PgEYGwWAf0r0r1/cyT0TBGFbHlzkv8HMPzPrZyIMCYKwHuTR7b6GNjWYgaL/bEwcYpw9+PZOXENDriuN33nv8LPPFdSM7fz2G+Av/faXG7321zo5/uw3f2jlci1mxh8UAxTe4yJJ8CzroAweud7ejPkb79/ir/3+7009/qe/5/vx848vt359Qbg/RNE6y99P3Xu8T2J20JGUz2wLM+30/toWse17+5PeYvAYeffdxGMhKNTVOTr5RwD7EdBCUABT4+IigCcdXcPzbdHENu++2rpsbxN29dmsvP2WRaF1X3MX25/HUJDSygLE8D6eC6YZPzHrneSG3QcWCauCIGzOImFIwqcFQVgP1hj0n8G5DERA3nsNpYaDrOgi2qXefJ55/NwLmikKAcCPPgH+mecP13rNnjb4559/hn/3h350rQwfIsIX3R5++PwBnndyEFErohAA/PTFY3yRT4d6/3ff+Ufou+NrgywIh4DIo9t7iU733ZRgEoKC1jFM+n6IQqu1Xb/PGFPC2snSEu/yidbw+/islQpQ2kNrB63tKLR8+Mf7DBwIJpmfJVSWjxonyX7R2sK5uH/7xrsEagfB1wysHDitdOw451w25qBqH+8ScNDx/qOiW2h4fgw5xOd/KjjXgYhCgrBfRBgSBGEDFHwzOCdi5N03AMVVL+87KPrPDjbgIQL+1A+cQ6+w+Vxr/NI3vhf/yY/9JP7E51+go9frWrNLiGjmBOfaOfy9q+MP4haEXaOURffsq5PJCNqWIJ2WkKQDONud6DBmbQ6tj6trozEVSDHS7AZEsx0hHBJU5cWe9yxiTAUQokC0J60xikKrZRutizE1tLbwXi/tIkeERjCuQBTgbLZWJ8PgTeNEnP8c5zJoYxfmGjETOGg4m8G5FM5lTXC5EIKC21G3W0EQ5iN3IEEQ1obIw6T90f+VdjCmgLNnAKI4NLh5jrTzEVrXe7dKdxKP/+gnvoZ//7e+M7dr8qMkxZ/7/h/G53l3zjMOy5W1+EeD/syffag/jYmwIEzCSNJrmKSAUg5E/l44gVblVMKnd02aXaHoP0PeewUOGt51UBaPYZJi1CDhWCACkvQadTVbALL1GbSuZuYm7ZrYca2KXdto+4DucYZZTHFDAMB7KefU2gPwUWBhBbVkm0QYBVaHoBCCGe4wCAyAwaya8Oo6djxshOgQCMEbMKi5HzFC0GCmKLwtIXZSi8+LGUk1vDcnlSW2C8rBY9hmLCkIwn4Rx5AgCGuRdd6jd/blVEZB1vk4VlIWW9iXg6coB0/2vYsAgO+7CPhLPzW/g9cvf/HNoxWFAODMGDxKZq98/vq71whHlA8nCLuH0cnfopN/gDEVlFouCsVJ3n1CrnkATelWicHNcxSDpwAUvO+gKi/g3PG1t06zayTpNWZ/foSyuMTN1ecoi0crl0O1Sdvu3hjCHTuEmaSCMdXeyzm1dk0OooqOoBWOUanQlHrFfR7+vkmqUVbQeBmYUjwqISQK8N5Aa7d2N74QFFQzntLaIfhkwhH3KeFsB9aKU0gQDoUIQ4IgrEVVXsDOaB+qlEen+xbA5Mqj9xnCgezR3/Mw4Ivu9EShpw3+yfMHB9ij1VFE+Bc++/rMn72qSvw/N1d73iNBOBwmGazlqhi25t5nqczukSHbkDS7ArMG8/gEmlAOLneaG7MJRIxO/h5p9nHuc5gNbH2Owc0L1NVqbol1yp8Wo+BcO4IUMyGExR3C9olSoXEEcZMrFEu24n1hPaVqUZc9IszNPZyH96Ype5vcD23swcZMh4SDQlk8huQKCcLhOK5vT0EQTgBCVTxB//oz2Lo7MenS2jbtot3E8wf9ZwdZCQWAP/b1aQu/IQKdgFf75x9f4gd65zN/9rfejrc6DtCmgEn6zd83dz4DQThlArLO+5k/cS6Ds+nYhC+FdybmiCgXS2W8+SQnWvcZpTxMMl1qy6xRDi6PUgxMsytknXe4u3gyCaEqH6MYPJkpcHmXohg8wc3V13Bz/TUMbp5tfaxaW1BLk/FDdzybx22u0K0jiINa6swZlthpUzf3ltjl0LsoMnmfwDeZQ4FXm1KFEHOQoruonu1+PP7hSeuU5QWY5T4tCIdEhCFBEDYihARl8QT9689RlQ9Gg1NtanR7rzBum2c2GNw8R1lctLjKuRo/99zgYTI5+LPcbp7CriAi/NI3vhdqxijRjs0GiAKyzgcYU0DrCs7m6HTfTpT2CcIpQsoi776BUtPXbPA6TvKSemzCV0ObSVFUGwdSrikp2dee74KT3vnWybIrzHpPvO+grmcL6oeECEizm9isYQnO9tC//hr61y9QFhewdReDm2cY9J/D2d7IKeV9B96t3knzLkMXTVudwoypG/GklZfbKUp7EHkErxuhJwrLwZsYDM0EhhodS7y3WAC3JWRa21FnukWOoiHOpTGj8RMJzF+VKPBLCZkgHJqtZ2hE9A0i+ptE9DtE9H8T0b/ZPP4Xieg7RPRbzZ8/sv3uCoJwXBCYDerqAoObFyNXkNJuxkBTwdYPwCuuqrWF0QH/2c+/wJ//kc/w9Txm9gy8x0d7GgOzz/MufvHZi6nHc3UrdkXh7TOUxWUTcqrBQSPwp5lTINwPkuQGvbMvYZJy6mfMtPT8Hp+bDkNmQ9AHcy9uQ/D6KJ0Yh0RpB5PMLi+sy4d7X4RYGRoX9R3mC36EEFLY+gHK4hLe37bv1maApHFMWbt+Vp73CUJQI0GjTQOtNvZk8r2IokAUhZ4oLCsdg6SH4dzeZ7F7WNPtbLv3ana30WlOQFlrCWagKh7hk7RJCcKR0cad2wH4d5j5N4noHMBvENHfaH72V5n5L7ewDUEQjpwQUgxunuPswbdjJ5akj8rfzfcJILX/EqdEB/z0M+Cnnj5Bv9b4/WuPEn08xOK2tsfCH33xNXy7GOB3rm8zKp5ki0NWq+ohIMKQcKIQeWT5+7mTKO/SGPg61pp6cipFzSOTHRG19mD2TSmHBa2ZC3IoSHmEEMNthVuyznt417mTNQQAClV5gU733UH2axHDxRFSFr2zL1FXD+Z2LZuFNgXS9Bpl+RgA4GwXwV+BlFtZtGAmaL075+y+F4B2BTOglIVSAQoeHAg+pCt1HZv1WoTlHVpjV7LTcDW3QV09QAinMRYThPvO1nduZv6SmX+z+fc1gG8BmN8KSBCEe4xC8PELPklvZpQyKRSDpxOTuX1CBJxlHj/6BHiRHl+pwTwyrfHnvv+H8cNnt4HZP/tocbc3DqfnihCEISYZzBVtQtAABWhjoU09+mMm/lRzyzWIYlnIMCvkFCCKk8W2O0idOkrNz5+y9gxlsbrgsi+MKUbiDhGg1xAZjBkg776GNhV45MpR6N98jpurb+DmKuYODcvPQtP+fBxmQK9YOsYcrzfflFitilIutow/cYiiyDXMIiIVW9hvgvfZVJnrXUJQ4KA/GQHYuxR19fDQuyEIQkOrd20i+l4APwXg/wTwhwH8G0T0ywD+DqKraPa3tyAI9w4ioJO/w6D/HOMWYe9yDFwH2pTIu28OsmLvbPfkQg6JCH/ya1/gb717jedZjmfZdK4EkUOaXaEqxZYtnDaLVsyDNxPlOJuiVABUiO4hZZtJ3/GiVHRIacknmSBJB6jrCmHKoQrY+hxpdjUzo+pQxO/Gt3A2dvdc1V2TpNfIOrcuOlLuzgIAgVnDew3vO7gtPOToetEWStnRtcUcS46ZFRgEjImODAIH0+zb8PGAbu/VSuefUgHM3LhfVjq8o0UpB+8yKBXdPlpbeJ/E92Z4yyBg9D7PuI9Eh9ZiAXAYNq70clfRfSAEhWJwiemxSkAnfwfvM9j6bMbPBUHYFa3NjIjoDMB/D+DfYuYrIvpVAL+CeNv8FQD/KYB/bcbv/RkAfwYAvvGNb7S1O4IgHIjAGkNTf1zJL+Dd3QwEgnc5ysET5L3lQZxt4zbIZDgGvuj28EV3fkCjSQZIsxs4l8O7fI97JghtwqP8lLuEoKD09hkm3pkmSyS6h0IgeJcefSjscUtXhyPvvsHg5sWMkjJqHjseYQiIwgk1QoOrl30fMbLOB6TZNQDAez0q116tBC1mFW1frqMw6D9D3nu9UikVER9tl7JVYY4CWmx5HyHiucfkXDqz6QMHDbXEBRSCOfr7T1swo+keePc+Hkbnl/I17BGGyAvCfaaVImAiShBFoeTi4ukAACAASURBVP+amf8HAGDml8zsmTkA+M8B/NOzfpeZ/xoz/wwz/8zlk6dt7I4gCAekHFyi6F+OrNdxADV7UO5cF2XxaO8dTPyMleX7gPcZQlBI0ptD74ogbASRRyd/N3MSNQq3b8X9MRkCqxSPOirNahN+LBhTw9ls1E1KiCjl0em+wSzprCqPr5wMAJKkBDM1AtG8L0FG1nk/EoWAKFQo5Rsn1L6FBNUEBU/ifQLvpv+ceukjB71yiLn3Zm6J3mr3lNN+r1YlBIVyMAxTH4eRd9+MREdZ3BKE/bO1Y4iICMB/AeBbzPxXxh7/jJm/bP77JwD89rbbEgThFCA414W77qCTv0PW+Yg0+4hycAk35RyKVn/v06Yl9e4t1LEN7f0MZQ4+Q1U+QppdHXpXBGEDQpOfMj25imHR7XVPmle+o40Fc9zesa7ej7sXovPJn0yI9i4xpkLW+dCU0t7iXY6bq8+RZldIs+MSzYkYSdpvvvsYauhEYQKDQOCJrnzjiyhEQN57hap4PPO7dVeEkMK5bDSBH//3fSOWdcWW9vNKvJgB7zKQ8hP3J+8TEAJAWLH8kxG8BrMGUVjqMDpFrM1RFY9njsGMKSbOdVtL+3pB2DdtlJL9YQB/CsDfI6Lfah77CwD+ZSL6ScRlkN8H8K+3sC1BEE4GhbJ4guBTZPkHdLpvMejrmTkQwWcY3LxA3nu1c9v5femWMo9YJieTROH06HTfzhWFWhdpFghMw/Iy75M4QduDYL0p2rijFrH2DYfZoj+zQVU+bhYhjqtTmVIWlPiVnHB3y42UCsh7bxC8gQ8JgstgXb7z5gNF/xm0rkbly/eZEGhh7o/3KUxSwTdB3yNxiAFl/Mo5S7efa+yaeJ9GKiEoVOWjZnwy680IyPLbGFrvE+lUJggHYGthiJn/d8y+yv/HbV9bEIRTh1DXDwBiZJ2PyLtv0L+e3bSQWaPoP0X37OVOJ2Knbm1fDsHZs0PvhCCshdIVkqSYejyGtt5OhL1LYlDu1iwXT7Vu3EM2gzbVUYboDh0kziUAFJRyC++f3qVgoFX31TGx7Nxw9gzO9Y/K4UIUz2ullu/TvIUNpV10mCQFUv7QdP/cZSkOwftO8ydDJ393b11rSvFCxxAwbGvv4X0CY5rFrWFI+AbXmVLtuIVCUGBWB+1yVte9WM65wKl9V4AXt5AgHIbTassjCMJJUlexM0xdLm5LymxQ9J+he/bV7gaZR+8YYhhTQOkaSjloE63VzHpUXhCCgat7TVbSPZzdCZ8c83KxgjfQzUSrTWcMreiqI0LjBtAg0FGVd3iXgshPvSchKIRgJsQf7w3AtyUtIagmGPg4Ba9NMcmgmVTOv89X5QXM2cv97dQKKB2dX3GC7GZ+Jqu2mScC8vwt+jcv9tJ909ke+i5D3n1zbzvmBdZQmC0MDd2F0e0cz7voEtp8gSt2IIwi+Kb3vNvy2wDnMhD5uefWLvA+QVk8nukSvwuzjnlbxI0YL8KQIBwCEYYEQdgDCjdXX8cqIkYICYrBJbq91zvZk7Bji/3mMNLsI9L0BqQCvE9g615TOlDeGXBXSNM+Qoguq2i5nuibKwgnxbyzdleln7RmgLXW/mjcQ94bADR3Eq5UgFL1SGgAE0AMbdyd51Sjbmza1PfC8WFMhd7ZVygGl3NLUYLP4GxnIs/k0CjlR44JZiCEppU8CACPPkdSbqXPiVTs7lQVj2aE/LYPs8Gg/wzds5cn3YVsHkpNH1NVPoC1PRAYne7b0fOYgeDTrUUybezSgPkoAicYd0ASYse7cUFp6JCLXdY2czHNYuhYJIr5Qd514rnLGsGnWH08QrC2izTtw9nuvc2BFIRjR4QhYWP+8aCPp1mGXMtpJKzC6iMR73LYuoskHexwf46JRhTKrsCsYKvzppMOAQhQ2oKCmsqgUMqje/YSIZiR9bwqL2DrM4hAJJwKStUwM9rTM2PU0js+0N45vclq/rh7CFB7nwCHoBGCXtlBMP48Z1NgxlxLKYZSFTgQnM8ah8FpC0RKO3TPvkJZPJ5bVnvMWXNEzfk5oyRwXjv0WWhtkXU+YNB/0fYuzoSOOItrW5RihDvfwcwKHBIwYjfW7tlXUCo0ZZ3tQDRbwA5BReGQaSKMfhkTpW5bwkwoB0/AICjysLaHbcYdVXkBY8qj7SIoCJ8CMqMXNoKZ8a3rj8j1YxGGhJ3g7G6EIWMKAAGLSg32SxSFTDJAVT6Crc/v/FyhHDxt/h3r8JWO3XeUCiDiiQlqJ38PY0qUczp/CMIxoXWJvPtm5gq293dKx1oULIiaUFm1/mtG95BvSjXszoUU5qGrp4IxG06+l1gESDGMqkYd2WJW0Xquqkl4qdth1yTpDUIwCLMcMycqfhlTr3Xe7nOSrXU901lzXyiLRzCmBrOCUrZZgImEkDRjlj6YFZI1xJqFMMF7M5ERNCy5Uo3AM3T8rYIxdmvXYwgKznZh67ORK68VSZA1BjfP91L+KAjCbOTqEzaCiPDPPf984rH/5fVXODcJfvbRkwPtlXCfcC7fid2fVIh5R9UuB8wMIg+iEFemiaGUg3cZpgUpQl1drLg/amQdd7YHpWsYU4xyKYbvlUkKdPVXKAdP9lJGIAibYpI+QAHM1ATDU8zS4ulsDcI2QsU0UTjdLDNo2LksBDWRg9Q2zmWNo2q7ieaq793wuLYXiDbPRmmTkAxQzbgHBp8AM8LOj53gzco5V7bu7vX+72wPJRM6c4TeUyF4A++zpjNWMnKXBZ/Bu/nZN87mMEm/1WMf3le8T8AcnTmB9egaJQKUrkdi0SqYJArA3iUIwcD7DoJPoE0Fbcop1yAzITTvhbVdeNfBrhzJIgoJwmGRK1BojT/04AK/179GCAG/dfUBL7IOPs+7h94t4WQhWNvbSQ5Eml2jrh6i1cENeSTJAMaUULqaOZmydQ9l0ZZwSgg+Q90EOxI59Mx3R4NSpTzy3ivY+hzBJ3CuI4Mu4fjgZpI+A3+3JKPtuUgLpWlKBUCF1t1DsZuQbq17Vgw3Xr2MZFogus3AOSWGTsy7J0+c3F4dZJ+2IQS9kjBk6y7K4vEe9mgS57oo+s+Q915PXQsxN+8MWfZx7YyvfWJtrxkfrEcICbzPVi71W4ehKzjeE3kk2hIFEKG5ttfbrnNd1NUDDK8N7ztA9RDGDJD33gCILikpTReETweZJQitcZl1cJnF1amfvniMN1WFX/0H/y9+8dkL/ODZgwPvnXCKzOtUtC2x/KpqbTVVmwJ59/XSlcIQdlfaxWxQlY+QdT6MBuREUQQb0r9+0QRVyiBPOA58yJDodlfZV4VbzCwalvi0ETo77Ca0XSnXJPGet747akogonBUndmWMa/ZgPcd1NUZ0mw33zG7glZoYx68aRYgDnOf976DQf8Z0vQaSlsEn6Cuz0dhxMYUMOp4gr/vsmk3sRASBJ+0JubeZVFXRq1rBG/GSiR57v3DuQxV8XjutXHbCTWW9Mt4QRA+HUQYEnbGZZbhF5+9wEVy2JwB4TRRqh4FKu+CJLuGH7TT7j1ZwT7uXLbRKuQ62Po8ru5RQJreIOt8nPh57/yraCH3GaryYqU2soKwS5w9Q8F6Z10IF9KyGqUUA6qGs9lGpV/DQNldlWARMZzLNmpRPxSIAIy6nW0iNO0bDrGD2yyGYbenInSFO1kzUz8PCsGnqI/A4RF8hrKY/f3ifXpUHeHGCUHNyPlbnbo6h0kGrYq6wGJRCGgCy8fOjeg4nL7FRSfZYtHQ2S7S7AbeZ5JTKAifGMeSvircU37w7AEepxn+22//Pr4qT6+eXzgcpNxOSxeSpEDWeY/xNq+bMq9zyBBmQtF/iv0M1mNGy7wQ0DjBq9Dtvdp4ZVQQ2sQ3eWL7ZzcBxNpU8HPK4+bhXAoC7yyraIii7UUQY2po7eBdsvZx7pvFYcgKg/5zlMXFqO32MbPMcVoOLlEMnsG74y7hP9aOcMEbFIOnc500q8CcoBg8bc2N6F0C7wy0rtcKc1cqwPvJ5zuXreQk8z7FoH+JujwHtXC/EAThdBDHkLBzvnX9Eb/2+iV+7fVL/CtffBO/8OTp8l8SPnn8jsKnxxmuijk7P1ByOQy1pG21rXvYpw6vtIVzOWx9NhqEk7oNww7BTKykK1Uj63xofhbt8KQctG4cArYL53IcehVaENpkV93EiGImSGxbTU2Y6+znciD4sH4+yKYE1jAtCcJDEcu5BASAm2MFMNEp8ZBE1ylj3r2LWcPWDxCCmdsd75AwE7xPGtFwvguNg4IXB+hGeJ+grh60VjYVfIai/xQm7SNJBmvfZ0LQYFbgoO50D1v9dbzXE0cSRa9LLDo+pSuk6TW0KUeOpxAU+tefQ3wEgvBpIMKQsHM6So++zv63t6/wc48voY5t9CUcIYRicIne2Vc7tfqn6fVWA8I4iFo80VomHLVN8Nl0mdgCU1MIBnV9jk7+DokaAJhsgZukAzATqvLhmM1ermGhRQ7QPnyZ029bzKij0N120zFwm0HQyu61exftwCU1PE5n06MTVkgFKF0vLZv1LpbY5N23e9qz+YyLQUqveH4c4Po5dULQKIvHO+my5X0HvsiQJIM190mBqAl6v2MQi2JzBoAXnhO3pay34xJre8CCsjCty5mB4XHR7MguakEQdoYIQ8LOedHp4Ema4Y9/9nX8zKMnIgoJa6DQv3mBNLtCml3vZIVfmxpJerNRroAxA2T5+6XPm9d16XhQ8C5H8MlI5OI7g0EiRif/gE7+AUX/Es51IKuIQlt4l+0stHUe+yqlZFaxDKQpL4ltoQ/jqFklvHjzFz/O73ZjilH3xkU42wWH9wfpmBVCdHKuJQZNwCDyp9F58ghKyUJQKPrPtiobWw7B1r21As5DmB9ePSwDd3bxuUwqwPtkwrUXv6/no0053UXOpajKC4gwJAifDifwDSKcOmcmwX/8Iz8hgpCwIQp1dQFbnyPrvEeSrrcCtwpZ5z2UsvCuA+ezBStrDKVrGFPCmGLl7kPRkXRshKa0TGM48CsGl+ievQSRW5hFkvfeIASFsngC7/I97a9wn4mljfuFCAiBYmj0Dhmf5Mfg5p1ubi4hqNZDcU8BkxRN8P+yN55gm+DdtmGO5ziziqI7M4g4thtXHkoFMK8f6G3rLqry4jQEoYZDl7zFzL9di0KRqryASYqV8hKZl2ViRZYtkE20tm+6EWbZ1ZJSssnHmYG6Pl/wfEEQ7iOn800inDQiCgnbwqyb4ES0Lg7Ftu43QDMhqMqHqKuHUMo2HUYslHJQ2q7sWvLeIPgUzPvLfhhmBYEYHAyCT2Btb2ZnEZMMkHffgZmazKH4HK0tONDQ3ADnMhAFKOVQV+ej4zdJf+L1iDzy7utY0sCEEBJU5cOTmrAIhyMcqPtNvDY+jYBVDgZQOyxbO9JqJq0t8u5rlMXjpfejunqAJO235k6NZWFp7LK5RPRZN5TZuxRlcbnN7h2E+H2jDuLMYiYM+s8Qwr665SqUgyfIe68WCsLMBGZaSbid5/oLXgNDsZFiBlgIhBAUTFIsdEZb2wWRR5L24X2Kqni0x/foljT7CG1KcDCoq/OYl9hS9pMgCMuREbsgCCcEoSwuUZUOJilgTNGsttpWV+Gzzkck6c3GXdG8j8HOxpS4uf56ezu2hMAazBpJ0gcQ7ehp5wOKwdMpZ4+zZxj0NYg8vMtHZTVlEQMvk/R6tLJ6G956+ybftZgPu7AMBSbpeCasw6E6FR1rh6RdcLc8tHWOeO5mkhI98yWK/hN4P9/ByWxQlRforFAivIwQ4v111RJJrWsEr6H0avdOu1XThENC8D6DUfvtVBuCRtF/unfBw/tOPN4F5wERw/sEag3h1rsUDEBRQGA1cibG14ljIqUY3hlABWSd9/Aum3n8HBJU5WNU5aPhHq1ziC3BSNLrRhyrkKR9hKCP1HEtCPcTEYYEQTg5mA1sfT5a/TJJH538XasZRKuIQiGoqbwEBhqHTYCt9zygaVxVVfUAxpRwNp8oFbvLuFg07ipy1jSPKdwVhG65+5jCoP9iq90XPl3UoYTEI3W57ISd92Q/7jczeI1O9z3614vz0Wx9BqKANPs4WnBgXi9CKZaOEdQao2wiwLOGwvxroSwu7kUDAO9TmGR/wpBzGcrB5Uz37D7wPl0qECrlVzrPOGh41hOl7ONns9YW3iWNwzk6h5xLYUyNTvctBjfPMf/8P9w5Nd4NbchwoUkQhP0gwpAgCCePsz30XQdZ5wNM0t9LhgdztMTPCgkN4bAuBA4JbL1dfoI72dVo4RRRuwxFXsSnVOa880M9vveSOU7KAYJWNUgx0uy6yRyaB41+nnU+AogujOHxjXd2Y1ZxQaJZlFDKRfeHG3aGWg+t67lZUMz3p0uUd/spr47dNC9g6zMc8n0LLgOy64XPUcqPBJxFrBJcH8WgW5fS0I2mtUXW+YCqfLz6zu+JWflK2tTQuoL3i8OzBUFoBxGGBEG4FwwziKh6gDS9QZL095BhMHugOXQufUplKoKwOQyT9pc/bUfbFtri+N7L6NSYnGin2RXq6hzLuipa20WSXoMAmBW7yHmXgEHQG3bYI4qvoVT8fWc7cC6HUg62np0Xd4p4n67twloXZqB//dlR5NwpPf/8iUY+AlFsQ+/a6tA4djkSAQEE5pin6Fx+dI0jiGaP17QRYUgQ9sXh75aCIAgtEmvlH6EqH8KYEkrX0KZqvRX2qHXszBW+OCILfv/hjYJwamhdTbRW9j4BM4Fo/S5N69Jm+ekyvDcTx7lPhu/nbjk+J8us95uIYZIBnD1b+Lvxu+QCWfYRWFHEWMXNsXCbTTOAsujOzYO5HyiEYHZ6fTProxCFgFgmNYsQNIrBJbSuR7lWxlRT7eY3Y/LeprWDsylMUqOTv0U5uDwqwWXe/cnZ4xKwBOE+cxx3TEEQhNZRcK4LuC5QAUpXyLKPMMnsARow2VJY6XqlicDdFb7hKqiteyccDioI+yOwhnNpLCdjmpgQxfbuuxOIlHJ7aeMe7wu8VyFqSPAGDN65yHZsjqFFn6tJiqXCEBAdOzG/ru29m8Z7g8HNCyxzMt0Xgs92ck4Gb1DXZ0352DEQoPX0wlRd91AVjwAoBJ8iza5G2YaE7e9HSjuEoCfyEk1Sw9kU2tTonr1CXZ01jSQOe85pM5gpDDmXIYTtyuIFQVgdEYYEQfgkCD5DMXgGItc4iAqYpAARgzkGjtb1ObgZhMRuMgXSzsepIGrnsol6eK3HHENMsC5DVT4AwE13kADmuEIa7eJFY4+Ok2FmBWfze7w6LAjz0bqem6sxfNy5FHpFsXYd4vW/+1l/8MnWbpJNcC6D1hXU8Zl5dk4IZm6XJ2NKELnljhKivcVQRSHj0xCFgOgESVoqIfXewNkuvIsdwI7NvVZXD2GSAZSyCMGgKh7fcesQnO0ibXKIGApYEEK+CkoFBK+nBFKT1COnc5rdQGnbdB893HuWZVdQevJaLQePm8W14/osBeE+I8KQIAifFMwGzpoY4lkEKG0RfIK7A3JmDWvPYG0XnfwdknQAIK5Cxwnq7NVxUoxEldD6ZWOVnz+ZTXA7KM46H2HrHspmBVEQPg0YaXa19FnG1HB2OtB3Vk5J8LqZWGHSxDL+PB7+RUvDXrchBAUOevet4mcQJ3/tltDeZVj6FMW143IMLXrHiRjds5dL25frGYG4u8D7BN4dT1nPPnAuh7U5kha6k9XVwyNumKBQVw+bQPPhNTJ9doZwOyVrS6xW2sO5ZMo5Nx5ybkyFNPuIurpoZZubwJgUYJkhopAgHAARhgRB+IRRCH5ZdxSFsngCBiFN+wjewCSLJ5LepSDl1p5wJmkfxhQoy4uVyhwE4dRJs48rZ2mYZDLTa+gicu52Yk9gKG2haLvV9mWEQFBqUgjxXgNQIApNWQTHCdnOQ/BnQ3sQarxLN+q+tWuYFwf+ArELVPfs5eKuVTss/eOg4FwHdX3e5NF9apNgQlU8htZfblXKyRzdNqfB/M94KAwNXX6tbXFGiRZRdFkNHXVZ5wrOdg/mWg4+BcZE7Fg+9qldD4JweEQYEgRBWEocwIIV1JIBGzOtnE8Unw9w0CDl48p70CsFowrCaROQZtcruYXGGQpBSrmRG2+Xjp9xhq3PFXko7Uch2WiCnZV2oB0LUqsS70O7dbsErzfuvrVrgjfQ5ja/ZvjZDc+ZodOMiNHJ30dBvng8VVoWA6D1VDnxpnifwNnYEcp/kmLQJMwaVfkIefftoXfl4ETnMgBwu+WLc9xHdx/VpkSoDyMM1dU5TNJvRPWY/RbdVZ/29SEI+0bqFQRBEFaCUJUXcLbbtJedJk4+1gtK9C4DKQ9mgtYOJqkOElArCPtls9IjomGmV8uTpyVEV1IsO1M6igRaWxhTg8hDG3tU1633yc7fn5iZttttbAopF0sKm49k2LY+hKS5RxOcS+FcFp1npkTv/EtoM7jzSqqVrkjMQDF4jMHNZ6iri6PMwTkUznbX/t4cJ4a6H4cguw3MuhEhHULY/NwIQcfA+VG57O1Uz7ls9F6Tmgz+PqTIy2xQDJ6iGDwFBwUinsxuFARhL4hjSBAEYWUItn6AEBJknfdTHVWGkw/vDQCG1rMHq8PVaucyaFONVq6HjGcNCML9hFBXF1DKrx1AGx0f24ezrkosWZsv/PARrrFp5eDdpGumdY5Z12ANpaPg7r1uHAiT7evHnWYhxEl53n2DcnAZO1o2eNcBspv1d6G5zwdvUAwupbnAXAjO5lu1Z1fawrtT/94kONdBmvbhvQGzW1l4dS4DkYdSbsLdFkJ0NHIghJCMMsfiNTFZYmZMiUO6dILPkOVvQc1+5b1X8D4dlcLZ6lxyhwRhx5z6XVQQBGHveJdjcNMZ2Z21rqFMibQJqNbaNROSBDFnxDWTWWpW8uNAZ14wbF0+3NORCMJhqcqHTQlB/L/3SVP6wKNg+FndvNos75lHCARmvbRUTSk/M3NoFnHCp+IxNkLTTrqtqQDeocDMTHM7fh0DgRUUfOM8WC6OKeVB5BF8ik73DYrBU3gXnULO5Wufb7dtwIE4kZXJ7CL80qy/xShl4bG9s+vQeJsDaR9aOziXrRQevyhkXimGUlXM3JropOon8tqAuDgVu6YdTsD0LkMwZRNqn0CRHwmGuvsOafiAqnx0xEHjgnDaiDAkCIKwEdQEJCIOpGwP3nZByiFJ+9DaQmsLbroSkfZgVksnmRzU8hbKgnBPiOUTppl0RxH1tgyKAJod9BzbzE93JNsW7zWYdQxuJqzkYlDKr7TCHxrnyt3nMNPU5G6Z0MTcZJIQT7yms1l8LymKIt4bKPKgFUSrdTimsrnZrH9iEAG66X6Xd99g0H/WNCeghV2iYtaUArNC8CmczcUdtCYxfHtzZgUsnyLO5SNBaLw8zru0GW/wqEMqcNsldRlEmBGkPn1Oa1MdLGdI6QpKOdTVeRMGrwAE5N03ceyUFFAqjNx/giC0j8w+BEEQWoFG5Qe2PodSFkq5OFlghU7+DnHiu3jV+dinW4LQLgHMCt4rEOLEfFw8nSfMaG3h3Ww30XZs1r5eawfv9dzyUQAIrGFmZKEQMYyp4F3atG0O0QHhUoB49B6EoMCsRyv/w2MPQUUxDTzqEHa3e5tp2d3jXQq9p9DvdWFeTdCbh0kqeJ+g23uFwc1zhJBG99Ud5xEHhap6CFufb7vLnzy3+TqbuQCPX6hcFUJZPMbZ+ZcTYlddn8PZHrQuJ4QhajlrbZEAumuCT5Dkb6G0g9YWZfEEgEIxeAoAMLZAp/sGxhSw9RmY9cH2VRDuKyIMCYIgtA4hhHS0aqxNsTCjZJxY9y/dOIRPhTgZHE4Io/hBY9cKj/59dwLUdtetWG6xzWo0wbkMUQC2E46f+NqLJ713hZbh/0PQYFZNfsj0McdV9MlSEmNqeBedLLtouc7AThxbbeBdCpNsJ1oReYSg0T37ClV5gbo6BykHogDvM3DQsPWZOINaxLsMKr0b/r0abQSEHxvjrsiYqQaQ8qNyW6VrkGKEoKbyglZj+r4w3M5hUCiKJ+j2XiKEcdEn3mSc62Jw8xmyZpFNEIT2EWFIEARhx8RMoufIe6+XTg5jcPVhIWWRptew9fmoXE4QdoW1OZKkQBRUpic4Q3fKsNvOSOhgGjlkxgmBwEGvHbw8DI/flJhlE7cZw2Bvu6dt89rxnrG+k4KUR/AKRjlwoFbLyYypV85AaZNlYlQ8V7YXDJUKcM40jQY+oBhcYnDz+davK8ynrh7CJIO1xUbvk60zio6JoVOIiEfOv6Fg42xvlK9D5JBmV1C6XjvvK15H0/faQ7twgs9QFY/h54w7QkhQ9J+BlEPv7DsgCqirc9TVxcznC4KwHsfXSkMQBOEeEkKK/s2LOyth07gDd91Qqka39wppdoM0+zh6XOsSJlmve5QgrIKtz+MK+JxVb26uB6U8TFLBNOVmJqngXTIqpWKOZVMxK8at1QI7ihztlUZxE6Ady+SSgyxwKxWQJBUC67kTrW0g7C/XZfjZBp/MFc9dIyC2UVY0PB9iSRoBrTspApL06qgDvPdNCEmTLbMetr6/naqIQiOITzvTmA2q8vFa71kIqnE10sxQ9sM6hiLWnjXHy5h94yRwSFAWj0DEyDpXIJLcIUFog8PfAQRBED4VWKPoP0UIx3jrDcg679E9+wocYknM+IAzSW+QdT5ALNxC23BIUFUPwXdOrWEoMy1wy2hjoVRoSjWjk2VUeoYQ2zUvwbukNedLnHilMKYE0bDMqxEXDsBtN6L2t08qTH1mu4JiDnl0A82YvG5fBnhLDPStmtclFP2n8L7TwiszlK6QpNfonX2FTv5hpeDgT4m6erj+9+MRiBltEgPM4/nGrOBsF4uuX2d70Um56DWb+xJRaIKtpy/cEDR4ycLV/ojCet59DW0KKF0Bd/LZvOs2IlcMzRYEYXsOX7MgCILwCRFCGmeMYwAAIABJREFUisHNC+S9V02L5MkB2iYrpptikps4qCZG1vkApTyYAYZC0X+KuHbA0KYENTkwvfPvAkxwLm/aMd/PlVphvzjbw43tIkn6yPJ3o5yYbVw8SvumS9fiSQO3dA4PRZK7+3yoHB7m6MLYJoh5EUr5HQWAz4bv/D3OtmWA4xCF0WdGxEg7H+B9hnqt+x2DyCPJrqGVi4HYpppyxYUgw/BxmDXK4gm6vdeH3pUDQvA+a84Xi6p4vPT5dfUAne67Bc+Z7F54F+cylINL7N8vEEAU5nRiVSDlR+fC4OYZvNcAGFrX6HTfgIOG9wbalNLCXhBaQL6RBEEQ9gyzgbNdpNkVnGss4k1eijYDOLu7Ljdal8jy9yAw1N0uOxxXK42pkSQDKB3/prHJzDAjKdXXUMo2HUPamPnGiRQRS67RJwvB2jN4nzZd/Fp4xSWhrMs6WDmXjWXB32YbxfM1lnmQYjATFPm5uUY0oxvZLgmBwKxvj61la4/3Bsxqb23CmW/vMne3OS8vZVOIoossvrYadcrzNl/iHAowpoRJ+41j7PY9dy6ZWSp5DKU7x4Z3HQRvpr6f5nH/PKyMJL2JnQaJVwo4t7YH4/pTzscQ1Eh8JAC4U7rITE1Gz0McYpEnza4RgoazsxfEhvdNW3eb8YFDkvZRVw/ArMAgFDef7f3+Kgj3FRGGBEEQDoB3HVDnamKVOwRCJ3+PG9vDLlbutCmQd1/PXDUcuQua/SEK0KZaOLE2SYkk6d9Obig0whHD1udTQZZZ512cwBGPJnLedWBtF4kpkOUfYG2OsmlPK3yahJCiGDxF7/w7W7tt5k0YQqCxrmHzp5bLSszYqlEQ86Kw63230w4hmbi3qKbsqw33kncJlHajXI9hQO4uGXcEKeXgXAJjbFN2NDsvZRuGLqgYIh4/u7z7BoPBUwSfgsjDJAW0rqC0hSK/VIS8C7MIQ7MhWNtDpj8uf+o9RDXd77T2jSt3FQjl4DKGUSsLkAchdi6bd23auouqvJjj1tkHAWl2hbqavxAWfIqq7AEM5L23qMoYUF5XDzG4eY6zB98GkT/gMQjC/UKuJEEQhAOgZmRLDCeqnfwdyuIJ2l7BW9TxJXgzmgwxE6ztQpsSWFKGMs++nqR9VMUjeJ8CIKTZR6TZzcRzvDejQaFOimbbMlESYkmJ99t3vVIqwNUdQIUxkUhBKRvbuY+Crd0cR8diMUWbOpYyKBv/niNQhGCg9H5WtTnQVHaN0q6VLmIhUCMK3QpdWtdTJWUhEEJIoCiAmVYqN2OOAhCRhx57r+7ud8ySstFtydi6Nf0i4qSzyThSAb2zl629trU9mdDOwdY9pNnHxR3ofIK6fHivOpIBMevH+wRa12uVRzFrVOUjAPG87XTfzFkEIhSDS3iXt7XLG8Do5O/gbLdxK82mGDwDEBeVmIE0u2rCxgGAmvwlQRDaQr6RBEEQDoCzXVhtYZJBMwi+FU2SdACAUBaP0aY4tCjolMccSlXxCMwGZfEYPfPdjVwGSnnkvTdL9sch772Gdym8S1EMHgMyURIaiv5TpNkVss7VxOOxyxeBmrDh2Jp+tvDADOikvHMOR9Fh/HdiV7OAmO8Ry4iUcuCgljiBophJ2kEFRvB6tgC0xyoN37iFhkILmGJuzgYt7+/CIYGamaE0eYDjjiUOav77Mr7fTa5U7ECWQeuqyUiaLWbN2Gzr6JYEtVl4e8iJ+XHDbJYKw3HhYVjaF3B/+ukQlLIIIdm4fTyzRtF/hrz3auI9ZMYRiEJR4GFWjZC1+CI2SX80PnK2MxK/4hjpEvexmFAQDoWMwAVBEA5AFF6eQNVn4GAAYiRJfzSB1aZE1nmHqpwvDsUONzcILoP3WZMlMG+QFRZ27ZlwAJgK1p41JV+bHd+qGFONBq5JOkBZPD74oFU4FhTq6gLMGp38PQCMSojGYcx39gzzYpY5VrS2TQczuhU0GAhrDJNIMbzTUHcEmFhqtZ+uOeN5OxwMtK5bu4YXlYyNT81ibtPt80gFcNBNnhqBwGAAWlmgue+EYEbOn+gIqpbmP4G46bi2W4ypti6XozuT1yh+tdHp7P7ibD73uvE+GXMKBfTOv0Q5eNJS97jDonUFpRghbJubxRPX4bE4hdLsCsYUGPSfYxVld/zaqcrpLCSlLNLs6sBlcYJwP5ArSBAE4YCEZnBbFU9Qlw+Rd99AmxohaKRZHwA14tAwAZehdYUk7TelYQykfQBNkGT5EHV9jtvBEzdlXFdzJ4jctPRmJhAxTNKHrnswyWCHRz6NUh559zVurr4B6XYmDLH1ObSumgnT9GSJVFgycV/tXIqlnLeTkFlOmGWvfzdLyLtkry3JJ7J4tINz6dri0DD7ZigwBZ8AxCsLI8FPC3Gq6Wo4j1kleMv2WWvbdqb2gm01OVLKrp0lNEuYDD7F/XG47AZnu0D+Yerx4fkZXTVp073LI++9QjF4evILC8PvXSLflFBp1NUDrPudqLQd3Y+8T1AMLsEHbewQy8dIubWaVlh7BirjvWNWEDezQpIOYJIC/evPN3ZZCYIgwpAgCMLRwGxQ1+fIzdtYxsJAkt7AmBLeZ/A+iV1vkhJA7Dgy6Dc1+NlHmKREln+A0hZlcQFAIeu8n8r2uQsphoYdTa6JgO7Zq10f7ux9IYwG/IIwpCweoXf+5UxhKDJ/kqF0vXHw8mrdrsbzdqYdLIdqVw8gdtPyBlgx5wfAVAnPKr9HxE2AvRm5gO4T4y6m2LEsBvsu+2xDUKOSx3GieC8sgtnA1j0kzcIH0Agc/WcTk39jYj4dUczn619/hlMW3XRz7RFh9N3tXba2Gyr4DM52EIJZqWRr16TZFbxPYDcokb/NIRq1iIRSNfLum9H9hhoHYWxpLwjCJogwJAiCcEQEn4wmcsrESSlpB6UdkonnxQygoeOoGDxFt/cS2tRI0j60KUDEa3VDUuRHrqFD0um+AVihrntNG1txDwm6mQzOFmqIApwzAOvYTW/slPE+m5tTs4yhQLtIAFDKjbqc3X2uWhLe3hZRsMhgkunj1NohrDhZ8t5s1Pp5WIrHrHbeoQyIAb0x/2k/7+8QIoyF9MfyOiKeKQgyx/fjrhsqBCWhuSsSc/a4yd0D6vLhlCPEmHL0b6U8ss7HsRyaU4Nnlnwn2TX8YP0yuWJwiWMQyYg8nM23WPCJJWjalCj6z6B0jSz7CHXn2lK6vhflhIJwKEQYEgRBOCJCSDG4+QxKlwg+g9YW2pRNKVgUbGJL90tMCibDTmJxUhZ8MnOSuAilPbxLR69xKIYT2TS7Rprd3AkZFT5VvMvmZ84wQWsLoumwYKXay9mZhVIB3hlAOQzLPW+5+//d4H268HpX2jedjuYLKZuUnU1sQzGUquGdASleWDq2DaPj2NHrr0p0ETX326AQfBKPeViCF/RUHhYA2FrE7tWhUYfOEDTcVJlYmBIHkvSmyaI5vCCyCbbuwfs0ll01p0l0RW0SsH0c7wGz3rDEi5GkN0jT69HnfHb+nbnlnItyFAVBWM5x3DEEQRCEMQjB5wAUvM9QVw9RlQ/hXHQHGVPEVvIzfg+IbqKNyzlWKp3ZLXFiGaC1g9Y2dlZJ+st/UbjX1PU5mKcn1N6bibKeYaZPCATvkq0ccN6lS4USZpqanO6blY5x7L2LQdAxX8w1XQHbCqrWxjVt3ncjfjDHfd5XvtAqKBVgkgpKOygVELyZKQoxk5SRrU0Uh+rqAtOCmpo6z4gYaXa9t71rF0JVPYSzZ41bqnmUlgSx31OMKdDJ34/ur9bm4IVlw5/eeyQIbSLCkCAIwglg6wco+s+bttoKs1wItu7B2Qyk3MblHMcQ3MhQExPdmB3xFrrJkhA+TTgkGPSfTUwEY+mjnxI0vE/AIWnOpQ23xzTK+1hECOZ2G1NiyB7cQs6sNGkMQcG5YVZZDLgfhkpr066riii6mHaBMXWz/8lRiUNDnM1GHdbuYusz4AjusfeJ2I1zktkLJydCc35Ecehi9LDeczOIw8NNW3ugKh+gKh+iHFxicPMC3k+GaA/vA2qDMlhBEG4RYUgQBOGEGNw8R//6a/BuVkaFQjF4irBF55HYmjmDc2nzdwZns6mB2C7Rupm0jhHLNk54sC+0QvAZ+tefwdbx/Pc+abqJ3TLMfIklkZsrB8GblcSS8YDqu23b2y5hC17D2RQhjIljKwzlQlAwSQljqpGIpNS0oNYmwzbvuxJvtLbwLlv+xD0SRaHZYiIzmu5SQpvMEoY43A/xzdbn4BCv7yy7RpKeohMqYF423DKYFQY3L1BXF00AdSzNvVsyVhaP4b1Z6CYSBGE5IgwJgiCcFAqL8ylUbEu7xWTMmKpZla/inyROJoflJ7sihrlmYNYz80lM0kfefQUiyRH4lGE2KItL3Fx/tnwCuMV1EJ15y1HKjzrhEIWdCSHeNw6fpAaBGvePWckdOOFq2iPG1Ah+d84ebWo4mx2Fc8i5xTlPtj4/CkfmfSPMcKZtszhyXBDK8lET7A508vfo9r5C1nmHTcWWfULK4uzBd9A7/xKk1i3zIhSDZ1OB1aT8hKPYuxTOnsHZHmzda2GvBeHTRYQhQRCEewaHBDxjFXVbtI6tr5lvrduxRXV7kx1jqrmhtTHHo0T37OUGg0zhvsEhQVlcjtxDbTMv4HTmvvBQGIolVMPW7d4nt39cGvO/NsC5DEoFqGafSIXG/bNcJI1hzYcLlNfG7qysjIhhkurgzqFhcPc8QlBNILLQNnV1PvEd5F16rwQCZ3uoqwdgVnA2g9I10uwGee81jlsc4iZAOwbR5903rbxq8OmEg1mbGqRsU0p/fz53QTgE0pVMEAThHuJ92nogLtFtDT/RWF2/8nG1fMtuZvPabd9FKY9e7yXK4hFCSEalBEkyACkPMMH5rFlJFmv5/SYG04aQIM0+TrliTBLLEplpJRFlnFUdQ0Asa6qrLkLIGgdLgtnnHqPTfYMkWT0vK2YCrddh8C6HcAtNbt83eVC7sfZoUyMEmior3AfeJUuDu6vyArIWuysUysETKG3hXaf5Prhf931bn6OTf4RS1agrHyGgd/7dWD7uj6ukEmBknQ93ukNaKF218L1MKAaXyLIrmKTfBHNXcPZs670WhE8dEYYEQRDuHWFn4ZukJkOhgSgQtdGaWmmLEGaXkU3vR0CWv4dSoXEwqZGbAgAyDLtS5XCuE9scSxnHPYVQVw9hbRd5/rbJFrpFqShKrJv5o3UNDjRxzt/FuxTW9mBtd8Xzi1AOLoH8LZJ0P2GydASdBrX2o1JRravWhSoijmK42q8zyrsEStuFxxNLXcTJsEu878D7zqF3Y2fc/U6MnRjjedftvcLg5vlUydXhYHRm3N+IgN7Zyw3umTO2EBKUxRNQ+RBJeiPXlyC0hAhDgiAI947drczPwrt0bheedVAqwHsN7xJgSXveKEY1ZTU0e/IbQookHSBJB3FSansoi0eQlfv7Sexa9hyd/B2StL/e73JTDsY0yrAgYjifwswQG2zdRV093DDLhFCVFzDJYKlA4v1qHccWsqO28Us3G1R0bxA3neO4KUfNtnZATW2rcSMFrwFQ627JWYxPzufvF1CWj3DfHCzCpgScPfgOmBU4aIRgEFiDg1kilNx+n9+9HxAx8u4b9G8+w6HPM6VqJNnVQtFbN10Qs8579K8/B/PmU1Fmg7q6WP5EQRBWQoQhQRCEewfB+7T1ydfcrbU4FtXawzkNo2sEb2ZO8FYRjkJQ0Pr2+ImAJO1D6RpF/+lWg1HhmKGmQ02CrPNhdG4Gb6DN7fkSgoK1vVh64pMmI2jUcx5aV7HzDQUAFM8lVnAuh617W7sTmA2c7S0VsDhoYEuRY5NOPd6lUWxRfuUSPO+TkUDDrEDkp9xbQCz7WNUZuArM1IRw29F+tA0z4H2GiQm6WiwKAbGE7PjKfITDoW6/m5WHxu31kSR9DPrPMGvhIoSYmzTvfqG0Q5pdNZ27DkFsLZ9mH5vrZDFVdY7gUwljF4QjQ0bGgiAI95C9tuttyZ0UJ3gptK6ig2PB9laZrM6atGlt0T37CkV/utuJcF8g2PoBnO0iza6RpDdgxFIy7zqwtgdnu5i/uk5NaUr8n60fNBk5yzoCrkdZPILS9YTAyUEBxHC2C2u7SFtoT71OVhIQy73GRWXnksbtM33NDTsVEsKE8LYIIiB4AtMwqyy2oI6lYG6iJHQZzITg9UgUGhKaFt9EYWvhephRta7Qbm0OW59vt3Hh3lH0n6J79nJqYUObGnn3DYrBU8y6z9T12UIhWZsSOIgwxMg675FmN6P/L/2NoKX8SxCOEBGGBEEQ7h28s4yhmVtbUqrCDHAwIOWmJmlhWG6CmOkyGVbpppwFMWB2FVEozA27VSogza4ax0i+9LWE04TZoCofoSofgpQDWG+8Qr2blW2Fov+0KSljBJ/ELCwAw4lh4TL0zr/cyl1jTAXv0pnunbt4Nx10PXLiuOgIQhNCz1AbB85r4xCCgm9EHebY2t65FP8/e3fuI8vWrgn9eddaEZFT7Xnvc86990M0onFw6L4SWOAAUhsIXISFMK4wsEGt/gcaYSGBhK4QHhIGLQajETQOHlKDaLUEwqDb6fvd7+y9z56qKjMjYg0vRkRmDZlZOU+Vz0+qo1NZlRFRtSsjI971DiJPN3KeaJ7vkD0qY71/wx3b0rJlgeQYM0AxDW5pMogpA6AwxsPa9YLfKTqUo7c4dmkPnSKD8fADuv2PM3+XLivR6X5BOZ7920lLMuGO1Ussy29gXdm+hrR5344OaSYg3fw8vh60gXkiOjUMDBERPTtND5Nu7+th9rY0Y0iQkoU1oR13byFo+o4YGxc2jG0yCyxw76b4rkzl6YtgkSbTYdGNq7Ee3ezz1j0O6BwY6Ilmh6k6+PrFE99hUI7foOh837LX0GqBjafKzh5nBKluVwpmTHrQJwxogkMxZDAmQkxCSndN5VUxnTilKrDGw7bN5xcFku6aXudzJ4c15yOZBr9CyJueTBI3LsVNyWA0eg/2MqNFVG0bHPo887rO8hFEEsajd3j4N2QQfAcum7/osyxwtA/WltOS3fuvw+CzmQmjqoLhzS98vyU6YXzXIiJ6dhRujXHY27LWI4TFfQVEFMaGdqxsgHMVrKth7NM3ljFmM1kOIphmGC0/rho65364mYzk275Dt7PfQHRCYuhidPvzVr1zrPPTsq+JFC1SskjRIYSiDYqsvs1dTxabsM5DAQRftA3p3fTYrQ2w1sO5GmKa80qMTwf9RJqAkyaLEPLpRwwZRNKDMjTnakAA5zbr66QKjEfvoRs1JadLouowuv0Jvp4tqXJZid7gI8Q8DBqNR+8Q44L3vwMOnACaRtPd/ufpeeD++UDmZDjW5UsGhYhOHANDRETPTJYNkR0wMNSsFC5JY9/gmlXT/Lco52qkJHODPvfFmM/cvKrKg6bUhwygEW1OUI1fb7UFa+tpgCUl0wRsTYRpg7VNUOSwN5eLNNlEzc1lE0xeXF4mK55cjI1wrp5+WOdn+hnFsF3T/nL8ls2maQ0G5fgt6mow8xVrPfqDX2Hd+MH3V+O3c7dk7faTQVeTYN0Y3f6nudnCzSTF2cCqZ9k20cljYIiI6NlQGFOj6H476F5jLJaWuYiJSwM5s09a/ARjdIXU+dk7ycfBImv9zKos0SnaZLrYfXeZM6bt+fUwKNKUZ+1/zPvKVgxSGeuR0vbpSykZmA1vrlWbZuJsqEubqMpX04bp901G0d8vt44xR5ozXEIkQmQ/r1/rxuj0PqN/9XtcvfwL9Pqf5zaJT9Et7AHY7f2GjVaIiOhgGBgiInoGRCL6V79H/+rXFXr+7JZzFYJ/epVcpLmgDaFADKulky/NBBCdBpvivRKRyT6sbW+C2+bYmgzMnAvnLButdDxEx2QXBDDvB1xXCb7OK9EEmteQmFO6cVvtWJry0h30kFKzUXmcqmA8es8JZLQFg2r8Zu7rV0Tb7JzJe5dgePszfN179H1Ab/ArRLbr/TWrCU5l2XhpE/wmE3H+16z1KLqH6XtIRJthYIiI6BmwtlprzPMuqQqsq+aueN7nXA1BwqqTeqzzC8vJgKbEJLZlG00D2UmZSNX2HsmgaHoShZAjqZnb18g5lpPR6bOubCb8adN8WZNMb8RSstPeIzHadtrf/f5B2d1N54LA8abZMvuialbOMpwX8D2EGDMMb3/mdEPaWgi9hb3EjEno9j8hy6+bj2yEcvwG4+G7B++7xiRk+c2WR/LwPdLYeqXFJlUszRxuyt0OF3y29nDTWYmeA3YBIyI6cyLxIOPpU7RI98Z2T8M7om1WjsCYxf05QijW7t8Rk4N7NLUsRQtF09dIxCNGN9PsclI20z7jyX1YV6Pb/4i6fIkYO2sdH9FhKKwr29X49sZKAG1LqMyjyX33g8QGTdBEkyDEDGZORsGiviDHEoODGF09g+fRVKR9UwXq6gXq6iU4kp52JaUco9uf0e1/mnmvtDbAdr9PP8/yW4yH7zG6/QWd3m/T78/y243/Lq0bI8+voTAIdR/GergVM2pTzOdmIj6ggub8tavXTMKiHAeRgG5/Mnl0tvSOiGYxMEREdPbSQVbGkrqFgR3VphRl/tcEMWYbreo71zTMFUnTMfUPb2AVywI/q+2nQnQlA0N0ktbJCEzJISUA2vTfMW15mBidCbJOqJ5OAnkMbjrFcFUpWTi36xKa+WLMUI7e7qZ8jWiGoC5fwg0+Pfld1nr0Br9iPPyA8fADis43ZPkQgACSgDWDIWI8ur3fkJKFNdXcARYpNZMMJ+GdJiCtSMktH0CBZhGmN/iI8fD9gglluvKxW1ui0/uC0e3PcwM/1lUQUQxe/B4x5BgNf166TaJLt/fAkIj8DQD/KQAL4L9U1b+9730SEV0CkYgsv0Fe3EBEEUIOY8LeSsqMRIRQwJh6erN5dyyTqUd3WUGq0jSjbMdLb2qb567jlG6Oie5TNU0fr0nGUNs3y84J1N5/vTTnhBVeP3oaWS+qWC9TCG3PpAOVwVUls4Ro/2IsEMPyDBxj0jQ4UpVvUJWvsenfpnMlRLQt0W4XckSRUobJOUdMmBuAXekc05oGtEbvH07wk4hu7zdYWyH4HkLoQJNDUgudNNsWhUCR5UPkxQ9U5auF2UD3p4+eWpks0anaa2BIRCyA/xzAvw7gLwD8fRH5H1X1/9nnfomInjtry7Yh5d1jztVQlY1Ktlahk/+qweM+BAAgBnCmmo7EFkmw7jwmfvm6x+axdMIELlvvNd30/FjxhuhE4hwx5msFgjWZdhrTLva+uPeJqqAcvUUIvYXfQ7Q7Au/7y0uz0DZ17nxHVb7CNi/k+02rrfVN/7IV+gatYzx6ixjzNtBztxDTlH19mmYDZ/kIWf50CZuv+0++Z6d0d4vLRR+i1ew7Y+hfBPD/qeo/BgAR+W8A/FsAGBgiItqGzF9VF9FmSlgo2uV3ABBYW21987RqD5JDZfjsSggFyvFbnMzdMdEjdoMG6esGWU7Deq/BlNxKN8/bSMliPHzP0jE6qOB70M63ld638+IGxniU5Wtomm1evYrHpWC7zjwOvoPg+3O/1ul+hSaHOnSRkmsCOTqZSyoQKIytm0mjahBDB9738dT5YjKYwvvuXcYRET1p34GhPwbwT+59/hcA/qX73yAifwbgzwDgd7/73Z4Ph4joOVAUxY8nv+NxxlBKFjFYiFEY4w/WpPUcWNM02EzJQZNtU9P5C6LT4eb0+1hu9b/h3Y+43r+U7N6DQqrCoBAdhapFOX6DTvfrSu/XLivRlS8b99K5n2GzD2HB5D4xHsZ6DG/+eMkG1svWSzGHqqAav17Qz4iIHjv6K0VV/xzAnwPAX/9rf3q4GYZERGfKufHaN0TGxOnNX4wZjEkPJhmtIoQc1tbPLqgkJqHb+/LgMVXBePSOY6jp6ETCg34Zq7K2avvvPF0KogoYc/yJZEc/jkfnNVUwKERHFfwApRp0er+t9L5bVy823leK+/07lwWlmlk2QoqbZTkt26P3PRgTEOOqt7sJWTZCTFn7+3hmFztES+w7MPR7APfTgP6kfYyIiDa0WfZA0yA6RgvnfDPyXQUiq8fjJxPCzq88ZX0iCpEEkYBO7ws0OYTQQfBdLBqPS7QPRef7RsFYmYwOWuJUSs5SzE6mJ5kqUI7ecUohHV0IPZTjN+j2vj75faqCuGEZGdA2vF4hkLxrLhvBmABrH08FbbKbjfVNrzRJqMZv19p2Xb5Cp/sF41GB+UEehUiEtTWM9cjy2+mCmaoghgIhdNpeRgwS0fO378DQ3wfwV0Xkr6AJCP3bAP6dPe+TiOjZyovvcNlwo+eqYhoIMjYihgyyQebQpbC2QtH53v5+KmT5EKqY9jdgkIgOwWxxoyZP9AlRbW4G99GofhPa3nilJE0GwbwealAoJuexhOCLdiz19vs3pjknWucRfJ+NpulkBN9HjDdPBm1EFP3BH+DrAYLvbRDUbMqueoNP2x3sI6pNgKae0yhajJ/+TN3+Z4yH7xFjjk73K1w2gkibuTd6v+G+bfvc+SeIvLhG0Zlfli+icFkJl5VIMWeQmC7CXgNDqhpE5D8A8D+jGVf/X6nq/73PfRIRPWdNFstmz32cGWCdhyrWzhy6FHlxO/OYCKYXi6qC4HvwdZ8XjbQ3dfViptRxVYvKN4DJ+eA0gkIAAJW2XNUDsmITe1shJYMUd9OEWkxESgZ1xQmFdEoEVfkKvf7np79LmvctYyLGo/Xfk2LsoBy9Qd75vpPm05oMRsMPC8sx3b2m+iKKbv9z01C+DRapAtX4zZYl3YsvmCald9aVbZn8/POldY+zmYiep733GFLVvwvg7+57P0RElyBu2AegSRGfvXESAULI1iglYTr1hIgiy4fI8iHGw3fMMKC9CL6HGG42CnykZGHn3OAFX8BlpxMUStE+OB7naqRkVro5NSZNCbklAAAgAElEQVQBpkYMDpDVpyfOo8mhHL9mXyE6OTF0EXwHLiuXfq91JYCETTJavR8Aouh0v61/kI+k5J58LT3OgBJRWOuhKqirK/h6sOfG0YK6eglULwEoeoNf52ZlLcvaFOORF9cwbR/HlBx8PeB5hM7O0ZtPExHR6ibBnXWyfGLIYOziSWTW1kjJTkvKUmr6DxkToPr45oyZRfN0el9we90BS8to9wTl+A16g1+fzBaMIYfiYaaNzgnkqgJmTpD4mFQNgIclrY/HZy9jXRMQCiGHMWHtjIeqfNHcJDL4TSeqKl/BuqfPA0ATYCk6P1CVrzfaT9rRePd555/7XzULm+orYugceJqYoBy9RdH5/uBR6yoYMz8wJBKQF9fI8tuZf5O8uEUMOarqJWLogOcVOgcMDBERnZG6egFra1TVS+T5zdLVw1UmiTVfi+3kDmkaPprJlKD0oBfRujdrl0LbwJp1w2a1VgUxdBAOfnFLz1FKOarxG3TmNKCNIWsDuAG27R02uSGblwl4Ks2m5wmhgEhESoIs26y3knM1VNH2H1pcHjKhKvB1n0EhOnkp5airlwv74tyX5TdwboykFtWaWXC6q9H1uvj1lOW3c7P7ml6IzWLL6PZnqO4mSLWKlHKMR+/bya8lAIFR305LVNw/P4hE9AYfn+zRaF2NnvuMGDPEUCClDDFkSGlRM+zds7ZESo7XIbQS/pUQEZ0RVYfR8CcACnm0sjUR4+RG0a98AyhzSjAmwSTrPELIIRJPYqz1KTI2oH/1hwePZfkIABCjQwwdxFi0X7lbR/W+B2YZ0Sq8H8BU9YPeVynZmUlepzLZax1JLTQIrK3ahrPF8ic9oekFViElQYzFdLvzBN9FVb7Zan9Eh1JXL2BdubQ/mAggNsAgQHq/YXT7M1Z9r0nJIcYMxgSIKFTvtrmOu/e8WVl+8+DzEApU5St0ul9hrYcxsZ0otrh59CpcNmwzrRUQnU4YnTeO3toS3f7nucHkovMdVfkSze9Q0en9tvLgDmvvmmzHkENMhK8HbancPgNfCmNrFN1vCL7L4DctxcAQEdHZERSdb3Nr4UPY/ZShJnMoQNVygtkGrA2w9hbAbDPrPH1HXb6C933wgo2WqcrXEEnToKMxESGcbgbQqkTSw8b4C0tM1mOMwpjqyd/RUzevRKdHMB6+R2/wceXR8tYGWFet0cTZYHT7C5osmSZTJstv0Ol+R0oWwXeRYo688+PJa4IQFjds9vUAtnu3uBV8DykWD7KSXVY2jZ9XOG7rxsiyESAJwfcQfB9AQqf7dRromWQjFfgBVcHo9qcHmVQxdjAafkC3+wXm0UJZXtzAZaOmnM/WG19nKQBrIorOD+TFD4TQha8Heyo3E/j6BXx9hSy/QW/wh6aZNxtp0wIMDBERnRVFXvyAy8YzX0nR7uyG6r5J6UkMOcDA0E4Zk9DpfUUWb1CVr7acvkLPn6Acv0VzozZseo2t2ffrFMOPjzMRd13utqicLIQCvh7sbD9Eh2EwHn5Ar/9xJoCxSNpocIVgcsbw9RVi6CIld/eY77X9CyM63a/Tvl7NtFPz5D59PYAmh6J93rwydVUgxWylI03JNWXwtoYm2waGBMObPwKgbR8zASTBmIAsv0VW3KAav324nVgghC5ye9NMPEzZNAhkTNx4QuTE/fO1CJBlY2TZuJ1y2kUIXQTfxW4ziZsAUYwFOt2vqMavGRyiuRgYIiI6Gwnd3m9t49jZ27ukBk52H7ixtm4b257iLeXzYK1Hr/8ZVfmyHaHL3zUt0jSjTmqQZcO1Ssf2kVG4G3c3S/s4Rmt922/NPwgSNWPp+Vqj86NqMR6/Ra//cWmJVzNQYtuSJUFKj4M0BqnNuKvGQNH9Ni2REhPw9GvLIIQesngLY0pIe+0yuv0J3d5vbX8woNP9ulI5maYMo+HPgERAJ0EVmf251SJFi2pcQGS2dxDQlJdm+S2q8jWC78FlQxSd72s3tJ9v/s/RTDkdIctHUAVi6KAsX0NnfuebS7HAaPgB/cGvqMavOUmVZrCxARHRmciLa7hs0khQoOnuFK7JwO2ht0iMGWLM2x4DzBbat6LzA0X3Kzj9jZ4mqMtXKzeJVUVbTnWKQaG7jJ4Y8r1kPQKTptSC2GYgaNsgnuhcpVigHL+BPtHkGWgy8PYthC6GN3+EunoJVTsNGC0zCTbdlXs5jEfvp32NXFYiL5Y3255Si1WDvU1D5tnvjbGD2+s/mWYdBT/A8PYX1HV/9ePYQtMjrUR/8CtcNtzJNielZJkbo66ukBU3y59EF4cZQ0REZ0GR502PmkmJRbOqlMPYGjFmcGY3N1QxuntTjs6vke25y/MhjESMR+/A9RtaTDAevUNv8CuAJoNA1cC5CsEXEBMBCKz1Jz2JDGhuhGK0MEsmKG7LmATVBO87qMvX4OuLzl3wAwxDB53u18VTSvUQf+cbvnCnJWT66DFB8AVC6KDofG8HOBwykPvo51GLavwWdflqOogjy2+XToadtfqij4ii2/uCqgzbZxJr+17gKtTly6XTGuky8R2RiOhMpEfZASKAsTVScnDZ9kEhTYIQchgT4Fy9o7Rp2oTLSvSv/oC8+A5j6iY9ftoIlKih6lCO3gIqEIkQRKRk4LIK1gaIBMSQnXRQaErNXoNCEyJNpsVsWQzReZpk2YxHb+dmD53uu4bCubZf4r1AhaYMt9d/jPHoA6yr2mud01ikUrVIKUcIPYxHH3B78wvqarA0a2sbRecHXDZa5yib64aWy4bI2ym2KeZQde2EsofPAXjNd+kYGCIiOguCqnw1++icMfObSG1ZmnP7XbGn1RkTUXSu0b/6FVcvfo+rl/8ERecbTvkynw4vxi4UBik5WBceBHSN0bMZX68HvCT1ByoJITocQfB9jIYfZoMUewxabENMmDadnm2ibwAkWNuUgD5eGDu8+e+7mjJU5RvcXv8xyvGr5QGiDf8pmgDagvd+ibgf1DG2bkvFFFl+g27vC4xJiNEtbLYvklB0fizeB12EY7/KiIhoRTEWSGk/I+M1OZhzyCq4cHlxC18PHozYJfJ1H1l2e+zD2NJhbkhCKNreIkTPT4oFRrc/oTf4eK9c6DQDQ03D6J9gTEAM83oSGYxuf8LcJtIHJBLR7X3GaNgcy3wGvn7RBliud34MWT6CsR6+7iP4/oPfR57fIC+u23JimU55zPOmP1FKBqPbn9vnzD9+1WaqbdH5jqp8vfPjp/PAd0YiojORZcO9BIUATCeC0OmzrkSqGRiiO9734LIRYsin45hn3d0QxHgm5WV7sNnYbqLzkVKO2+s/mX4uJqA/+MtmsqgKVA3qeoAYujh20CjF4slG1acQxM2La9gVz5d19QJZ/sS12hbxb2s9bPc7tO25VFUvkWKBunqJGIum55EbT7O+UzLtlLirlQJrdX2Fbu8LYig4sexCHf/VRkREK/G+D4ybdN+dNw5kI8Kz4VwJX7849mHQSWlWiZ/uC3b3Ghc5vV4Sh7o9bYJmsyOqiZ6Xyd+3otv9AvOo5NxlJWLMEHy3bWw8W8opxkOTnfu1SyIS4etVAyUGvu7vJWvo7niafz8xEaPbnwEIYui2gb4E206fbLKwVv+3C74H70fo9H5DVb6Cr6/A8+RlYWCIiOhsCHz9AiF00e193klvoWZkcz69kKDT1/xb8caW7lGLcvQO3f6nlXqEWRsQo9vJOWRXrKsRQgG353ORy8bo9T+iHL9hSSY9ey4bQkyAKmbODdZ6WOshkhBjAVUzzSgCBN3+x+nXYijayWAFLu29J4Qugl89uyo+kQG1i19dCAV8dYU0NwvItAGiTQjK0Vt0el9gbQ0PgctukVL2ZFYXPR8MDBERnRlNGUa3P6Pb/7z1TVSM+U4mmtHhiCisrQ48updOXYwdBN9Dlq84veaJEdaqzbkBKrCumXxoDzAVyLkKIeR7L3OzrobLxqgrBoboeQt+gOAHABIGV38JmZNVmBe3ABb3KHOuaq81rpGSxfDmF1xSFlHw6zWrj6GYG4jbFSMRYW9lgAbl6P30s+D76HS/IMaKGUQX4HJe1UREz4pBOX6z1RZUBQL2FjpHMreHDF26sMZKsXU1Ypg/sj3GJjjjsgoiCmMCVAWqguD3u3JsTITuubJVlZPJ6NIYjEbvUZUvEXxn4/HqxkTkxTU4vWo+YzyK7rf97sMGZHkzdWz/BOX4XZsF1ewvy28OuH86JGYMERGdKU0Zgu/AZeVGzxdRLv6cqRiYLUSzgu+utVJtTERKBsYkqAIpZu0I6YcX/A8+3/M5w5i496whTe4kmtoSHVKKBeppSZDCGN9MBIs50AaAnRvDZeMnB10UnevpFKyUHDRZBN/bYxbLuUjo9j8u6fX2NFVpJ4/1kJKDy8Zw2WgmO7zT/Q7rKpSjtzhEnsf9UjJfD5AXP9Ab/IqqfHkSTcxpN/iuSER0xsrxG/Tsx42nlekT5SR0mlKyRx3dS6fMIIbVg8ViEjQZpGQhEmHdpFxscdmYNX4vZRKqzflIU9PnZK/YbJ8uniCl/K7PlgIxZYihi6psypWtq2BsDWtriKQHAWKRpinz5Nojy0eIMUNdvUDwPcwLFGTZLULo3stWun/90UxTTCl78Fxjq7Z0atXmzwpIAo7wHpkXN9OgkCpQla8gJsJOf4dPn3fqaoCqevng2H19BV9fQSSgN3h4rZdlY5jBx2kD6sMR1NUrBN9D0f2GaGvU1Ss0GUQKFiSdLwaGiIjOmKpDOXqL3uDTRs+3tkaM2UH6h9BuNJNGuDpH88VYrJVFuPbq9o4nmgVfwNjQ3mQmwCQAASHkK0xa25AK2MCdaBFBjJ05fezugkOqzSTELB82Da4lQZOFTIMDd1PRiu5XGIlwWTkNKodQYDz8AEBQdL4iy28hgnZSWq8JVNsaxtYox28XHKfCurL5sDUECjEBMXTa5xz29R18r8nahLRNvO9us42p0e1/Xvr8RQEtVYeqfIVu78uDx631yPMb1EeYVJpSjvHwA6y9y2bqX/0Bo9ufmJF5pvivRkR05pqJITnsBqUXImhTyU9rQhEt9uTEE7poIgF5frPXfWhyM6OvN5WihXXV3Owj5+qmCXbIoGpgrN9ZkMjYAJeN1m4qS3TZzIP+XynlqMocVflqYZZOlg2RZUNocvB1DylliDFDineN3ydlU8ZEiDQfKWXwvo8UM8zPQEnIi+vpWHjVplFyXb4+2gStJttp0ddyjG5/QtH9unAhrrkWW7z9JvA0nAn8550f8L53pGCM3AsgSjsA4bbNIKJzw8AQEdHZE1TVC/Tcb5s9W3T/pRu0EzHk8PXg2IdBJ8pYP3fq0E7tsAwrqYWTxXdCIpiWtzU3fpNeKHHrIFFR/FhY8kJE65CFmS7eD+D9U+9Z2ixurThlU4xHUVzDZSOkZBFC0QZMeidfYj3J8PY2AJIg0CYwbgJ8dbXCoo9gPHo3M5FWRNEb/ApAjjIxztoSqgYpZajKl+j2foMYD30iUEaniYEhIqJnIIbudiVh0gQdjK0frN43Y6szOMdSs2NLyWA8egfeyNIiMXSmzaT3RSTuLMPQ2rqZjrhCsEkEcFndlpilrUtgjQ2wrmwbpxLRYSV0ul/hsjFUBVX5eoUMPkW399v0de+rF0uCTqfIIsa7ANbqvZMmDMbD9+j0viDLxnePtuf8ovMdMRYHDXpnxQ2ybIwYM4yH71GO36LofH+iBJBOFbtDERE9C4K62rzG3FrfjK+OOVK0SMkgBteuwK12caEKhJAjhLxJFU8GKfFtZhdSMhgPP7Bun5YQ+Ppqv3sQtH1EdmW9bTlXt4EpjxDy5U94wr7L7ohoEYNy/AZV+RICoNv7gjy/fvIZeXE9DQpV5TkGhXbFoBy9Q1XOXvPlxS3y/AbGHG4xrxy9xfD2J9TVVdNrSi3K8ZuD7Z92h1eYRETPRPA9pPhjq/4fD0ZEtytQKS1Pz47BASIPnr+PyUWXaBIUmk6PIXpCM0r4eqUsnI3t6HWdkoW1609UbALWoc042vw847ISRecLqvINmIlHdGgGvn4BXw/a0rCnS49UDaryJULoPOhRdJmayWC+HjRN+q2HMQFimvNi/+rXaQbP/heUDFIs7vV2UrhsiBg6XMw6M/zXIiJ6NgRV9XJmasUutrtIDA6A3Btz/RCDQ9tpgkI/Lb1gJpqYrNbu/jxwfx87elGrAbB+YGhCpDkHWbdZMDyEHFk+Qgg9lpQRHY1BWCH7Z9/ZkMcgEqBqsGkRj6pDjO5hjyaJyPNbaLJH6rskULUYvPhL1NUVqvL1EY6BNsHAEBHRMxJ8DzFe73T8vCA1ZWUwUDVNGUmbjWCNh5j5mQnN6FlOO9uUMihEGwp+v0EOgT4o45qUD0ABl1VPPPMh3fBmyN4rk2huqlbX9E3LIdBphqM80QCbiC6Fth+HKoFP6PU/wfs+6url7jardrfb20AMXdz8+N1Rj4HWx8AQEdGzIqjKV+j1P+9si/ezgTQJILpyFhBvuDZXVS8ZFKINyV6z9YyNMI8yfVQjmglDWfu5wBgPsyBw3D5r7X3PBJtFkZKBJgMxce7+QsinfZGMDQ9LZoE2c4mILpciL66RF9cIoYO6erH3sffG+uZ8hNHRAzn7wXTxc8PAEBHRMxNDByEUD8aZ7ooYXWvbKeYwZvfH8dyl6DiWnjYmEg9ewplS0xD6frZijBliTDAmQlWQYt6MZ97m2B6XsalpGq3e64k26YtmJAGis4Ggx5vc4nCI6DkQ1NVLeN/D4OoPcG6MqnzVvg8vChzr9LmbcK6ZKmZMAJCe2A/RYTAwRET07DRZQ27wcS9bt7ZGSrIkE6Dhsgoh5LC2Zq+hNZTlK3C1jTZl9xAUXsYYP5OlNAkSNY9rez4o2kyiBGtrhFDA2hrAapmI5lGZbHNTdf/zCGPWy1Q0Jm7R6Wg5keYY2YiV6NTcLx9L0/OJCNDpfm/Gv4cOFIIUM/j6Cs6NYbMxBIoYc9TVq432m+W37b4Und4XlKP3u/qhiDbCdygiomcoxQK+7iHLRzvftogixmLlTKDJeGmoQCRBzOGzGc5JXV0hht6xD4POlEhA0fl2+B2rASTN/dL91/sk27DJ6lE4VzWlYOpW7o2WkoExqQk4rRkEmudxcGnXur3fAACj4U9gwJfoNBhTo9P9CutqpGTnZlqKNNMLAQDZGEXn+sHXXVbC14O1g77WVjAmPficWUN0bPzrIyJ6psryNVI6jdO8tQHWeZh2NHUIOZT1GzO876IqN1l9JAKAhG7/84Mbjr3sJZm2ZMvcfahZK+DblJcZqALGpGlWzTIx5tOfTwQ76cO1315oCutqWFcjL66XfzsR7Z1IQG/wEbYtMzUbLlh5390oEzA9mhZmTEKn+3X9AyDaodO4YyAiot1Tu7cxoavexM1/bpNFlJJDCPnJBK+OrRy/Qjl6C2YU0GYU3d5vO51I+JSmZCtNPzaZPmhtQIxFew5Y/nevirbs7P5jp33+uJ+NlOU3YEcjouMrOj8gst1rMcYM1fjNRs/N85uZx6wrtzoeom2d9rspERFtJfgeQtj9ZA1ZUDKyDttOBxJpGloHXzwYgX1JUrLw9RX4tkybcm58V/JwRpyrpsGlZWLMZ0s9kJpS1W1seYO4WEKndzch0pgE2zacJaLjMKZuGtZvwdc9jG5/hj7K/Fn5GOYE8JvrKgaO6XjYY4iI6Jnb9gJonm1X2h5v6/6UsxjyaXr3pQi+C2YK0TayYnYFen+Oc/MiEhFCBufuzmm2/f8Q8qXTxxZudw8/T158h8vGM5lU1nrE/bY0IrpQCutKGBPaaWJz3lMlotv/tINyW5m//ZWfveico1ttl2gbXJokInrWBMH3j30Qa5E9N4Ilem5EQtu89HmK0TaZj2phbZjbo2za5H4Du8iAnLfNeWV9+250TXRpxHhYN8bgxV+g1/+MTvcbeoM/wMw5JxbFj62DQqqCqny51TZinM2OFkE7qUzhsiGYPUSHxowhIqJnrq5eIMtvd5blE6PbqJ/IqoxJiCGbZgJcgl1mYNHlca486KS/fe8qJZk2lTYmwNoI3Bso79opQpoAhUzPR6qbHZmxNUTixmUhs9urpqOoH2Pgm2h3rC2Rd348yDpuHg/o9T9hPHyPGDt3j++gj085frNRw+n7FgWj8+IGWT6EtR51VbfDKC4pg2hyLXRJP/PpYMYQEdEzp2oxuv0Jads+HGiav+5jdX1mPxf39sTAEG1uXr+KvdpjIDP4AsYonKvhXL1wdd+YCGMjNN0FczZvvC0bB5UeUmTZLXr9TwsDddbWWzXvJ6KGdSP0Bp9mgkITIopu/zOKzjcUnW/I8uudTDGcl+2zrrRgG8bE6XksL27Q6X7BZV0fKPqDP0D20AKBlru0K28ioouUUo7h7c/wvrvVdkSws1X1RVKyz7osZp5DBNvouVK4bHTsg9idNeMz9187zflp/V36uo/tL4kVne5XdHpfn8wAFFFk+XDLfRFdNmMrdFcY7y6iyIubNsjyHVm2ffP3Xv/j1k3kxcTl34Qmm/HSsmeMDXBs0n8UDAwREV0Mg3L0HqPhe6S0WXBHk9lLM+v7jIlIiZXORKtomq2udpNxymLIEUKxdmBnJltqzfH1qk257XYUne6XpQGfurpCjI7nN6ItiDRlYrJ1A+nNGJPaXka/wZhNGt5Peggtd1khIQAwqMptz8e0Kb4z7YlI2Lr+lIhoH2LoYnjzC/LiGnlxvVZvEjEJMdq258f+NFlJl1NuwRtF2pTbQc+MY1IVxJhNJ4qpAjFkgDRfMyY+GfjSZCE2Ns+L+drlZHV9tdH1mkiEy4bIixuIxJXOo6oG5fjtwjISIlpG23LM45dXZfkIWT5CCAWq8WuktNrr2tpq5QbYxoad9j87B3X1CtaWABJOJ4fllI5lf3gluifWlQh+cOzDICJawKCuXsH7Pjqdb3DZGjeXanG/Eew+GOMRQo5mvay9AFSBddVBm+weyi76HtBl2ncG3zwxFHDZ9uWej4NCQFMOdr/xfEqCEAqIxLlN75NaGMSZ7azC+y7q8tVaz8myW2TFNYwJa5+LrCtRV9tNMyK6PM01gJgmU+jUFlKcq2AHv6Iav4Ff4d5v3QbYzT3leU2X3ZZC0O1/xnj0rr3mPM5RGFs3gwRUUJVvjnQch3Nar6xn5NJewER0njRlGI8+wNoKeef7wiaOj5619+MyJs2kaGsyzzIoBAApMjBEmznGlCuXVQghXzsQc19TzqpLt2GMwpjmvDRvn87VCCFfK4NAFfC+j2r8BusWa9hsvPlUxp00uCa6JIqi+xUxdCCSlmYQHosI0Ol9halq1NVLqBrMP7es32PMZSME31uwvecpxaI5P69ZGrwrxtTo9j9BRBF8D3V9GckeDAztzeW8eIno/MVYYDz8aeHo14lDTSWbu2883zPrLqac0GXS5JBEm6mD94Ij2wRtVmFtjRiyB9k9q2qONcKY9YLMZkEQbNWfNSUDX1/B1/0Ny8fCxqV7qoKK2UJEa8nyW+T5ENHWGN3+hLy4PsnA0ERe3CIvbhFDjnL8Zqa8zLrx2sefZWOkznfU5etdHurJO2YmdUoO1fgNQujgEkrIJhgYIiKiqRg7GA8LWFei1/88+/UdlZBswpiEEAoYU699Q3nKmsyJy7nwoN2KMYPLZhtQx5A3I9hF2yQ/WTpmXiStnA0j0jR+Dr7J1lEYAM2+xCzeToq26clzwNdwDDnq+mrrVfei833j3iYx5kix2HjfRJdHUXS+AQCs9Ri8+P1J9BZahXU1Or0vqMavEWMBQCASkBc3G20vy0Zt2etzXR47PpEA6yqoGqgahNA79iEdHANDRET0iCCGLkIoHmQOqcoBisie5lyFGB2eU2NqlpHRdubfKNgNMoZUgeCLJitQAEECRCHtB9AEMlOybQAowrp6WuKp2jRYTsnB+6J5HrQpAbERmkyzvQMFhVSBcvxmZz0ft8mW1COVRBCdL31QPn4uQaEJaz16g09IybaLaqONy+GbErrAfoR7o+gNPk4XWFJ0GN7+0ZGP6fAYGCIiornGww/IsiHydpW8ae5aIcZs7ck/u2RtOMhktENQBctLaCu7nHAlgoUZgZOgz903T/+DGDIoBMb4aX8w1aZx/ORGKCVpAkRbLHg3+18tOKMKlKN3O1313WYyEAPAROs55ZKxdRgTYfLR1ttpsotpPwQpZu0EOAN/ob2CGRgiIqIFBN4P4H0P/au/vDdO+vipzOe2crhIDB2Wl9BWQuihrgbIi9u97qcJDDcB4cc3bPP6DDVNO+9KT3dR/rlq1o2qYDx6hxi6W+/zvm2CO00ZGxGtQiSg0/vt2IdxUpqMIfYj3Jfx6APuhqsc/zr3GJjXSkRES5gHK+VGjruKl5KBMcdpgL1rpzZ2l85TVb5G8J1jH8YM6yrEsLtMmVUu1YPvYHT7886DQgDaRqTrS9GxBIRoZQm9wcejZiafory4PvYhXADBpQaFAAaGiIhoBfcDGMZGBF9Aj5S085yCKc/pZ6FjEpTjt3t9TW7SYUykyRza2XEtyRT0dQ/j0fu9BWFSyhDD+iv2/sJGTRNtI8tvn00Z2S5l+Qjd3idYu9lkRKJlGBgiIqKlHpdQuKzaaW+TFC1CyBFCgRhypGibZtfJICX7IBBlzfNZRWQWAe2KqkXcMKNln4wNiDHfSXDoqTLWuu6jHL/FfgMwslHviUvtV0G0HkWWX6PofD/2gZwsl5XoDT6h2/8IY9YfMED0FC5VEhHRUo+brqo2o6p3IUULMRFuXomaKARNT5OUDFJqRmJbnP9qYvCdk7yRp/Pl6wFcdnqryc7VCCGHtfXGU3meUo5fw9dXu9/wHGLWm4gYQw5lAJjoEYVpF3nEBDhXwrkSxj6fiaP75FwFO/gVdfUSdfUCzEikXWBgiIiIlnrc9DXFbG7D2c22bVfqW2RMgvcZshpjrmQAACAASURBVAVTk85JShbjvWc30KUJoYsU3UneXDlXI4YcZg/BobjD7MWnKZwbr/UMz6bTRPckGOtRFNdw2XqvJXpIBCg6P+CyEcrR27NpTG1MjaL7Db66Qghd8DrodDAwREREyz0u4djRVLCUDKxbPR3aWQ9V7CXr4FBUgfHwPbDF6Gui+QR1PUCnu4dSjB285qyrkZJBjHY64WxVMbjpZMSZQ5PDNKPPi2vYNYJuqkBgGRldMDEeRiJScsiLG2T57bOZKnoqrPXIihtU47fHPpSVpJQBatDt/wbvuyhHb8HuNqeB/wpERLTU44wha8NOpg1pWu9tSExCiue9plFXL89mZY/Oj68HbcnlaWomCq5/fPrEc4rON2CD5tjrWncqUIzFTBku0SWwtkS3/xGDqz+gN/iEwYu/RF7cMCi0J1k2grHnkk0tGI/eIoQCWTZGf/Ar5Bn1jjxnp3vlQEREJ0PnpAvs4vLuccBpJWd+YRlDcexDoGfNoCpfH/sgnmRtvVYz6hAyWLs4s9DagCy/2cGRzScSUHS/rH1TG3x3T0dEdKoURecbeoNPcO5cAhXnT0TR7X2GrFCWfxoMxsP3CL4DYwP6g19h3ejYB3XxGBgiIqKl5pVqOOe3zt4Rs8kI7PMODHESGe1b8D0Ef7qNzZsR9pNJhE9nz8XoYG1YWj6a5cMdHuHstvMNth/YX4iePZ1+uOwWvf5H5MX+grS0mDEJLjun4IrBePQeVfkCgKLX/+1g2Z8033nn4xMR0UGYBWm+KdkHjW5VpQkWySQbSGFNgJgEVUG8N/ZeJC3c7pPu9TtSbT7fJMB0aKrN2GqWltD+Ccajd+gNPsJuMT0w+KJtFq1r9dZZhTERxjSr2zFkgCSIaFtq1kjRQtrHl7HWQyTu5fVlNyjRiCGHKi+z6Xlz2QgxdNDtf9rqXEO7kWXDdkKj4jyaOgvq6hVC6KLT/dqUG5rAvkNHwncsIiJayiwY0Sz3buJUgRTdzLSyGByMJMSQw92bKBajgapZu3GssRGaDFKyEJMgEhFCDmM8zIkGiGLMzmpqCD0HBnX1At3el803Ibr311TTq0xh7SRI5CAmAmqQ1MI9UUL2WJbfoK5e7fwY55XSLsNsIXr+EorOd8TQYVDoRFhXo9v7BJGE8eg9VAXnEGBJscDo9mc4N4bh39LRMDBERERLLQoMGeORkoGqRUqCLJu9ibMuNIGbRzd41iakZDYary0mwd4LSjlXt8Gh1W8iD6kq2XCaDu9wY9zXF6MDIDOBZOsm54KIFNbN/tnPCrmm9S+XQzjdUj6iXRGJey3jpPW5rAQA9K9+j/HwJ8R4Ln0NBSH0gN0mp9IaGBgiIqKlFmYMyaT/UILq4ouPRWOmjUlQTYgx23rFUU6gLj0lixgKxFggTW8mFTGwCS0dgZ5mKUHwBayrlvYNmjSpXvZ9E7qnn9fX/bX6pqRk2UuMLsBmWb90GCLN4t35BIbo2BgYIiKiJRSyIDB0n8hmyzzTi5eQwy4IIK22oeMEhjQZVNVLBN9t+5uc5s04XaLT+ltUbbKY7peUPkUEa50X9hWATSlHCMXKU5Zi6ODUfvdEuyYSHvQEo9NjXAX4wbEPg87EVkWHIvKfiMj/KyL/UET+OxF51T7+T4vIWET+QfvxX+zmcImI6NDELJ8IlKKb9gjZaB/S1MaHUKw1xvo+YwJU215Haf819SlZ1NUAw9tf4OurttEsbwbpdBw/h+6hGIuF2YOLrPMzuGx/JS1xjdIwlpHRJSg63499CLREng+RF99xeu8GdIq2zRj6ewD+pqoGEfmPAfxNAP9R+7V/pKr/wpbbJyKiI1tURjZxf9LYtpyr2qwCB1ULa5eXm0yI3AWERHZTnvaYqqAqXyKGblsqxkAQnTA1SMmcxKq+qmw03aspJ5Olk8lUgbDHks1myuIq3ycInqWj9NwpXDY+9kHQCorONYwJKMdvcA6NqOl4tvrrUNX/RVUndwz/O4A/2f6QiIjolCwaKR+jQwwO1vqdBmBEAGtDEyRKtp1atBpjEoxJENl9v5HgOxje/AJfv2j7hzAoRKdOkE6gAXUT7M1WDvLeJ9JkJD4lhhyj4U9Ie+ylkVZsQO3rPnjzRc+frhwspePL8hF6/U+AbJ7ZTc/fLl/R/x6A/+ne539FRP4vEfnfRORf3uF+iIjogBaNDlW19yYI7WvfEdZ5hJAjxmytMjPZ0QWQKlCO3rSjX9maj87LNo1HVc3WAdYQmsDUuiVk94mZfS2rNkGY4e1PGA1/3mtQCGhKyZZlRzbHxH4edAkMqvLVsQ+C1mBd3QSHcPwMUjpNS69wReR/BfDznC/9LVX9H9rv+Vtohsv91+3X/gDgn1LVLyLypwD+exH551X1es72/wzAnwHA7373u81+CiIi2puFpWQHLFmf3FSmZBCjW3qTmZLZqufRfeX4DQKbN9KZimHzgIlIQgxPN4tWFUAFMqdcrSkfqzfKFLrbBh6UwqkK6uoKvh4cOFArGA0/IM9vkeU302NSBYLvNR+hA2YL0aUIvosUHYzlfPFzYa1Hr/8Jo+EH8FxFjy19R1XVf+2pr4vIvwvg3wDwr6o2a7mqWgGo2v//P0XkHwH45wD8H3O2/+cA/hwA/vpf+1N2xiIiOjGLSsmOMQXMmARNy1e7UnTQpDDWb3VTWpUvGBSisxZjvlKPnkVcVi3s1xVDDjF+GkASiRATp+VfSc1WmUJNM/m7cdghFBiP3gFqN97mVtSirl6irl7AZUNYW8PXVxxNTxdKUJav0et/PvaB0Bqsq+GyMYLvH/tQ6MRsO5XsbwD4DwH8m6o6uvf4exGx7f//MwD+KoB/vM2+iIjoGNITjWuP02NHV3nrEoV1HjFs3l8lhAJ19XLj5xOdBrOXZsiqAjEBxuh0qqCxse3vBRgbtgoKNYGmJjCUUnOuqcpXxwsKPSAIfoCqfMOgEF2sovsVwG4HUNBhZNlo+TfRxdk2h+w/A3AF4O89Gkv/rwD4hyLyDwD8twD+fVX9uuW+iIjowCYr9XMdIcczxmylm03T9iRxWY0UN7uRjL4LNpim52DbaV2P+ww1/b5kYdB4myy9Zn93PcKsDdPgS6fzDRy7THR8IhGaLLq9356+TqCTZDaYEEnP31bF2ar6zy54/O8A+DvbbJuIiI5vXtPX6dcOPN2iuVlcoYws2WlgaBtxxSlERKdumz5DACC466cTY75136BlUnQzje2bDKUIBmuJjk/VtOcBPfi1AG1v09Jiet7YdYqIiBYyT1zwrVTStUMxFEsDPk1Ke7r3uZ3bFHcV1m5eBkN0SlQtUtr89WpdmD7fuf0GhYCmDC08CGY1PZK2DXAR0a4IyvGbracW0nGoMgRAs/hXQURECy3KGAqhOHjgxNh2bH3IkZJ9MLpeVRBCDmM8jNF2UlATSNp0ZWzhNDaisyNbj1E3Ju09IDQhAjhXta/3DLYtewi+d5gDIKKlVB2q8etjHwZtjFlD9BDz5ImIaKF5wZEQcjh3+Pp0YxKMuQtGqTZj6aECY+O091AMDhA8OWJ7FWwqS89JXb1Alt8+0Uz+9DzuJxYiM4aITkkInWMfAm3AmAiXDTl1lR5gxhARES2QkOW3Dx9J9mRKrETaYJG9y2oKoYB1AdZun+0T4+YTzYhOj0E5ejct/dAtSsuOQZM5kYlkRDShallOdqaKzg/cL70nOq+rAiIiOpi8uJkpw9IkBysnWYfqbjOZNBn2M6FnJ8YOxsP3SNFBAcRwPllxkdlCRCdIMB6+Z3DoDO1iSAc9LwwMERHRHAlZfvPgkRiymUlBp0CTIKXVxtivtD0FyvIV+BZJz1GMHdTVFYxJsK7p2/W4MXVKFjHkO3tNzZOSQQgFYlze1UBVUJWv9nYsRLS5GDvw7P91dpo+jQzo0R1e9RIR0QwRnelFoid4AaFJoGphrd/J9lIyGA8/sO6enjXvB9OAjHM1jEmI0U2bPYtE2D0GhYLPIZLgXAVjAkJYXLYZQ47hzS/s+UV0wnx19WAgBJ0+TQ4MDNF9DAwREdEMVTNzkXcqvYUmVIGkFmYH/YQmytE7xMhmmvTczWbgWBvgXA3r/F7LRUPI4bK7kfcii29N6rqP0fAnqHJWCtEpSynfevIhHRazvOgxBoaIiGgOgerDt4jHnx9TM5HM7aTJ9ERd9xkUoosRQxfhwH205pWnqQIyb/qh76AavwFXtInOBV+r5yQwMESPnM5VPhERnRDF44u8U5li1DSa7jTTUHZ0TCkZVOPXO9kW0XkQVOPXBy3/MMYj3espFEKOFLPZslUFSgaFiM4KG1Cfj5Qsy3Npxmlc5RMR0Ukxtn4wsUJVICcywSLGHFlWwrmqmawUt7+4qcrX4FsiXZpDl3+IUUBi08/IF9PStcfq6iXLx4jOTAjdYx8CrSjFDAy802O8CiYiohlZNnrweYw5jDm9zpLGJBjTTFYKId8o+yH4DlOq6WJV5SukZA+2P2O06WeUVXO/HnwHdfXiYMdDRLuRYo74RCN5OiFyetdzdHwMDBER0ZNSdLB2/k3cMZhH/UhEmslKztVQNYhh9QyiEAqMR+/AlTO6XAbl6O2xDwJA04OIr0eiczXb1J5OU4oM4NEs5ukSEdGM++VZqgbmRO7TYrSwdnFJmzEJMAkh5LDWQ55YFfO+i5I3oUSIsYO6GiAvbo92DCEUGA/fg2uWROcrxgIhFHDudBaTJlKyiKFop64aQA0UAkCRFzcPyuefuxA4aINmMTBEREQz9F5TQmN9MznoBOInmizwRGBowrkaKZkm2+lRDxPVpodJU65yAj8U0QkIoXO0wJCveyjHb8HXI9G5E8TQOYnAkKoghgIhdJuBFclh0TnG11fI8lu4bASBwixZWDpnMTpEBoZoDgaGiIhoRkx3bw8iihgcrNvdaPiNrRGdMiZBJSHGDNY2wSFVwej2J6TENGqih44TlKmrq7b8hEEhoufgkD3LgOZ93dd9pOQgkiCiCKGDGAqsnoEo8PUVfH3Vfp6QFzfI8puZqYnnrq5egudbmoeBISIimmHk8fhoC+AEAkNrEmlHZCcLY2J78cigENFDCUXn20H3qNpMA7y7ESOi5+BxH8B90WRQ1wP4+qq9Rtkl02YWX6HT/YYsH+54+8fh6x6HbdBCDAwREdEM68YPPpdTWTHbILM7xWxaDsdpR0TzGKSUwdrD3NDFkKMcv2GQlugZ2ndgqK778PWgbaC878wXgxA6TYnZktKyU+2tBDRZVeXoLUJgUIgWY4c/IiKa4Vz54HNrPYIvjnQ0jZQM7EYXXc2FYzV+A1WuhxDN4+vBXrev2oyiHw/fYTRkOSfR86SQPTZxVgWq8WukWOBQ5VDB9zG6/Qmqi/dXVwNU49cHOZ5N1NUVg0K0FK+QiYjokQT7KDAEADhyI0ZVu1Gtv0IxHr1HDN09HBXRM/HETc8yKRmI6IMVdVWBiKKuBogxRwzdPZR7ENGpcG6Eovtt6+leTw27qMZvcIy8hpRyjIfv0e1/mjm2uhqgKl/D2Prgx7WKpgcTS3ZpOQaGiIjoAZeNT2IC2WMpunZayHpp6sEPGBQiWiKlbKVSCFWB9z34etBMCQSmAR8xAdZ4pJQhJQdjAtITk4CI6Pkw1q8dFErJoipfQtVCk52eL4ytYY2Hqpk+pipHzfqNsQNfD6bTG2N0qMZvEGMHQEK3++Vox/aUye+XaBkGhoiI6IE8v5n7+LFHt6pajIZvmia5ohBJT97EqgLe9/deIkP0HKhajIcfUHS+wbnyQQA2+A5C6CDFHDHmWLRirylDSNn083Tv/4noeaurK6TkkBfX00mgi6Q2CFSO3s4N9qRYtOVip+suKNQsqBkbpoMuTkWM7gKzhRTG1gfqQfW8MDBERERTxlawbjYdOoZ87uOHlBe3EEkoy9dAu/plbIW8uIZIgiYHayuICQi+j6p6AeWNKdEaBFX5BhUSis53GBNR131E9qYgoqUMgu8j+B6y/BZF5/vMgpKqoCpftQs253fTXpWvEWMO50rEaeBKkWVDqArGww/o9j6vndm8L8H3cY6/5211ul+RYoZy/BaX+PNvioEhIiKampctpNqUiJyCLB/BuhLl+A1i6CHFAuXo/aPvSuBsBaJtGFTlm2MfBBGdpaanTfA9WNtm9bZZvsF3z3wIhCD4AYKfZCIr8uIaimbqV0oZQiyQn0BgqMmavsSgvqAav0Zv8AliInzdBCt5XbjcOb8yiYhoh0QiXDaa+7VNmj7vizEJ3d4X3F53MX8liG/+REREx6RqL2ASlqCuXt59ZjyyBddRh1ZXLy82azrGDqryJYrODzhXIYZbjIY/H/uwTh4DQ0REBABw2XBu0+nTbESdgenBREREdCo0OQxv/ghiApwbo+hcH+U4UnSoqxdH2fepqKsXEInIi1tYV0Mksgn3ElxWJSIiAIosH879SvCn1wDSWI8svwFw3IbYRERERA2BqkWKBerqFcrRcUpymxKyS188E1Tla/i6yVpz2fxrXLrDwBARETWjYR9NEVFtgkIue3p89TGIKDrdbwtL34iIiIiOyfs+Ujx8gU4I3YPv8zQJyvFb+LqPovMDYjzEeHBRcT4GhoiICNmclRRVc5JBofs0MS2YiIiITpEcvAG06qTcnhoCX/fbBcWvyLIhuv1Pxz6ok8QeQ0REF03R7X2GdacdAJrH133E2Dn2YRARERHNdTfW/lAELCN7KMYOfN1Dlo9gjIdIAifYzuJvg4jowllXQmQ2rXbeY6ciRody/PrYh0FERES0UAydaZ+bfVMVVOWrg+zr3IQ2c8uYBBEgL27QBIfuGFO3g1jiEY7w+JgxRER00QSqpl09efQVUcToYG04wnEtpiooR+/AtQ0iIiI6bU2fG1WDLL9dadKrqiD4LrJ8cR9FVUFdXSH4HhQCaHM9x2uj+ZrfzZ2i8wN5cY3gu0gpA6DIi2uIAKPbD4jx8loVMDBERHThmvGds4Ghu6+dRmBocqFU11dIKT/24RARERGtQFCVb1CVr+BcCetKGBNgbQ0xD6+/YsgxHr2HMX5hYKgqX7Tj6BkEWpWY2WtZEZ35HavKEcr/TgMDQ0REFy6GzsxEMqB5czzm5AZVgSaLlBy87yP4LngRREREROfJIIQeQpiUlimMreHcGC4bIcUC5fgNAEGMBsObX+CyIfLiBiLaZky/vfd8WpW19Urf11xrXmaPJgaGiIguXPDdttb6jmoTmHFutTfSTcXoMB69h0iCkQhVA1WLlCzYQJGIiIieL0GKBepYoK5eoVmMk7uvpQx19Qq+vkKW38LXfajy9n0dxnjkxQ+47KmyvLv/r6uXBziq08S/LCKiC6dzgi8pZrBuNoto1yb9i1IsFhSzEREREV2C+YthqvaiAxbb6HS/wC5Z5ByP3iOGLh4G5i4Pc/KJiC6aotP9OvuoHuaNURXQdHkN/oiIiIhov8ajd6jKl4hxcT5Miln7f5cbFAIYGCIiumguG83tLyTmMKM6U8zBtyIiIiIi2jVVh7p6idHtL6irq5mvx5jNTCy7VPwtEBFdsHnN+FQF1h4mMNQEoI7X4JqIiIiIngvF/Em7gqp8+aCfkCpQjt6CIZEGewwREV0wMycwlKLbaX+hlCygAmNnR4XGmOPSa7qJiIiI7svza0AUMRTt+PS76ySRCGMrQE17HcXABgCIBHS6X6EQlKP37aN315hZfgu5d7lZla+Q0v/f3r0HydLf9X3/fPs6s7vnnOd5jvTo7hIIEUdOsJAwRRzbwUIkBFMWcbAtyraIiwrGZTvYZSqFk5TjUKEqmBCcxJeUAAeTUGDFciHKVGIbrBDKKRCPuUlGwUgyiREPei7ntpeZ6e7f75s/umd2dnd2d3Z2dmf39PtVNefs9PR0/3Z2e2f629/f91tc+zhvKgJDANBbriRZEABaY4wmxlT7u2+QZErTSdcVwhRjphAKxVCub2cAAABPgSw/mBVNjjFVU29JFpWlkyMX2g72p4WTMdx6Zfaa1elYSVorz/d1sP+8kqRROXg0W7epB6qrk1PL+ozAEAD0lFlQkpxMtzVb3zQys6hp2/kQBgphsLZtAwAAPI0mk3vayl6WJCVJUFHuLlzPmI4vSbKkPpIFP9x+aZYdlOUHauotjUfPqRw8UjW5q7raEdnqRxEYAoCeShYUnZakJIly15F021WZucyC3Hm7AQAAWEZohqqqbRXF/pnrtRfg+i1Nxxpuv3zkc+v067b7bSYpUVPvqKm3RUBoMSYkAkBPpelEklTXQzXN4ZSupl7v9K7B8IHSdKwknWgwfEUUmwYAADhbNb535uMepzWG+sxVDh/KbPFny2py71i2OkGh03AJFwB6atqRrJrcVQylhlsvKcvHSpJmLdlCU1k+VpaPJUkxJkrTqiukCAAAgEXcU8WYLJz2L0mTyd2eF092FeVjpadkwFfVtqrJ3Wse0+1FYAgAesmVZhO5m2LXGSzN2gyi6KkSrbddfWgKTSb3FJqBuFoDAABwHlM1uavB8NGRpe7ToFG+oXHdBK5y+ODUqXZNPdRk9Jz4zLk8AkMA0Euuut6SvC0MnaSTuTTc9b6JVpM7moyfWft2AQAAnmZ1dUdZdph57S6NR/fV1MNTp0897dJ0onL44PRMIT53roTAEAD0UqLJ6P7sXtbVG5LaKWahKWYtPy+jrrY1GT976e0AAAD0j2k8uq+sOZBZVAy5mmZLUhsk6hOzRuXgsfJzCnJ7d9ETF0NgCAB6yTX/pplm49nXZi5f0xtqCH1OcwYAALgc91R1dWfTw9gQV5pOlOUHyou9U2tgxpiqntxRiHmXDX/0cy7OR2AIAHooy0YqBo/V1EM1zXBWX+iQK0ZTklzuclS/578DAABgFUlSa7D1stK0OXM9po6tB4EhAOihJK2UprXStFapJycez7JKTV0qSY4HjJbnbrRRBQAAwIVk2YEGW6+eW0fJve3ORlDo8ggMAUAPncwQOqppynPXWSSEXKFpW9HHUEierjQ+AAAA9E3bgr4cnLxouUhd7fBZc00IDAFA77jS9PzC0qfN4164RZeqyV1Vk3viqg0AAAAuKi/2lg4KuVv3uRPrQGAIAHomSau1tzhtg0LPrHWbAAAA6IckqVQOHi69/mR8T0620NoQGAKAHkmSSsOtl89dzxQvtN262ll1SAAAAOi5tiPutKPYGevFRJPJPT57rhmBIQDoiTQda7j98lKF/JK0Xnq77m27+6bmDRoAAAAX5zHX3pO3SHKZRaXpRMXgsdLuM6m7VFd3NBnfk5RsdKxPIwJDANAT7okmo2e7jmSVkrReGCSKMZ+9CS/DTBpuPVBdTTQePSverAEAALAak3uqptlSszdUGyjyNo+IqWNXhsAQAPREjIViLKTaleX7GgxPzuN2n/5zcXmx32UODRVDoboZ8gYOAACAFbXTy1b8aIoLIDAEAL0SNRg+UF4cLHw0hEJZdn7HstMkSVBR7sldanbfdM4scQAAAACbRmAIAHpkuPWKsnx8xhrrCeU0zZBOEQAAAMAtQCEIAOiJJKnPCQpJ8su/LTRNqWp879LbAQAAAHD1yBgCgJ7Ii90zH3c3Jenq08iaeqDJ5J5iKFfeBgDgdjELck/U1gIBANxGl7o0bGZ/xcw+a2a/2N2+eu6xv2RmnzKzXzWzf+/yQwUAXEaSNKc+5m4KIVeSrDaVrKkHGh08T1AIAHqmHD7Q1s6LyotdpelYZo3WNS0ZAHA91pEx9D3u/t/OLzCzd0h6v6TfIemNkn7CzL7Q3cMa9gcAWIGfMk0sNLksaVYuOu0uTcbPXGZoAIBbyZVlY5m50q7Tpbu0v/sm6swBwC1yVTWG3ifpR9x94u7/UtKnJH3pFe0LALCE0z6kuycrZwpJUl1vK8Zi5ecDAG4rk7spxlQxZAohVzW5R1AIAG6ZdWQM/Vkz+4CkFyT9RXd/KOlNkn5mbp3f6JYBADbktIyhVctCeExUVTuqqjurDwoAcKvt775500MAAFzSuRlDZvYTZvaJBbf3Sfpbkt4m6Z2SXpT03RcdgJl9k5m9YGYvvPLqyxf+BgAAy4lx8RVcW6EWRDW5o73dN6qaPCNxZRgAAAC4tc7NGHL39y6zITP7Xkn/oLv7WUlvmXv4zd2yRdv/oKQPStK7vvjdVKoDgCvS1Ntqmn1l2eTI8jSr1NSlZN7WiUjrM7dT18OuphAdaAAAAIDb7rJdyd4wd/c/kPSJ7usfk/R+MyvN7PMkvV3Sxy6zLwDAZZnGo+cWPpLlE2VZdfp0s/mtWNT1B4VclpwdsAIAAABwcZetMfRXzeydantS/rqkPyVJ7v7PzexDkn5FUiPpz9CRDAA2L8tGZ6+wRN5mmk4kC1c3hcyCimJXWTZW0wwUQqmifKIsm6iutjQZPyP3dZTIAwAAAHCpT9bu/ifOeOw7JH3HZbYPAFiv5JxpYmlWKYZUSXp6LN9MyvMD1WsvOu0qyscqyl2ZudxNZVYdWSPLR6omd+VMPAYAAADWgkuuANAj1eSu8nxfdspMMDOXmxSaokse6lacBmLMZRZVDh5K8i44tK5pZSb3VO6myfgZ1dWOivKJkrRSaErFUCqEXJecBQ0AAABgDoEhAOgRj7kO9t7QTs06JUCUJEFKjmYMuUt1va16si152+HstODSZdTVHdXVjqbBpmpyb/07AQAAADBDYAgAeibGTNXkjibjuyrKPeXF7qlBnhgTVZO7CiFXUe5pa/slmbXLx6P7Ck1+BSOk2xkAAABwXcjHB4DeMblMw+1XZEmj0cF9NU25cM2m3lZd7Whr+xXl+ehIAGm49YrMmmsaMwAAAICrQGAIAHqonVL2OplcW9uvSi5NxnfVNOWRws5tplBbDPo4M9dg61Ut1coMAAAAwI3EVDIA6K1Eo4PXdp3AnijLJwohU11tz4pAmwUV5eNTt5BlE5WDh5pM7l1d+3oAHyj7wgAAIABJREFUAAAAV4bAEAD0mqmaPKO63lZZPlZeHChN2+lh7lqqwHRbp2hfdbXdtZLnrQUAAAC4Lfj0DgCQx1zj0WtUTaoue+jgQl3HzLwLEO0phkIhFIoxb/8PhSgoDQAAANxMBIYAADMxFhqPXiMbNyrKXWX5Qdu+/hizqKYpjiwLoVCRHyjNKqVZJUkaj55VDIsLWwMAAADYPAJDAIAT3DNNxs9qMn5WUlSSNEqzifJiT2lay0zKuuCPu7XTyMbPqp7cVZaN5Z7IPVEIg81+IwAAAADORGAIAHCORDEWilWhutqRJY2SpJFZkGRq6qGmTS7dM9X1zkZHCwAAAGB5BIYAABdg8pgrxHzTAwEAAACwBsmmBwAAAAAAAIDNIDAEAAAAAADQUwSGAAAAAAAAeorAEAAAAAAAQE8RGAIAAAAAAOgpAkMAAAAAAAA9RWAIAAAAAACgpwgMAQAAAAAA9BSBIQAAAAAAgJ4iMAQAAAAAANBTBIYAAAAAAAB6isAQAAAAAABATxEYAgAAAAAA6CkCQwAAAAAAAD1FYAgAAAAAAKCnCAwBAAAAAAD0FIEhAAAAAACAniIwBAAAAAAA0FMEhgAAAAAAAHqKwBAAAAAAAEBPZZseAAAA50nTsfJiT0lay+Sqqh3V1R1JtumhAQAAALcagSEAwA0VleUj5fm+snx8uDRkijEXQSEAAADg8ggMAQBuAFeS1MrykdK0kuSSucyC0rRRDJmqakdNM5THfNODBQAAAJ4aBIYAABvQBn3MopKkUV7syWVqqm1Vkzs6WgIvqs0OIkMIAAAAWDcCQwCAa2PWqCh3lRd7MnPFmKia3NPo4DU6vR8CfRIAAACAq0JgCABwDVzl4JHyYlfWJf64Swd7b5B7utmhAQAAnMm7Gxer8HTiNxsAcKXMgsrBQxXlYVBIkmLMCQoBALAiS2rl+Z6SpKvNhytjFrVz5zdVlI83PRTgSpAxBAC4Aq40a1vMZ9noSEBoKkkapelYIQyuf3gAcNNYUJrUSpJGSVrP6rBJknvS3VJ5TBVCQXfGXosqyicqyiez99cYU9XVtupqR+5XeYoXlWVjJWmlGHOFZtCLizxZvi9Loorysepq+4pfY+D68RsNAFirNBupHDxSmtZnrueeKMtHCqEQCawA+qcNoGfZSGk2Vpo2F3p2DJnG42cVmuEVja/PXHmxp7ra0c0Kvrmy/EDl4JGSJBx5JEmCykEbLKqrHVWTu5cOXlhSqyj2lOUHaptGePf/3Ihcqqs7mozv6Xa9l7tkUTbtgjr/kEUlFmRJaAO0SVCeH7QPmTTYelWj/ed1s343gMshMAQAWIskqVUOHirLxwsfjyHTZPyMQii6q4t8oALQT2k61nD75e5EezVJ2qgodjVqSt2uE/Kbr53+vKc0G2t88Bpt/v3KVZRPlBe7SpJ45ppmUlHuzQJbyweIXGZRljRK04ny/EBpVp37rHZ/u7P9Nc1gFmxps9tKXfz187mM4yizqOipYsjlMVP0VO7t73ya1ErSWvNT6WLM5J4qxlQeM0mmJK2UpNUsK8+SZmE28zKybKLh1ssaje5LPciWQj8QGAIAXJJ3Ke2PF37I8phoMrnbXXnl5AVAv5g1krnk1k6hzcbKi/1LBYWmsnysnbufVVMPVVc7K56E95XLLEy/kjxpAyLFnvKizQ7J85Fs+6X2tW3KBRc12mBKG6RY9LpPgzh2yuOLxjS/Pe+ycB+fm4V73HyAqGmG8jgNYNjcOrHLiGmUJOFSv5NmrqLcVVHuHlkeY6qmHrbTH0Op2AVqFm+j6V7/vRMBsESNlE1WHt+6ZflYO9ln2+l0oZDcZkEsSe0xLx1mJM0/dsT8a25yb38Xp9NHY8xUV3e6qaPA1SEwBAC4lLzYUzlYXIyxroeajJ7rRf0BADgUleUHKoq9pbIuLsPMlRcHyosDhaZQCGWbKdFlWMRYLLmddirbbc/oNAtKs5HStFKaVnKZPLYZJpaEbopQc27mzVSWTZR1AQl3m52wz4Iqs06bNsti8S5IMN2Hu2b1eGLI2/2ndRs0mI47CUqSWmbt82MXyLnoFMOTr0cb4NqUJAkqyr3Z/dlrGA+zfqZBk8tk8WyCmZSm9YWDdqebTtc7+ruZF3va330jdY1wpfjtAgBcSnv176S62tZ49Jxu8wkGAJzOlaTVrBCvd9NWLGnWlhF0UWlWnQhENU2putpW0wwXTHtxJUmtonyiLD+QmRRjohDKdspO9z3F7naTsz7bDpiP2iLBV/S2YzbNMgpnPLboeRcLIJj5pQNCN9XsdUoWv1ZYxJTlI9XVtm7yMYjbjcAQAOBS2iugmZJjH2Lbq50EhQA8PdpslMOC0ctmnWzSNOPFXW3AZ5rxIleaTRYUMY5KksUZJvMZM/L273uIuSYbuQgQ26ygbKw0myhNq40E44CrZuYaDB+qHDxSaEqFUHb/07wD60NgCABwSS5bcOWvHDyRe6K6uiMCRADWK8rMr3CaamzbxndTfpKuwO36poxcPzPNpkStvo2TGTOpKnnMVE3uXXKEy0nTsYryidJsfKumHQGXZebK8vGsycfhFMVSMeazzD4/o47TYn7B9fE0IjAEADiHd7dFV6Vcg61XT71KOxg+Ul7sq6m31NTDrngiHz4ArMq7umaP2sBQTBRirvHB/UvW33Cl6URZPlKWH5zIosHZivKxQigUmuEV7sU12Hplo/VygJvktCmK7m2tMI9pGyyadXTLZ7WrJJMljcryiZK0UlMP1TRDhWYgPqf1E4EhAMACrrzYVV7sK0lquScaj55TaLbm1okabr1yanv6qfZDy2OVg8cKIVNd7dChDMAKfNZGfMqSqCyZaGvnt9TU22qmxX3nWlz7qd18osrB47aFNdOQLsVMKopdja4sMOQqhw8ICgFLMNOsjlOq5YrfF+WeinJPMaaqqx019daZHeTw9CEwBAA4oRw+UFHsz+6btUGgg/3XKYZSkjQYPjg3KHRcmjZKuyyi0f7zdCsDsATvWrzvnRoYSJK4sFW2u9TUW6omd49kLJo1KocPCTSsUVvvZI0sdNP5auXF/qWnwQE4X5IElYP2Yl6MqUIoZh3k2tthJtJt72CIowgMAQBOSNOTH8DN1AaH9l4n90xJsnrHlDStVQ4faHzw2ssME3gKtTVcLjst6uwP6+0+LAltu2xzmbxrnG1SV2D48GrxdX3wb4sJtxk89WyMSdKsnM1jplkr9xgyhZi3+2Cq2FrEmCg0QzXNQE19sWyhNG2LRrct3+Ps9/CyP3MA65Ek4dRC9BLdZ582BIYAAAssfpNPkqDh9ks62Hu9QihPtEW+iDwfqcn31dTbK28DeHpEZflIZflYSdooNIVCKNoT5KSRx0zj0XOnBIxcaTZSlo271umN3CV5IpdpPHpOMRSz6aHtifhyo5rvQuWeqBrfUwiDtXy/lgQlFtqizt3YrzIYkKTNie6JWE2MqarxPdX1tlY5KcyLXZWDhxSPBm6xvNhXlh909cWm3dKoUXRbERgCAJxgdnoL5jRtNBg+0Hj0XNsm+BJdegbDB5rIVz65AG6fNlsnSatZ16tplsz8SXKaVUcDr2mj7exFTcbPdDW6upUtqCwfH6m7I7WZMrIokzTcevlw2QUd70KVbr80m5rlns66dbXBpmmh+vkNeDfSdvk00HUb2rzjdKEpu7/bkhR1kZpxWXagwfDhlYwLwPUyc2XZZDbVM4ZMVXVHIRSKIRf1JG8PAkMAgCPSbHTuNIu8OFBd7Wi0/1pt7fzWyid5Zq7B1gPZOFxbq2P01zQg09ZLaGsmXF1AsgsAzQIhYVbkeNVpTGauwfCh8mJPHtOujfr521pnVsb81Cz01/zvQGgKHey//tznmDUqyifK5+rXAXi6JGlzJPDrsc1c1exfzbJZ5dMLHO2FA/ekfcwTxZjKZx3VCmpSXgMCQwDQS64kqbtpJ1X7puxtLZE0W66gdFbsazK6r9H+89ra+dylpoAU5WNVkzviyhJWYRba31s3uawrjHm0EG6SVBpuv3wkkDI6eE5NvXNsa1FJErpgTtN1t2proLQfZBOFkM89rz2W0mwyy55pn7f8dK2LStNaukSmHrAuIeQaj+6fs5arKB+rKJ8wdQzoGUvikcsv7dcXv5gYY9pNVysUQ9EVu+cz4zoRGALwFIi63gKpt5mrKJ8oyw8uNQVMkjy2V29iLDQePavh1oOVt2XWTjE5fjIPnC1qsPWqsmx04oSzrra6KVftVcii3D2RXTPceiD3h3JvAz4yXzqbp5q007yy/PwMO+BpVNdDjQ/u6+yTM9dg6xW6vwG4lCQJSooD5TrMVm3qQTttrblY4XssRmAIwC3mKgfttAqztjvKtI2mz9JUk1l3HY+poqcyi7OOWk29pb4FlNqrtqdn97ifP/UkxlR1dWd2v6m35f7wUllDSVoTGMLSzBoNt18+NcC57HSntoaO66JXMI/X9AH6xL2tM9Rmmy5ex5Jaw+Grl2pSAACnyfKxoqcEhtaEwBCAW8w0GT8r90RpNulqdxxOsfDp3GX5kUCHe/tcyVUldVfbpi/BIdP+7huV5ftKs0k35SabzeM2ucrhA6Vd5x53yWPb4jmGXO7t+tOvp9J0culuQuXgkZpmIDGPHGewpFZR7M4CwgCun5k0GD5SOXjcvR90F2akrqh6TYFxAFeqmuxoMn5m08N4ahAYAnCrZPm+5NYGM7rCsdXkrjTRrBaIJMWYSZoPMEy75cxPOfMzu2+tIs/35FLXgv1mnrW6p6qru6oXXsSNOth/3ayLUPsanzVNICov9lSWTy49riQJyrIx7etxTFSa1m079nx06SmQANbHzMkIAnDtxqNnVFd3Nz2MpwqBIQC3jGu4/epya7ophlwhFGqaYZv2fqwE3sW6HEwDS4sfK8rHKgdtgCSEXdXVjmLIuyBWqmkgypJwyRae08ycqwg8JdKJmQF+WIA3CXMtticnWmxfVlk+VlMPRUHBvvK5zl2HBZ3JDAIAABJBoatCYAi4FaLyYl9ZNlKMmUIoFZpS7mcdwq682JVkx4ITx8+wppk0t+NEvKm3FcMTJd1Up7NMr2SmWaWi3JO7aTx67oyMlHgk8NGmwjeyJMwCIx4zhVAohLLdh1yyqDStlOWH3bzStFY6367zWN2eGBPV1R3V9VbXtlOzrmBnB3xcg+GrSrvMmrrantVNmt6mU8OWDxwdnowfttc+/J7b/5fc1CUlabtvj7fj9xHrElWUu8qLXaafAACAE9ylyfjZIzUusT6XCgyZ2d+V9K91d5+R9Mjd32lmb5X0SUm/2j32M+7+zZfZF9BviepqR6EplaaV0nSiLD9oiyqHYpYVczS440rTWll+MKv9Mq0XE70tzpxYUAiFqsm9ru7OsryrKRPVNENd75Qp03j8rIZbr1y4po2Za7j1qmJ8dNjW2pO2GLUF2RInpJY2StLmSFeE5fZ99H6SRJWDxyoHj48sd9esgHaMmWJX2yfEXFk2UlE+mZ04F+WuinJ34f5iTBRCqXpypwtiHZ0+Nw0EpelEaXb5+kDr0jRlF9RCf7gGW6/StQgAAMzE2J3ndBe323b1g00P66l1qU/f7v5Hp1+b2XdLmj/D+bS7v/My2wcwzxRj0XZtWqrERqLx6L40elZZNp5lgLSBAVdoyrbQrxK1NTwmsi5TxiwqhHwWlDDzLouk7jJjDmbBiRAyjQ9ec63dpEIz1P7e61WWT9qaQtYFO5accnKTW0ubqf2ekqBUq9dtSJKoJBkpz0cKIe+2fb3ZPxfhLlWTuz0rBI6WaTJ6Vk21rSxfrpMYAAB4OsWYqq63VI3v6bbMaHgarOWyrJmZpD8i6T3r2B5wO7gsaZQmtZK0UpLWSix0nTmSWXHkNmARZifls65OXft0SW27Vx0WT7YkKOmKKE+3d/ymrh17O5WpnQ5ms3/VTUtqRU+l0O5rfv2i2FOaj7rsn9VehTRttLX9ksbjZ2et380aZdl4Nu3tKk70PeZt4OvIWMYabL16owM/m3ATi/XG2HWwiZliTFVVd+Qx3/SwsCHumUIw5adkwAEAgKdTO0XsGYVQXrIGJy5jXfn6v1fS59z91+aWfZ6Z/YKkJ5L+C3f/6TXtC9iA2NacSSulaT1Xj+VmTL/ZNEuihluvKoQnaqeZHdb/8Zi0hZ9D0U6P6qaxXawGznJCGGh/9w1tl6zBoxuZGdN37qbxwX01zdamh4IbwCwoy/eV5wdrL2QOAAButhgyjUf3Z7U7sTnnBobM7CckvX7BQ/+5u3+k+/rrJf3w3GMvSvpt7v6qmb1b0o+a2e9w9xP9jM3smyR9kyS95S1vuej4gVO0BYGTpDkj8twWDJ5m+0zbc0uaTU06vAVOWJawKDPFkrZwdq79I8vdrZsrXHat5dspbiZvp73NCkA3mnYD8644cxtYSrvsq/REFlbKCeaN4y7V9baq8b1ziqbj6eZtt7FuSmqajTlWAQDomRhTVZO7qqsdUULgZjj307m7v/esx80sk/SHJL177jkTSZPu639mZp+W9IWSXliw/Q9K+qAkveuL3036BS7HgoZbrxzJ5okxUTVpWxpOAw1t5ylaIG+SmSvLx0c6eZ3N5zK0gnQDp0fhkLu13duaUqEZLCiOjl6w0BU5v3mFzgEAwPXymLQdgq+9eQ3Os47Ltu+V9P+4+29MF5jZayU9cPdgZp8v6e2SPrOGfQFnSpP6RL2cJIkaDB9tblDAU8pdswLls/+7ukHuiXjD7xOXWVCSttlA06ygZG5aKQAA6C9308H+89fasAbLW0dg6P06Oo1Mkn6fpG83s1pSlPTN7v5gDfsCzhTCQHV159QW3gBW19SDWWHAEPMrqROFm8JnhfCPF7g3i12Xw65Q/qybIZlAAABgscn4GYJCN9ilA0Pu/h8tWPZhSR++7LaBs7Ut1Ns2610rdmvrBgFoM3pO6mo0uUneTe2adsWbBgDcNF0iN0VPVY3v8Wb+VGlr/bRTa+em2E6DQdRVAwAAa9TUw00PAWegAijWJsv3FEOhGHMtl0UwPWtd/uzDrGlrVWRjZdmYaQrAKTwm2t97PYWecYRZUF7sKi/2lCRx08MBAAA94U6tyZuMMwasTZ4fKNt6oBgy1fVWO83kSGevbmrCbBpCVAy5JuNnFMJgbkvtlIW2PXzdXtWe1a0Im/r2gFvFkqjtOy8eqfsTY6oYiq4lKOkgfWAWZkWf03RCS3gAALARw61XNB49x0XLG4qfCtamaYbK8jaLp0yfLPWcNKu0tfOSYsjaFvFdm3lOXIDLM3OlWaX02HJ3KYRSdbWjpt4SQaKnhB3W+zkMBtG9DwAAbF6Wj7WVfk77u28QnWpvHgJDWJumGchjIlthegJTwoDrY6a2Fle+L4/psYw9tFxpOpGkWQ2eaRaje6IYszYLK+QKobjGq18uSxqlXSbltE5QktYUfwYAADdakgQNt17V6OC+CA7dLASGcIRZUDF4JLMoj2lXpLb9PzTlmSc/HnPt7b5RebGvPN9nygKwATGmauothZDP1fxSm4kn74q0u2LIxRvyYklSaTB8oDQ7q5D9ZPbVNAOrqbZVN0PJj+dorUeajTQYPmBKLQAAuLWyfKSdO7/ZXmTzZO6WqprcEZ9PN4PAEOa48mJPeTY6NesnhFxNvaW62pEvPPlJVFd3VFd3JMVZXYui3OVqNnANmmagyfjZkw942lbv4jA8nQWV5WPlxd6FgtpmUpZNlGUTFTG9shTptmA0QSEAAHC7WRKVJocX4NxtVpy6mtzb1LB6jcAQ5piqyT1VkzsaDB8qL/ZPrJGmtdL0sYrysepqpzsBPe0MKlFohgrNUHV1R0X5RJY0R7IW5gtTA7g8j/xZX0WSVBpuv3zpwEuSBJXDh5qM7q9pZPPbZsotAAC4+WJMJJnk1vWhbr+OMZvdfPq/JyJLaPM4g8ACicaj+6omd5TlB11b+JPTwvL8oJ0+UW+fu0X3dHEWw+EaXYAodEGj2IabZgWpDzuVpWlFPQ3gFEX5WGk2VlO3QdnZVDKcos2ULAeP1vY3Jc8PNBk9p3UX9Z6Mn1FRLijs311lm5/6O73J2zF4N5YsnagcPlrruAAAAKQ282cyelZ1vS2am9wuBIZwqhgLVZNC1USS4qzoanuy0UWB18a6E5pla3N418a+UppWSrOJkqSmphF6b35ak/sj7e+9QX6LgkOW1CrLxwrNQHW9pau7ghSV5wfKi71zagldnFlbIHrdr3tohho1w0tto45pOyWNgv8AAGCNYkx1sPc62tHfUvzUsKREMZSbHsQcU4yFYizUdN2YzYK2tj/HCQ/QMZO2d15UaAZqmqGaenhNb9auiweOo4pyt51yaq68OFDpD3Ww//yl/vbYtGtX0rTdxaYt3a8g6zDGVCEUiqGYzZO/adwz7e+9XsXgsYpij8xLAACwFtXkDkGhW4yfHJ4SriStbuzJGLApZlKWj5XlY2n4cFbcb3ab6z4YQ64Yc8WY6XIZga6ifKyi3J1bdDjHfDrFyee+brP+jtb3iV1ntVWZNdreeXHtmYQxJu3rFPJunnzeBYOuphvZerhksZ2Om9Qyta/vurOlAABA/1STafMh3FYEhnBLtVPJ2q5nldJsTLceYAlmLrMg6fTjxb0tYh1irtCUiqFUuFB7+0TV5BlVk7vKsrHSbKw0m8jkba0bP4zUmFxKotwTxahZMXp3aXzJOj3uqUb7zyvNxqfWSjv5HFOM7bRW7/4/WiQx1eYLJHZBnq4m26wu2/FbEo7UbmOqLQAAWCd30/jgvppma9NDwSURGMIVausSpUktm3XTmTshPOVkJoZcIZQKTakQCplN6wnVs//TtGIKBHBFzCRLGyVpozwfSWqDRYdZMrlCmM+SOb0zYdNsrfBhwbvbZQMwphAGCmHQ1Uqb/s3wrrD94ddtAeezvpfrclho35LQBn+OfZ0kgb9/AABg48xc5eCR0mbcnb8NbngGNU5DYAhXqK1L1NYHiUrTSnmxpyw/OPPKdZKEdtqL2pNRrnIDm2cmpWmtNK2PLHeX5MlsWtiJW8zkMe3akabddM/zDmpbYp2VvovD//0wTKQrj7HEw+zGdKIkrWc7nXZfPOT8zQMAALdGkjYq0j1Je4ox0fjgNQphsOlh4YIIDOGaJO2V+9FANm7aqV9dNtG0KOyikyFOkICbzUxt5p+ks6anTU2nqU1r84RpXaMLTVVbB++yb5q5jMS2OLWkY8Gadv0j9ZGmgS9ZGxiLqaKns+lm06tlebGncvCIDB8AAPDUS5Ko4fZLapqh6skdhVBq89nYWAaBIVw790xNvSPNJR6k6VhbOy9tblAArsX8NDVpPFs+X9cohqKbUnreVLXzRKXdFFSbdSZru5K1dXdW2eZytczcJfdESRJX2QkAAMCtZCbl+Uh5PlIMmZquO25oSm2+TiNOQ2AINwbTxoD+OhIw6uoaSVIIuarJXTX1lk4PELXZP2lSK0mrWR2yTRakN+vqqAEAAPTUdJpZUe619SpD0dYiCoVCU96Q+o6QCAzhBkjTsYbbLxMUAnBCmtYabr2qGB5rPHqum7MeD7uddYEgpmoBAADcXGZSmlVKs2q2LMZUIRRdwKjNGCdYtBkEhrBRZqELCnFSB+B0SdpouP2SQiiVphMCyQAAALdckgQlyehItnjbCTc7WpOyGSjGfIMjffoRGMJGJWnVtaQPcy3rNz0qADeRmZRlk00PAwAAAFek7YTbSGkzW+ZuOth/vut2jatAYOjKtZ1sznrcLJyZMmfWdFMl4uzWdgHyw/tSO1+zKW9V9ffQDDVqhnNLfO77DEqzifJilwKuAAAAANBDZq6t7c/JPW27wsb0sEOsJ7PloRnMOsPiYggMXaE0HWuw9aok79oxd512Yq4kqZXlI2XZWGauGBOFZthWba+HsiQozw+U5QdK0/rcfUlSlrcdftzng0SFYihv0QFi3YGdSsoVwkDV5I6y/EBJEo4GxrrgEZlGAAAAAPD0aht7BElBOuX82F1qmmHXtMSVWJQloT1nnJ1Lhu78Ozs2Ze3w/m1JslgnAkNXpBw8UFHuze4nyUQ6YwpEkkQlxb7yYv/S3bmm0y3mp1zEmLa/6LMIazqLtMbZ1ze10FfStrc/k3c3HatXNPd1t9wkFeVj5cXBOgcJAAAAANgQMynPR8rnahadJk3rhQkY7joSLGqaocKRGS5PJwJDVyQv9ld+7lVkvrSFvc5u3Xz8IJgW+/KYymVyTyRPdLHgkR9m9SRBJp/bVve/TO7WbXfVb/7wuX6kjnUbMEqORIqDsiX+WAAAAAAA+sNMsrRRMlfjiMAQemXRQbCIdwGd+eDO9GbmRwIwF5ni1QZ05oJGMnmX6XQ8zU9KNKtHlDRKLLT/zwWAktk46HgGAAAAAMAiBIZwYdPgj3R2BtLFtytNM4xmTp0/at26ax0CAAAAAAC9QmAItxJZQAAAAAAAXF6y6QEAAAAAAABgMwgMAQAAAAAA9BSBIQAAAAAAgJ4iMAQAAAAAANBTBIYAAAAAAAB6isAQAAAAAABATxEYAgAAAAAA6CkCQwAAAAAAAD1FYAgAAAAAAKCnCAwBAAAAAAD0VLbpATytqsndTQ8BAAAAAACsKIRi00O4FgSGrkg1ubfpIQAAAAAAAJyJqWQAAAAAAAA9RWAIAAAAAACgpwgMAQAAAAAA9BSBIQAAAAAAgJ4iMAQAAAAAANBTBIYAAAAAAAB6isAQAAAAAABATxEYAgAAAAAA6CkCQwAAAAAAAD1FYAgAAAAAAKCnCAwBAAAAAAD0FIEhAAAAAACAniIwBAAAAAAA0FMEhgAAAAAAAHqKwBAAAAAAAEBPERgCAAAAAADoKQJDAAAAAAAAPUVgCAAAAAAAoKcIDAEAAAAAAPQUgSEAAAAAAICeIjAEAAAAAADQUwSGAAAAAAAAeorAEAADs8tlAAANRUlEQVQAAAAAQE9lmx7AvOdft6Xf/xVfcsmt+JqecfHtXM02JPebMRZf0/eznp/Rul7b89aw87exlpEssd0VdnStP7FzVtrcb8+CbSyxkWX2c+46C1Y47zlL7dfX83t57ljW9Dqd+5wVXqdl1rm68S/x+l/T8bqu1/Kiz1n1bem8126VvzVrOVaXec6aXttlNrLSdld4XVbZ8bWN7aqOoZW+x4t/A+sYy8Kj5SreeFbaz4KVrmw/SzzpuvZ9k/64r7Df89+91jSW6/qwdhX7Xbid2z2WE+dwa/sj7GfcO+0paxj/EmNZ7uEVxr/K63JVb3rnjX/xjr/otK3dqMDQK6881Asv/P3Z/cW/BPHIvZNBk0Vv58eXnbeNRc85/sJHnXT8l2CZsR3fzoJ1/Pi+z/5+Fq9z3thObuf4Nhb/PI5vd4nX5ZyxLdrOcs85ev/8V/bkc07sZcEJ+IlXf4nPJ+ftZ9E6J8a/1H7szMelk+M9/6e63PjP2+4q41/427TCfo5vZ9HP7PiyeGwsYZnnnHj85O/P8e2c3O/5+wnHX6cVxrbMdpYby/HHT37PJ55zzuOLtrNondVey2M/16XGcs7YTj7l5PGwzM9sqbGcve+rGv8yP4+rGv95r91K41/lOUu8tgv/zp2zzsLPIMfXiWc/vsxYlhrbsY0s85zFP7MVxnLie7z8WJbbz/nbXWksy3wIOWfAtswHjGX+8J33AUOSnfdirrLdJX5RT3yPK7xOC9c5NpYT398y213uj/vZj0uylX5mx+8vM/7zn3Pu673Mh6ilDujj21jDc7Tg57iOD+VX9JzFv3PnbHeF5yw69zp+fnnyb9iCX+4T517Ht7FgP+c8Z+E6K43//LGcPL9fZfyL3o9X2O5axr/E67TCz2z8r37klxfsXBJTyQAAAAAAAHqLwBAAAAAAAEBPERgCAAAAAADoKQJDAAAAAAAAPUVgCAAAAAAAoKcIDAEAAAAAAPQUgSEAAAAAAICeIjAEAAAAAADQUwSGAAAAAAAAeorAEAAAAAAAQE8RGAIAAAAAAOgpAkMAAAAAAAA9RWAIAAAAAACgpwgMAQAAAAAA9BSBIQAAAAAAgJ4iMAQAAAAAANBTBIYAAAAAAAB6isAQAAAAAABATxEYAgAAAAAA6CkCQwAAAAAAAD1FYAgAAAAAAKCnCAwBAAAAAAD0FIEhAAAAAACAniIwBAAAAAAA0FMEhgAAAAAAAHqKwBAAAAAAAEBPERgCAAAAAADoKQJDAAAAAAAAPUVgCAAAAAAAoKcIDAEAAAAAAPQUgSEAAAAAAICeIjAEAAAAAADQUwSGAAAAAAAAeorAEAAAAAAAQE8RGAIAAAAAAOgpAkMAAAAAAAA9RWAIAAAAAACgpwgMAQAAAAAA9BSBIQAAAAAAgJ4iMAQAAAAAANBTBIYAAAAAAAB6isAQAAAAAABATxEYAgAAAAAA6CkCQwAAAAAAAD1FYAgAAAAAAKCnCAwBAAAAAAD0FIEhAAAAAACAniIwBAAAAAAA0FMEhgAAAAAAAHqKwBAAAAAAAEBPERgCAAAAAADoKQJDAAAAAAAAPUVgCAAAAAAAoKcIDAEAAAAAAPSUufumxzBjZp+QNN70OAAc8RpJr2x6EABO4NgEbh6OS+Dm4bgEWq+4+1cteiC77pGcY+zuX7LpQQA4ZGYvcFwCNw/HJnDzcFwCNw/HJXA+ppIBAAAAAAD0FIEhAAAAAACAnrppgaEPbnoAAE7guARuJo5N4ObhuARuHo5L4Bw3qvg0AAAAAAAArs9NyxgCAAAAAADANbkxgSEz+yoz+1Uz+5SZfdumxwP0hZn9bTN7ycw+MbfsOTP7x2b2a93/z3bLzcz+h+44/WUze9fmRg48vczsLWb2UTP7FTP752b2Ld1yjk1gQ8xsYGYfM7Nf6o7L/6pb/nlm9rPd8fd3zazolpfd/U91j791k+MHnmZmlprZL5jZP+juc1wCF3AjAkNmlkr6G5L+fUnvkPT1ZvaOzY4K6I0fkPRVx5Z9m6SfdPe3S/rJ7r7UHqNv727fJOlvXdMYgb5pJP1Fd3+HpC+T9Ge690WOTWBzJpLe4+6/U9I7JX2VmX2ZpO+U9D3u/gWSHkr6xm79b5T0sFv+Pd16AK7Gt0j65Nx9jkvgAm5EYEjSl0r6lLt/xt0rST8i6X0bHhPQC+7+f0l6cGzx+yT9ne7rvyPpa+eW/6C3fkbSM2b2husZKdAf7v6iu/989/Wu2g+7bxLHJrAx3fG1193Nu5tLeo+kv9ctP35cTo/XvyfpK8zMrmm4QG+Y2Zsl/QFJ39fdN3FcAhdyUwJDb5L0r+bu/0a3DMBmvM7dX+y+/i1Jr+u+5lgFrlmX5v7Fkn5WHJvARnXTVX5R0kuS/rGkT0t65O5Nt8r8sTc7LrvHH0u6f70jBnrhr0n6TyXF7v59cVwCF3JTAkMAbihvWxfSvhDYADPbkfRhSX/e3Z/MP8axCVw/dw/u/k5Jb1ab8f7bNzwkoNfM7GskveTu/2zTYwFus5sSGPqspLfM3X9ztwzAZnxuOg2l+/+lbjnHKnBNzCxXGxT6IXf/+91ijk3gBnD3R5I+KunfUjt1M+semj/2Zsdl9/g9Sa9e81CBp92/LekPmtmvqy1H8h5J/704LoELuSmBoZ+T9Pauenwh6f2SfmzDYwL67MckfUP39TdI+sjc8g90HZC+TNLjuWktANakq3fw/ZI+6e7/3dxDHJvAhpjZa83sme7roaSvVFv/66OSvq5b7fhxOT1ev07SP+ky/QCsibv/JXd/s7u/Ve055D9x9z8mjkvgQuymHAdm9tVq54emkv62u3/HhocE9IKZ/bCkL5f0Gkmfk/RfSvpRSR+S9Nsk/b+S/oi7P+hOVv+62i5mB5L+pLu/sIlxA08zM/s9kn5a0sd1WDPhP1NbZ4hjE9gAM/sitUVrU7UXVz/k7t9uZp+vNlPhOUm/IOmPu/vEzAaS/he1NcIeSHq/u39mM6MHnn5m9uWSvtXdv4bjEriYGxMYAgAAAAAAwPW6KVPJAAAAAAAAcM0IDAEAAAAAAPQUgSEAAAAAAICeIjAEAAAAAADQUwSGAAAAAAAAeorAEAAA2DgzczP77rn732pmf2VN2/4BM/u6dWzrnP38YTP7pJl99Njyt5rZyMx+0cx+xcz+JzNLuuWfuOpxAQAAnIXAEAAAuAkmkv6Qmb1m0wOZZ2bZBVb/Rkn/sbv//gWPfdrd3ynpiyS9Q9LXrmN8Z7ng2AEAQE8RGAIAADdBI+mDkv7C8QeOZ/yY2V73/5eb2U+Z2UfM7DNm9t+Y2R8zs4+Z2cfN7G1zm3mvmb1gZv/CzL6me35qZt9lZj9nZr9sZn9qbrs/bWY/JulXFozn67vtf8LMvrNb9pcl/R5J329m33XaN+nujaT/W9IXHNvmW7t9/nx3+93d8h80s6+dW++HzOx9y47dzLbN7MfN7Je68f7RM38KAACgd7iSBAAAboq/IemXzeyvXuA5v1PSvy7pgaTPSPo+d/9SM/sWSX9O0p/v1nurpC+V9DZJHzWzL5D0AUmP3f13mVkp6Z+a2T/q1n+XpH/D3f/l/M7M7I2SvlPSuyU9lPSPzOxr3f3bzew9kr7V3V84bbBmtiXpKyT95WMPvSTpK919bGZvl/TDkr5E0verDZb9qJndk/S7JX2D2uykc8duZv+hpN909z/Q7f/e+S8pAADoEzKGAADAjeDuTyT9oKT/5AJP+zl3f9HdJ5I+LWkaHPm42mDQ1IfcPbr7r6kNIP12Sf+upA+Y2S9K+llJ9yW9vVv/Y8eDQp3fJen/dPeXu+yfH5L0+5YY59u6/fxTST/u7v/7scdzSd9rZh+X9L+pnW4md/8pSW83s9dK+npJH+72u+zYPy7pK83sO83s97r74yXGCgAAeoSMIQAAcJP8NUk/L+l/nlvWqLuYZWaJpGLuscnc13HuftTRzzl+bD8uyST9OXf/h/MPmNmXS9pfbfinmtYYOs1fkPQ5tRlQiaTx3GM/KOmPS3q/pD85HaaWGLu7/wsze5ekr5b0X5vZT7r7t1/yewEAAE8RMoYAAMCN4e4PJH1I7VSpqV9XO3VLkv6g2uyai/rDXSewt0n6fEm/KukfSvrTZpZLkpl9oZltn7Odj0n6d8zsNWaWqs3i+akVxnPcPUkvunuU9CckpXOP/YC6KXHuPq15tNTYu6lvB+7+v0r6LrXTzAAAAGbIGAIAADfNd0v6s3P3v1fSR8zslyT9H1otm+f/UxvUuSvpm7taPt+ndrrZz5uZSXpZ53QLc/cXzezbJH1UbdbOj7v7R1YYz3F/U9KHzewDOvY9uvvnzOyTkn50bv1lx/5vSvouM4uSakl/eg1jBQAATxFzP55ZDQAAgJuiK1j9cUnvokYQAABYN6aSAQAA3FBm9l5Jn5T0PxIUAgAAV4GMIQAAAAAAgJ4iYwgAAAAAAKCnCAwBAAAAAAD0FIEhAAAAAACAniIwBAAAAAAA0FMEhgAAAAAAAHqKwBAAAAAAAEBP/f8Cw3QtovcHbwAAAABJRU5ErkJggg==\n",
                "text/plain": "<Figure size 1440x1800 with 2 Axes>"
              }
            ],
            "_view_module": "@jupyter-widgets/output",
            "_model_module_version": "1.0.0",
            "_view_count": null,
            "_view_module_version": "1.0.0",
            "layout": "IPY_MODEL_981fdd07208a43a3b68ff583939ba910",
            "_model_module": "@jupyter-widgets/output"
          }
        },
        "e54c8dbb659c4defb149cf3fb5611fa0": {
          "model_module": "@jupyter-widgets/controls",
          "model_name": "DescriptionStyleModel",
          "state": {
            "_view_name": "StyleView",
            "_model_name": "DescriptionStyleModel",
            "description_width": "",
            "_view_module": "@jupyter-widgets/base",
            "_model_module_version": "1.5.0",
            "_view_count": null,
            "_view_module_version": "1.2.0",
            "_model_module": "@jupyter-widgets/controls"
          }
        },
        "b22d26c17d7148f982f1b1e03e5c3d20": {
          "model_module": "@jupyter-widgets/base",
          "model_name": "LayoutModel",
          "state": {
            "_view_name": "LayoutView",
            "grid_template_rows": null,
            "right": null,
            "justify_content": null,
            "_view_module": "@jupyter-widgets/base",
            "overflow": null,
            "_model_module_version": "1.2.0",
            "_view_count": null,
            "flex_flow": null,
            "width": null,
            "min_width": null,
            "border": null,
            "align_items": null,
            "bottom": null,
            "_model_module": "@jupyter-widgets/base",
            "top": null,
            "grid_column": null,
            "overflow_y": null,
            "overflow_x": null,
            "grid_auto_flow": null,
            "grid_area": null,
            "grid_template_columns": null,
            "flex": null,
            "_model_name": "LayoutModel",
            "justify_items": null,
            "grid_row": null,
            "max_height": null,
            "align_content": null,
            "visibility": null,
            "align_self": null,
            "height": null,
            "min_height": null,
            "padding": null,
            "grid_auto_rows": null,
            "grid_gap": null,
            "max_width": null,
            "order": null,
            "_view_module_version": "1.2.0",
            "grid_template_areas": null,
            "object_position": null,
            "object_fit": null,
            "grid_auto_columns": null,
            "margin": null,
            "display": null,
            "left": null
          }
        },
        "677503b052aa4b5795ff01d70ab04416": {
          "model_module": "@jupyter-widgets/controls",
          "model_name": "DescriptionStyleModel",
          "state": {
            "_view_name": "StyleView",
            "_model_name": "DescriptionStyleModel",
            "description_width": "",
            "_view_module": "@jupyter-widgets/base",
            "_model_module_version": "1.5.0",
            "_view_count": null,
            "_view_module_version": "1.2.0",
            "_model_module": "@jupyter-widgets/controls"
          }
        },
        "d02560b2a6584bb9b6f78c5c0c423cd1": {
          "model_module": "@jupyter-widgets/base",
          "model_name": "LayoutModel",
          "state": {
            "_view_name": "LayoutView",
            "grid_template_rows": null,
            "right": null,
            "justify_content": null,
            "_view_module": "@jupyter-widgets/base",
            "overflow": null,
            "_model_module_version": "1.2.0",
            "_view_count": null,
            "flex_flow": null,
            "width": null,
            "min_width": null,
            "border": null,
            "align_items": null,
            "bottom": null,
            "_model_module": "@jupyter-widgets/base",
            "top": null,
            "grid_column": null,
            "overflow_y": null,
            "overflow_x": null,
            "grid_auto_flow": null,
            "grid_area": null,
            "grid_template_columns": null,
            "flex": null,
            "_model_name": "LayoutModel",
            "justify_items": null,
            "grid_row": null,
            "max_height": null,
            "align_content": null,
            "visibility": null,
            "align_self": null,
            "height": null,
            "min_height": null,
            "padding": null,
            "grid_auto_rows": null,
            "grid_gap": null,
            "max_width": null,
            "order": null,
            "_view_module_version": "1.2.0",
            "grid_template_areas": null,
            "object_position": null,
            "object_fit": null,
            "grid_auto_columns": null,
            "margin": null,
            "display": null,
            "left": null
          }
        },
        "981fdd07208a43a3b68ff583939ba910": {
          "model_module": "@jupyter-widgets/base",
          "model_name": "LayoutModel",
          "state": {
            "_view_name": "LayoutView",
            "grid_template_rows": null,
            "right": null,
            "justify_content": null,
            "_view_module": "@jupyter-widgets/base",
            "overflow": null,
            "_model_module_version": "1.2.0",
            "_view_count": null,
            "flex_flow": null,
            "width": null,
            "min_width": null,
            "border": null,
            "align_items": null,
            "bottom": null,
            "_model_module": "@jupyter-widgets/base",
            "top": null,
            "grid_column": null,
            "overflow_y": null,
            "overflow_x": null,
            "grid_auto_flow": null,
            "grid_area": null,
            "grid_template_columns": null,
            "flex": null,
            "_model_name": "LayoutModel",
            "justify_items": null,
            "grid_row": null,
            "max_height": null,
            "align_content": null,
            "visibility": null,
            "align_self": null,
            "height": null,
            "min_height": null,
            "padding": null,
            "grid_auto_rows": null,
            "grid_gap": null,
            "max_width": null,
            "order": null,
            "_view_module_version": "1.2.0",
            "grid_template_areas": null,
            "object_position": null,
            "object_fit": null,
            "grid_auto_columns": null,
            "margin": null,
            "display": null,
            "left": null
          }
        },
        "81cf5080ce7246b4bc848aa5db87cd6a": {
          "model_module": "@jupyter-widgets/controls",
          "model_name": "VBoxModel",
          "state": {
            "_view_name": "VBoxView",
            "_dom_classes": [
              "widget-interact"
            ],
            "_model_name": "VBoxModel",
            "_view_module": "@jupyter-widgets/controls",
            "_model_module_version": "1.5.0",
            "_view_count": null,
            "_view_module_version": "1.5.0",
            "box_style": "",
            "layout": "IPY_MODEL_ab59484d0b41451e81bdc7fe084c0f9c",
            "_model_module": "@jupyter-widgets/controls",
            "children": [
              "IPY_MODEL_fb83cad2ffc546b9819f9b79a6d40247",
              "IPY_MODEL_6e50d71c64124a4c85582cda1cade3ed",
              "IPY_MODEL_e995d6815ff1415a820f4cc9e870af76",
              "IPY_MODEL_2b73ed2620be4549af3d4475ef5ae278",
              "IPY_MODEL_409c0c6a490c4a4f8f66b8334cfb8076"
            ]
          }
        },
        "ab59484d0b41451e81bdc7fe084c0f9c": {
          "model_module": "@jupyter-widgets/base",
          "model_name": "LayoutModel",
          "state": {
            "_view_name": "LayoutView",
            "grid_template_rows": null,
            "right": null,
            "justify_content": null,
            "_view_module": "@jupyter-widgets/base",
            "overflow": null,
            "_model_module_version": "1.2.0",
            "_view_count": null,
            "flex_flow": null,
            "width": null,
            "min_width": null,
            "border": null,
            "align_items": null,
            "bottom": null,
            "_model_module": "@jupyter-widgets/base",
            "top": null,
            "grid_column": null,
            "overflow_y": null,
            "overflow_x": null,
            "grid_auto_flow": null,
            "grid_area": null,
            "grid_template_columns": null,
            "flex": null,
            "_model_name": "LayoutModel",
            "justify_items": null,
            "grid_row": null,
            "max_height": null,
            "align_content": null,
            "visibility": null,
            "align_self": null,
            "height": null,
            "min_height": null,
            "padding": null,
            "grid_auto_rows": null,
            "grid_gap": null,
            "max_width": null,
            "order": null,
            "_view_module_version": "1.2.0",
            "grid_template_areas": null,
            "object_position": null,
            "object_fit": null,
            "grid_auto_columns": null,
            "margin": null,
            "display": null,
            "left": null
          }
        },
        "fb83cad2ffc546b9819f9b79a6d40247": {
          "model_module": "@jupyter-widgets/controls",
          "model_name": "DropdownModel",
          "state": {
            "_options_labels": [
              "20112012",
              "20122013",
              "20132014",
              "20142015",
              "20152016",
              "20162017",
              "20172018",
              "20182019"
            ],
            "_view_name": "DropdownView",
            "style": "IPY_MODEL_a03a7a207c8145208d52cc5f59b45097",
            "_dom_classes": [],
            "description": "season",
            "_model_name": "DropdownModel",
            "index": 0,
            "_view_module": "@jupyter-widgets/controls",
            "_model_module_version": "1.5.0",
            "_view_count": null,
            "disabled": false,
            "_view_module_version": "1.5.0",
            "description_tooltip": null,
            "_model_module": "@jupyter-widgets/controls",
            "layout": "IPY_MODEL_dd14ff3fa26b4d55bd08b9df4256fd40"
          }
        },
        "6e50d71c64124a4c85582cda1cade3ed": {
          "model_module": "@jupyter-widgets/controls",
          "model_name": "TextModel",
          "state": {
            "_view_name": "TextView",
            "style": "IPY_MODEL_dd5a6ee36b534c70948c3b74f6ecce0a",
            "_dom_classes": [],
            "description": "name",
            "_model_name": "TextModel",
            "placeholder": "​",
            "_view_module": "@jupyter-widgets/controls",
            "_model_module_version": "1.5.0",
            "value": "Joe Thornton",
            "_view_count": null,
            "disabled": false,
            "_view_module_version": "1.5.0",
            "continuous_update": true,
            "description_tooltip": null,
            "_model_module": "@jupyter-widgets/controls",
            "layout": "IPY_MODEL_6f7883ccee9c4825ad825118eb8e6e4e"
          }
        },
        "e995d6815ff1415a820f4cc9e870af76": {
          "model_module": "@jupyter-widgets/controls",
          "model_name": "DropdownModel",
          "state": {
            "_options_labels": [
              "Goals",
              "Shots"
            ],
            "_view_name": "DropdownView",
            "style": "IPY_MODEL_936ae5037d6d447185cd0637d493d805",
            "_dom_classes": [],
            "description": "stat",
            "_model_name": "DropdownModel",
            "index": 1,
            "_view_module": "@jupyter-widgets/controls",
            "_model_module_version": "1.5.0",
            "_view_count": null,
            "disabled": false,
            "_view_module_version": "1.5.0",
            "description_tooltip": null,
            "_model_module": "@jupyter-widgets/controls",
            "layout": "IPY_MODEL_a38f9ea5b24242669e17ed6a58c5de7a"
          }
        },
        "2b73ed2620be4549af3d4475ef5ae278": {
          "model_module": "@jupyter-widgets/controls",
          "model_name": "DropdownModel",
          "state": {
            "_options_labels": [
              "scatter plot",
              "heat map"
            ],
            "_view_name": "DropdownView",
            "style": "IPY_MODEL_3216f828968547b58f80af1f3ff9cd07",
            "_dom_classes": [],
            "description": "plot_type",
            "_model_name": "DropdownModel",
            "index": 0,
            "_view_module": "@jupyter-widgets/controls",
            "_model_module_version": "1.5.0",
            "_view_count": null,
            "disabled": false,
            "_view_module_version": "1.5.0",
            "description_tooltip": null,
            "_model_module": "@jupyter-widgets/controls",
            "layout": "IPY_MODEL_ee7a0ae3ac404e9ea6acb154490c0d1e"
          }
        },
        "409c0c6a490c4a4f8f66b8334cfb8076": {
          "model_module": "@jupyter-widgets/output",
          "model_name": "OutputModel",
          "state": {
            "_view_name": "OutputView",
            "msg_id": "",
            "_dom_classes": [],
            "_model_name": "OutputModel",
            "outputs": [
              {
                "output_type": "display_data",
                "metadata": {
                  "tags": []
                },
                "image/png": "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\n",
                "text/plain": "<Figure size 864x864 with 1 Axes>"
              }
            ],
            "_view_module": "@jupyter-widgets/output",
            "_model_module_version": "1.0.0",
            "_view_count": null,
            "_view_module_version": "1.0.0",
            "layout": "IPY_MODEL_f159aaad3da74e11b97ab6deda89a813",
            "_model_module": "@jupyter-widgets/output"
          }
        },
        "a03a7a207c8145208d52cc5f59b45097": {
          "model_module": "@jupyter-widgets/controls",
          "model_name": "DescriptionStyleModel",
          "state": {
            "_view_name": "StyleView",
            "_model_name": "DescriptionStyleModel",
            "description_width": "",
            "_view_module": "@jupyter-widgets/base",
            "_model_module_version": "1.5.0",
            "_view_count": null,
            "_view_module_version": "1.2.0",
            "_model_module": "@jupyter-widgets/controls"
          }
        },
        "dd14ff3fa26b4d55bd08b9df4256fd40": {
          "model_module": "@jupyter-widgets/base",
          "model_name": "LayoutModel",
          "state": {
            "_view_name": "LayoutView",
            "grid_template_rows": null,
            "right": null,
            "justify_content": null,
            "_view_module": "@jupyter-widgets/base",
            "overflow": null,
            "_model_module_version": "1.2.0",
            "_view_count": null,
            "flex_flow": null,
            "width": null,
            "min_width": null,
            "border": null,
            "align_items": null,
            "bottom": null,
            "_model_module": "@jupyter-widgets/base",
            "top": null,
            "grid_column": null,
            "overflow_y": null,
            "overflow_x": null,
            "grid_auto_flow": null,
            "grid_area": null,
            "grid_template_columns": null,
            "flex": null,
            "_model_name": "LayoutModel",
            "justify_items": null,
            "grid_row": null,
            "max_height": null,
            "align_content": null,
            "visibility": null,
            "align_self": null,
            "height": null,
            "min_height": null,
            "padding": null,
            "grid_auto_rows": null,
            "grid_gap": null,
            "max_width": null,
            "order": null,
            "_view_module_version": "1.2.0",
            "grid_template_areas": null,
            "object_position": null,
            "object_fit": null,
            "grid_auto_columns": null,
            "margin": null,
            "display": null,
            "left": null
          }
        },
        "dd5a6ee36b534c70948c3b74f6ecce0a": {
          "model_module": "@jupyter-widgets/controls",
          "model_name": "DescriptionStyleModel",
          "state": {
            "_view_name": "StyleView",
            "_model_name": "DescriptionStyleModel",
            "description_width": "",
            "_view_module": "@jupyter-widgets/base",
            "_model_module_version": "1.5.0",
            "_view_count": null,
            "_view_module_version": "1.2.0",
            "_model_module": "@jupyter-widgets/controls"
          }
        },
        "6f7883ccee9c4825ad825118eb8e6e4e": {
          "model_module": "@jupyter-widgets/base",
          "model_name": "LayoutModel",
          "state": {
            "_view_name": "LayoutView",
            "grid_template_rows": null,
            "right": null,
            "justify_content": null,
            "_view_module": "@jupyter-widgets/base",
            "overflow": null,
            "_model_module_version": "1.2.0",
            "_view_count": null,
            "flex_flow": null,
            "width": null,
            "min_width": null,
            "border": null,
            "align_items": null,
            "bottom": null,
            "_model_module": "@jupyter-widgets/base",
            "top": null,
            "grid_column": null,
            "overflow_y": null,
            "overflow_x": null,
            "grid_auto_flow": null,
            "grid_area": null,
            "grid_template_columns": null,
            "flex": null,
            "_model_name": "LayoutModel",
            "justify_items": null,
            "grid_row": null,
            "max_height": null,
            "align_content": null,
            "visibility": null,
            "align_self": null,
            "height": null,
            "min_height": null,
            "padding": null,
            "grid_auto_rows": null,
            "grid_gap": null,
            "max_width": null,
            "order": null,
            "_view_module_version": "1.2.0",
            "grid_template_areas": null,
            "object_position": null,
            "object_fit": null,
            "grid_auto_columns": null,
            "margin": null,
            "display": null,
            "left": null
          }
        },
        "936ae5037d6d447185cd0637d493d805": {
          "model_module": "@jupyter-widgets/controls",
          "model_name": "DescriptionStyleModel",
          "state": {
            "_view_name": "StyleView",
            "_model_name": "DescriptionStyleModel",
            "description_width": "",
            "_view_module": "@jupyter-widgets/base",
            "_model_module_version": "1.5.0",
            "_view_count": null,
            "_view_module_version": "1.2.0",
            "_model_module": "@jupyter-widgets/controls"
          }
        },
        "a38f9ea5b24242669e17ed6a58c5de7a": {
          "model_module": "@jupyter-widgets/base",
          "model_name": "LayoutModel",
          "state": {
            "_view_name": "LayoutView",
            "grid_template_rows": null,
            "right": null,
            "justify_content": null,
            "_view_module": "@jupyter-widgets/base",
            "overflow": null,
            "_model_module_version": "1.2.0",
            "_view_count": null,
            "flex_flow": null,
            "width": null,
            "min_width": null,
            "border": null,
            "align_items": null,
            "bottom": null,
            "_model_module": "@jupyter-widgets/base",
            "top": null,
            "grid_column": null,
            "overflow_y": null,
            "overflow_x": null,
            "grid_auto_flow": null,
            "grid_area": null,
            "grid_template_columns": null,
            "flex": null,
            "_model_name": "LayoutModel",
            "justify_items": null,
            "grid_row": null,
            "max_height": null,
            "align_content": null,
            "visibility": null,
            "align_self": null,
            "height": null,
            "min_height": null,
            "padding": null,
            "grid_auto_rows": null,
            "grid_gap": null,
            "max_width": null,
            "order": null,
            "_view_module_version": "1.2.0",
            "grid_template_areas": null,
            "object_position": null,
            "object_fit": null,
            "grid_auto_columns": null,
            "margin": null,
            "display": null,
            "left": null
          }
        },
        "3216f828968547b58f80af1f3ff9cd07": {
          "model_module": "@jupyter-widgets/controls",
          "model_name": "DescriptionStyleModel",
          "state": {
            "_view_name": "StyleView",
            "_model_name": "DescriptionStyleModel",
            "description_width": "",
            "_view_module": "@jupyter-widgets/base",
            "_model_module_version": "1.5.0",
            "_view_count": null,
            "_view_module_version": "1.2.0",
            "_model_module": "@jupyter-widgets/controls"
          }
        },
        "ee7a0ae3ac404e9ea6acb154490c0d1e": {
          "model_module": "@jupyter-widgets/base",
          "model_name": "LayoutModel",
          "state": {
            "_view_name": "LayoutView",
            "grid_template_rows": null,
            "right": null,
            "justify_content": null,
            "_view_module": "@jupyter-widgets/base",
            "overflow": null,
            "_model_module_version": "1.2.0",
            "_view_count": null,
            "flex_flow": null,
            "width": null,
            "min_width": null,
            "border": null,
            "align_items": null,
            "bottom": null,
            "_model_module": "@jupyter-widgets/base",
            "top": null,
            "grid_column": null,
            "overflow_y": null,
            "overflow_x": null,
            "grid_auto_flow": null,
            "grid_area": null,
            "grid_template_columns": null,
            "flex": null,
            "_model_name": "LayoutModel",
            "justify_items": null,
            "grid_row": null,
            "max_height": null,
            "align_content": null,
            "visibility": null,
            "align_self": null,
            "height": null,
            "min_height": null,
            "padding": null,
            "grid_auto_rows": null,
            "grid_gap": null,
            "max_width": null,
            "order": null,
            "_view_module_version": "1.2.0",
            "grid_template_areas": null,
            "object_position": null,
            "object_fit": null,
            "grid_auto_columns": null,
            "margin": null,
            "display": null,
            "left": null
          }
        },
        "f159aaad3da74e11b97ab6deda89a813": {
          "model_module": "@jupyter-widgets/base",
          "model_name": "LayoutModel",
          "state": {
            "_view_name": "LayoutView",
            "grid_template_rows": null,
            "right": null,
            "justify_content": null,
            "_view_module": "@jupyter-widgets/base",
            "overflow": null,
            "_model_module_version": "1.2.0",
            "_view_count": null,
            "flex_flow": null,
            "width": null,
            "min_width": null,
            "border": null,
            "align_items": null,
            "bottom": null,
            "_model_module": "@jupyter-widgets/base",
            "top": null,
            "grid_column": null,
            "overflow_y": null,
            "overflow_x": null,
            "grid_auto_flow": null,
            "grid_area": null,
            "grid_template_columns": null,
            "flex": null,
            "_model_name": "LayoutModel",
            "justify_items": null,
            "grid_row": null,
            "max_height": null,
            "align_content": null,
            "visibility": null,
            "align_self": null,
            "height": null,
            "min_height": null,
            "padding": null,
            "grid_auto_rows": null,
            "grid_gap": null,
            "max_width": null,
            "order": null,
            "_view_module_version": "1.2.0",
            "grid_template_areas": null,
            "object_position": null,
            "object_fit": null,
            "grid_auto_columns": null,
            "margin": null,
            "display": null,
            "left": null
          }
        }
      }
    }
  },
  "cells": [
    {
      "cell_type": "markdown",
      "metadata": {
        "id": "view-in-github",
        "colab_type": "text"
      },
      "source": [
        "<a href=\"https://colab.research.google.com/github/WilliamGaryDawkins/CS631-Project/blob/main/CS631_FinalProject.ipynb\" target=\"_parent\"><img src=\"https://colab.research.google.com/assets/colab-badge.svg\" alt=\"Open In Colab\"/></a>"
      ]
    },
    {
      "cell_type": "code",
      "metadata": {
        "id": "jhnu4eThAIOw"
      },
      "source": [
        "#install pyspark\n",
        "!pip install pyspark"
      ],
      "execution_count": null,
      "outputs": []
    },
    {
      "cell_type": "code",
      "metadata": {
        "id": "4bt_JmYuAPx2"
      },
      "source": [
        "#create the spark session so we can work with spark dataframes\n",
        "from pyspark.sql import SparkSession\n",
        "from pyspark.sql.functions import concat,concat_ws\n",
        "import random\n",
        "spark = SparkSession.builder.appName(\"YourTest\").master(\"local[2]\").config('spark.ui.port', random.randrange(4000,5000)).getOrCreate()"
      ],
      "execution_count": 2,
      "outputs": []
    },
    {
      "cell_type": "code",
      "metadata": {
        "id": "fvIdCtHPALN6"
      },
      "source": [
        "#from pyspark.sql.functions import concat, col, lit\n",
        "%matplotlib inline\n",
        "import requests\n",
        "from pyspark.sql.functions import col\n",
        "import matplotlib.pyplot as plt\n",
        "import pandas as pd\n",
        "import seaborn as sns\n",
        "import ipywidgets as widgets\n",
        "from ipywidgets import *\n",
        "from pyspark.sql.functions import col\n",
        "from pyspark.sql.functions import lit"
      ],
      "execution_count": 3,
      "outputs": []
    },
    {
      "cell_type": "code",
      "metadata": {
        "id": "tjTQsF-mGOVz"
      },
      "source": [
        "#Read in CSV files and create raw data frames\n",
        "games_raw = spark.read.csv(\"/content/drive/My Drive/NHL Dataset/game.csv\",header=True,inferSchema=True)\n",
        "game_goalie_stats_raw = spark.read.csv(\"/content/drive/My Drive/NHL Dataset/game_goalie_stats.csv\",header=True,inferSchema=True)\n",
        "game_plays_raw =spark.read.csv(\"/content/drive/My Drive/NHL Dataset/game_plays.csv\",header=True,inferSchema=True)\n",
        "game_plays_players_raw = spark.read.csv(\"/content/drive/My Drive/NHL Dataset/game_plays_players.csv\",header=True,inferSchema=True)\n",
        "game_shifts_raw = spark.read.csv(\"/content/drive/My Drive/NHL Dataset/game_shifts.csv\",header=True,inferSchema=True)\n",
        "game_skater_stats_raw =spark.read.csv(\"/content/drive/My Drive/NHL Dataset/game_skater_stats.csv\",header=True,inferSchema=True)\n",
        "game_teams_stats_raw = spark.read.csv(\"/content/drive/My Drive/NHL Dataset/game_teams_stats.csv\",header=True,inferSchema=True)\n",
        "player_info_raw = spark.read.csv(\"/content/drive/My Drive/NHL Dataset/player_info.csv\",header=True,inferSchema=True)\n",
        "team_info_raw = spark.read.csv(\"/content/drive/My Drive/NHL Dataset/team_info.csv\",header=True,inferSchema=True)"
      ],
      "execution_count": 4,
      "outputs": []
    },
    {
      "cell_type": "code",
      "metadata": {
        "id": "gmCkdAHUA7x-"
      },
      "source": [
        "## Create cleaner data frames, removing columns that wont be of interest (time of day,timezone info, venue location, links). \n",
        "## Note: Most dataframes do not have info we want to drop\n",
        "\n",
        "games = games_raw.drop(\"date_time_GMT\",\"venue_link\",\"venue_time_zone_id\",\"venue_time_zone_offset\",\"venue_time_zone_tz\").cache() \n",
        "game_goalie_stats = game_goalie_stats_raw.cache()\n",
        "game_plays = game_plays_raw.cache()\n",
        "game_plays_players = game_plays_players_raw.cache()\n",
        "game_shifts = game_shifts_raw.cache()\n",
        "game_skater_stats = game_skater_stats_raw.cache()\n",
        "game_teams_stats = game_teams_stats_raw.cache()\n",
        "player_info = player_info_raw.drop(\"link\").cache()\n",
        "team_info = team_info_raw.drop(\"link\").cache()\n",
        "\n",
        "##add point total to player stats\n",
        "game_skater_stats = game_skater_stats.withColumn(\"points\", col(\"goals\")+col(\"assists\")).cache()"
      ],
      "execution_count": 5,
      "outputs": []
    },
    {
      "cell_type": "code",
      "metadata": {
        "id": "SclusPfEKrG3"
      },
      "source": [
        "from matplotlib.patches import Circle, Rectangle, Arc\n",
        "\n",
        "def draw_rink(ax=None, color='black', lw=2):\n",
        "    # If an axes object isn't provided to plot onto, just get current one\n",
        "    if ax is None:\n",
        "        ax = plt.gca()\n",
        "\n",
        "\n",
        "    center_faceoff = Circle((0, 0), radius=1, linewidth=lw, color='blue', fill=True)\n",
        "    \n",
        "    zone_faceoff_1 = Circle((69, 22), radius=1, linewidth=lw, color='red', fill=True)\n",
        "    zone_faceoff_2 = Circle((-69, 22), radius=1, linewidth=lw, color='red', fill=True)\n",
        "    zone_faceoff_3 = Circle((69, -22), radius=1, linewidth=lw, color='red', fill=True)\n",
        "    zone_faceoff_4 = Circle((-69, -22), radius=1, linewidth=lw, color='red', fill=True)\n",
        "\n",
        "    neutral_faceoff_1 = Circle((20, 22), radius=1, linewidth=lw, color='red', fill=True)\n",
        "    neutral_faceoff_2 = Circle((-20, 22), radius=1, linewidth=lw, color='red', fill=True)\n",
        "    neutral_faceoff_3 = Circle((20, -22), radius=1, linewidth=lw, color='red', fill=True)\n",
        "    neutral_faceoff_4 = Circle((-20, -22), radius=1, linewidth=lw, color='red', fill=True)\n",
        "\n",
        "\n",
        "\n",
        "    center_circle = Circle((0,0), radius = 15, linewidth=lw, color='blue', fill= False)\n",
        "    zone_circle_1 = Circle((69,22), radius = 15, linewidth=lw, color='red', fill= False)\n",
        "    zone_circle_2 = Circle((-69,22), radius = 15, linewidth=lw, color='red', fill= False)\n",
        "    zone_circle_3 = Circle((69,-22), radius = 15, linewidth=lw, color='red', fill= False)\n",
        "    zone_circle_4 = Circle((-69,-22), radius = 15, linewidth=lw, color='red', fill= False)                                              \n",
        "\n",
        "    blue_line1 = Rectangle((-25,-42.5), 0, 85,linewidth=lw,color='blue',fill=False)\n",
        "    blue_line2 = Rectangle(( 25,-42.5), 0, 85,linewidth=lw,color='blue',fill=False)\n",
        "    center_line = Rectangle((0,-42.5), 0, 85,linewidth=lw,color='red',fill=False)\n",
        "   \n",
        "    goal_line1 = Rectangle((-89,-40.5), 0, 81,linewidth=lw,color='red',fill=False)\n",
        "    goal_line2 = Rectangle((89,-40.5), 0, 81,linewidth=lw,color='red',fill=False)\n",
        "\n",
        "    goal_crease1 = Arc((-89,0),8,8,angle=270,theta1=0,theta2=180,color='red')\n",
        "    goal_crease2 = Arc((89,0),8,8,angle=90,theta1=0,theta2=180,color='red')\n",
        "    \n",
        "    top_border = Rectangle((-85,42.5), 170, 0,linewidth=lw,color='black',fill=False)\n",
        "    bottom_border = Rectangle((-85,-42.5), 170, 0,linewidth=lw,color='black',fill=False)\n",
        "    left_border = Rectangle((-100,-27), 0, 54,linewidth=lw,color='black',fill=False)\n",
        "    right_border = Rectangle((100,-27), 0, 54,linewidth=lw,color='black',fill=False)\n",
        "\n",
        "    bottom_right_corner = Arc((-87.5,-30.1),29,20,angle=135,theta1=22,theta2=155,linewidth=lw)\n",
        "    top_right_corner = Arc((-87.5,30.1),29,20,angle=45,theta1=22,theta2=155,linewidth=lw)\n",
        "    top_left_corner = Arc((87.5,30.1),29,20,angle=315,theta1=22,theta2=155,linewidth=lw)\n",
        "    bottom_left_corner = Arc((87.5,-30.1),29,20,angle=225,theta1=22,theta2=155,linewidth=lw)\n",
        "  \n",
        "    \n",
        "    rink_elements = [center_faceoff,zone_faceoff_1,zone_faceoff_2,zone_faceoff_3,zone_faceoff_4,\n",
        "                      center_circle,zone_circle_1,zone_circle_2,zone_circle_3,zone_circle_4,\n",
        "                      blue_line1,blue_line2,center_line,neutral_faceoff_1,neutral_faceoff_2,neutral_faceoff_3,\n",
        "                      neutral_faceoff_4,goal_line1,goal_line2,goal_crease1,goal_crease2,top_border,bottom_border,\n",
        "                      left_border,right_border,bottom_right_corner,top_right_corner,top_left_corner,bottom_left_corner]\n",
        "\n",
        "    # Add the rink elements onto the axes\n",
        "    for element in rink_elements:\n",
        "        ax.add_patch(element)\n",
        "\n",
        "    return ax\n",
        "\n",
        "def draw_Ozone(ax=None, color='black', lw=2):\n",
        "    # If an axes object isn't provided to plot onto, just get current one\n",
        "    if ax is None:\n",
        "        ax = plt.gca()\n",
        "\n",
        "\n",
        "    center_faceoff = Circle((0, 0), radius=1, linewidth=lw, color='blue', fill=True)\n",
        "    zone_faceoff_1 = Circle((22, 69), radius=1, linewidth=lw, color='red', fill=True)\n",
        "    zone_faceoff_2 = Circle((-22, 69), radius=1, linewidth=lw, color='red', fill=True)\n",
        "\n",
        "    neutral_faceoff_1 = Circle((22, 20), radius=1, linewidth=lw, color='red', fill=True)\n",
        "    neutral_faceoff_2 = Circle((-22, 20), radius=1, linewidth=lw, color='red', fill=True)\n",
        "\n",
        "    \n",
        "    center_circle = Circle((0,0), radius = 15, linewidth=lw, color='blue', fill= False)\n",
        "    zone_circle_1 = Circle((22,69), radius = 15, linewidth=lw, color='red', fill= False)\n",
        "    zone_circle_2 = Circle((-22,69), radius = 15, linewidth=lw, color='red', fill= False)                                          \n",
        "\n",
        "    blue_line1 = Rectangle((-42.5,25), 85, 0,linewidth=lw,color='blue',fill=False)\n",
        "    \n",
        "    goal_line1 = Rectangle((-41,89), 82, 0,linewidth=lw,color='red',fill=False)\n",
        "\n",
        "    goal_crease2 = Arc((0,89),8,8,angle=180,theta1=0,theta2=180,color='red')\n",
        "    \n",
        "    top_border = Rectangle((42.5,0), 0, 85,linewidth=lw,color='black',fill=False)\n",
        "    bottom_border = Rectangle((-42.5,0), 0, 85,linewidth=lw,color='black',fill=False)\n",
        "\n",
        "    right_border = Rectangle((-27,100), 54, 0,linewidth=lw,color='black',fill=False)\n",
        "\n",
        "    bottom_right_corner = Arc((30.1,87.5),29,20,angle=315,theta1=22,theta2=155,linewidth=lw)\n",
        "    top_right_corner = Arc((-30.1,87.5),29,20,angle=45,theta1=22,theta2=155,linewidth=lw)\n",
        "  \n",
        "    \n",
        "    rink_elements = [zone_faceoff_1,zone_faceoff_2,\n",
        "                      zone_circle_1,zone_circle_2, neutral_faceoff_1,neutral_faceoff_2,\n",
        "                      blue_line1,center_faceoff,center_circle,\n",
        "                      goal_line1,goal_crease2,top_border,bottom_border,\n",
        "                      right_border,bottom_right_corner,top_right_corner]\n",
        "\n",
        "    # Add the rink elements onto the axes\n",
        "    for element in rink_elements:\n",
        "        ax.add_patch(element)\n",
        "\n",
        "    return ax"
      ],
      "execution_count": 6,
      "outputs": []
    },
    {
      "cell_type": "markdown",
      "metadata": {
        "id": "O5awnRnF1zfj"
      },
      "source": [
        "# Interactive Ranking by Stats plot"
      ]
    },
    {
      "cell_type": "code",
      "metadata": {
        "id": "G_kw58cJwNoQ"
      },
      "source": [
        "def ranked_by_stats_by_season_skater(season,stat,game_type):\n",
        "  players_ranked_skaters_dtf = game_skater_stats.join(player_info, \"player_id\").join(games, \"game_id\").filter(\"season = {0}\".format(season)).filter(\"type = '{0}'\".format(game_type)).select(\"player_id\",\"{0}\".format(stat)).groupBy(\"player_id\").sum(\"{0}\".format(stat)).join(player_info,\"player_id\").orderBy(\"sum({0})\".format(stat),ascending=False).select(concat(\"firstName\",lit(\" \"),\"lastName\").alias(\"FullName\"),\"sum({0})\".format(stat))\n",
        "  return players_ranked_skaters_dtf"
      ],
      "execution_count": 7,
      "outputs": []
    },
    {
      "cell_type": "code",
      "metadata": {
        "colab": {
          "base_uri": "https://localhost:8080/",
          "height": 820,
          "referenced_widgets": [
            "fd816031cfb6492ebc2a128ae93b2637",
            "1ec2e73ad2724fda8040980dbca63203",
            "dc9c9a3053f94f85b3631586359b251a",
            "151f4a0a0f0c4c59828ab200915accf0",
            "dc25d4a5cd1f4712b9109c988f161451",
            "57df4fc94ae74133b9c653f104ef1d85",
            "d8b416c74e5c407f99afe671d63504a8",
            "b01c13c486a6410eb70c18079be28f77",
            "a2259d30b33847b1a74fc95aa7ee2d81",
            "6fe3d045ee32449e9faab2a1cd813630",
            "a05794c8d272408ab4cb2c6142e597b7",
            "3bcdb41ed3bd41d79577188ac78bf24d",
            "2d3a009a9c3d49229eefdb00880aff90",
            "9d724f9a44d0467baa165cd8f041f7e9",
            "70e5b47ff50f405f8f0d3e473a5b047b",
            "3a987189da4847dc8de89b842663c3ff"
          ]
        },
        "id": "eWED7rrD8Xm6",
        "outputId": "9a3207ca-7f2f-4826-da84-38ae45c4318d"
      },
      "source": [
        "def update_stats_plot(season,stat,game_type,top_num):\r\n",
        "  \r\n",
        "  pdf = ranked_by_stats_by_season_skater(season,stat,game_type).limit(top_num).toPandas()\r\n",
        " # pdf.plot.barh(x='FullName',y=\"sum({0})\".format(stat))\r\n",
        "  plt.figure(figsize=(20,10))\r\n",
        "  ax = sns.barplot(y=pdf['FullName'],x=pdf[\"sum({0})\".format(stat)],palette='deep')\r\n",
        "  ax.set_xlabel('{0}'.format(stat),fontsize=15)\r\n",
        "  ax.set_ylabel('')\r\n",
        "  plt.title('Top {0} Players by {1} in the {2} NHL Season'.format(top_num,stat,season),y=1.05,fontsize=40)\r\n",
        "  if game_type == 'R':\r\n",
        "    plt.suptitle('Regular Season',y=0.90,fontsize=15)\r\n",
        "  else:\r\n",
        "    plt.suptitle('Playoffs',y=0.90,fontsize=15)  \r\n",
        "  plt.show()\r\n",
        "\r\n",
        "interact(update_stats_plot,\r\n",
        "         season=widgets.Dropdown(options=[20112012,20122013,20132014,20142015,20152016,20162017,20172018,20182019]),\r\n",
        "         stat=widgets.Dropdown(options=['points','goals','assists','shots','hits','powerPlayGoals','powerPlayAssists','timeOnIce','penaltyMinutes','faceOffWins','faceoffTaken','takeaways','giveaways','shortHandedGoals','shortHandedAssits','blocked','plusMinus','evenTimeOnIce','powerPlayTimeOnIce','shortHandedTimeOnIce']),\r\n",
        "         game_type=widgets.Dropdown(options=[\"R\",\"P\"]),\r\n",
        "         top_num=widgets.IntSlider(value=20,min=1,max=200,step=1))\r\n"
      ],
      "execution_count": 8,
      "outputs": [
        {
          "output_type": "display_data",
          "data": {
            "application/vnd.jupyter.widget-view+json": {
              "model_id": "fd816031cfb6492ebc2a128ae93b2637",
              "version_minor": 0,
              "version_major": 2
            },
            "text/plain": [
              "interactive(children=(Dropdown(description='season', options=(20112012, 20122013, 20132014, 20142015, 20152016…"
            ]
          },
          "metadata": {
            "tags": []
          }
        },
        {
          "output_type": "execute_result",
          "data": {
            "text/plain": [
              "<function __main__.update_stats_plot>"
            ]
          },
          "metadata": {
            "tags": []
          },
          "execution_count": 8
        }
      ]
    },
    {
      "cell_type": "markdown",
      "metadata": {
        "id": "Kq4qZezUg5en"
      },
      "source": [
        "# Team Standings for a Given Season"
      ]
    },
    {
      "cell_type": "code",
      "metadata": {
        "id": "6XgHgt8WqTSy"
      },
      "source": [
        "def point_calc(won,settled):\r\n",
        "  if won == True:\r\n",
        "    points = 2\r\n",
        "  elif (won == False) & (settled == 'OT'):\r\n",
        "    points = 1\r\n",
        "  elif (won == False) & (settled == 'SO'):\r\n",
        "    points = 1 \r\n",
        "  else:\r\n",
        "    points = 0\r\n",
        "  return points\r\n",
        "\r\n",
        "point_calc_udf = udf(point_calc,'Int') "
      ],
      "execution_count": 60,
      "outputs": []
    },
    {
      "cell_type": "code",
      "metadata": {
        "id": "fzX0IY7Kk4pM"
      },
      "source": [
        "from pyspark.sql.functions import udf\r\n",
        "points_of_teams = game_teams_stats.select('game_id','team_id','won','settled_in').join(team_info.select('team_id','shortName','teamName'),'team_id').join(games.select('game_id','season','type'),'game_id').filter(\"type='R'\")\r\n",
        "points_of_teams = points_of_teams.withColumn('points',point_calc_udf(points_of_teams['won'],points_of_teams['settled_in'])).groupBy('teamName','season').sum('points').withColumnRenamed('sum(points)','points').cache()\r\n",
        "#points_of_teams.show()\r\n",
        "#pdf = points_of_teams.filter('season = {0}'.format(20122013)).show()\r\n",
        "#display(pdf)"
      ],
      "execution_count": 77,
      "outputs": []
    },
    {
      "cell_type": "code",
      "metadata": {
        "colab": {
          "base_uri": "https://localhost:8080/",
          "height": 724,
          "referenced_widgets": [
            "f77cf7b7e6f34647ac1307ca53e810b2",
            "0613ea730a524e8f88a1f3c8d53552e6",
            "02d16829560548b2b3bf1b0437300178",
            "28929878722d41c58e07245ce5f416a2",
            "89598e04f74840639acb3d20661e01dc",
            "11185e2e31ac4c6fa0ec0a94e64dd7c6",
            "1cb69579e64e4bfda86197409ddc7b27"
          ]
        },
        "id": "I-2g53UFiVya",
        "outputId": "281014d1-4a14-46a8-8520-5da29eb8cd2d"
      },
      "source": [
        "def update_standings_plot(season):\r\n",
        "  \r\n",
        "  pdf = points_of_teams.filter('season = {0}'.format(season)).orderBy('points',ascending=False).toPandas()\r\n",
        "  plt.figure(figsize=(20,10))\r\n",
        "  ax = sns.barplot(y=pdf['teamName'],x=pdf['points'],palette='deep')\r\n",
        "  ax.set_xlabel('Points',fontsize=15)\r\n",
        "  ax.set_ylabel('')\r\n",
        "  plt.title('Standings of the {0} NHL Regular Season'.format(season),y=1.05,fontsize=40)\r\n",
        "  plt.show()\r\n",
        "\r\n",
        "interact(update_standings_plot,\r\n",
        "         season=widgets.Dropdown(options=[20112012,20122013,20132014,20142015,20152016,20162017,20172018,20182019]),\r\n",
        "         )"
      ],
      "execution_count": 82,
      "outputs": [
        {
          "output_type": "display_data",
          "data": {
            "application/vnd.jupyter.widget-view+json": {
              "model_id": "f77cf7b7e6f34647ac1307ca53e810b2",
              "version_minor": 0,
              "version_major": 2
            },
            "text/plain": [
              "interactive(children=(Dropdown(description='season', options=(20112012, 20122013, 20132014, 20142015, 20152016…"
            ]
          },
          "metadata": {
            "tags": []
          }
        },
        {
          "output_type": "execute_result",
          "data": {
            "text/plain": [
              "<function __main__.update_standings_plot>"
            ]
          },
          "metadata": {
            "tags": []
          },
          "execution_count": 82
        }
      ]
    },
    {
      "cell_type": "markdown",
      "metadata": {
        "id": "FsGwycYogCaY"
      },
      "source": [
        "# World Map of NHL Player's Nationalities"
      ]
    },
    {
      "cell_type": "code",
      "metadata": {
        "id": "kxzoqlSYjO9q"
      },
      "source": [
        "pip install geopandas"
      ],
      "execution_count": null,
      "outputs": []
    },
    {
      "cell_type": "code",
      "metadata": {
        "id": "3NETlXntjwCq"
      },
      "source": [
        "import geopandas"
      ],
      "execution_count": 10,
      "outputs": []
    },
    {
      "cell_type": "code",
      "metadata": {
        "id": "Au2KyUaaggzY"
      },
      "source": [
        "def skaters_nationalities_by_season():\r\n",
        "  player_nationality_dtf = game_skater_stats.join(player_info, \"player_id\").join(games, \"game_id\").select(\"player_id\",\"nationality\",\"season\").dropDuplicates([\"player_id\",\"season\"]).groupBy(\"nationality\",\"season\").count().withColumnRenamed(\"count\", \"player count\")\r\n",
        "  return player_nationality_dtf\r\n",
        "\r\n",
        "def goalies_nationalities_by_season():\r\n",
        "  goalie_nationality_dtf = game_goalie_stats.join(player_info, \"player_id\").join(games, \"game_id\").select(\"player_id\",\"nationality\",\"season\").dropDuplicates([\"player_id\",\"season\"]).groupBy(\"nationality\",\"season\").count().withColumnRenamed(\"count\", \"player count\")\r\n",
        "  return goalie_nationality_dtf "
      ],
      "execution_count": 11,
      "outputs": []
    },
    {
      "cell_type": "code",
      "metadata": {
        "id": "gB9uv1gFLcjx"
      },
      "source": [
        "world = geopandas.read_file(geopandas.datasets.get_path('naturalearth_lowres'))"
      ],
      "execution_count": 13,
      "outputs": []
    },
    {
      "cell_type": "code",
      "metadata": {
        "id": "advC89_wf2Ys"
      },
      "source": [
        "world.columns=['pop_est', 'continent', 'name', 'nationality', 'gdp_md_est', 'geometry']\r\n",
        "players_ntls_skaters = skaters_nationalities_by_season().toPandas()\r\n",
        "players_ntls_goalies = goalies_nationalities_by_season().toPandas()"
      ],
      "execution_count": 14,
      "outputs": []
    },
    {
      "cell_type": "code",
      "metadata": {
        "id": "Ky5kpwhFmLEa",
        "colab": {
          "base_uri": "https://localhost:8080/",
          "height": 778,
          "referenced_widgets": [
            "b4f914dba6e54d84bcc8309e9fb378a1",
            "0acaa7a078cc4cf594c69406983a232e",
            "800764af09f749218bdcc6ed588dde67",
            "a305add5b4fd40f59e242029d10319eb",
            "7f99372a57d04851ab8252414c44c595",
            "e54c8dbb659c4defb149cf3fb5611fa0",
            "b22d26c17d7148f982f1b1e03e5c3d20",
            "677503b052aa4b5795ff01d70ab04416",
            "d02560b2a6584bb9b6f78c5c0c423cd1",
            "981fdd07208a43a3b68ff583939ba910"
          ]
        },
        "outputId": "72a093ea-6065-4e34-85e0-7033d138c057"
      },
      "source": [
        "from mpl_toolkits.axes_grid1 import make_axes_locatable\r\n",
        "cmap2 = plt.cm.Purples\r\n",
        "\r\n",
        "\r\n",
        "def update_world_plot(given_season,player_type):\r\n",
        "  \r\n",
        "  if player_type == 'all':\r\n",
        "    players_ntls = nationalities_by_season_total(season).toPandas()\r\n",
        "  elif player_type == 'skaters':\r\n",
        "    players_ntls = players_ntls_skaters[(players_ntls_skaters.season==given_season)]\r\n",
        "  elif player_type == 'goalies':\r\n",
        "    players_ntls = players_ntls_goalies[(players_ntls_goalies.season==given_season)]\r\n",
        "  \r\n",
        "\r\n",
        " # world.columns=['pop_est', 'continent', 'name', 'nationality', 'gdp_md_est', 'geometry']\r\n",
        "  players_ntls.columns=['nationality','season','player_count']\r\n",
        "  merged = world.merge(players_ntls,on=['nationality'],how='left').fillna(0)\r\n",
        "\r\n",
        "  ax = merged.plot(column='player_count',cmap='YlGnBu',figsize=(20,25),legend=True,legend_kwds={'orientation':'horizontal','pad': 0,'label': 'Number of Players'},\r\n",
        "              facecolor='blue')\r\n",
        "  ax.set_facecolor(cmap2(0.1))\r\n",
        "  plt.title('Countries by NHL Player Nationalities',fontsize=40)\r\n",
        "  plt.show()\r\n",
        "\r\n",
        "\r\n",
        "  \r\n",
        "\r\n",
        "plot= interact(update_world_plot,\r\n",
        "         given_season=widgets.Dropdown(options=[20112012,20122013,20132014,20142015,20152016,20162017,20172018,20182019]),\r\n",
        "         player_type=widgets.Dropdown(options=[\"skaters\",\"goalies\"]))\r\n",
        "\r\n",
        "plot"
      ],
      "execution_count": 43,
      "outputs": [
        {
          "output_type": "display_data",
          "data": {
            "application/vnd.jupyter.widget-view+json": {
              "model_id": "b4f914dba6e54d84bcc8309e9fb378a1",
              "version_minor": 0,
              "version_major": 2
            },
            "text/plain": [
              "interactive(children=(Dropdown(description='given_season', options=(20112012, 20122013, 20132014, 20142015, 20…"
            ]
          },
          "metadata": {
            "tags": []
          }
        },
        {
          "output_type": "execute_result",
          "data": {
            "text/plain": [
              "<function __main__.update_world_plot>"
            ]
          },
          "metadata": {
            "tags": []
          },
          "execution_count": 43
        }
      ]
    },
    {
      "cell_type": "markdown",
      "metadata": {
        "id": "6eINOK-CExq6"
      },
      "source": [
        "# Individual Player Offensive Scatter plots/Heatmaps"
      ]
    },
    {
      "cell_type": "code",
      "metadata": {
        "id": "5ZurR9JGFLTG"
      },
      "source": [
        "game_plays_shots = game_plays.filter(\"event = 'Shot'\").select('play_id','game_id','event','st_x','st_y').join(games.select('game_id','season'),'game_id').join(game_plays_players.select('play_id','player_id'),'play_id').join(player_info.select('player_id','firstName','LastName'),'player_id').withColumn('fullName', concat_ws(' ','firstname','lastName')).cache()\r\n",
        "game_plays_goals = game_plays.filter(\"event = 'Goal'\").select('play_id','game_id','event','st_x','st_y').join(games.select('game_id','season'),'game_id').join(game_plays_players.select('play_id','player_id'),'play_id').join(player_info.select('player_id','firstName','LastName'),'player_id').withColumn('fullName', concat_ws(' ','firstname','lastName')).cache()"
      ],
      "execution_count": 16,
      "outputs": []
    },
    {
      "cell_type": "code",
      "metadata": {
        "colab": {
          "base_uri": "https://localhost:8080/",
          "height": 815,
          "referenced_widgets": [
            "81cf5080ce7246b4bc848aa5db87cd6a",
            "ab59484d0b41451e81bdc7fe084c0f9c",
            "fb83cad2ffc546b9819f9b79a6d40247",
            "6e50d71c64124a4c85582cda1cade3ed",
            "e995d6815ff1415a820f4cc9e870af76",
            "2b73ed2620be4549af3d4475ef5ae278",
            "409c0c6a490c4a4f8f66b8334cfb8076",
            "a03a7a207c8145208d52cc5f59b45097",
            "dd14ff3fa26b4d55bd08b9df4256fd40",
            "dd5a6ee36b534c70948c3b74f6ecce0a",
            "6f7883ccee9c4825ad825118eb8e6e4e",
            "936ae5037d6d447185cd0637d493d805",
            "a38f9ea5b24242669e17ed6a58c5de7a",
            "3216f828968547b58f80af1f3ff9cd07",
            "ee7a0ae3ac404e9ea6acb154490c0d1e",
            "f159aaad3da74e11b97ab6deda89a813"
          ]
        },
        "id": "92BYggljd9MU",
        "outputId": "021863d5-2af4-44c3-9e4d-3dde38fab7da"
      },
      "source": [
        "def update_offensive_plot(season,name,stat,plot_type):\n",
        "  \n",
        "  if plot_type == 'scatter plot':\n",
        "    if stat == 'Goals':\n",
        "      Player_stats_df = game_plays_goals.filter(\"season = {0}\".format(season)).filter(\"fullName = '{0}'\".format(name)).select('st_x','st_y').toPandas().astype(float) \n",
        "    elif stat == 'Shots':\n",
        "      Player_stats_df_shots = game_plays_shots.filter(\"season = {0}\".format(season)).filter(\"fullName = '{0}'\".format(name)).select('st_x','st_y').toPandas().astype(float)  \n",
        "      Player_stats_df_goals = game_plays_goals.filter(\"season = {0}\".format(season)).filter(\"fullName = '{0}'\".format(name)).select('st_x','st_y').toPandas().astype(float)\n",
        "      Player_stats_df = Player_stats_df_shots.append(Player_stats_df_goals, ignore_index=True)\n",
        "  \n",
        "    plt.figure(figsize=(12,12))\n",
        "    plt.scatter(Player_stats_df.st_y*-1,Player_stats_df.st_x)\n",
        "    draw_Ozone()\n",
        "    plt.xlim(-42.5,42.5)\n",
        "    plt.ylim(0,100)\n",
        "    plt.tick_params(labelbottom=False,labelleft=False)\n",
        "    plt.show()\n",
        "  \n",
        "  elif plot_type == 'heat map':\n",
        "    \n",
        "    if stat == 'Goals':\n",
        "      Player_stats_df = game_plays_goals.filter(\"season = {0}\".format(season)).filter(\"fullName = '{0}'\".format(name)).select('st_x','st_y').toPandas().astype(float) \n",
        "    elif stat == 'Shots':\n",
        "      Player_stats_df_shots = game_plays_shots.filter(\"season = {0}\".format(season)).filter(\"fullName = '{0}'\".format(name)).select('st_x','st_y').toPandas().astype(float)  \n",
        "      Player_stats_df_goals = game_plays_goals.filter(\"season = {0}\".format(season)).filter(\"fullName = '{0}'\".format(name)).select('st_x','st_y').toPandas().astype(float)\n",
        "      Player_stats_df = Player_stats_df_shots.append(Player_stats_df_goals, ignore_index=True)\n",
        "    cmap=plt.cm.Blues\n",
        "    \n",
        "    joint_stats_plot = sns.jointplot(x=Player_stats_df.st_y*-1,y=Player_stats_df.st_x,\n",
        "                                 kind='kde',space=0,n_levels=50,cmap=cmap,color=cmap(0.8),shade=True,thresh=0,\n",
        "                                 fill=True)\n",
        "\n",
        "    joint_stats_plot.fig.set_size_inches(12,12)\n",
        "\n",
        "    ax = joint_stats_plot.ax_joint\n",
        "    draw_Ozone(ax)\n",
        "    ax.set_xlim(-42.5,42.5)\n",
        "    ax.set_ylim(0,100)\n",
        "\n",
        "    ax.set_xlabel('')\n",
        "    ax.set_ylabel('')\n",
        "    ax.set_facecolor(cmap(0))\n",
        "    ax.tick_params(labelbottom=False,labelleft=False)\n",
        "\n",
        "\n",
        "    plt.show()\n",
        "\n",
        "\n",
        "plot= interact(update_offensive_plot,\n",
        "         season=widgets.Dropdown(options=[20112012,20122013,20132014,20142015,20152016,20162017,20172018,20182019]),\n",
        "         stat=widgets.Dropdown(options=[\"Goals\",\"Shots\"]),\n",
        "         plot_type=widgets.Dropdown(options=[\"scatter plot\",\"heat map\"]),\n",
        "         name = widgets.Text())"
      ],
      "execution_count": 44,
      "outputs": [
        {
          "output_type": "display_data",
          "data": {
            "application/vnd.jupyter.widget-view+json": {
              "model_id": "81cf5080ce7246b4bc848aa5db87cd6a",
              "version_minor": 0,
              "version_major": 2
            },
            "text/plain": [
              "interactive(children=(Dropdown(description='season', options=(20112012, 20122013, 20132014, 20142015, 20152016…"
            ]
          },
          "metadata": {
            "tags": []
          }
        }
      ]
    },
    {
      "cell_type": "code",
      "metadata": {
        "id": "PMpdsVsOcZwI"
      },
      "source": [
        "def PlotGameEvents(team,season,date):\n",
        "  newDF = games.join(game_team_stats,'game_id').join(team_info,'team_id').filter(\"season={0}\".format(season))\n",
        "  return newDF\n",
        "season = '20112012'\n",
        "team = 'Devils'\n",
        "date='2012-02-13'\n",
        "SelectedGameInfo = games.select('game_id','season','date_time','away_team_id','home_team_id').filter(\"season={0}\".format(season)).filter(\"date_time= '{0}'\".format(date)).join(game_teams_stats.select('game_id','team_id'),'game_id').join(team_info,'team_id').filter(\"teamName = 'Blues'\")\n",
        "#SelectedGameInfo.show()\n",
        "home_team_info = SelectedGameInfo.select('home_team_id').withColumnRenamed(\"home_team_id\",\"team_id\").join(team_info,'team_id')\n",
        "away_team_info = SelectedGameInfo.select('away_team_id').withColumnRenamed(\"away_team_id\",\"team_id\").join(team_info,'team_id')\n",
        "#home_team_info.show()\n",
        "#away_team_info.show()\n",
        "SelectedGameData = SelectedGameInfo.select('game_id').join(game_plays.select('game_id','event','team_id_for','st_x','st_y'),'game_id').withColumnRenamed('team_id_for','team_id').filter(\"event = 'Shot'\")\n",
        "home_team_data = home_team_info.join(SelectedGameData, 'team_id').select('st_x','st_y')\n",
        "away_team_data = away_team_info.join(SelectedGameData, 'team_id').select('st_x','st_y')\n",
        "home_team_DF = home_team_data.toPandas().astype(float)\n",
        "away_team_DF = away_team_data.toPandas().astype(float).apply(lambda x: x*-1)"
      ],
      "execution_count": null,
      "outputs": []
    },
    {
      "cell_type": "code",
      "metadata": {
        "colab": {
          "base_uri": "https://localhost:8080/",
          "height": 592
        },
        "id": "rFs9nmnud7k2",
        "outputId": "44bee44f-6888-4ccd-aea2-666d369f54eb"
      },
      "source": [
        "plt.figure(figsize=(20,10))\n",
        "plt.scatter(home_team_DF.st_x,home_team_DF.st_y)\n",
        "plt.scatter(away_team_DF.st_x,away_team_DF.st_y)\n",
        "draw_rink()\n",
        "plt.xlim(-100,100)\n",
        "plt.ylim(-50,50)\n",
        "plt.show()\n"
      ],
      "execution_count": null,
      "outputs": [
        {
          "output_type": "display_data",
          "data": {
            "image/png": "[encoded data removed]",
            "text/plain": [
              "<Figure size 1440x720 with 1 Axes>"
            ]
          },
          "metadata": {
            "tags": [],
            "needs_background": "light"
          }
        }
      ]
    },
    {
      "cell_type": "code",
      "metadata": {
        "id": "ocE31vIfs5TZ"
      },
      "source": [
        ""
      ],
      "execution_count": null,
      "outputs": []
    }
  ]
}