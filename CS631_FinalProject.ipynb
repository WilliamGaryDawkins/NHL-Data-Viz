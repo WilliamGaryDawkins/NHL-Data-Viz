{
  "nbformat": 4,
  "nbformat_minor": 0,
  "metadata": {
    "colab": {
      "name": "CS631_FinalProject.ipynb",
      "provenance": [],
      "collapsed_sections": [],
      "mount_file_id": "1hEjo13rv5voG2DRSMm6Vhtj4vY4YDkm4",
      "authorship_tag": "ABX9TyODluCEkcYw1cfKWhXxF/NI",
      "include_colab_link": true
    },
    "kernelspec": {
      "name": "python3",
      "display_name": "Python 3"
    },
    "widgets": {
      "application/vnd.jupyter.widget-state+json": {
        "0559b57fd4c648abbb6faadfb6574192": {
          "model_module": "@jupyter-widgets/controls",
          "model_name": "VBoxModel",
          "state": {
            "_view_name": "VBoxView",
            "_dom_classes": [
              "widget-interact"
            ],
            "_model_name": "VBoxModel",
            "_view_module": "@jupyter-widgets/controls",
            "_model_module_version": "1.5.0",
            "_view_count": null,
            "_view_module_version": "1.5.0",
            "box_style": "",
            "layout": "IPY_MODEL_0bf1e51c8b27446b914e03b618b5b1d1",
            "_model_module": "@jupyter-widgets/controls",
            "children": [
              "IPY_MODEL_99fed9cfc70043c68f50026844ed3bbe",
              "IPY_MODEL_57649ddc01354b92b60340564afc0ab5",
              "IPY_MODEL_beb966ba06b04ef69a53b3eb6d0690a8",
              "IPY_MODEL_a43a843f37f8483e8b264274ec0a7c20",
              "IPY_MODEL_88255bbd7fe9424193655f4c2cbd50e3"
            ]
          }
        },
        "0bf1e51c8b27446b914e03b618b5b1d1": {
          "model_module": "@jupyter-widgets/base",
          "model_name": "LayoutModel",
          "state": {
            "_view_name": "LayoutView",
            "grid_template_rows": null,
            "right": null,
            "justify_content": null,
            "_view_module": "@jupyter-widgets/base",
            "overflow": null,
            "_model_module_version": "1.2.0",
            "_view_count": null,
            "flex_flow": null,
            "width": null,
            "min_width": null,
            "border": null,
            "align_items": null,
            "bottom": null,
            "_model_module": "@jupyter-widgets/base",
            "top": null,
            "grid_column": null,
            "overflow_y": null,
            "overflow_x": null,
            "grid_auto_flow": null,
            "grid_area": null,
            "grid_template_columns": null,
            "flex": null,
            "_model_name": "LayoutModel",
            "justify_items": null,
            "grid_row": null,
            "max_height": null,
            "align_content": null,
            "visibility": null,
            "align_self": null,
            "height": null,
            "min_height": null,
            "padding": null,
            "grid_auto_rows": null,
            "grid_gap": null,
            "max_width": null,
            "order": null,
            "_view_module_version": "1.2.0",
            "grid_template_areas": null,
            "object_position": null,
            "object_fit": null,
            "grid_auto_columns": null,
            "margin": null,
            "display": null,
            "left": null
          }
        },
        "99fed9cfc70043c68f50026844ed3bbe": {
          "model_module": "@jupyter-widgets/controls",
          "model_name": "DropdownModel",
          "state": {
            "_options_labels": [
              "20112012",
              "20122013",
              "20132014",
              "20142015",
              "20152016",
              "20162017",
              "20172018",
              "20182019"
            ],
            "_view_name": "DropdownView",
            "style": "IPY_MODEL_17c57da96b82450d88cbc18c2d3a5e63",
            "_dom_classes": [],
            "description": "season",
            "_model_name": "DropdownModel",
            "index": 4,
            "_view_module": "@jupyter-widgets/controls",
            "_model_module_version": "1.5.0",
            "_view_count": null,
            "disabled": false,
            "_view_module_version": "1.5.0",
            "description_tooltip": null,
            "_model_module": "@jupyter-widgets/controls",
            "layout": "IPY_MODEL_bfa970eaf0304d08b1d3719685e90f70"
          }
        },
        "57649ddc01354b92b60340564afc0ab5": {
          "model_module": "@jupyter-widgets/controls",
          "model_name": "DropdownModel",
          "state": {
            "_options_labels": [
              "points",
              "goals",
              "assists",
              "shots",
              "hits",
              "powerPlayGoals",
              "powerPlayAssists",
              "timeOnIce",
              "penaltyMinutes",
              "faceOffWins",
              "faceoffTaken",
              "takeaways",
              "giveaways",
              "shortHandedGoals",
              "shortHandedAssits",
              "blocked",
              "plusMinus",
              "evenTimeOnIce",
              "powerPlayTimeOnIce",
              "shortHandedTimeOnIce"
            ],
            "_view_name": "DropdownView",
            "style": "IPY_MODEL_5f48ba9f771f4ee39634fb35dd12ec01",
            "_dom_classes": [],
            "description": "stat",
            "_model_name": "DropdownModel",
            "index": 4,
            "_view_module": "@jupyter-widgets/controls",
            "_model_module_version": "1.5.0",
            "_view_count": null,
            "disabled": false,
            "_view_module_version": "1.5.0",
            "description_tooltip": null,
            "_model_module": "@jupyter-widgets/controls",
            "layout": "IPY_MODEL_e2a1f47165344555aec288b4eafbd4e1"
          }
        },
        "beb966ba06b04ef69a53b3eb6d0690a8": {
          "model_module": "@jupyter-widgets/controls",
          "model_name": "DropdownModel",
          "state": {
            "_options_labels": [
              "R",
              "P"
            ],
            "_view_name": "DropdownView",
            "style": "IPY_MODEL_aa7fba2b4e2f42a2aab6562d74f6bacb",
            "_dom_classes": [],
            "description": "game_type",
            "_model_name": "DropdownModel",
            "index": 1,
            "_view_module": "@jupyter-widgets/controls",
            "_model_module_version": "1.5.0",
            "_view_count": null,
            "disabled": false,
            "_view_module_version": "1.5.0",
            "description_tooltip": null,
            "_model_module": "@jupyter-widgets/controls",
            "layout": "IPY_MODEL_6ca4417b53f64f1bb4111fabdc6ef2d2"
          }
        },
        "a43a843f37f8483e8b264274ec0a7c20": {
          "model_module": "@jupyter-widgets/controls",
          "model_name": "IntSliderModel",
          "state": {
            "_view_name": "IntSliderView",
            "style": "IPY_MODEL_e2cfddccc6a14e34b60c62a534cf561a",
            "_dom_classes": [],
            "description": "top_num",
            "step": 1,
            "_model_name": "IntSliderModel",
            "orientation": "horizontal",
            "max": 200,
            "_view_module": "@jupyter-widgets/controls",
            "_model_module_version": "1.5.0",
            "value": 10,
            "_view_count": null,
            "disabled": false,
            "_view_module_version": "1.5.0",
            "min": 1,
            "continuous_update": true,
            "readout_format": "d",
            "description_tooltip": null,
            "readout": true,
            "_model_module": "@jupyter-widgets/controls",
            "layout": "IPY_MODEL_2caece26c384438b9378c15adc2b3001"
          }
        },
        "88255bbd7fe9424193655f4c2cbd50e3": {
          "model_module": "@jupyter-widgets/output",
          "model_name": "OutputModel",
          "state": {
            "_view_name": "OutputView",
            "msg_id": "",
            "_dom_classes": [],
            "_model_name": "OutputModel",
            "outputs": [
              {
                "output_type": "display_data",
                "metadata": {
                  "tags": [],
                  "needs_background": "light"
                },
                "image/png": "iVBORw0KGgoAAAANSUhEUgAABMAAAAKSCAYAAAA03KdQAAAABHNCSVQICAgIfAhkiAAAAAlwSFlzAAALEgAACxIB0t1+/AAAADh0RVh0U29mdHdhcmUAbWF0cGxvdGxpYiB2ZXJzaW9uMy4yLjIsIGh0dHA6Ly9tYXRwbG90bGliLm9yZy+WH4yJAAAgAElEQVR4nOzdd9wjVb348c+XKl2lCIiwoCAiKkqx61q4NlRUrFhWxY5Yf+i9ImK7Nq7XykUUXAsgKjYQkSsXsAKCgAhSBFYQpEmXDt/fH2fiTmaTPEk2ebJP+Lxfr7x2k5yZOcnkmTnznXO+JzITSZIkSZIkaVotN+kKSJIkSZIkSeNkAEySJEmSJElTzQCYJEmSJEmSppoBMEmSJEmSJE01A2CSJEmSJEmaagbAJEmSJEmSNNVWmHQFJI1XRNwLeAKwMbAe8A/gb8CvM/PGSdZtFCJiPnBc7aXXZubCydRGy4qIWAB8vfbSUzLz+MnUZvZExD7Ah2ovbZqZi8awnaw9/UZmLhj1NpYls/W9LssiYiHwmtbzzIzJ1WayImIesDXlvLoWcDtwLXAucEpm3jbCbU31OXxUImJFYAvgocD6wBrATZTv63Tg7My8e4TbWxd4DLARsCbwd2AR8JvMvGtU25lNEbE18AhgQ2Blyvd3KfBnRvz9adlVHXMeBTwYuA+wKnAzcD3wV+CCzLxocjWUlo4BMHVUNe7GfXD7cGbuM+ZtLHMi4n7A9sAO1b/bA2vXipyQmfNHsJ21gY8BL6c00JtujogfAv+RmRcv7fZ61GMe/f2WbgKuAy4ETgR+lJm/G1e9JEnqR0SsBjwP2Al4GnC/HsVvi4gfAP+VmacuxTbHfg6PiI1pb49sSwnmtAwd3I6IRcAmwywLfDkzd+9jGxsALwaeCTwJWK1H8Wsi4kDg85l56ZD1IiIeDnwUeBawYocil1fB4o9k5i1DrH854CG0txEfDqxUKzayG30RsQbwTuANwAN6FL0xIo4FPpmZJ41i27U67EP7DQaAf1JuNFw1wHrm035D9L8y8709yi+kFtRnyO+1ww23nn83o9ruqEXEU4G3A8+h82+7XvYa4GTgGODIzDx//DWURsMhkNIsiIgNI+L7EXExcDlwBPBBSqNt7Z4LD7e9JwF/BN5M54YzlDs6uwJnRMTOo67DEFan3El9ErAn8NuIOLlqbEqaoyJiUURk9Th+0vW5p4qI+bX9kNVFm2YQES8ErgQOAV5B7+AXlJ4zLwdOjohPRcTAN5vHeQ6PiIdFxBERcTmlN8f3Kefcp9Ae/FqmRcSnKT3hPk8JRvUKfgHcF/h/wFkRseuQ23wb5aL/eXQPEKwPvB84NSK2GmDdu1THx+uBPwEHAW8BtqM9+DUyEfFvwHnAR+gd/ILSo25nyu9kNqwG/PssbeseLSLWioiDgWMp+7hn8KtyX8o1zGeBn42xetLI2QNMmh3rAS+ajQ1VXdiPpDRWWu6iNNouoTTOHk1ppAPcG/huROyYmSfMRh0HsD3lIuLFmXnEpCsjSbrH2ZASbGq6gjI07ArKBePmlGGRraGhy1ECSxtFxCszMzusYwmzcA5/IKUn21y3GZ1v5P+F0uv8asqNtW1oD+6sBXw7IlbPzK/0u7GIeA3wpcbLNwC/B66hfK+Pqr33EODoiNg+M6/oYxNPAJ7cb32WVkS8DjgAWL7x1rmU7+8aym/wgZShcM1ys+EtEbFvZl42gW3fI0TE6sDRlOG8dQlcQPk9XA/cC1iHcoy772zWURo1A2Dq5m/Apn2W/Q6lMdbycsoQtplcN2ilptCdlCF/W4xiZRGxCvBj2hvOxwOvz8wLa+XWB74I7FK9tCJweERslZlXjqIuPVxKaeg1rUn5HnahDGloNWxXBg6NiB0y8+wx102SpG7+CnwN+EGn81FEbA7sS+kh1PIK4BTgv2da+YTP4bdR2n4PHHL5Xk4CXjZA+RsGXP/JwFeBozoFSyLiKZTgVb1H1n4RcWpmnjLTyque6M1g2ReBD2bm9bVyjwAOpuQhgxJ4+x6lZ/uwrqekiLj/UqyjTUQ8h/J9tdpZd1OCYftm5gUdyq9J6WW3oCo7W+4F7AW8dRa3eU/zOdqDX3cAXwC+mJl/7bRARGwBPB94CaWHojSnGABTR5l5JyWZ54wi4tbGS5ff05ID9ykpdyZ/X3v8gTKcYlT51t5KuSvaciLwrMxs20eZeXlEvBQ4nNLdGcpQzPcD7x5RXbq5s8fv44/A9yPiq5SLgNaQhtWAjwMvGHPdJPXhnpYAvcpXuc+Eq6HJOY9yIX54r0TgVR6c50fE/sCbam99KCIOqgdLupitc/jdlN5rJ7O4PfJH4HG051AalVvH1C78BSUH2u97FcrM4yLi0ZRg4rbVy8sBn6G/IX0fZ3GPO4DPZea7OmznjGr46qnAvOrlJ0bE8zLzJ31s5xZKwv56O/E8Sn6sZo6soUTEfYADWRz8ug3YOTOP7rZMZt4AHAYcNsyQ3qW0W0R82uuK0auG6L629tJdwPN6/RYAMvM8yt/OZyLiMSwOxEtzgjnApNlxDnDfzNwiM3fNzM9l5m+GSZDaTTVry/tqL90NvKHZcG6pGvFvof1O61uqO8sTlZnHAns0Xt65SngrSdJs+QHw0Mz83gCz4O1B+42ttYBn91pgFs/hxwJrZubWmfm6zPyfzDwlM2+fYbllzbszc8eZgl8tmXkT8ErKRX7LkyNiw17LRcS2tA8ZXQT8R4/tXAO8rfHyh/uo4scp++VxmfmOzPx2Zp7b79DZAXyK9jx2r58p4FFX3SAft3rKixUZUfBPS3gJ7bGArwzyWwDIzBN7TTQgLYsMgEmzIDNvzcxxD/ncEVi39vyYzPxTrwUy83Lg0NpL9wJeOIa6DeMblOGSdU+dREUkSfdMmXnZoBf9VTBpYePlmYbBzco5PDNvzMx/zlCXZd4wM19m5jnAL2svBfDEGRZ7ReP5/jPdvMzMoyi5k1q2mSkhfmZeNe7gUkQ8AHh97aXjMvPgcW5zSAdR8k+1vCoiHjypykyxxzeef28itZBmmUMgNVERsSKly/1mlIbfnZTZlv6UmaePeFurUxo6D6AkcLwCOBs4eQx32CbhuY3n3+5zuYNpH6rxPGC/kdRoKWTmXRFxAu2Nz5E2gCJiZUquji0pd0RXA26kJM89HTh7Lvw2IiKAR1Dym6xHuQi6ktKA/G1m3jHCbd2X0mjagJIQ9QZKPpyOSWojYh1KYuAHUnpBLE+Z3vxKSg+JP07iYiwi1qZ8jo0o+Xb+DpyWmWfOdl1mUzX85QmU4+CaLP6tnzpHfuubUpJat/bb3ZTf06WU3/tZs9RDYWhzfR90U/XQfQzlc90LuIpyfj1rBOtenjIpyuaUtsIKlGPIOdU2ZjMvUb/OaDzv2dOIKTuHL8POoH3Y46D7pd+A0cGU2RVbnkdpc07Sa2nv/PCFSVVkBndSes19s3q+fPV8kDxymlmzt2jzpvNYRcRqLG6HrUsZjnslcEo1zHJp1r0ZpU28CeU8eydlYoeLgBMz8+alXP+DKW2R9SmTbdxJydV3CXA+cM6w5/Mql+DWlPb8SixuL/921D11I2I7yjXQ/SlDsC8Fjs/Mf4xyO8uczPThY6kelJwKWXvM72OZDSkJOK9vLFt/XArsDazaZz3mN5ZfUL1+P0pyzxu7bGcR8NoJfn/zGvU5fsj1XNRYz8Z9LrcycGttuVuBFcf4+RYNsOynGsvu1+9+77HO9YDdKblDbu7x+0vKSedDwL1nWOdalIvw1nInDfE9rQhcXlvHX4CYYZn7VN/RZT0+ww3Al4F1+6zHPo3l51WvP4SSl+32DtvYucN6ngQcQxlu0us7vpOSh+b9wAoj/N0taGxnfvX6gygTd9zWpT5nAc+dYd2bN5Y5bIj6rdOow7Ej+tzd9t8GwLcoDZxOn/sS4NUDbKe+7MI+6tHvY16HdQXwOsqF60zL/5Myo9VLRvVb6vW9TnIfDFD3RUPsh+M7rGdhvUzt9QdTjg13dFnXn4HnDFn3+wP7A//oUdergI8Ba4z6u1vK7/05jXoeNUP5ixrlZ/0czpLn04Uj+t0t8Xua4H75TOMz7tmj7CaNshcuxXc59DG+wzFlwZDrubC2jhuAlSe9P7p8vp0ogbqza6/dDTxswO983xnKL2Q03+uCQf5uRrXdEXzv5zTq8ehZ2u72lJlub21sv/44r/pel+tznStWx9zW6JFe57fbKfkTHzVgvVcE3kNpn890Dr2u2saOfa57FcrQ6kt6rPNG4OvARgPUuePvEnhV4++r/riL0rP4AZP4Xc7GwyGQmnUR8WJKdHw3SlS+mw0pd3zOqWbgGWZbD6fcWX8DJULfySbAQRHxo4hYaZjtTFp1F2WT2ktXZJ/DAzLzNsp31LIy45kFallxCmX2pqdRTji9rEtpmJ1e3ZHpKEti48NqL+0QEQ8bsF7PpT0vx4FZnaU6iYidKY3ZPSkX1t2sQUmsfH41E9bAImJXyvf2PEoDYKbyHwNOoAzpmek80+rZ8Qm6/42OREQ8DTgNeCnlrlonWwE/iYgvVz3rlpAl0fVxtZd2rnqUDeLVjTp8bcDl+xYRT6b8jb+S0jOnk42Ab0TE58ZVj2FExKqUgNaBQD/ngVWBZ9AjR88kzOV90EtE7MLiY0O3UQVbAkdGxBJJw2dY95spbYU3UXptd7MO8AHg7CGOu+PUPI9e0a2g5/BZ1fd+YfFsji0nD7CdkykXk93WNasiYiPaZ3c/rfrtLJOy9Or8UO2lAD46oepMq+aMsTt1LDUiEbFiRBxA+dt4Du0TSzRtTgn2/F9E3LuP1X+QElR7NTP36lyRMlT85Ih4Tx/rJiLWpcxmuy/9HV/XqrbRzAfYad1bUYJRH6e0A7pZnRIUPK9qlw8sIlaKiG9Selc+pEux5Si9LU+aaej2XOUQSM2qiHgNZWx/86L4NMrwlRUp3T7rB5cHAL+MiKdnH9NV16wL/IzFXXxvAn5HGW6yHvBYysVSy/MpM9y8sFfgYRm1BaVx0HJht4JdXAQ8uvb8wZQ7Q5PWnPb76hGss/nbu4SSq+NaSg+G+1IutOsn0E2AYyPiEZnZrYv4AbTPpvN64J0D1Gu32v/vZMn8Mf8SEW+iDHGpf5a7KbN4LaLcVduQsk9bDYy1gJ9FxHOyTDLQrydQGiGt88WllJ44N1ACdts36rYb5WK0rnWBdklVt9WrZR9K7yD4KG0JfJrFQbZ/UGbYuo7yXT2G9oDUWym/h2778AAWD6NZiXI3bZDART0PyzWURNvjsBXlTl7re/4bZV/cQAmcPpb2gMw7IuKUzOx3+NW4HQD8W+O1aym/wSsofytrUv5Gt6R7YHOS5vo+6Cgi5lM+V+vYcD6lt9c/gY0px596O/O/qs/1qz7W/TGWPI7cQWkrXELZ75sA29W2sRHwq4h4Qs6QO2uW7Nx43qv9Mq3n8JaNI+IblDpuQPm9/4PSe/m3lN7CR+WYh7JWAfUdGy/32i/NtAt975fMvDkirmBxG/R+EbFWzjwT6Lhs13j+r7+RiHgkpZftfMrfbmuI8Z8oNyC+lWUmyNn2fcqxcpvq+fMjYvvsc+IDzehk2nPgvScifp2ZPx/1hqpJPo4Ant5460bK3+AVlPbqlrQHZp4MnBARj83ewxabbfsbKb/fKynXf6tSRgBsRbnxSvXvvhHxz8zcv0fdg9JGe2TjrSuAMynXJndT2tkPrLbTV4ylurn+fyx5k+eiqv63UtIEPYrF54hVgG9FxGqZeUA/26n5MqW9CuWc+ntKm2RF4GFV3Vs2AL4XEY/MuTdJSm+T7oLmY+4/6HMIJOWg1hxy9r/A5h3KPpkSlKiXPR9YrUc95jfKX8virq7/AazSKL8apYfZnY3l3jTL39+8xvaPH2IduzTWMdCQLJYcEvCeMX6+RX0utzxLdgV+ZR/7fcEM672YEhh9DT2GBVIuSn/ZWPdPZ1h3fYjW1fQ5vIBy4VYfKvijHmWf0PjN3kkJ7NyvQ9k1KT2r7q6VvwxYp8f692l85tbQ4XPp0JWbElBap7bP6sM4b6cMbVy9y7aCclL/CCUHV8+hpgP+7hZ0OR7cALyRxhAhSuPjfxrLJPCMLutv5WVolTtzgLo9rrGNz43wczf339XVv38EntKh/H0pvRfry1wKLD/DdurlF3Z4/96Uv/15lMZVq+yJtdc7PVaorWPrxnauAF7UrW7VPtmREjT77ai+0y7f67xJ74MB6r5R9d2+rLGN9/bYD+t3WM/CLp/rl3QYSkK5efV/jWVmHB7eoZ43A/8OrNWh7P0ovQPr5f8I3GuU+3+I7/xhtB937wY26VF+mTiHM74hkP08/gw8f8z75W2NbfYc0gh8qVH+LQNu7/eN5bcdst77NNazYIh1fLixjn+nXEh/uY99czXwxjHul+bn26n23k6N934+wO/XIZC967Fdh319NyVQtQtlVtJRbWv/xnYuBl5Oh9QXlJvQv26UP2CG9X+MEqDeq1q+YwoRSkD6k7QP2b+FHkPOWXI4+/mUUSTdtrEapVPFd4Dv9VjvKiw5DPEvwNM6lN2Mcu1SL3sr8PAZvpdO5+y7gP+kQ5u7+qzXNpYb6Lg3Fx4Tr4CPuf+g/wDYLxrlfkCPBj5lWENzfPrHe5Sf3+VA3jMXDKXXTn2Z60Z50O/j+5vX2P7xQ6zj9Y11fGnA5fdsLP+RMX6+RX0u95oO+3PDPvb7ghnWu8kAdV+++p3W1/+QHuXf2ij7sj63s3djuZ26lFuJ9ouK24Fn9rH+BY31f6ZH2X06fO9/AtbuYzuPbiy31wDf9Ur0meuhz/U1P3OrkfPEGZZrfv6/dKsXJfBYL/uYPut2UGO5rUf4uTvtv9/RIz8S5c5ps7H57Bm2Uy+7cIay9d/s8QN8lvc1tvOEAZYdaQCkw/c6b9L7YIjPML+x/gUDLr+ww+f6IT3yTVEa+Bc0ltmqR/l1ac8Neh195Gnp8J2/bZTf3YDfU1CGgNfr84MZllkmzuEdfiMLl+J7WMSSv5d+HvsyQ/7LIeuzHosvAFuPPWZY5luN8rsMuM2jGss/dci6N3/fC4ZYx1ca63gXS7bLZ3p8dtT7pcvn26nx/u8a73c8j3f4/Q4aAOt1U6DX472D/N102O7A+3OE3/13euzvuyg3dr9C6SG4xZDbeEZjvacD951hmZWAnzeW69pWotzo6bsNSbmZVl/3p3qUrd8cvQPYdIDtdG2LUIJ19TqcD6zXo/xywHcby/xmhu0392k/18XN/XXypH6f43qYA0yzIiIeSomWt1xBSTx/V7dlMvNqSjfNepf4N1bdaPv1zcz8bq8Cmfl1SqLClrUoeVrmkmbupFsHXL45pfdYczHNpMpV9aXGy0dml5kGB5GZfx2g7F2U/DP1PBkv7bHItym9FVpe361gS9W1uj508lLKXZ5OdqU9T8xemXn0TNvIzIWUoQQtu1VDQfqRwGuyvxlhNm48/2Gf2yAzb8/xz+T2qZx5+NWHKXftWx4IPLNL2a9Svp+Wfvb3GsBLai+dlOMdrnUb8PLMvLFbgep7/0jj5SePsU79qv+ers7MX/e7YGYOegwcp7m8D3q5knLh1nWW2cy8hTJRR12vz7U77cOi35iZf+ijLs2/23f0scy47EmZBKTlVkowt5epOofX3EXpIfgBSs+CbSi5fbantO8OofRirnsPS/4tLJXqPPt1oJ6r8RzKhW0v07RfmnmU3s3idvktwGer51sCO1ACZBc0lnlXlZtvtu3VeP6xMW3nM5ShZ4M+PjOm+syG3Sh/o50sR+lN9UZKT9tzI+LSiNg/Irbvskwn9Zyct1AmTrqm1wJZhty9ivY29R49yv9tkDZkZh5Oe+qJXm37elvk9My8aIDtdDxmRMSKwFvqRYFXZWYzL1t9XXdT2pn1a6HHVTM59uurfVwX/5wSdG7ZtspTOTUMgGm2NJP1fTb7yIOQZZz/T2ovrUP3i9FO+k2Y2WxsDZVccIKaB6ZBG2nN8uM80K0QEfM6PLaOiBdFxCGUobH1huItLJkPZlZk5lWUHCUtj+5R9gbK3bSWp0XEvBk28XTKHcSWhT0Cw/WT5T8YLOdUfbrze1OGUvbjhMw8dYDt1K075HLjcAvwXzMVynL7q9m47ng8yCWT4b+0j0bCy2j/+xpb8vvKdzNzUR/l/o/2QG/XSR8mZM2I6JUwd1k2Lfug6Sv9nMcpvWDqOn6uKkjxptpLZ87UUG+p/m6/WHtp84jYop9lR6maaOPjjZf3qo4Vvcylc3i//pvS4/rJmfmfmXlUZp6RmX/JzFMy89uZuSslz1YzD9deEfHUEdZlb+DZted3Um7Cdg3eVqZpv6zVeN5Ktn0JsE1mvicz/y8zz83M32fm5yjD0H/UWO6zEbE+syhL3tLjay89KSKauSE1hMy8iRL43JuS8mImG1KO0ydHxJER0TMhfJVEvX5D4MA+z4dUwaB6m/o5/Sw3gB/X/r9JRNyva8nFRtWufQrtuYaPzswTZ1qoupH26cbLg3TaaC7bTf28vRxlWP/UMACm2fK4xvNDB1j2kBnW1c0fMrN596qjzPwj7Qljt52rM0JWcuYiPct3nP1uRO5P5ztoZ1J6Kb2cxQkqoXQ3flW1j8ammhllnYjYpBmcowzJadlyhlXVE1IGpdt4L/Xk90m5y9apfmsC29ZeOiIHS0p5EuW7bHl8n8v9ZOYi/3Ju4/lHImKmmTZny8969cBplqXkCmt5bI+y9f29Br3vIkL7/r6J9sbdOMzYQxAgM++kDPdsWRaCl/Xf00qM767/uM3lfdBLv5/rb5TE+C3dPtdWtM+Ee3iXct00e3f2e4wbiYjYEvge7eevIyk9awa1LJ/D+5KZn8/uk8bUy11I6RV4WuOtkfy9R8TLaJ9NEOA/+rnY7GAu75dO13x3UXrjnNdpgar3ystobx+vArx99NWbUbMXmDNCjkhm3pmZH6XcjH0HpfdP1xE6Nc8BTqkmROmmOfv49zuW6q5+XN8wIjbtWrKDiFguItaKiI06tO2bn7Fb+77eFtkkImac2bEPS3NdfCjtx5Z+r4vP7/e6mCUnUVnW2yMDMQCm2VK/cP97Zl4ywLLNRsq2HUstadBZYurlV2bCU1YP6J+N54MGHZrlb1qKuozSGcBjq67KIxUR94+I90bEMRFxOaXnxVWUvCXN4Fx9Nq/79FpvZp5U1bvltRHR8VgbEWs31n1sj67Vj6H9mH1pl550HR+UO031QN68Xp+j5vQ+y0EJYp5de/5ESpf5vSKi23TLs6Xv40HVK6C+DzeNiG77/YeU303Lbl3KEREPowwtaflOdfd1nP48QNn672O2Zufs5QeUPHct742IkyPiDbPdA2EpzeV90MuoP1czYHXFgMe4Zg/BeQPUb6lExIaUgGD9OHEyJQ9kP0GTaT2H9yXL7G670p7y4rFV+oyhVb3IvkF74Gm/zOx3yNo07ZfmZ4FyDuo5xDgzb2PJ4NPLRlarPmXmb2hPD7FDRDxvxJt5bWbGoA/a01jMWZl5TWZ+ITMfRzmWPYsSPP4J3Wdhvzfwo4h4UJf3m8f16wc8rjePn/N6fYaIWDkiXhgRB0fEnyltiOsoPR2bbfvmTMvd2nnNG5Vfioj/jYhX9GgbzqR5LXtSvwtWPePq1wrbRMTy3crXDHvOhmW/PTKQvqbolJZGlbOrPpxtpqEAbTLzkoi4hcUNiX6j0P1GuVv+0ni+3oDLT1KzYTNInrRO5SfRSLuZcsC9kHIi+HFmdstLMLTq9/hhSn6LFYdYRT8nga8A+1X/34gybLc5DAjg1ZSeLS29hsNt1Hj+AZZuWGhzyuVurpq5SJGZGRFvAo5l8ed6AOVO7UerQOOvKXf0jh93r76GYY4H9enB16PMjNMmM2+PiK9T8v5AuWjbKjPPbpZlyeDYuIc/wpKNmF7qPQSH+dsYqcz8W0TsRXuX/e2rBxFxDvAbyu/puMy8ePZr2Zc5uw9mMOrP1TzGzZSfaSb9HuOWSnUB9HPa8zOeTZnEoFPQoZNpOIcvlcz8c0QcRZn1r+XpwFnDrC8itqUM36ufYw9lsN5L07RfOm273x7IP6F8F60hnJtFxAaZ+feR1Kx/e1GCMi0fjYgj+gwyawBVj/mjq0driPq2lAmGdqP9hsNalJ6unQKSzeN6s6fnoLoe1yPiOZT8wfOGXHfH9n1mnhwR+1Emump5evW4OyLOpLRFfklpi3TN41VTv5ZNlrwGncm5lJkhoZxT1wJ65lVj+HN2axtTwx5gmg3NxJs3dCzVW/2Ptt9o+6DbaR4YmvVeljXrvs6AyzeDioMcJAf11y530VbLzA0z8wlVLopxBL9Wpoz535PhD+b9DGE4mPaGc7fk6PXXr6Z30vhRX8z1m4x3oAZ7lkTl81my+zSU6ad3AT4PnBERF0XEPktxB20Q4zwezJgMv/rt1fM0nFn1Fhy3cU8sMFZVT43d6Nyw25LyXS8E/lr1Dnt9RCxrN/fm9D7oZpCEw32a1DFuaFXOv59SciW1LAL+LfubOKRlLp3Dx+kXjedD5Z2JiAdTegutUXv5KMqELoP8bqdpv3Tadl89o6te0c3e4A9e6hoNqOqtVm8nPZz2SWU0Jlmckpm7U/I4NgM2O3UZnjgrx/WIeB1wBEvX87dXXGR3yk3nmxuvL0f5Pt5KCSj/PSKOi4hdqqBhN/U25T+HOJ82/577aUdPZVtkGAbApOnQ7N3ygAGXb5YftLfMXPF+oJ449S7KMKvdKL1KNqScXJdvdG//xiAbySWT4T83Itp6FEbEY2kfZvutGXJ6jfruy9hykWTm7ygXhC+i5HvodldqHqV7/QUR8dxx1WfcMvMvlATmLa/qkEPwhbQ3BGej99dUyMwDKXc630aZdKBbIurtKd/radUFsOaWOXOMg5I3knIxXs8ReDmwYz+5rxo8hxeLGs8HDTgRERtTJtKpB59+BezSR9L7pmnaL83RF3dTZnLt1+WN57PSw7KDvWm/kN+nz+FfGpHMPJeSvqOeQytYPKto3diP6xGxOaXHcP29syizTz4NeBCld9fKjbZ9Mz9ZV1UA8D8pbZH3UfKkNWewhRJbmU/JB3lCRGzQ7zY0ezOioL4AACAASURBVAyAaTZc13g+zDji+uw1SwxD6mLQ7TRnyGnWe1l2Lu09UDbrVrCL5l2bTr135rRq6ON7ay/dBDwxM1+UmQdWd7b+npmd7sSsweC+Uvv/isBrGu8POhyuGUR66zC5KmqP+UN8pr5l5l2Z+YPMfDHlIubhwJspQ1Can+U+wOER8UTGZ9zHg/r+Xhd4fuP9+v6+jSVzT6iHzLw+M/fLzKdS7pw+nhLQ/jntMydCCb4eGxEDXzxroprHhWcv5TFuwbgqWl1wHwrsWHv5WkrPr0GHsoDn8JZbGs8HyrkVZRa3X9AeePoDsFNmNtfdj+b32Pd+iYhVaU+lcUVmTrJd2cz/c8eAQwebx9mJzMqbmX+i/QbjlsCrJlGXe7LMPIv2WbABNu9QtHlcX3Upj+sLO2zjfbQPdd4XeFhmfiLLzKYXZOaNHW4yD9y2z8wrMvPTuThP2tOAfYATWDIg9kTg6Og8g3X9WLBat1zBPTTbqP1eGwsDYJoFWWaRqQ+j6pYosaOI2Ij2RlC/OYl6Ts3bQbNeg9wZm6gseUb+Wntp/eou6Iyqu9jb1F66nbl797iXJ9PedfqTVU+lfgyccDszf0/7kIF/zQYZEavT3m3/d9k5Z1Rd8/c4Zy7uqztnZ2bmVzLzFZSLgufTnttlRUqjZVzGfTz4UaPMv4ZBVsMC6ncaf5CZM+VqUBeZeVtm/jYzP5WZz6QEHHenvaF9f+D/TaSCGtacOMZVw1oOpPTqbLmJErA7c5h1eg7/l+Y+73sYaUTcGziG9ovwc4BnVL2yh9HMP/boAZbdnvbrrJnO8eP2p8bzlbtcmHfTTAMwyXPYPrQHG/aOiKnKUTRHnNF43mkY3mwc159T+/95wPv6DO4u1WQ6mXlTFWD7cHVTeQNKnrp6sP3hdJ4Nvn4tGwzeRt2i9v87mLvD3ifCAJhmy6m1/29YBbX69Zge6+pl+wG20Sx/G0MmXp2gZu6MfnvT7ED7nbzjhhgmMBc0Axo/72eh6uLiUUNus94raMuIeEL1/5fRHoz7ah/rauaLGqQhvkypeof9hBIUqifR3aG6gz8OfR8Pqob0I2ovXZSZPe+uVX8zX6+9tGPtAvb1tHfN72d/T5OxJiiu7ux+mTIko76tOTusdkyW9UTRzRmfl9Vj3H/T3qP3NmDnzGzWf1Cew5c8Tl/Wz0JVb6ufUi42WxZRhqN2m71uRpn5V9pzHW0aEffvc/Hm/jtm2HqMQmZexpJBsEFmZ26W7WvfjENmng98s/bSpnTPtarxaY6W6BRoHutxvcrDWA9k/W+HURzdNK8vl0pmXp2ZHwfe0HirU1ukeS3b9/cSEevS3hv19My8q1t5LckAmGbLbxvPXzrAsq9oPO+3186jekzL2yYiHk7pRt1yaoeussu6nzSev7JjqSU1yzXXMy2a3YX7vSP8Qgaf+amlWzL8+nC4G4HvzrSiqvFav4P8lLk+xCszr2LJ2TE36VR2BJ4VEf12d38W7UMm+z3m1JPhLwe8thoqtaBW5i/A8X2ub1rUh840c6ONTGb+ijKLbMu8cW1rjmoOYRrbvhjS72k/Lj+/Qy69iYqIfYB31F66E3hpZh47gtXfo8/h1Y2HFzRennEynFoutsfVXr4ceHpm/m0EVRt2v+w6w3omoTnRztP7WSgiHkj7MNvrmPxN4o9Qeju27MXwbTUNp5lrs9OsoM3A/qgnLRiqbV8FzZvHm1E5jPbz7bwOZZbmuvjltN9U7beNqooBMM2WQxrP31UNA+spIh5Fey6df1Bm9unXXn2W27vx/OABtrGs+AXtXWr/LSK27lYYICLWpxxIW26lJIWfRs3cG1t0LFVT5Q374LAbzDKN9KG1l14cEY+j/U7PodXwl37Ue5StCnx42LotQ5qNlXEFnlcB3jNToWp4U/O40dfxIDMvAOoXwq+ldM2v9xg4aMC8K9Og3jV/qYYc9KH+e5prNzHGrTlEYtz7YiCZeSdlaGHLRrQHmyYqIvagTNrRksCCzPzxiDZxTz+H70H7DZCbWTLHUJsqb863aZ/c5hpKz69RDQM9tPH8zRHRMzdZRDyb9puqp/eR5mA2HEJ7r5039Rlk3qPx/OcD9LIZi6p3Xr039f2Bt0yoOnNSdfN/2GU3ov3vDjrc3KvSgfyh9tKLImKUvcAGbttX3kt/MycOrDqX1dv1ndoix9EeMHx2RGw707qra+dmegdzyg7IAJhmRZW0st6QuT/w1V5J/yJibcofdb3MV6ucYv16dUS8uFeBiFhAma2u5Xrm4MGkSvD6qdpLy1G+4445Hqrvfj/ae7rsn5nNmX6mRTM3yzt7TVFc9dz5GrDVUm63HrRajfbkrTDYcLgDaB928NaImDGoUxcRq0ZEs1flSETEMyKi7y7l1R24nWsv3UF7D55Re19tGGo3H6J9GM6FwNEDbKO+vzcBvlR7fiftwyTvKc6t/X9eRMzrZ6GIWBARffcIjIiH0j509dxuZe+hLqQ9b07fM2DNok/TPs38JyJikDvjRMS9I+JFM5ccaJ2vAj7XePltmTmym2XTcg6PiHUiYtdBkjpX++uTjZe/WN1E6mV/oN7GuxF4ZtXmHInMPAU4svbSPOA/u5WPiPvQftyHkrNq4jLzHNrbtw8CPtFrmYh4CmUG3rpx5uscxMdpz7f0vElVZI76QkScFBHP7NUebqqCMIfS3uPuL7QHuurqN2uXA34YEQ8bpKIR8aCImN98PTNvpr3duFM1K2Svde3EADe3I+It1bDDfss/i/ZZUpdoi1TD1PevvbQc8K3q2rfbepejXDPU0widWAUZNQADYJpNu9M+ff3LgCMjYolZdSLiScBvaM85cCHlZNev6yhdRA+OiP9o3rGLiNWq4QzN2ffetxQJU7uqGoXzmg/aD2QA9+pUrnqsMMNm9qP9RPAYygwkbTNEVXeNv0N7999/MENDaI77HVCfmv5plN/GEie1iHgEZRr11hCGpckhcgpwWu2l+uxUZ1Tv97uuWyl3++v5XfaNiKMi4vHdGjARsXJEPDUivghcDHy2/08wkMcCv4uIEyPinc3fXaNOD6fkYauXOWIcf3uV6yiNtaMi4g3NhLkRcZ+I2I/2Hh5QZtsc5E73j4Eras/r+/unk744nZD6MKYAfhwRr4iIrWc4xi0A/hIRP6ouqDs2DCNiuapB+3Pa2zVz7kbGOGXmbbTnEpwfEV+LiKdFxOaN/TCR3mHV30c9f8rywHci4tu9eitU5/OdIuIg4G+McAKEqjfPQbQPOfky8LMe5+pOj35yn87KOTwi1u/SHmnu99W7fZ4eq1+d8rd3TkR8ICKaw6Tq9XhQRHwV+D5Q/9u/kPZgYKdlm7l27gbeDlw14H7pJ5XAB2gf0vTOiPh8RLTNLly1HX5J+3ntV/32EuzxXTcT0HdsT/b5d/tB2nuDvjsivto8vkbE8hGxG3AE5e+w5VuDtFvGKTP/TvlbnOu67c+ZHs3fxTB2oIysuSAi9o6IR0W5AbyEiFglyg3UM4DmzcT3duvdXuV8PaD20gbASRHxkYjYoFvFImK9KDfCjqQEkZ7Zpej3a/9fGTgmOtzsjIi1IuKjlKHAK9B/2/59wMURcXBE7Bxd0mlExAoR8WqW7DXarS3yGdqDYw8BfhMRT+6w7k0pf4svq718O/Z6HE5m+vCxVA9Kl9esPeb3KPs6SiOlXv5u4BRKHqQfAuc33k/KyXqHGeoxv7HMnpTeMq3nN1AukA6hBDdu6rCdHwIxpu9pYYftDfqY18d2tqbcBa0vdwfwa0qD+XhKILL+/u299ttSfu55jW0tGvH6m/t9wQy/v+Z3eitl+uKDKTP5ndN4/3vNfTdEHd/UZX/uPuRnfk21z5rru5oyjOY7lBPwUZSeb3c0yl3eY937DPqb67FsUob0HEdpoHyLkgflgg7lrgU2GeHvYkFj/W+h/W/+6ur7OaT6m7itQ50+N+S2P9Flf+80jr+xEe6/4/v9O21sY+EMZdegzAQ10DGOJc8tSbkw/nn1Gz+Ykli607pPBlaYxPc6W/tgyM/x0j73w/Edll1YLzPgdhf1WneH8h9gybZCUs7pR1d/t4dV/z8XuKtR7sQRfmcLO9RjmEdf+5NZOId3+dsa6NFj3fM6lL+GEhj6IeVi8Ag6t/WScs548IC/qaV5LOzzO3tNh2Wvp7QnD6O0Y5vvXwysP8B+WdrPMuPfVrWdHVmyXXAbpS10SLV/ruqw/tOBVcdwXNqnsZ2+z5WUWQVv6PJ97Dvg3/aCIeu/YJDfVIftDvvYZym/9+O7rPdGSvL6Iyjtth9Qzqk3dyn/8T62tVK1vk7L/7l679uUtuKxlBvWzXKf7LLudSltuk7r/R7luPkr2tvNV7Hk33TH/c+Sx5q7KdcKP6P8vRxCaede16EOP5zhe3kkpf3bXO4vlGuSw6rvvtO181sGPKb0dayrlpvfz3czVx8z9SaRRiozD4qImyl3U1s9sgLYtnp0cinw3Mw8rcv73VwJPJtygbQu5SKsOV697ieUZLY54HaWKZn5p4h4DiUAsmH18grA47ssch3wusw8fhaqN1HV729r4F21l1cGntRlkSOAV9HeTXkYh1CGDNTz3t3KkD1UMvMbEXEhZR/X80utTenZNpOeMxqO2DqUE2kvFwPPy5LTY1z+TJnQ4AeUoahrU5Ldd/M/tP9OBvFVyh3Deo+RSxksf+HUyMwbI+IlwOG0DwsYxqa0967o5HjghVnycKgmMw+Lkn9l2N/2rMjMj0fEOZQe2vVeDhtUj5nM5jFupKb0HH4f+pvV8pfArjma5PUjVZ1316Ccy1vDUtekeyL5PwO75DLY6zcz/zdKepADWXxMXonubSEobekXZxlytszIzKsj4vP0n/NXi51P2efN0QOr09+shDcA/56Z+81UMDNvj4jnUyYveB/tPT63pD1nXjfNfF+tdV8VES+gDFWu98rstt4rKPlZ+50YqSkoEwB07d1aOYz2GYOXkJmnRRn1dCSwce2tB1aPTm4F3pSZ3+zyvmbgEEjNusz8DrA55cTbK7/D3ynjxh88RPCrta3TgW0oeXe6nbT/Crw+M5+fc2/mx44y85eU6cD3Z8nExy23UAIzj8jM5sxAUysz300Z2tgrQe4fKUMrnp+D5Zzrts1mMnyA72dmx5N5n+v8FSV/x9tZcmrzTq6k7O8X0j5V/Ch9iTLD5Q/pr2v5hZRG60My84wx1elfMvMYSqD9cNqHkdb9mRKMe+uwwfDMvJAlZz76et6Dp6muLs4fQumZewxlmFrrbnI3b6A0lI+nPc9LNydSZmh7ambO2QDIuFXHwEdThg79njJ0bpk792Xm4ZQ8eh+kv9yAF1PaFf9GubiZs+b4OfwqylDyE+je7qq7ndKL6rmUXmzLXPCrJTO/RBkydgTt+fTqrqDkM9sul43E9x1l5o+Ah1FuSPdKPfBHyrCrZ+b4UhQsrX2Zw0HvScnMN1DSsLyNcnPwyj4XPZ/yN75lP8Gv2vbuzsy9KIGjAyjnnp6LUH5/nwYelpnNPIH1df8K2I4SSOrWrriGct57WGae2m+9KZOxfZjSxujWdmy5m9KD7TmZ+bIsqQd6yswzKe2jD9Ke57fpJuAblOtig19LIeZ4ZxfNcVHy8Dwe2IzSS+tOygH4LOC0QS5AoyRHPK720mszc2Ht/TUodzoeQLkb2drOSXO911cvUWYyfCLlzsJ6lBPAJcCvl+HGzNhFSSb5SOBRlF5KN1OCrn8aR6M1Ij5DmXWmZX5mnjDC9a9PyRezHqV3092URu0lwNnARbP9O4+IB1EaOhtTpqpenhL0voyS/+z82axPo27rUI49G1HuAl5OOeaMJBAXEd8DdqmeJrBZZi4axbrviapzxVaUoO/9KXeokxIcWAT8YVnsaaHRiTIhwvaUtsJ9KBciN1D2/9mZecnkajc+c/kcXp1nt2Dx3+1alN5TN1ICFhcAp4ziRtNsi4j1KOfcjSi9Ti4HLgJ+M9d6n1a/sSdQfmP3o8xgdwXwu8y8eJJ10+yqchU+mNLTei3KaJ2bKcfaiyntpKu6r2GgbQVl4pqtKO3wNattXUsJsp2dmdcMsd4NKcfMjSg9zS6v6v7rLMnnl6bO96IMU38QJWfi6pRz0fVUEwEMU+fGNrahBKfXpfTMvIpyE+g309JRY9IMgGlqzBQAkyYlSmLvS1icYPj8zOx3qmbNMVUy4csoDReAX2TmjhOskiRJknSP5xBISRq/59I+u1Zz5lFNl1ezOPgFJSeYJEmSpAkyACZJ41dPOH0bJeeGplDV2+/ttZeuoOREkyRJkjRBBsAkaYwiYhfaZ7/6Tmb2kyBec9M7aZ+lcP+lzTkhSZIkaemtMHMRSVI/quSYraGO6wLPBN5fK3In8LHZrpfGIyJWpyRuDWAD4EXAHrUi1wOfm0DVJEmSJDUYAJOk0XkM7RMxNP1XZv5ltiqjsdsF+HqP99+fmdfNVmUkSZIkdecQSEmaHUcBe0+6Epo1X83M/SddCUmSJEmFPcAkaTwSuAH4I/BN4KDMvHuyVdIYJXAtcApwQGYePuH6SJIkSaqJzJx0HSRJkiRJkqSxcQikJEmSJEmSppoBMEmSJEmSJE01A2CSJEmSJEmaagbAJEmSJEmSNNUMgEmSJEmSJGmqGQCTJEmSJEnSVDMAJkmSJEmSpKlmAEySJEmSJElTzQCYJEmSJEmSppoBMEmSpFkQEftERNYel0XE4RHxwOr9hRFxygTrt0FEHBUR11f1m1+9vndEXBoRd0fEwknVT5IkaWmsMOkKSJIk3YNcDzyz+v9mwEeBYyPioZOr0r98AHgE8HLgGuDsiNgO+DDwH8DxwJUTq50kSdJSMAAmSZI0e+7MzBOr/58YERcDvwKePcE6tWwJnJSZR7VeiIgtq/9+OTNvmEy1JEmSlp5DICVJkibn1Orfec03qiGJB0XEhRFxS0ScFxEfi4iVamVO7jQssRpOeVrt+aYR8aOIuCEiboyIIyLiQbX3E3ga8IJq+OOiar3fqor8a1hkRKwYEftGxMURcVs1lPOH9XpJkiQta+wBJkmSNDnzqn8vB5rDINehDEV8N3AtsAWwD7Au8KaqzIHAf0XE7pl5E0BErA7sAvx79Xxl4FjgDuANwJ2UYY0nRMTDMvMa4LHAfsB1lOGOtwE3AJcAewFPBW4Bzq7WuyvwfuAiYH1KD7bll/7rkCRJGg8DYJIkSbMoIlrtr80oQacbgV9QemD9S2aeCby3ttxvgH8CB0XE2zPzduBQ4LPAi4GvV0VfAqwIHFI9fy2wMbBFZl5Yresk4EJKIO0TmXliRNwAXFMboklEXFD99/e1ANsOwCGZ+Y1adb875NchSZI0KxwCKUmSNHvWpvTEugM4lxIEe2lm/r1ZMIp3RsTZEXFLtczBwMqUgBZVXq7vAwtqiy4AfpKZ/6ie7wD8oRX8qpb7G/Ab4AlDfIbTgQURsWdEPDwiYoh1SJIkzSp7gEmSJM2e64GnA0kZ9nhZZmaXsu8EPgN8CjiBMgxye+DLwL1q5Q4Ejo+IzYAAnkh7Uv0NgCs6rP8KYJMhPsPHgLuBt1Z1uzQiPpOZnx9iXZIkSbPCAJgkSdLsuTMzT+mz7IuB72fmB1ovRMRWzUKZ+cuIOJ/S8yuAy4BjakX+zpL5xQDuR8kxNpDMvBXYG9g7IjYH3gx8LiLOzcyjB12fJEnSbHAIpCRJ0rJpFUoy+rpdu5Q9CHgN8Grgm5l5V+29k4BtI2LT1gsRcX/gccCvl6aCmXk+JU/ZbcASwTlJkqRlhT3AJEmSlk3/C+xRJay/gBL8elCXst+gDE1cgcXJ8FsWAu8DfhYRewN3AR8Crga+MmilIuKHwKnAaZSZIXeptvvLQdclSZI0WwyASZIkLZs+AqxLCWwB/ADYAziiWTAzL68CZWTmeY33bouIp1NmizyQMkzyeOBFmTnwEEjgt8BLgf9HGU1wdrWufod2SpIkzbronndVkiRJc0FE3Be4FNg9Mw+cdH0kSZKWNfYAkyRJmqMiYg1K7q13ADcCh062RpIkScsme4BNwDrrrJPz5s2bdDUkSdIcd+ONN3Leeeex0korsfHGG7PWWmtNukqSJEkTc+qpp16dmet2es8eYBMwb948TjnFNBmSJEmSJEmjEhF/7fbecrNZEUmSJEmSJGm2GQCTJEmSJEnSVDMAJkmSJEmSpKlmAEySJEmSJElTzST4E3DR367hFXsePOlqSJIkSZKke6hDPr3rpKswq+wBJkmSJEmSpKlmAEySJEmSJElTzQCYJEmSJEmSppoBMEmSJEmSJE01A2CSJEmSJEmaagbAJEmSJEmSNNUMgEmSJEmSJGmqGQCTJEmSJEnSVDMAJkmSJEmSpKlmAEySJEmSJElTzQCYJEmSJEmSppoBMEmSJEmSJE01A2CSJEmSJEmaagbAJEmSJEmSNNUMgEmSJEmSJGmqGQCTJEmSJEnSVDMAJkmSJEmSpKk28gBYRNwVEadHxFkRcUZEvCcihtpORGwXEV/o8t6iiFiny+tnVnU4MyKeP+S294mI9w6zrCRJkiRJkpYdK4xhnbdk5jYAEbEecAiwJvChQVeUmacApwxRh6dk5tUR8WDgGODHQ6xDkiRJkiRJU2CsQyAz80rgjcDuUcyLiF9FxB+qx+MAIuI7EfGc1nIRsTAidomI+RFxZPXa2hFxTNWz7GtA9FGFNYFra+v9UUScWq3jjbXXn1nV54yIOLa5koh4Q0T8LCJWiYhXRsTJVQ+zr0TE8tVjYUT8qep19q6hvzRJkiRJkiSN1Dh6gLXJzAsjYnlgPeBKYMfMvDUiNgcOBbYDDgNeAvw0IlYCnga8BXh0bVUfAn6dmR+pgmWv77HZ4yIigM2q9ba8LjOviYhVgN9HxOGUIOBXgSdl5kURcd/6iiJid2BHYOdqfS8FHp+Zd0TEfsCuwFnA/TNz62qZezcrVAXc3giw6pprz/CtSZIkSZIkaVTGHgBrWBH4UkRsA9wFbFG9/jPg8xGxMvBM4JeZeUuJYf3Lk4AXAmTmTyPiWrprDYF8IHBsRByfmTcBe0TEC6oyDwA2B9attndRte5raut5NXAJsHMV8HoasC0leAawCiWodwSwWUR8EfgpZdhlm8w8ADgAYO31N8uZvihJkiRJkiSNxtgDYBGxGSXYdSWlF9cVwCMoPa9uBah6hB0PPIPSw+o7o9h2Zl4QEVcAW0XEqsDTgcdm5s3V9u41wyrOBLYBNgIuogy7/EZm/nuzYEQ8oqr/mym9zl43is8gSZIkSZKkpTPWHGARsS6wP/ClzExgLeDvmXk38Cpg+Vrxw4DXAk8Eju6wul8Cr6jW+yzgPn1sfz1gU+Cv1bavrYJfWwKPqYqdCDwpIjatlqkPgTwNeBPwk4jYEDgW2KVaLxFx34jYpJqNcrnMPBzYC3jUTHWTJEmSJEnS7BhHD7BVIuJ0ynDHO4FvAZ+t3tsPODwiXk0Jcv2zttwxVdkfZ+btHdb7YeDQiDgL+C1wcY86HBcRd1V1eH9mXhERRwNvjog/A+dSAl9k5lVVfq4fRMRyVHnKWivKzF9HxHspQxt3pAS4jqnK3gG8DbgF+Hr1GsASPcQkSZIkSZI0GVE6Zmk2rb3+ZvmMV3900tWQJEmSJEn3UId8etdJV2HkIuLUzNyu03tjHQIpSZIkSZIkTZoBMEmSJEmSJE01A2CSJEmSJEmaagbAJEmSJEmSNNUMgEmSJEmSJGmqGQCTJEmSJEnSVDMAJkmSJEmSpKlmAEySJEmSJElTzQCYJEmSJEmSppoBMEmSJEmSJE01A2CSJEmSJEmaagbAJEmSJEmSNNUMgEmSJEmSJGmqGQCTJEmSJEnSVDMAJkmSJEmSpKlmAEySJEmSJElTbYVJV+CeaNON7sshn9510tWQJEmSJEm6R7AHmCRJkiRJkqaaATBJkiRJkiRNNQNgkiRJkiRJmmoGwCRJkiRJkjTVDIBJkiRJkiRpqhkAkyRJkiRJ0lQzACZJkiRJkqSpZgBMkiRJkiRJU80AmCRJkiRJkqaaATBJkiRJkiRNtRUmXYF7opsv/yunfnq3SVdDkiRJkiSNwLZ7fm3SVdAM7AEmSZIkSZKkqWYATJIkSZIkSVPNAJgkSZIkSZKmmgEwSZIkSZIkTTUDYJIkSZIkSZpqBsAkSZIkSZI01QyASZIkSZIkaaoZAJMkSZIkSdJUMwAmSZIkSZKkqWYATJIkSZIkSVPNAJgkSZIkSZKmmgEwSZIkSZIkTTUDYJIkSZIkSZpqBsAkSZIkSZI01QyASZIkSZIkaaoZAJMkSZIkSdJUMwAmSZIkSZKkqTbrAbCIWD8ivhMRF0TEqRFxVERsERHzI+LIPtfxkYh4ep9lF0TEl6r/LxcR34iIgyIihqj7v7YbEe+MiFUHXYckSZIkSZJm1wqzubEq6PRD4BuZ+bLqtUcA9xtgHctn5t5Dbnt/YEXgtZmZg66jsd13At8Gbh50PZIkSZIkSZo9s90D7CnAHZm5f+uFzDwjM39VPV09Ir4fEedExMGtXloRsSgiPhURfwBeHBELI2KX6r1PRsTZEfHHiNi3x7a/AKwNvDoz746IfSLiva03I+JPETGvevw5Ir4aEWdFxDERsUpVZmFE7BIRewAbAsdFxHER8byIOL16nBsRF43yS5MkSZIkSdLwZrUHGLA1cGqP9x8JPBS4DPgN8Hjg19V7/8jMRwFExDOrf9cGXgBsmZkZEffust5XAH8G5mfmnX3Uc3Pg5Zn5hoj4LvAiSm8vADLzCxHxbuApmXl19fJPqjp9Fzihj21IkiRJkiRpFixrSfBPzsy/ZebdwOnAvNp7h3Uofz1wK3BgRLyQ7sMR/wBsAuzQZz0uyszTq/+f2qhHVxGxJ3BLZn65w3tvjIhTIuKUa/95S5/VkCRJkiRJ0tKa7QDYWcC2Pd6/rfb/WieIGgAAIABJREFUu2jvofbPZuGqN9cOwPeBnYCju6z3HOAlwGER8dDqtTtp//z36rMeHVXJ8V8MvLnT+5l5QGZul5nb3We1VWZanSRJkiRJkkZktgNg/wesHBFvbL0QEQ+PiCcOs7KIWB1YKzOPAt4FPKJb2cz8LfAW4MiI2BhYBLSGVD4K2HTAzd8IrFEtvwnwZeDFmWn3LkmSJEmSpGXIrOYAq/J0vQD4XES8jzJ8cRFlRsX7D7HKNYAfR8S9gADePcP2j4iIdSg9xXYEXh0RZwEnAecNuO0DgKMj4jLgeEqC/R9Vefsvy8xnD7g+SZIkSZIkjUFk5qTrcI+z1Ubr5rf2eP6kqyFJkiRJkkZg2z2/NukqCIiIUzNzu07vLWtJ8CVJkiRJkqSRMgAmSZIkSZKkqWYATJIkSZIkSVPNAJgkSZIkSZKmmgEwSZIkSZIkTTUDYJIkSZIkSZpqBsAkSZIkSZI01QyASZIkSZIkaaoZAJMkSZIkSdJUMwAmSZIkSZKkqWYATJIkSZIkSVPNAJgkSZIkSZKmmgEwSZIkSZIkTTUDYJIkSZIkSZpqBsAkSZIkSZI01QyASZIkSZIkaaqtMOkK3BOtuv4mbLvn1yZdDUmSJEmSpHsEe4BJkiRJkiRpqhkAkyRJkiRJ0lQzACZJkiRJkqSpZgBMkiRJkiRJU80AmCRJkiRJkqaaATBJkiRJkiRNNQNgkiRJkiRJmmoGwCRJkiRJkjTVDIBJkiRJkiRpqhkAkyRJkiRJ0lRbYdIVuCdadPUlLPj6OyZdDUmSJEmS1MHC135+0lXQiNkDTJIkSZIkSVPNAJgkSZIkSZKmmgEwSZIkSZIkTTUDYJIkSZIkSZpqBsAkSZIkSZI01QyASZIkSZIkaaoZAJMkSZIkSdJUMwAmSZIkSZKkqWYATJIkSZIkSVPNAJgkSZIkSZKmmgEwSZIkSZIkTTUDYJIkSZIkSZpqBsAkSZIkSZI01QyASZIkSZIkaaoZAJMkSZIkSdJUMwAmSZIkSZKkqWYATJIkSZIkSVNtxgBYRNwVEadHxJ8i4nsRsWqPsvMj4nE93n9eRLy/38pFxKKIWKex/iP7XX7UIuJrEbFVj/cXRMSGs1knSZIkSZIk9dZPD7BbMnObzNwauB14c4+y84GOAbCIWCEzf5KZnxy8msOJiBVGub7M3C0zz+5RZAFgAEySJEmSJGkZMmiA6FfAwyPiucBewErAP4BdgVUowbG7IuKVwNuB1wO3Ao8EfhMRfwS2y8zdI+J+wP7AZtW635KZv+23IhFxX+CgavmbgTdm5h8jYh/ggdXrF0fEucDG1fONgc9l5heqdXwAeA1wJXAJcCpwJPDNzNyhKjMPOCIzHxYRxwPvBU4DDgS2A7KqxyXV84Mj4hbgsZl5S7+fR5IkSZIkSePRdwCs6k31LOBo4NfAYzIzI2I3YM/MfE9E7A/clJn7Vsu8HtgIeFxm3hURC2qr/AJwQma+ICKWB1bvsunjIuKu6v+rA+dU//8wcFpm7hwRTwW+CWxTvbcV8ITMvKUKiG0JPAVYAzg3Iv4H/n979x526TnfC/z7k0HSHCaaaHYQEqTUIRmMYyXiUFVSh0qFrSppu+NUhzaUskvodlaqKMJ2SCWElFIULYIdh2RymokQStKicayERATjt/9Yz8TKaw7vzLzvuybP+/lc11zreZ77fu77t97rWtfK9c393CsHJXn4cM+KJGclObO7v1hV16mqA7r7wiRHJjl5Tk2rktxwWBWXqtqzuy+pqj9N8tTuXjOvPyoAAAAAi24+j0DuUlXnJFmT5D8zWfl0oyQfrqp1SZ6W5Nabuf9d3b1+I9fvleS1SdLd67v70k3cf8/hEcxVSf5k6vrdk/zDcP/HkuxVVXsMbe+bs/rqA919ZXd/N5PVXvskOSTJe7r7R939gyTvm+r/zkyCr2TjAdhXk9y0ql5VVfdL8oNNvvtBVR1TVWuqas2PL7MwDAAAAGCpbM0eYKu6+4nd/ZMkr0ry6u6+bZLHJNl5M/dfvhCFbqW5c145dbw+W175dnKSh1XVryfp7v7ydGN3fz/JwUlOzeSxzzduqaDuPr67V3f36p1322VL3QEAAABYIPMJwDZmZZJvDMePnrr+w0weM5yPjyZ5XJJU1U5VtXIra/hUJnuPpaoOS/LdYSXXfH0yyYOrapeq2j3J725o6O6vZBKU/VV+efVXhl+mvFZ3/2Mme6HdfmjamvcPAAAAwBLY1gDsuCTvqqozk3x36vo/J3lIVZ1TVYdsYYwnJ7nn8BjlmZns27W1Ndxh2Fj/Rbl6ELdF3X1WJuHWuUn+JckZc7qcnOQPMnkccq4bJjl1eDT0bUn+crj+liSvG96/ZV4AAAAAO4Dq7lnXsEMYNsu/agP/xbT3/vv04c95+GJPAwAAAGyDtxz9ylmXwDaoqjO7e/XG2rZ1BRgAAAAAXCNsaTP4ZaO7j5t1DQAAAAAsPCvAAAAAABg1ARgAAAAAoyYAAwAAAGDUBGAAAAAAjJoADAAAAIBRE4ABAAAAMGoCMAAAAABGTQAGAAAAwKgJwAAAAAAYNQEYAAAAAKMmAAMAAABg1ARgAAAAAIyaAAwAAACAUROAAQAAADBqAjAAAAAARm3FrAtYjvbfe7+85ehXzroMAAAAgGXBCjAAAAAARk0ABgAAAMCoCcAAAAAAGDUBGAAAAACjJgADAAAAYNQEYAAAAACMmgAMAAAAgFETgAEAAAAwagIwAAAAAEZNAAYAAADAqK2YdQHL0aUXXpQP/uHRsy4DAACAa5D7n/DmWZcA11hWgAEAAAAwagIwAAAAAEZNAAYAAADAqAnAAAAAABg1ARgAAAAAoyYAAwAAAGDUBGAAAAAAjJoADAAAAIBRE4ABAAAAMGoCMAAAAABGTQAGAAAAwKgJwAAAAAAYNQEYAAAAAKMmAAMAAABg1ARgAAAAAIyaAAwAAACAUROAAQAAADBqWwzAqmqvqjpn+PfNqvrG1Pl1lqLITdS1Z1V9r6pqOL9rVXVV3Wg4X1lV/11V16qqD1bVngs8//5Vdd5CjgkAAADAwluxpQ7d/b0kq5Kkqo5Lcll3v2yR69qi7r6kqi5O8htJzk9ytyRnD6/vTHKXJKd398+T3H9mhQIAAAAwU9v0CGRV3buqzq6qdVX1pqq67nD9oqp64bA6bE1V3b6qPlxVX6mqxw59DquqT1TVe6vqq1X1oqp6ZFWdPox3s6ravaourKprD/fsMX0+5dOZBF4ZXl8x5/y0qbr2HlZtfaGq3lBVn6+qj1TVLkOfO1bV2qH2l25Y3VVVOw3nZwztj9nI3+PWQ/3nDH0O3Ja/KwAAAAALb1sCsJ2TvCXJkd1920xWkT1uqv0/u3tVkk8N/Y7IZDXWc6f6HJzksZms3npUkl/v7jsleWOSJ3b3D5OcmuQBQ/+HJ3l3d/90Ti2n5ReB102TvCvJ6uH8bpkEZHMdmOQ13X3rJJckeehw/c1JHjPUvn6q/x8nubS775jkjkn+V1UdMGfMxyZ55XDv6iRfnztpVR0zhIJrLr3yxxspCwAAAIDFsC0B2E5JLuzuLw3nb01y6FT7+4bXdUk+190/7O7vJLlyah+uM7r74u6+MslXknxk6p79h+M3Jjl6OD46k4Bqrk8nudsQSF3U3T9OUlW1W5I7JPncRu65sLvPGY7PTLL/UNfu3f2Z4fpJU/3vm+QPq+qcYby9MgnRpn0myTOr6ulJbtLdV8ydtLuP7+7V3b165XV33khZAAAAACyGxfgVyCuH159PHW84XzGnz9x+V/Xp7tMyCacOS7JTd//ShvPd/eUkeyb53UxCqGQSah2dSSB22WbqSyYrvba0D1plsipt1fDvgO7+yHSH7j4pyQOTXJHkg1V1ry2MCQAAAMAS2ZYAbH0mwdTNh/NHJfnEwpV0NSdkshprY6u/NvhskifnFwHYZ5I8JcP+X/PR3Zck+WFV3Xm49PCp5g8nedzUfmS/XlW7Tt9fVTdN8tXu/rsk701y0HznBgAAAGBxbUsA9uNMVli9q6rWZbJq63ULWtUvnJjkeknevpk+pyXZL8ma4fwzmewHtrH9vzbnj5O8YXjUcdcklw7X35jJr0yeNWyM//r88qqxhyU5b7j3NpkEdwAAAADsAKq7Z13DJlXVEUke1N2PWoK5dtvwyGRVPSPJvt395MWY68C99u5XPuB3F2NoAAAARur+J2zu4Sigqs7s7tUba9vS/lczU1WvSvI7Se6/RFM+oKr+MpO/yX8kOWqJ5gUAAABgEe2wAVh3P3GJ5zs5yclLOScAAAAAi28xfgUSAAAAAHYYAjAAAAAARk0ABgAAAMCoCcAAAAAAGDUBGAAAAACjJgADAAAAYNQEYAAAAACMmgAMAAAAgFETgAEAAAAwagIwAAAAAEZNAAYAAADAqAnAAAAAABg1ARgAAAAAoyYAAwAAAGDUVsy6gOVo5QH75/4nvHnWZQAAAAAsC1aAAQAAADBqAjAAAAAARk0ABgAAAMCoCcAAAAAAGDUBGAAAAACjJgADAAAAYNQEYAAAAACMmgAMAAAAgFETgAEAAAAwagIwAAAAAEZtxawLWI4u/sb384JnnTLrMgAAALgGeebzj5h1CXCNZQUYAAAAAKMmAAMAAABg1ARgAAAAAIyaAAwAAACAUROAAQAAADBqAjAAAAAARk0ABgAAAMCoCcAAAAAAGDUBGAAAAACjJgADAAAAYNQEYAAAAACMmgAMAAAAgFETgAEAAAAwagIwAAAAAEZNAAYAAADAqAnAAAAAABg1ARgAAAAAo7ZiMQatqr2SfHQ4/R9J1if5znB+p+7+yXaO/5Yk90hyaZKdk7y9u5+7PWMCAAAAME6LEoB19/eSrEqSqjouyWXd/bIN7VW1ort/tp3TPK27T6mqnZOcX1UndPeF0x2qaqfuXr+d82y1BXp/AAAAACyAJXsEsqreUlWvq6rPJXlJVa2qqs9W1dqqek9VXa+qblZVZ03dc+D0+SbsPLxePtxzUVW9eLjv96vqEVW1rqrOq6oXT4192dTxEUN9O1XVhTWxZ1Wtr6pDhz6fHOrZtareVFWnV9XZVfWgof2oqnpfVX0sv1j9BgAAAMCMLfUeYDdKcrfu/vMkJyR5encflGRdkud091eSXFpVq4b+Ryd58ybGemlVnZPk60ne0d3fnmr7XnffPsknk7w4yb0yWZF2x6p68KaKG1aLXZDkVknunuSsJIdU1XWT7NfdX07yrCQf6+47JbnnUMeuwxC3T3JEd99jK/4mAAAAACyipQ7A3tXd66tqZZI9u/sTw/W3Jjl0OH5jkqOraqckRyY5aRNjPa27V2Wyx9i9q+puU20nD693THJqd39neCTxxKl5NuVTQ59Dk7wwkyDsjknOGNrvm+QZQ/h2aiYr0G48tP1rd//3xgatqmOqak1Vrbn8Rz/YQgkAAAAALJSlDsAun0eff0zyO0kOT3LmsJ/YJnX3ZZkEUXffynl66njnqeNPJjkkyZ2SfDDJnkkOyyQYS5JK8tDuXjX8u3F3f2FL83b38d29urtX7/ore8yjPAAAAAAWwlIHYEmS7r40yfer6pDh0qOSfGJo+3GSDyd5bTb9+ONVqmpFkjsn+cpGmk9Pco+q2ntYUfaIDfMk+VZV/UZVXSvJQ+bcc7ckPx9qOSfJYzIJxjLU9sSqqmH+283vXQMAAAAwCzMJwAaPzmT/rLWZ7M/1vKm2E5P8PMlHNnP/hj3A1mayh9i753bo7ouTPCPJx5Ocm8mKsvcOzc9I8v4kn05y8dQ9Vyb5WpLPDpc+lWT3YY4k+esk106ytqo+P5wDAAAAsIOq7t5yryVWVU9NsrK7/2rWtSyGG+57s37CH714yx0BAABg8MznHzHrEmCHVlVndvfqjbWtWOpitqSq3pPkZpn8ciMAAAAAbJcdLgDr7odsuRcAAAAAzM8s9wADAAAAgEUnAAMAAABg1ARgAAAAAIyaAAwAAACAUROAAQAAADBqAjAAAAAARk0ABgAAAMCoCcAAAAAAGDUBGAAAAACjJgADAAAAYNQEYAAAAACMmgAMAAAAgFETgAEAAAAwagIwAAAAAEZNAAYAAADAqK2YdQHL0b43vF6e+fwjZl0GAAAAwLJgBRgAAAAAoyYAAwAAAGDUBGAAAAAAjJoADAAAAIBRE4ABAAAAMGoCMAAAAABGTQAGAAAAwKgJwAAAAAAYNQEYAAAAAKO2YtYFLEff+sZ/5OV/+ZhZlwEAALBd/vyFr591CQDzYgUYAAAAAKMmAAMAAABg1ARgAAAAAIyaAAwAAACAUROAAQAAADBqAjAAAAAARk0ABgAAAMCoCcAAAAAAGDUBGAAAAACjJgADAAAAYNQEYAAAAACMmgAMAAAAgFETgAEAAAAwagIwAAAAAEZNAAYAAADAqAnAAAAAABg1ARgAAAAAo7ZNAVhVra+qc6rq3Ko6q6ruttCFDfMcVlXvX6CxTq2qC6pqbVV9sapeXVV7TrV/enjdv6rOW+j5AQAAAJiNbV0BdkV3r+rug5P8ZZIXzu1QVSu2q7LF8cjuPijJQUmuTPLeDQ3dvSghHgAAAACztRCPQO6R5PvJVSumPlVV70tyflXtVFUvraozhpVXj5nqd2pVnTKsxjqxqmpou99w7awkv7dhkqratareVFWnV9XZVfWg4fpRVfXuqvpQVX25ql6ypYK7+ydJ/iLJjavq4GGcyzZ3T1X9alX90/A+PltVBw3XjxvqOrWqvlpVT9qGvyEAAAAAi2RbV2ntUlXnJNk5yb5J7jXVdvskt+nuC6vqmCSXdvcdq+q6SU6rqo8M/W6X5NZJ/ivJaUl+s6rWJHnDMN6/Jzl5atxnJflYd//R8Oji6VX1b0PbqmG8K5NcUFWv6u6vbe4NdPf6qjo3yS2TnDuP9/zcJGd394Or6l5JThjmzTDGPZPsPsz/2u7+6TzGBAAAAGCRbWsAdkV3r0qSqrprkhOq6jZD2+ndfeFwfN8kB1XVEcP5yiQHJvnJ0O/rwxjnJNk/yWVJLuzuLw/X35bkmKmxHlhVTx3Od05y4+H4o9196XDP+UlukmSzAdigtuI93z3JQ5Okuz9WVXtV1R5D2we6+8okV1bVt5Psk+TrV5toEgYekyTX22O3rZgWAAAAgO2x3ft0dfdnqmrvJNcfLl0+1VxJntjdH56+p6oOy2S11gbr51FLJXlod18wZ6w7b8NYqaqdktw2yRe21Hcetjh/dx+f5Pgk2W/f6/cCzAkAAADAPGz3HmBVdcskOyX53kaaP5zkcVV17aHvr1fVrpsZ7otJ9q+qmw3nj5gz1hOn9gq73XbUfO1MNu7/Wnevnedtn0ryyOH+w5J8t7t/sK01AAAAALA0tncPsGSyMuvRw55ac/u9MZNHG88agqvvJHnwpgbt7h8Pjwp+oKp+lEnotPvQ/NdJ/jbJ2qq6VpILkxy+lXWfWFVXJrlukn9L8qCtuPe4JG+qqrVJfpTk0Vs5NwAAAAAzUN2exltq++17/f6zo35vyx0BAAB2YH/+wtfPugSAq1TVmd29emNt2/0IJAAAAADsyARgAAAAAIyaAAwAAACAUROAAQAAADBqAjAAAAAARk0ABgAAAMCoCcAAAAAAGDUBGAAAAACjJgADAAAAYNQEYAAAAACMmgAMAAAAgFETgAEAAAAwagIwAAAAAEZNAAYAAADAqAnAAAAAABg1ARgAAAAAoyYAAwAAAGDUVsy6gOVonxveJH/+wtfPugwAAACAZcEKMAAAAABGTQAGAAAAwKgJwAAAAAAYNQEYAAAAAKMmAAMAAABg1ARgAAAAAIyaAAwAAACAUROAAQAAADBqAjAAAAAARk0ABgAAAMCorZh1AcvRFd/5Yc79+1NnXQYAAHANdfDjD5t1CQDXKFaAAQAAADBqAjAAAAAARk0ABgAAAMCoCcAAAAAAGDUBGAAAAACjJgADAAAAYNQEYAAAAACMmgAMAAAAgFETgAEAAAAwagIwAAAAAEZNAAYAAADAqAnAAAAAABg1ARgAAAAAoyYAAwAAAGDUBGAAAAAAjJoADAAAAIBRE4ABAAAAMGozC8CqqqvqbVPnK6rqO1X1/i3ct6qq7j91flhV3W0TfY8a5rnP1LUHD9eO2Mp6H1xVt5o6f970uAAAAADsmGa5AuzyJLepql2G899K8o153Lcqyf2nzg9LstEAbLAuycOnzh+R5Nz5lzkJ55I8OMlVAVh3P7u7/21rxgEAAABg6c36EcgPJnnAcPyIJG/f0FBVd6qqz1TV2VX16aq6RVVdJ8nzkhxZVedU1dOTPDbJnw3nh2xkjk8luVNVXbuqdkty8yTnTM3z7Ko6o6rOq6rjq6qG66dW1d9W1ZokT0/ywCQvHea5WVW9ZcMqsqq6qKqeW1VnVdW6qrrlQv+hAAAAANg2K2Y8/zuSPHt47PGgJG9KsiHE+mKSQ7r7Z8Ojhi/o7odW1bOTrO7uP02SYQXZZd39sk3M0Un+LclvJ1mZ5H1JDphqf3V3P28Y6x+SHJ7kn4e263T36qHtwCTv7+5ThvO583y3u29fVY9P8tQkf7L1fw4AAAAAFtpMV4B199ok+2ey+uuDc5pXJnlXVZ2X5BVJbr0dU70jk8cgH56pVWaDe1bV56pqXZJ7zZnn5K2Y493D65mZvKerqapjqmpNVa35/mWXbsWwAAAAAGyPWT8CmUxWZL0svxxM/XWSj3f3bZL8bpKdt3WC7j49yW2T7N3dX9pwvap2TvL3SY7o7tsmecOceS7fimmuHF7XZyMr67r7+O5e3d2rr7fbyq19CwAAAABso1k/AplMHnu8pLvXVdVhU9dX5heb4h81df2HSXafc77HPOZ5RpIfz7m2Iez67rA/2BFJTtnE/XPnBQAAAOAaYOYrwLr76939dxtpekmSF1bV2bl6UPfxJLcaNqM/MpP9uh6ymU3wN8zzL9398TnXLslk1dd5ST6c5IzNlPqOJE8bNuW/2bzeHAAAAAAzV9096xqWnVvf5BZ90tNfP+syAACAa6iDH3/YrEsA2OFU1ZkbfsxwrpmvAAMAAACAxSQAAwAAAGDUBGAAAAAAjJoADAAAAIBRE4ABAAAAMGoCMAAAAABGTQAGAAAAwKgJwAAAAAAYNQEYAAAAAKMmAAMAAABg1ARgAAAAAIyaAAwAAACAUROAAQAAADBqAjAAAAAARk0ABgAAAMCoCcAAAAAAGLUVsy5gOdrl+rvn4McfNusyAAAAAJYFK8AAAAAAGDUBGAAAAACjJgADAAAAYNQEYAAAAACMmgAMAAAAgFETgAEAAAAwagIwAAAAAEZNAAYAAADAqAnAAAAAABg1ARgAAAAAo7Zi1gUsR9/61rfyN3/zN7MuAwAAWETHHnvsrEsAYGAFGAAAAACjJgADAAAAYNQEYAAAAACMmgAMAAAAgFETgAEAAAAwagIwAAAAAEZNAAYAAADAqAnAAAAAABg1ARgAAAAAoyYAAwAAAGDUBGAAAAAAjJoADAAAAIBRE4ABAAAAMGoCMAAAAABGTQAGAAAAwKgJwAAAAAAYNQEYAAAAAKO2qAFYVa2vqnOq6ryq+ueq2nMx55tnTUdV1XeGus6vqv+1hf6nVtXqLfS5qKr2XthKAQAAAFgIi70C7IruXtXdt0ny30mesMjzzdfJ3b0qyWFJXlBV+8y4HgAAAAAWyVI+AvmZJDdMkqpaVVWfraq1VfWeqrrecP3UqnpFVa2pqi9U1R2r6t1V9eWq+j8bBqqqf6qqM6vq81V1zNT1y6rq+VV17jD+ZoOt7v52kq8kuUlV3buqzq6qdVX1pqq67tz+VfXaobbPV9VzN9K+S1X9y5ZWlQEAAACwdJYkAKuqnZLcO8n7hksnJHl6dx+UZF2S50x1/0l3r07yuiTvzWTV2G2SHFVVew19/qi775BkdZInTV3fNclnu/vgJJ9MsqXHG2+a5KZJvp7kLUmO7O7bJlmR5HEbueVZQ20HJblHVR001bZbkn9O8vbufsPm5gUAAABg6Sx2ALZLVZ2T5JtJ9knyr1W1Msme3f2Joc9bkxw6dc+GkGxdks9398XdfWWSrybZb2h7UlWdm+Szw7UDh+s/SfL+4fjMJPtvoq4jh7renuQxSa6f5MLu/tImatrgYVV1VpKzk9w6ya2m2t6b5M3dfcLGJqyqY4bVY2suv/zyTZQFAAAAwEJbkj3AktwkSWV+e4BdObz+fOp4w/mKqjosyX2S3HVY6XV2kp2HPj/t7h6O12eykmtjTh72Jrtzd79nPm+kqg5I8tQk9x5Wrn1gat4kOS3J/aqqNnZ/dx/f3au7e/Wuu+46nykBAAAAWABL8ghkd/8oyZOSHJvk8iTfr6pDhuZHJfnEpu7diJVJvt/dP6qqWya5ywKUeEGS/avq5pupaY9Mar902Fvsd+a0PzvJ95O8ZgHqAQAAAGCBLNkm+N19dpK1SR6R5NFJXlpVa5OsSvK8rRjqQ5msBPtCkhdl8hjk9tb24yRHJ3lXVa3LZLXZ6+b0OTeT1WZfTHJSJiu+5npyJo99vmR7awIAAABgYdQvnhhkqey33379lKc8ZdZlAAAAi+jYY4+ddQkAy0pVnTn8eOEvWbIVYAAAAAAwCwIwAAAAAEZNAAYAAADAqAnAAAAAABg1ARgAAAAAoyYAAwAAAGDUBGAAAAAAjJoADAAAAIBRE4ABAAAAMGoCMAAAAABGTQAGAAAAwKgJwAAAAAAYNQEYAAAAAKMmAAMAAABg1ARgAAAAAIyaAAwAAACAUROAAQAAADBqK2ZdwHK0zz775Nhjj511GQAAAADLghVgAAAAAIyaAAwAAACAUROAAQAAADBqAjAAAAAARk0ABgAAAMCoCcAAAAAAGDUBGAAAAACjJgADAAAAYNQEYAAAAACMmgAMAAAAgFFbMesClqPLLv2vfPL9x826DAAAYCuQZR6NAAAPl0lEQVQdevhxsy4BgG1gBRgAAAAAoyYAAwAAAGDUBGAAAAAAjJoADAAAAIBRE4ABAAAAMGoCMAAAAABGTQAGAAAAwKgJwAAAAAAYNQEYAAAAAKMmAAMAAABg1ARgAAAAAIyaAAwAAACAUROAAQAAADBqAjAAAAAARk0ABgAAAMCoCcAAAAAAGLWZBGBVddkCjHFRVa2rqrVV9ZGq+h8LUdsw9mFV9f6tba+qB1bVMxaqDgAAAAC23zV9Bdg9u/ugJGuSPHPWxXT3+7r7RbOuAwAAAIBfmFkAVhMvrarzhpVcR061Pa2qzhhWdz13HsN9MsnNq+pOVfWZqjq7qj5dVbcYxvtsVd16avxTq2p1Ve1aVW+qqtOHex60kTrvUVXnDP/Orqrd57Tfcbh+s6o6qqpeve1/FQAAAAAW2ixXgP1eklVJDk5ynyQvrap9q+q+SQ5Mcqeh/Q5VdegWxjo8ybokX0xySHffLsmzk7xgaD85ycOSpKr2TbJvd69J8qwkH+vuOyW551DDrnPGfmqSJ3T3qiSHJLliQ0NV3S3J65I8qLu/sg1/AwAAAAAW2YoZzn33JG/v7vVJvlVVn0hyxySHJrlvkrOHfrtlEoh9ciNjfLyq1idZm+R/J1mZ5K1VdWCSTnLtod87k3wkyXMyCcJOGa7fN8kDq+qpw/nOSW48Z47Tkry8qk5M8u7u/npVJclvJDk+yX27+7+29Gar6pgkxyTJPtdfuaXuAAAAACyQWQZgm1JJXtjdr59H33t293evurHqb5N8vLsfUlX7Jzk1Sbr7G1X1vao6KMmRSR47NddDu/uCqxVQtc+G4+5+UVV9IMn9k5xWVb89NF2cSWB2uyRbDMC6+/hMArPc8sAb9DzeGwAAAAALYJaPQH4qyZFVtVNVXT+TlV+nJ/lwkj+qqt2SpKpuWFW/Ns8xVyb5xnB81Jy2k5P8RZKV3b12uPbhJE+sYUlXVd1u7oBVdbPuXtfdL05yRpJbDk2XJHlAkhdW1WHzrA8AAACAJbbkAVhVrUhyZZL3ZPLo4rlJPpbkL7r7m939kSQnJflMVa3L5HHF3Tc13hwvySSQOju/vLrtlCQPz+RxyA3+OpPHJNdW1eeH87meMmzUvzbJT5P8y4aG7v5WJvuPvaaq7jzPGgEAAABYQtW9tE/jVdXBSd4wbDy/LN3ywBv08a84ZtZlAAAAW+nQw4+bdQkAbEJVndndqzfWtqQrwKrqsUnensmG9QAAAACw6JZ0E/zufl2S1y3lnAAAAAAsb7PcBB8AAAAAFp0ADAAAAIBRE4ABAAAAMGoCMAAAAABGTQAGAAAAwKgJwAAAAAAYNQEYAAAAAKMmAAMAAABg1ARgAAAAAIyaAAwAAACAUROAAQAAADBqAjAAAAAARk0ABgAAAMCoCcAAAAAAGDUBGAAAAACjtmLWBSxHu628QQ49/LhZlwEAAACwLFgBBgAAAMCoCcAAAAAAGDUBGAAAAACjJgADAAAAYNQEYAAAAACMmgAMAAAAgFETgAEAAAAwagIwAAAAAEZNAAYAAADAqAnAAAAAABi1FbMuYDn62iU/zJ+/5xOzLgMAAEbp5Q+5x6xLAGAHYwUYAAAAAKMmAAMAAABg1ARgAAAAAIyaAAwAAACAUROAAQAAADBqAjAAAAAARk0ABgAAAMCoCcAAAAAAGDUBGAAAAACjJgADAAAAYNQEYAAAAACMmgAMAAAAgFETgAEAAAAwagIwAAAAAEZNAAYAAADAqAnAAAAAABg1ARgAAAAAo7ZVAVhVra+qc6rq81V1blUdW1WbHaOqblBVp8xj7A9W1Z5bU89Gxnj+UN+Gf18aat5tM/fsX1Xnbc+8AAAAAOy4Vmxl/yu6e1WSVNWvJTkpyR5JnrOpG7r7v5IcsaWBu/v+W1nLxsZ4VpJnbTivqhOTvLO7L9vesatqp+5ev73jAAAAALC0tvkRyO7+dpJjkvxpTexfVZ+qqrOGf3dLrr7CqqqOqqp3V9WHqurLVfWSDeNV1UVVtffcFVlV9dSqOm44flJVnV9Va6vqHZurr6r+IMnNk2y497iqeupU+3lVtf9wuqKqTqyqL1TVKVX1K1M1vbiqzkry+1V1alWtHtr2rqqLhuNbV9Xpw6qztVV14Lb+XQEAAABYWFu7AuxquvurVbVTkl9L8u0kv9XdPx4CoLcnWb2R21YluV2SK5NcUFWv6u6vzXPKZyQ5oLuv3NzjkkOw9aIkh3X3z+Yx7i2S/HF3n1ZVb0ry+CQvG9q+1923H8Z97Cbuf2ySV3b3iVV1nSQ7zevdAAAAALDoFnIT/GsneUNVrUvyriS32kS/j3b3pd394yTnJ7nJVsyxNsmJw+qujQZbQyD3tiR/1d3/Ps9xv9bdpw3Hb0ty96m2k+dx/2eSPLOqnp7kJt19xUbqOqaq1lTVmit+cOk8ywIAAABge21XAFZVN02yPpPVX3+W5FtJDs5k5dd1NnHblVPH6/PLq9B+NqeunaeOH5DkNUlun+SMqtrYCrb/neTi7n7zVozbc/pOn1++iTGuur+7T0rywCRXJPlgVd1rblHdfXx3r+7u1bvssXIjZQMAAACwGLY5AKuq6yd5XZJXd3cnWZlJ8PTzJI/Ktj8G+K0kv1ZVe1XVdZMcPsx3rST7dffHkzx9mO9qv+5YVXdJclQme5PNdVEmwVmq6vZJDphqu3FV3XU4/p9J/t8marsoyR2G46s29h+CwK92998leW+Sg+bxPgEAAABYAlu7B9guVXVOJo87/izJPyR5+dD290n+sar+MMmHcvWVU/PW3T+tquclOT3JN5J8cWjaKcnbqmplkkryd919yZzbn5vkV5J8vKqmrz80yT8m+cOq+nySzyX50lT7BUmeMOz/dX6S126ivJcleWdVHZPkA1PXH5bkUVX10yTfTPKCrXjLAAAAACyimizeYintc/Nb9CNfevysywAAgFF6+UPuMesSAJiBqjqzuzf2g4wLugk+AAAAAOxwBGAAAAAAjJoADAAAAIBRE4ABAAAAMGoCMAAAAABGTQAGAAAAwKgJwAAAAAAYNQEYAAAAAKMmAAMAAABg1ARgAAAAAIyaAAwAAACAUROAAQAAADBqAjAAAAAARk0ABgAAAMCoCcAAAAAAGDUBGAAAAACjtmLWBSxH++25e17+kHvMugwAAACAZcEKMAAAAABGTQAGAAAAwKgJwAAAAAAYNQEYAAAAAKMmAAMAAABg1Kq7Z13DslNVP0xywazrAK6yd5LvzroI4Co+k7Dj8HmEHYvPJGzeTbr7+htrWLHUlZAkuaC7V8+6CGCiqtb4TMKOw2cSdhw+j7Bj8ZmEbecRSAAAAABGTQAGAAAAwKgJwGbj+FkXAFyNzyTsWHwmYcfh8wg7Fp9J2EY2wQcAAABg1KwAAwAAAGDUBGBLrKruV1UXVNW/V9UzZl0PLCdVtV9Vfbyqzq+qz1fVk4frv1pV/1pVXx5erzfrWmE5qaqdqursqnr/cH5AVX1u+K48uaquM+saYbmoqj2r6pSq+mJVfaGq7up7Emajqv5s+G/W86rq7VW1s+9I2HYCsCVUVTsleU2S30lyqySPqKpbzbYqWFZ+luTY7r5VkrskecLwGXxGko9294FJPjqcA0vnyUm+MHX+4iSv6O6bJ/l+kj+eSVWwPL0yyYe6+5ZJDs7ks+l7EpZYVd0wyZOSrO7u2yTZKcnD4zsStpkAbGndKcm/d/dXu/snSd6R5EEzrgmWje6+uLvPGo5/mMl/1N8wk8/hW4dub03y4NlUCMtPVd0oyQOSvHE4ryT3SnLK0MVnEpZIVa1McmiS/5sk3f2T7r4kvidhVlYk2aWqViT5lSQXx3ckbDMB2NK6YZKvTZ1/fbgGLLGq2j/J7ZJ8Lsk+3X3x0PTNJPvMqCxYjv42yV8k+flwvleSS7r7Z8O570pYOgck+U6SNw+PJb+xqnaN70lYct39jSQvS/KfmQRflyY5M74jYZsJwIBlp6p2S/KPSZ7S3T+YbuvJT+P6eVxYAlV1eJJvd/eZs64FSDJZbXL7JK/t7tsluTxzHnf0PQlLY9hr70GZBNM3SLJrkvvNtCi4hhOALa1vJNlv6vxGwzVgiVTVtTMJv07s7ncPl79VVfsO7fsm+fas6oNl5jeTPLCqLspkW4B7ZbL/0J7D4x6J70pYSl9P8vXu/txwfkomgZjvSVh690lyYXd/p7t/muTdmXxv+o6EbSQAW1pnJDlw+OWO62SyieH7ZlwTLBvD3kL/N8kXuvvlU03vS/Lo4fjRSd671LXBctTdf9ndN+ru/TP5TvxYdz8yyceTHDF085mEJdLd30zytaq6xXDp3knOj+9JmIX/THKXqvqV4b9hN3wefUfCNqrJKmaWSlXdP5P9TnZK8qbufv6MS4Jlo6runuRTSdblF/sNPTOTfcDemeTGSf4jycO6+79nUiQsU1V1WJKndvfhVXXTTFaE/WqSs5P8QXdfOcv6YLmoqlWZ/CjFdZJ8NcnRmfxPc9+TsMSq6rlJjszkl8zPTvInmez55TsStoEADAAAAIBR8wgkAAAAAKMmAAMAAABg1ARgAAAAAIyaAAwAAACAUROAAQAAADBqAjAAgGWkqt5SVWu20Ker6k+nzo+pqgcvfnUAAItjxawLAABgh3PXJBdOnR+T5Lwk/zSbcgAAto8ADACAq+nuz866BgCAheQRSACAZaiqfquq1lbV5VX1/6rq1lNtVz0CWVWnJrlDkkcP17uqjhraHlhVZw5jfL+qPldV95jF+wEA2BwBGADA8nPjJC9N8vwkj0jya0lOrqraSN/HJ/likg9m8mjkXZN8oKpuluSUJB9L8rtJHpnk/Ul+ddGrBwDYSh6BBABYfn41yW9295eTpKquleQ9SW6RSdh1le4+v6ouT/Kd6Ucjh5VeP+zup011/+CiVw4AsA2sAAMAWH4u2hB+Dc4fXm+0FWOsS7Kyqt5aVfetql0XrjwAgIUlAAMAWH4umXP+k+F15/kO0N0XJHlQkptmsvLru1V1UlVdf2FKBABYOAIwAAC2SXd/oLsPSbJXkj9Ocp8kr5ptVQAAv8weYAAAbMlPspnVYd19aZKThn3B7rpkVQEAzJMADACALflikt+uqt9O8r0kFyY5IpOw60NJ/ivJgUl+P8kJsyoSAGBTBGAAAGzJ/0ly4yTvTLJHkqOTrE3ywCQvz+RXJS9O8oYkz55RjQAAm1TdPesaAAAAAGDR2AQfAAAAgFETgAEAAAAwagIwAAAAAEZNAAYAAADAqAnAAAAAABg1ARgAAAAAoyYAAwAAAGDUBGAAAAAAjJoADAAAAIBR+/+9ekwT8s/rXAAAAABJRU5ErkJggg==\n",
                "text/plain": "<Figure size 1440x720 with 1 Axes>"
              }
            ],
            "_view_module": "@jupyter-widgets/output",
            "_model_module_version": "1.0.0",
            "_view_count": null,
            "_view_module_version": "1.0.0",
            "layout": "IPY_MODEL_8ab7be211dc04cb58c054219cbb82cbe",
            "_model_module": "@jupyter-widgets/output"
          }
        },
        "17c57da96b82450d88cbc18c2d3a5e63": {
          "model_module": "@jupyter-widgets/controls",
          "model_name": "DescriptionStyleModel",
          "state": {
            "_view_name": "StyleView",
            "_model_name": "DescriptionStyleModel",
            "description_width": "",
            "_view_module": "@jupyter-widgets/base",
            "_model_module_version": "1.5.0",
            "_view_count": null,
            "_view_module_version": "1.2.0",
            "_model_module": "@jupyter-widgets/controls"
          }
        },
        "bfa970eaf0304d08b1d3719685e90f70": {
          "model_module": "@jupyter-widgets/base",
          "model_name": "LayoutModel",
          "state": {
            "_view_name": "LayoutView",
            "grid_template_rows": null,
            "right": null,
            "justify_content": null,
            "_view_module": "@jupyter-widgets/base",
            "overflow": null,
            "_model_module_version": "1.2.0",
            "_view_count": null,
            "flex_flow": null,
            "width": null,
            "min_width": null,
            "border": null,
            "align_items": null,
            "bottom": null,
            "_model_module": "@jupyter-widgets/base",
            "top": null,
            "grid_column": null,
            "overflow_y": null,
            "overflow_x": null,
            "grid_auto_flow": null,
            "grid_area": null,
            "grid_template_columns": null,
            "flex": null,
            "_model_name": "LayoutModel",
            "justify_items": null,
            "grid_row": null,
            "max_height": null,
            "align_content": null,
            "visibility": null,
            "align_self": null,
            "height": null,
            "min_height": null,
            "padding": null,
            "grid_auto_rows": null,
            "grid_gap": null,
            "max_width": null,
            "order": null,
            "_view_module_version": "1.2.0",
            "grid_template_areas": null,
            "object_position": null,
            "object_fit": null,
            "grid_auto_columns": null,
            "margin": null,
            "display": null,
            "left": null
          }
        },
        "5f48ba9f771f4ee39634fb35dd12ec01": {
          "model_module": "@jupyter-widgets/controls",
          "model_name": "DescriptionStyleModel",
          "state": {
            "_view_name": "StyleView",
            "_model_name": "DescriptionStyleModel",
            "description_width": "",
            "_view_module": "@jupyter-widgets/base",
            "_model_module_version": "1.5.0",
            "_view_count": null,
            "_view_module_version": "1.2.0",
            "_model_module": "@jupyter-widgets/controls"
          }
        },
        "e2a1f47165344555aec288b4eafbd4e1": {
          "model_module": "@jupyter-widgets/base",
          "model_name": "LayoutModel",
          "state": {
            "_view_name": "LayoutView",
            "grid_template_rows": null,
            "right": null,
            "justify_content": null,
            "_view_module": "@jupyter-widgets/base",
            "overflow": null,
            "_model_module_version": "1.2.0",
            "_view_count": null,
            "flex_flow": null,
            "width": null,
            "min_width": null,
            "border": null,
            "align_items": null,
            "bottom": null,
            "_model_module": "@jupyter-widgets/base",
            "top": null,
            "grid_column": null,
            "overflow_y": null,
            "overflow_x": null,
            "grid_auto_flow": null,
            "grid_area": null,
            "grid_template_columns": null,
            "flex": null,
            "_model_name": "LayoutModel",
            "justify_items": null,
            "grid_row": null,
            "max_height": null,
            "align_content": null,
            "visibility": null,
            "align_self": null,
            "height": null,
            "min_height": null,
            "padding": null,
            "grid_auto_rows": null,
            "grid_gap": null,
            "max_width": null,
            "order": null,
            "_view_module_version": "1.2.0",
            "grid_template_areas": null,
            "object_position": null,
            "object_fit": null,
            "grid_auto_columns": null,
            "margin": null,
            "display": null,
            "left": null
          }
        },
        "aa7fba2b4e2f42a2aab6562d74f6bacb": {
          "model_module": "@jupyter-widgets/controls",
          "model_name": "DescriptionStyleModel",
          "state": {
            "_view_name": "StyleView",
            "_model_name": "DescriptionStyleModel",
            "description_width": "",
            "_view_module": "@jupyter-widgets/base",
            "_model_module_version": "1.5.0",
            "_view_count": null,
            "_view_module_version": "1.2.0",
            "_model_module": "@jupyter-widgets/controls"
          }
        },
        "6ca4417b53f64f1bb4111fabdc6ef2d2": {
          "model_module": "@jupyter-widgets/base",
          "model_name": "LayoutModel",
          "state": {
            "_view_name": "LayoutView",
            "grid_template_rows": null,
            "right": null,
            "justify_content": null,
            "_view_module": "@jupyter-widgets/base",
            "overflow": null,
            "_model_module_version": "1.2.0",
            "_view_count": null,
            "flex_flow": null,
            "width": null,
            "min_width": null,
            "border": null,
            "align_items": null,
            "bottom": null,
            "_model_module": "@jupyter-widgets/base",
            "top": null,
            "grid_column": null,
            "overflow_y": null,
            "overflow_x": null,
            "grid_auto_flow": null,
            "grid_area": null,
            "grid_template_columns": null,
            "flex": null,
            "_model_name": "LayoutModel",
            "justify_items": null,
            "grid_row": null,
            "max_height": null,
            "align_content": null,
            "visibility": null,
            "align_self": null,
            "height": null,
            "min_height": null,
            "padding": null,
            "grid_auto_rows": null,
            "grid_gap": null,
            "max_width": null,
            "order": null,
            "_view_module_version": "1.2.0",
            "grid_template_areas": null,
            "object_position": null,
            "object_fit": null,
            "grid_auto_columns": null,
            "margin": null,
            "display": null,
            "left": null
          }
        },
        "e2cfddccc6a14e34b60c62a534cf561a": {
          "model_module": "@jupyter-widgets/controls",
          "model_name": "SliderStyleModel",
          "state": {
            "_view_name": "StyleView",
            "handle_color": null,
            "_model_name": "SliderStyleModel",
            "description_width": "",
            "_view_module": "@jupyter-widgets/base",
            "_model_module_version": "1.5.0",
            "_view_count": null,
            "_view_module_version": "1.2.0",
            "_model_module": "@jupyter-widgets/controls"
          }
        },
        "2caece26c384438b9378c15adc2b3001": {
          "model_module": "@jupyter-widgets/base",
          "model_name": "LayoutModel",
          "state": {
            "_view_name": "LayoutView",
            "grid_template_rows": null,
            "right": null,
            "justify_content": null,
            "_view_module": "@jupyter-widgets/base",
            "overflow": null,
            "_model_module_version": "1.2.0",
            "_view_count": null,
            "flex_flow": null,
            "width": null,
            "min_width": null,
            "border": null,
            "align_items": null,
            "bottom": null,
            "_model_module": "@jupyter-widgets/base",
            "top": null,
            "grid_column": null,
            "overflow_y": null,
            "overflow_x": null,
            "grid_auto_flow": null,
            "grid_area": null,
            "grid_template_columns": null,
            "flex": null,
            "_model_name": "LayoutModel",
            "justify_items": null,
            "grid_row": null,
            "max_height": null,
            "align_content": null,
            "visibility": null,
            "align_self": null,
            "height": null,
            "min_height": null,
            "padding": null,
            "grid_auto_rows": null,
            "grid_gap": null,
            "max_width": null,
            "order": null,
            "_view_module_version": "1.2.0",
            "grid_template_areas": null,
            "object_position": null,
            "object_fit": null,
            "grid_auto_columns": null,
            "margin": null,
            "display": null,
            "left": null
          }
        },
        "8ab7be211dc04cb58c054219cbb82cbe": {
          "model_module": "@jupyter-widgets/base",
          "model_name": "LayoutModel",
          "state": {
            "_view_name": "LayoutView",
            "grid_template_rows": null,
            "right": null,
            "justify_content": null,
            "_view_module": "@jupyter-widgets/base",
            "overflow": null,
            "_model_module_version": "1.2.0",
            "_view_count": null,
            "flex_flow": null,
            "width": null,
            "min_width": null,
            "border": null,
            "align_items": null,
            "bottom": null,
            "_model_module": "@jupyter-widgets/base",
            "top": null,
            "grid_column": null,
            "overflow_y": null,
            "overflow_x": null,
            "grid_auto_flow": null,
            "grid_area": null,
            "grid_template_columns": null,
            "flex": null,
            "_model_name": "LayoutModel",
            "justify_items": null,
            "grid_row": null,
            "max_height": null,
            "align_content": null,
            "visibility": null,
            "align_self": null,
            "height": null,
            "min_height": null,
            "padding": null,
            "grid_auto_rows": null,
            "grid_gap": null,
            "max_width": null,
            "order": null,
            "_view_module_version": "1.2.0",
            "grid_template_areas": null,
            "object_position": null,
            "object_fit": null,
            "grid_auto_columns": null,
            "margin": null,
            "display": null,
            "left": null
          }
        },
        "54d3780032f547ed92ba961899a013f8": {
          "model_module": "@jupyter-widgets/controls",
          "model_name": "VBoxModel",
          "state": {
            "_view_name": "VBoxView",
            "_dom_classes": [
              "widget-interact"
            ],
            "_model_name": "VBoxModel",
            "_view_module": "@jupyter-widgets/controls",
            "_model_module_version": "1.5.0",
            "_view_count": null,
            "_view_module_version": "1.5.0",
            "box_style": "",
            "layout": "IPY_MODEL_1648a928dd59499ba5b420934f736b3a",
            "_model_module": "@jupyter-widgets/controls",
            "children": [
              "IPY_MODEL_0c4a62b6e1af4558a7c8f365bf3bad45",
              "IPY_MODEL_7e22888efaf844b799dcd870d2c2aa86"
            ]
          }
        },
        "1648a928dd59499ba5b420934f736b3a": {
          "model_module": "@jupyter-widgets/base",
          "model_name": "LayoutModel",
          "state": {
            "_view_name": "LayoutView",
            "grid_template_rows": null,
            "right": null,
            "justify_content": null,
            "_view_module": "@jupyter-widgets/base",
            "overflow": null,
            "_model_module_version": "1.2.0",
            "_view_count": null,
            "flex_flow": null,
            "width": null,
            "min_width": null,
            "border": null,
            "align_items": null,
            "bottom": null,
            "_model_module": "@jupyter-widgets/base",
            "top": null,
            "grid_column": null,
            "overflow_y": null,
            "overflow_x": null,
            "grid_auto_flow": null,
            "grid_area": null,
            "grid_template_columns": null,
            "flex": null,
            "_model_name": "LayoutModel",
            "justify_items": null,
            "grid_row": null,
            "max_height": null,
            "align_content": null,
            "visibility": null,
            "align_self": null,
            "height": null,
            "min_height": null,
            "padding": null,
            "grid_auto_rows": null,
            "grid_gap": null,
            "max_width": null,
            "order": null,
            "_view_module_version": "1.2.0",
            "grid_template_areas": null,
            "object_position": null,
            "object_fit": null,
            "grid_auto_columns": null,
            "margin": null,
            "display": null,
            "left": null
          }
        },
        "0c4a62b6e1af4558a7c8f365bf3bad45": {
          "model_module": "@jupyter-widgets/controls",
          "model_name": "DropdownModel",
          "state": {
            "_options_labels": [
              "20112012",
              "20122013",
              "20132014",
              "20142015",
              "20152016",
              "20162017",
              "20172018",
              "20182019"
            ],
            "_view_name": "DropdownView",
            "style": "IPY_MODEL_b9bf1ffa999f4c0e99679359b2e4209d",
            "_dom_classes": [],
            "description": "season",
            "_model_name": "DropdownModel",
            "index": 7,
            "_view_module": "@jupyter-widgets/controls",
            "_model_module_version": "1.5.0",
            "_view_count": null,
            "disabled": false,
            "_view_module_version": "1.5.0",
            "description_tooltip": null,
            "_model_module": "@jupyter-widgets/controls",
            "layout": "IPY_MODEL_440e258555134192ba7b602805e1c2e2"
          }
        },
        "7e22888efaf844b799dcd870d2c2aa86": {
          "model_module": "@jupyter-widgets/output",
          "model_name": "OutputModel",
          "state": {
            "_view_name": "OutputView",
            "msg_id": "",
            "_dom_classes": [],
            "_model_name": "OutputModel",
            "outputs": [
              {
                "output_type": "display_data",
                "metadata": {
                  "tags": [],
                  "needs_background": "light"
                },
                "image/png": "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\n",
                "text/plain": "<Figure size 1440x720 with 1 Axes>"
              }
            ],
            "_view_module": "@jupyter-widgets/output",
            "_model_module_version": "1.0.0",
            "_view_count": null,
            "_view_module_version": "1.0.0",
            "layout": "IPY_MODEL_fc949700d0884eb58f33c43d5dda7ac2",
            "_model_module": "@jupyter-widgets/output"
          }
        },
        "b9bf1ffa999f4c0e99679359b2e4209d": {
          "model_module": "@jupyter-widgets/controls",
          "model_name": "DescriptionStyleModel",
          "state": {
            "_view_name": "StyleView",
            "_model_name": "DescriptionStyleModel",
            "description_width": "",
            "_view_module": "@jupyter-widgets/base",
            "_model_module_version": "1.5.0",
            "_view_count": null,
            "_view_module_version": "1.2.0",
            "_model_module": "@jupyter-widgets/controls"
          }
        },
        "440e258555134192ba7b602805e1c2e2": {
          "model_module": "@jupyter-widgets/base",
          "model_name": "LayoutModel",
          "state": {
            "_view_name": "LayoutView",
            "grid_template_rows": null,
            "right": null,
            "justify_content": null,
            "_view_module": "@jupyter-widgets/base",
            "overflow": null,
            "_model_module_version": "1.2.0",
            "_view_count": null,
            "flex_flow": null,
            "width": null,
            "min_width": null,
            "border": null,
            "align_items": null,
            "bottom": null,
            "_model_module": "@jupyter-widgets/base",
            "top": null,
            "grid_column": null,
            "overflow_y": null,
            "overflow_x": null,
            "grid_auto_flow": null,
            "grid_area": null,
            "grid_template_columns": null,
            "flex": null,
            "_model_name": "LayoutModel",
            "justify_items": null,
            "grid_row": null,
            "max_height": null,
            "align_content": null,
            "visibility": null,
            "align_self": null,
            "height": null,
            "min_height": null,
            "padding": null,
            "grid_auto_rows": null,
            "grid_gap": null,
            "max_width": null,
            "order": null,
            "_view_module_version": "1.2.0",
            "grid_template_areas": null,
            "object_position": null,
            "object_fit": null,
            "grid_auto_columns": null,
            "margin": null,
            "display": null,
            "left": null
          }
        },
        "fc949700d0884eb58f33c43d5dda7ac2": {
          "model_module": "@jupyter-widgets/base",
          "model_name": "LayoutModel",
          "state": {
            "_view_name": "LayoutView",
            "grid_template_rows": null,
            "right": null,
            "justify_content": null,
            "_view_module": "@jupyter-widgets/base",
            "overflow": null,
            "_model_module_version": "1.2.0",
            "_view_count": null,
            "flex_flow": null,
            "width": null,
            "min_width": null,
            "border": null,
            "align_items": null,
            "bottom": null,
            "_model_module": "@jupyter-widgets/base",
            "top": null,
            "grid_column": null,
            "overflow_y": null,
            "overflow_x": null,
            "grid_auto_flow": null,
            "grid_area": null,
            "grid_template_columns": null,
            "flex": null,
            "_model_name": "LayoutModel",
            "justify_items": null,
            "grid_row": null,
            "max_height": null,
            "align_content": null,
            "visibility": null,
            "align_self": null,
            "height": null,
            "min_height": null,
            "padding": null,
            "grid_auto_rows": null,
            "grid_gap": null,
            "max_width": null,
            "order": null,
            "_view_module_version": "1.2.0",
            "grid_template_areas": null,
            "object_position": null,
            "object_fit": null,
            "grid_auto_columns": null,
            "margin": null,
            "display": null,
            "left": null
          }
        },
        "1cb0e2eede0746deaef3567e34149c3c": {
          "model_module": "@jupyter-widgets/controls",
          "model_name": "VBoxModel",
          "state": {
            "_view_name": "VBoxView",
            "_dom_classes": [
              "widget-interact"
            ],
            "_model_name": "VBoxModel",
            "_view_module": "@jupyter-widgets/controls",
            "_model_module_version": "1.5.0",
            "_view_count": null,
            "_view_module_version": "1.5.0",
            "box_style": "",
            "layout": "IPY_MODEL_d2aded8bd85d4d6aa6dfb42299676997",
            "_model_module": "@jupyter-widgets/controls",
            "children": [
              "IPY_MODEL_ae66a53d08554f41988da5861c6729f9",
              "IPY_MODEL_9bf80e6e3eac4f8e85ab8cc6673d48c5",
              "IPY_MODEL_edec795fd55b4245a944e7f3576251b0"
            ]
          }
        },
        "d2aded8bd85d4d6aa6dfb42299676997": {
          "model_module": "@jupyter-widgets/base",
          "model_name": "LayoutModel",
          "state": {
            "_view_name": "LayoutView",
            "grid_template_rows": null,
            "right": null,
            "justify_content": null,
            "_view_module": "@jupyter-widgets/base",
            "overflow": null,
            "_model_module_version": "1.2.0",
            "_view_count": null,
            "flex_flow": null,
            "width": null,
            "min_width": null,
            "border": null,
            "align_items": null,
            "bottom": null,
            "_model_module": "@jupyter-widgets/base",
            "top": null,
            "grid_column": null,
            "overflow_y": null,
            "overflow_x": null,
            "grid_auto_flow": null,
            "grid_area": null,
            "grid_template_columns": null,
            "flex": null,
            "_model_name": "LayoutModel",
            "justify_items": null,
            "grid_row": null,
            "max_height": null,
            "align_content": null,
            "visibility": null,
            "align_self": null,
            "height": null,
            "min_height": null,
            "padding": null,
            "grid_auto_rows": null,
            "grid_gap": null,
            "max_width": null,
            "order": null,
            "_view_module_version": "1.2.0",
            "grid_template_areas": null,
            "object_position": null,
            "object_fit": null,
            "grid_auto_columns": null,
            "margin": null,
            "display": null,
            "left": null
          }
        },
        "ae66a53d08554f41988da5861c6729f9": {
          "model_module": "@jupyter-widgets/controls",
          "model_name": "DropdownModel",
          "state": {
            "_options_labels": [
              "20112012",
              "20122013",
              "20132014",
              "20142015",
              "20152016",
              "20162017",
              "20172018",
              "20182019"
            ],
            "_view_name": "DropdownView",
            "style": "IPY_MODEL_c66b6a539dd246328bdf339033ac5b13",
            "_dom_classes": [],
            "description": "given_season",
            "_model_name": "DropdownModel",
            "index": 7,
            "_view_module": "@jupyter-widgets/controls",
            "_model_module_version": "1.5.0",
            "_view_count": null,
            "disabled": false,
            "_view_module_version": "1.5.0",
            "description_tooltip": null,
            "_model_module": "@jupyter-widgets/controls",
            "layout": "IPY_MODEL_25cc1e033eaf4f75bedfc21d5c131f44"
          }
        },
        "9bf80e6e3eac4f8e85ab8cc6673d48c5": {
          "model_module": "@jupyter-widgets/controls",
          "model_name": "DropdownModel",
          "state": {
            "_options_labels": [
              "skaters",
              "goalies"
            ],
            "_view_name": "DropdownView",
            "style": "IPY_MODEL_f4a5632f7e5a4055b74266a0ad0c5e2a",
            "_dom_classes": [],
            "description": "player_type",
            "_model_name": "DropdownModel",
            "index": 1,
            "_view_module": "@jupyter-widgets/controls",
            "_model_module_version": "1.5.0",
            "_view_count": null,
            "disabled": false,
            "_view_module_version": "1.5.0",
            "description_tooltip": null,
            "_model_module": "@jupyter-widgets/controls",
            "layout": "IPY_MODEL_d61b584315ec425fbf6d6837a24131be"
          }
        },
        "edec795fd55b4245a944e7f3576251b0": {
          "model_module": "@jupyter-widgets/output",
          "model_name": "OutputModel",
          "state": {
            "_view_name": "OutputView",
            "msg_id": "",
            "_dom_classes": [],
            "_model_name": "OutputModel",
            "outputs": [
              {
                "output_type": "display_data",
                "metadata": {
                  "tags": [],
                  "needs_background": "light"
                },
                "image/png": "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\n",
                "text/plain": "<Figure size 1440x1800 with 2 Axes>"
              }
            ],
            "_view_module": "@jupyter-widgets/output",
            "_model_module_version": "1.0.0",
            "_view_count": null,
            "_view_module_version": "1.0.0",
            "layout": "IPY_MODEL_d1bbf02f6e7340109a733ec17b870c41",
            "_model_module": "@jupyter-widgets/output"
          }
        },
        "c66b6a539dd246328bdf339033ac5b13": {
          "model_module": "@jupyter-widgets/controls",
          "model_name": "DescriptionStyleModel",
          "state": {
            "_view_name": "StyleView",
            "_model_name": "DescriptionStyleModel",
            "description_width": "",
            "_view_module": "@jupyter-widgets/base",
            "_model_module_version": "1.5.0",
            "_view_count": null,
            "_view_module_version": "1.2.0",
            "_model_module": "@jupyter-widgets/controls"
          }
        },
        "25cc1e033eaf4f75bedfc21d5c131f44": {
          "model_module": "@jupyter-widgets/base",
          "model_name": "LayoutModel",
          "state": {
            "_view_name": "LayoutView",
            "grid_template_rows": null,
            "right": null,
            "justify_content": null,
            "_view_module": "@jupyter-widgets/base",
            "overflow": null,
            "_model_module_version": "1.2.0",
            "_view_count": null,
            "flex_flow": null,
            "width": null,
            "min_width": null,
            "border": null,
            "align_items": null,
            "bottom": null,
            "_model_module": "@jupyter-widgets/base",
            "top": null,
            "grid_column": null,
            "overflow_y": null,
            "overflow_x": null,
            "grid_auto_flow": null,
            "grid_area": null,
            "grid_template_columns": null,
            "flex": null,
            "_model_name": "LayoutModel",
            "justify_items": null,
            "grid_row": null,
            "max_height": null,
            "align_content": null,
            "visibility": null,
            "align_self": null,
            "height": null,
            "min_height": null,
            "padding": null,
            "grid_auto_rows": null,
            "grid_gap": null,
            "max_width": null,
            "order": null,
            "_view_module_version": "1.2.0",
            "grid_template_areas": null,
            "object_position": null,
            "object_fit": null,
            "grid_auto_columns": null,
            "margin": null,
            "display": null,
            "left": null
          }
        },
        "f4a5632f7e5a4055b74266a0ad0c5e2a": {
          "model_module": "@jupyter-widgets/controls",
          "model_name": "DescriptionStyleModel",
          "state": {
            "_view_name": "StyleView",
            "_model_name": "DescriptionStyleModel",
            "description_width": "",
            "_view_module": "@jupyter-widgets/base",
            "_model_module_version": "1.5.0",
            "_view_count": null,
            "_view_module_version": "1.2.0",
            "_model_module": "@jupyter-widgets/controls"
          }
        },
        "d61b584315ec425fbf6d6837a24131be": {
          "model_module": "@jupyter-widgets/base",
          "model_name": "LayoutModel",
          "state": {
            "_view_name": "LayoutView",
            "grid_template_rows": null,
            "right": null,
            "justify_content": null,
            "_view_module": "@jupyter-widgets/base",
            "overflow": null,
            "_model_module_version": "1.2.0",
            "_view_count": null,
            "flex_flow": null,
            "width": null,
            "min_width": null,
            "border": null,
            "align_items": null,
            "bottom": null,
            "_model_module": "@jupyter-widgets/base",
            "top": null,
            "grid_column": null,
            "overflow_y": null,
            "overflow_x": null,
            "grid_auto_flow": null,
            "grid_area": null,
            "grid_template_columns": null,
            "flex": null,
            "_model_name": "LayoutModel",
            "justify_items": null,
            "grid_row": null,
            "max_height": null,
            "align_content": null,
            "visibility": null,
            "align_self": null,
            "height": null,
            "min_height": null,
            "padding": null,
            "grid_auto_rows": null,
            "grid_gap": null,
            "max_width": null,
            "order": null,
            "_view_module_version": "1.2.0",
            "grid_template_areas": null,
            "object_position": null,
            "object_fit": null,
            "grid_auto_columns": null,
            "margin": null,
            "display": null,
            "left": null
          }
        },
        "d1bbf02f6e7340109a733ec17b870c41": {
          "model_module": "@jupyter-widgets/base",
          "model_name": "LayoutModel",
          "state": {
            "_view_name": "LayoutView",
            "grid_template_rows": null,
            "right": null,
            "justify_content": null,
            "_view_module": "@jupyter-widgets/base",
            "overflow": null,
            "_model_module_version": "1.2.0",
            "_view_count": null,
            "flex_flow": null,
            "width": null,
            "min_width": null,
            "border": null,
            "align_items": null,
            "bottom": null,
            "_model_module": "@jupyter-widgets/base",
            "top": null,
            "grid_column": null,
            "overflow_y": null,
            "overflow_x": null,
            "grid_auto_flow": null,
            "grid_area": null,
            "grid_template_columns": null,
            "flex": null,
            "_model_name": "LayoutModel",
            "justify_items": null,
            "grid_row": null,
            "max_height": null,
            "align_content": null,
            "visibility": null,
            "align_self": null,
            "height": null,
            "min_height": null,
            "padding": null,
            "grid_auto_rows": null,
            "grid_gap": null,
            "max_width": null,
            "order": null,
            "_view_module_version": "1.2.0",
            "grid_template_areas": null,
            "object_position": null,
            "object_fit": null,
            "grid_auto_columns": null,
            "margin": null,
            "display": null,
            "left": null
          }
        },
        "5275a457bf92431c9fdc6c49f93a4ac8": {
          "model_module": "@jupyter-widgets/controls",
          "model_name": "VBoxModel",
          "state": {
            "_view_name": "VBoxView",
            "_dom_classes": [
              "widget-interact"
            ],
            "_model_name": "VBoxModel",
            "_view_module": "@jupyter-widgets/controls",
            "_model_module_version": "1.5.0",
            "_view_count": null,
            "_view_module_version": "1.5.0",
            "box_style": "",
            "layout": "IPY_MODEL_06038dcb0c99484792337fb42a1dd5f1",
            "_model_module": "@jupyter-widgets/controls",
            "children": [
              "IPY_MODEL_74c4c23c8a0f421eb4b7f8fe138e7b9d",
              "IPY_MODEL_18dbe15f68364d9e96d748ae5c7be730",
              "IPY_MODEL_8ddfbeead17442dab59c01b4ea250376",
              "IPY_MODEL_b5d9781e9e864060a169f3fe53a8b14d",
              "IPY_MODEL_16f1156244e74147b67a9836b28b4dd3"
            ]
          }
        },
        "06038dcb0c99484792337fb42a1dd5f1": {
          "model_module": "@jupyter-widgets/base",
          "model_name": "LayoutModel",
          "state": {
            "_view_name": "LayoutView",
            "grid_template_rows": null,
            "right": null,
            "justify_content": null,
            "_view_module": "@jupyter-widgets/base",
            "overflow": null,
            "_model_module_version": "1.2.0",
            "_view_count": null,
            "flex_flow": null,
            "width": null,
            "min_width": null,
            "border": null,
            "align_items": null,
            "bottom": null,
            "_model_module": "@jupyter-widgets/base",
            "top": null,
            "grid_column": null,
            "overflow_y": null,
            "overflow_x": null,
            "grid_auto_flow": null,
            "grid_area": null,
            "grid_template_columns": null,
            "flex": null,
            "_model_name": "LayoutModel",
            "justify_items": null,
            "grid_row": null,
            "max_height": null,
            "align_content": null,
            "visibility": null,
            "align_self": null,
            "height": null,
            "min_height": null,
            "padding": null,
            "grid_auto_rows": null,
            "grid_gap": null,
            "max_width": null,
            "order": null,
            "_view_module_version": "1.2.0",
            "grid_template_areas": null,
            "object_position": null,
            "object_fit": null,
            "grid_auto_columns": null,
            "margin": null,
            "display": null,
            "left": null
          }
        },
        "74c4c23c8a0f421eb4b7f8fe138e7b9d": {
          "model_module": "@jupyter-widgets/controls",
          "model_name": "DropdownModel",
          "state": {
            "_options_labels": [
              "20112012",
              "20122013",
              "20132014",
              "20142015",
              "20152016",
              "20162017",
              "20172018",
              "20182019"
            ],
            "_view_name": "DropdownView",
            "style": "IPY_MODEL_76047b1da09a412893254faf111af987",
            "_dom_classes": [],
            "description": "season",
            "_model_name": "DropdownModel",
            "index": 0,
            "_view_module": "@jupyter-widgets/controls",
            "_model_module_version": "1.5.0",
            "_view_count": null,
            "disabled": false,
            "_view_module_version": "1.5.0",
            "description_tooltip": null,
            "_model_module": "@jupyter-widgets/controls",
            "layout": "IPY_MODEL_9ae35c24766e4d60aca4fd6446fce977"
          }
        },
        "18dbe15f68364d9e96d748ae5c7be730": {
          "model_module": "@jupyter-widgets/controls",
          "model_name": "TextModel",
          "state": {
            "_view_name": "TextView",
            "style": "IPY_MODEL_648849e9e9784000b9db0726ce761743",
            "_dom_classes": [],
            "description": "name",
            "_model_name": "TextModel",
            "placeholder": "​",
            "_view_module": "@jupyter-widgets/controls",
            "_model_module_version": "1.5.0",
            "value": "Auston Matthews",
            "_view_count": null,
            "disabled": false,
            "_view_module_version": "1.5.0",
            "continuous_update": true,
            "description_tooltip": null,
            "_model_module": "@jupyter-widgets/controls",
            "layout": "IPY_MODEL_d15e02538047468cae658828d8328639"
          }
        },
        "8ddfbeead17442dab59c01b4ea250376": {
          "model_module": "@jupyter-widgets/controls",
          "model_name": "DropdownModel",
          "state": {
            "_options_labels": [
              "Goals",
              "Shots"
            ],
            "_view_name": "DropdownView",
            "style": "IPY_MODEL_490de2a7a0c14b628a33d10a775be685",
            "_dom_classes": [],
            "description": "stat",
            "_model_name": "DropdownModel",
            "index": 0,
            "_view_module": "@jupyter-widgets/controls",
            "_model_module_version": "1.5.0",
            "_view_count": null,
            "disabled": false,
            "_view_module_version": "1.5.0",
            "description_tooltip": null,
            "_model_module": "@jupyter-widgets/controls",
            "layout": "IPY_MODEL_55e06977edfd42faa940addf1f5e8de7"
          }
        },
        "b5d9781e9e864060a169f3fe53a8b14d": {
          "model_module": "@jupyter-widgets/controls",
          "model_name": "DropdownModel",
          "state": {
            "_options_labels": [
              "scatter plot",
              "heat map"
            ],
            "_view_name": "DropdownView",
            "style": "IPY_MODEL_8349a9325df746afa8ac82a4b481360e",
            "_dom_classes": [],
            "description": "plot_type",
            "_model_name": "DropdownModel",
            "index": 0,
            "_view_module": "@jupyter-widgets/controls",
            "_model_module_version": "1.5.0",
            "_view_count": null,
            "disabled": false,
            "_view_module_version": "1.5.0",
            "description_tooltip": null,
            "_model_module": "@jupyter-widgets/controls",
            "layout": "IPY_MODEL_51aa75bca24f444a8d9db5ff5253b75f"
          }
        },
        "16f1156244e74147b67a9836b28b4dd3": {
          "model_module": "@jupyter-widgets/output",
          "model_name": "OutputModel",
          "state": {
            "_view_name": "OutputView",
            "msg_id": "",
            "_dom_classes": [],
            "_model_name": "OutputModel",
            "outputs": [
              {
                "output_type": "display_data",
                "metadata": {
                  "tags": []
                },
                "image/png": "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\n",
                "text/plain": "<Figure size 864x864 with 1 Axes>"
              }
            ],
            "_view_module": "@jupyter-widgets/output",
            "_model_module_version": "1.0.0",
            "_view_count": null,
            "_view_module_version": "1.0.0",
            "layout": "IPY_MODEL_ba02ce1c956a4acbab1355a07d042666",
            "_model_module": "@jupyter-widgets/output"
          }
        },
        "76047b1da09a412893254faf111af987": {
          "model_module": "@jupyter-widgets/controls",
          "model_name": "DescriptionStyleModel",
          "state": {
            "_view_name": "StyleView",
            "_model_name": "DescriptionStyleModel",
            "description_width": "",
            "_view_module": "@jupyter-widgets/base",
            "_model_module_version": "1.5.0",
            "_view_count": null,
            "_view_module_version": "1.2.0",
            "_model_module": "@jupyter-widgets/controls"
          }
        },
        "9ae35c24766e4d60aca4fd6446fce977": {
          "model_module": "@jupyter-widgets/base",
          "model_name": "LayoutModel",
          "state": {
            "_view_name": "LayoutView",
            "grid_template_rows": null,
            "right": null,
            "justify_content": null,
            "_view_module": "@jupyter-widgets/base",
            "overflow": null,
            "_model_module_version": "1.2.0",
            "_view_count": null,
            "flex_flow": null,
            "width": null,
            "min_width": null,
            "border": null,
            "align_items": null,
            "bottom": null,
            "_model_module": "@jupyter-widgets/base",
            "top": null,
            "grid_column": null,
            "overflow_y": null,
            "overflow_x": null,
            "grid_auto_flow": null,
            "grid_area": null,
            "grid_template_columns": null,
            "flex": null,
            "_model_name": "LayoutModel",
            "justify_items": null,
            "grid_row": null,
            "max_height": null,
            "align_content": null,
            "visibility": null,
            "align_self": null,
            "height": null,
            "min_height": null,
            "padding": null,
            "grid_auto_rows": null,
            "grid_gap": null,
            "max_width": null,
            "order": null,
            "_view_module_version": "1.2.0",
            "grid_template_areas": null,
            "object_position": null,
            "object_fit": null,
            "grid_auto_columns": null,
            "margin": null,
            "display": null,
            "left": null
          }
        },
        "648849e9e9784000b9db0726ce761743": {
          "model_module": "@jupyter-widgets/controls",
          "model_name": "DescriptionStyleModel",
          "state": {
            "_view_name": "StyleView",
            "_model_name": "DescriptionStyleModel",
            "description_width": "",
            "_view_module": "@jupyter-widgets/base",
            "_model_module_version": "1.5.0",
            "_view_count": null,
            "_view_module_version": "1.2.0",
            "_model_module": "@jupyter-widgets/controls"
          }
        },
        "d15e02538047468cae658828d8328639": {
          "model_module": "@jupyter-widgets/base",
          "model_name": "LayoutModel",
          "state": {
            "_view_name": "LayoutView",
            "grid_template_rows": null,
            "right": null,
            "justify_content": null,
            "_view_module": "@jupyter-widgets/base",
            "overflow": null,
            "_model_module_version": "1.2.0",
            "_view_count": null,
            "flex_flow": null,
            "width": null,
            "min_width": null,
            "border": null,
            "align_items": null,
            "bottom": null,
            "_model_module": "@jupyter-widgets/base",
            "top": null,
            "grid_column": null,
            "overflow_y": null,
            "overflow_x": null,
            "grid_auto_flow": null,
            "grid_area": null,
            "grid_template_columns": null,
            "flex": null,
            "_model_name": "LayoutModel",
            "justify_items": null,
            "grid_row": null,
            "max_height": null,
            "align_content": null,
            "visibility": null,
            "align_self": null,
            "height": null,
            "min_height": null,
            "padding": null,
            "grid_auto_rows": null,
            "grid_gap": null,
            "max_width": null,
            "order": null,
            "_view_module_version": "1.2.0",
            "grid_template_areas": null,
            "object_position": null,
            "object_fit": null,
            "grid_auto_columns": null,
            "margin": null,
            "display": null,
            "left": null
          }
        },
        "490de2a7a0c14b628a33d10a775be685": {
          "model_module": "@jupyter-widgets/controls",
          "model_name": "DescriptionStyleModel",
          "state": {
            "_view_name": "StyleView",
            "_model_name": "DescriptionStyleModel",
            "description_width": "",
            "_view_module": "@jupyter-widgets/base",
            "_model_module_version": "1.5.0",
            "_view_count": null,
            "_view_module_version": "1.2.0",
            "_model_module": "@jupyter-widgets/controls"
          }
        },
        "55e06977edfd42faa940addf1f5e8de7": {
          "model_module": "@jupyter-widgets/base",
          "model_name": "LayoutModel",
          "state": {
            "_view_name": "LayoutView",
            "grid_template_rows": null,
            "right": null,
            "justify_content": null,
            "_view_module": "@jupyter-widgets/base",
            "overflow": null,
            "_model_module_version": "1.2.0",
            "_view_count": null,
            "flex_flow": null,
            "width": null,
            "min_width": null,
            "border": null,
            "align_items": null,
            "bottom": null,
            "_model_module": "@jupyter-widgets/base",
            "top": null,
            "grid_column": null,
            "overflow_y": null,
            "overflow_x": null,
            "grid_auto_flow": null,
            "grid_area": null,
            "grid_template_columns": null,
            "flex": null,
            "_model_name": "LayoutModel",
            "justify_items": null,
            "grid_row": null,
            "max_height": null,
            "align_content": null,
            "visibility": null,
            "align_self": null,
            "height": null,
            "min_height": null,
            "padding": null,
            "grid_auto_rows": null,
            "grid_gap": null,
            "max_width": null,
            "order": null,
            "_view_module_version": "1.2.0",
            "grid_template_areas": null,
            "object_position": null,
            "object_fit": null,
            "grid_auto_columns": null,
            "margin": null,
            "display": null,
            "left": null
          }
        },
        "8349a9325df746afa8ac82a4b481360e": {
          "model_module": "@jupyter-widgets/controls",
          "model_name": "DescriptionStyleModel",
          "state": {
            "_view_name": "StyleView",
            "_model_name": "DescriptionStyleModel",
            "description_width": "",
            "_view_module": "@jupyter-widgets/base",
            "_model_module_version": "1.5.0",
            "_view_count": null,
            "_view_module_version": "1.2.0",
            "_model_module": "@jupyter-widgets/controls"
          }
        },
        "51aa75bca24f444a8d9db5ff5253b75f": {
          "model_module": "@jupyter-widgets/base",
          "model_name": "LayoutModel",
          "state": {
            "_view_name": "LayoutView",
            "grid_template_rows": null,
            "right": null,
            "justify_content": null,
            "_view_module": "@jupyter-widgets/base",
            "overflow": null,
            "_model_module_version": "1.2.0",
            "_view_count": null,
            "flex_flow": null,
            "width": null,
            "min_width": null,
            "border": null,
            "align_items": null,
            "bottom": null,
            "_model_module": "@jupyter-widgets/base",
            "top": null,
            "grid_column": null,
            "overflow_y": null,
            "overflow_x": null,
            "grid_auto_flow": null,
            "grid_area": null,
            "grid_template_columns": null,
            "flex": null,
            "_model_name": "LayoutModel",
            "justify_items": null,
            "grid_row": null,
            "max_height": null,
            "align_content": null,
            "visibility": null,
            "align_self": null,
            "height": null,
            "min_height": null,
            "padding": null,
            "grid_auto_rows": null,
            "grid_gap": null,
            "max_width": null,
            "order": null,
            "_view_module_version": "1.2.0",
            "grid_template_areas": null,
            "object_position": null,
            "object_fit": null,
            "grid_auto_columns": null,
            "margin": null,
            "display": null,
            "left": null
          }
        },
        "ba02ce1c956a4acbab1355a07d042666": {
          "model_module": "@jupyter-widgets/base",
          "model_name": "LayoutModel",
          "state": {
            "_view_name": "LayoutView",
            "grid_template_rows": null,
            "right": null,
            "justify_content": null,
            "_view_module": "@jupyter-widgets/base",
            "overflow": null,
            "_model_module_version": "1.2.0",
            "_view_count": null,
            "flex_flow": null,
            "width": null,
            "min_width": null,
            "border": null,
            "align_items": null,
            "bottom": null,
            "_model_module": "@jupyter-widgets/base",
            "top": null,
            "grid_column": null,
            "overflow_y": null,
            "overflow_x": null,
            "grid_auto_flow": null,
            "grid_area": null,
            "grid_template_columns": null,
            "flex": null,
            "_model_name": "LayoutModel",
            "justify_items": null,
            "grid_row": null,
            "max_height": null,
            "align_content": null,
            "visibility": null,
            "align_self": null,
            "height": null,
            "min_height": null,
            "padding": null,
            "grid_auto_rows": null,
            "grid_gap": null,
            "max_width": null,
            "order": null,
            "_view_module_version": "1.2.0",
            "grid_template_areas": null,
            "object_position": null,
            "object_fit": null,
            "grid_auto_columns": null,
            "margin": null,
            "display": null,
            "left": null
          }
        },
        "a10617c6f71441a1ac3fb461a0eb2474": {
          "model_module": "@jupyter-widgets/controls",
          "model_name": "VBoxModel",
          "state": {
            "_view_name": "VBoxView",
            "_dom_classes": [
              "widget-interact"
            ],
            "_model_name": "VBoxModel",
            "_view_module": "@jupyter-widgets/controls",
            "_model_module_version": "1.5.0",
            "_view_count": null,
            "_view_module_version": "1.5.0",
            "box_style": "",
            "layout": "IPY_MODEL_aeb02090f3a049feb75a6993cc59965a",
            "_model_module": "@jupyter-widgets/controls",
            "children": [
              "IPY_MODEL_573de65437e048aaae09ba32bc7fba60",
              "IPY_MODEL_e5696c30e58046379b3e29a0db0b9ee3",
              "IPY_MODEL_baa1fed01da141d0945254cf267923d6",
              "IPY_MODEL_b0ace5dfb50a4a9281ed87fea8571b58",
              "IPY_MODEL_81f294e7d49c456b90311ae5eda98489"
            ]
          }
        },
        "aeb02090f3a049feb75a6993cc59965a": {
          "model_module": "@jupyter-widgets/base",
          "model_name": "LayoutModel",
          "state": {
            "_view_name": "LayoutView",
            "grid_template_rows": null,
            "right": null,
            "justify_content": null,
            "_view_module": "@jupyter-widgets/base",
            "overflow": null,
            "_model_module_version": "1.2.0",
            "_view_count": null,
            "flex_flow": null,
            "width": null,
            "min_width": null,
            "border": null,
            "align_items": null,
            "bottom": null,
            "_model_module": "@jupyter-widgets/base",
            "top": null,
            "grid_column": null,
            "overflow_y": null,
            "overflow_x": null,
            "grid_auto_flow": null,
            "grid_area": null,
            "grid_template_columns": null,
            "flex": null,
            "_model_name": "LayoutModel",
            "justify_items": null,
            "grid_row": null,
            "max_height": null,
            "align_content": null,
            "visibility": null,
            "align_self": null,
            "height": null,
            "min_height": null,
            "padding": null,
            "grid_auto_rows": null,
            "grid_gap": null,
            "max_width": null,
            "order": null,
            "_view_module_version": "1.2.0",
            "grid_template_areas": null,
            "object_position": null,
            "object_fit": null,
            "grid_auto_columns": null,
            "margin": null,
            "display": null,
            "left": null
          }
        },
        "573de65437e048aaae09ba32bc7fba60": {
          "model_module": "@jupyter-widgets/controls",
          "model_name": "TextModel",
          "state": {
            "_view_name": "TextView",
            "style": "IPY_MODEL_340f592d6e8f44c891c37d8f6bb37f01",
            "_dom_classes": [],
            "description": "given_home_abrv",
            "_model_name": "TextModel",
            "placeholder": "​",
            "_view_module": "@jupyter-widgets/controls",
            "_model_module_version": "1.5.0",
            "value": "TOR",
            "_view_count": null,
            "disabled": false,
            "_view_module_version": "1.5.0",
            "continuous_update": true,
            "description_tooltip": null,
            "_model_module": "@jupyter-widgets/controls",
            "layout": "IPY_MODEL_b8e4a5e0cf064d16b1fdfb818f26180b"
          }
        },
        "e5696c30e58046379b3e29a0db0b9ee3": {
          "model_module": "@jupyter-widgets/controls",
          "model_name": "TextModel",
          "state": {
            "_view_name": "TextView",
            "style": "IPY_MODEL_c1d246f41ab34865a98249645cc49d6f",
            "_dom_classes": [],
            "description": "given_away_abrv",
            "_model_name": "TextModel",
            "placeholder": "​",
            "_view_module": "@jupyter-widgets/controls",
            "_model_module_version": "1.5.0",
            "value": "CHI",
            "_view_count": null,
            "disabled": false,
            "_view_module_version": "1.5.0",
            "continuous_update": true,
            "description_tooltip": null,
            "_model_module": "@jupyter-widgets/controls",
            "layout": "IPY_MODEL_59a6e2e023884df3b82b3b69662c2b30"
          }
        },
        "baa1fed01da141d0945254cf267923d6": {
          "model_module": "@jupyter-widgets/controls",
          "model_name": "TextModel",
          "state": {
            "_view_name": "TextView",
            "style": "IPY_MODEL_4b5a2d8a03374f3c8c90250c18955dc7",
            "_dom_classes": [],
            "description": "given_date",
            "_model_name": "TextModel",
            "placeholder": "​",
            "_view_module": "@jupyter-widgets/controls",
            "_model_module_version": "1.5.0",
            "value": "2017-10-09",
            "_view_count": null,
            "disabled": false,
            "_view_module_version": "1.5.0",
            "continuous_update": true,
            "description_tooltip": null,
            "_model_module": "@jupyter-widgets/controls",
            "layout": "IPY_MODEL_e56a24152f6949f3929e34769073ad35"
          }
        },
        "b0ace5dfb50a4a9281ed87fea8571b58": {
          "model_module": "@jupyter-widgets/controls",
          "model_name": "DropdownModel",
          "state": {
            "_options_labels": [
              "Goal",
              "Shot",
              "Hit",
              "Giveaway",
              "Takeaway"
            ],
            "_view_name": "DropdownView",
            "style": "IPY_MODEL_75131b6a1cef4de18e4c1c63783ea91b",
            "_dom_classes": [],
            "description": "given_event",
            "_model_name": "DropdownModel",
            "index": 2,
            "_view_module": "@jupyter-widgets/controls",
            "_model_module_version": "1.5.0",
            "_view_count": null,
            "disabled": false,
            "_view_module_version": "1.5.0",
            "description_tooltip": null,
            "_model_module": "@jupyter-widgets/controls",
            "layout": "IPY_MODEL_8bc9ebd6e1b842528ab892d73978830e"
          }
        },
        "81f294e7d49c456b90311ae5eda98489": {
          "model_module": "@jupyter-widgets/output",
          "model_name": "OutputModel",
          "state": {
            "_view_name": "OutputView",
            "msg_id": "",
            "_dom_classes": [],
            "_model_name": "OutputModel",
            "outputs": [
              {
                "output_type": "display_data",
                "metadata": {
                  "tags": [],
                  "needs_background": "light"
                },
                "image/png": "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\n",
                "text/plain": "<Figure size 1440x720 with 1 Axes>"
              }
            ],
            "_view_module": "@jupyter-widgets/output",
            "_model_module_version": "1.0.0",
            "_view_count": null,
            "_view_module_version": "1.0.0",
            "layout": "IPY_MODEL_1d354b4a41954660ac30c4163c130a45",
            "_model_module": "@jupyter-widgets/output"
          }
        },
        "340f592d6e8f44c891c37d8f6bb37f01": {
          "model_module": "@jupyter-widgets/controls",
          "model_name": "DescriptionStyleModel",
          "state": {
            "_view_name": "StyleView",
            "_model_name": "DescriptionStyleModel",
            "description_width": "",
            "_view_module": "@jupyter-widgets/base",
            "_model_module_version": "1.5.0",
            "_view_count": null,
            "_view_module_version": "1.2.0",
            "_model_module": "@jupyter-widgets/controls"
          }
        },
        "b8e4a5e0cf064d16b1fdfb818f26180b": {
          "model_module": "@jupyter-widgets/base",
          "model_name": "LayoutModel",
          "state": {
            "_view_name": "LayoutView",
            "grid_template_rows": null,
            "right": null,
            "justify_content": null,
            "_view_module": "@jupyter-widgets/base",
            "overflow": null,
            "_model_module_version": "1.2.0",
            "_view_count": null,
            "flex_flow": null,
            "width": null,
            "min_width": null,
            "border": null,
            "align_items": null,
            "bottom": null,
            "_model_module": "@jupyter-widgets/base",
            "top": null,
            "grid_column": null,
            "overflow_y": null,
            "overflow_x": null,
            "grid_auto_flow": null,
            "grid_area": null,
            "grid_template_columns": null,
            "flex": null,
            "_model_name": "LayoutModel",
            "justify_items": null,
            "grid_row": null,
            "max_height": null,
            "align_content": null,
            "visibility": null,
            "align_self": null,
            "height": null,
            "min_height": null,
            "padding": null,
            "grid_auto_rows": null,
            "grid_gap": null,
            "max_width": null,
            "order": null,
            "_view_module_version": "1.2.0",
            "grid_template_areas": null,
            "object_position": null,
            "object_fit": null,
            "grid_auto_columns": null,
            "margin": null,
            "display": null,
            "left": null
          }
        },
        "c1d246f41ab34865a98249645cc49d6f": {
          "model_module": "@jupyter-widgets/controls",
          "model_name": "DescriptionStyleModel",
          "state": {
            "_view_name": "StyleView",
            "_model_name": "DescriptionStyleModel",
            "description_width": "",
            "_view_module": "@jupyter-widgets/base",
            "_model_module_version": "1.5.0",
            "_view_count": null,
            "_view_module_version": "1.2.0",
            "_model_module": "@jupyter-widgets/controls"
          }
        },
        "59a6e2e023884df3b82b3b69662c2b30": {
          "model_module": "@jupyter-widgets/base",
          "model_name": "LayoutModel",
          "state": {
            "_view_name": "LayoutView",
            "grid_template_rows": null,
            "right": null,
            "justify_content": null,
            "_view_module": "@jupyter-widgets/base",
            "overflow": null,
            "_model_module_version": "1.2.0",
            "_view_count": null,
            "flex_flow": null,
            "width": null,
            "min_width": null,
            "border": null,
            "align_items": null,
            "bottom": null,
            "_model_module": "@jupyter-widgets/base",
            "top": null,
            "grid_column": null,
            "overflow_y": null,
            "overflow_x": null,
            "grid_auto_flow": null,
            "grid_area": null,
            "grid_template_columns": null,
            "flex": null,
            "_model_name": "LayoutModel",
            "justify_items": null,
            "grid_row": null,
            "max_height": null,
            "align_content": null,
            "visibility": null,
            "align_self": null,
            "height": null,
            "min_height": null,
            "padding": null,
            "grid_auto_rows": null,
            "grid_gap": null,
            "max_width": null,
            "order": null,
            "_view_module_version": "1.2.0",
            "grid_template_areas": null,
            "object_position": null,
            "object_fit": null,
            "grid_auto_columns": null,
            "margin": null,
            "display": null,
            "left": null
          }
        },
        "4b5a2d8a03374f3c8c90250c18955dc7": {
          "model_module": "@jupyter-widgets/controls",
          "model_name": "DescriptionStyleModel",
          "state": {
            "_view_name": "StyleView",
            "_model_name": "DescriptionStyleModel",
            "description_width": "",
            "_view_module": "@jupyter-widgets/base",
            "_model_module_version": "1.5.0",
            "_view_count": null,
            "_view_module_version": "1.2.0",
            "_model_module": "@jupyter-widgets/controls"
          }
        },
        "e56a24152f6949f3929e34769073ad35": {
          "model_module": "@jupyter-widgets/base",
          "model_name": "LayoutModel",
          "state": {
            "_view_name": "LayoutView",
            "grid_template_rows": null,
            "right": null,
            "justify_content": null,
            "_view_module": "@jupyter-widgets/base",
            "overflow": null,
            "_model_module_version": "1.2.0",
            "_view_count": null,
            "flex_flow": null,
            "width": null,
            "min_width": null,
            "border": null,
            "align_items": null,
            "bottom": null,
            "_model_module": "@jupyter-widgets/base",
            "top": null,
            "grid_column": null,
            "overflow_y": null,
            "overflow_x": null,
            "grid_auto_flow": null,
            "grid_area": null,
            "grid_template_columns": null,
            "flex": null,
            "_model_name": "LayoutModel",
            "justify_items": null,
            "grid_row": null,
            "max_height": null,
            "align_content": null,
            "visibility": null,
            "align_self": null,
            "height": null,
            "min_height": null,
            "padding": null,
            "grid_auto_rows": null,
            "grid_gap": null,
            "max_width": null,
            "order": null,
            "_view_module_version": "1.2.0",
            "grid_template_areas": null,
            "object_position": null,
            "object_fit": null,
            "grid_auto_columns": null,
            "margin": null,
            "display": null,
            "left": null
          }
        },
        "75131b6a1cef4de18e4c1c63783ea91b": {
          "model_module": "@jupyter-widgets/controls",
          "model_name": "DescriptionStyleModel",
          "state": {
            "_view_name": "StyleView",
            "_model_name": "DescriptionStyleModel",
            "description_width": "",
            "_view_module": "@jupyter-widgets/base",
            "_model_module_version": "1.5.0",
            "_view_count": null,
            "_view_module_version": "1.2.0",
            "_model_module": "@jupyter-widgets/controls"
          }
        },
        "8bc9ebd6e1b842528ab892d73978830e": {
          "model_module": "@jupyter-widgets/base",
          "model_name": "LayoutModel",
          "state": {
            "_view_name": "LayoutView",
            "grid_template_rows": null,
            "right": null,
            "justify_content": null,
            "_view_module": "@jupyter-widgets/base",
            "overflow": null,
            "_model_module_version": "1.2.0",
            "_view_count": null,
            "flex_flow": null,
            "width": null,
            "min_width": null,
            "border": null,
            "align_items": null,
            "bottom": null,
            "_model_module": "@jupyter-widgets/base",
            "top": null,
            "grid_column": null,
            "overflow_y": null,
            "overflow_x": null,
            "grid_auto_flow": null,
            "grid_area": null,
            "grid_template_columns": null,
            "flex": null,
            "_model_name": "LayoutModel",
            "justify_items": null,
            "grid_row": null,
            "max_height": null,
            "align_content": null,
            "visibility": null,
            "align_self": null,
            "height": null,
            "min_height": null,
            "padding": null,
            "grid_auto_rows": null,
            "grid_gap": null,
            "max_width": null,
            "order": null,
            "_view_module_version": "1.2.0",
            "grid_template_areas": null,
            "object_position": null,
            "object_fit": null,
            "grid_auto_columns": null,
            "margin": null,
            "display": null,
            "left": null
          }
        },
        "1d354b4a41954660ac30c4163c130a45": {
          "model_module": "@jupyter-widgets/base",
          "model_name": "LayoutModel",
          "state": {
            "_view_name": "LayoutView",
            "grid_template_rows": null,
            "right": null,
            "justify_content": null,
            "_view_module": "@jupyter-widgets/base",
            "overflow": null,
            "_model_module_version": "1.2.0",
            "_view_count": null,
            "flex_flow": null,
            "width": null,
            "min_width": null,
            "border": null,
            "align_items": null,
            "bottom": null,
            "_model_module": "@jupyter-widgets/base",
            "top": null,
            "grid_column": null,
            "overflow_y": null,
            "overflow_x": null,
            "grid_auto_flow": null,
            "grid_area": null,
            "grid_template_columns": null,
            "flex": null,
            "_model_name": "LayoutModel",
            "justify_items": null,
            "grid_row": null,
            "max_height": null,
            "align_content": null,
            "visibility": null,
            "align_self": null,
            "height": null,
            "min_height": null,
            "padding": null,
            "grid_auto_rows": null,
            "grid_gap": null,
            "max_width": null,
            "order": null,
            "_view_module_version": "1.2.0",
            "grid_template_areas": null,
            "object_position": null,
            "object_fit": null,
            "grid_auto_columns": null,
            "margin": null,
            "display": null,
            "left": null
          }
        }
      }
    }
  },
  "cells": [
    {
      "cell_type": "markdown",
      "metadata": {
        "id": "view-in-github",
        "colab_type": "text"
      },
      "source": [
        "<a href=\"https://colab.research.google.com/github/WilliamGaryDawkins/CS631-Project/blob/main/CS631_FinalProject.ipynb\" target=\"_parent\"><img src=\"https://colab.research.google.com/assets/colab-badge.svg\" alt=\"Open In Colab\"/></a>"
      ]
    },
    {
      "cell_type": "code",
      "metadata": {
        "id": "jhnu4eThAIOw"
      },
      "source": [
        "#install pyspark\n",
        "!pip install pyspark"
      ],
      "execution_count": null,
      "outputs": []
    },
    {
      "cell_type": "code",
      "metadata": {
        "id": "4bt_JmYuAPx2"
      },
      "source": [
        "#create the spark session so we can work with spark dataframes\n",
        "from pyspark.sql import SparkSession\n",
        "from pyspark.sql.functions import concat,concat_ws\n",
        "import random\n",
        "spark = SparkSession.builder.appName(\"YourTest\").master(\"local[2]\").config('spark.ui.port', random.randrange(4000,5000)).getOrCreate()"
      ],
      "execution_count": 2,
      "outputs": []
    },
    {
      "cell_type": "code",
      "metadata": {
        "id": "fvIdCtHPALN6"
      },
      "source": [
        "#from pyspark.sql.functions import concat, col, lit\n",
        "%matplotlib inline\n",
        "import requests\n",
        "from pyspark.sql.functions import col\n",
        "import matplotlib.pyplot as plt\n",
        "import pandas as pd\n",
        "import seaborn as sns\n",
        "import ipywidgets as widgets\n",
        "from ipywidgets import *\n",
        "from pyspark.sql.functions import col\n",
        "from pyspark.sql.functions import lit"
      ],
      "execution_count": 3,
      "outputs": []
    },
    {
      "cell_type": "code",
      "metadata": {
        "id": "tjTQsF-mGOVz"
      },
      "source": [
        "#Read in CSV files and create raw data frames\n",
        "games_raw = spark.read.csv(\"/content/drive/My Drive/NHL Dataset/game.csv\",header=True,inferSchema=True)\n",
        "game_goalie_stats_raw = spark.read.csv(\"/content/drive/My Drive/NHL Dataset/game_goalie_stats.csv\",header=True,inferSchema=True)\n",
        "game_plays_raw =spark.read.csv(\"/content/drive/My Drive/NHL Dataset/game_plays.csv\",header=True,inferSchema=True)\n",
        "game_plays_players_raw = spark.read.csv(\"/content/drive/My Drive/NHL Dataset/game_plays_players.csv\",header=True,inferSchema=True)\n",
        "game_shifts_raw = spark.read.csv(\"/content/drive/My Drive/NHL Dataset/game_shifts.csv\",header=True,inferSchema=True)\n",
        "game_skater_stats_raw =spark.read.csv(\"/content/drive/My Drive/NHL Dataset/game_skater_stats.csv\",header=True,inferSchema=True)\n",
        "game_teams_stats_raw = spark.read.csv(\"/content/drive/My Drive/NHL Dataset/game_teams_stats.csv\",header=True,inferSchema=True)\n",
        "player_info_raw = spark.read.csv(\"/content/drive/My Drive/NHL Dataset/player_info.csv\",header=True,inferSchema=True)\n",
        "team_info_raw = spark.read.csv(\"/content/drive/My Drive/NHL Dataset/team_info.csv\",header=True,inferSchema=True)"
      ],
      "execution_count": 4,
      "outputs": []
    },
    {
      "cell_type": "code",
      "metadata": {
        "id": "gmCkdAHUA7x-"
      },
      "source": [
        "## Create cleaner data frames, removing columns that wont be of interest (time of day,timezone info, venue location, links). \n",
        "## Note: Most dataframes do not have info we want to drop\n",
        "\n",
        "games = games_raw.drop(\"date_time_GMT\",\"venue_link\",\"venue_time_zone_id\",\"venue_time_zone_offset\",\"venue_time_zone_tz\").cache() \n",
        "game_goalie_stats = game_goalie_stats_raw.cache()\n",
        "game_plays = game_plays_raw.cache()\n",
        "game_plays_players = game_plays_players_raw.cache()\n",
        "game_shifts = game_shifts_raw.cache()\n",
        "game_skater_stats = game_skater_stats_raw.cache()\n",
        "game_teams_stats = game_teams_stats_raw.cache()\n",
        "player_info = player_info_raw.drop(\"link\").cache()\n",
        "team_info = team_info_raw.drop(\"link\").cache()\n",
        "\n",
        "##add point total to player stats\n",
        "game_skater_stats = game_skater_stats.withColumn(\"points\", col(\"goals\")+col(\"assists\")).cache()"
      ],
      "execution_count": 5,
      "outputs": []
    },
    {
      "cell_type": "code",
      "metadata": {
        "id": "SclusPfEKrG3"
      },
      "source": [
        "from matplotlib.patches import Circle, Rectangle, Arc\n",
        "\n",
        "def draw_rink(ax=None, color='black', lw=2):\n",
        "    # If an axes object isn't provided to plot onto, just get current one\n",
        "    if ax is None:\n",
        "        ax = plt.gca()\n",
        "\n",
        "\n",
        "    center_faceoff = Circle((0, 0), radius=1, linewidth=lw, color='blue', fill=True)\n",
        "    \n",
        "    zone_faceoff_1 = Circle((69, 22), radius=1, linewidth=lw, color='red', fill=True)\n",
        "    zone_faceoff_2 = Circle((-69, 22), radius=1, linewidth=lw, color='red', fill=True)\n",
        "    zone_faceoff_3 = Circle((69, -22), radius=1, linewidth=lw, color='red', fill=True)\n",
        "    zone_faceoff_4 = Circle((-69, -22), radius=1, linewidth=lw, color='red', fill=True)\n",
        "\n",
        "    neutral_faceoff_1 = Circle((20, 22), radius=1, linewidth=lw, color='red', fill=True)\n",
        "    neutral_faceoff_2 = Circle((-20, 22), radius=1, linewidth=lw, color='red', fill=True)\n",
        "    neutral_faceoff_3 = Circle((20, -22), radius=1, linewidth=lw, color='red', fill=True)\n",
        "    neutral_faceoff_4 = Circle((-20, -22), radius=1, linewidth=lw, color='red', fill=True)\n",
        "\n",
        "\n",
        "\n",
        "    center_circle = Circle((0,0), radius = 15, linewidth=lw, color='blue', fill= False)\n",
        "    zone_circle_1 = Circle((69,22), radius = 15, linewidth=lw, color='red', fill= False)\n",
        "    zone_circle_2 = Circle((-69,22), radius = 15, linewidth=lw, color='red', fill= False)\n",
        "    zone_circle_3 = Circle((69,-22), radius = 15, linewidth=lw, color='red', fill= False)\n",
        "    zone_circle_4 = Circle((-69,-22), radius = 15, linewidth=lw, color='red', fill= False)                                              \n",
        "\n",
        "    blue_line1 = Rectangle((-25,-42.5), 0, 85,linewidth=lw,color='blue',fill=False)\n",
        "    blue_line2 = Rectangle(( 25,-42.5), 0, 85,linewidth=lw,color='blue',fill=False)\n",
        "    center_line = Rectangle((0,-42.5), 0, 85,linewidth=lw,color='red',fill=False)\n",
        "   \n",
        "    goal_line1 = Rectangle((-89,-40.5), 0, 81,linewidth=lw,color='red',fill=False)\n",
        "    goal_line2 = Rectangle((89,-40.5), 0, 81,linewidth=lw,color='red',fill=False)\n",
        "\n",
        "    goal_crease1 = Arc((-89,0),8,8,angle=270,theta1=0,theta2=180,color='red')\n",
        "    goal_crease2 = Arc((89,0),8,8,angle=90,theta1=0,theta2=180,color='red')\n",
        "    \n",
        "    top_border = Rectangle((-85,42.5), 170, 0,linewidth=lw,color='black',fill=False)\n",
        "    bottom_border = Rectangle((-85,-42.5), 170, 0,linewidth=lw,color='black',fill=False)\n",
        "    left_border = Rectangle((-100,-27), 0, 54,linewidth=lw,color='black',fill=False)\n",
        "    right_border = Rectangle((100,-27), 0, 54,linewidth=lw,color='black',fill=False)\n",
        "\n",
        "    bottom_right_corner = Arc((-87.5,-30.1),29,20,angle=135,theta1=22,theta2=155,linewidth=lw)\n",
        "    top_right_corner = Arc((-87.5,30.1),29,20,angle=45,theta1=22,theta2=155,linewidth=lw)\n",
        "    top_left_corner = Arc((87.5,30.1),29,20,angle=315,theta1=22,theta2=155,linewidth=lw)\n",
        "    bottom_left_corner = Arc((87.5,-30.1),29,20,angle=225,theta1=22,theta2=155,linewidth=lw)\n",
        "  \n",
        "    \n",
        "    rink_elements = [center_faceoff,zone_faceoff_1,zone_faceoff_2,zone_faceoff_3,zone_faceoff_4,\n",
        "                      center_circle,zone_circle_1,zone_circle_2,zone_circle_3,zone_circle_4,\n",
        "                      blue_line1,blue_line2,center_line,neutral_faceoff_1,neutral_faceoff_2,neutral_faceoff_3,\n",
        "                      neutral_faceoff_4,goal_line1,goal_line2,goal_crease1,goal_crease2,top_border,bottom_border,\n",
        "                      left_border,right_border,bottom_right_corner,top_right_corner,top_left_corner,bottom_left_corner]\n",
        "\n",
        "    # Add the rink elements onto the axes\n",
        "    for element in rink_elements:\n",
        "        ax.add_patch(element)\n",
        "\n",
        "    return ax\n",
        "\n",
        "def draw_Ozone(ax=None, color='black', lw=2):\n",
        "    # If an axes object isn't provided to plot onto, just get current one\n",
        "    if ax is None:\n",
        "        ax = plt.gca()\n",
        "\n",
        "\n",
        "    center_faceoff = Circle((0, 0), radius=1, linewidth=lw, color='blue', fill=True)\n",
        "    zone_faceoff_1 = Circle((22, 69), radius=1, linewidth=lw, color='red', fill=True)\n",
        "    zone_faceoff_2 = Circle((-22, 69), radius=1, linewidth=lw, color='red', fill=True)\n",
        "\n",
        "    neutral_faceoff_1 = Circle((22, 20), radius=1, linewidth=lw, color='red', fill=True)\n",
        "    neutral_faceoff_2 = Circle((-22, 20), radius=1, linewidth=lw, color='red', fill=True)\n",
        "\n",
        "    \n",
        "    center_circle = Circle((0,0), radius = 15, linewidth=lw, color='blue', fill= False)\n",
        "    zone_circle_1 = Circle((22,69), radius = 15, linewidth=lw, color='red', fill= False)\n",
        "    zone_circle_2 = Circle((-22,69), radius = 15, linewidth=lw, color='red', fill= False)                                          \n",
        "\n",
        "    blue_line1 = Rectangle((-42.5,25), 85, 0,linewidth=lw,color='blue',fill=False)\n",
        "    \n",
        "    goal_line1 = Rectangle((-41,89), 82, 0,linewidth=lw,color='red',fill=False)\n",
        "\n",
        "    goal_crease2 = Arc((0,89),8,8,angle=180,theta1=0,theta2=180,color='red')\n",
        "    \n",
        "    top_border = Rectangle((42.5,0), 0, 85,linewidth=lw,color='black',fill=False)\n",
        "    bottom_border = Rectangle((-42.5,0), 0, 85,linewidth=lw,color='black',fill=False)\n",
        "\n",
        "    right_border = Rectangle((-27,100), 54, 0,linewidth=lw,color='black',fill=False)\n",
        "\n",
        "    bottom_right_corner = Arc((30.1,87.5),29,20,angle=315,theta1=22,theta2=155,linewidth=lw)\n",
        "    top_right_corner = Arc((-30.1,87.5),29,20,angle=45,theta1=22,theta2=155,linewidth=lw)\n",
        "  \n",
        "    \n",
        "    rink_elements = [zone_faceoff_1,zone_faceoff_2,\n",
        "                      zone_circle_1,zone_circle_2, neutral_faceoff_1,neutral_faceoff_2,\n",
        "                      blue_line1,center_faceoff,center_circle,\n",
        "                      goal_line1,goal_crease2,top_border,bottom_border,\n",
        "                      right_border,bottom_right_corner,top_right_corner]\n",
        "\n",
        "    # Add the rink elements onto the axes\n",
        "    for element in rink_elements:\n",
        "        ax.add_patch(element)\n",
        "\n",
        "    return ax"
      ],
      "execution_count": 6,
      "outputs": []
    },
    {
      "cell_type": "markdown",
      "metadata": {
        "id": "O5awnRnF1zfj"
      },
      "source": [
        "# Interactive Ranking by Stats plot"
      ]
    },
    {
      "cell_type": "code",
      "metadata": {
        "id": "G_kw58cJwNoQ"
      },
      "source": [
        "def ranked_by_stats_by_season_skater(season,stat,game_type):\n",
        "  players_ranked_skaters_dtf = game_skater_stats.join(player_info, \"player_id\").join(games, \"game_id\").filter(\"season = {0}\".format(season)).filter(\"type = '{0}'\".format(game_type)).select(\"player_id\",\"{0}\".format(stat)).groupBy(\"player_id\").sum(\"{0}\".format(stat)).join(player_info,\"player_id\").orderBy(\"sum({0})\".format(stat),ascending=False).select(concat(\"firstName\",lit(\" \"),\"lastName\").alias(\"FullName\"),\"sum({0})\".format(stat))\n",
        "  return players_ranked_skaters_dtf"
      ],
      "execution_count": null,
      "outputs": []
    },
    {
      "cell_type": "code",
      "metadata": {
        "colab": {
          "base_uri": "https://localhost:8080/",
          "height": 820,
          "referenced_widgets": [
            "0559b57fd4c648abbb6faadfb6574192",
            "0bf1e51c8b27446b914e03b618b5b1d1",
            "99fed9cfc70043c68f50026844ed3bbe",
            "57649ddc01354b92b60340564afc0ab5",
            "beb966ba06b04ef69a53b3eb6d0690a8",
            "a43a843f37f8483e8b264274ec0a7c20",
            "88255bbd7fe9424193655f4c2cbd50e3",
            "17c57da96b82450d88cbc18c2d3a5e63",
            "bfa970eaf0304d08b1d3719685e90f70",
            "5f48ba9f771f4ee39634fb35dd12ec01",
            "e2a1f47165344555aec288b4eafbd4e1",
            "aa7fba2b4e2f42a2aab6562d74f6bacb",
            "6ca4417b53f64f1bb4111fabdc6ef2d2",
            "e2cfddccc6a14e34b60c62a534cf561a",
            "2caece26c384438b9378c15adc2b3001",
            "8ab7be211dc04cb58c054219cbb82cbe"
          ]
        },
        "id": "eWED7rrD8Xm6",
        "outputId": "999a4eaf-877b-416a-bffe-237f2fa7764b"
      },
      "source": [
        "def update_stats_plot(season,stat,game_type,top_num):\r\n",
        "  \r\n",
        "  pdf = ranked_by_stats_by_season_skater(season,stat,game_type).limit(top_num).toPandas()\r\n",
        " # pdf.plot.barh(x='FullName',y=\"sum({0})\".format(stat))\r\n",
        "  plt.figure(figsize=(20,10))\r\n",
        "  ax = sns.barplot(y=pdf['FullName'],x=pdf[\"sum({0})\".format(stat)],palette='deep')\r\n",
        "  ax.set_xlabel('{0}'.format(stat),fontsize=15)\r\n",
        "  ax.set_ylabel('')\r\n",
        "  plt.title('Top {0} Players by {1} in the {2} NHL Season'.format(top_num,stat,season),y=1.05,fontsize=40)\r\n",
        "  if game_type == 'R':\r\n",
        "    plt.suptitle('Regular Season',y=0.90,fontsize=15)\r\n",
        "  else:\r\n",
        "    plt.suptitle('Playoffs',y=0.90,fontsize=15)  \r\n",
        "  plt.show()\r\n",
        "\r\n",
        "interact(update_stats_plot,\r\n",
        "         season=widgets.Dropdown(options=[20112012,20122013,20132014,20142015,20152016,20162017,20172018,20182019]),\r\n",
        "         stat=widgets.Dropdown(options=['points','goals','assists','shots','hits','powerPlayGoals','powerPlayAssists','timeOnIce','penaltyMinutes','faceOffWins','faceoffTaken','takeaways','giveaways','shortHandedGoals','shortHandedAssits','blocked','plusMinus','evenTimeOnIce','powerPlayTimeOnIce','shortHandedTimeOnIce']),\r\n",
        "         game_type=widgets.Dropdown(options=[\"R\",\"P\"]),\r\n",
        "         top_num=widgets.IntSlider(value=20,min=1,max=200,step=1))\r\n"
      ],
      "execution_count": null,
      "outputs": [
        {
          "output_type": "display_data",
          "data": {
            "application/vnd.jupyter.widget-view+json": {
              "model_id": "0559b57fd4c648abbb6faadfb6574192",
              "version_minor": 0,
              "version_major": 2
            },
            "text/plain": [
              "interactive(children=(Dropdown(description='season', options=(20112012, 20122013, 20132014, 20142015, 20152016…"
            ]
          },
          "metadata": {
            "tags": []
          }
        },
        {
          "output_type": "execute_result",
          "data": {
            "text/plain": [
              "<function __main__.update_stats_plot>"
            ]
          },
          "metadata": {
            "tags": []
          },
          "execution_count": 8
        }
      ]
    },
    {
      "cell_type": "markdown",
      "metadata": {
        "id": "Kq4qZezUg5en"
      },
      "source": [
        "# Team Standings for a Given Season"
      ]
    },
    {
      "cell_type": "code",
      "metadata": {
        "id": "6XgHgt8WqTSy"
      },
      "source": [
        "from pyspark.sql.functions import udf\r\n",
        "def point_calc(won,settled):\r\n",
        "  if won == True:\r\n",
        "    points = 2\r\n",
        "  elif (won == False) & (settled == 'OT'):\r\n",
        "    points = 1\r\n",
        "  elif (won == False) & (settled == 'SO'):\r\n",
        "    points = 1 \r\n",
        "  else:\r\n",
        "    points = 0\r\n",
        "  return points\r\n",
        "\r\n",
        "point_calc_udf = udf(point_calc,'Int') "
      ],
      "execution_count": null,
      "outputs": []
    },
    {
      "cell_type": "code",
      "metadata": {
        "id": "fzX0IY7Kk4pM"
      },
      "source": [
        "points_of_teams = game_teams_stats.select('game_id','team_id','won','settled_in').join(team_info.select('team_id','shortName','teamName'),'team_id').join(games.select('game_id','season','type'),'game_id').filter(\"type='R'\")\r\n",
        "points_of_teams = points_of_teams.withColumn('points',point_calc_udf(points_of_teams['won'],points_of_teams['settled_in'])).groupBy('teamName','season').sum('points').withColumnRenamed('sum(points)','points').cache()\r\n",
        "#points_of_teams.show()\r\n",
        "#pdf = points_of_teams.filter('season = {0}'.format(20122013)).show()\r\n",
        "#display(pdf)"
      ],
      "execution_count": null,
      "outputs": []
    },
    {
      "cell_type": "code",
      "metadata": {
        "colab": {
          "base_uri": "https://localhost:8080/",
          "height": 724,
          "referenced_widgets": [
            "54d3780032f547ed92ba961899a013f8",
            "1648a928dd59499ba5b420934f736b3a",
            "0c4a62b6e1af4558a7c8f365bf3bad45",
            "7e22888efaf844b799dcd870d2c2aa86",
            "b9bf1ffa999f4c0e99679359b2e4209d",
            "440e258555134192ba7b602805e1c2e2",
            "fc949700d0884eb58f33c43d5dda7ac2"
          ]
        },
        "id": "I-2g53UFiVya",
        "outputId": "83bcf6a0-2a1d-4b3c-fae0-b146fdb59dc8"
      },
      "source": [
        "def update_standings_plot(season):\r\n",
        "  \r\n",
        "  pdf = points_of_teams.filter('season = {0}'.format(season)).orderBy('points',ascending=False).toPandas()\r\n",
        "  plt.figure(figsize=(20,10))\r\n",
        "  ax = sns.barplot(y=pdf['teamName'],x=pdf['points'],palette='deep')\r\n",
        "  ax.set_xlabel('Points',fontsize=15)\r\n",
        "  ax.set_ylabel('')\r\n",
        "  plt.title('Standings of the {0} NHL Regular Season'.format(season),y=1.05,fontsize=40)\r\n",
        "  plt.show()\r\n",
        "\r\n",
        "interact(update_standings_plot,\r\n",
        "         season=widgets.Dropdown(options=[20112012,20122013,20132014,20142015,20152016,20162017,20172018,20182019]),\r\n",
        "         )"
      ],
      "execution_count": null,
      "outputs": [
        {
          "output_type": "display_data",
          "data": {
            "application/vnd.jupyter.widget-view+json": {
              "model_id": "54d3780032f547ed92ba961899a013f8",
              "version_minor": 0,
              "version_major": 2
            },
            "text/plain": [
              "interactive(children=(Dropdown(description='season', options=(20112012, 20122013, 20132014, 20142015, 20152016…"
            ]
          },
          "metadata": {
            "tags": []
          }
        },
        {
          "output_type": "execute_result",
          "data": {
            "text/plain": [
              "<function __main__.update_standings_plot>"
            ]
          },
          "metadata": {
            "tags": []
          },
          "execution_count": 13
        }
      ]
    },
    {
      "cell_type": "markdown",
      "metadata": {
        "id": "FsGwycYogCaY"
      },
      "source": [
        "# World Map of NHL Player's Nationalities"
      ]
    },
    {
      "cell_type": "code",
      "metadata": {
        "id": "kxzoqlSYjO9q"
      },
      "source": [
        "pip install geopandas"
      ],
      "execution_count": null,
      "outputs": []
    },
    {
      "cell_type": "code",
      "metadata": {
        "id": "3NETlXntjwCq"
      },
      "source": [
        "import geopandas"
      ],
      "execution_count": null,
      "outputs": []
    },
    {
      "cell_type": "code",
      "metadata": {
        "id": "Au2KyUaaggzY"
      },
      "source": [
        "def skaters_nationalities_by_season():\r\n",
        "  player_nationality_dtf = game_skater_stats.join(player_info, \"player_id\").join(games, \"game_id\").select(\"player_id\",\"nationality\",\"season\").dropDuplicates([\"player_id\",\"season\"]).groupBy(\"nationality\",\"season\").count().withColumnRenamed(\"count\", \"player count\")\r\n",
        "  return player_nationality_dtf\r\n",
        "\r\n",
        "def goalies_nationalities_by_season():\r\n",
        "  goalie_nationality_dtf = game_goalie_stats.join(player_info, \"player_id\").join(games, \"game_id\").select(\"player_id\",\"nationality\",\"season\").dropDuplicates([\"player_id\",\"season\"]).groupBy(\"nationality\",\"season\").count().withColumnRenamed(\"count\", \"player count\")\r\n",
        "  return goalie_nationality_dtf "
      ],
      "execution_count": null,
      "outputs": []
    },
    {
      "cell_type": "code",
      "metadata": {
        "id": "gB9uv1gFLcjx"
      },
      "source": [
        "world = geopandas.read_file(geopandas.datasets.get_path('naturalearth_lowres'))"
      ],
      "execution_count": null,
      "outputs": []
    },
    {
      "cell_type": "code",
      "metadata": {
        "id": "advC89_wf2Ys"
      },
      "source": [
        "world.columns=['pop_est', 'continent', 'name', 'nationality', 'gdp_md_est', 'geometry']\r\n",
        "players_ntls_skaters = skaters_nationalities_by_season().toPandas()\r\n",
        "players_ntls_goalies = goalies_nationalities_by_season().toPandas()"
      ],
      "execution_count": null,
      "outputs": []
    },
    {
      "cell_type": "code",
      "metadata": {
        "id": "Ky5kpwhFmLEa",
        "colab": {
          "base_uri": "https://localhost:8080/",
          "height": 778,
          "referenced_widgets": [
            "1cb0e2eede0746deaef3567e34149c3c",
            "d2aded8bd85d4d6aa6dfb42299676997",
            "ae66a53d08554f41988da5861c6729f9",
            "9bf80e6e3eac4f8e85ab8cc6673d48c5",
            "edec795fd55b4245a944e7f3576251b0",
            "c66b6a539dd246328bdf339033ac5b13",
            "25cc1e033eaf4f75bedfc21d5c131f44",
            "f4a5632f7e5a4055b74266a0ad0c5e2a",
            "d61b584315ec425fbf6d6837a24131be",
            "d1bbf02f6e7340109a733ec17b870c41"
          ]
        },
        "outputId": "b2b413e9-fe47-4e48-bf21-3f2a21e4f7ba"
      },
      "source": [
        "from mpl_toolkits.axes_grid1 import make_axes_locatable\r\n",
        "cmap2 = plt.cm.Purples\r\n",
        "\r\n",
        "\r\n",
        "def update_world_plot(given_season,player_type):\r\n",
        "  \r\n",
        "  if player_type == 'all':\r\n",
        "    players_ntls = nationalities_by_season_total(season).toPandas()\r\n",
        "  elif player_type == 'skaters':\r\n",
        "    players_ntls = players_ntls_skaters[(players_ntls_skaters.season==given_season)]\r\n",
        "  elif player_type == 'goalies':\r\n",
        "    players_ntls = players_ntls_goalies[(players_ntls_goalies.season==given_season)]\r\n",
        "  \r\n",
        "\r\n",
        " # world.columns=['pop_est', 'continent', 'name', 'nationality', 'gdp_md_est', 'geometry']\r\n",
        "  players_ntls.columns=['nationality','season','player_count']\r\n",
        "  merged = world.merge(players_ntls,on=['nationality'],how='left').fillna(0)\r\n",
        "\r\n",
        "  ax = merged.plot(column='player_count',cmap='YlGnBu',figsize=(20,25),legend=True,legend_kwds={'orientation':'horizontal','pad': 0,'label': 'Number of Players'},\r\n",
        "              facecolor='blue')\r\n",
        "  ax.set_facecolor(cmap2(0.1))\r\n",
        "  plt.title('Countries by NHL Player Nationalities',fontsize=40)\r\n",
        "  plt.show()\r\n",
        "\r\n",
        "\r\n",
        "  \r\n",
        "\r\n",
        "plot= interact(update_world_plot,\r\n",
        "         given_season=widgets.Dropdown(options=[20112012,20122013,20132014,20142015,20152016,20162017,20172018,20182019]),\r\n",
        "         player_type=widgets.Dropdown(options=[\"skaters\",\"goalies\"]))\r\n",
        "\r\n",
        "plot"
      ],
      "execution_count": null,
      "outputs": [
        {
          "output_type": "display_data",
          "data": {
            "application/vnd.jupyter.widget-view+json": {
              "model_id": "1cb0e2eede0746deaef3567e34149c3c",
              "version_minor": 0,
              "version_major": 2
            },
            "text/plain": [
              "interactive(children=(Dropdown(description='given_season', options=(20112012, 20122013, 20132014, 20142015, 20…"
            ]
          },
          "metadata": {
            "tags": []
          }
        },
        {
          "output_type": "execute_result",
          "data": {
            "text/plain": [
              "<function __main__.update_world_plot>"
            ]
          },
          "metadata": {
            "tags": []
          },
          "execution_count": 19
        }
      ]
    },
    {
      "cell_type": "markdown",
      "metadata": {
        "id": "6eINOK-CExq6"
      },
      "source": [
        "# Individual Player Offensive Scatter plots/Heatmaps"
      ]
    },
    {
      "cell_type": "code",
      "metadata": {
        "id": "5ZurR9JGFLTG"
      },
      "source": [
        "game_plays_shots = game_plays.filter(\"event = 'Shot'\").select('play_id','game_id','event','st_x','st_y').join(games.select('game_id','season'),'game_id').join(game_plays_players.select('play_id','player_id'),'play_id').join(player_info.select('player_id','firstName','LastName'),'player_id').withColumn('fullName', concat_ws(' ','firstname','lastName')).cache()\r\n",
        "game_plays_goals = game_plays.filter(\"event = 'Goal'\").select('play_id','game_id','event','st_x','st_y').join(games.select('game_id','season'),'game_id').join(game_plays_players.select('play_id','player_id'),'play_id').join(player_info.select('player_id','firstName','LastName'),'player_id').withColumn('fullName', concat_ws(' ','firstname','lastName')).cache()"
      ],
      "execution_count": null,
      "outputs": []
    },
    {
      "cell_type": "code",
      "metadata": {
        "colab": {
          "base_uri": "https://localhost:8080/",
          "height": 815,
          "referenced_widgets": [
            "5275a457bf92431c9fdc6c49f93a4ac8",
            "06038dcb0c99484792337fb42a1dd5f1",
            "74c4c23c8a0f421eb4b7f8fe138e7b9d",
            "18dbe15f68364d9e96d748ae5c7be730",
            "8ddfbeead17442dab59c01b4ea250376",
            "b5d9781e9e864060a169f3fe53a8b14d",
            "16f1156244e74147b67a9836b28b4dd3",
            "76047b1da09a412893254faf111af987",
            "9ae35c24766e4d60aca4fd6446fce977",
            "648849e9e9784000b9db0726ce761743",
            "d15e02538047468cae658828d8328639",
            "490de2a7a0c14b628a33d10a775be685",
            "55e06977edfd42faa940addf1f5e8de7",
            "8349a9325df746afa8ac82a4b481360e",
            "51aa75bca24f444a8d9db5ff5253b75f",
            "ba02ce1c956a4acbab1355a07d042666"
          ]
        },
        "id": "92BYggljd9MU",
        "outputId": "c9a11f99-8643-4d69-eaf6-bdaa9a267f9d"
      },
      "source": [
        "def update_offensive_plot(season,name,stat,plot_type):\n",
        "  \n",
        "  if plot_type == 'scatter plot':\n",
        "    if stat == 'Goals':\n",
        "      Player_stats_df = game_plays_goals.filter(\"season = {0}\".format(season)).filter(\"fullName = '{0}'\".format(name)).select('st_x','st_y').toPandas().astype(float) \n",
        "    elif stat == 'Shots':\n",
        "      Player_stats_df_shots = game_plays_shots.filter(\"season = {0}\".format(season)).filter(\"fullName = '{0}'\".format(name)).select('st_x','st_y').toPandas().astype(float)  \n",
        "      Player_stats_df_goals = game_plays_goals.filter(\"season = {0}\".format(season)).filter(\"fullName = '{0}'\".format(name)).select('st_x','st_y').toPandas().astype(float)\n",
        "      Player_stats_df = Player_stats_df_shots.append(Player_stats_df_goals, ignore_index=True)\n",
        "  \n",
        "    plt.figure(figsize=(12,12))\n",
        "    plt.scatter(Player_stats_df.st_y*-1,Player_stats_df.st_x)\n",
        "    draw_Ozone()\n",
        "    plt.xlim(-42.5,42.5)\n",
        "    plt.ylim(0,100)\n",
        "    plt.tick_params(labelbottom=False,labelleft=False)\n",
        "    plt.show()\n",
        "  \n",
        "  elif plot_type == 'heat map':\n",
        "    \n",
        "    if stat == 'Goals':\n",
        "      Player_stats_df = game_plays_goals.filter(\"season = {0}\".format(season)).filter(\"fullName = '{0}'\".format(name)).select('st_x','st_y').toPandas().astype(float) \n",
        "    elif stat == 'Shots':\n",
        "      Player_stats_df_shots = game_plays_shots.filter(\"season = {0}\".format(season)).filter(\"fullName = '{0}'\".format(name)).select('st_x','st_y').toPandas().astype(float)  \n",
        "      Player_stats_df_goals = game_plays_goals.filter(\"season = {0}\".format(season)).filter(\"fullName = '{0}'\".format(name)).select('st_x','st_y').toPandas().astype(float)\n",
        "      Player_stats_df = Player_stats_df_shots.append(Player_stats_df_goals, ignore_index=True)\n",
        "    cmap=plt.cm.Blues\n",
        "    \n",
        "    joint_stats_plot = sns.jointplot(x=Player_stats_df.st_y*-1,y=Player_stats_df.st_x,\n",
        "                                 kind='kde',space=0,n_levels=50,cmap=cmap,color=cmap(0.8),shade=True,thresh=0,\n",
        "                                 fill=True)\n",
        "\n",
        "    joint_stats_plot.fig.set_size_inches(12,12)\n",
        "\n",
        "    ax = joint_stats_plot.ax_joint\n",
        "    draw_Ozone(ax)\n",
        "    ax.set_xlim(-42.5,42.5)\n",
        "    ax.set_ylim(0,100)\n",
        "\n",
        "    ax.set_xlabel('')\n",
        "    ax.set_ylabel('')\n",
        "    ax.set_facecolor(cmap(0))\n",
        "    ax.tick_params(labelbottom=False,labelleft=False)\n",
        "\n",
        "\n",
        "    plt.show()\n",
        "\n",
        "\n",
        "plot= interact(update_offensive_plot,\n",
        "         season=widgets.Dropdown(options=[20112012,20122013,20132014,20142015,20152016,20162017,20172018,20182019]),\n",
        "         stat=widgets.Dropdown(options=[\"Goals\",\"Shots\"]),\n",
        "         plot_type=widgets.Dropdown(options=[\"scatter plot\",\"heat map\"]),\n",
        "         name = widgets.Text())"
      ],
      "execution_count": null,
      "outputs": [
        {
          "output_type": "display_data",
          "data": {
            "application/vnd.jupyter.widget-view+json": {
              "model_id": "5275a457bf92431c9fdc6c49f93a4ac8",
              "version_minor": 0,
              "version_major": 2
            },
            "text/plain": [
              "interactive(children=(Dropdown(description='season', options=(20112012, 20122013, 20132014, 20142015, 20152016…"
            ]
          },
          "metadata": {
            "tags": []
          }
        }
      ]
    },
    {
      "cell_type": "markdown",
      "metadata": {
        "id": "GJEt4B0R8kra"
      },
      "source": [
        "# Game-byGame Scatter Plots"
      ]
    },
    {
      "cell_type": "code",
      "metadata": {
        "id": "PMpdsVsOcZwI"
      },
      "source": [
        "\n",
        "SelectedGameInfo = games.select('game_id','season','date_time','away_team_id','home_team_id').join(game_teams_stats.select('game_id','team_id'),'game_id').join(team_info,'team_id')\n",
        "#SelectedGameInfo.show()\n",
        "home_team_info = SelectedGameInfo.select('home_team_id','game_id','season','date_time','home_team_id','abbreviation').withColumnRenamed(\"home_team_id\",\"team_id_for\").join(game_plays, ['game_id','team_id_for']).select('game_id','season','date_time','abbreviation','event','st_x','st_y').cache()\n",
        "away_team_info = SelectedGameInfo.select('away_team_id','game_id','season','date_time','away_team_id','abbreviation').withColumnRenamed(\"away_team_id\",\"team_id_for\").join(game_plays, ['game_id','team_id_for']).select('game_id','season','date_time','abbreviation','event','st_x','st_y').cache()\n",
        "home_team_info.show()\n",
        "#away_team_info.show()\n",
        "#SelectedGameData = SelectedGameInfo.select('game_id').join(game_plays.select('game_id','event','team_id_for','st_x','st_y'),'game_id').withColumnRenamed('team_id_for','team_id').filter(\"event = 'Shot'\")\n",
        "#home_team_data = home_team_info.filter(\"abbreviation = '{0}'\".format(given_home_abrv)).filter(\"date_time = '{0}'\".format(given_date))\n",
        "#home_team_data.show()\n",
        "#away_team_data = away_team_info.join(SelectedGameData, 'team_id').select('st_x','st_y')\n",
        "#home_team_DF = home_team_data.toPandas().astype(float)\n",
        "#away_team_DF = away_team_data.toPandas().astype(float).apply(lambda x: x*-1)"
      ],
      "execution_count": null,
      "outputs": []
    },
    {
      "cell_type": "code",
      "metadata": {
        "colab": {
          "base_uri": "https://localhost:8080/",
          "height": 720,
          "referenced_widgets": [
            "a10617c6f71441a1ac3fb461a0eb2474",
            "aeb02090f3a049feb75a6993cc59965a",
            "573de65437e048aaae09ba32bc7fba60",
            "e5696c30e58046379b3e29a0db0b9ee3",
            "baa1fed01da141d0945254cf267923d6",
            "b0ace5dfb50a4a9281ed87fea8571b58",
            "81f294e7d49c456b90311ae5eda98489",
            "340f592d6e8f44c891c37d8f6bb37f01",
            "b8e4a5e0cf064d16b1fdfb818f26180b",
            "c1d246f41ab34865a98249645cc49d6f",
            "59a6e2e023884df3b82b3b69662c2b30",
            "4b5a2d8a03374f3c8c90250c18955dc7",
            "e56a24152f6949f3929e34769073ad35",
            "75131b6a1cef4de18e4c1c63783ea91b",
            "8bc9ebd6e1b842528ab892d73978830e",
            "1d354b4a41954660ac30c4163c130a45"
          ]
        },
        "id": "mT1VkOHdxkHG",
        "outputId": "723bbfc2-7336-4b99-d979-a06ec8487d81"
      },
      "source": [
        "def update_game_scatterplot(given_home_abrv,given_away_abrv,given_date,given_event):\r\n",
        "  home_team_data = home_team_info.filter(\"abbreviation = '{0}'\".format(given_home_abrv)).filter(\"date_time = '{0}'\".format(given_date)).filter(\"event = '{0}'\".format(given_event)).select('st_x','st_y')\r\n",
        "  away_team_data = away_team_info.filter(\"abbreviation = '{0}'\".format(given_away_abrv)).filter(\"date_time = '{0}'\".format(given_date)).filter(\"event = '{0}'\".format(given_event)).select('st_x','st_y')\r\n",
        "\r\n",
        "  home_team_DF = home_team_data.toPandas().astype(float)\r\n",
        "  away_team_DF = away_team_data.toPandas().astype(float).apply(lambda x: x*-1)\r\n",
        "\r\n",
        "  plt.figure(figsize=(20,10))\r\n",
        "  plt.scatter(home_team_DF.st_x,home_team_DF.st_y)\r\n",
        "  plt.scatter(away_team_DF.st_x,away_team_DF.st_y)\r\n",
        "  draw_rink()\r\n",
        "  plt.xlim(-100,100)\r\n",
        "  plt.ylim(-50,50)\r\n",
        "  plt.show()\r\n",
        "\r\n",
        "plot= interact(update_game_scatterplot,\r\n",
        "         given_home_abrv = widgets.Text(),\r\n",
        "         given_away_abrv = widgets.Text(),\r\n",
        "         given_date = widgets.Text(),\r\n",
        "         given_event = widgets.Dropdown(options=[\"Goal\",\"Shot\",\"Hit\",\"Giveaway\",\"Takeaway\"]) )\r\n"
      ],
      "execution_count": 42,
      "outputs": [
        {
          "output_type": "display_data",
          "data": {
            "application/vnd.jupyter.widget-view+json": {
              "model_id": "a10617c6f71441a1ac3fb461a0eb2474",
              "version_minor": 0,
              "version_major": 2
            },
            "text/plain": [
              "interactive(children=(Text(value='', description='given_home_abrv'), Text(value='', description='given_away_ab…"
            ]
          },
          "metadata": {
            "tags": []
          }
        }
      ]
    },
    {
      "cell_type": "code",
      "metadata": {
        "id": "ocE31vIfs5TZ"
      },
      "source": [
        ""
      ],
      "execution_count": null,
      "outputs": []
    }
  ]
}