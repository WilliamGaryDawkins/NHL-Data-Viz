{
  "nbformat": 4,
  "nbformat_minor": 0,
  "metadata": {
    "colab": {
      "name": "CS631_FinalProject.ipynb",
      "provenance": [],
      "collapsed_sections": [],
      "mount_file_id": "1hEjo13rv5voG2DRSMm6Vhtj4vY4YDkm4",
      "authorship_tag": "ABX9TyNmNiUds02HgWYlGLhPgatR",
      "include_colab_link": true
    },
    "kernelspec": {
      "name": "python3",
      "display_name": "Python 3"
    },
    "widgets": {
      "application/vnd.jupyter.widget-state+json": {
        "82b09c83e2434d79ba3efb5846f4abdb": {
          "model_module": "@jupyter-widgets/controls",
          "model_name": "VBoxModel",
          "state": {
            "_view_name": "VBoxView",
            "_dom_classes": [
              "widget-interact"
            ],
            "_model_name": "VBoxModel",
            "_view_module": "@jupyter-widgets/controls",
            "_model_module_version": "1.5.0",
            "_view_count": null,
            "_view_module_version": "1.5.0",
            "box_style": "",
            "layout": "IPY_MODEL_390306989e6f49bdae03684f253f33a6",
            "_model_module": "@jupyter-widgets/controls",
            "children": [
              "IPY_MODEL_a59278cd156742c5b79ae8885ad85ca9",
              "IPY_MODEL_17ea1c66f1a04ac1a0be395dd057ea32",
              "IPY_MODEL_85bd63fc03e64f589bf348f36f99c7c1",
              "IPY_MODEL_f17790abf07f41089fd21bc81cc0ad38",
              "IPY_MODEL_3c19c1f13f7b4e6085c60b4bbd8cb469"
            ]
          }
        },
        "390306989e6f49bdae03684f253f33a6": {
          "model_module": "@jupyter-widgets/base",
          "model_name": "LayoutModel",
          "state": {
            "_view_name": "LayoutView",
            "grid_template_rows": null,
            "right": null,
            "justify_content": null,
            "_view_module": "@jupyter-widgets/base",
            "overflow": null,
            "_model_module_version": "1.2.0",
            "_view_count": null,
            "flex_flow": null,
            "width": null,
            "min_width": null,
            "border": null,
            "align_items": null,
            "bottom": null,
            "_model_module": "@jupyter-widgets/base",
            "top": null,
            "grid_column": null,
            "overflow_y": null,
            "overflow_x": null,
            "grid_auto_flow": null,
            "grid_area": null,
            "grid_template_columns": null,
            "flex": null,
            "_model_name": "LayoutModel",
            "justify_items": null,
            "grid_row": null,
            "max_height": null,
            "align_content": null,
            "visibility": null,
            "align_self": null,
            "height": null,
            "min_height": null,
            "padding": null,
            "grid_auto_rows": null,
            "grid_gap": null,
            "max_width": null,
            "order": null,
            "_view_module_version": "1.2.0",
            "grid_template_areas": null,
            "object_position": null,
            "object_fit": null,
            "grid_auto_columns": null,
            "margin": null,
            "display": null,
            "left": null
          }
        },
        "a59278cd156742c5b79ae8885ad85ca9": {
          "model_module": "@jupyter-widgets/controls",
          "model_name": "DropdownModel",
          "state": {
            "_options_labels": [
              "20112012",
              "20122013",
              "20132014",
              "20142015",
              "20152016",
              "20162017",
              "20172018",
              "20182019"
            ],
            "_view_name": "DropdownView",
            "style": "IPY_MODEL_58d37f51f916465281082e36ad2f5ff6",
            "_dom_classes": [],
            "description": "season",
            "_model_name": "DropdownModel",
            "index": 2,
            "_view_module": "@jupyter-widgets/controls",
            "_model_module_version": "1.5.0",
            "_view_count": null,
            "disabled": false,
            "_view_module_version": "1.5.0",
            "description_tooltip": null,
            "_model_module": "@jupyter-widgets/controls",
            "layout": "IPY_MODEL_a6af04faac844343a7b9027dedbd7549"
          }
        },
        "17ea1c66f1a04ac1a0be395dd057ea32": {
          "model_module": "@jupyter-widgets/controls",
          "model_name": "DropdownModel",
          "state": {
            "_options_labels": [
              "points",
              "goals",
              "assists",
              "shots",
              "hits",
              "powerPlayGoals",
              "powerPlayAssists",
              "timeOnIce",
              "penaltyMinutes",
              "faceOffWins",
              "faceoffTaken",
              "takeaways",
              "giveaways",
              "shortHandedGoals",
              "shortHandedAssits",
              "blocked",
              "plusMinus",
              "evenTimeOnIce",
              "powerPlayTimeOnIce",
              "shortHandedTimeOnIce"
            ],
            "_view_name": "DropdownView",
            "style": "IPY_MODEL_7c1b751cba174356ad558b6525914398",
            "_dom_classes": [],
            "description": "stat",
            "_model_name": "DropdownModel",
            "index": 0,
            "_view_module": "@jupyter-widgets/controls",
            "_model_module_version": "1.5.0",
            "_view_count": null,
            "disabled": false,
            "_view_module_version": "1.5.0",
            "description_tooltip": null,
            "_model_module": "@jupyter-widgets/controls",
            "layout": "IPY_MODEL_1574b2e350364b9cae0f83c4913ef45e"
          }
        },
        "85bd63fc03e64f589bf348f36f99c7c1": {
          "model_module": "@jupyter-widgets/controls",
          "model_name": "DropdownModel",
          "state": {
            "_options_labels": [
              "R",
              "P"
            ],
            "_view_name": "DropdownView",
            "style": "IPY_MODEL_6ea2b62a0378437e9804a4bc7a36b26f",
            "_dom_classes": [],
            "description": "game_type",
            "_model_name": "DropdownModel",
            "index": 0,
            "_view_module": "@jupyter-widgets/controls",
            "_model_module_version": "1.5.0",
            "_view_count": null,
            "disabled": false,
            "_view_module_version": "1.5.0",
            "description_tooltip": null,
            "_model_module": "@jupyter-widgets/controls",
            "layout": "IPY_MODEL_aada6035ea774e34b8807beef1768b56"
          }
        },
        "f17790abf07f41089fd21bc81cc0ad38": {
          "model_module": "@jupyter-widgets/controls",
          "model_name": "IntSliderModel",
          "state": {
            "_view_name": "IntSliderView",
            "style": "IPY_MODEL_569c8651776940bbbce82ec7339d1b99",
            "_dom_classes": [],
            "description": "top_num",
            "step": 1,
            "_model_name": "IntSliderModel",
            "orientation": "horizontal",
            "max": 200,
            "_view_module": "@jupyter-widgets/controls",
            "_model_module_version": "1.5.0",
            "value": 10,
            "_view_count": null,
            "disabled": false,
            "_view_module_version": "1.5.0",
            "min": 1,
            "continuous_update": true,
            "readout_format": "d",
            "description_tooltip": null,
            "readout": true,
            "_model_module": "@jupyter-widgets/controls",
            "layout": "IPY_MODEL_96a58970ea664ce6a52be74c5d233433"
          }
        },
        "3c19c1f13f7b4e6085c60b4bbd8cb469": {
          "model_module": "@jupyter-widgets/output",
          "model_name": "OutputModel",
          "state": {
            "_view_name": "OutputView",
            "msg_id": "",
            "_dom_classes": [],
            "_model_name": "OutputModel",
            "outputs": [
              {
                "output_type": "display_data",
                "metadata": {
                  "tags": [],
                  "needs_background": "light"
                },
                "image/png": "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\n",
                "text/plain": "<Figure size 1440x720 with 1 Axes>"
              }
            ],
            "_view_module": "@jupyter-widgets/output",
            "_model_module_version": "1.0.0",
            "_view_count": null,
            "_view_module_version": "1.0.0",
            "layout": "IPY_MODEL_8bcb19786d2640f993218e0ca2e9c1f0",
            "_model_module": "@jupyter-widgets/output"
          }
        },
        "58d37f51f916465281082e36ad2f5ff6": {
          "model_module": "@jupyter-widgets/controls",
          "model_name": "DescriptionStyleModel",
          "state": {
            "_view_name": "StyleView",
            "_model_name": "DescriptionStyleModel",
            "description_width": "",
            "_view_module": "@jupyter-widgets/base",
            "_model_module_version": "1.5.0",
            "_view_count": null,
            "_view_module_version": "1.2.0",
            "_model_module": "@jupyter-widgets/controls"
          }
        },
        "a6af04faac844343a7b9027dedbd7549": {
          "model_module": "@jupyter-widgets/base",
          "model_name": "LayoutModel",
          "state": {
            "_view_name": "LayoutView",
            "grid_template_rows": null,
            "right": null,
            "justify_content": null,
            "_view_module": "@jupyter-widgets/base",
            "overflow": null,
            "_model_module_version": "1.2.0",
            "_view_count": null,
            "flex_flow": null,
            "width": null,
            "min_width": null,
            "border": null,
            "align_items": null,
            "bottom": null,
            "_model_module": "@jupyter-widgets/base",
            "top": null,
            "grid_column": null,
            "overflow_y": null,
            "overflow_x": null,
            "grid_auto_flow": null,
            "grid_area": null,
            "grid_template_columns": null,
            "flex": null,
            "_model_name": "LayoutModel",
            "justify_items": null,
            "grid_row": null,
            "max_height": null,
            "align_content": null,
            "visibility": null,
            "align_self": null,
            "height": null,
            "min_height": null,
            "padding": null,
            "grid_auto_rows": null,
            "grid_gap": null,
            "max_width": null,
            "order": null,
            "_view_module_version": "1.2.0",
            "grid_template_areas": null,
            "object_position": null,
            "object_fit": null,
            "grid_auto_columns": null,
            "margin": null,
            "display": null,
            "left": null
          }
        },
        "7c1b751cba174356ad558b6525914398": {
          "model_module": "@jupyter-widgets/controls",
          "model_name": "DescriptionStyleModel",
          "state": {
            "_view_name": "StyleView",
            "_model_name": "DescriptionStyleModel",
            "description_width": "",
            "_view_module": "@jupyter-widgets/base",
            "_model_module_version": "1.5.0",
            "_view_count": null,
            "_view_module_version": "1.2.0",
            "_model_module": "@jupyter-widgets/controls"
          }
        },
        "1574b2e350364b9cae0f83c4913ef45e": {
          "model_module": "@jupyter-widgets/base",
          "model_name": "LayoutModel",
          "state": {
            "_view_name": "LayoutView",
            "grid_template_rows": null,
            "right": null,
            "justify_content": null,
            "_view_module": "@jupyter-widgets/base",
            "overflow": null,
            "_model_module_version": "1.2.0",
            "_view_count": null,
            "flex_flow": null,
            "width": null,
            "min_width": null,
            "border": null,
            "align_items": null,
            "bottom": null,
            "_model_module": "@jupyter-widgets/base",
            "top": null,
            "grid_column": null,
            "overflow_y": null,
            "overflow_x": null,
            "grid_auto_flow": null,
            "grid_area": null,
            "grid_template_columns": null,
            "flex": null,
            "_model_name": "LayoutModel",
            "justify_items": null,
            "grid_row": null,
            "max_height": null,
            "align_content": null,
            "visibility": null,
            "align_self": null,
            "height": null,
            "min_height": null,
            "padding": null,
            "grid_auto_rows": null,
            "grid_gap": null,
            "max_width": null,
            "order": null,
            "_view_module_version": "1.2.0",
            "grid_template_areas": null,
            "object_position": null,
            "object_fit": null,
            "grid_auto_columns": null,
            "margin": null,
            "display": null,
            "left": null
          }
        },
        "6ea2b62a0378437e9804a4bc7a36b26f": {
          "model_module": "@jupyter-widgets/controls",
          "model_name": "DescriptionStyleModel",
          "state": {
            "_view_name": "StyleView",
            "_model_name": "DescriptionStyleModel",
            "description_width": "",
            "_view_module": "@jupyter-widgets/base",
            "_model_module_version": "1.5.0",
            "_view_count": null,
            "_view_module_version": "1.2.0",
            "_model_module": "@jupyter-widgets/controls"
          }
        },
        "aada6035ea774e34b8807beef1768b56": {
          "model_module": "@jupyter-widgets/base",
          "model_name": "LayoutModel",
          "state": {
            "_view_name": "LayoutView",
            "grid_template_rows": null,
            "right": null,
            "justify_content": null,
            "_view_module": "@jupyter-widgets/base",
            "overflow": null,
            "_model_module_version": "1.2.0",
            "_view_count": null,
            "flex_flow": null,
            "width": null,
            "min_width": null,
            "border": null,
            "align_items": null,
            "bottom": null,
            "_model_module": "@jupyter-widgets/base",
            "top": null,
            "grid_column": null,
            "overflow_y": null,
            "overflow_x": null,
            "grid_auto_flow": null,
            "grid_area": null,
            "grid_template_columns": null,
            "flex": null,
            "_model_name": "LayoutModel",
            "justify_items": null,
            "grid_row": null,
            "max_height": null,
            "align_content": null,
            "visibility": null,
            "align_self": null,
            "height": null,
            "min_height": null,
            "padding": null,
            "grid_auto_rows": null,
            "grid_gap": null,
            "max_width": null,
            "order": null,
            "_view_module_version": "1.2.0",
            "grid_template_areas": null,
            "object_position": null,
            "object_fit": null,
            "grid_auto_columns": null,
            "margin": null,
            "display": null,
            "left": null
          }
        },
        "569c8651776940bbbce82ec7339d1b99": {
          "model_module": "@jupyter-widgets/controls",
          "model_name": "SliderStyleModel",
          "state": {
            "_view_name": "StyleView",
            "handle_color": null,
            "_model_name": "SliderStyleModel",
            "description_width": "",
            "_view_module": "@jupyter-widgets/base",
            "_model_module_version": "1.5.0",
            "_view_count": null,
            "_view_module_version": "1.2.0",
            "_model_module": "@jupyter-widgets/controls"
          }
        },
        "96a58970ea664ce6a52be74c5d233433": {
          "model_module": "@jupyter-widgets/base",
          "model_name": "LayoutModel",
          "state": {
            "_view_name": "LayoutView",
            "grid_template_rows": null,
            "right": null,
            "justify_content": null,
            "_view_module": "@jupyter-widgets/base",
            "overflow": null,
            "_model_module_version": "1.2.0",
            "_view_count": null,
            "flex_flow": null,
            "width": null,
            "min_width": null,
            "border": null,
            "align_items": null,
            "bottom": null,
            "_model_module": "@jupyter-widgets/base",
            "top": null,
            "grid_column": null,
            "overflow_y": null,
            "overflow_x": null,
            "grid_auto_flow": null,
            "grid_area": null,
            "grid_template_columns": null,
            "flex": null,
            "_model_name": "LayoutModel",
            "justify_items": null,
            "grid_row": null,
            "max_height": null,
            "align_content": null,
            "visibility": null,
            "align_self": null,
            "height": null,
            "min_height": null,
            "padding": null,
            "grid_auto_rows": null,
            "grid_gap": null,
            "max_width": null,
            "order": null,
            "_view_module_version": "1.2.0",
            "grid_template_areas": null,
            "object_position": null,
            "object_fit": null,
            "grid_auto_columns": null,
            "margin": null,
            "display": null,
            "left": null
          }
        },
        "8bcb19786d2640f993218e0ca2e9c1f0": {
          "model_module": "@jupyter-widgets/base",
          "model_name": "LayoutModel",
          "state": {
            "_view_name": "LayoutView",
            "grid_template_rows": null,
            "right": null,
            "justify_content": null,
            "_view_module": "@jupyter-widgets/base",
            "overflow": null,
            "_model_module_version": "1.2.0",
            "_view_count": null,
            "flex_flow": null,
            "width": null,
            "min_width": null,
            "border": null,
            "align_items": null,
            "bottom": null,
            "_model_module": "@jupyter-widgets/base",
            "top": null,
            "grid_column": null,
            "overflow_y": null,
            "overflow_x": null,
            "grid_auto_flow": null,
            "grid_area": null,
            "grid_template_columns": null,
            "flex": null,
            "_model_name": "LayoutModel",
            "justify_items": null,
            "grid_row": null,
            "max_height": null,
            "align_content": null,
            "visibility": null,
            "align_self": null,
            "height": null,
            "min_height": null,
            "padding": null,
            "grid_auto_rows": null,
            "grid_gap": null,
            "max_width": null,
            "order": null,
            "_view_module_version": "1.2.0",
            "grid_template_areas": null,
            "object_position": null,
            "object_fit": null,
            "grid_auto_columns": null,
            "margin": null,
            "display": null,
            "left": null
          }
        },
        "3b0b76c428654f91aa3b6f204e064a52": {
          "model_module": "@jupyter-widgets/controls",
          "model_name": "VBoxModel",
          "state": {
            "_view_name": "VBoxView",
            "_dom_classes": [
              "widget-interact"
            ],
            "_model_name": "VBoxModel",
            "_view_module": "@jupyter-widgets/controls",
            "_model_module_version": "1.5.0",
            "_view_count": null,
            "_view_module_version": "1.5.0",
            "box_style": "",
            "layout": "IPY_MODEL_e61e42c9d0ee4339af08b08c99e03c14",
            "_model_module": "@jupyter-widgets/controls",
            "children": [
              "IPY_MODEL_b8657d1b9e084d0bbb03195c31434ce8",
              "IPY_MODEL_58108117211447fd8920f29a9ece31ae"
            ]
          }
        },
        "e61e42c9d0ee4339af08b08c99e03c14": {
          "model_module": "@jupyter-widgets/base",
          "model_name": "LayoutModel",
          "state": {
            "_view_name": "LayoutView",
            "grid_template_rows": null,
            "right": null,
            "justify_content": null,
            "_view_module": "@jupyter-widgets/base",
            "overflow": null,
            "_model_module_version": "1.2.0",
            "_view_count": null,
            "flex_flow": null,
            "width": null,
            "min_width": null,
            "border": null,
            "align_items": null,
            "bottom": null,
            "_model_module": "@jupyter-widgets/base",
            "top": null,
            "grid_column": null,
            "overflow_y": null,
            "overflow_x": null,
            "grid_auto_flow": null,
            "grid_area": null,
            "grid_template_columns": null,
            "flex": null,
            "_model_name": "LayoutModel",
            "justify_items": null,
            "grid_row": null,
            "max_height": null,
            "align_content": null,
            "visibility": null,
            "align_self": null,
            "height": null,
            "min_height": null,
            "padding": null,
            "grid_auto_rows": null,
            "grid_gap": null,
            "max_width": null,
            "order": null,
            "_view_module_version": "1.2.0",
            "grid_template_areas": null,
            "object_position": null,
            "object_fit": null,
            "grid_auto_columns": null,
            "margin": null,
            "display": null,
            "left": null
          }
        },
        "b8657d1b9e084d0bbb03195c31434ce8": {
          "model_module": "@jupyter-widgets/controls",
          "model_name": "DropdownModel",
          "state": {
            "_options_labels": [
              "20112012",
              "20122013",
              "20132014",
              "20142015",
              "20152016",
              "20162017",
              "20172018",
              "20182019"
            ],
            "_view_name": "DropdownView",
            "style": "IPY_MODEL_bbb450f36a6649228c407c5b5ede4626",
            "_dom_classes": [],
            "description": "season",
            "_model_name": "DropdownModel",
            "index": 4,
            "_view_module": "@jupyter-widgets/controls",
            "_model_module_version": "1.5.0",
            "_view_count": null,
            "disabled": false,
            "_view_module_version": "1.5.0",
            "description_tooltip": null,
            "_model_module": "@jupyter-widgets/controls",
            "layout": "IPY_MODEL_1b86fa8ce90c4a39b1c38b2151c45ecb"
          }
        },
        "58108117211447fd8920f29a9ece31ae": {
          "model_module": "@jupyter-widgets/output",
          "model_name": "OutputModel",
          "state": {
            "_view_name": "OutputView",
            "msg_id": "",
            "_dom_classes": [],
            "_model_name": "OutputModel",
            "outputs": [
              {
                "output_type": "display_data",
                "metadata": {
                  "tags": [],
                  "needs_background": "light"
                },
                "image/png": "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\n",
                "text/plain": "<Figure size 1440x720 with 1 Axes>"
              }
            ],
            "_view_module": "@jupyter-widgets/output",
            "_model_module_version": "1.0.0",
            "_view_count": null,
            "_view_module_version": "1.0.0",
            "layout": "IPY_MODEL_9f40c5f197b843e788d85cc13dd14242",
            "_model_module": "@jupyter-widgets/output"
          }
        },
        "bbb450f36a6649228c407c5b5ede4626": {
          "model_module": "@jupyter-widgets/controls",
          "model_name": "DescriptionStyleModel",
          "state": {
            "_view_name": "StyleView",
            "_model_name": "DescriptionStyleModel",
            "description_width": "",
            "_view_module": "@jupyter-widgets/base",
            "_model_module_version": "1.5.0",
            "_view_count": null,
            "_view_module_version": "1.2.0",
            "_model_module": "@jupyter-widgets/controls"
          }
        },
        "1b86fa8ce90c4a39b1c38b2151c45ecb": {
          "model_module": "@jupyter-widgets/base",
          "model_name": "LayoutModel",
          "state": {
            "_view_name": "LayoutView",
            "grid_template_rows": null,
            "right": null,
            "justify_content": null,
            "_view_module": "@jupyter-widgets/base",
            "overflow": null,
            "_model_module_version": "1.2.0",
            "_view_count": null,
            "flex_flow": null,
            "width": null,
            "min_width": null,
            "border": null,
            "align_items": null,
            "bottom": null,
            "_model_module": "@jupyter-widgets/base",
            "top": null,
            "grid_column": null,
            "overflow_y": null,
            "overflow_x": null,
            "grid_auto_flow": null,
            "grid_area": null,
            "grid_template_columns": null,
            "flex": null,
            "_model_name": "LayoutModel",
            "justify_items": null,
            "grid_row": null,
            "max_height": null,
            "align_content": null,
            "visibility": null,
            "align_self": null,
            "height": null,
            "min_height": null,
            "padding": null,
            "grid_auto_rows": null,
            "grid_gap": null,
            "max_width": null,
            "order": null,
            "_view_module_version": "1.2.0",
            "grid_template_areas": null,
            "object_position": null,
            "object_fit": null,
            "grid_auto_columns": null,
            "margin": null,
            "display": null,
            "left": null
          }
        },
        "9f40c5f197b843e788d85cc13dd14242": {
          "model_module": "@jupyter-widgets/base",
          "model_name": "LayoutModel",
          "state": {
            "_view_name": "LayoutView",
            "grid_template_rows": null,
            "right": null,
            "justify_content": null,
            "_view_module": "@jupyter-widgets/base",
            "overflow": null,
            "_model_module_version": "1.2.0",
            "_view_count": null,
            "flex_flow": null,
            "width": null,
            "min_width": null,
            "border": null,
            "align_items": null,
            "bottom": null,
            "_model_module": "@jupyter-widgets/base",
            "top": null,
            "grid_column": null,
            "overflow_y": null,
            "overflow_x": null,
            "grid_auto_flow": null,
            "grid_area": null,
            "grid_template_columns": null,
            "flex": null,
            "_model_name": "LayoutModel",
            "justify_items": null,
            "grid_row": null,
            "max_height": null,
            "align_content": null,
            "visibility": null,
            "align_self": null,
            "height": null,
            "min_height": null,
            "padding": null,
            "grid_auto_rows": null,
            "grid_gap": null,
            "max_width": null,
            "order": null,
            "_view_module_version": "1.2.0",
            "grid_template_areas": null,
            "object_position": null,
            "object_fit": null,
            "grid_auto_columns": null,
            "margin": null,
            "display": null,
            "left": null
          }
        },
        "62f22754676f4ca98fabb6fb3f8f8815": {
          "model_module": "@jupyter-widgets/controls",
          "model_name": "VBoxModel",
          "state": {
            "_view_name": "VBoxView",
            "_dom_classes": [
              "widget-interact"
            ],
            "_model_name": "VBoxModel",
            "_view_module": "@jupyter-widgets/controls",
            "_model_module_version": "1.5.0",
            "_view_count": null,
            "_view_module_version": "1.5.0",
            "box_style": "",
            "layout": "IPY_MODEL_fdd9194a7977478eb66200135c45bd37",
            "_model_module": "@jupyter-widgets/controls",
            "children": [
              "IPY_MODEL_f0043bfa8c0c4ef8b82a765b3e21e24e",
              "IPY_MODEL_b274108d345147038c7c5b93bc7d1890",
              "IPY_MODEL_5ade8e43298e4d289babd8767ca38494"
            ]
          }
        },
        "fdd9194a7977478eb66200135c45bd37": {
          "model_module": "@jupyter-widgets/base",
          "model_name": "LayoutModel",
          "state": {
            "_view_name": "LayoutView",
            "grid_template_rows": null,
            "right": null,
            "justify_content": null,
            "_view_module": "@jupyter-widgets/base",
            "overflow": null,
            "_model_module_version": "1.2.0",
            "_view_count": null,
            "flex_flow": null,
            "width": null,
            "min_width": null,
            "border": null,
            "align_items": null,
            "bottom": null,
            "_model_module": "@jupyter-widgets/base",
            "top": null,
            "grid_column": null,
            "overflow_y": null,
            "overflow_x": null,
            "grid_auto_flow": null,
            "grid_area": null,
            "grid_template_columns": null,
            "flex": null,
            "_model_name": "LayoutModel",
            "justify_items": null,
            "grid_row": null,
            "max_height": null,
            "align_content": null,
            "visibility": null,
            "align_self": null,
            "height": null,
            "min_height": null,
            "padding": null,
            "grid_auto_rows": null,
            "grid_gap": null,
            "max_width": null,
            "order": null,
            "_view_module_version": "1.2.0",
            "grid_template_areas": null,
            "object_position": null,
            "object_fit": null,
            "grid_auto_columns": null,
            "margin": null,
            "display": null,
            "left": null
          }
        },
        "f0043bfa8c0c4ef8b82a765b3e21e24e": {
          "model_module": "@jupyter-widgets/controls",
          "model_name": "DropdownModel",
          "state": {
            "_options_labels": [
              "20112012",
              "20122013",
              "20132014",
              "20142015",
              "20152016",
              "20162017",
              "20172018",
              "20182019"
            ],
            "_view_name": "DropdownView",
            "style": "IPY_MODEL_ea6c030a4fde4213a3e575f39635681f",
            "_dom_classes": [],
            "description": "given_season",
            "_model_name": "DropdownModel",
            "index": 4,
            "_view_module": "@jupyter-widgets/controls",
            "_model_module_version": "1.5.0",
            "_view_count": null,
            "disabled": false,
            "_view_module_version": "1.5.0",
            "description_tooltip": null,
            "_model_module": "@jupyter-widgets/controls",
            "layout": "IPY_MODEL_8a9ae55040944687a6473cd49f092e29"
          }
        },
        "b274108d345147038c7c5b93bc7d1890": {
          "model_module": "@jupyter-widgets/controls",
          "model_name": "DropdownModel",
          "state": {
            "_options_labels": [
              "skaters",
              "goalies"
            ],
            "_view_name": "DropdownView",
            "style": "IPY_MODEL_8b1ef9f073054da582dc0076628a3707",
            "_dom_classes": [],
            "description": "player_type",
            "_model_name": "DropdownModel",
            "index": 1,
            "_view_module": "@jupyter-widgets/controls",
            "_model_module_version": "1.5.0",
            "_view_count": null,
            "disabled": false,
            "_view_module_version": "1.5.0",
            "description_tooltip": null,
            "_model_module": "@jupyter-widgets/controls",
            "layout": "IPY_MODEL_5101e6207ddc4174a39dbc6e126aaeb5"
          }
        },
        "5ade8e43298e4d289babd8767ca38494": {
          "model_module": "@jupyter-widgets/output",
          "model_name": "OutputModel",
          "state": {
            "_view_name": "OutputView",
            "msg_id": "",
            "_dom_classes": [],
            "_model_name": "OutputModel",
            "outputs": [
              {
                "output_type": "display_data",
                "metadata": {
                  "tags": [],
                  "needs_background": "light"
                },
                "image/png": "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\n",
                "text/plain": "<Figure size 1440x1800 with 2 Axes>"
              }
            ],
            "_view_module": "@jupyter-widgets/output",
            "_model_module_version": "1.0.0",
            "_view_count": null,
            "_view_module_version": "1.0.0",
            "layout": "IPY_MODEL_735d4030c82f427fb507a2c5d2cb9346",
            "_model_module": "@jupyter-widgets/output"
          }
        },
        "ea6c030a4fde4213a3e575f39635681f": {
          "model_module": "@jupyter-widgets/controls",
          "model_name": "DescriptionStyleModel",
          "state": {
            "_view_name": "StyleView",
            "_model_name": "DescriptionStyleModel",
            "description_width": "",
            "_view_module": "@jupyter-widgets/base",
            "_model_module_version": "1.5.0",
            "_view_count": null,
            "_view_module_version": "1.2.0",
            "_model_module": "@jupyter-widgets/controls"
          }
        },
        "8a9ae55040944687a6473cd49f092e29": {
          "model_module": "@jupyter-widgets/base",
          "model_name": "LayoutModel",
          "state": {
            "_view_name": "LayoutView",
            "grid_template_rows": null,
            "right": null,
            "justify_content": null,
            "_view_module": "@jupyter-widgets/base",
            "overflow": null,
            "_model_module_version": "1.2.0",
            "_view_count": null,
            "flex_flow": null,
            "width": null,
            "min_width": null,
            "border": null,
            "align_items": null,
            "bottom": null,
            "_model_module": "@jupyter-widgets/base",
            "top": null,
            "grid_column": null,
            "overflow_y": null,
            "overflow_x": null,
            "grid_auto_flow": null,
            "grid_area": null,
            "grid_template_columns": null,
            "flex": null,
            "_model_name": "LayoutModel",
            "justify_items": null,
            "grid_row": null,
            "max_height": null,
            "align_content": null,
            "visibility": null,
            "align_self": null,
            "height": null,
            "min_height": null,
            "padding": null,
            "grid_auto_rows": null,
            "grid_gap": null,
            "max_width": null,
            "order": null,
            "_view_module_version": "1.2.0",
            "grid_template_areas": null,
            "object_position": null,
            "object_fit": null,
            "grid_auto_columns": null,
            "margin": null,
            "display": null,
            "left": null
          }
        },
        "8b1ef9f073054da582dc0076628a3707": {
          "model_module": "@jupyter-widgets/controls",
          "model_name": "DescriptionStyleModel",
          "state": {
            "_view_name": "StyleView",
            "_model_name": "DescriptionStyleModel",
            "description_width": "",
            "_view_module": "@jupyter-widgets/base",
            "_model_module_version": "1.5.0",
            "_view_count": null,
            "_view_module_version": "1.2.0",
            "_model_module": "@jupyter-widgets/controls"
          }
        },
        "5101e6207ddc4174a39dbc6e126aaeb5": {
          "model_module": "@jupyter-widgets/base",
          "model_name": "LayoutModel",
          "state": {
            "_view_name": "LayoutView",
            "grid_template_rows": null,
            "right": null,
            "justify_content": null,
            "_view_module": "@jupyter-widgets/base",
            "overflow": null,
            "_model_module_version": "1.2.0",
            "_view_count": null,
            "flex_flow": null,
            "width": null,
            "min_width": null,
            "border": null,
            "align_items": null,
            "bottom": null,
            "_model_module": "@jupyter-widgets/base",
            "top": null,
            "grid_column": null,
            "overflow_y": null,
            "overflow_x": null,
            "grid_auto_flow": null,
            "grid_area": null,
            "grid_template_columns": null,
            "flex": null,
            "_model_name": "LayoutModel",
            "justify_items": null,
            "grid_row": null,
            "max_height": null,
            "align_content": null,
            "visibility": null,
            "align_self": null,
            "height": null,
            "min_height": null,
            "padding": null,
            "grid_auto_rows": null,
            "grid_gap": null,
            "max_width": null,
            "order": null,
            "_view_module_version": "1.2.0",
            "grid_template_areas": null,
            "object_position": null,
            "object_fit": null,
            "grid_auto_columns": null,
            "margin": null,
            "display": null,
            "left": null
          }
        },
        "735d4030c82f427fb507a2c5d2cb9346": {
          "model_module": "@jupyter-widgets/base",
          "model_name": "LayoutModel",
          "state": {
            "_view_name": "LayoutView",
            "grid_template_rows": null,
            "right": null,
            "justify_content": null,
            "_view_module": "@jupyter-widgets/base",
            "overflow": null,
            "_model_module_version": "1.2.0",
            "_view_count": null,
            "flex_flow": null,
            "width": null,
            "min_width": null,
            "border": null,
            "align_items": null,
            "bottom": null,
            "_model_module": "@jupyter-widgets/base",
            "top": null,
            "grid_column": null,
            "overflow_y": null,
            "overflow_x": null,
            "grid_auto_flow": null,
            "grid_area": null,
            "grid_template_columns": null,
            "flex": null,
            "_model_name": "LayoutModel",
            "justify_items": null,
            "grid_row": null,
            "max_height": null,
            "align_content": null,
            "visibility": null,
            "align_self": null,
            "height": null,
            "min_height": null,
            "padding": null,
            "grid_auto_rows": null,
            "grid_gap": null,
            "max_width": null,
            "order": null,
            "_view_module_version": "1.2.0",
            "grid_template_areas": null,
            "object_position": null,
            "object_fit": null,
            "grid_auto_columns": null,
            "margin": null,
            "display": null,
            "left": null
          }
        },
        "7fb6f4b339974759b41446eb3e2d936f": {
          "model_module": "@jupyter-widgets/controls",
          "model_name": "VBoxModel",
          "state": {
            "_view_name": "VBoxView",
            "_dom_classes": [
              "widget-interact"
            ],
            "_model_name": "VBoxModel",
            "_view_module": "@jupyter-widgets/controls",
            "_model_module_version": "1.5.0",
            "_view_count": null,
            "_view_module_version": "1.5.0",
            "box_style": "",
            "layout": "IPY_MODEL_fe70319d52ce47b7b20e4823c3e18795",
            "_model_module": "@jupyter-widgets/controls",
            "children": [
              "IPY_MODEL_f63d2168659145a4a39946baece05f95",
              "IPY_MODEL_d21bc50773ee445a8e6ed3f86ba4da00",
              "IPY_MODEL_050bd670f3144d17ad710b599ee87aea",
              "IPY_MODEL_ad97218b288e4430a60f2861ec1d47d5",
              "IPY_MODEL_05fa7ec79954419586e723febf35f7cd"
            ]
          }
        },
        "fe70319d52ce47b7b20e4823c3e18795": {
          "model_module": "@jupyter-widgets/base",
          "model_name": "LayoutModel",
          "state": {
            "_view_name": "LayoutView",
            "grid_template_rows": null,
            "right": null,
            "justify_content": null,
            "_view_module": "@jupyter-widgets/base",
            "overflow": null,
            "_model_module_version": "1.2.0",
            "_view_count": null,
            "flex_flow": null,
            "width": null,
            "min_width": null,
            "border": null,
            "align_items": null,
            "bottom": null,
            "_model_module": "@jupyter-widgets/base",
            "top": null,
            "grid_column": null,
            "overflow_y": null,
            "overflow_x": null,
            "grid_auto_flow": null,
            "grid_area": null,
            "grid_template_columns": null,
            "flex": null,
            "_model_name": "LayoutModel",
            "justify_items": null,
            "grid_row": null,
            "max_height": null,
            "align_content": null,
            "visibility": null,
            "align_self": null,
            "height": null,
            "min_height": null,
            "padding": null,
            "grid_auto_rows": null,
            "grid_gap": null,
            "max_width": null,
            "order": null,
            "_view_module_version": "1.2.0",
            "grid_template_areas": null,
            "object_position": null,
            "object_fit": null,
            "grid_auto_columns": null,
            "margin": null,
            "display": null,
            "left": null
          }
        },
        "f63d2168659145a4a39946baece05f95": {
          "model_module": "@jupyter-widgets/controls",
          "model_name": "DropdownModel",
          "state": {
            "_options_labels": [
              "20112012",
              "20122013",
              "20132014",
              "20142015",
              "20152016",
              "20162017",
              "20172018",
              "20182019"
            ],
            "_view_name": "DropdownView",
            "style": "IPY_MODEL_ebda07c5c8c745efbb8b72d3359954e5",
            "_dom_classes": [],
            "description": "season",
            "_model_name": "DropdownModel",
            "index": 5,
            "_view_module": "@jupyter-widgets/controls",
            "_model_module_version": "1.5.0",
            "_view_count": null,
            "disabled": false,
            "_view_module_version": "1.5.0",
            "description_tooltip": null,
            "_model_module": "@jupyter-widgets/controls",
            "layout": "IPY_MODEL_f3242fe854544a9a99ecd57008663aed"
          }
        },
        "d21bc50773ee445a8e6ed3f86ba4da00": {
          "model_module": "@jupyter-widgets/controls",
          "model_name": "TextModel",
          "state": {
            "_view_name": "TextView",
            "style": "IPY_MODEL_64ddb08daa8b48268968b72a1d2f0926",
            "_dom_classes": [],
            "description": "name",
            "_model_name": "TextModel",
            "placeholder": "​",
            "_view_module": "@jupyter-widgets/controls",
            "_model_module_version": "1.5.0",
            "value": "Auston Matthews",
            "_view_count": null,
            "disabled": false,
            "_view_module_version": "1.5.0",
            "continuous_update": true,
            "description_tooltip": null,
            "_model_module": "@jupyter-widgets/controls",
            "layout": "IPY_MODEL_8c872b64dfcd461b81bffde2208518f1"
          }
        },
        "050bd670f3144d17ad710b599ee87aea": {
          "model_module": "@jupyter-widgets/controls",
          "model_name": "DropdownModel",
          "state": {
            "_options_labels": [
              "Goals",
              "Shots"
            ],
            "_view_name": "DropdownView",
            "style": "IPY_MODEL_a7bed692db714ab28b060b5af4491868",
            "_dom_classes": [],
            "description": "stat",
            "_model_name": "DropdownModel",
            "index": 0,
            "_view_module": "@jupyter-widgets/controls",
            "_model_module_version": "1.5.0",
            "_view_count": null,
            "disabled": false,
            "_view_module_version": "1.5.0",
            "description_tooltip": null,
            "_model_module": "@jupyter-widgets/controls",
            "layout": "IPY_MODEL_8098db343f63484ca143c6eee656c108"
          }
        },
        "ad97218b288e4430a60f2861ec1d47d5": {
          "model_module": "@jupyter-widgets/controls",
          "model_name": "DropdownModel",
          "state": {
            "_options_labels": [
              "scatter plot",
              "heat map"
            ],
            "_view_name": "DropdownView",
            "style": "IPY_MODEL_72cce967f4784600bcd432de02adfa65",
            "_dom_classes": [],
            "description": "plot_type",
            "_model_name": "DropdownModel",
            "index": 1,
            "_view_module": "@jupyter-widgets/controls",
            "_model_module_version": "1.5.0",
            "_view_count": null,
            "disabled": false,
            "_view_module_version": "1.5.0",
            "description_tooltip": null,
            "_model_module": "@jupyter-widgets/controls",
            "layout": "IPY_MODEL_5f08f31b34d34c0bb809f99b3d8bc2a6"
          }
        },
        "05fa7ec79954419586e723febf35f7cd": {
          "model_module": "@jupyter-widgets/output",
          "model_name": "OutputModel",
          "state": {
            "_view_name": "OutputView",
            "msg_id": "",
            "_dom_classes": [],
            "_model_name": "OutputModel",
            "outputs": [
              {
                "output_type": "display_data",
                "metadata": {
                  "tags": []
                },
                "image/png": "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\n",
                "text/plain": "<Figure size 864x864 with 3 Axes>"
              }
            ],
            "_view_module": "@jupyter-widgets/output",
            "_model_module_version": "1.0.0",
            "_view_count": null,
            "_view_module_version": "1.0.0",
            "layout": "IPY_MODEL_d16f04494b394cabb79183e661ccc63a",
            "_model_module": "@jupyter-widgets/output"
          }
        },
        "ebda07c5c8c745efbb8b72d3359954e5": {
          "model_module": "@jupyter-widgets/controls",
          "model_name": "DescriptionStyleModel",
          "state": {
            "_view_name": "StyleView",
            "_model_name": "DescriptionStyleModel",
            "description_width": "",
            "_view_module": "@jupyter-widgets/base",
            "_model_module_version": "1.5.0",
            "_view_count": null,
            "_view_module_version": "1.2.0",
            "_model_module": "@jupyter-widgets/controls"
          }
        },
        "f3242fe854544a9a99ecd57008663aed": {
          "model_module": "@jupyter-widgets/base",
          "model_name": "LayoutModel",
          "state": {
            "_view_name": "LayoutView",
            "grid_template_rows": null,
            "right": null,
            "justify_content": null,
            "_view_module": "@jupyter-widgets/base",
            "overflow": null,
            "_model_module_version": "1.2.0",
            "_view_count": null,
            "flex_flow": null,
            "width": null,
            "min_width": null,
            "border": null,
            "align_items": null,
            "bottom": null,
            "_model_module": "@jupyter-widgets/base",
            "top": null,
            "grid_column": null,
            "overflow_y": null,
            "overflow_x": null,
            "grid_auto_flow": null,
            "grid_area": null,
            "grid_template_columns": null,
            "flex": null,
            "_model_name": "LayoutModel",
            "justify_items": null,
            "grid_row": null,
            "max_height": null,
            "align_content": null,
            "visibility": null,
            "align_self": null,
            "height": null,
            "min_height": null,
            "padding": null,
            "grid_auto_rows": null,
            "grid_gap": null,
            "max_width": null,
            "order": null,
            "_view_module_version": "1.2.0",
            "grid_template_areas": null,
            "object_position": null,
            "object_fit": null,
            "grid_auto_columns": null,
            "margin": null,
            "display": null,
            "left": null
          }
        },
        "64ddb08daa8b48268968b72a1d2f0926": {
          "model_module": "@jupyter-widgets/controls",
          "model_name": "DescriptionStyleModel",
          "state": {
            "_view_name": "StyleView",
            "_model_name": "DescriptionStyleModel",
            "description_width": "",
            "_view_module": "@jupyter-widgets/base",
            "_model_module_version": "1.5.0",
            "_view_count": null,
            "_view_module_version": "1.2.0",
            "_model_module": "@jupyter-widgets/controls"
          }
        },
        "8c872b64dfcd461b81bffde2208518f1": {
          "model_module": "@jupyter-widgets/base",
          "model_name": "LayoutModel",
          "state": {
            "_view_name": "LayoutView",
            "grid_template_rows": null,
            "right": null,
            "justify_content": null,
            "_view_module": "@jupyter-widgets/base",
            "overflow": null,
            "_model_module_version": "1.2.0",
            "_view_count": null,
            "flex_flow": null,
            "width": null,
            "min_width": null,
            "border": null,
            "align_items": null,
            "bottom": null,
            "_model_module": "@jupyter-widgets/base",
            "top": null,
            "grid_column": null,
            "overflow_y": null,
            "overflow_x": null,
            "grid_auto_flow": null,
            "grid_area": null,
            "grid_template_columns": null,
            "flex": null,
            "_model_name": "LayoutModel",
            "justify_items": null,
            "grid_row": null,
            "max_height": null,
            "align_content": null,
            "visibility": null,
            "align_self": null,
            "height": null,
            "min_height": null,
            "padding": null,
            "grid_auto_rows": null,
            "grid_gap": null,
            "max_width": null,
            "order": null,
            "_view_module_version": "1.2.0",
            "grid_template_areas": null,
            "object_position": null,
            "object_fit": null,
            "grid_auto_columns": null,
            "margin": null,
            "display": null,
            "left": null
          }
        },
        "a7bed692db714ab28b060b5af4491868": {
          "model_module": "@jupyter-widgets/controls",
          "model_name": "DescriptionStyleModel",
          "state": {
            "_view_name": "StyleView",
            "_model_name": "DescriptionStyleModel",
            "description_width": "",
            "_view_module": "@jupyter-widgets/base",
            "_model_module_version": "1.5.0",
            "_view_count": null,
            "_view_module_version": "1.2.0",
            "_model_module": "@jupyter-widgets/controls"
          }
        },
        "8098db343f63484ca143c6eee656c108": {
          "model_module": "@jupyter-widgets/base",
          "model_name": "LayoutModel",
          "state": {
            "_view_name": "LayoutView",
            "grid_template_rows": null,
            "right": null,
            "justify_content": null,
            "_view_module": "@jupyter-widgets/base",
            "overflow": null,
            "_model_module_version": "1.2.0",
            "_view_count": null,
            "flex_flow": null,
            "width": null,
            "min_width": null,
            "border": null,
            "align_items": null,
            "bottom": null,
            "_model_module": "@jupyter-widgets/base",
            "top": null,
            "grid_column": null,
            "overflow_y": null,
            "overflow_x": null,
            "grid_auto_flow": null,
            "grid_area": null,
            "grid_template_columns": null,
            "flex": null,
            "_model_name": "LayoutModel",
            "justify_items": null,
            "grid_row": null,
            "max_height": null,
            "align_content": null,
            "visibility": null,
            "align_self": null,
            "height": null,
            "min_height": null,
            "padding": null,
            "grid_auto_rows": null,
            "grid_gap": null,
            "max_width": null,
            "order": null,
            "_view_module_version": "1.2.0",
            "grid_template_areas": null,
            "object_position": null,
            "object_fit": null,
            "grid_auto_columns": null,
            "margin": null,
            "display": null,
            "left": null
          }
        },
        "72cce967f4784600bcd432de02adfa65": {
          "model_module": "@jupyter-widgets/controls",
          "model_name": "DescriptionStyleModel",
          "state": {
            "_view_name": "StyleView",
            "_model_name": "DescriptionStyleModel",
            "description_width": "",
            "_view_module": "@jupyter-widgets/base",
            "_model_module_version": "1.5.0",
            "_view_count": null,
            "_view_module_version": "1.2.0",
            "_model_module": "@jupyter-widgets/controls"
          }
        },
        "5f08f31b34d34c0bb809f99b3d8bc2a6": {
          "model_module": "@jupyter-widgets/base",
          "model_name": "LayoutModel",
          "state": {
            "_view_name": "LayoutView",
            "grid_template_rows": null,
            "right": null,
            "justify_content": null,
            "_view_module": "@jupyter-widgets/base",
            "overflow": null,
            "_model_module_version": "1.2.0",
            "_view_count": null,
            "flex_flow": null,
            "width": null,
            "min_width": null,
            "border": null,
            "align_items": null,
            "bottom": null,
            "_model_module": "@jupyter-widgets/base",
            "top": null,
            "grid_column": null,
            "overflow_y": null,
            "overflow_x": null,
            "grid_auto_flow": null,
            "grid_area": null,
            "grid_template_columns": null,
            "flex": null,
            "_model_name": "LayoutModel",
            "justify_items": null,
            "grid_row": null,
            "max_height": null,
            "align_content": null,
            "visibility": null,
            "align_self": null,
            "height": null,
            "min_height": null,
            "padding": null,
            "grid_auto_rows": null,
            "grid_gap": null,
            "max_width": null,
            "order": null,
            "_view_module_version": "1.2.0",
            "grid_template_areas": null,
            "object_position": null,
            "object_fit": null,
            "grid_auto_columns": null,
            "margin": null,
            "display": null,
            "left": null
          }
        },
        "d16f04494b394cabb79183e661ccc63a": {
          "model_module": "@jupyter-widgets/base",
          "model_name": "LayoutModel",
          "state": {
            "_view_name": "LayoutView",
            "grid_template_rows": null,
            "right": null,
            "justify_content": null,
            "_view_module": "@jupyter-widgets/base",
            "overflow": null,
            "_model_module_version": "1.2.0",
            "_view_count": null,
            "flex_flow": null,
            "width": null,
            "min_width": null,
            "border": null,
            "align_items": null,
            "bottom": null,
            "_model_module": "@jupyter-widgets/base",
            "top": null,
            "grid_column": null,
            "overflow_y": null,
            "overflow_x": null,
            "grid_auto_flow": null,
            "grid_area": null,
            "grid_template_columns": null,
            "flex": null,
            "_model_name": "LayoutModel",
            "justify_items": null,
            "grid_row": null,
            "max_height": null,
            "align_content": null,
            "visibility": null,
            "align_self": null,
            "height": null,
            "min_height": null,
            "padding": null,
            "grid_auto_rows": null,
            "grid_gap": null,
            "max_width": null,
            "order": null,
            "_view_module_version": "1.2.0",
            "grid_template_areas": null,
            "object_position": null,
            "object_fit": null,
            "grid_auto_columns": null,
            "margin": null,
            "display": null,
            "left": null
          }
        },
        "a741ebc2e6ed444bbc280937bd9e4cf6": {
          "model_module": "@jupyter-widgets/controls",
          "model_name": "VBoxModel",
          "state": {
            "_view_name": "VBoxView",
            "_dom_classes": [
              "widget-interact"
            ],
            "_model_name": "VBoxModel",
            "_view_module": "@jupyter-widgets/controls",
            "_model_module_version": "1.5.0",
            "_view_count": null,
            "_view_module_version": "1.5.0",
            "box_style": "",
            "layout": "IPY_MODEL_12be931bd1fc4e5daa7b7da8de678226",
            "_model_module": "@jupyter-widgets/controls",
            "children": [
              "IPY_MODEL_c16d8f42f8814d2ba0d7ac5ef4c61d73",
              "IPY_MODEL_f106f273630a4ab788da392fef997570",
              "IPY_MODEL_180b9cf52ef34def8ffc9394761e399d",
              "IPY_MODEL_025a4bbfc3254db28c2aeaf87ef23953",
              "IPY_MODEL_a2d6f36213014ea1bc5aaaaec7285426"
            ]
          }
        },
        "12be931bd1fc4e5daa7b7da8de678226": {
          "model_module": "@jupyter-widgets/base",
          "model_name": "LayoutModel",
          "state": {
            "_view_name": "LayoutView",
            "grid_template_rows": null,
            "right": null,
            "justify_content": null,
            "_view_module": "@jupyter-widgets/base",
            "overflow": null,
            "_model_module_version": "1.2.0",
            "_view_count": null,
            "flex_flow": null,
            "width": null,
            "min_width": null,
            "border": null,
            "align_items": null,
            "bottom": null,
            "_model_module": "@jupyter-widgets/base",
            "top": null,
            "grid_column": null,
            "overflow_y": null,
            "overflow_x": null,
            "grid_auto_flow": null,
            "grid_area": null,
            "grid_template_columns": null,
            "flex": null,
            "_model_name": "LayoutModel",
            "justify_items": null,
            "grid_row": null,
            "max_height": null,
            "align_content": null,
            "visibility": null,
            "align_self": null,
            "height": null,
            "min_height": null,
            "padding": null,
            "grid_auto_rows": null,
            "grid_gap": null,
            "max_width": null,
            "order": null,
            "_view_module_version": "1.2.0",
            "grid_template_areas": null,
            "object_position": null,
            "object_fit": null,
            "grid_auto_columns": null,
            "margin": null,
            "display": null,
            "left": null
          }
        },
        "c16d8f42f8814d2ba0d7ac5ef4c61d73": {
          "model_module": "@jupyter-widgets/controls",
          "model_name": "TextModel",
          "state": {
            "_view_name": "TextView",
            "style": "IPY_MODEL_eddb5985079148d791b4660ca274b8d5",
            "_dom_classes": [],
            "description": "given_home_abrv",
            "_model_name": "TextModel",
            "placeholder": "​",
            "_view_module": "@jupyter-widgets/controls",
            "_model_module_version": "1.5.0",
            "value": "WPG",
            "_view_count": null,
            "disabled": false,
            "_view_module_version": "1.5.0",
            "continuous_update": true,
            "description_tooltip": null,
            "_model_module": "@jupyter-widgets/controls",
            "layout": "IPY_MODEL_ab561c27e75b4e3f8c994abbb0ce491b"
          }
        },
        "f106f273630a4ab788da392fef997570": {
          "model_module": "@jupyter-widgets/controls",
          "model_name": "TextModel",
          "state": {
            "_view_name": "TextView",
            "style": "IPY_MODEL_7333e72ef99240769ef9ae572db39f7a",
            "_dom_classes": [],
            "description": "given_away_abrv",
            "_model_name": "TextModel",
            "placeholder": "​",
            "_view_module": "@jupyter-widgets/controls",
            "_model_module_version": "1.5.0",
            "value": "TOR",
            "_view_count": null,
            "disabled": false,
            "_view_module_version": "1.5.0",
            "continuous_update": true,
            "description_tooltip": null,
            "_model_module": "@jupyter-widgets/controls",
            "layout": "IPY_MODEL_e83e436011d647108f56c2973621c310"
          }
        },
        "180b9cf52ef34def8ffc9394761e399d": {
          "model_module": "@jupyter-widgets/controls",
          "model_name": "TextModel",
          "state": {
            "_view_name": "TextView",
            "style": "IPY_MODEL_9ba635b49a314328ae8b742a5a231b2e",
            "_dom_classes": [],
            "description": "given_date",
            "_model_name": "TextModel",
            "placeholder": "​",
            "_view_module": "@jupyter-widgets/controls",
            "_model_module_version": "1.5.0",
            "value": "2017-10-04",
            "_view_count": null,
            "disabled": false,
            "_view_module_version": "1.5.0",
            "continuous_update": true,
            "description_tooltip": null,
            "_model_module": "@jupyter-widgets/controls",
            "layout": "IPY_MODEL_a2564681497c4c47972028befa6e45cf"
          }
        },
        "025a4bbfc3254db28c2aeaf87ef23953": {
          "model_module": "@jupyter-widgets/controls",
          "model_name": "DropdownModel",
          "state": {
            "_options_labels": [
              "Goal",
              "Shot",
              "Hit",
              "Giveaway",
              "Takeaway"
            ],
            "_view_name": "DropdownView",
            "style": "IPY_MODEL_619a4198b9544eae9118ef9b40bb4f15",
            "_dom_classes": [],
            "description": "given_event",
            "_model_name": "DropdownModel",
            "index": 1,
            "_view_module": "@jupyter-widgets/controls",
            "_model_module_version": "1.5.0",
            "_view_count": null,
            "disabled": false,
            "_view_module_version": "1.5.0",
            "description_tooltip": null,
            "_model_module": "@jupyter-widgets/controls",
            "layout": "IPY_MODEL_9fe6eceab25946e395daf9a7a000b0c9"
          }
        },
        "a2d6f36213014ea1bc5aaaaec7285426": {
          "model_module": "@jupyter-widgets/output",
          "model_name": "OutputModel",
          "state": {
            "_view_name": "OutputView",
            "msg_id": "",
            "_dom_classes": [],
            "_model_name": "OutputModel",
            "outputs": [
              {
                "output_type": "display_data",
                "metadata": {
                  "tags": [],
                  "needs_background": "light"
                },
                "image/png": "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\n",
                "text/plain": "<Figure size 1440x720 with 1 Axes>"
              }
            ],
            "_view_module": "@jupyter-widgets/output",
            "_model_module_version": "1.0.0",
            "_view_count": null,
            "_view_module_version": "1.0.0",
            "layout": "IPY_MODEL_ef995c18054a44699bf9722cd859ee06",
            "_model_module": "@jupyter-widgets/output"
          }
        },
        "eddb5985079148d791b4660ca274b8d5": {
          "model_module": "@jupyter-widgets/controls",
          "model_name": "DescriptionStyleModel",
          "state": {
            "_view_name": "StyleView",
            "_model_name": "DescriptionStyleModel",
            "description_width": "",
            "_view_module": "@jupyter-widgets/base",
            "_model_module_version": "1.5.0",
            "_view_count": null,
            "_view_module_version": "1.2.0",
            "_model_module": "@jupyter-widgets/controls"
          }
        },
        "ab561c27e75b4e3f8c994abbb0ce491b": {
          "model_module": "@jupyter-widgets/base",
          "model_name": "LayoutModel",
          "state": {
            "_view_name": "LayoutView",
            "grid_template_rows": null,
            "right": null,
            "justify_content": null,
            "_view_module": "@jupyter-widgets/base",
            "overflow": null,
            "_model_module_version": "1.2.0",
            "_view_count": null,
            "flex_flow": null,
            "width": null,
            "min_width": null,
            "border": null,
            "align_items": null,
            "bottom": null,
            "_model_module": "@jupyter-widgets/base",
            "top": null,
            "grid_column": null,
            "overflow_y": null,
            "overflow_x": null,
            "grid_auto_flow": null,
            "grid_area": null,
            "grid_template_columns": null,
            "flex": null,
            "_model_name": "LayoutModel",
            "justify_items": null,
            "grid_row": null,
            "max_height": null,
            "align_content": null,
            "visibility": null,
            "align_self": null,
            "height": null,
            "min_height": null,
            "padding": null,
            "grid_auto_rows": null,
            "grid_gap": null,
            "max_width": null,
            "order": null,
            "_view_module_version": "1.2.0",
            "grid_template_areas": null,
            "object_position": null,
            "object_fit": null,
            "grid_auto_columns": null,
            "margin": null,
            "display": null,
            "left": null
          }
        },
        "7333e72ef99240769ef9ae572db39f7a": {
          "model_module": "@jupyter-widgets/controls",
          "model_name": "DescriptionStyleModel",
          "state": {
            "_view_name": "StyleView",
            "_model_name": "DescriptionStyleModel",
            "description_width": "",
            "_view_module": "@jupyter-widgets/base",
            "_model_module_version": "1.5.0",
            "_view_count": null,
            "_view_module_version": "1.2.0",
            "_model_module": "@jupyter-widgets/controls"
          }
        },
        "e83e436011d647108f56c2973621c310": {
          "model_module": "@jupyter-widgets/base",
          "model_name": "LayoutModel",
          "state": {
            "_view_name": "LayoutView",
            "grid_template_rows": null,
            "right": null,
            "justify_content": null,
            "_view_module": "@jupyter-widgets/base",
            "overflow": null,
            "_model_module_version": "1.2.0",
            "_view_count": null,
            "flex_flow": null,
            "width": null,
            "min_width": null,
            "border": null,
            "align_items": null,
            "bottom": null,
            "_model_module": "@jupyter-widgets/base",
            "top": null,
            "grid_column": null,
            "overflow_y": null,
            "overflow_x": null,
            "grid_auto_flow": null,
            "grid_area": null,
            "grid_template_columns": null,
            "flex": null,
            "_model_name": "LayoutModel",
            "justify_items": null,
            "grid_row": null,
            "max_height": null,
            "align_content": null,
            "visibility": null,
            "align_self": null,
            "height": null,
            "min_height": null,
            "padding": null,
            "grid_auto_rows": null,
            "grid_gap": null,
            "max_width": null,
            "order": null,
            "_view_module_version": "1.2.0",
            "grid_template_areas": null,
            "object_position": null,
            "object_fit": null,
            "grid_auto_columns": null,
            "margin": null,
            "display": null,
            "left": null
          }
        },
        "9ba635b49a314328ae8b742a5a231b2e": {
          "model_module": "@jupyter-widgets/controls",
          "model_name": "DescriptionStyleModel",
          "state": {
            "_view_name": "StyleView",
            "_model_name": "DescriptionStyleModel",
            "description_width": "",
            "_view_module": "@jupyter-widgets/base",
            "_model_module_version": "1.5.0",
            "_view_count": null,
            "_view_module_version": "1.2.0",
            "_model_module": "@jupyter-widgets/controls"
          }
        },
        "a2564681497c4c47972028befa6e45cf": {
          "model_module": "@jupyter-widgets/base",
          "model_name": "LayoutModel",
          "state": {
            "_view_name": "LayoutView",
            "grid_template_rows": null,
            "right": null,
            "justify_content": null,
            "_view_module": "@jupyter-widgets/base",
            "overflow": null,
            "_model_module_version": "1.2.0",
            "_view_count": null,
            "flex_flow": null,
            "width": null,
            "min_width": null,
            "border": null,
            "align_items": null,
            "bottom": null,
            "_model_module": "@jupyter-widgets/base",
            "top": null,
            "grid_column": null,
            "overflow_y": null,
            "overflow_x": null,
            "grid_auto_flow": null,
            "grid_area": null,
            "grid_template_columns": null,
            "flex": null,
            "_model_name": "LayoutModel",
            "justify_items": null,
            "grid_row": null,
            "max_height": null,
            "align_content": null,
            "visibility": null,
            "align_self": null,
            "height": null,
            "min_height": null,
            "padding": null,
            "grid_auto_rows": null,
            "grid_gap": null,
            "max_width": null,
            "order": null,
            "_view_module_version": "1.2.0",
            "grid_template_areas": null,
            "object_position": null,
            "object_fit": null,
            "grid_auto_columns": null,
            "margin": null,
            "display": null,
            "left": null
          }
        },
        "619a4198b9544eae9118ef9b40bb4f15": {
          "model_module": "@jupyter-widgets/controls",
          "model_name": "DescriptionStyleModel",
          "state": {
            "_view_name": "StyleView",
            "_model_name": "DescriptionStyleModel",
            "description_width": "",
            "_view_module": "@jupyter-widgets/base",
            "_model_module_version": "1.5.0",
            "_view_count": null,
            "_view_module_version": "1.2.0",
            "_model_module": "@jupyter-widgets/controls"
          }
        },
        "9fe6eceab25946e395daf9a7a000b0c9": {
          "model_module": "@jupyter-widgets/base",
          "model_name": "LayoutModel",
          "state": {
            "_view_name": "LayoutView",
            "grid_template_rows": null,
            "right": null,
            "justify_content": null,
            "_view_module": "@jupyter-widgets/base",
            "overflow": null,
            "_model_module_version": "1.2.0",
            "_view_count": null,
            "flex_flow": null,
            "width": null,
            "min_width": null,
            "border": null,
            "align_items": null,
            "bottom": null,
            "_model_module": "@jupyter-widgets/base",
            "top": null,
            "grid_column": null,
            "overflow_y": null,
            "overflow_x": null,
            "grid_auto_flow": null,
            "grid_area": null,
            "grid_template_columns": null,
            "flex": null,
            "_model_name": "LayoutModel",
            "justify_items": null,
            "grid_row": null,
            "max_height": null,
            "align_content": null,
            "visibility": null,
            "align_self": null,
            "height": null,
            "min_height": null,
            "padding": null,
            "grid_auto_rows": null,
            "grid_gap": null,
            "max_width": null,
            "order": null,
            "_view_module_version": "1.2.0",
            "grid_template_areas": null,
            "object_position": null,
            "object_fit": null,
            "grid_auto_columns": null,
            "margin": null,
            "display": null,
            "left": null
          }
        },
        "ef995c18054a44699bf9722cd859ee06": {
          "model_module": "@jupyter-widgets/base",
          "model_name": "LayoutModel",
          "state": {
            "_view_name": "LayoutView",
            "grid_template_rows": null,
            "right": null,
            "justify_content": null,
            "_view_module": "@jupyter-widgets/base",
            "overflow": null,
            "_model_module_version": "1.2.0",
            "_view_count": null,
            "flex_flow": null,
            "width": null,
            "min_width": null,
            "border": null,
            "align_items": null,
            "bottom": null,
            "_model_module": "@jupyter-widgets/base",
            "top": null,
            "grid_column": null,
            "overflow_y": null,
            "overflow_x": null,
            "grid_auto_flow": null,
            "grid_area": null,
            "grid_template_columns": null,
            "flex": null,
            "_model_name": "LayoutModel",
            "justify_items": null,
            "grid_row": null,
            "max_height": null,
            "align_content": null,
            "visibility": null,
            "align_self": null,
            "height": null,
            "min_height": null,
            "padding": null,
            "grid_auto_rows": null,
            "grid_gap": null,
            "max_width": null,
            "order": null,
            "_view_module_version": "1.2.0",
            "grid_template_areas": null,
            "object_position": null,
            "object_fit": null,
            "grid_auto_columns": null,
            "margin": null,
            "display": null,
            "left": null
          }
        }
      }
    }
  },
  "cells": [
    {
      "cell_type": "markdown",
      "metadata": {
        "id": "view-in-github",
        "colab_type": "text"
      },
      "source": [
        "<a href=\"https://colab.research.google.com/github/WilliamGaryDawkins/CS631-Project/blob/main/CS631_FinalProject.ipynb\" target=\"_parent\"><img src=\"https://colab.research.google.com/assets/colab-badge.svg\" alt=\"Open In Colab\"/></a>"
      ]
    },
    {
      "cell_type": "code",
      "metadata": {
        "id": "jhnu4eThAIOw"
      },
      "source": [
        "#install pyspark\n",
        "!pip install pyspark"
      ],
      "execution_count": null,
      "outputs": []
    },
    {
      "cell_type": "code",
      "metadata": {
        "id": "4bt_JmYuAPx2"
      },
      "source": [
        "#create the spark session so we can work with spark dataframes\n",
        "from pyspark.sql import SparkSession\n",
        "from pyspark.sql.functions import concat,concat_ws\n",
        "import random\n",
        "spark = SparkSession.builder.appName(\"YourTest\").master(\"local[2]\").config('spark.ui.port', random.randrange(4000,5000)).getOrCreate()"
      ],
      "execution_count": null,
      "outputs": []
    },
    {
      "cell_type": "code",
      "metadata": {
        "id": "fvIdCtHPALN6"
      },
      "source": [
        "#from pyspark.sql.functions import concat, col, lit\n",
        "%matplotlib inline\n",
        "import requests\n",
        "from pyspark.sql.functions import col\n",
        "import matplotlib.pyplot as plt\n",
        "import pandas as pd\n",
        "import seaborn as sns\n",
        "import ipywidgets as widgets\n",
        "from ipywidgets import *\n",
        "from pyspark.sql.functions import col\n",
        "from pyspark.sql.functions import lit"
      ],
      "execution_count": null,
      "outputs": []
    },
    {
      "cell_type": "code",
      "metadata": {
        "id": "tjTQsF-mGOVz"
      },
      "source": [
        "#Read in CSV files and create raw data frames\n",
        "games_raw = spark.read.csv(\"/content/drive/My Drive/NHL Dataset/game.csv\",header=True,inferSchema=True)\n",
        "game_goalie_stats_raw = spark.read.csv(\"/content/drive/My Drive/NHL Dataset/game_goalie_stats.csv\",header=True,inferSchema=True)\n",
        "game_plays_raw =spark.read.csv(\"/content/drive/My Drive/NHL Dataset/game_plays.csv\",header=True,inferSchema=True)\n",
        "game_plays_players_raw = spark.read.csv(\"/content/drive/My Drive/NHL Dataset/game_plays_players.csv\",header=True,inferSchema=True)\n",
        "game_shifts_raw = spark.read.csv(\"/content/drive/My Drive/NHL Dataset/game_shifts.csv\",header=True,inferSchema=True)\n",
        "game_skater_stats_raw =spark.read.csv(\"/content/drive/My Drive/NHL Dataset/game_skater_stats.csv\",header=True,inferSchema=True)\n",
        "game_teams_stats_raw = spark.read.csv(\"/content/drive/My Drive/NHL Dataset/game_teams_stats.csv\",header=True,inferSchema=True)\n",
        "player_info_raw = spark.read.csv(\"/content/drive/My Drive/NHL Dataset/player_info.csv\",header=True,inferSchema=True)\n",
        "team_info_raw = spark.read.csv(\"/content/drive/My Drive/NHL Dataset/team_info.csv\",header=True,inferSchema=True)"
      ],
      "execution_count": null,
      "outputs": []
    },
    {
      "cell_type": "code",
      "metadata": {
        "id": "gmCkdAHUA7x-"
      },
      "source": [
        "## Create cleaner data frames, removing columns that wont be of interest (time of day,timezone info, venue location, links). \n",
        "## Note: Most dataframes do not have info we want to drop\n",
        "\n",
        "games = games_raw.drop(\"date_time_GMT\",\"venue_link\",\"venue_time_zone_id\",\"venue_time_zone_offset\",\"venue_time_zone_tz\").cache() \n",
        "game_goalie_stats = game_goalie_stats_raw.cache()\n",
        "game_plays = game_plays_raw.cache()\n",
        "game_plays_players = game_plays_players_raw.cache()\n",
        "game_shifts = game_shifts_raw.cache()\n",
        "game_skater_stats = game_skater_stats_raw.cache()\n",
        "game_teams_stats = game_teams_stats_raw.cache()\n",
        "player_info = player_info_raw.drop(\"link\").cache()\n",
        "team_info = team_info_raw.drop(\"link\").cache()\n",
        "\n",
        "##add point total to player stats\n",
        "game_skater_stats = game_skater_stats.withColumn(\"points\", col(\"goals\")+col(\"assists\")).cache()"
      ],
      "execution_count": null,
      "outputs": []
    },
    {
      "cell_type": "code",
      "metadata": {
        "id": "SclusPfEKrG3"
      },
      "source": [
        "from matplotlib.patches import Circle, Rectangle, Arc\n",
        "\n",
        "def draw_rink(ax=None, color='black', lw=2):\n",
        "    # If an axes object isn't provided to plot onto, just get current one\n",
        "    if ax is None:\n",
        "        ax = plt.gca()\n",
        "\n",
        "\n",
        "    center_faceoff = Circle((0, 0), radius=1, linewidth=lw, color='blue', fill=True)\n",
        "    \n",
        "    zone_faceoff_1 = Circle((69, 22), radius=1, linewidth=lw, color='red', fill=True)\n",
        "    zone_faceoff_2 = Circle((-69, 22), radius=1, linewidth=lw, color='red', fill=True)\n",
        "    zone_faceoff_3 = Circle((69, -22), radius=1, linewidth=lw, color='red', fill=True)\n",
        "    zone_faceoff_4 = Circle((-69, -22), radius=1, linewidth=lw, color='red', fill=True)\n",
        "\n",
        "    neutral_faceoff_1 = Circle((20, 22), radius=1, linewidth=lw, color='red', fill=True)\n",
        "    neutral_faceoff_2 = Circle((-20, 22), radius=1, linewidth=lw, color='red', fill=True)\n",
        "    neutral_faceoff_3 = Circle((20, -22), radius=1, linewidth=lw, color='red', fill=True)\n",
        "    neutral_faceoff_4 = Circle((-20, -22), radius=1, linewidth=lw, color='red', fill=True)\n",
        "\n",
        "\n",
        "\n",
        "    center_circle = Circle((0,0), radius = 15, linewidth=lw, color='blue', fill= False)\n",
        "    zone_circle_1 = Circle((69,22), radius = 15, linewidth=lw, color='red', fill= False)\n",
        "    zone_circle_2 = Circle((-69,22), radius = 15, linewidth=lw, color='red', fill= False)\n",
        "    zone_circle_3 = Circle((69,-22), radius = 15, linewidth=lw, color='red', fill= False)\n",
        "    zone_circle_4 = Circle((-69,-22), radius = 15, linewidth=lw, color='red', fill= False)                                              \n",
        "\n",
        "    blue_line1 = Rectangle((-25,-42.5), 0, 85,linewidth=lw,color='blue',fill=False)\n",
        "    blue_line2 = Rectangle(( 25,-42.5), 0, 85,linewidth=lw,color='blue',fill=False)\n",
        "    center_line = Rectangle((0,-42.5), 0, 85,linewidth=lw,color='red',fill=False)\n",
        "   \n",
        "    goal_line1 = Rectangle((-89,-40.5), 0, 81,linewidth=lw,color='red',fill=False)\n",
        "    goal_line2 = Rectangle((89,-40.5), 0, 81,linewidth=lw,color='red',fill=False)\n",
        "\n",
        "    goal_crease1 = Arc((-89,0),8,8,angle=270,theta1=0,theta2=180,color='red')\n",
        "    goal_crease2 = Arc((89,0),8,8,angle=90,theta1=0,theta2=180,color='red')\n",
        "    \n",
        "    top_border = Rectangle((-85,42.5), 170, 0,linewidth=lw,color='black',fill=False)\n",
        "    bottom_border = Rectangle((-85,-42.5), 170, 0,linewidth=lw,color='black',fill=False)\n",
        "    left_border = Rectangle((-100,-27), 0, 54,linewidth=lw,color='black',fill=False)\n",
        "    right_border = Rectangle((100,-27), 0, 54,linewidth=lw,color='black',fill=False)\n",
        "\n",
        "    bottom_right_corner = Arc((-87.5,-30.1),29,20,angle=135,theta1=22,theta2=155,linewidth=lw)\n",
        "    top_right_corner = Arc((-87.5,30.1),29,20,angle=45,theta1=22,theta2=155,linewidth=lw)\n",
        "    top_left_corner = Arc((87.5,30.1),29,20,angle=315,theta1=22,theta2=155,linewidth=lw)\n",
        "    bottom_left_corner = Arc((87.5,-30.1),29,20,angle=225,theta1=22,theta2=155,linewidth=lw)\n",
        "  \n",
        "    \n",
        "    rink_elements = [center_faceoff,zone_faceoff_1,zone_faceoff_2,zone_faceoff_3,zone_faceoff_4,\n",
        "                      center_circle,zone_circle_1,zone_circle_2,zone_circle_3,zone_circle_4,\n",
        "                      blue_line1,blue_line2,center_line,neutral_faceoff_1,neutral_faceoff_2,neutral_faceoff_3,\n",
        "                      neutral_faceoff_4,goal_line1,goal_line2,goal_crease1,goal_crease2,top_border,bottom_border,\n",
        "                      left_border,right_border,bottom_right_corner,top_right_corner,top_left_corner,bottom_left_corner]\n",
        "\n",
        "    # Add the rink elements onto the axes\n",
        "    for element in rink_elements:\n",
        "        ax.add_patch(element)\n",
        "\n",
        "    return ax\n",
        "\n",
        "def draw_Ozone(ax=None, color='black', lw=2):\n",
        "    # If an axes object isn't provided to plot onto, just get current one\n",
        "    if ax is None:\n",
        "        ax = plt.gca()\n",
        "\n",
        "\n",
        "    center_faceoff = Circle((0, 0), radius=1, linewidth=lw, color='blue', fill=True)\n",
        "    zone_faceoff_1 = Circle((22, 69), radius=1, linewidth=lw, color='red', fill=True)\n",
        "    zone_faceoff_2 = Circle((-22, 69), radius=1, linewidth=lw, color='red', fill=True)\n",
        "\n",
        "    neutral_faceoff_1 = Circle((22, 20), radius=1, linewidth=lw, color='red', fill=True)\n",
        "    neutral_faceoff_2 = Circle((-22, 20), radius=1, linewidth=lw, color='red', fill=True)\n",
        "\n",
        "    \n",
        "    center_circle = Circle((0,0), radius = 15, linewidth=lw, color='blue', fill= False)\n",
        "    zone_circle_1 = Circle((22,69), radius = 15, linewidth=lw, color='red', fill= False)\n",
        "    zone_circle_2 = Circle((-22,69), radius = 15, linewidth=lw, color='red', fill= False)                                          \n",
        "\n",
        "    blue_line1 = Rectangle((-42.5,25), 85, 0,linewidth=lw,color='blue',fill=False)\n",
        "    \n",
        "    goal_line1 = Rectangle((-41,89), 82, 0,linewidth=lw,color='red',fill=False)\n",
        "\n",
        "    goal_crease2 = Arc((0,89),8,8,angle=180,theta1=0,theta2=180,color='red')\n",
        "    \n",
        "    top_border = Rectangle((42.5,0), 0, 85,linewidth=lw,color='black',fill=False)\n",
        "    bottom_border = Rectangle((-42.5,0), 0, 85,linewidth=lw,color='black',fill=False)\n",
        "\n",
        "    right_border = Rectangle((-27,100), 54, 0,linewidth=lw,color='black',fill=False)\n",
        "\n",
        "    bottom_right_corner = Arc((30.1,87.5),29,20,angle=315,theta1=22,theta2=155,linewidth=lw)\n",
        "    top_right_corner = Arc((-30.1,87.5),29,20,angle=45,theta1=22,theta2=155,linewidth=lw)\n",
        "  \n",
        "    \n",
        "    rink_elements = [zone_faceoff_1,zone_faceoff_2,\n",
        "                      zone_circle_1,zone_circle_2, neutral_faceoff_1,neutral_faceoff_2,\n",
        "                      blue_line1,center_faceoff,center_circle,\n",
        "                      goal_line1,goal_crease2,top_border,bottom_border,\n",
        "                      right_border,bottom_right_corner,top_right_corner]\n",
        "\n",
        "    # Add the rink elements onto the axes\n",
        "    for element in rink_elements:\n",
        "        ax.add_patch(element)\n",
        "\n",
        "    return ax"
      ],
      "execution_count": null,
      "outputs": []
    },
    {
      "cell_type": "markdown",
      "metadata": {
        "id": "O5awnRnF1zfj"
      },
      "source": [
        "# Interactive Ranking by Stats plot"
      ]
    },
    {
      "cell_type": "code",
      "metadata": {
        "id": "G_kw58cJwNoQ"
      },
      "source": [
        "def ranked_by_stats_by_season_skater(season,stat,game_type):\n",
        "  players_ranked_skaters_dtf = game_skater_stats.join(player_info, \"player_id\").join(games, \"game_id\").filter(\"season = {0}\".format(season)).filter(\"type = '{0}'\".format(game_type)).select(\"player_id\",\"{0}\".format(stat)).groupBy(\"player_id\").sum(\"{0}\".format(stat)).join(player_info,\"player_id\").orderBy(\"sum({0})\".format(stat),ascending=False).select(concat(\"firstName\",lit(\" \"),\"lastName\").alias(\"FullName\"),\"sum({0})\".format(stat))\n",
        "  return players_ranked_skaters_dtf"
      ],
      "execution_count": null,
      "outputs": []
    },
    {
      "cell_type": "code",
      "metadata": {
        "colab": {
          "base_uri": "https://localhost:8080/",
          "height": 820,
          "referenced_widgets": [
            "82b09c83e2434d79ba3efb5846f4abdb",
            "390306989e6f49bdae03684f253f33a6",
            "a59278cd156742c5b79ae8885ad85ca9",
            "17ea1c66f1a04ac1a0be395dd057ea32",
            "85bd63fc03e64f589bf348f36f99c7c1",
            "f17790abf07f41089fd21bc81cc0ad38",
            "3c19c1f13f7b4e6085c60b4bbd8cb469",
            "58d37f51f916465281082e36ad2f5ff6",
            "a6af04faac844343a7b9027dedbd7549",
            "7c1b751cba174356ad558b6525914398",
            "1574b2e350364b9cae0f83c4913ef45e",
            "6ea2b62a0378437e9804a4bc7a36b26f",
            "aada6035ea774e34b8807beef1768b56",
            "569c8651776940bbbce82ec7339d1b99",
            "96a58970ea664ce6a52be74c5d233433",
            "8bcb19786d2640f993218e0ca2e9c1f0"
          ]
        },
        "id": "eWED7rrD8Xm6",
        "outputId": "c61f6ed4-266f-4039-eacc-24639990e4a4"
      },
      "source": [
        "def update_stats_plot(season,stat,game_type,top_num):\r\n",
        "  \r\n",
        "  pdf = ranked_by_stats_by_season_skater(season,stat,game_type).limit(top_num).toPandas()\r\n",
        " # pdf.plot.barh(x='FullName',y=\"sum({0})\".format(stat))\r\n",
        "  plt.figure(figsize=(20,10))\r\n",
        "  ax = sns.barplot(y=pdf['FullName'],x=pdf[\"sum({0})\".format(stat)],palette='deep')\r\n",
        "  ax.set_xlabel('{0}'.format(stat),fontsize=15)\r\n",
        "  ax.set_ylabel('')\r\n",
        "  plt.title('Top {0} Players by {1} in the {2} NHL Season'.format(top_num,stat,season),y=1.05,fontsize=40)\r\n",
        "  if game_type == 'R':\r\n",
        "    plt.suptitle('Regular Season',y=0.90,fontsize=15)\r\n",
        "  else:\r\n",
        "    plt.suptitle('Playoffs',y=0.90,fontsize=15)  \r\n",
        "  plt.show()\r\n",
        "\r\n",
        "interact(update_stats_plot,\r\n",
        "         season=widgets.Dropdown(options=[20112012,20122013,20132014,20142015,20152016,20162017,20172018,20182019]),\r\n",
        "         stat=widgets.Dropdown(options=['points','goals','assists','shots','hits','powerPlayGoals','powerPlayAssists','timeOnIce','penaltyMinutes','faceOffWins','faceoffTaken','takeaways','giveaways','shortHandedGoals','shortHandedAssits','blocked','plusMinus','evenTimeOnIce','powerPlayTimeOnIce','shortHandedTimeOnIce']),\r\n",
        "         game_type=widgets.Dropdown(options=[\"R\",\"P\"]),\r\n",
        "         top_num=widgets.IntSlider(value=20,min=1,max=200,step=1))\r\n"
      ],
      "execution_count": null,
      "outputs": [
        {
          "output_type": "display_data",
          "data": {
            "application/vnd.jupyter.widget-view+json": {
              "model_id": "82b09c83e2434d79ba3efb5846f4abdb",
              "version_minor": 0,
              "version_major": 2
            },
            "text/plain": [
              "interactive(children=(Dropdown(description='season', options=(20112012, 20122013, 20132014, 20142015, 20152016…"
            ]
          },
          "metadata": {
            "tags": []
          }
        },
        {
          "output_type": "execute_result",
          "data": {
            "text/plain": [
              "<function __main__.update_stats_plot>"
            ]
          },
          "metadata": {
            "tags": []
          },
          "execution_count": 8
        }
      ]
    },
    {
      "cell_type": "markdown",
      "metadata": {
        "id": "Kq4qZezUg5en"
      },
      "source": [
        "# Team Standings for a Given Season"
      ]
    },
    {
      "cell_type": "code",
      "metadata": {
        "id": "6XgHgt8WqTSy"
      },
      "source": [
        "from pyspark.sql.functions import udf\r\n",
        "def point_calc(won,settled):\r\n",
        "  if won == True:\r\n",
        "    points = 2\r\n",
        "  elif (won == False) & (settled == 'OT'):\r\n",
        "    points = 1\r\n",
        "  elif (won == False) & (settled == 'SO'):\r\n",
        "    points = 1 \r\n",
        "  else:\r\n",
        "    points = 0\r\n",
        "  return points\r\n",
        "\r\n",
        "point_calc_udf = udf(point_calc,'Int') "
      ],
      "execution_count": null,
      "outputs": []
    },
    {
      "cell_type": "code",
      "metadata": {
        "id": "fzX0IY7Kk4pM"
      },
      "source": [
        "points_of_teams = game_teams_stats.select('game_id','team_id','won','settled_in').join(team_info.select('team_id','shortName','teamName'),'team_id').join(games.select('game_id','season','type'),'game_id').filter(\"type='R'\")\r\n",
        "points_of_teams = points_of_teams.withColumn('points',point_calc_udf(points_of_teams['won'],points_of_teams['settled_in'])).groupBy('teamName','season').sum('points').withColumnRenamed('sum(points)','points').cache()\r\n",
        "#points_of_teams.show()\r\n",
        "#pdf = points_of_teams.filter('season = {0}'.format(20122013)).show()\r\n",
        "#display(pdf)"
      ],
      "execution_count": null,
      "outputs": []
    },
    {
      "cell_type": "code",
      "metadata": {
        "colab": {
          "base_uri": "https://localhost:8080/",
          "height": 724,
          "referenced_widgets": [
            "3b0b76c428654f91aa3b6f204e064a52",
            "e61e42c9d0ee4339af08b08c99e03c14",
            "b8657d1b9e084d0bbb03195c31434ce8",
            "58108117211447fd8920f29a9ece31ae",
            "bbb450f36a6649228c407c5b5ede4626",
            "1b86fa8ce90c4a39b1c38b2151c45ecb",
            "9f40c5f197b843e788d85cc13dd14242"
          ]
        },
        "id": "I-2g53UFiVya",
        "outputId": "c9684583-9dba-4ab9-8f2b-88415d137db0"
      },
      "source": [
        "def update_standings_plot(season):\r\n",
        "  \r\n",
        "  pdf = points_of_teams.filter('season = {0}'.format(season)).orderBy('points',ascending=False).toPandas()\r\n",
        "  plt.figure(figsize=(20,10))\r\n",
        "  ax = sns.barplot(y=pdf['teamName'],x=pdf['points'],palette='deep')\r\n",
        "  ax.set_xlabel('Points',fontsize=15)\r\n",
        "  ax.set_ylabel('')\r\n",
        "  plt.title('Standings of the {0} NHL Regular Season'.format(season),y=1.05,fontsize=40)\r\n",
        "  plt.show()\r\n",
        "\r\n",
        "interact(update_standings_plot,\r\n",
        "         season=widgets.Dropdown(options=[20112012,20122013,20132014,20142015,20152016,20162017,20172018,20182019]),\r\n",
        "         )"
      ],
      "execution_count": null,
      "outputs": [
        {
          "output_type": "display_data",
          "data": {
            "application/vnd.jupyter.widget-view+json": {
              "model_id": "3b0b76c428654f91aa3b6f204e064a52",
              "version_minor": 0,
              "version_major": 2
            },
            "text/plain": [
              "interactive(children=(Dropdown(description='season', options=(20112012, 20122013, 20132014, 20142015, 20152016…"
            ]
          },
          "metadata": {
            "tags": []
          }
        },
        {
          "output_type": "execute_result",
          "data": {
            "text/plain": [
              "<function __main__.update_standings_plot>"
            ]
          },
          "metadata": {
            "tags": []
          },
          "execution_count": 11
        }
      ]
    },
    {
      "cell_type": "markdown",
      "metadata": {
        "id": "FsGwycYogCaY"
      },
      "source": [
        "# World Map of NHL Player's Nationalities"
      ]
    },
    {
      "cell_type": "code",
      "metadata": {
        "id": "kxzoqlSYjO9q"
      },
      "source": [
        "pip install geopandas"
      ],
      "execution_count": null,
      "outputs": []
    },
    {
      "cell_type": "code",
      "metadata": {
        "id": "3NETlXntjwCq"
      },
      "source": [
        "import geopandas"
      ],
      "execution_count": null,
      "outputs": []
    },
    {
      "cell_type": "code",
      "metadata": {
        "id": "Au2KyUaaggzY"
      },
      "source": [
        "def skaters_nationalities_by_season():\r\n",
        "  player_nationality_dtf = game_skater_stats.join(player_info, \"player_id\").join(games, \"game_id\").select(\"player_id\",\"nationality\",\"season\").dropDuplicates([\"player_id\",\"season\"]).groupBy(\"nationality\",\"season\").count().withColumnRenamed(\"count\", \"player count\")\r\n",
        "  return player_nationality_dtf\r\n",
        "\r\n",
        "def goalies_nationalities_by_season():\r\n",
        "  goalie_nationality_dtf = game_goalie_stats.join(player_info, \"player_id\").join(games, \"game_id\").select(\"player_id\",\"nationality\",\"season\").dropDuplicates([\"player_id\",\"season\"]).groupBy(\"nationality\",\"season\").count().withColumnRenamed(\"count\", \"player count\")\r\n",
        "  return goalie_nationality_dtf "
      ],
      "execution_count": null,
      "outputs": []
    },
    {
      "cell_type": "code",
      "metadata": {
        "id": "gB9uv1gFLcjx"
      },
      "source": [
        "world = geopandas.read_file(geopandas.datasets.get_path('naturalearth_lowres'))"
      ],
      "execution_count": null,
      "outputs": []
    },
    {
      "cell_type": "code",
      "metadata": {
        "id": "advC89_wf2Ys"
      },
      "source": [
        "world.columns=['pop_est', 'continent', 'name', 'nationality', 'gdp_md_est', 'geometry']\r\n",
        "players_ntls_skaters = skaters_nationalities_by_season().toPandas()\r\n",
        "players_ntls_goalies = goalies_nationalities_by_season().toPandas()"
      ],
      "execution_count": null,
      "outputs": []
    },
    {
      "cell_type": "code",
      "metadata": {
        "id": "Ky5kpwhFmLEa",
        "colab": {
          "base_uri": "https://localhost:8080/",
          "height": 778,
          "referenced_widgets": [
            "62f22754676f4ca98fabb6fb3f8f8815",
            "fdd9194a7977478eb66200135c45bd37",
            "f0043bfa8c0c4ef8b82a765b3e21e24e",
            "b274108d345147038c7c5b93bc7d1890",
            "5ade8e43298e4d289babd8767ca38494",
            "ea6c030a4fde4213a3e575f39635681f",
            "8a9ae55040944687a6473cd49f092e29",
            "8b1ef9f073054da582dc0076628a3707",
            "5101e6207ddc4174a39dbc6e126aaeb5",
            "735d4030c82f427fb507a2c5d2cb9346"
          ]
        },
        "outputId": "b05033f2-4cdb-4735-d574-ba4d5e66ef0e"
      },
      "source": [
        "from mpl_toolkits.axes_grid1 import make_axes_locatable\r\n",
        "cmap2 = plt.cm.Purples\r\n",
        "\r\n",
        "\r\n",
        "def update_world_plot(given_season,player_type):\r\n",
        "  \r\n",
        "  if player_type == 'all':\r\n",
        "    players_ntls = nationalities_by_season_total(season).toPandas()\r\n",
        "  elif player_type == 'skaters':\r\n",
        "    players_ntls = players_ntls_skaters[(players_ntls_skaters.season==given_season)]\r\n",
        "  elif player_type == 'goalies':\r\n",
        "    players_ntls = players_ntls_goalies[(players_ntls_goalies.season==given_season)]\r\n",
        "  \r\n",
        "\r\n",
        " # world.columns=['pop_est', 'continent', 'name', 'nationality', 'gdp_md_est', 'geometry']\r\n",
        "  players_ntls.columns=['nationality','season','player_count']\r\n",
        "  merged = world.merge(players_ntls,on=['nationality'],how='left').fillna(0)\r\n",
        "\r\n",
        "  ax = merged.plot(column='player_count',cmap='YlGnBu',figsize=(20,25),legend=True,legend_kwds={'orientation':'horizontal','pad': 0,'label': 'Number of Players'},\r\n",
        "              facecolor='blue')\r\n",
        "  ax.set_facecolor(cmap2(0.1))\r\n",
        "  plt.title('Countries by NHL Player Nationalities',fontsize=40)\r\n",
        "  plt.show()\r\n",
        "\r\n",
        "\r\n",
        "  \r\n",
        "\r\n",
        "plot= interact(update_world_plot,\r\n",
        "         given_season=widgets.Dropdown(options=[20112012,20122013,20132014,20142015,20152016,20162017,20172018,20182019]),\r\n",
        "         player_type=widgets.Dropdown(options=[\"skaters\",\"goalies\"]))\r\n",
        "\r\n",
        "plot"
      ],
      "execution_count": null,
      "outputs": [
        {
          "output_type": "display_data",
          "data": {
            "application/vnd.jupyter.widget-view+json": {
              "model_id": "62f22754676f4ca98fabb6fb3f8f8815",
              "version_minor": 0,
              "version_major": 2
            },
            "text/plain": [
              "interactive(children=(Dropdown(description='given_season', options=(20112012, 20122013, 20132014, 20142015, 20…"
            ]
          },
          "metadata": {
            "tags": []
          }
        },
        {
          "output_type": "execute_result",
          "data": {
            "text/plain": [
              "<function __main__.update_world_plot>"
            ]
          },
          "metadata": {
            "tags": []
          },
          "execution_count": 17
        }
      ]
    },
    {
      "cell_type": "markdown",
      "metadata": {
        "id": "6eINOK-CExq6"
      },
      "source": [
        "# Individual Player Offensive Scatter plots/Heatmaps"
      ]
    },
    {
      "cell_type": "code",
      "metadata": {
        "id": "5ZurR9JGFLTG"
      },
      "source": [
        "game_plays_shots = game_plays.filter(\"event = 'Shot'\").select('play_id','game_id','event','st_x','st_y').join(games.select('game_id','season'),'game_id').join(game_plays_players.select('play_id','player_id'),'play_id').join(player_info.select('player_id','firstName','LastName'),'player_id').withColumn('fullName', concat_ws(' ','firstname','lastName')).cache()\r\n",
        "game_plays_goals = game_plays.filter(\"event = 'Goal'\").select('play_id','game_id','event','st_x','st_y').join(games.select('game_id','season'),'game_id').join(game_plays_players.select('play_id','player_id'),'play_id').join(player_info.select('player_id','firstName','LastName'),'player_id').withColumn('fullName', concat_ws(' ','firstname','lastName')).cache()"
      ],
      "execution_count": null,
      "outputs": []
    },
    {
      "cell_type": "code",
      "metadata": {
        "colab": {
          "base_uri": "https://localhost:8080/",
          "height": 920,
          "referenced_widgets": [
            "7fb6f4b339974759b41446eb3e2d936f",
            "fe70319d52ce47b7b20e4823c3e18795",
            "f63d2168659145a4a39946baece05f95",
            "d21bc50773ee445a8e6ed3f86ba4da00",
            "050bd670f3144d17ad710b599ee87aea",
            "ad97218b288e4430a60f2861ec1d47d5",
            "05fa7ec79954419586e723febf35f7cd",
            "ebda07c5c8c745efbb8b72d3359954e5",
            "f3242fe854544a9a99ecd57008663aed",
            "64ddb08daa8b48268968b72a1d2f0926",
            "8c872b64dfcd461b81bffde2208518f1",
            "a7bed692db714ab28b060b5af4491868",
            "8098db343f63484ca143c6eee656c108",
            "72cce967f4784600bcd432de02adfa65",
            "5f08f31b34d34c0bb809f99b3d8bc2a6",
            "d16f04494b394cabb79183e661ccc63a"
          ]
        },
        "id": "92BYggljd9MU",
        "outputId": "4bfb4b42-db8e-4c4e-8a73-bb25b843296c"
      },
      "source": [
        "def update_offensive_plot(season,name,stat,plot_type):\n",
        "  \n",
        "  if plot_type == 'scatter plot':\n",
        "    if stat == 'Goals':\n",
        "      Player_stats_df = game_plays_goals.filter(\"season = {0}\".format(season)).filter(\"fullName = '{0}'\".format(name)).select('st_x','st_y').toPandas().astype(float) \n",
        "    elif stat == 'Shots':\n",
        "      Player_stats_df_shots = game_plays_shots.filter(\"season = {0}\".format(season)).filter(\"fullName = '{0}'\".format(name)).select('st_x','st_y').toPandas().astype(float)  \n",
        "      Player_stats_df_goals = game_plays_goals.filter(\"season = {0}\".format(season)).filter(\"fullName = '{0}'\".format(name)).select('st_x','st_y').toPandas().astype(float)\n",
        "      Player_stats_df = Player_stats_df_shots.append(Player_stats_df_goals, ignore_index=True)\n",
        "  \n",
        "    plt.figure(figsize=(12,12))\n",
        "    plt.scatter(Player_stats_df.st_y*-1,Player_stats_df.st_x)\n",
        "    draw_Ozone()\n",
        "    plt.xlim(-42.5,42.5)\n",
        "    plt.ylim(0,100)\n",
        "    plt.tick_params(labelbottom=False,labelleft=False)\n",
        "    plt.show()\n",
        "  \n",
        "  elif plot_type == 'heat map':\n",
        "    \n",
        "    if stat == 'Goals':\n",
        "      Player_stats_df = game_plays_goals.filter(\"season = {0}\".format(season)).filter(\"fullName = '{0}'\".format(name)).select('st_x','st_y').toPandas().astype(float) \n",
        "    elif stat == 'Shots':\n",
        "      Player_stats_df_shots = game_plays_shots.filter(\"season = {0}\".format(season)).filter(\"fullName = '{0}'\".format(name)).select('st_x','st_y').toPandas().astype(float)  \n",
        "      Player_stats_df_goals = game_plays_goals.filter(\"season = {0}\".format(season)).filter(\"fullName = '{0}'\".format(name)).select('st_x','st_y').toPandas().astype(float)\n",
        "      Player_stats_df = Player_stats_df_shots.append(Player_stats_df_goals, ignore_index=True)\n",
        "    cmap=plt.cm.Blues\n",
        "    \n",
        "    joint_stats_plot = sns.jointplot(x=Player_stats_df.st_y*-1,y=Player_stats_df.st_x,\n",
        "                                 kind='kde',space=0,n_levels=50,cmap=cmap,color=cmap(0.8),shade=True,thresh=0,\n",
        "                                 fill=True)\n",
        "\n",
        "    joint_stats_plot.fig.set_size_inches(12,12)\n",
        "\n",
        "    ax = joint_stats_plot.ax_joint\n",
        "    draw_Ozone(ax)\n",
        "    ax.set_xlim(-42.5,42.5)\n",
        "    ax.set_ylim(0,100)\n",
        "\n",
        "    ax.set_xlabel('')\n",
        "    ax.set_ylabel('')\n",
        "    ax.set_facecolor(cmap(0))\n",
        "    ax.tick_params(labelbottom=False,labelleft=False)\n",
        "\n",
        "\n",
        "    plt.show()\n",
        "\n",
        "\n",
        "plot= interact(update_offensive_plot,\n",
        "         season=widgets.Dropdown(options=[20112012,20122013,20132014,20142015,20152016,20162017,20172018,20182019]),\n",
        "         stat=widgets.Dropdown(options=[\"Goals\",\"Shots\"]),\n",
        "         plot_type=widgets.Dropdown(options=[\"scatter plot\",\"heat map\"]),\n",
        "         name = widgets.Text())"
      ],
      "execution_count": null,
      "outputs": [
        {
          "output_type": "display_data",
          "data": {
            "application/vnd.jupyter.widget-view+json": {
              "model_id": "7fb6f4b339974759b41446eb3e2d936f",
              "version_minor": 0,
              "version_major": 2
            },
            "text/plain": [
              "interactive(children=(Dropdown(description='season', options=(20112012, 20122013, 20132014, 20142015, 20152016…"
            ]
          },
          "metadata": {
            "tags": []
          }
        }
      ]
    },
    {
      "cell_type": "markdown",
      "metadata": {
        "id": "GJEt4B0R8kra"
      },
      "source": [
        "# Game-byGame Scatter Plots"
      ]
    },
    {
      "cell_type": "code",
      "metadata": {
        "id": "PMpdsVsOcZwI"
      },
      "source": [
        "\n",
        "SelectedGameInfo = games.select('game_id','season','date_time','away_team_id','home_team_id').join(game_teams_stats.select('game_id','team_id'),'game_id').join(team_info,'team_id')\n",
        "#SelectedGameInfo.show()\n",
        "home_team_info = SelectedGameInfo.select('home_team_id','game_id','season','date_time','home_team_id','abbreviation').withColumnRenamed(\"home_team_id\",\"team_id_for\").join(game_plays, ['game_id','team_id_for']).select('game_id','season','date_time','abbreviation','event','st_x','st_y').cache()\n",
        "away_team_info = SelectedGameInfo.select('away_team_id','game_id','season','date_time','away_team_id','abbreviation').withColumnRenamed(\"away_team_id\",\"team_id_for\").join(game_plays, ['game_id','team_id_for']).select('game_id','season','date_time','abbreviation','event','st_x','st_y').cache()\n",
        "#home_team_info.show()\n",
        "#away_team_info.show()\n",
        "#SelectedGameData = SelectedGameInfo.select('game_id').join(game_plays.select('game_id','event','team_id_for','st_x','st_y'),'game_id').withColumnRenamed('team_id_for','team_id').filter(\"event = 'Shot'\")\n",
        "#home_team_data = home_team_info.filter(\"abbreviation = '{0}'\".format(given_home_abrv)).filter(\"date_time = '{0}'\".format(given_date))\n",
        "#home_team_data.show()\n",
        "#away_team_data = away_team_info.join(SelectedGameData, 'team_id').select('st_x','st_y')\n",
        "#home_team_DF = home_team_data.toPandas().astype(float)\n",
        "#away_team_DF = away_team_data.toPandas().astype(float).apply(lambda x: x*-1)"
      ],
      "execution_count": null,
      "outputs": []
    },
    {
      "cell_type": "code",
      "metadata": {
        "colab": {
          "base_uri": "https://localhost:8080/",
          "height": 795,
          "referenced_widgets": [
            "a741ebc2e6ed444bbc280937bd9e4cf6",
            "12be931bd1fc4e5daa7b7da8de678226",
            "c16d8f42f8814d2ba0d7ac5ef4c61d73",
            "f106f273630a4ab788da392fef997570",
            "180b9cf52ef34def8ffc9394761e399d",
            "025a4bbfc3254db28c2aeaf87ef23953",
            "a2d6f36213014ea1bc5aaaaec7285426",
            "eddb5985079148d791b4660ca274b8d5",
            "ab561c27e75b4e3f8c994abbb0ce491b",
            "7333e72ef99240769ef9ae572db39f7a",
            "e83e436011d647108f56c2973621c310",
            "9ba635b49a314328ae8b742a5a231b2e",
            "a2564681497c4c47972028befa6e45cf",
            "619a4198b9544eae9118ef9b40bb4f15",
            "9fe6eceab25946e395daf9a7a000b0c9",
            "ef995c18054a44699bf9722cd859ee06"
          ]
        },
        "id": "mT1VkOHdxkHG",
        "outputId": "676573ec-f6eb-4663-fc28-10f7b9ef4c8a"
      },
      "source": [
        "def update_game_scatterplot(given_home_abrv,given_away_abrv,given_date,given_event):\r\n",
        "  home_team_data = home_team_info.filter(\"abbreviation = '{0}'\".format(given_home_abrv)).filter(\"date_time = '{0}'\".format(given_date)).filter(\"event = '{0}'\".format(given_event)).select('st_x','st_y')\r\n",
        "  away_team_data = away_team_info.filter(\"abbreviation = '{0}'\".format(given_away_abrv)).filter(\"date_time = '{0}'\".format(given_date)).filter(\"event = '{0}'\".format(given_event)).select('st_x','st_y')\r\n",
        "\r\n",
        "  home_team_DF = home_team_data.toPandas().astype(float)\r\n",
        "  away_team_DF = away_team_data.toPandas().astype(float).apply(lambda x: x*-1)\r\n",
        "\r\n",
        "  plt.figure(figsize=(20,10))\r\n",
        "  h=plt.scatter(home_team_DF.st_x,home_team_DF.st_y)\r\n",
        "  a=plt.scatter(away_team_DF.st_x,away_team_DF.st_y)\r\n",
        "  plt.legend((h,a),(\"'{0}'\".format(given_home_abrv),\"'{0}'\".format(given_away_abrv)))\r\n",
        "  draw_rink()\r\n",
        "  plt.title(\"Plot of {0}s in {1} at {2}, {3}\".format(given_event, given_away_abrv, given_home_abrv, given_date),fontsize=40,y=1.07)\r\n",
        "  plt.suptitle(\"Locations adjusted such that home is always attacking left side of rink\",y=.92,fontsize=20)\r\n",
        "  plt.xlim(-100,100)\r\n",
        "  plt.ylim(-50,50)\r\n",
        "  plt.show()\r\n",
        "\r\n",
        "plot= interact(update_game_scatterplot,\r\n",
        "         given_home_abrv = widgets.Text(),\r\n",
        "         given_away_abrv = widgets.Text(),\r\n",
        "         given_date = widgets.Text(),\r\n",
        "         given_event = widgets.Dropdown(options=[\"Goal\",\"Shot\",\"Hit\",\"Giveaway\",\"Takeaway\"]) )\r\n"
      ],
      "execution_count": null,
      "outputs": [
        {
          "output_type": "display_data",
          "data": {
            "application/vnd.jupyter.widget-view+json": {
              "model_id": "a741ebc2e6ed444bbc280937bd9e4cf6",
              "version_minor": 0,
              "version_major": 2
            },
            "text/plain": [
              "interactive(children=(Text(value='', description='given_home_abrv'), Text(value='', description='given_away_ab…"
            ]
          },
          "metadata": {
            "tags": []
          }
        }
      ]
    },
    {
      "cell_type": "code",
      "metadata": {
        "id": "ocE31vIfs5TZ"
      },
      "source": [
        ""
      ],
      "execution_count": null,
      "outputs": []
    }
  ]
}